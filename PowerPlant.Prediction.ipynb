{
 "cells": [
  {
   "cell_type": "markdown",
   "id": "f8f5c5dd",
   "metadata": {},
   "source": [
    "Problem statement:\n",
    "\n",
    "-To predict Primary fuel\n",
    "\n",
    "-To predict capacity"
   ]
  },
  {
   "cell_type": "code",
   "execution_count": 20,
   "id": "d7e43848",
   "metadata": {},
   "outputs": [
    {
     "data": {
      "text/html": [
       "<div>\n",
       "<style scoped>\n",
       "    .dataframe tbody tr th:only-of-type {\n",
       "        vertical-align: middle;\n",
       "    }\n",
       "\n",
       "    .dataframe tbody tr th {\n",
       "        vertical-align: top;\n",
       "    }\n",
       "\n",
       "    .dataframe thead th {\n",
       "        text-align: right;\n",
       "    }\n",
       "</style>\n",
       "<table border=\"1\" class=\"dataframe\">\n",
       "  <thead>\n",
       "    <tr style=\"text-align: right;\">\n",
       "      <th></th>\n",
       "      <th>country</th>\n",
       "      <th>country_long</th>\n",
       "      <th>name</th>\n",
       "      <th>gppd_idnr</th>\n",
       "      <th>capacity_mw</th>\n",
       "      <th>latitude</th>\n",
       "      <th>longitude</th>\n",
       "      <th>primary_fuel</th>\n",
       "      <th>other_fuel1</th>\n",
       "      <th>other_fuel2</th>\n",
       "      <th>other_fuel3</th>\n",
       "      <th>commissioning_year</th>\n",
       "      <th>owner</th>\n",
       "      <th>source</th>\n",
       "      <th>url</th>\n",
       "      <th>geolocation_source</th>\n",
       "      <th>wepp_id</th>\n",
       "      <th>year_of_capacity_data</th>\n",
       "      <th>generation_gwh_2013</th>\n",
       "      <th>generation_gwh_2014</th>\n",
       "      <th>generation_gwh_2015</th>\n",
       "      <th>generation_gwh_2016</th>\n",
       "      <th>generation_gwh_2017</th>\n",
       "      <th>generation_gwh_2018</th>\n",
       "      <th>generation_gwh_2019</th>\n",
       "      <th>generation_data_source</th>\n",
       "      <th>estimated_generation_gwh</th>\n",
       "    </tr>\n",
       "  </thead>\n",
       "  <tbody>\n",
       "    <tr>\n",
       "      <th>0</th>\n",
       "      <td>IND</td>\n",
       "      <td>India</td>\n",
       "      <td>ACME Solar Tower</td>\n",
       "      <td>WRI1020239</td>\n",
       "      <td>2.5</td>\n",
       "      <td>28.1839</td>\n",
       "      <td>73.2407</td>\n",
       "      <td>Solar</td>\n",
       "      <td>NaN</td>\n",
       "      <td>NaN</td>\n",
       "      <td>NaN</td>\n",
       "      <td>2011.0</td>\n",
       "      <td>Solar Paces</td>\n",
       "      <td>National Renewable Energy Laboratory</td>\n",
       "      <td>http://www.nrel.gov/csp/solarpaces/project_det...</td>\n",
       "      <td>National Renewable Energy Laboratory</td>\n",
       "      <td>NaN</td>\n",
       "      <td>NaN</td>\n",
       "      <td>NaN</td>\n",
       "      <td>NaN</td>\n",
       "      <td>NaN</td>\n",
       "      <td>NaN</td>\n",
       "      <td>NaN</td>\n",
       "      <td>NaN</td>\n",
       "      <td>NaN</td>\n",
       "      <td>NaN</td>\n",
       "      <td>NaN</td>\n",
       "    </tr>\n",
       "    <tr>\n",
       "      <th>1</th>\n",
       "      <td>IND</td>\n",
       "      <td>India</td>\n",
       "      <td>ADITYA CEMENT WORKS</td>\n",
       "      <td>WRI1019881</td>\n",
       "      <td>98.0</td>\n",
       "      <td>24.7663</td>\n",
       "      <td>74.6090</td>\n",
       "      <td>Coal</td>\n",
       "      <td>NaN</td>\n",
       "      <td>NaN</td>\n",
       "      <td>NaN</td>\n",
       "      <td>NaN</td>\n",
       "      <td>Ultratech Cement ltd</td>\n",
       "      <td>Ultratech Cement ltd</td>\n",
       "      <td>http://www.ultratechcement.com/</td>\n",
       "      <td>WRI</td>\n",
       "      <td>NaN</td>\n",
       "      <td>NaN</td>\n",
       "      <td>NaN</td>\n",
       "      <td>NaN</td>\n",
       "      <td>NaN</td>\n",
       "      <td>NaN</td>\n",
       "      <td>NaN</td>\n",
       "      <td>NaN</td>\n",
       "      <td>NaN</td>\n",
       "      <td>NaN</td>\n",
       "      <td>NaN</td>\n",
       "    </tr>\n",
       "    <tr>\n",
       "      <th>2</th>\n",
       "      <td>IND</td>\n",
       "      <td>India</td>\n",
       "      <td>AES Saurashtra Windfarms</td>\n",
       "      <td>WRI1026669</td>\n",
       "      <td>39.2</td>\n",
       "      <td>21.9038</td>\n",
       "      <td>69.3732</td>\n",
       "      <td>Wind</td>\n",
       "      <td>NaN</td>\n",
       "      <td>NaN</td>\n",
       "      <td>NaN</td>\n",
       "      <td>NaN</td>\n",
       "      <td>AES</td>\n",
       "      <td>CDM</td>\n",
       "      <td>https://cdm.unfccc.int/Projects/DB/DNV-CUK1328...</td>\n",
       "      <td>WRI</td>\n",
       "      <td>NaN</td>\n",
       "      <td>NaN</td>\n",
       "      <td>NaN</td>\n",
       "      <td>NaN</td>\n",
       "      <td>NaN</td>\n",
       "      <td>NaN</td>\n",
       "      <td>NaN</td>\n",
       "      <td>NaN</td>\n",
       "      <td>NaN</td>\n",
       "      <td>NaN</td>\n",
       "      <td>NaN</td>\n",
       "    </tr>\n",
       "    <tr>\n",
       "      <th>3</th>\n",
       "      <td>IND</td>\n",
       "      <td>India</td>\n",
       "      <td>AGARTALA GT</td>\n",
       "      <td>IND0000001</td>\n",
       "      <td>135.0</td>\n",
       "      <td>23.8712</td>\n",
       "      <td>91.3602</td>\n",
       "      <td>Gas</td>\n",
       "      <td>NaN</td>\n",
       "      <td>NaN</td>\n",
       "      <td>NaN</td>\n",
       "      <td>2004.0</td>\n",
       "      <td>NaN</td>\n",
       "      <td>Central Electricity Authority</td>\n",
       "      <td>http://www.cea.nic.in/</td>\n",
       "      <td>WRI</td>\n",
       "      <td>NaN</td>\n",
       "      <td>2019.0</td>\n",
       "      <td>NaN</td>\n",
       "      <td>617.789264</td>\n",
       "      <td>843.747000</td>\n",
       "      <td>886.004428</td>\n",
       "      <td>663.774500</td>\n",
       "      <td>626.239128</td>\n",
       "      <td>NaN</td>\n",
       "      <td>Central Electricity Authority</td>\n",
       "      <td>NaN</td>\n",
       "    </tr>\n",
       "    <tr>\n",
       "      <th>4</th>\n",
       "      <td>IND</td>\n",
       "      <td>India</td>\n",
       "      <td>AKALTARA TPP</td>\n",
       "      <td>IND0000002</td>\n",
       "      <td>1800.0</td>\n",
       "      <td>21.9603</td>\n",
       "      <td>82.4091</td>\n",
       "      <td>Coal</td>\n",
       "      <td>Oil</td>\n",
       "      <td>NaN</td>\n",
       "      <td>NaN</td>\n",
       "      <td>2015.0</td>\n",
       "      <td>NaN</td>\n",
       "      <td>Central Electricity Authority</td>\n",
       "      <td>http://www.cea.nic.in/</td>\n",
       "      <td>WRI</td>\n",
       "      <td>NaN</td>\n",
       "      <td>2019.0</td>\n",
       "      <td>NaN</td>\n",
       "      <td>3035.550000</td>\n",
       "      <td>5916.370000</td>\n",
       "      <td>6243.000000</td>\n",
       "      <td>5385.579736</td>\n",
       "      <td>7279.000000</td>\n",
       "      <td>NaN</td>\n",
       "      <td>Central Electricity Authority</td>\n",
       "      <td>NaN</td>\n",
       "    </tr>\n",
       "    <tr>\n",
       "      <th>...</th>\n",
       "      <td>...</td>\n",
       "      <td>...</td>\n",
       "      <td>...</td>\n",
       "      <td>...</td>\n",
       "      <td>...</td>\n",
       "      <td>...</td>\n",
       "      <td>...</td>\n",
       "      <td>...</td>\n",
       "      <td>...</td>\n",
       "      <td>...</td>\n",
       "      <td>...</td>\n",
       "      <td>...</td>\n",
       "      <td>...</td>\n",
       "      <td>...</td>\n",
       "      <td>...</td>\n",
       "      <td>...</td>\n",
       "      <td>...</td>\n",
       "      <td>...</td>\n",
       "      <td>...</td>\n",
       "      <td>...</td>\n",
       "      <td>...</td>\n",
       "      <td>...</td>\n",
       "      <td>...</td>\n",
       "      <td>...</td>\n",
       "      <td>...</td>\n",
       "      <td>...</td>\n",
       "      <td>...</td>\n",
       "    </tr>\n",
       "    <tr>\n",
       "      <th>902</th>\n",
       "      <td>IND</td>\n",
       "      <td>India</td>\n",
       "      <td>YERMARUS TPP</td>\n",
       "      <td>IND0000513</td>\n",
       "      <td>1600.0</td>\n",
       "      <td>16.2949</td>\n",
       "      <td>77.3568</td>\n",
       "      <td>Coal</td>\n",
       "      <td>Oil</td>\n",
       "      <td>NaN</td>\n",
       "      <td>NaN</td>\n",
       "      <td>2016.0</td>\n",
       "      <td>NaN</td>\n",
       "      <td>Central Electricity Authority</td>\n",
       "      <td>http://www.cea.nic.in/</td>\n",
       "      <td>WRI</td>\n",
       "      <td>NaN</td>\n",
       "      <td>2019.0</td>\n",
       "      <td>NaN</td>\n",
       "      <td>NaN</td>\n",
       "      <td>0.994875</td>\n",
       "      <td>233.596650</td>\n",
       "      <td>865.400000</td>\n",
       "      <td>686.500000</td>\n",
       "      <td>NaN</td>\n",
       "      <td>Central Electricity Authority</td>\n",
       "      <td>NaN</td>\n",
       "    </tr>\n",
       "    <tr>\n",
       "      <th>903</th>\n",
       "      <td>IND</td>\n",
       "      <td>India</td>\n",
       "      <td>Yelesandra Solar Power Plant</td>\n",
       "      <td>WRI1026222</td>\n",
       "      <td>3.0</td>\n",
       "      <td>12.8932</td>\n",
       "      <td>78.1654</td>\n",
       "      <td>Solar</td>\n",
       "      <td>NaN</td>\n",
       "      <td>NaN</td>\n",
       "      <td>NaN</td>\n",
       "      <td>NaN</td>\n",
       "      <td>Karnataka Power Corporation Limited</td>\n",
       "      <td>Karnataka Power Corporation Limited</td>\n",
       "      <td>http://karnatakapower.com</td>\n",
       "      <td>Industry About</td>\n",
       "      <td>NaN</td>\n",
       "      <td>NaN</td>\n",
       "      <td>NaN</td>\n",
       "      <td>NaN</td>\n",
       "      <td>NaN</td>\n",
       "      <td>NaN</td>\n",
       "      <td>NaN</td>\n",
       "      <td>NaN</td>\n",
       "      <td>NaN</td>\n",
       "      <td>NaN</td>\n",
       "      <td>NaN</td>\n",
       "    </tr>\n",
       "    <tr>\n",
       "      <th>904</th>\n",
       "      <td>IND</td>\n",
       "      <td>India</td>\n",
       "      <td>Yelisirur wind power project</td>\n",
       "      <td>WRI1026776</td>\n",
       "      <td>25.5</td>\n",
       "      <td>15.2758</td>\n",
       "      <td>75.5811</td>\n",
       "      <td>Wind</td>\n",
       "      <td>NaN</td>\n",
       "      <td>NaN</td>\n",
       "      <td>NaN</td>\n",
       "      <td>NaN</td>\n",
       "      <td>NaN</td>\n",
       "      <td>CDM</td>\n",
       "      <td>https://cdm.unfccc.int/Projects/DB/TUEV-RHEIN1...</td>\n",
       "      <td>WRI</td>\n",
       "      <td>NaN</td>\n",
       "      <td>NaN</td>\n",
       "      <td>NaN</td>\n",
       "      <td>NaN</td>\n",
       "      <td>NaN</td>\n",
       "      <td>NaN</td>\n",
       "      <td>NaN</td>\n",
       "      <td>NaN</td>\n",
       "      <td>NaN</td>\n",
       "      <td>NaN</td>\n",
       "      <td>NaN</td>\n",
       "    </tr>\n",
       "    <tr>\n",
       "      <th>905</th>\n",
       "      <td>IND</td>\n",
       "      <td>India</td>\n",
       "      <td>ZAWAR MINES</td>\n",
       "      <td>WRI1019901</td>\n",
       "      <td>80.0</td>\n",
       "      <td>24.3500</td>\n",
       "      <td>73.7477</td>\n",
       "      <td>Coal</td>\n",
       "      <td>NaN</td>\n",
       "      <td>NaN</td>\n",
       "      <td>NaN</td>\n",
       "      <td>NaN</td>\n",
       "      <td>Hindustan Zinc ltd</td>\n",
       "      <td>Hindustan Zinc ltd</td>\n",
       "      <td>http://www.hzlindia.com/</td>\n",
       "      <td>WRI</td>\n",
       "      <td>NaN</td>\n",
       "      <td>NaN</td>\n",
       "      <td>NaN</td>\n",
       "      <td>NaN</td>\n",
       "      <td>NaN</td>\n",
       "      <td>NaN</td>\n",
       "      <td>NaN</td>\n",
       "      <td>NaN</td>\n",
       "      <td>NaN</td>\n",
       "      <td>NaN</td>\n",
       "      <td>NaN</td>\n",
       "    </tr>\n",
       "    <tr>\n",
       "      <th>906</th>\n",
       "      <td>IND</td>\n",
       "      <td>India</td>\n",
       "      <td>iEnergy Theni Wind Farm</td>\n",
       "      <td>WRI1026761</td>\n",
       "      <td>16.5</td>\n",
       "      <td>9.9344</td>\n",
       "      <td>77.4768</td>\n",
       "      <td>Wind</td>\n",
       "      <td>NaN</td>\n",
       "      <td>NaN</td>\n",
       "      <td>NaN</td>\n",
       "      <td>NaN</td>\n",
       "      <td>iEnergy Wind Farms</td>\n",
       "      <td>CDM</td>\n",
       "      <td>https://cdm.unfccc.int/Projects/DB/RWTUV134503...</td>\n",
       "      <td>WRI</td>\n",
       "      <td>NaN</td>\n",
       "      <td>NaN</td>\n",
       "      <td>NaN</td>\n",
       "      <td>NaN</td>\n",
       "      <td>NaN</td>\n",
       "      <td>NaN</td>\n",
       "      <td>NaN</td>\n",
       "      <td>NaN</td>\n",
       "      <td>NaN</td>\n",
       "      <td>NaN</td>\n",
       "      <td>NaN</td>\n",
       "    </tr>\n",
       "  </tbody>\n",
       "</table>\n",
       "<p>907 rows × 27 columns</p>\n",
       "</div>"
      ],
      "text/plain": [
       "    country country_long                          name   gppd_idnr  \\\n",
       "0       IND        India              ACME Solar Tower  WRI1020239   \n",
       "1       IND        India           ADITYA CEMENT WORKS  WRI1019881   \n",
       "2       IND        India      AES Saurashtra Windfarms  WRI1026669   \n",
       "3       IND        India                   AGARTALA GT  IND0000001   \n",
       "4       IND        India                  AKALTARA TPP  IND0000002   \n",
       "..      ...          ...                           ...         ...   \n",
       "902     IND        India                  YERMARUS TPP  IND0000513   \n",
       "903     IND        India  Yelesandra Solar Power Plant  WRI1026222   \n",
       "904     IND        India  Yelisirur wind power project  WRI1026776   \n",
       "905     IND        India                   ZAWAR MINES  WRI1019901   \n",
       "906     IND        India       iEnergy Theni Wind Farm  WRI1026761   \n",
       "\n",
       "     capacity_mw  latitude  longitude primary_fuel other_fuel1 other_fuel2  \\\n",
       "0            2.5   28.1839    73.2407        Solar         NaN         NaN   \n",
       "1           98.0   24.7663    74.6090         Coal         NaN         NaN   \n",
       "2           39.2   21.9038    69.3732         Wind         NaN         NaN   \n",
       "3          135.0   23.8712    91.3602          Gas         NaN         NaN   \n",
       "4         1800.0   21.9603    82.4091         Coal         Oil         NaN   \n",
       "..           ...       ...        ...          ...         ...         ...   \n",
       "902       1600.0   16.2949    77.3568         Coal         Oil         NaN   \n",
       "903          3.0   12.8932    78.1654        Solar         NaN         NaN   \n",
       "904         25.5   15.2758    75.5811         Wind         NaN         NaN   \n",
       "905         80.0   24.3500    73.7477         Coal         NaN         NaN   \n",
       "906         16.5    9.9344    77.4768         Wind         NaN         NaN   \n",
       "\n",
       "     other_fuel3  commissioning_year                                owner  \\\n",
       "0            NaN              2011.0                          Solar Paces   \n",
       "1            NaN                 NaN                 Ultratech Cement ltd   \n",
       "2            NaN                 NaN                                  AES   \n",
       "3            NaN              2004.0                                  NaN   \n",
       "4            NaN              2015.0                                  NaN   \n",
       "..           ...                 ...                                  ...   \n",
       "902          NaN              2016.0                                  NaN   \n",
       "903          NaN                 NaN  Karnataka Power Corporation Limited   \n",
       "904          NaN                 NaN                                  NaN   \n",
       "905          NaN                 NaN                   Hindustan Zinc ltd   \n",
       "906          NaN                 NaN                   iEnergy Wind Farms   \n",
       "\n",
       "                                   source  \\\n",
       "0    National Renewable Energy Laboratory   \n",
       "1                    Ultratech Cement ltd   \n",
       "2                                     CDM   \n",
       "3           Central Electricity Authority   \n",
       "4           Central Electricity Authority   \n",
       "..                                    ...   \n",
       "902         Central Electricity Authority   \n",
       "903   Karnataka Power Corporation Limited   \n",
       "904                                   CDM   \n",
       "905                    Hindustan Zinc ltd   \n",
       "906                                   CDM   \n",
       "\n",
       "                                                   url  \\\n",
       "0    http://www.nrel.gov/csp/solarpaces/project_det...   \n",
       "1                      http://www.ultratechcement.com/   \n",
       "2    https://cdm.unfccc.int/Projects/DB/DNV-CUK1328...   \n",
       "3                               http://www.cea.nic.in/   \n",
       "4                               http://www.cea.nic.in/   \n",
       "..                                                 ...   \n",
       "902                             http://www.cea.nic.in/   \n",
       "903                          http://karnatakapower.com   \n",
       "904  https://cdm.unfccc.int/Projects/DB/TUEV-RHEIN1...   \n",
       "905                           http://www.hzlindia.com/   \n",
       "906  https://cdm.unfccc.int/Projects/DB/RWTUV134503...   \n",
       "\n",
       "                       geolocation_source  wepp_id  year_of_capacity_data  \\\n",
       "0    National Renewable Energy Laboratory      NaN                    NaN   \n",
       "1                                     WRI      NaN                    NaN   \n",
       "2                                     WRI      NaN                    NaN   \n",
       "3                                     WRI      NaN                 2019.0   \n",
       "4                                     WRI      NaN                 2019.0   \n",
       "..                                    ...      ...                    ...   \n",
       "902                                   WRI      NaN                 2019.0   \n",
       "903                        Industry About      NaN                    NaN   \n",
       "904                                   WRI      NaN                    NaN   \n",
       "905                                   WRI      NaN                    NaN   \n",
       "906                                   WRI      NaN                    NaN   \n",
       "\n",
       "     generation_gwh_2013  generation_gwh_2014  generation_gwh_2015  \\\n",
       "0                    NaN                  NaN                  NaN   \n",
       "1                    NaN                  NaN                  NaN   \n",
       "2                    NaN                  NaN                  NaN   \n",
       "3                    NaN           617.789264           843.747000   \n",
       "4                    NaN          3035.550000          5916.370000   \n",
       "..                   ...                  ...                  ...   \n",
       "902                  NaN                  NaN             0.994875   \n",
       "903                  NaN                  NaN                  NaN   \n",
       "904                  NaN                  NaN                  NaN   \n",
       "905                  NaN                  NaN                  NaN   \n",
       "906                  NaN                  NaN                  NaN   \n",
       "\n",
       "     generation_gwh_2016  generation_gwh_2017  generation_gwh_2018  \\\n",
       "0                    NaN                  NaN                  NaN   \n",
       "1                    NaN                  NaN                  NaN   \n",
       "2                    NaN                  NaN                  NaN   \n",
       "3             886.004428           663.774500           626.239128   \n",
       "4            6243.000000          5385.579736          7279.000000   \n",
       "..                   ...                  ...                  ...   \n",
       "902           233.596650           865.400000           686.500000   \n",
       "903                  NaN                  NaN                  NaN   \n",
       "904                  NaN                  NaN                  NaN   \n",
       "905                  NaN                  NaN                  NaN   \n",
       "906                  NaN                  NaN                  NaN   \n",
       "\n",
       "     generation_gwh_2019         generation_data_source  \\\n",
       "0                    NaN                            NaN   \n",
       "1                    NaN                            NaN   \n",
       "2                    NaN                            NaN   \n",
       "3                    NaN  Central Electricity Authority   \n",
       "4                    NaN  Central Electricity Authority   \n",
       "..                   ...                            ...   \n",
       "902                  NaN  Central Electricity Authority   \n",
       "903                  NaN                            NaN   \n",
       "904                  NaN                            NaN   \n",
       "905                  NaN                            NaN   \n",
       "906                  NaN                            NaN   \n",
       "\n",
       "     estimated_generation_gwh  \n",
       "0                         NaN  \n",
       "1                         NaN  \n",
       "2                         NaN  \n",
       "3                         NaN  \n",
       "4                         NaN  \n",
       "..                        ...  \n",
       "902                       NaN  \n",
       "903                       NaN  \n",
       "904                       NaN  \n",
       "905                       NaN  \n",
       "906                       NaN  \n",
       "\n",
       "[907 rows x 27 columns]"
      ]
     },
     "execution_count": 20,
     "metadata": {},
     "output_type": "execute_result"
    }
   ],
   "source": [
    "#loading the dataset\n",
    "\n",
    "import pandas as pd\n",
    "import numpy as np\n",
    "\n",
    "df=pd.read_csv(\"powerplant.csv\")\n",
    "df"
   ]
  },
  {
   "cell_type": "markdown",
   "id": "4235a3ad",
   "metadata": {},
   "source": [
    "# Preprocessing:"
   ]
  },
  {
   "cell_type": "code",
   "execution_count": 2,
   "id": "d51b608f",
   "metadata": {},
   "outputs": [
    {
     "data": {
      "text/html": [
       "<div>\n",
       "<style scoped>\n",
       "    .dataframe tbody tr th:only-of-type {\n",
       "        vertical-align: middle;\n",
       "    }\n",
       "\n",
       "    .dataframe tbody tr th {\n",
       "        vertical-align: top;\n",
       "    }\n",
       "\n",
       "    .dataframe thead th {\n",
       "        text-align: right;\n",
       "    }\n",
       "</style>\n",
       "<table border=\"1\" class=\"dataframe\">\n",
       "  <thead>\n",
       "    <tr style=\"text-align: right;\">\n",
       "      <th></th>\n",
       "      <th>country</th>\n",
       "      <th>country_long</th>\n",
       "      <th>name</th>\n",
       "      <th>gppd_idnr</th>\n",
       "      <th>capacity_mw</th>\n",
       "      <th>latitude</th>\n",
       "      <th>longitude</th>\n",
       "      <th>primary_fuel</th>\n",
       "      <th>other_fuel1</th>\n",
       "      <th>other_fuel2</th>\n",
       "      <th>other_fuel3</th>\n",
       "      <th>commissioning_year</th>\n",
       "      <th>owner</th>\n",
       "      <th>source</th>\n",
       "      <th>url</th>\n",
       "      <th>geolocation_source</th>\n",
       "      <th>wepp_id</th>\n",
       "      <th>year_of_capacity_data</th>\n",
       "      <th>generation_gwh_2013</th>\n",
       "      <th>generation_gwh_2014</th>\n",
       "      <th>generation_gwh_2015</th>\n",
       "      <th>generation_gwh_2016</th>\n",
       "      <th>generation_gwh_2017</th>\n",
       "      <th>generation_gwh_2018</th>\n",
       "      <th>generation_gwh_2019</th>\n",
       "      <th>generation_data_source</th>\n",
       "      <th>estimated_generation_gwh</th>\n",
       "    </tr>\n",
       "  </thead>\n",
       "  <tbody>\n",
       "    <tr>\n",
       "      <th>187</th>\n",
       "      <td>IND</td>\n",
       "      <td>India</td>\n",
       "      <td>DURG SPONGE IRON</td>\n",
       "      <td>WRI1019998</td>\n",
       "      <td>12.8</td>\n",
       "      <td>21.1878</td>\n",
       "      <td>81.2099</td>\n",
       "      <td>Coal</td>\n",
       "      <td>NaN</td>\n",
       "      <td>NaN</td>\n",
       "      <td>NaN</td>\n",
       "      <td>NaN</td>\n",
       "      <td>Jai Industries ltd</td>\n",
       "      <td>Jai Industries ltd</td>\n",
       "      <td>https://www.jaibalajigroup.com/power.html</td>\n",
       "      <td>WRI</td>\n",
       "      <td>NaN</td>\n",
       "      <td>NaN</td>\n",
       "      <td>NaN</td>\n",
       "      <td>NaN</td>\n",
       "      <td>NaN</td>\n",
       "      <td>NaN</td>\n",
       "      <td>NaN</td>\n",
       "      <td>NaN</td>\n",
       "      <td>NaN</td>\n",
       "      <td>NaN</td>\n",
       "      <td>NaN</td>\n",
       "    </tr>\n",
       "    <tr>\n",
       "      <th>802</th>\n",
       "      <td>IND</td>\n",
       "      <td>India</td>\n",
       "      <td>THAL WORKS</td>\n",
       "      <td>WRI1019989</td>\n",
       "      <td>30.0</td>\n",
       "      <td>18.7026</td>\n",
       "      <td>72.8709</td>\n",
       "      <td>Gas</td>\n",
       "      <td>NaN</td>\n",
       "      <td>NaN</td>\n",
       "      <td>NaN</td>\n",
       "      <td>NaN</td>\n",
       "      <td>Rashtriya &amp; fert</td>\n",
       "      <td>Rashtriya &amp; fert</td>\n",
       "      <td>http://www.rcfltd.com/</td>\n",
       "      <td>WRI</td>\n",
       "      <td>NaN</td>\n",
       "      <td>NaN</td>\n",
       "      <td>NaN</td>\n",
       "      <td>NaN</td>\n",
       "      <td>NaN</td>\n",
       "      <td>NaN</td>\n",
       "      <td>NaN</td>\n",
       "      <td>NaN</td>\n",
       "      <td>NaN</td>\n",
       "      <td>NaN</td>\n",
       "      <td>NaN</td>\n",
       "    </tr>\n",
       "    <tr>\n",
       "      <th>502</th>\n",
       "      <td>IND</td>\n",
       "      <td>India</td>\n",
       "      <td>Megha Solar Plant</td>\n",
       "      <td>WRI1020245</td>\n",
       "      <td>50.0</td>\n",
       "      <td>NaN</td>\n",
       "      <td>NaN</td>\n",
       "      <td>Solar</td>\n",
       "      <td>NaN</td>\n",
       "      <td>NaN</td>\n",
       "      <td>NaN</td>\n",
       "      <td>2014.0</td>\n",
       "      <td>Megha Engineering and Infrastructure</td>\n",
       "      <td>National Renewable Energy Laboratory</td>\n",
       "      <td>http://www.nrel.gov/csp/solarpaces/project_det...</td>\n",
       "      <td>NaN</td>\n",
       "      <td>NaN</td>\n",
       "      <td>NaN</td>\n",
       "      <td>NaN</td>\n",
       "      <td>NaN</td>\n",
       "      <td>NaN</td>\n",
       "      <td>NaN</td>\n",
       "      <td>NaN</td>\n",
       "      <td>NaN</td>\n",
       "      <td>NaN</td>\n",
       "      <td>NaN</td>\n",
       "      <td>NaN</td>\n",
       "    </tr>\n",
       "    <tr>\n",
       "      <th>631</th>\n",
       "      <td>IND</td>\n",
       "      <td>India</td>\n",
       "      <td>RAJPURA DARIBA MINE</td>\n",
       "      <td>WRI1019897</td>\n",
       "      <td>160.0</td>\n",
       "      <td>24.9643</td>\n",
       "      <td>74.1197</td>\n",
       "      <td>Coal</td>\n",
       "      <td>NaN</td>\n",
       "      <td>NaN</td>\n",
       "      <td>NaN</td>\n",
       "      <td>NaN</td>\n",
       "      <td>Hindustan Zinc ltd</td>\n",
       "      <td>Hindustan Zinc ltd</td>\n",
       "      <td>http://www.hzlindia.com/</td>\n",
       "      <td>WRI</td>\n",
       "      <td>NaN</td>\n",
       "      <td>NaN</td>\n",
       "      <td>NaN</td>\n",
       "      <td>NaN</td>\n",
       "      <td>NaN</td>\n",
       "      <td>NaN</td>\n",
       "      <td>NaN</td>\n",
       "      <td>NaN</td>\n",
       "      <td>NaN</td>\n",
       "      <td>NaN</td>\n",
       "      <td>NaN</td>\n",
       "    </tr>\n",
       "    <tr>\n",
       "      <th>357</th>\n",
       "      <td>IND</td>\n",
       "      <td>India</td>\n",
       "      <td>KOLLEGAL SUGAR</td>\n",
       "      <td>WRI1019922</td>\n",
       "      <td>16.0</td>\n",
       "      <td>12.1056</td>\n",
       "      <td>76.7606</td>\n",
       "      <td>Biomass</td>\n",
       "      <td>NaN</td>\n",
       "      <td>NaN</td>\n",
       "      <td>NaN</td>\n",
       "      <td>NaN</td>\n",
       "      <td>Bannari Sugars ltd</td>\n",
       "      <td>Bannari Sugars ltd</td>\n",
       "      <td>http://www.bannari.com/sugar.html</td>\n",
       "      <td>WRI</td>\n",
       "      <td>NaN</td>\n",
       "      <td>NaN</td>\n",
       "      <td>NaN</td>\n",
       "      <td>NaN</td>\n",
       "      <td>NaN</td>\n",
       "      <td>NaN</td>\n",
       "      <td>NaN</td>\n",
       "      <td>NaN</td>\n",
       "      <td>NaN</td>\n",
       "      <td>NaN</td>\n",
       "      <td>NaN</td>\n",
       "    </tr>\n",
       "    <tr>\n",
       "      <th>449</th>\n",
       "      <td>IND</td>\n",
       "      <td>India</td>\n",
       "      <td>MAHATMA GANDHI TPP</td>\n",
       "      <td>IND0000248</td>\n",
       "      <td>1320.0</td>\n",
       "      <td>28.4900</td>\n",
       "      <td>76.3510</td>\n",
       "      <td>Coal</td>\n",
       "      <td>Oil</td>\n",
       "      <td>NaN</td>\n",
       "      <td>NaN</td>\n",
       "      <td>2012.0</td>\n",
       "      <td>NaN</td>\n",
       "      <td>Central Electricity Authority</td>\n",
       "      <td>http://www.cea.nic.in/</td>\n",
       "      <td>WRI</td>\n",
       "      <td>NaN</td>\n",
       "      <td>2019.0</td>\n",
       "      <td>NaN</td>\n",
       "      <td>6147.80000</td>\n",
       "      <td>4638.57000</td>\n",
       "      <td>2709.41000</td>\n",
       "      <td>6889.57000</td>\n",
       "      <td>6435.0900</td>\n",
       "      <td>NaN</td>\n",
       "      <td>Central Electricity Authority</td>\n",
       "      <td>NaN</td>\n",
       "    </tr>\n",
       "    <tr>\n",
       "      <th>152</th>\n",
       "      <td>IND</td>\n",
       "      <td>India</td>\n",
       "      <td>CORE GREEN SUGAR</td>\n",
       "      <td>WRI1019911</td>\n",
       "      <td>24.0</td>\n",
       "      <td>16.5471</td>\n",
       "      <td>77.0825</td>\n",
       "      <td>Biomass</td>\n",
       "      <td>NaN</td>\n",
       "      <td>NaN</td>\n",
       "      <td>NaN</td>\n",
       "      <td>NaN</td>\n",
       "      <td>Core Fuels ltd</td>\n",
       "      <td>Core Fuels ltd</td>\n",
       "      <td>http://www.coregreen.in/</td>\n",
       "      <td>WRI</td>\n",
       "      <td>NaN</td>\n",
       "      <td>NaN</td>\n",
       "      <td>NaN</td>\n",
       "      <td>NaN</td>\n",
       "      <td>NaN</td>\n",
       "      <td>NaN</td>\n",
       "      <td>NaN</td>\n",
       "      <td>NaN</td>\n",
       "      <td>NaN</td>\n",
       "      <td>NaN</td>\n",
       "      <td>NaN</td>\n",
       "    </tr>\n",
       "    <tr>\n",
       "      <th>275</th>\n",
       "      <td>IND</td>\n",
       "      <td>India</td>\n",
       "      <td>IEPL  BELA TPP</td>\n",
       "      <td>IND0000150</td>\n",
       "      <td>270.0</td>\n",
       "      <td>20.8102</td>\n",
       "      <td>79.0556</td>\n",
       "      <td>Coal</td>\n",
       "      <td>Oil</td>\n",
       "      <td>NaN</td>\n",
       "      <td>NaN</td>\n",
       "      <td>2013.0</td>\n",
       "      <td>NaN</td>\n",
       "      <td>Central Electricity Authority</td>\n",
       "      <td>http://www.cea.nic.in/</td>\n",
       "      <td>WRI</td>\n",
       "      <td>NaN</td>\n",
       "      <td>2019.0</td>\n",
       "      <td>NaN</td>\n",
       "      <td>0.00000</td>\n",
       "      <td>0.00000</td>\n",
       "      <td>0.00000</td>\n",
       "      <td>72.82500</td>\n",
       "      <td>135.4910</td>\n",
       "      <td>NaN</td>\n",
       "      <td>Central Electricity Authority</td>\n",
       "      <td>NaN</td>\n",
       "    </tr>\n",
       "    <tr>\n",
       "      <th>452</th>\n",
       "      <td>IND</td>\n",
       "      <td>India</td>\n",
       "      <td>MAHUL REFINERY</td>\n",
       "      <td>WRI1019967</td>\n",
       "      <td>22.0</td>\n",
       "      <td>19.0162</td>\n",
       "      <td>72.8963</td>\n",
       "      <td>Oil</td>\n",
       "      <td>NaN</td>\n",
       "      <td>NaN</td>\n",
       "      <td>NaN</td>\n",
       "      <td>NaN</td>\n",
       "      <td>Bharat Corp ltd</td>\n",
       "      <td>Bharat Corp ltd</td>\n",
       "      <td>https://bharatpetroleum.com/</td>\n",
       "      <td>WRI</td>\n",
       "      <td>NaN</td>\n",
       "      <td>NaN</td>\n",
       "      <td>NaN</td>\n",
       "      <td>NaN</td>\n",
       "      <td>NaN</td>\n",
       "      <td>NaN</td>\n",
       "      <td>NaN</td>\n",
       "      <td>NaN</td>\n",
       "      <td>NaN</td>\n",
       "      <td>NaN</td>\n",
       "      <td>NaN</td>\n",
       "    </tr>\n",
       "    <tr>\n",
       "      <th>370</th>\n",
       "      <td>IND</td>\n",
       "      <td>India</td>\n",
       "      <td>KOTESHWAR</td>\n",
       "      <td>IND0000214</td>\n",
       "      <td>400.0</td>\n",
       "      <td>30.2594</td>\n",
       "      <td>78.4971</td>\n",
       "      <td>Hydro</td>\n",
       "      <td>NaN</td>\n",
       "      <td>NaN</td>\n",
       "      <td>NaN</td>\n",
       "      <td>2011.0</td>\n",
       "      <td>NaN</td>\n",
       "      <td>Central Electricity Authority</td>\n",
       "      <td>http://www.cea.nic.in/</td>\n",
       "      <td>WRI</td>\n",
       "      <td>NaN</td>\n",
       "      <td>2019.0</td>\n",
       "      <td>NaN</td>\n",
       "      <td>1204.11915</td>\n",
       "      <td>1241.80975</td>\n",
       "      <td>1218.42725</td>\n",
       "      <td>1214.22835</td>\n",
       "      <td>1217.7208</td>\n",
       "      <td>NaN</td>\n",
       "      <td>Central Electricity Authority</td>\n",
       "      <td>NaN</td>\n",
       "    </tr>\n",
       "  </tbody>\n",
       "</table>\n",
       "</div>"
      ],
      "text/plain": [
       "    country country_long                 name   gppd_idnr  capacity_mw  \\\n",
       "187     IND        India     DURG SPONGE IRON  WRI1019998         12.8   \n",
       "802     IND        India           THAL WORKS  WRI1019989         30.0   \n",
       "502     IND        India    Megha Solar Plant  WRI1020245         50.0   \n",
       "631     IND        India  RAJPURA DARIBA MINE  WRI1019897        160.0   \n",
       "357     IND        India       KOLLEGAL SUGAR  WRI1019922         16.0   \n",
       "449     IND        India   MAHATMA GANDHI TPP  IND0000248       1320.0   \n",
       "152     IND        India     CORE GREEN SUGAR  WRI1019911         24.0   \n",
       "275     IND        India       IEPL  BELA TPP  IND0000150        270.0   \n",
       "452     IND        India       MAHUL REFINERY  WRI1019967         22.0   \n",
       "370     IND        India            KOTESHWAR  IND0000214        400.0   \n",
       "\n",
       "     latitude  longitude primary_fuel other_fuel1 other_fuel2  other_fuel3  \\\n",
       "187   21.1878    81.2099         Coal         NaN         NaN          NaN   \n",
       "802   18.7026    72.8709          Gas         NaN         NaN          NaN   \n",
       "502       NaN        NaN        Solar         NaN         NaN          NaN   \n",
       "631   24.9643    74.1197         Coal         NaN         NaN          NaN   \n",
       "357   12.1056    76.7606      Biomass         NaN         NaN          NaN   \n",
       "449   28.4900    76.3510         Coal         Oil         NaN          NaN   \n",
       "152   16.5471    77.0825      Biomass         NaN         NaN          NaN   \n",
       "275   20.8102    79.0556         Coal         Oil         NaN          NaN   \n",
       "452   19.0162    72.8963          Oil         NaN         NaN          NaN   \n",
       "370   30.2594    78.4971        Hydro         NaN         NaN          NaN   \n",
       "\n",
       "     commissioning_year                                 owner  \\\n",
       "187                 NaN                    Jai Industries ltd   \n",
       "802                 NaN                      Rashtriya & fert   \n",
       "502              2014.0  Megha Engineering and Infrastructure   \n",
       "631                 NaN                    Hindustan Zinc ltd   \n",
       "357                 NaN                    Bannari Sugars ltd   \n",
       "449              2012.0                                   NaN   \n",
       "152                 NaN                        Core Fuels ltd   \n",
       "275              2013.0                                   NaN   \n",
       "452                 NaN                       Bharat Corp ltd   \n",
       "370              2011.0                                   NaN   \n",
       "\n",
       "                                   source  \\\n",
       "187                    Jai Industries ltd   \n",
       "802                      Rashtriya & fert   \n",
       "502  National Renewable Energy Laboratory   \n",
       "631                    Hindustan Zinc ltd   \n",
       "357                    Bannari Sugars ltd   \n",
       "449         Central Electricity Authority   \n",
       "152                        Core Fuels ltd   \n",
       "275         Central Electricity Authority   \n",
       "452                       Bharat Corp ltd   \n",
       "370         Central Electricity Authority   \n",
       "\n",
       "                                                   url geolocation_source  \\\n",
       "187          https://www.jaibalajigroup.com/power.html                WRI   \n",
       "802                             http://www.rcfltd.com/                WRI   \n",
       "502  http://www.nrel.gov/csp/solarpaces/project_det...                NaN   \n",
       "631                           http://www.hzlindia.com/                WRI   \n",
       "357                  http://www.bannari.com/sugar.html                WRI   \n",
       "449                             http://www.cea.nic.in/                WRI   \n",
       "152                           http://www.coregreen.in/                WRI   \n",
       "275                             http://www.cea.nic.in/                WRI   \n",
       "452                       https://bharatpetroleum.com/                WRI   \n",
       "370                             http://www.cea.nic.in/                WRI   \n",
       "\n",
       "     wepp_id  year_of_capacity_data  generation_gwh_2013  generation_gwh_2014  \\\n",
       "187      NaN                    NaN                  NaN                  NaN   \n",
       "802      NaN                    NaN                  NaN                  NaN   \n",
       "502      NaN                    NaN                  NaN                  NaN   \n",
       "631      NaN                    NaN                  NaN                  NaN   \n",
       "357      NaN                    NaN                  NaN                  NaN   \n",
       "449      NaN                 2019.0                  NaN           6147.80000   \n",
       "152      NaN                    NaN                  NaN                  NaN   \n",
       "275      NaN                 2019.0                  NaN              0.00000   \n",
       "452      NaN                    NaN                  NaN                  NaN   \n",
       "370      NaN                 2019.0                  NaN           1204.11915   \n",
       "\n",
       "     generation_gwh_2015  generation_gwh_2016  generation_gwh_2017  \\\n",
       "187                  NaN                  NaN                  NaN   \n",
       "802                  NaN                  NaN                  NaN   \n",
       "502                  NaN                  NaN                  NaN   \n",
       "631                  NaN                  NaN                  NaN   \n",
       "357                  NaN                  NaN                  NaN   \n",
       "449           4638.57000           2709.41000           6889.57000   \n",
       "152                  NaN                  NaN                  NaN   \n",
       "275              0.00000              0.00000             72.82500   \n",
       "452                  NaN                  NaN                  NaN   \n",
       "370           1241.80975           1218.42725           1214.22835   \n",
       "\n",
       "     generation_gwh_2018  generation_gwh_2019         generation_data_source  \\\n",
       "187                  NaN                  NaN                            NaN   \n",
       "802                  NaN                  NaN                            NaN   \n",
       "502                  NaN                  NaN                            NaN   \n",
       "631                  NaN                  NaN                            NaN   \n",
       "357                  NaN                  NaN                            NaN   \n",
       "449            6435.0900                  NaN  Central Electricity Authority   \n",
       "152                  NaN                  NaN                            NaN   \n",
       "275             135.4910                  NaN  Central Electricity Authority   \n",
       "452                  NaN                  NaN                            NaN   \n",
       "370            1217.7208                  NaN  Central Electricity Authority   \n",
       "\n",
       "     estimated_generation_gwh  \n",
       "187                       NaN  \n",
       "802                       NaN  \n",
       "502                       NaN  \n",
       "631                       NaN  \n",
       "357                       NaN  \n",
       "449                       NaN  \n",
       "152                       NaN  \n",
       "275                       NaN  \n",
       "452                       NaN  \n",
       "370                       NaN  "
      ]
     },
     "execution_count": 2,
     "metadata": {},
     "output_type": "execute_result"
    }
   ],
   "source": [
    "pd.set_option('display.max_columns',None)\n",
    "df.sample(10)"
   ]
  },
  {
   "cell_type": "markdown",
   "id": "a717d117",
   "metadata": {},
   "source": [
    "- The dataset have many null values present \n",
    "- Country , Country_long is one thing only as the dataset is for INDIA only\n",
    "- Dataset has some not useful variables for building model like owner , source , url etc\n"
   ]
  },
  {
   "cell_type": "code",
   "execution_count": 4,
   "id": "3101c224",
   "metadata": {},
   "outputs": [
    {
     "data": {
      "text/plain": [
       "(907, 27)"
      ]
     },
     "execution_count": 4,
     "metadata": {},
     "output_type": "execute_result"
    }
   ],
   "source": [
    "df.shape"
   ]
  },
  {
   "cell_type": "code",
   "execution_count": 3,
   "id": "3666bb62",
   "metadata": {},
   "outputs": [
    {
     "data": {
      "text/plain": [
       "country                       0\n",
       "country_long                  0\n",
       "name                          0\n",
       "gppd_idnr                     0\n",
       "capacity_mw                   0\n",
       "latitude                     46\n",
       "longitude                    46\n",
       "primary_fuel                  0\n",
       "other_fuel1                 709\n",
       "other_fuel2                 906\n",
       "other_fuel3                 907\n",
       "commissioning_year          380\n",
       "owner                       565\n",
       "source                        0\n",
       "url                           0\n",
       "geolocation_source           19\n",
       "wepp_id                     907\n",
       "year_of_capacity_data       388\n",
       "generation_gwh_2013         907\n",
       "generation_gwh_2014         509\n",
       "generation_gwh_2015         485\n",
       "generation_gwh_2016         473\n",
       "generation_gwh_2017         467\n",
       "generation_gwh_2018         459\n",
       "generation_gwh_2019         907\n",
       "generation_data_source      458\n",
       "estimated_generation_gwh    907\n",
       "dtype: int64"
      ]
     },
     "execution_count": 3,
     "metadata": {},
     "output_type": "execute_result"
    }
   ],
   "source": [
    "#lets first check for missing values\n",
    "\n",
    "df.isnull().sum()"
   ]
  },
  {
   "cell_type": "markdown",
   "id": "0db2d52e",
   "metadata": {},
   "source": [
    "- other_fuel1 , other_fuel2 , other_fuel3, wepp_id , generation_gwh_2013 ,  generation_gwh_2019 , estimated_generation_gwh have more than 80% missing values present there is no point in filling those null values\n",
    "- other variables too have more than or around 50% null values , so if we try to use imputation technique our data might become biased\n",
    "- so we are going to drop all the null values from the dataset\n"
   ]
  },
  {
   "cell_type": "code",
   "execution_count": 5,
   "id": "9acd3beb",
   "metadata": {},
   "outputs": [],
   "source": [
    "#importing some libraries\n",
    "\n",
    "import seaborn as sns\n",
    "import matplotlib.pyplot as plt\n",
    "import warnings\n",
    "warnings.filterwarnings('ignore')"
   ]
  },
  {
   "cell_type": "code",
   "execution_count": 6,
   "id": "a5de5a5f",
   "metadata": {},
   "outputs": [
    {
     "data": {
      "text/plain": [
       "<AxesSubplot:>"
      ]
     },
     "execution_count": 6,
     "metadata": {},
     "output_type": "execute_result"
    },
    {
     "data": {
      "image/png": "[encoded data removed]",
      "text/plain": [
       "<Figure size 432x288 with 2 Axes>"
      ]
     },
     "metadata": {
      "needs_background": "light"
     },
     "output_type": "display_data"
    }
   ],
   "source": [
    "sns.heatmap(df.isnull())"
   ]
  },
  {
   "cell_type": "code",
   "execution_count": 21,
   "id": "20e83dd9",
   "metadata": {},
   "outputs": [],
   "source": [
    "#dropping variables with almost all null values\n",
    "\n",
    "df.drop(['other_fuel1' , 'other_fuel2' , 'other_fuel3' , 'generation_gwh_2013' , 'wepp_id' , 'generation_gwh_2019' , 'estimated_generation_gwh'],axis=1,inplace=True)"
   ]
  },
  {
   "cell_type": "code",
   "execution_count": 22,
   "id": "e8a12dce",
   "metadata": {},
   "outputs": [
    {
     "data": {
      "text/plain": [
       "country                     0\n",
       "country_long                0\n",
       "name                        0\n",
       "gppd_idnr                   0\n",
       "capacity_mw                 0\n",
       "latitude                   46\n",
       "longitude                  46\n",
       "primary_fuel                0\n",
       "commissioning_year        380\n",
       "owner                     565\n",
       "source                      0\n",
       "url                         0\n",
       "geolocation_source         19\n",
       "year_of_capacity_data     388\n",
       "generation_gwh_2014       509\n",
       "generation_gwh_2015       485\n",
       "generation_gwh_2016       473\n",
       "generation_gwh_2017       467\n",
       "generation_gwh_2018       459\n",
       "generation_data_source    458\n",
       "dtype: int64"
      ]
     },
     "execution_count": 22,
     "metadata": {},
     "output_type": "execute_result"
    }
   ],
   "source": [
    "#checking again for null values\n",
    "\n",
    "df.isnull().sum()"
   ]
  },
  {
   "cell_type": "code",
   "execution_count": 23,
   "id": "3b4b1187",
   "metadata": {},
   "outputs": [
    {
     "data": {
      "text/html": [
       "<div>\n",
       "<style scoped>\n",
       "    .dataframe tbody tr th:only-of-type {\n",
       "        vertical-align: middle;\n",
       "    }\n",
       "\n",
       "    .dataframe tbody tr th {\n",
       "        vertical-align: top;\n",
       "    }\n",
       "\n",
       "    .dataframe thead th {\n",
       "        text-align: right;\n",
       "    }\n",
       "</style>\n",
       "<table border=\"1\" class=\"dataframe\">\n",
       "  <thead>\n",
       "    <tr style=\"text-align: right;\">\n",
       "      <th></th>\n",
       "      <th>country</th>\n",
       "      <th>country_long</th>\n",
       "      <th>name</th>\n",
       "      <th>gppd_idnr</th>\n",
       "      <th>capacity_mw</th>\n",
       "      <th>latitude</th>\n",
       "      <th>longitude</th>\n",
       "      <th>primary_fuel</th>\n",
       "      <th>commissioning_year</th>\n",
       "      <th>owner</th>\n",
       "      <th>source</th>\n",
       "      <th>url</th>\n",
       "      <th>geolocation_source</th>\n",
       "      <th>year_of_capacity_data</th>\n",
       "      <th>generation_gwh_2014</th>\n",
       "      <th>generation_gwh_2015</th>\n",
       "      <th>generation_gwh_2016</th>\n",
       "      <th>generation_gwh_2017</th>\n",
       "      <th>generation_gwh_2018</th>\n",
       "      <th>generation_data_source</th>\n",
       "    </tr>\n",
       "  </thead>\n",
       "  <tbody>\n",
       "    <tr>\n",
       "      <th>258</th>\n",
       "      <td>IND</td>\n",
       "      <td>India</td>\n",
       "      <td>HAZIRA CCCP</td>\n",
       "      <td>IND0000142</td>\n",
       "      <td>156.1</td>\n",
       "      <td>22.3256</td>\n",
       "      <td>69.7399</td>\n",
       "      <td>Gas</td>\n",
       "      <td>2001.0</td>\n",
       "      <td>NaN</td>\n",
       "      <td>Central Electricity Authority</td>\n",
       "      <td>http://www.cea.nic.in/</td>\n",
       "      <td>WRI</td>\n",
       "      <td>2019.0</td>\n",
       "      <td>206.54700</td>\n",
       "      <td>136.0644</td>\n",
       "      <td>23.37455</td>\n",
       "      <td>1.878</td>\n",
       "      <td>23.49600</td>\n",
       "      <td>Central Electricity Authority</td>\n",
       "    </tr>\n",
       "    <tr>\n",
       "      <th>9</th>\n",
       "      <td>IND</td>\n",
       "      <td>India</td>\n",
       "      <td>AMAR KANTAK</td>\n",
       "      <td>IND0000007</td>\n",
       "      <td>210.0</td>\n",
       "      <td>23.1642</td>\n",
       "      <td>81.6373</td>\n",
       "      <td>Coal</td>\n",
       "      <td>2008.0</td>\n",
       "      <td>NaN</td>\n",
       "      <td>Central Electricity Authority</td>\n",
       "      <td>http://www.cea.nic.in/</td>\n",
       "      <td>WRI</td>\n",
       "      <td>2019.0</td>\n",
       "      <td>1887.90400</td>\n",
       "      <td>1643.0460</td>\n",
       "      <td>1338.09300</td>\n",
       "      <td>1563.457</td>\n",
       "      <td>1487.88000</td>\n",
       "      <td>Central Electricity Authority</td>\n",
       "    </tr>\n",
       "    <tr>\n",
       "      <th>552</th>\n",
       "      <td>IND</td>\n",
       "      <td>India</td>\n",
       "      <td>Nallakonda Wind Farm</td>\n",
       "      <td>WRI1026351</td>\n",
       "      <td>50.4</td>\n",
       "      <td>14.1651</td>\n",
       "      <td>77.5713</td>\n",
       "      <td>Wind</td>\n",
       "      <td>NaN</td>\n",
       "      <td>Tadas Wind Energy</td>\n",
       "      <td>CDM</td>\n",
       "      <td>https://cdm.unfccc.int/Projects/DB/LRQA%20Ltd1...</td>\n",
       "      <td>WRI</td>\n",
       "      <td>NaN</td>\n",
       "      <td>NaN</td>\n",
       "      <td>NaN</td>\n",
       "      <td>NaN</td>\n",
       "      <td>NaN</td>\n",
       "      <td>NaN</td>\n",
       "      <td>NaN</td>\n",
       "    </tr>\n",
       "    <tr>\n",
       "      <th>484</th>\n",
       "      <td>IND</td>\n",
       "      <td>India</td>\n",
       "      <td>MOYAR</td>\n",
       "      <td>IND0000275</td>\n",
       "      <td>36.0</td>\n",
       "      <td>11.6137</td>\n",
       "      <td>76.6919</td>\n",
       "      <td>Hydro</td>\n",
       "      <td>1952.0</td>\n",
       "      <td>NaN</td>\n",
       "      <td>Central Electricity Authority</td>\n",
       "      <td>http://www.cea.nic.in/</td>\n",
       "      <td>WRI</td>\n",
       "      <td>2019.0</td>\n",
       "      <td>144.00635</td>\n",
       "      <td>103.1218</td>\n",
       "      <td>61.21240</td>\n",
       "      <td>93.928</td>\n",
       "      <td>161.18005</td>\n",
       "      <td>Central Electricity Authority</td>\n",
       "    </tr>\n",
       "    <tr>\n",
       "      <th>163</th>\n",
       "      <td>IND</td>\n",
       "      <td>India</td>\n",
       "      <td>DANAPUR BMM</td>\n",
       "      <td>WRI1019912</td>\n",
       "      <td>25.0</td>\n",
       "      <td>15.1707</td>\n",
       "      <td>76.3770</td>\n",
       "      <td>Coal</td>\n",
       "      <td>NaN</td>\n",
       "      <td>Bmm Pvt ltd</td>\n",
       "      <td>Bmm Pvt ltd</td>\n",
       "      <td>http://jobs.cari.co.in/jobs/bmm-ispat-ltd</td>\n",
       "      <td>WRI</td>\n",
       "      <td>NaN</td>\n",
       "      <td>NaN</td>\n",
       "      <td>NaN</td>\n",
       "      <td>NaN</td>\n",
       "      <td>NaN</td>\n",
       "      <td>NaN</td>\n",
       "      <td>NaN</td>\n",
       "    </tr>\n",
       "  </tbody>\n",
       "</table>\n",
       "</div>"
      ],
      "text/plain": [
       "    country country_long                  name   gppd_idnr  capacity_mw  \\\n",
       "258     IND        India           HAZIRA CCCP  IND0000142        156.1   \n",
       "9       IND        India           AMAR KANTAK  IND0000007        210.0   \n",
       "552     IND        India  Nallakonda Wind Farm  WRI1026351         50.4   \n",
       "484     IND        India                 MOYAR  IND0000275         36.0   \n",
       "163     IND        India           DANAPUR BMM  WRI1019912         25.0   \n",
       "\n",
       "     latitude  longitude primary_fuel  commissioning_year              owner  \\\n",
       "258   22.3256    69.7399          Gas              2001.0                NaN   \n",
       "9     23.1642    81.6373         Coal              2008.0                NaN   \n",
       "552   14.1651    77.5713         Wind                 NaN  Tadas Wind Energy   \n",
       "484   11.6137    76.6919        Hydro              1952.0                NaN   \n",
       "163   15.1707    76.3770         Coal                 NaN        Bmm Pvt ltd   \n",
       "\n",
       "                            source  \\\n",
       "258  Central Electricity Authority   \n",
       "9    Central Electricity Authority   \n",
       "552                            CDM   \n",
       "484  Central Electricity Authority   \n",
       "163                    Bmm Pvt ltd   \n",
       "\n",
       "                                                   url geolocation_source  \\\n",
       "258                             http://www.cea.nic.in/                WRI   \n",
       "9                               http://www.cea.nic.in/                WRI   \n",
       "552  https://cdm.unfccc.int/Projects/DB/LRQA%20Ltd1...                WRI   \n",
       "484                             http://www.cea.nic.in/                WRI   \n",
       "163          http://jobs.cari.co.in/jobs/bmm-ispat-ltd                WRI   \n",
       "\n",
       "     year_of_capacity_data  generation_gwh_2014  generation_gwh_2015  \\\n",
       "258                 2019.0            206.54700             136.0644   \n",
       "9                   2019.0           1887.90400            1643.0460   \n",
       "552                    NaN                  NaN                  NaN   \n",
       "484                 2019.0            144.00635             103.1218   \n",
       "163                    NaN                  NaN                  NaN   \n",
       "\n",
       "     generation_gwh_2016  generation_gwh_2017  generation_gwh_2018  \\\n",
       "258             23.37455                1.878             23.49600   \n",
       "9             1338.09300             1563.457           1487.88000   \n",
       "552                  NaN                  NaN                  NaN   \n",
       "484             61.21240               93.928            161.18005   \n",
       "163                  NaN                  NaN                  NaN   \n",
       "\n",
       "            generation_data_source  \n",
       "258  Central Electricity Authority  \n",
       "9    Central Electricity Authority  \n",
       "552                            NaN  \n",
       "484  Central Electricity Authority  \n",
       "163                            NaN  "
      ]
     },
     "execution_count": 23,
     "metadata": {},
     "output_type": "execute_result"
    }
   ],
   "source": [
    "df.sample(5)"
   ]
  },
  {
   "cell_type": "code",
   "execution_count": 24,
   "id": "baee3187",
   "metadata": {},
   "outputs": [
    {
     "data": {
      "text/plain": [
       "country                    0\n",
       "country_long               0\n",
       "name                       0\n",
       "gppd_idnr                  0\n",
       "capacity_mw                0\n",
       "latitude                  46\n",
       "longitude                 46\n",
       "primary_fuel               0\n",
       "commissioning_year       380\n",
       "source                     0\n",
       "url                        0\n",
       "geolocation_source        19\n",
       "year_of_capacity_data    388\n",
       "generation_gwh_2014      509\n",
       "generation_gwh_2015      485\n",
       "generation_gwh_2016      473\n",
       "generation_gwh_2017      467\n",
       "generation_gwh_2018      459\n",
       "dtype: int64"
      ]
     },
     "execution_count": 24,
     "metadata": {},
     "output_type": "execute_result"
    }
   ],
   "source": [
    "#since soruce and generation data source are percieving to be same thing , we will drop owner , generation_data_source , as they have many null values\n",
    "\n",
    "df.drop(['generation_data_source','owner'],axis=1,inplace=True)\n",
    "\n",
    "df.isnull().sum()              #checking again for null values"
   ]
  },
  {
   "cell_type": "code",
   "execution_count": 27,
   "id": "18a4f341",
   "metadata": {},
   "outputs": [
    {
     "name": "stdout",
     "output_type": "stream",
     "text": [
      "['geolocation_source'] \n",
      "\n",
      "['latitude', 'longitude', 'commissioning_year', 'year_of_capacity_data', 'generation_gwh_2014', 'generation_gwh_2015', 'generation_gwh_2016', 'generation_gwh_2017', 'generation_gwh_2018']\n"
     ]
    }
   ],
   "source": [
    "# for object dtype we will use mode strategy and for float dtype we will use mean strategy\n",
    "\n",
    "#creating empty list for categorical and continuous variables which have null values\n",
    "\n",
    "cat=[]\n",
    "intt=[]\n",
    "\n",
    "for i in df.columns:\n",
    "    if df[i].isnull().sum()>0 and df[i].dtypes=='object':\n",
    "        cat.append(i)\n",
    "    elif df[i].isnull().sum()>0 and df[i].dtypes=='float64':\n",
    "        intt.append(i)\n",
    "    else:\n",
    "        pass\n",
    "\n",
    "print(cat,'\\n')\n",
    "print(intt)"
   ]
  },
  {
   "cell_type": "code",
   "execution_count": 28,
   "id": "71981922",
   "metadata": {},
   "outputs": [
    {
     "data": {
      "text/plain": [
       "country                  0\n",
       "country_long             0\n",
       "name                     0\n",
       "gppd_idnr                0\n",
       "capacity_mw              0\n",
       "latitude                 0\n",
       "longitude                0\n",
       "primary_fuel             0\n",
       "commissioning_year       0\n",
       "source                   0\n",
       "url                      0\n",
       "geolocation_source       0\n",
       "year_of_capacity_data    0\n",
       "generation_gwh_2014      0\n",
       "generation_gwh_2015      0\n",
       "generation_gwh_2016      0\n",
       "generation_gwh_2017      0\n",
       "generation_gwh_2018      0\n",
       "dtype: int64"
      ]
     },
     "execution_count": 28,
     "metadata": {},
     "output_type": "execute_result"
    }
   ],
   "source": [
    "#now using imputation technique to fill the missing values\n",
    "\n",
    "from sklearn.impute import SimpleImputer\n",
    "\n",
    "for i in cat:\n",
    "    df[i]=SimpleImputer(strategy='most_frequent').fit_transform(df[i].values.reshape(-1,1))\n",
    "\n",
    "for j in intt:\n",
    "    df[j]=SimpleImputer(strategy='mean').fit_transform(df[j].values.reshape(-1,1))\n",
    "    \n",
    "df.isnull().sum()"
   ]
  },
  {
   "cell_type": "code",
   "execution_count": 29,
   "id": "638eb736",
   "metadata": {},
   "outputs": [
    {
     "data": {
      "text/plain": [
       "<AxesSubplot:>"
      ]
     },
     "execution_count": 29,
     "metadata": {},
     "output_type": "execute_result"
    },
    {
     "data": {
      "image/png": "[encoded data removed]",
      "text/plain": [
       "<Figure size 432x288 with 2 Axes>"
      ]
     },
     "metadata": {
      "needs_background": "light"
     },
     "output_type": "display_data"
    }
   ],
   "source": [
    "sns.heatmap(df.isnull())"
   ]
  },
  {
   "cell_type": "code",
   "execution_count": 30,
   "id": "d6e89240",
   "metadata": {},
   "outputs": [
    {
     "data": {
      "text/plain": [
       "country                   object\n",
       "country_long              object\n",
       "name                      object\n",
       "gppd_idnr                 object\n",
       "capacity_mw              float64\n",
       "latitude                 float64\n",
       "longitude                float64\n",
       "primary_fuel              object\n",
       "commissioning_year       float64\n",
       "source                    object\n",
       "url                       object\n",
       "geolocation_source        object\n",
       "year_of_capacity_data    float64\n",
       "generation_gwh_2014      float64\n",
       "generation_gwh_2015      float64\n",
       "generation_gwh_2016      float64\n",
       "generation_gwh_2017      float64\n",
       "generation_gwh_2018      float64\n",
       "dtype: object"
      ]
     },
     "execution_count": 30,
     "metadata": {},
     "output_type": "execute_result"
    }
   ],
   "source": [
    "#checking for dtypes\n",
    "\n",
    "df.dtypes"
   ]
  },
  {
   "cell_type": "code",
   "execution_count": 32,
   "id": "2ca89b3b",
   "metadata": {},
   "outputs": [],
   "source": [
    "#now commissioning_year is a variable for Year , so we will convert it's dtype to int 64\n",
    "\n",
    "df['commissioning_year']=df['commissioning_year'].astype('int64')"
   ]
  },
  {
   "cell_type": "code",
   "execution_count": 33,
   "id": "d2e1accd",
   "metadata": {},
   "outputs": [
    {
     "data": {
      "text/plain": [
       "country                   object\n",
       "country_long              object\n",
       "name                      object\n",
       "gppd_idnr                 object\n",
       "capacity_mw              float64\n",
       "latitude                 float64\n",
       "longitude                float64\n",
       "primary_fuel              object\n",
       "commissioning_year         int64\n",
       "source                    object\n",
       "url                       object\n",
       "geolocation_source        object\n",
       "year_of_capacity_data    float64\n",
       "generation_gwh_2014      float64\n",
       "generation_gwh_2015      float64\n",
       "generation_gwh_2016      float64\n",
       "generation_gwh_2017      float64\n",
       "generation_gwh_2018      float64\n",
       "dtype: object"
      ]
     },
     "execution_count": 33,
     "metadata": {},
     "output_type": "execute_result"
    }
   ],
   "source": [
    "#checking for dtypes\n",
    "\n",
    "df.dtypes"
   ]
  },
  {
   "cell_type": "code",
   "execution_count": 34,
   "id": "a3a6683b",
   "metadata": {},
   "outputs": [
    {
     "name": "stdout",
     "output_type": "stream",
     "text": [
      "IND    907\n",
      "Name: country, dtype: int64 \n",
      " \n",
      "\n",
      "India    907\n",
      "Name: country_long, dtype: int64 \n",
      " \n",
      "\n",
      "ACME Solar Tower           1\n",
      "RAICHUR                    1\n",
      "PRYAGRAJ (BARA) TPP        1\n",
      "PULICHINTALA               1\n",
      "PUNE MILL                  1\n",
      "                          ..\n",
      "KADANA                     1\n",
      "KADRA                      1\n",
      "KAHALGAON                  1\n",
      "KAIGA                      1\n",
      "iEnergy Theni Wind Farm    1\n",
      "Name: name, Length: 907, dtype: int64 \n",
      " \n",
      "\n",
      "WRI1020239    1\n",
      "IND0000356    1\n",
      "IND0000346    1\n",
      "IND0000523    1\n",
      "WRI1019978    1\n",
      "             ..\n",
      "IND0000167    1\n",
      "IND0000168    1\n",
      "IND0000169    1\n",
      "IND0000170    1\n",
      "WRI1026761    1\n",
      "Name: gppd_idnr, Length: 907, dtype: int64 \n",
      " \n",
      "\n",
      "5.0       39\n",
      "10.0      22\n",
      "600.0     20\n",
      "15.0      20\n",
      "1200.0    19\n",
      "          ..\n",
      "291.0      1\n",
      "645.0      1\n",
      "41.4       1\n",
      "17.5       1\n",
      "106.6      1\n",
      "Name: capacity_mw, Length: 361, dtype: int64 \n",
      " \n",
      "\n",
      "21.197918    46\n",
      "19.000400     3\n",
      "24.191700     3\n",
      "31.268000     2\n",
      "14.235200     2\n",
      "             ..\n",
      "22.755400     1\n",
      "27.159800     1\n",
      "17.297000     1\n",
      "20.877200     1\n",
      "9.934400      1\n",
      "Name: latitude, Length: 837, dtype: int64 \n",
      " \n",
      "\n",
      "77.464907    46\n",
      "71.691700     4\n",
      "75.898800     3\n",
      "71.691800     3\n",
      "72.898300     3\n",
      "             ..\n",
      "70.396100     1\n",
      "74.239300     1\n",
      "77.043500     1\n",
      "73.825400     1\n",
      "77.476800     1\n",
      "Name: longitude, Length: 828, dtype: int64 \n",
      " \n",
      "\n",
      "Coal       258\n",
      "Hydro      251\n",
      "Solar      127\n",
      "Wind       123\n",
      "Gas         69\n",
      "Biomass     50\n",
      "Oil         20\n",
      "Nuclear      9\n",
      "Name: primary_fuel, dtype: int64 \n",
      " \n",
      "\n",
      "1997    388\n",
      "2015     28\n",
      "2013     25\n",
      "2012     23\n",
      "2016     19\n",
      "       ... \n",
      "1946      1\n",
      "1956      1\n",
      "1937      1\n",
      "1949      1\n",
      "1953      1\n",
      "Name: commissioning_year, Length: 73, dtype: int64 \n",
      " \n",
      "\n",
      "Central Electricity Authority                                  519\n",
      "CDM                                                            124\n",
      "Lancosola                                                       10\n",
      "National Renewable Energy Laboratory                             8\n",
      "National Thermal Power Corporation (NTPC)                        6\n",
      "                                                              ... \n",
      "Harsha Engineers Limited                                         1\n",
      "Godawari Energy ltd                                              1\n",
      "Sunkon Energy Private Limited                                    1\n",
      "West Bengal Energy Development Corporation Limited (WBEDCL)      1\n",
      "Yashwantrao Krishna ssk                                          1\n",
      "Name: source, Length: 191, dtype: int64 \n",
      " \n",
      "\n",
      "http://www.cea.nic.in/                                                              519\n",
      "http://www.lancosolar.com/pdfs/rajasthan-pv-project-details.pdf                       7\n",
      "http://www.ntpc.co.in                                                                 6\n",
      "http://viainfotech.biz/Biomass/theme5/document/green_market/REC-project-list.pdf      5\n",
      "http://www.mahaurja.com/PDF/PG2_GridConnSPPCommissioned.pdf                           4\n",
      "                                                                                   ... \n",
      "https://cdm.unfccc.int/Projects/DB/LRQA%20Ltd1346322352.66/view                       1\n",
      "https://cdm.unfccc.int/Projects/DB/DNV-CUK1351166669.28/view                          1\n",
      "http://harshaengineers.com                                                            1\n",
      "http://hiragroup.com/companies/godawari-green-energy-limited/                         1\n",
      "https://cdm.unfccc.int/Projects/DB/RWTUV1345031355.85/view                            1\n",
      "Name: url, Length: 304, dtype: int64 \n",
      " \n",
      "\n",
      "WRI                                     784\n",
      "Industry About                          119\n",
      "National Renewable Energy Laboratory      4\n",
      "Name: geolocation_source, dtype: int64 \n",
      " \n",
      "\n",
      "2019.0    907\n",
      "Name: year_of_capacity_data, dtype: int64 \n",
      " \n",
      "\n",
      "2431.82359    509\n",
      "0.00000        28\n",
      "359.13980       1\n",
      "7368.39000      1\n",
      "9983.01800      1\n",
      "             ... \n",
      "1154.34200      1\n",
      "451.05340       1\n",
      "3239.14290      1\n",
      "3155.00000      1\n",
      "3194.35982      1\n",
      "Name: generation_gwh_2014, Length: 372, dtype: int64 \n",
      " \n",
      "\n",
      "2428.226946     485\n",
      "0.000000         27\n",
      "1497.798000       1\n",
      "10422.690000      1\n",
      "240.799900        1\n",
      "               ... \n",
      "14192.000000      1\n",
      "219.377600        1\n",
      "288.460450        1\n",
      "410.566850        1\n",
      "0.994875          1\n",
      "Name: generation_gwh_2015, Length: 397, dtype: int64 \n",
      " \n",
      "\n",
      "2467.936859     473\n",
      "0.000000         30\n",
      "8470.570000       2\n",
      "1511.000000       2\n",
      "12.676300         1\n",
      "               ... \n",
      "131.021600        1\n",
      "6130.019928       1\n",
      "5931.490000       1\n",
      "14834.800000      1\n",
      "233.596650        1\n",
      "Name: generation_gwh_2016, Length: 404, dtype: int64 \n",
      " \n",
      "\n",
      "2547.759305     467\n",
      "0.000000         32\n",
      "170.085300        2\n",
      "272.739450        1\n",
      "0.975100          1\n",
      "               ... \n",
      "15177.000000      1\n",
      "191.945450        1\n",
      "307.375400        1\n",
      "382.438200        1\n",
      "865.400000        1\n",
      "Name: generation_gwh_2017, Length: 409, dtype: int64 \n",
      " \n",
      "\n",
      "2600.804099     459\n",
      "0.000000         39\n",
      "21.939750         1\n",
      "17.213500         1\n",
      "7200.400000       1\n",
      "               ... \n",
      "7321.267900       1\n",
      "6532.350000       1\n",
      "15305.220000      1\n",
      "373.970750        1\n",
      "686.500000        1\n",
      "Name: generation_gwh_2018, Length: 411, dtype: int64 \n",
      " \n",
      "\n"
     ]
    }
   ],
   "source": [
    "#checking for unique value counts\n",
    "\n",
    "for i in df.columns:\n",
    "    print(df[i].value_counts(),'\\n','\\n')"
   ]
  },
  {
   "cell_type": "markdown",
   "id": "11540b42",
   "metadata": {},
   "source": [
    "- the data is imbalanced\n",
    "- name , gppd_idnr , source , url have almost all the values as unique, so it would be very tricky to encode these variables\n",
    "-  country , country_long and year_of_capacity_data is same for all the dataset , so there's no point in keeping them "
   ]
  },
  {
   "cell_type": "code",
   "execution_count": 35,
   "id": "06aa2087",
   "metadata": {},
   "outputs": [
    {
     "data": {
      "text/html": [
       "<div>\n",
       "<style scoped>\n",
       "    .dataframe tbody tr th:only-of-type {\n",
       "        vertical-align: middle;\n",
       "    }\n",
       "\n",
       "    .dataframe tbody tr th {\n",
       "        vertical-align: top;\n",
       "    }\n",
       "\n",
       "    .dataframe thead th {\n",
       "        text-align: right;\n",
       "    }\n",
       "</style>\n",
       "<table border=\"1\" class=\"dataframe\">\n",
       "  <thead>\n",
       "    <tr style=\"text-align: right;\">\n",
       "      <th></th>\n",
       "      <th>capacity_mw</th>\n",
       "      <th>latitude</th>\n",
       "      <th>longitude</th>\n",
       "      <th>primary_fuel</th>\n",
       "      <th>commissioning_year</th>\n",
       "      <th>geolocation_source</th>\n",
       "      <th>generation_gwh_2014</th>\n",
       "      <th>generation_gwh_2015</th>\n",
       "      <th>generation_gwh_2016</th>\n",
       "      <th>generation_gwh_2017</th>\n",
       "      <th>generation_gwh_2018</th>\n",
       "    </tr>\n",
       "  </thead>\n",
       "  <tbody>\n",
       "    <tr>\n",
       "      <th>29</th>\n",
       "      <td>113.6</td>\n",
       "      <td>18.8580</td>\n",
       "      <td>73.6396</td>\n",
       "      <td>Wind</td>\n",
       "      <td>1997</td>\n",
       "      <td>WRI</td>\n",
       "      <td>2431.823590</td>\n",
       "      <td>2428.226946</td>\n",
       "      <td>2467.936859</td>\n",
       "      <td>2547.759305</td>\n",
       "      <td>2600.804099</td>\n",
       "    </tr>\n",
       "    <tr>\n",
       "      <th>414</th>\n",
       "      <td>2000.0</td>\n",
       "      <td>8.1689</td>\n",
       "      <td>77.7126</td>\n",
       "      <td>Nuclear</td>\n",
       "      <td>1997</td>\n",
       "      <td>WRI</td>\n",
       "      <td>2431.823590</td>\n",
       "      <td>2428.226946</td>\n",
       "      <td>2467.936859</td>\n",
       "      <td>2547.759305</td>\n",
       "      <td>2600.804099</td>\n",
       "    </tr>\n",
       "    <tr>\n",
       "      <th>563</th>\n",
       "      <td>330.5</td>\n",
       "      <td>11.0749</td>\n",
       "      <td>79.8340</td>\n",
       "      <td>Gas</td>\n",
       "      <td>2001</td>\n",
       "      <td>WRI</td>\n",
       "      <td>1142.965769</td>\n",
       "      <td>152.252966</td>\n",
       "      <td>195.884661</td>\n",
       "      <td>0.000000</td>\n",
       "      <td>0.000000</td>\n",
       "    </tr>\n",
       "    <tr>\n",
       "      <th>17</th>\n",
       "      <td>600.0</td>\n",
       "      <td>23.0666</td>\n",
       "      <td>81.7841</td>\n",
       "      <td>Coal</td>\n",
       "      <td>1997</td>\n",
       "      <td>WRI</td>\n",
       "      <td>2431.823590</td>\n",
       "      <td>2428.226946</td>\n",
       "      <td>2467.936859</td>\n",
       "      <td>2547.759305</td>\n",
       "      <td>2600.804099</td>\n",
       "    </tr>\n",
       "  </tbody>\n",
       "</table>\n",
       "</div>"
      ],
      "text/plain": [
       "     capacity_mw  latitude  longitude primary_fuel  commissioning_year  \\\n",
       "29         113.6   18.8580    73.6396         Wind                1997   \n",
       "414       2000.0    8.1689    77.7126      Nuclear                1997   \n",
       "563        330.5   11.0749    79.8340          Gas                2001   \n",
       "17         600.0   23.0666    81.7841         Coal                1997   \n",
       "\n",
       "    geolocation_source  generation_gwh_2014  generation_gwh_2015  \\\n",
       "29                 WRI          2431.823590          2428.226946   \n",
       "414                WRI          2431.823590          2428.226946   \n",
       "563                WRI          1142.965769           152.252966   \n",
       "17                 WRI          2431.823590          2428.226946   \n",
       "\n",
       "     generation_gwh_2016  generation_gwh_2017  generation_gwh_2018  \n",
       "29           2467.936859          2547.759305          2600.804099  \n",
       "414          2467.936859          2547.759305          2600.804099  \n",
       "563           195.884661             0.000000             0.000000  \n",
       "17           2467.936859          2547.759305          2600.804099  "
      ]
     },
     "execution_count": 35,
     "metadata": {},
     "output_type": "execute_result"
    }
   ],
   "source": [
    "df.drop(['name','gppd_idnr','source','url','country','country_long','year_of_capacity_data'],axis=1,inplace=True)\n",
    "\n",
    "df.sample(4)"
   ]
  },
  {
   "cell_type": "code",
   "execution_count": null,
   "id": "c5931974",
   "metadata": {},
   "outputs": [],
   "source": [
    "#first we will perform a little EDA and then we will encode the two object dtype variables that are left"
   ]
  },
  {
   "cell_type": "markdown",
   "id": "69f2e857",
   "metadata": {},
   "source": [
    "# EDA:"
   ]
  },
  {
   "cell_type": "code",
   "execution_count": 36,
   "id": "fd8bb19a",
   "metadata": {},
   "outputs": [
    {
     "name": "stdout",
     "output_type": "stream",
     "text": [
      "<class 'pandas.core.frame.DataFrame'>\n",
      "RangeIndex: 907 entries, 0 to 906\n",
      "Data columns (total 11 columns):\n",
      " #   Column               Non-Null Count  Dtype  \n",
      "---  ------               --------------  -----  \n",
      " 0   capacity_mw          907 non-null    float64\n",
      " 1   latitude             907 non-null    float64\n",
      " 2   longitude            907 non-null    float64\n",
      " 3   primary_fuel         907 non-null    object \n",
      " 4   commissioning_year   907 non-null    int64  \n",
      " 5   geolocation_source   907 non-null    object \n",
      " 6   generation_gwh_2014  907 non-null    float64\n",
      " 7   generation_gwh_2015  907 non-null    float64\n",
      " 8   generation_gwh_2016  907 non-null    float64\n",
      " 9   generation_gwh_2017  907 non-null    float64\n",
      " 10  generation_gwh_2018  907 non-null    float64\n",
      "dtypes: float64(8), int64(1), object(2)\n",
      "memory usage: 78.1+ KB\n"
     ]
    }
   ],
   "source": [
    "df.info()"
   ]
  },
  {
   "cell_type": "code",
   "execution_count": 38,
   "id": "355eeaca",
   "metadata": {},
   "outputs": [
    {
     "data": {
      "image/png": "[encoded data removed]",
      "text/plain": [
       "<Figure size 432x288 with 1 Axes>"
      ]
     },
     "metadata": {
      "needs_background": "light"
     },
     "output_type": "display_data"
    }
   ],
   "source": [
    "sns.countplot(df['primary_fuel'])\n",
    "plt.show()"
   ]
  },
  {
   "cell_type": "markdown",
   "id": "9958b723",
   "metadata": {},
   "source": [
    "- the dataset is imabalanced as Coal and hydro have the highest counts , biomass , oil and Nuclear have very less count in the dataset"
   ]
  },
  {
   "cell_type": "code",
   "execution_count": 37,
   "id": "8178ea24",
   "metadata": {},
   "outputs": [
    {
     "data": {
      "image/png": "[encoded data removed]",
      "text/plain": [
       "<Figure size 432x288 with 1 Axes>"
      ]
     },
     "metadata": {
      "needs_background": "light"
     },
     "output_type": "display_data"
    }
   ],
   "source": [
    "sns.barplot('primary_fuel','capacity_mw',data=df)\n",
    "plt.show()"
   ]
  },
  {
   "cell_type": "markdown",
   "id": "a059e245",
   "metadata": {},
   "source": [
    "- Nuclear primary fuel has the highest capacity in mw\n",
    "- Solar , Wind , Biomass have the least capacity\n",
    "- After Nuclear coal has the highest capacity"
   ]
  },
  {
   "cell_type": "code",
   "execution_count": 42,
   "id": "c73d5c83",
   "metadata": {},
   "outputs": [
    {
     "data": {
      "image/png": "[encoded data removed]",
      "text/plain": [
       "<Figure size 432x288 with 1 Axes>"
      ]
     },
     "metadata": {
      "needs_background": "light"
     },
     "output_type": "display_data"
    }
   ],
   "source": [
    "sns.barplot('primary_fuel','generation_gwh_2014',data=df)\n",
    "plt.show()"
   ]
  },
  {
   "cell_type": "markdown",
   "id": "3beb676b",
   "metadata": {},
   "source": [
    "- Nuclear had the highest generation in year 2014 following by coal\n",
    "- Solar , Wind , Biomass had reasonable generation in the same year\n",
    "- Gas had the lowest generation"
   ]
  },
  {
   "cell_type": "code",
   "execution_count": 43,
   "id": "53c56391",
   "metadata": {},
   "outputs": [
    {
     "data": {
      "image/png": "[encoded data removed]",
      "text/plain": [
       "<Figure size 432x288 with 1 Axes>"
      ]
     },
     "metadata": {
      "needs_background": "light"
     },
     "output_type": "display_data"
    }
   ],
   "source": [
    "sns.barplot('primary_fuel','generation_gwh_2015',data=df)\n",
    "plt.show()"
   ]
  },
  {
   "cell_type": "markdown",
   "id": "9e0f946e",
   "metadata": {},
   "source": [
    "- Nuclear and Coal generation were almost same in the year 2015, even after Nuclear capacity is pretty much than that of coal\n",
    "-  all the other fuel's generation was same to that of 2014"
   ]
  },
  {
   "cell_type": "code",
   "execution_count": 44,
   "id": "4e666a77",
   "metadata": {},
   "outputs": [
    {
     "data": {
      "image/png": "[encoded data removed]",
      "text/plain": [
       "<Figure size 432x288 with 1 Axes>"
      ]
     },
     "metadata": {
      "needs_background": "light"
     },
     "output_type": "display_data"
    }
   ],
   "source": [
    "sns.barplot('primary_fuel','generation_gwh_2016',data=df)\n",
    "plt.show()"
   ]
  },
  {
   "cell_type": "markdown",
   "id": "1469ab16",
   "metadata": {},
   "source": [
    "- Nuclear and Coal generation were same in the year 2016, even after Nuclear capacity is pretty much than that of coal\n",
    "-  all the other fuel's generation was same to that of 2014 and 2015"
   ]
  },
  {
   "cell_type": "code",
   "execution_count": 45,
   "id": "f7138d34",
   "metadata": {},
   "outputs": [
    {
     "data": {
      "image/png": "[encoded data removed]",
      "text/plain": [
       "<Figure size 432x288 with 1 Axes>"
      ]
     },
     "metadata": {
      "needs_background": "light"
     },
     "output_type": "display_data"
    }
   ],
   "source": [
    "sns.barplot('primary_fuel','generation_gwh_2017',data=df)\n",
    "plt.show()"
   ]
  },
  {
   "cell_type": "markdown",
   "id": "950e9eb7",
   "metadata": {},
   "source": [
    "- coal generation is slightly higher than nuclear in 2017\n",
    "- oil generation has also increased in 2017 as compared to 2014,2015,2016"
   ]
  },
  {
   "cell_type": "code",
   "execution_count": 46,
   "id": "e0637136",
   "metadata": {},
   "outputs": [
    {
     "data": {
      "image/png": "[encoded data removed]",
      "text/plain": [
       "<Figure size 432x288 with 1 Axes>"
      ]
     },
     "metadata": {
      "needs_background": "light"
     },
     "output_type": "display_data"
    }
   ],
   "source": [
    "sns.barplot('primary_fuel','generation_gwh_2018',data=df)\n",
    "plt.show()"
   ]
  },
  {
   "cell_type": "markdown",
   "id": "e0de8bf9",
   "metadata": {},
   "source": [
    "- coal generation is slightly higher than nuclear in 2018 too\n",
    "- oil generation has decreased in 2018 to that of 2017"
   ]
  },
  {
   "cell_type": "code",
   "execution_count": 47,
   "id": "6911fabb",
   "metadata": {},
   "outputs": [
    {
     "name": "stdout",
     "output_type": "stream",
     "text": [
      "<class 'pandas.core.frame.DataFrame'>\n",
      "RangeIndex: 907 entries, 0 to 906\n",
      "Data columns (total 11 columns):\n",
      " #   Column               Non-Null Count  Dtype  \n",
      "---  ------               --------------  -----  \n",
      " 0   capacity_mw          907 non-null    float64\n",
      " 1   latitude             907 non-null    float64\n",
      " 2   longitude            907 non-null    float64\n",
      " 3   primary_fuel         907 non-null    object \n",
      " 4   commissioning_year   907 non-null    int64  \n",
      " 5   geolocation_source   907 non-null    object \n",
      " 6   generation_gwh_2014  907 non-null    float64\n",
      " 7   generation_gwh_2015  907 non-null    float64\n",
      " 8   generation_gwh_2016  907 non-null    float64\n",
      " 9   generation_gwh_2017  907 non-null    float64\n",
      " 10  generation_gwh_2018  907 non-null    float64\n",
      "dtypes: float64(8), int64(1), object(2)\n",
      "memory usage: 78.1+ KB\n"
     ]
    }
   ],
   "source": [
    "df.info()"
   ]
  },
  {
   "cell_type": "code",
   "execution_count": 48,
   "id": "8c09806b",
   "metadata": {},
   "outputs": [
    {
     "data": {
      "image/png": "[encoded data removed]",
      "text/plain": [
       "<Figure size 432x288 with 1 Axes>"
      ]
     },
     "metadata": {
      "needs_background": "light"
     },
     "output_type": "display_data"
    }
   ],
   "source": [
    "sns.scatterplot('capacity_mw','latitude',data=df)\n",
    "plt.show()"
   ]
  },
  {
   "cell_type": "markdown",
   "id": "98b6c7e6",
   "metadata": {},
   "source": [
    "- higher capacity is found to be around latitude 25-20"
   ]
  },
  {
   "cell_type": "code",
   "execution_count": 49,
   "id": "95c716d4",
   "metadata": {},
   "outputs": [
    {
     "data": {
      "image/png": "[encoded data removed]",
      "text/plain": [
       "<Figure size 432x288 with 1 Axes>"
      ]
     },
     "metadata": {
      "needs_background": "light"
     },
     "output_type": "display_data"
    }
   ],
   "source": [
    "sns.scatterplot('capacity_mw','longitude',data=df)\n",
    "plt.show()"
   ]
  },
  {
   "cell_type": "markdown",
   "id": "ccc60b63",
   "metadata": {},
   "source": [
    "- higher capacity is found to be around longitude 80-85"
   ]
  },
  {
   "cell_type": "code",
   "execution_count": 50,
   "id": "80121607",
   "metadata": {},
   "outputs": [
    {
     "data": {
      "image/png": "[encoded data removed]",
      "text/plain": [
       "<Figure size 432x288 with 1 Axes>"
      ]
     },
     "metadata": {
      "needs_background": "light"
     },
     "output_type": "display_data"
    }
   ],
   "source": [
    "sns.scatterplot('capacity_mw','generation_gwh_2014',data=df)\n",
    "plt.show()"
   ]
  },
  {
   "cell_type": "markdown",
   "id": "e0ff9552",
   "metadata": {},
   "source": [
    "- higher generation is associated with higher capacity\n",
    "- low capacity means low generation"
   ]
  },
  {
   "cell_type": "code",
   "execution_count": 51,
   "id": "97612882",
   "metadata": {},
   "outputs": [
    {
     "data": {
      "image/png": "[encoded data removed]",
      "text/plain": [
       "<Figure size 432x288 with 1 Axes>"
      ]
     },
     "metadata": {
      "needs_background": "light"
     },
     "output_type": "display_data"
    }
   ],
   "source": [
    "sns.scatterplot('capacity_mw','generation_gwh_2015',data=df)\n",
    "plt.show()"
   ]
  },
  {
   "cell_type": "markdown",
   "id": "2ab2f8b9",
   "metadata": {},
   "source": [
    "- generation has exceeded 25000 in 2015 as compared to 2014"
   ]
  },
  {
   "cell_type": "code",
   "execution_count": 52,
   "id": "a50e67be",
   "metadata": {},
   "outputs": [
    {
     "data": {
      "image/png": "[encoded data removed]",
      "text/plain": [
       "<Figure size 432x288 with 1 Axes>"
      ]
     },
     "metadata": {
      "needs_background": "light"
     },
     "output_type": "display_data"
    }
   ],
   "source": [
    "sns.scatterplot('capacity_mw','generation_gwh_2016',data=df)\n",
    "plt.show()"
   ]
  },
  {
   "cell_type": "code",
   "execution_count": 53,
   "id": "6fcb2db6",
   "metadata": {},
   "outputs": [
    {
     "data": {
      "image/png": "[encoded data removed]",
      "text/plain": [
       "<Figure size 432x288 with 1 Axes>"
      ]
     },
     "metadata": {
      "needs_background": "light"
     },
     "output_type": "display_data"
    }
   ],
   "source": [
    "sns.scatterplot('capacity_mw','generation_gwh_2017',data=df)\n",
    "plt.show()"
   ]
  },
  {
   "cell_type": "markdown",
   "id": "d817b7a3",
   "metadata": {},
   "source": [
    "- generation has exceeded 30000 in 2017 as compared to 2014,2015,2016"
   ]
  },
  {
   "cell_type": "code",
   "execution_count": 54,
   "id": "0e0d0e3b",
   "metadata": {},
   "outputs": [
    {
     "data": {
      "image/png": "[encoded data removed]",
      "text/plain": [
       "<Figure size 432x288 with 1 Axes>"
      ]
     },
     "metadata": {
      "needs_background": "light"
     },
     "output_type": "display_data"
    }
   ],
   "source": [
    "sns.scatterplot('capacity_mw','generation_gwh_2017',data=df)\n",
    "plt.show()"
   ]
  },
  {
   "cell_type": "markdown",
   "id": "fb7718b1",
   "metadata": {},
   "source": [
    "- generation has a linear relationship with positive slope with capacity_mw"
   ]
  },
  {
   "cell_type": "code",
   "execution_count": 55,
   "id": "0f5a08a9",
   "metadata": {},
   "outputs": [
    {
     "data": {
      "text/plain": [
       "capacity_mw            float64\n",
       "latitude               float64\n",
       "longitude              float64\n",
       "primary_fuel            object\n",
       "commissioning_year       int64\n",
       "geolocation_source      object\n",
       "generation_gwh_2014    float64\n",
       "generation_gwh_2015    float64\n",
       "generation_gwh_2016    float64\n",
       "generation_gwh_2017    float64\n",
       "generation_gwh_2018    float64\n",
       "dtype: object"
      ]
     },
     "execution_count": 55,
     "metadata": {},
     "output_type": "execute_result"
    }
   ],
   "source": [
    "df.dtypes"
   ]
  },
  {
   "cell_type": "code",
   "execution_count": 56,
   "id": "28157471",
   "metadata": {},
   "outputs": [
    {
     "data": {
      "text/html": [
       "<div>\n",
       "<style scoped>\n",
       "    .dataframe tbody tr th:only-of-type {\n",
       "        vertical-align: middle;\n",
       "    }\n",
       "\n",
       "    .dataframe tbody tr th {\n",
       "        vertical-align: top;\n",
       "    }\n",
       "\n",
       "    .dataframe thead th {\n",
       "        text-align: right;\n",
       "    }\n",
       "</style>\n",
       "<table border=\"1\" class=\"dataframe\">\n",
       "  <thead>\n",
       "    <tr style=\"text-align: right;\">\n",
       "      <th></th>\n",
       "      <th>capacity_mw</th>\n",
       "      <th>latitude</th>\n",
       "      <th>longitude</th>\n",
       "      <th>primary_fuel</th>\n",
       "      <th>commissioning_year</th>\n",
       "      <th>geolocation_source</th>\n",
       "      <th>generation_gwh_2014</th>\n",
       "      <th>generation_gwh_2015</th>\n",
       "      <th>generation_gwh_2016</th>\n",
       "      <th>generation_gwh_2017</th>\n",
       "      <th>generation_gwh_2018</th>\n",
       "    </tr>\n",
       "  </thead>\n",
       "  <tbody>\n",
       "    <tr>\n",
       "      <th>804</th>\n",
       "      <td>22.5</td>\n",
       "      <td>19.0875</td>\n",
       "      <td>73.0258</td>\n",
       "      <td>5</td>\n",
       "      <td>1997</td>\n",
       "      <td>2</td>\n",
       "      <td>2431.82359</td>\n",
       "      <td>2428.226946</td>\n",
       "      <td>2467.936859</td>\n",
       "      <td>2547.759305</td>\n",
       "      <td>2600.804099</td>\n",
       "    </tr>\n",
       "  </tbody>\n",
       "</table>\n",
       "</div>"
      ],
      "text/plain": [
       "     capacity_mw  latitude  longitude  primary_fuel  commissioning_year  \\\n",
       "804         22.5   19.0875    73.0258             5                1997   \n",
       "\n",
       "     geolocation_source  generation_gwh_2014  generation_gwh_2015  \\\n",
       "804                   2           2431.82359          2428.226946   \n",
       "\n",
       "     generation_gwh_2016  generation_gwh_2017  generation_gwh_2018  \n",
       "804          2467.936859          2547.759305          2600.804099  "
      ]
     },
     "execution_count": 56,
     "metadata": {},
     "output_type": "execute_result"
    }
   ],
   "source": [
    "#now lets LabelEncode the object datatype variables\n",
    "\n",
    "cat=[]  #creating an empty list for categorical variables\n",
    "for i in df.columns:\n",
    "    if df[i].dtypes=='object':\n",
    "        cat.append(i)\n",
    "    else:\n",
    "        pass\n",
    "    \n",
    "\n",
    "from sklearn.preprocessing import LabelEncoder\n",
    "\n",
    "le=LabelEncoder()\n",
    "\n",
    "for i in cat:\n",
    "    df[i]=le.fit_transform(df[i])\n",
    "    \n",
    "df.sample()"
   ]
  },
  {
   "cell_type": "code",
   "execution_count": 57,
   "id": "7a867a56",
   "metadata": {},
   "outputs": [
    {
     "data": {
      "text/html": [
       "<div>\n",
       "<style scoped>\n",
       "    .dataframe tbody tr th:only-of-type {\n",
       "        vertical-align: middle;\n",
       "    }\n",
       "\n",
       "    .dataframe tbody tr th {\n",
       "        vertical-align: top;\n",
       "    }\n",
       "\n",
       "    .dataframe thead th {\n",
       "        text-align: right;\n",
       "    }\n",
       "</style>\n",
       "<table border=\"1\" class=\"dataframe\">\n",
       "  <thead>\n",
       "    <tr style=\"text-align: right;\">\n",
       "      <th></th>\n",
       "      <th>capacity_mw</th>\n",
       "      <th>latitude</th>\n",
       "      <th>longitude</th>\n",
       "      <th>primary_fuel</th>\n",
       "      <th>commissioning_year</th>\n",
       "      <th>geolocation_source</th>\n",
       "      <th>generation_gwh_2014</th>\n",
       "      <th>generation_gwh_2015</th>\n",
       "      <th>generation_gwh_2016</th>\n",
       "      <th>generation_gwh_2017</th>\n",
       "      <th>generation_gwh_2018</th>\n",
       "    </tr>\n",
       "  </thead>\n",
       "  <tbody>\n",
       "    <tr>\n",
       "      <th>capacity_mw</th>\n",
       "      <td>1.000000</td>\n",
       "      <td>0.050984</td>\n",
       "      <td>0.195882</td>\n",
       "      <td>-0.380395</td>\n",
       "      <td>0.275711</td>\n",
       "      <td>2.048653e-01</td>\n",
       "      <td>6.943503e-01</td>\n",
       "      <td>7.111899e-01</td>\n",
       "      <td>7.422211e-01</td>\n",
       "      <td>7.575852e-01</td>\n",
       "      <td>7.734556e-01</td>\n",
       "    </tr>\n",
       "    <tr>\n",
       "      <th>latitude</th>\n",
       "      <td>0.050984</td>\n",
       "      <td>1.000000</td>\n",
       "      <td>0.036362</td>\n",
       "      <td>-0.010204</td>\n",
       "      <td>0.102375</td>\n",
       "      <td>-1.842751e-01</td>\n",
       "      <td>4.432124e-02</td>\n",
       "      <td>3.639795e-02</td>\n",
       "      <td>3.125609e-02</td>\n",
       "      <td>3.121240e-02</td>\n",
       "      <td>3.132625e-02</td>\n",
       "    </tr>\n",
       "    <tr>\n",
       "      <th>longitude</th>\n",
       "      <td>0.195882</td>\n",
       "      <td>0.036362</td>\n",
       "      <td>1.000000</td>\n",
       "      <td>-0.347948</td>\n",
       "      <td>0.093778</td>\n",
       "      <td>2.523426e-01</td>\n",
       "      <td>1.147221e-02</td>\n",
       "      <td>1.881819e-02</td>\n",
       "      <td>3.920892e-02</td>\n",
       "      <td>3.967547e-02</td>\n",
       "      <td>3.777965e-02</td>\n",
       "    </tr>\n",
       "    <tr>\n",
       "      <th>primary_fuel</th>\n",
       "      <td>-0.380395</td>\n",
       "      <td>-0.010204</td>\n",
       "      <td>-0.347948</td>\n",
       "      <td>1.000000</td>\n",
       "      <td>-0.128308</td>\n",
       "      <td>-4.832168e-01</td>\n",
       "      <td>-1.247688e-01</td>\n",
       "      <td>-1.248280e-01</td>\n",
       "      <td>-1.310514e-01</td>\n",
       "      <td>-1.320034e-01</td>\n",
       "      <td>-1.369831e-01</td>\n",
       "    </tr>\n",
       "    <tr>\n",
       "      <th>commissioning_year</th>\n",
       "      <td>0.275711</td>\n",
       "      <td>0.102375</td>\n",
       "      <td>0.093778</td>\n",
       "      <td>-0.128308</td>\n",
       "      <td>1.000000</td>\n",
       "      <td>-6.285458e-03</td>\n",
       "      <td>1.330497e-01</td>\n",
       "      <td>1.473367e-01</td>\n",
       "      <td>1.706430e-01</td>\n",
       "      <td>1.708621e-01</td>\n",
       "      <td>1.743756e-01</td>\n",
       "    </tr>\n",
       "    <tr>\n",
       "      <th>geolocation_source</th>\n",
       "      <td>0.204865</td>\n",
       "      <td>-0.184275</td>\n",
       "      <td>0.252343</td>\n",
       "      <td>-0.483217</td>\n",
       "      <td>-0.006285</td>\n",
       "      <td>1.000000e+00</td>\n",
       "      <td>1.557310e-17</td>\n",
       "      <td>-6.339264e-18</td>\n",
       "      <td>1.115708e-17</td>\n",
       "      <td>-9.450976e-18</td>\n",
       "      <td>-1.048582e-17</td>\n",
       "    </tr>\n",
       "    <tr>\n",
       "      <th>generation_gwh_2014</th>\n",
       "      <td>0.694350</td>\n",
       "      <td>0.044321</td>\n",
       "      <td>0.011472</td>\n",
       "      <td>-0.124769</td>\n",
       "      <td>0.133050</td>\n",
       "      <td>1.557310e-17</td>\n",
       "      <td>1.000000e+00</td>\n",
       "      <td>9.535943e-01</td>\n",
       "      <td>9.258738e-01</td>\n",
       "      <td>8.916868e-01</td>\n",
       "      <td>8.849556e-01</td>\n",
       "    </tr>\n",
       "    <tr>\n",
       "      <th>generation_gwh_2015</th>\n",
       "      <td>0.711190</td>\n",
       "      <td>0.036398</td>\n",
       "      <td>0.018818</td>\n",
       "      <td>-0.124828</td>\n",
       "      <td>0.147337</td>\n",
       "      <td>-6.339264e-18</td>\n",
       "      <td>9.535943e-01</td>\n",
       "      <td>1.000000e+00</td>\n",
       "      <td>9.688877e-01</td>\n",
       "      <td>9.282425e-01</td>\n",
       "      <td>9.234611e-01</td>\n",
       "    </tr>\n",
       "    <tr>\n",
       "      <th>generation_gwh_2016</th>\n",
       "      <td>0.742221</td>\n",
       "      <td>0.031256</td>\n",
       "      <td>0.039209</td>\n",
       "      <td>-0.131051</td>\n",
       "      <td>0.170643</td>\n",
       "      <td>1.115708e-17</td>\n",
       "      <td>9.258738e-01</td>\n",
       "      <td>9.688877e-01</td>\n",
       "      <td>1.000000e+00</td>\n",
       "      <td>9.646488e-01</td>\n",
       "      <td>9.571589e-01</td>\n",
       "    </tr>\n",
       "    <tr>\n",
       "      <th>generation_gwh_2017</th>\n",
       "      <td>0.757585</td>\n",
       "      <td>0.031212</td>\n",
       "      <td>0.039675</td>\n",
       "      <td>-0.132003</td>\n",
       "      <td>0.170862</td>\n",
       "      <td>-9.450976e-18</td>\n",
       "      <td>8.916868e-01</td>\n",
       "      <td>9.282425e-01</td>\n",
       "      <td>9.646488e-01</td>\n",
       "      <td>1.000000e+00</td>\n",
       "      <td>9.826888e-01</td>\n",
       "    </tr>\n",
       "    <tr>\n",
       "      <th>generation_gwh_2018</th>\n",
       "      <td>0.773456</td>\n",
       "      <td>0.031326</td>\n",
       "      <td>0.037780</td>\n",
       "      <td>-0.136983</td>\n",
       "      <td>0.174376</td>\n",
       "      <td>-1.048582e-17</td>\n",
       "      <td>8.849556e-01</td>\n",
       "      <td>9.234611e-01</td>\n",
       "      <td>9.571589e-01</td>\n",
       "      <td>9.826888e-01</td>\n",
       "      <td>1.000000e+00</td>\n",
       "    </tr>\n",
       "  </tbody>\n",
       "</table>\n",
       "</div>"
      ],
      "text/plain": [
       "                     capacity_mw  latitude  longitude  primary_fuel  \\\n",
       "capacity_mw             1.000000  0.050984   0.195882     -0.380395   \n",
       "latitude                0.050984  1.000000   0.036362     -0.010204   \n",
       "longitude               0.195882  0.036362   1.000000     -0.347948   \n",
       "primary_fuel           -0.380395 -0.010204  -0.347948      1.000000   \n",
       "commissioning_year      0.275711  0.102375   0.093778     -0.128308   \n",
       "geolocation_source      0.204865 -0.184275   0.252343     -0.483217   \n",
       "generation_gwh_2014     0.694350  0.044321   0.011472     -0.124769   \n",
       "generation_gwh_2015     0.711190  0.036398   0.018818     -0.124828   \n",
       "generation_gwh_2016     0.742221  0.031256   0.039209     -0.131051   \n",
       "generation_gwh_2017     0.757585  0.031212   0.039675     -0.132003   \n",
       "generation_gwh_2018     0.773456  0.031326   0.037780     -0.136983   \n",
       "\n",
       "                     commissioning_year  geolocation_source  \\\n",
       "capacity_mw                    0.275711        2.048653e-01   \n",
       "latitude                       0.102375       -1.842751e-01   \n",
       "longitude                      0.093778        2.523426e-01   \n",
       "primary_fuel                  -0.128308       -4.832168e-01   \n",
       "commissioning_year             1.000000       -6.285458e-03   \n",
       "geolocation_source            -0.006285        1.000000e+00   \n",
       "generation_gwh_2014            0.133050        1.557310e-17   \n",
       "generation_gwh_2015            0.147337       -6.339264e-18   \n",
       "generation_gwh_2016            0.170643        1.115708e-17   \n",
       "generation_gwh_2017            0.170862       -9.450976e-18   \n",
       "generation_gwh_2018            0.174376       -1.048582e-17   \n",
       "\n",
       "                     generation_gwh_2014  generation_gwh_2015  \\\n",
       "capacity_mw                 6.943503e-01         7.111899e-01   \n",
       "latitude                    4.432124e-02         3.639795e-02   \n",
       "longitude                   1.147221e-02         1.881819e-02   \n",
       "primary_fuel               -1.247688e-01        -1.248280e-01   \n",
       "commissioning_year          1.330497e-01         1.473367e-01   \n",
       "geolocation_source          1.557310e-17        -6.339264e-18   \n",
       "generation_gwh_2014         1.000000e+00         9.535943e-01   \n",
       "generation_gwh_2015         9.535943e-01         1.000000e+00   \n",
       "generation_gwh_2016         9.258738e-01         9.688877e-01   \n",
       "generation_gwh_2017         8.916868e-01         9.282425e-01   \n",
       "generation_gwh_2018         8.849556e-01         9.234611e-01   \n",
       "\n",
       "                     generation_gwh_2016  generation_gwh_2017  \\\n",
       "capacity_mw                 7.422211e-01         7.575852e-01   \n",
       "latitude                    3.125609e-02         3.121240e-02   \n",
       "longitude                   3.920892e-02         3.967547e-02   \n",
       "primary_fuel               -1.310514e-01        -1.320034e-01   \n",
       "commissioning_year          1.706430e-01         1.708621e-01   \n",
       "geolocation_source          1.115708e-17        -9.450976e-18   \n",
       "generation_gwh_2014         9.258738e-01         8.916868e-01   \n",
       "generation_gwh_2015         9.688877e-01         9.282425e-01   \n",
       "generation_gwh_2016         1.000000e+00         9.646488e-01   \n",
       "generation_gwh_2017         9.646488e-01         1.000000e+00   \n",
       "generation_gwh_2018         9.571589e-01         9.826888e-01   \n",
       "\n",
       "                     generation_gwh_2018  \n",
       "capacity_mw                 7.734556e-01  \n",
       "latitude                    3.132625e-02  \n",
       "longitude                   3.777965e-02  \n",
       "primary_fuel               -1.369831e-01  \n",
       "commissioning_year          1.743756e-01  \n",
       "geolocation_source         -1.048582e-17  \n",
       "generation_gwh_2014         8.849556e-01  \n",
       "generation_gwh_2015         9.234611e-01  \n",
       "generation_gwh_2016         9.571589e-01  \n",
       "generation_gwh_2017         9.826888e-01  \n",
       "generation_gwh_2018         1.000000e+00  "
      ]
     },
     "execution_count": 57,
     "metadata": {},
     "output_type": "execute_result"
    }
   ],
   "source": [
    "#checking for correlation\n",
    "\n",
    "df.corr()"
   ]
  },
  {
   "cell_type": "code",
   "execution_count": 58,
   "id": "09e930ad",
   "metadata": {},
   "outputs": [
    {
     "data": {
      "text/plain": [
       "primary_fuel           1.000000\n",
       "latitude              -0.010204\n",
       "generation_gwh_2014   -0.124769\n",
       "generation_gwh_2015   -0.124828\n",
       "commissioning_year    -0.128308\n",
       "generation_gwh_2016   -0.131051\n",
       "generation_gwh_2017   -0.132003\n",
       "generation_gwh_2018   -0.136983\n",
       "longitude             -0.347948\n",
       "capacity_mw           -0.380395\n",
       "geolocation_source    -0.483217\n",
       "Name: primary_fuel, dtype: float64"
      ]
     },
     "execution_count": 58,
     "metadata": {},
     "output_type": "execute_result"
    }
   ],
   "source": [
    "df.corr()['primary_fuel'].sort_values(ascending=False)"
   ]
  },
  {
   "cell_type": "markdown",
   "id": "c86331e4",
   "metadata": {},
   "source": [
    "- so no variable have a positive correlation with the target variable"
   ]
  },
  {
   "cell_type": "code",
   "execution_count": 59,
   "id": "c2979f37",
   "metadata": {},
   "outputs": [
    {
     "data": {
      "text/plain": [
       "<Figure size 432x288 with 0 Axes>"
      ]
     },
     "execution_count": 59,
     "metadata": {},
     "output_type": "execute_result"
    },
    {
     "data": {
      "image/png": "[encoded data removed]",
      "text/plain": [
       "<Figure size 792x360 with 2 Axes>"
      ]
     },
     "metadata": {
      "needs_background": "light"
     },
     "output_type": "display_data"
    },
    {
     "data": {
      "text/plain": [
       "<Figure size 432x288 with 0 Axes>"
      ]
     },
     "metadata": {},
     "output_type": "display_data"
    }
   ],
   "source": [
    "plt.figure(figsize=(11,5))\n",
    "sns.heatmap(df.corr(),annot=True,cmap='YlGnBu',fmt='.2%')\n",
    "plt.figure()"
   ]
  },
  {
   "cell_type": "code",
   "execution_count": 60,
   "id": "fbc1c484",
   "metadata": {},
   "outputs": [
    {
     "data": {
      "text/html": [
       "<div>\n",
       "<style scoped>\n",
       "    .dataframe tbody tr th:only-of-type {\n",
       "        vertical-align: middle;\n",
       "    }\n",
       "\n",
       "    .dataframe tbody tr th {\n",
       "        vertical-align: top;\n",
       "    }\n",
       "\n",
       "    .dataframe thead th {\n",
       "        text-align: right;\n",
       "    }\n",
       "</style>\n",
       "<table border=\"1\" class=\"dataframe\">\n",
       "  <thead>\n",
       "    <tr style=\"text-align: right;\">\n",
       "      <th></th>\n",
       "      <th>capacity_mw</th>\n",
       "      <th>latitude</th>\n",
       "      <th>longitude</th>\n",
       "      <th>primary_fuel</th>\n",
       "      <th>commissioning_year</th>\n",
       "      <th>geolocation_source</th>\n",
       "      <th>generation_gwh_2014</th>\n",
       "      <th>generation_gwh_2015</th>\n",
       "      <th>generation_gwh_2016</th>\n",
       "      <th>generation_gwh_2017</th>\n",
       "      <th>generation_gwh_2018</th>\n",
       "    </tr>\n",
       "  </thead>\n",
       "  <tbody>\n",
       "    <tr>\n",
       "      <th>count</th>\n",
       "      <td>907.000000</td>\n",
       "      <td>907.000000</td>\n",
       "      <td>907.000000</td>\n",
       "      <td>907.000000</td>\n",
       "      <td>907.000000</td>\n",
       "      <td>907.000000</td>\n",
       "      <td>907.000000</td>\n",
       "      <td>907.000000</td>\n",
       "      <td>907.000000</td>\n",
       "      <td>907.000000</td>\n",
       "      <td>907.000000</td>\n",
       "    </tr>\n",
       "    <tr>\n",
       "      <th>mean</th>\n",
       "      <td>326.223755</td>\n",
       "      <td>21.197918</td>\n",
       "      <td>77.464907</td>\n",
       "      <td>3.206174</td>\n",
       "      <td>1997.052922</td>\n",
       "      <td>1.733186</td>\n",
       "      <td>2431.823590</td>\n",
       "      <td>2428.226946</td>\n",
       "      <td>2467.936859</td>\n",
       "      <td>2547.759305</td>\n",
       "      <td>2600.804099</td>\n",
       "    </tr>\n",
       "    <tr>\n",
       "      <th>std</th>\n",
       "      <td>590.085456</td>\n",
       "      <td>6.079148</td>\n",
       "      <td>4.812291</td>\n",
       "      <td>2.280652</td>\n",
       "      <td>13.016438</td>\n",
       "      <td>0.677151</td>\n",
       "      <td>2665.338608</td>\n",
       "      <td>2859.349132</td>\n",
       "      <td>2877.890004</td>\n",
       "      <td>2921.502193</td>\n",
       "      <td>3030.808041</td>\n",
       "    </tr>\n",
       "    <tr>\n",
       "      <th>min</th>\n",
       "      <td>0.000000</td>\n",
       "      <td>8.168900</td>\n",
       "      <td>68.644700</td>\n",
       "      <td>0.000000</td>\n",
       "      <td>1927.000000</td>\n",
       "      <td>0.000000</td>\n",
       "      <td>0.000000</td>\n",
       "      <td>0.000000</td>\n",
       "      <td>0.000000</td>\n",
       "      <td>0.000000</td>\n",
       "      <td>0.000000</td>\n",
       "    </tr>\n",
       "    <tr>\n",
       "      <th>25%</th>\n",
       "      <td>16.725000</td>\n",
       "      <td>17.072000</td>\n",
       "      <td>74.388900</td>\n",
       "      <td>1.000000</td>\n",
       "      <td>1997.000000</td>\n",
       "      <td>2.000000</td>\n",
       "      <td>1211.362750</td>\n",
       "      <td>916.000000</td>\n",
       "      <td>896.500214</td>\n",
       "      <td>882.594850</td>\n",
       "      <td>824.842340</td>\n",
       "    </tr>\n",
       "    <tr>\n",
       "      <th>50%</th>\n",
       "      <td>59.200000</td>\n",
       "      <td>21.281800</td>\n",
       "      <td>76.979200</td>\n",
       "      <td>3.000000</td>\n",
       "      <td>1997.000000</td>\n",
       "      <td>2.000000</td>\n",
       "      <td>2431.823590</td>\n",
       "      <td>2428.226946</td>\n",
       "      <td>2467.936859</td>\n",
       "      <td>2547.759305</td>\n",
       "      <td>2600.804099</td>\n",
       "    </tr>\n",
       "    <tr>\n",
       "      <th>75%</th>\n",
       "      <td>385.250000</td>\n",
       "      <td>25.176450</td>\n",
       "      <td>79.206100</td>\n",
       "      <td>6.000000</td>\n",
       "      <td>2003.000000</td>\n",
       "      <td>2.000000</td>\n",
       "      <td>2431.823590</td>\n",
       "      <td>2428.226946</td>\n",
       "      <td>2467.936859</td>\n",
       "      <td>2547.759305</td>\n",
       "      <td>2600.804099</td>\n",
       "    </tr>\n",
       "    <tr>\n",
       "      <th>max</th>\n",
       "      <td>4760.000000</td>\n",
       "      <td>34.649000</td>\n",
       "      <td>95.408000</td>\n",
       "      <td>7.000000</td>\n",
       "      <td>2018.000000</td>\n",
       "      <td>2.000000</td>\n",
       "      <td>28127.000000</td>\n",
       "      <td>30539.000000</td>\n",
       "      <td>30015.000000</td>\n",
       "      <td>35116.000000</td>\n",
       "      <td>35136.000000</td>\n",
       "    </tr>\n",
       "  </tbody>\n",
       "</table>\n",
       "</div>"
      ],
      "text/plain": [
       "       capacity_mw    latitude   longitude  primary_fuel  commissioning_year  \\\n",
       "count   907.000000  907.000000  907.000000    907.000000          907.000000   \n",
       "mean    326.223755   21.197918   77.464907      3.206174         1997.052922   \n",
       "std     590.085456    6.079148    4.812291      2.280652           13.016438   \n",
       "min       0.000000    8.168900   68.644700      0.000000         1927.000000   \n",
       "25%      16.725000   17.072000   74.388900      1.000000         1997.000000   \n",
       "50%      59.200000   21.281800   76.979200      3.000000         1997.000000   \n",
       "75%     385.250000   25.176450   79.206100      6.000000         2003.000000   \n",
       "max    4760.000000   34.649000   95.408000      7.000000         2018.000000   \n",
       "\n",
       "       geolocation_source  generation_gwh_2014  generation_gwh_2015  \\\n",
       "count          907.000000           907.000000           907.000000   \n",
       "mean             1.733186          2431.823590          2428.226946   \n",
       "std              0.677151          2665.338608          2859.349132   \n",
       "min              0.000000             0.000000             0.000000   \n",
       "25%              2.000000          1211.362750           916.000000   \n",
       "50%              2.000000          2431.823590          2428.226946   \n",
       "75%              2.000000          2431.823590          2428.226946   \n",
       "max              2.000000         28127.000000         30539.000000   \n",
       "\n",
       "       generation_gwh_2016  generation_gwh_2017  generation_gwh_2018  \n",
       "count           907.000000           907.000000           907.000000  \n",
       "mean           2467.936859          2547.759305          2600.804099  \n",
       "std            2877.890004          2921.502193          3030.808041  \n",
       "min               0.000000             0.000000             0.000000  \n",
       "25%             896.500214           882.594850           824.842340  \n",
       "50%            2467.936859          2547.759305          2600.804099  \n",
       "75%            2467.936859          2547.759305          2600.804099  \n",
       "max           30015.000000         35116.000000         35136.000000  "
      ]
     },
     "execution_count": 60,
     "metadata": {},
     "output_type": "execute_result"
    }
   ],
   "source": [
    "# now let's, describe our dataset:\n",
    "\n",
    "df.describe()"
   ]
  },
  {
   "cell_type": "markdown",
   "id": "df718bc5",
   "metadata": {},
   "source": [
    "observations:\n",
    "- capacity_mw might has skewness\n",
    "- outliers might also present"
   ]
  },
  {
   "cell_type": "code",
   "execution_count": 61,
   "id": "aa4316c8",
   "metadata": {},
   "outputs": [
    {
     "data": {
      "image/png": "[encoded data removed]",
      "text/plain": [
       "<Figure size 432x288 with 1 Axes>"
      ]
     },
     "metadata": {
      "needs_background": "light"
     },
     "output_type": "display_data"
    }
   ],
   "source": [
    "#let's check for outliers\n",
    "\n",
    "sns.boxplot(df['capacity_mw'])\n",
    "plt.show()"
   ]
  },
  {
   "cell_type": "code",
   "execution_count": 62,
   "id": "e4ad6eca",
   "metadata": {},
   "outputs": [
    {
     "data": {
      "image/png": "[encoded data removed]",
      "text/plain": [
       "<Figure size 432x288 with 1 Axes>"
      ]
     },
     "metadata": {
      "needs_background": "light"
     },
     "output_type": "display_data"
    }
   ],
   "source": [
    "sns.boxplot(df['generation_gwh_2014'])\n",
    "plt.show()"
   ]
  },
  {
   "cell_type": "markdown",
   "id": "40bc7906",
   "metadata": {},
   "source": [
    "- okay so outliers are there"
   ]
  },
  {
   "cell_type": "markdown",
   "id": "92467d95",
   "metadata": {},
   "source": [
    "# Data Cleaning:"
   ]
  },
  {
   "cell_type": "code",
   "execution_count": 63,
   "id": "b7be7a1f",
   "metadata": {},
   "outputs": [
    {
     "data": {
      "text/plain": [
       "(array([ 15,  15,  15,  15,  15, 143, 143, 143, 143, 143, 143, 147, 158,\n",
       "        179, 183, 209, 209, 209, 209, 209, 209, 222, 244, 308, 308, 308,\n",
       "        308, 308, 308, 323, 333, 340, 342, 360, 363, 364, 364, 364, 364,\n",
       "        364, 364, 371, 375, 416, 427, 444, 454, 478, 482, 484, 493, 493,\n",
       "        493, 493, 493, 493, 494, 494, 494, 494, 494, 494, 499, 519, 538,\n",
       "        541, 546, 573, 577, 583, 592, 601, 621, 638, 648, 648, 648, 648,\n",
       "        648, 648, 657, 657, 657, 657, 657, 657, 695, 695, 695, 695, 695,\n",
       "        695, 706, 709, 721, 721, 721, 721, 724, 724, 724, 724, 724, 726,\n",
       "        726, 726, 726, 726, 726, 728, 767, 786, 786, 786, 786, 786, 786,\n",
       "        788, 807, 808, 808, 808, 808, 808, 808, 818, 847, 848, 880, 880,\n",
       "        880, 880, 880, 880], dtype=int64),\n",
       " array([ 0,  7,  8,  9, 10,  0,  6,  7,  8,  9, 10,  0,  6,  2,  2,  0,  6,\n",
       "         7,  8,  9, 10,  4,  2,  0,  6,  7,  8,  9, 10,  2,  2,  2,  4,  2,\n",
       "         0,  0,  6,  7,  8,  9, 10,  4,  0,  2,  2,  4,  4,  4,  0,  4,  0,\n",
       "         6,  7,  8,  9, 10,  0,  6,  7,  8,  9, 10,  2,  2,  4,  4,  2,  4,\n",
       "         2,  4,  4,  4,  4,  2,  0,  6,  7,  8,  9, 10,  0,  6,  7,  8,  9,\n",
       "        10,  0,  6,  7,  8,  9, 10,  4,  4,  6,  7,  8, 10,  6,  7,  8,  9,\n",
       "        10,  0,  6,  7,  8,  9, 10,  4,  0,  0,  6,  7,  8,  9, 10,  0,  4,\n",
       "         0,  6,  7,  8,  9, 10,  2,  2,  4,  0,  6,  7,  8,  9, 10],\n",
       "       dtype=int64))"
      ]
     },
     "execution_count": 63,
     "metadata": {},
     "output_type": "execute_result"
    }
   ],
   "source": [
    "#lets check out for outliers using zscore\n",
    "\n",
    "from scipy.stats import zscore\n",
    "\n",
    "z=np.abs(zscore(df))\n",
    "\n",
    "#threhold=3\n",
    "np.where(z>3)"
   ]
  },
  {
   "cell_type": "code",
   "execution_count": 64,
   "id": "7ed28905",
   "metadata": {},
   "outputs": [],
   "source": [
    "#so outliers are present, so we are going to see how much data is being lost\n",
    "\n",
    "df_new=df[(z<3).all(axis=1)]"
   ]
  },
  {
   "cell_type": "code",
   "execution_count": 65,
   "id": "58335b77",
   "metadata": {},
   "outputs": [
    {
     "data": {
      "text/plain": [
       "(907, 11)"
      ]
     },
     "execution_count": 65,
     "metadata": {},
     "output_type": "execute_result"
    }
   ],
   "source": [
    "df.shape"
   ]
  },
  {
   "cell_type": "code",
   "execution_count": 66,
   "id": "c826fcf9",
   "metadata": {},
   "outputs": [
    {
     "data": {
      "text/plain": [
       "(849, 11)"
      ]
     },
     "execution_count": 66,
     "metadata": {},
     "output_type": "execute_result"
    }
   ],
   "source": [
    "df_new.shape"
   ]
  },
  {
   "cell_type": "code",
   "execution_count": 67,
   "id": "7eacc638",
   "metadata": {},
   "outputs": [
    {
     "name": "stdout",
     "output_type": "stream",
     "text": [
      "Data Loss is: 6.39470782800441 %\n"
     ]
    }
   ],
   "source": [
    "print('Data Loss is:',(907-849)/907*100,'%')"
   ]
  },
  {
   "cell_type": "markdown",
   "id": "d8cf43d1",
   "metadata": {},
   "source": [
    "- so data loss is less than 10%, so we will use dataset with no outliers, as due to imbalance data we are going to do over sampling later"
   ]
  },
  {
   "cell_type": "raw",
   "id": "97c68456",
   "metadata": {},
   "source": [
    "i. To predict the primary fuel:"
   ]
  },
  {
   "cell_type": "code",
   "execution_count": 68,
   "id": "09887b0a",
   "metadata": {},
   "outputs": [
    {
     "name": "stdout",
     "output_type": "stream",
     "text": [
      "(849, 10)\n",
      "(849,)\n"
     ]
    }
   ],
   "source": [
    "# now selecting our feature and target variable for further process\n",
    "\n",
    "x=df_new.drop('primary_fuel',axis=1)\n",
    "y=df_new['primary_fuel']\n",
    "\n",
    "print(x.shape)\n",
    "print(y.shape)"
   ]
  },
  {
   "cell_type": "code",
   "execution_count": 69,
   "id": "f4b7d7e6",
   "metadata": {},
   "outputs": [
    {
     "data": {
      "text/plain": [
       "capacity_mw            1.979914\n",
       "latitude              -0.109823\n",
       "longitude              0.921980\n",
       "commissioning_year    -0.834063\n",
       "geolocation_source    -2.062603\n",
       "generation_gwh_2014    1.526648\n",
       "generation_gwh_2015    1.389889\n",
       "generation_gwh_2016    1.413144\n",
       "generation_gwh_2017    1.278735\n",
       "generation_gwh_2018    1.315481\n",
       "dtype: float64"
      ]
     },
     "execution_count": 69,
     "metadata": {},
     "output_type": "execute_result"
    }
   ],
   "source": [
    "#checking for skewness\n",
    "\n",
    "x.skew()"
   ]
  },
  {
   "cell_type": "markdown",
   "id": "96590f50",
   "metadata": {},
   "source": [
    "- threshold= +/- 0.50 , all feature variables except latitude are exceeding the threshold for skewness , so we will try to reduce skewness present"
   ]
  },
  {
   "cell_type": "code",
   "execution_count": 70,
   "id": "f7438476",
   "metadata": {},
   "outputs": [
    {
     "data": {
      "image/png": "[encoded data removed]",
      "text/plain": [
       "<Figure size 432x288 with 1 Axes>"
      ]
     },
     "metadata": {
      "needs_background": "light"
     },
     "output_type": "display_data"
    }
   ],
   "source": [
    "sns.distplot(x['capacity_mw'])\n",
    "plt.show()"
   ]
  },
  {
   "cell_type": "code",
   "execution_count": 71,
   "id": "8e6b376b",
   "metadata": {},
   "outputs": [
    {
     "data": {
      "image/png": "[encoded data removed]",
      "text/plain": [
       "<Figure size 432x288 with 1 Axes>"
      ]
     },
     "metadata": {
      "needs_background": "light"
     },
     "output_type": "display_data"
    }
   ],
   "source": [
    "sns.distplot(x['geolocation_source'])\n",
    "plt.show()"
   ]
  },
  {
   "cell_type": "code",
   "execution_count": 72,
   "id": "70528985",
   "metadata": {},
   "outputs": [
    {
     "data": {
      "image/png": "[encoded data removed]",
      "text/plain": [
       "<Figure size 432x288 with 1 Axes>"
      ]
     },
     "metadata": {
      "needs_background": "light"
     },
     "output_type": "display_data"
    }
   ],
   "source": [
    "sns.distplot(x['generation_gwh_2016'])\n",
    "plt.show()"
   ]
  },
  {
   "cell_type": "markdown",
   "id": "202f206a",
   "metadata": {},
   "source": [
    "- the data is exceeding the normal distribution curves. so dataset is skewed"
   ]
  },
  {
   "cell_type": "code",
   "execution_count": 73,
   "id": "23bcb9c8",
   "metadata": {},
   "outputs": [
    {
     "data": {
      "text/plain": [
       "Index(['capacity_mw', 'latitude', 'longitude', 'commissioning_year',\n",
       "       'geolocation_source', 'generation_gwh_2014', 'generation_gwh_2015',\n",
       "       'generation_gwh_2016', 'generation_gwh_2017', 'generation_gwh_2018'],\n",
       "      dtype='object')"
      ]
     },
     "execution_count": 73,
     "metadata": {},
     "output_type": "execute_result"
    }
   ],
   "source": [
    "x.columns"
   ]
  },
  {
   "cell_type": "code",
   "execution_count": 74,
   "id": "30b4117f",
   "metadata": {},
   "outputs": [
    {
     "data": {
      "text/plain": [
       "capacity_mw            0.015527\n",
       "latitude              -0.069694\n",
       "longitude              0.000035\n",
       "commissioning_year     0.031527\n",
       "geolocation_source    -2.035892\n",
       "generation_gwh_2014   -0.243975\n",
       "generation_gwh_2015   -0.309166\n",
       "generation_gwh_2016   -0.309194\n",
       "generation_gwh_2017   -0.340677\n",
       "generation_gwh_2018   -0.354764\n",
       "dtype: float64"
      ]
     },
     "execution_count": 74,
     "metadata": {},
     "output_type": "execute_result"
    }
   ],
   "source": [
    "#using power_transform method\n",
    "\n",
    "from sklearn.preprocessing import power_transform\n",
    "\n",
    "x=power_transform(x,method='yeo-johnson')\n",
    "x=pd.DataFrame(x,columns=['capacity_mw', 'latitude', 'longitude', 'commissioning_year',\n",
    "       'geolocation_source', 'generation_gwh_2014', 'generation_gwh_2015',\n",
    "       'generation_gwh_2016', 'generation_gwh_2017', 'generation_gwh_2018'])\n",
    "x.skew()"
   ]
  },
  {
   "cell_type": "markdown",
   "id": "0643e427",
   "metadata": {},
   "source": [
    "- skewness has been reduced , except for geolocation_source"
   ]
  },
  {
   "cell_type": "code",
   "execution_count": 75,
   "id": "dd18ba32",
   "metadata": {},
   "outputs": [
    {
     "data": {
      "image/png": "[encoded data removed]",
      "text/plain": [
       "<Figure size 432x288 with 1 Axes>"
      ]
     },
     "metadata": {
      "needs_background": "light"
     },
     "output_type": "display_data"
    }
   ],
   "source": [
    "sns.distplot(x['capacity_mw'])\n",
    "plt.show()"
   ]
  },
  {
   "cell_type": "code",
   "execution_count": 76,
   "id": "ad88d289",
   "metadata": {},
   "outputs": [
    {
     "data": {
      "image/png": "[encoded data removed]",
      "text/plain": [
       "<Figure size 432x288 with 1 Axes>"
      ]
     },
     "metadata": {
      "needs_background": "light"
     },
     "output_type": "display_data"
    }
   ],
   "source": [
    "sns.distplot(x['generation_gwh_2016'])\n",
    "plt.show()"
   ]
  },
  {
   "cell_type": "code",
   "execution_count": 77,
   "id": "2187d073",
   "metadata": {},
   "outputs": [],
   "source": [
    "#checking for multicollinearity\n",
    "\n",
    "from statsmodels.stats.outliers_influence import variance_inflation_factor\n",
    "\n",
    "def vif_calc():\n",
    "    vif=pd.DataFrame()\n",
    "    vif['VIF Factor']=[variance_inflation_factor(x.values,i) for i in range(x.shape[1])]\n",
    "    vif['features']=x.columns\n",
    "    print(vif)"
   ]
  },
  {
   "cell_type": "code",
   "execution_count": 78,
   "id": "abf0dfc8",
   "metadata": {},
   "outputs": [
    {
     "name": "stdout",
     "output_type": "stream",
     "text": [
      "   VIF Factor             features\n",
      "0    1.544160          capacity_mw\n",
      "1    1.088996             latitude\n",
      "2    1.209424            longitude\n",
      "3    1.175633   commissioning_year\n",
      "4    1.469682   geolocation_source\n",
      "5    4.195664  generation_gwh_2014\n",
      "6    8.040070  generation_gwh_2015\n",
      "7   11.896941  generation_gwh_2016\n",
      "8   11.646432  generation_gwh_2017\n",
      "9   12.367371  generation_gwh_2018\n"
     ]
    }
   ],
   "source": [
    "vif_calc()"
   ]
  },
  {
   "cell_type": "markdown",
   "id": "d34b34c7",
   "metadata": {},
   "source": [
    "- as the vif for some features is above 10 , we are going to drop feature variables with high VIF and weak correlation to reduce multicollinearity"
   ]
  },
  {
   "cell_type": "code",
   "execution_count": 79,
   "id": "fa6cfd5a",
   "metadata": {},
   "outputs": [
    {
     "name": "stdout",
     "output_type": "stream",
     "text": [
      "   VIF Factor             features\n",
      "0    1.542553          capacity_mw\n",
      "1    1.088960             latitude\n",
      "2    1.208789            longitude\n",
      "3    1.174937   commissioning_year\n",
      "4    1.469340   geolocation_source\n",
      "5    4.159316  generation_gwh_2014\n",
      "6    8.023000  generation_gwh_2015\n",
      "7   11.013528  generation_gwh_2016\n",
      "8    5.589526  generation_gwh_2017\n"
     ]
    }
   ],
   "source": [
    "x.drop('generation_gwh_2018',axis=1,inplace=True)\n",
    "\n",
    "#now checking for vif\n",
    "\n",
    "vif_calc()"
   ]
  },
  {
   "cell_type": "code",
   "execution_count": 80,
   "id": "0b213617",
   "metadata": {},
   "outputs": [
    {
     "name": "stdout",
     "output_type": "stream",
     "text": [
      "   VIF Factor             features\n",
      "0    1.541962          capacity_mw\n",
      "1    1.088091             latitude\n",
      "2    1.202761            longitude\n",
      "3    1.158547   commissioning_year\n",
      "4    1.469130   geolocation_source\n",
      "5    4.158994  generation_gwh_2014\n",
      "6    5.194121  generation_gwh_2015\n",
      "7    2.954358  generation_gwh_2017\n"
     ]
    }
   ],
   "source": [
    "x.drop('generation_gwh_2016',axis=1,inplace=True)\n",
    "\n",
    "#now checking for vif\n",
    "\n",
    "vif_calc()"
   ]
  },
  {
   "cell_type": "markdown",
   "id": "972a2c51",
   "metadata": {},
   "source": [
    "- okay so VIF have been reduced"
   ]
  },
  {
   "cell_type": "code",
   "execution_count": 81,
   "id": "47fedfe2",
   "metadata": {},
   "outputs": [],
   "source": [
    "#scaling the input data\n",
    "\n",
    "from sklearn.preprocessing import StandardScaler\n",
    "sc=StandardScaler()\n",
    "x=sc.fit_transform(x)"
   ]
  },
  {
   "cell_type": "code",
   "execution_count": 82,
   "id": "c3a6f50f",
   "metadata": {},
   "outputs": [
    {
     "data": {
      "text/plain": [
       "1    235\n",
       "3    221\n",
       "6    126\n",
       "7    123\n",
       "2     65\n",
       "0     50\n",
       "5     20\n",
       "4      9\n",
       "Name: primary_fuel, dtype: int64"
      ]
     },
     "execution_count": 82,
     "metadata": {},
     "output_type": "execute_result"
    }
   ],
   "source": [
    "#now checking if the dataset is imbalanced or not\n",
    "\n",
    "y.value_counts()"
   ]
  },
  {
   "cell_type": "code",
   "execution_count": 83,
   "id": "b6d8564b",
   "metadata": {},
   "outputs": [
    {
     "data": {
      "image/png": "[encoded data removed]",
      "text/plain": [
       "<Figure size 432x288 with 1 Axes>"
      ]
     },
     "metadata": {
      "needs_background": "light"
     },
     "output_type": "display_data"
    }
   ],
   "source": [
    "sns.countplot(y)\n",
    "plt.show()"
   ]
  },
  {
   "cell_type": "markdown",
   "id": "681d3179",
   "metadata": {},
   "source": [
    "- the dataset is imbalanced so we will do over_sampling using SMOTE"
   ]
  },
  {
   "cell_type": "code",
   "execution_count": 84,
   "id": "98f8294d",
   "metadata": {},
   "outputs": [
    {
     "name": "stdout",
     "output_type": "stream",
     "text": [
      "(1880, 8)\n",
      "(1880,)\n"
     ]
    }
   ],
   "source": [
    "from imblearn.over_sampling import SMOTE\n",
    "\n",
    "train_x,train_y=SMOTE().fit_resample(x,y)\n",
    "\n",
    "print(train_x.shape)\n",
    "print(train_y.shape)"
   ]
  },
  {
   "cell_type": "code",
   "execution_count": 85,
   "id": "69e9a3df",
   "metadata": {},
   "outputs": [],
   "source": [
    "#since this is classification problem so we will try out classification algorithms for best results"
   ]
  },
  {
   "cell_type": "code",
   "execution_count": 86,
   "id": "af31dfb9",
   "metadata": {},
   "outputs": [],
   "source": [
    "#importing libraries\n",
    "\n",
    "from sklearn.model_selection import train_test_split,cross_val_score\n",
    "from sklearn.neighbors import KNeighborsClassifier\n",
    "from sklearn.tree import DecisionTreeClassifier\n",
    "from sklearn.svm import SVC\n",
    "from sklearn.naive_bayes import GaussianNB\n",
    "from sklearn.metrics import accuracy_score,confusion_matrix,classification_report"
   ]
  },
  {
   "cell_type": "code",
   "execution_count": 91,
   "id": "40c27c1c",
   "metadata": {},
   "outputs": [
    {
     "name": "stdout",
     "output_type": "stream",
     "text": [
      "At random state 1 the model performs very well\n",
      "At random state 1 :\n",
      "Training accuracy score is 90.19756838905775\n",
      "Testing accuracy score is 86.17021276595744 \n",
      "\n",
      "At random state 4 the model performs very well\n",
      "At random state 4 :\n",
      "Training accuracy score is 89.28571428571429\n",
      "Testing accuracy score is 85.63829787234043 \n",
      "\n",
      "At random state 10 the model performs very well\n",
      "At random state 10 :\n",
      "Training accuracy score is 89.36170212765957\n",
      "Testing accuracy score is 86.17021276595744 \n",
      "\n",
      "At random state 15 the model performs very well\n",
      "At random state 15 :\n",
      "Training accuracy score is 88.60182370820668\n",
      "Testing accuracy score is 85.63829787234043 \n",
      "\n",
      "At random state 19 the model performs very well\n",
      "At random state 19 :\n",
      "Training accuracy score is 89.05775075987842\n",
      "Testing accuracy score is 86.17021276595744 \n",
      "\n",
      "At random state 23 the model performs very well\n",
      "At random state 23 :\n",
      "Training accuracy score is 89.13373860182371\n",
      "Testing accuracy score is 86.17021276595744 \n",
      "\n",
      "At random state 29 the model performs very well\n",
      "At random state 29 :\n",
      "Training accuracy score is 88.37386018237082\n",
      "Testing accuracy score is 85.63829787234043 \n",
      "\n",
      "At random state 33 the model performs very well\n",
      "At random state 33 :\n",
      "Training accuracy score is 89.66565349544074\n",
      "Testing accuracy score is 85.81560283687944 \n",
      "\n",
      "At random state 48 the model performs very well\n",
      "At random state 48 :\n",
      "Training accuracy score is 88.90577507598785\n",
      "Testing accuracy score is 85.63829787234043 \n",
      "\n",
      "At random state 51 the model performs very well\n",
      "At random state 51 :\n",
      "Training accuracy score is 88.52583586626139\n",
      "Testing accuracy score is 85.99290780141844 \n",
      "\n",
      "At random state 63 the model performs very well\n",
      "At random state 63 :\n",
      "Training accuracy score is 88.75379939209726\n",
      "Testing accuracy score is 85.99290780141844 \n",
      "\n",
      "At random state 86 the model performs very well\n",
      "At random state 86 :\n",
      "Training accuracy score is 88.44984802431611\n",
      "Testing accuracy score is 85.63829787234043 \n",
      "\n",
      "At random state 97 the model performs very well\n",
      "At random state 97 :\n",
      "Training accuracy score is 89.28571428571429\n",
      "Testing accuracy score is 86.17021276595744 \n",
      "\n"
     ]
    }
   ],
   "source": [
    "#KNeighbors\n",
    "\n",
    "knn=KNeighborsClassifier()\n",
    "\n",
    "for i in range(0,100):\n",
    "    x_train,x_test,y_train,y_test=train_test_split(train_x,train_y,random_state=i,test_size=.30)\n",
    "    knn.fit(x_train,y_train)\n",
    "    predtrain=knn.predict(x_train)\n",
    "    predknn=knn.predict(x_test)\n",
    "    if round(accuracy_score(y_test,predknn)*100)==86:\n",
    "        print('At random state',i,'the model performs very well')\n",
    "        print('At random state',i,':')\n",
    "        print('Training accuracy score is',accuracy_score(y_train,predtrain)*100)\n",
    "        print('Testing accuracy score is',accuracy_score(y_test,predknn)*100,'\\n')"
   ]
  },
  {
   "cell_type": "code",
   "execution_count": 92,
   "id": "203be4bf",
   "metadata": {},
   "outputs": [
    {
     "name": "stdout",
     "output_type": "stream",
     "text": [
      "0.8599290780141844\n"
     ]
    }
   ],
   "source": [
    "#using 63 as the random state for further process\n",
    "\n",
    "x_train,x_test,y_train,y_test=train_test_split(train_x,train_y,random_state=63,test_size=.30)\n",
    "knn.fit(x_train,y_train)\n",
    "predtrain=knn.predict(x_train)\n",
    "predknn=knn.predict(x_test)\n",
    "print(accuracy_score(y_test,predknn))"
   ]
  },
  {
   "cell_type": "code",
   "execution_count": 94,
   "id": "db5ac1b0",
   "metadata": {},
   "outputs": [
    {
     "name": "stdout",
     "output_type": "stream",
     "text": [
      "85.99290780141844\n",
      "[[71  0  0  0  0  0  0  2]\n",
      " [ 5 43  7  5  3  1  0  3]\n",
      " [ 0  5 61  1  0  8  0  2]\n",
      " [ 2  7  1 46  1  2  0  4]\n",
      " [ 0  1  0  0 67  0  0  0]\n",
      " [ 1  1  2  0  0 67  0  0]\n",
      " [ 0  0  0  0  0  0 72  0]\n",
      " [ 7  2  2  0  0  4  0 58]]\n",
      "              precision    recall  f1-score   support\n",
      "\n",
      "           0       0.83      0.97      0.89        73\n",
      "           1       0.73      0.64      0.68        67\n",
      "           2       0.84      0.79      0.81        77\n",
      "           3       0.88      0.73      0.80        63\n",
      "           4       0.94      0.99      0.96        68\n",
      "           5       0.82      0.94      0.88        71\n",
      "           6       1.00      1.00      1.00        72\n",
      "           7       0.84      0.79      0.82        73\n",
      "\n",
      "    accuracy                           0.86       564\n",
      "   macro avg       0.86      0.86      0.86       564\n",
      "weighted avg       0.86      0.86      0.86       564\n",
      "\n"
     ]
    }
   ],
   "source": [
    "print(accuracy_score(y_test,predknn)*100)\n",
    "print(confusion_matrix(y_test,predknn))\n",
    "print(classification_report(y_test,predknn))"
   ]
  },
  {
   "cell_type": "markdown",
   "id": "99b34bd4",
   "metadata": {},
   "source": [
    "- the recall is not that wekk distributed for all the classes"
   ]
  },
  {
   "cell_type": "code",
   "execution_count": 95,
   "id": "95445b17",
   "metadata": {},
   "outputs": [
    {
     "name": "stdout",
     "output_type": "stream",
     "text": [
      "At cv= 2\n",
      "Cross Validation Score is: 81.59574468085107\n",
      "Accuracy score is: 85.99290780141844 \n",
      "\n",
      "At cv= 3\n",
      "Cross Validation Score is: 84.41502633532227\n",
      "Accuracy score is: 85.99290780141844 \n",
      "\n",
      "At cv= 4\n",
      "Cross Validation Score is: 84.8936170212766\n",
      "Accuracy score is: 85.99290780141844 \n",
      "\n",
      "At cv= 5\n",
      "Cross Validation Score is: 85.2659574468085\n",
      "Accuracy score is: 85.99290780141844 \n",
      "\n",
      "At cv= 6\n",
      "Cross Validation Score is: 85.63945245992825\n",
      "Accuracy score is: 85.99290780141844 \n",
      "\n",
      "At cv= 7\n",
      "Cross Validation Score is: 85.85081760607478\n",
      "Accuracy score is: 85.99290780141844 \n",
      "\n",
      "At cv= 8\n",
      "Cross Validation Score is: 86.11702127659575\n",
      "Accuracy score is: 85.99290780141844 \n",
      "\n",
      "At cv= 9\n",
      "Cross Validation Score is: 86.27647936858463\n",
      "Accuracy score is: 85.99290780141844 \n",
      "\n"
     ]
    }
   ],
   "source": [
    "#checking cross validation score for logistic regression\n",
    "\n",
    "for j in range(2,10):\n",
    "    knns=cross_val_score(knn,train_x,train_y,cv=j)\n",
    "    knnc=knns.mean()\n",
    "    print('At cv=',j)\n",
    "    print('Cross Validation Score is:',knnc*100)\n",
    "    print('Accuracy score is:',accuracy_score(y_test,predknn)*100,'\\n')"
   ]
  },
  {
   "cell_type": "markdown",
   "id": "09610e53",
   "metadata": {},
   "source": [
    "- both cross validation score and accuracy score is coming out to be around each other only , so the model is performing excellent"
   ]
  },
  {
   "cell_type": "code",
   "execution_count": 97,
   "id": "c9d29173",
   "metadata": {},
   "outputs": [
    {
     "name": "stdout",
     "output_type": "stream",
     "text": [
      "1.9113475177304964\n"
     ]
    }
   ],
   "source": [
    "#checking erro for KNeighbors\n",
    "\n",
    "from sklearn.metrics import mean_squared_error\n",
    "\n",
    "mseknn=mean_squared_error(y_test,predknn)\n",
    "\n",
    "print(mseknn)"
   ]
  },
  {
   "cell_type": "code",
   "execution_count": 99,
   "id": "9d131ee4",
   "metadata": {},
   "outputs": [
    {
     "name": "stdout",
     "output_type": "stream",
     "text": [
      "84.21985815602837\n"
     ]
    }
   ],
   "source": [
    "#decisonTree\n",
    "\n",
    "dtc=DecisionTreeClassifier()\n",
    "x_train,x_test,y_train,y_test=train_test_split(train_x,train_y,random_state=63,test_size=.30)\n",
    "dtc.fit(x_train,y_train)\n",
    "predtrain=dtc.predict(x_train)\n",
    "preddtc=dtc.predict(x_test)\n",
    "\n",
    "print(accuracy_score(y_test,preddtc)*100)"
   ]
  },
  {
   "cell_type": "code",
   "execution_count": 100,
   "id": "8254add7",
   "metadata": {},
   "outputs": [
    {
     "name": "stdout",
     "output_type": "stream",
     "text": [
      "84.21985815602837\n",
      "[[65  3  1  0  0  0  0  4]\n",
      " [ 4 45  5  8  2  0  1  2]\n",
      " [ 0  3 60  4  0  8  0  2]\n",
      " [ 0  6  1 47  3  6  0  0]\n",
      " [ 0  4  1  1 60  0  0  2]\n",
      " [ 0  2  3  2  0 63  0  1]\n",
      " [ 0  0  0  0  0  0 72  0]\n",
      " [ 3  6  1  0  0  0  0 63]]\n",
      "              precision    recall  f1-score   support\n",
      "\n",
      "           0       0.90      0.89      0.90        73\n",
      "           1       0.65      0.67      0.66        67\n",
      "           2       0.83      0.78      0.81        77\n",
      "           3       0.76      0.75      0.75        63\n",
      "           4       0.92      0.88      0.90        68\n",
      "           5       0.82      0.89      0.85        71\n",
      "           6       0.99      1.00      0.99        72\n",
      "           7       0.85      0.86      0.86        73\n",
      "\n",
      "    accuracy                           0.84       564\n",
      "   macro avg       0.84      0.84      0.84       564\n",
      "weighted avg       0.84      0.84      0.84       564\n",
      "\n"
     ]
    }
   ],
   "source": [
    "print(accuracy_score(y_test,preddtc)*100)\n",
    "print(confusion_matrix(y_test,preddtc))\n",
    "print(classification_report(y_test,preddtc))"
   ]
  },
  {
   "cell_type": "markdown",
   "id": "446d3360",
   "metadata": {},
   "source": [
    "- recall with DecisionTree is still better than KNeighbors"
   ]
  },
  {
   "cell_type": "code",
   "execution_count": 101,
   "id": "e6993e7e",
   "metadata": {},
   "outputs": [
    {
     "name": "stdout",
     "output_type": "stream",
     "text": [
      "1.875886524822695\n"
     ]
    }
   ],
   "source": [
    "#checking error for DecisionTree\n",
    "\n",
    "msedtc=mean_squared_error(y_test,preddtc)\n",
    "\n",
    "print(msedtc)"
   ]
  },
  {
   "cell_type": "code",
   "execution_count": 102,
   "id": "9a3d0721",
   "metadata": {},
   "outputs": [
    {
     "name": "stdout",
     "output_type": "stream",
     "text": [
      "At cv= 2\n",
      "Cross Validation Score is: 82.87234042553192\n",
      "Accuracy score is: 84.21985815602837 \n",
      "\n",
      "At cv= 3\n",
      "Cross Validation Score is: 84.94801725001827\n",
      "Accuracy score is: 84.21985815602837 \n",
      "\n",
      "At cv= 4\n",
      "Cross Validation Score is: 85.58510638297872\n",
      "Accuracy score is: 84.21985815602837 \n",
      "\n",
      "At cv= 5\n",
      "Cross Validation Score is: 86.06382978723404\n",
      "Accuracy score is: 84.21985815602837 \n",
      "\n",
      "At cv= 6\n",
      "Cross Validation Score is: 85.31996364203685\n",
      "Accuracy score is: 84.21985815602837 \n",
      "\n",
      "At cv= 7\n",
      "Cross Validation Score is: 85.32173175545532\n",
      "Accuracy score is: 84.21985815602837 \n",
      "\n",
      "At cv= 8\n",
      "Cross Validation Score is: 85.85106382978725\n",
      "Accuracy score is: 84.21985815602837 \n",
      "\n",
      "At cv= 9\n",
      "Cross Validation Score is: 86.17091972355131\n",
      "Accuracy score is: 84.21985815602837 \n",
      "\n"
     ]
    }
   ],
   "source": [
    "#checking cross validation score for DecsionTree\n",
    "\n",
    "for j in range(2,10):\n",
    "    dtcs=cross_val_score(dtc,train_x,train_y,cv=j)\n",
    "    dtcc=dtcs.mean()\n",
    "    print('At cv=',j)\n",
    "    print('Cross Validation Score is:',dtcc*100)\n",
    "    print('Accuracy score is:',accuracy_score(y_test,preddtc)*100,'\\n')"
   ]
  },
  {
   "cell_type": "code",
   "execution_count": 103,
   "id": "ea1096f2",
   "metadata": {},
   "outputs": [
    {
     "name": "stdout",
     "output_type": "stream",
     "text": [
      "79.43262411347519\n"
     ]
    }
   ],
   "source": [
    "#SVC\n",
    "\n",
    "svc=SVC()\n",
    "x_train,x_test,y_train,y_test=train_test_split(train_x,train_y,random_state=63,test_size=.30)\n",
    "svc.fit(x_train,y_train)\n",
    "predtrain=svc.predict(x_train)\n",
    "predsvc=svc.predict(x_test)\n",
    "\n",
    "print(accuracy_score(y_test,predsvc)*100)"
   ]
  },
  {
   "cell_type": "code",
   "execution_count": 104,
   "id": "ff150672",
   "metadata": {},
   "outputs": [
    {
     "name": "stdout",
     "output_type": "stream",
     "text": [
      "79.43262411347519\n",
      "[[72  0  0  0  0  0  0  1]\n",
      " [ 6 42  9  4  3  0  0  3]\n",
      " [ 0  7 53  1  1 15  0  0]\n",
      " [ 6  7  2 40  1  3  0  4]\n",
      " [ 0  0  0  0 68  0  0  0]\n",
      " [ 5  2  0  0  0 64  0  0]\n",
      " [ 0  1  0  0  0  0 71  0]\n",
      " [21  6  0  0  0  8  0 38]]\n",
      "              precision    recall  f1-score   support\n",
      "\n",
      "           0       0.65      0.99      0.79        73\n",
      "           1       0.65      0.63      0.64        67\n",
      "           2       0.83      0.69      0.75        77\n",
      "           3       0.89      0.63      0.74        63\n",
      "           4       0.93      1.00      0.96        68\n",
      "           5       0.71      0.90      0.80        71\n",
      "           6       1.00      0.99      0.99        72\n",
      "           7       0.83      0.52      0.64        73\n",
      "\n",
      "    accuracy                           0.79       564\n",
      "   macro avg       0.81      0.79      0.79       564\n",
      "weighted avg       0.81      0.79      0.79       564\n",
      "\n"
     ]
    }
   ],
   "source": [
    "print(accuracy_score(y_test,predsvc)*100)\n",
    "print(confusion_matrix(y_test,predsvc))\n",
    "print(classification_report(y_test,predsvc))"
   ]
  },
  {
   "cell_type": "markdown",
   "id": "29e88d45",
   "metadata": {},
   "source": [
    "- recall is very poor with SVC"
   ]
  },
  {
   "cell_type": "code",
   "execution_count": 105,
   "id": "8ecdda7b",
   "metadata": {},
   "outputs": [
    {
     "name": "stdout",
     "output_type": "stream",
     "text": [
      "3.5141843971631204\n"
     ]
    }
   ],
   "source": [
    "#checking error for SVC\n",
    "\n",
    "msesvc=mean_squared_error(y_test,predsvc)\n",
    "\n",
    "print(msesvc)"
   ]
  },
  {
   "cell_type": "code",
   "execution_count": 106,
   "id": "90690588",
   "metadata": {},
   "outputs": [
    {
     "name": "stdout",
     "output_type": "stream",
     "text": [
      "At cv= 2\n",
      "Cross Validation Score is: 86.17091972355131\n",
      "Accuracy score is: 79.43262411347519 \n",
      "\n",
      "At cv= 3\n",
      "Cross Validation Score is: 86.17091972355131\n",
      "Accuracy score is: 79.43262411347519 \n",
      "\n",
      "At cv= 4\n",
      "Cross Validation Score is: 86.17091972355131\n",
      "Accuracy score is: 79.43262411347519 \n",
      "\n",
      "At cv= 5\n",
      "Cross Validation Score is: 86.17091972355131\n",
      "Accuracy score is: 79.43262411347519 \n",
      "\n"
     ]
    }
   ],
   "source": [
    "#checking cross validation score for SVC\n",
    "\n",
    "for j in range(2,6):\n",
    "    svcs=cross_val_score(svc,train_x,train_y,cv=j)\n",
    "    svcc=dtcs.mean()\n",
    "    print('At cv=',j)\n",
    "    print('Cross Validation Score is:',svcc*100)\n",
    "    print('Accuracy score is:',accuracy_score(y_test,predsvc)*100,'\\n')"
   ]
  },
  {
   "cell_type": "markdown",
   "id": "57635789",
   "metadata": {},
   "source": [
    "- the model is underfitting with SVC"
   ]
  },
  {
   "cell_type": "markdown",
   "id": "388ae3bc",
   "metadata": {},
   "source": [
    "# Ensemble:"
   ]
  },
  {
   "cell_type": "code",
   "execution_count": 110,
   "id": "771512d5",
   "metadata": {},
   "outputs": [],
   "source": [
    "#now, let's try some ensemble techniques:\n",
    "\n",
    "from sklearn.ensemble import RandomForestClassifier,AdaBoostClassifier,GradientBoostingClassifier"
   ]
  },
  {
   "cell_type": "code",
   "execution_count": 111,
   "id": "620dba62",
   "metadata": {},
   "outputs": [
    {
     "name": "stdout",
     "output_type": "stream",
     "text": [
      "90.60283687943263\n"
     ]
    }
   ],
   "source": [
    "#RandomForestClassifier\n",
    "\n",
    "rf=RandomForestClassifier()\n",
    "x_train,x_test,y_train,y_test=train_test_split(train_x,train_y,random_state=63,test_size=.30)\n",
    "rf.fit(x_train,y_train)\n",
    "predtrain=rf.predict(x_train)\n",
    "predrf=rf.predict(x_test)\n",
    "\n",
    "print(accuracy_score(y_test,predrf)*100)"
   ]
  },
  {
   "cell_type": "code",
   "execution_count": 112,
   "id": "019d730a",
   "metadata": {},
   "outputs": [
    {
     "name": "stdout",
     "output_type": "stream",
     "text": [
      "90.60283687943263\n",
      "[[69  1  1  0  0  0  0  2]\n",
      " [ 5 48  5  5  2  0  0  2]\n",
      " [ 0  3 65  1  0  6  0  2]\n",
      " [ 0  4  0 56  2  1  0  0]\n",
      " [ 0  1  0  0 66  0  0  1]\n",
      " [ 0  1  1  0  0 69  0  0]\n",
      " [ 0  0  0  0  0  0 72  0]\n",
      " [ 4  2  0  0  0  1  0 66]]\n",
      "              precision    recall  f1-score   support\n",
      "\n",
      "           0       0.88      0.95      0.91        73\n",
      "           1       0.80      0.72      0.76        67\n",
      "           2       0.90      0.84      0.87        77\n",
      "           3       0.90      0.89      0.90        63\n",
      "           4       0.94      0.97      0.96        68\n",
      "           5       0.90      0.97      0.93        71\n",
      "           6       1.00      1.00      1.00        72\n",
      "           7       0.90      0.90      0.90        73\n",
      "\n",
      "    accuracy                           0.91       564\n",
      "   macro avg       0.90      0.91      0.90       564\n",
      "weighted avg       0.90      0.91      0.90       564\n",
      "\n"
     ]
    }
   ],
   "source": [
    "print(accuracy_score(y_test,predrf)*100)\n",
    "print(confusion_matrix(y_test,predrf))\n",
    "print(classification_report(y_test,predrf))"
   ]
  },
  {
   "cell_type": "markdown",
   "id": "55baa723",
   "metadata": {},
   "source": [
    "- the accuracy score for RandomForest is highest among the tried algorithms\n",
    "- the recall is pretty much great too with RandomForest"
   ]
  },
  {
   "cell_type": "code",
   "execution_count": 113,
   "id": "eae16dbe",
   "metadata": {},
   "outputs": [
    {
     "name": "stdout",
     "output_type": "stream",
     "text": [
      "1.1843971631205674\n"
     ]
    }
   ],
   "source": [
    "#checking error for RandomForest\n",
    "\n",
    "mserf=mean_squared_error(y_test,predrf)\n",
    "\n",
    "print(mserf)"
   ]
  },
  {
   "cell_type": "code",
   "execution_count": 114,
   "id": "72063755",
   "metadata": {},
   "outputs": [
    {
     "name": "stdout",
     "output_type": "stream",
     "text": [
      "At cv= 2\n",
      "Cross Validation Score is: 88.98936170212765\n",
      "Accuracy score is: 90.60283687943263 \n",
      "\n",
      "At cv= 3\n",
      "Cross Validation Score is: 89.46858869508945\n",
      "Accuracy score is: 90.60283687943263 \n",
      "\n",
      "At cv= 4\n",
      "Cross Validation Score is: 90.2127659574468\n",
      "Accuracy score is: 90.60283687943263 \n",
      "\n",
      "At cv= 5\n",
      "Cross Validation Score is: 90.90425531914892\n",
      "Accuracy score is: 90.60283687943263 \n",
      "\n",
      "At cv= 6\n",
      "Cross Validation Score is: 90.95833078963254\n",
      "Accuracy score is: 90.60283687943263 \n",
      "\n"
     ]
    }
   ],
   "source": [
    "#checking cross validation score for RandomForest\n",
    "\n",
    "for j in range(2,7):\n",
    "    rfs=cross_val_score(rf,train_x,train_y,cv=j)\n",
    "    rfc=rfs.mean()\n",
    "    print('At cv=',j)\n",
    "    print('Cross Validation Score is:',rfc*100)\n",
    "    print('Accuracy score is:',accuracy_score(y_test,predrf)*100,'\\n')"
   ]
  },
  {
   "cell_type": "code",
   "execution_count": 115,
   "id": "2faa1055",
   "metadata": {},
   "outputs": [
    {
     "name": "stdout",
     "output_type": "stream",
     "text": [
      "28.900709219858157\n"
     ]
    }
   ],
   "source": [
    "#AdaBoostClassifier\n",
    "\n",
    "ada=AdaBoostClassifier()\n",
    "x_train,x_test,y_train,y_test=train_test_split(train_x,train_y,random_state=63,test_size=.30)\n",
    "ada.fit(x_train,y_train)\n",
    "predtrain=ada.predict(x_train)\n",
    "predada=ada.predict(x_test)\n",
    "\n",
    "print(accuracy_score(y_test,predada)*100)"
   ]
  },
  {
   "cell_type": "code",
   "execution_count": 116,
   "id": "d78cadb1",
   "metadata": {},
   "outputs": [
    {
     "name": "stdout",
     "output_type": "stream",
     "text": [
      "28.900709219858157\n",
      "[[ 0  0  0  0  0 73  0  0]\n",
      " [ 0 21  0  0  0 46  0  0]\n",
      " [ 0  5  0  0  0 72  0  0]\n",
      " [ 0  4  0  0  0 59  0  0]\n",
      " [ 0  2  0  0  0 66  0  0]\n",
      " [ 0  0  0  0  0 71  0  0]\n",
      " [ 0  1  0  0  0  0 71  0]\n",
      " [ 0  0  0  0  0 73  0  0]]\n",
      "              precision    recall  f1-score   support\n",
      "\n",
      "           0       0.00      0.00      0.00        73\n",
      "           1       0.64      0.31      0.42        67\n",
      "           2       0.00      0.00      0.00        77\n",
      "           3       0.00      0.00      0.00        63\n",
      "           4       0.00      0.00      0.00        68\n",
      "           5       0.15      1.00      0.27        71\n",
      "           6       1.00      0.99      0.99        72\n",
      "           7       0.00      0.00      0.00        73\n",
      "\n",
      "    accuracy                           0.29       564\n",
      "   macro avg       0.22      0.29      0.21       564\n",
      "weighted avg       0.22      0.29      0.21       564\n",
      "\n"
     ]
    }
   ],
   "source": [
    "print(accuracy_score(y_test,predada)*100)\n",
    "print(confusion_matrix(y_test,predada))\n",
    "print(classification_report(y_test,predada))"
   ]
  },
  {
   "cell_type": "code",
   "execution_count": 117,
   "id": "de56e361",
   "metadata": {},
   "outputs": [
    {
     "name": "stdout",
     "output_type": "stream",
     "text": [
      "6.8563829787234045\n"
     ]
    }
   ],
   "source": [
    "#checking error for AdaBoost\n",
    "\n",
    "mseada=mean_squared_error(y_test,predada)\n",
    "\n",
    "print(mseada)"
   ]
  },
  {
   "cell_type": "code",
   "execution_count": 118,
   "id": "8dd2d24b",
   "metadata": {},
   "outputs": [
    {
     "name": "stdout",
     "output_type": "stream",
     "text": [
      "At cv= 2\n",
      "Cross Validation Score is: 27.500000000000004\n",
      "Accuracy score is: 28.900709219858157 \n",
      "\n",
      "At cv= 3\n",
      "Cross Validation Score is: 27.60673830961371\n",
      "Accuracy score is: 28.900709219858157 \n",
      "\n",
      "At cv= 4\n",
      "Cross Validation Score is: 27.712765957446813\n",
      "Accuracy score is: 28.900709219858157 \n",
      "\n",
      "At cv= 5\n",
      "Cross Validation Score is: 27.712765957446813\n",
      "Accuracy score is: 28.900709219858157 \n",
      "\n"
     ]
    }
   ],
   "source": [
    "#checking cross validation score for AdaBoost\n",
    "\n",
    "for j in range(2,6):\n",
    "    adas=cross_val_score(ada,train_x,train_y,cv=j)\n",
    "    adac=adas.mean()\n",
    "    print('At cv=',j)\n",
    "    print('Cross Validation Score is:',adac*100)\n",
    "    print('Accuracy score is:',accuracy_score(y_test,predada)*100,'\\n')"
   ]
  },
  {
   "cell_type": "markdown",
   "id": "fc121d16",
   "metadata": {},
   "source": [
    "- the model's accuracy is poorest with AdaBosst"
   ]
  },
  {
   "cell_type": "code",
   "execution_count": 119,
   "id": "9fef1490",
   "metadata": {},
   "outputs": [
    {
     "name": "stdout",
     "output_type": "stream",
     "text": [
      "88.47517730496453\n"
     ]
    }
   ],
   "source": [
    "#GradientBoostingClassifier\n",
    "\n",
    "gb=GradientBoostingClassifier()\n",
    "x_train,x_test,y_train,y_test=train_test_split(train_x,train_y,random_state=63,test_size=.30)\n",
    "gb.fit(x_train,y_train)\n",
    "predtrain=gb.predict(x_train)\n",
    "predgb=gb.predict(x_test)\n",
    "\n",
    "print(accuracy_score(y_test,predgb)*100)"
   ]
  },
  {
   "cell_type": "code",
   "execution_count": 120,
   "id": "9a50c106",
   "metadata": {},
   "outputs": [
    {
     "name": "stdout",
     "output_type": "stream",
     "text": [
      "88.47517730496453\n",
      "[[68  2  0  0  0  0  0  3]\n",
      " [ 6 43  7  4  4  0  0  3]\n",
      " [ 1  1 63  4  0  6  0  2]\n",
      " [ 0  4  0 57  2  0  0  0]\n",
      " [ 0  2  0  0 66  0  0  0]\n",
      " [ 0  1  3  2  0 65  0  0]\n",
      " [ 0  0  0  0  0  0 72  0]\n",
      " [ 4  3  0  0  0  1  0 65]]\n",
      "              precision    recall  f1-score   support\n",
      "\n",
      "           0       0.86      0.93      0.89        73\n",
      "           1       0.77      0.64      0.70        67\n",
      "           2       0.86      0.82      0.84        77\n",
      "           3       0.85      0.90      0.88        63\n",
      "           4       0.92      0.97      0.94        68\n",
      "           5       0.90      0.92      0.91        71\n",
      "           6       1.00      1.00      1.00        72\n",
      "           7       0.89      0.89      0.89        73\n",
      "\n",
      "    accuracy                           0.88       564\n",
      "   macro avg       0.88      0.88      0.88       564\n",
      "weighted avg       0.88      0.88      0.88       564\n",
      "\n"
     ]
    }
   ],
   "source": [
    "print(accuracy_score(y_test,predgb)*100)\n",
    "print(confusion_matrix(y_test,predgb))\n",
    "print(classification_report(y_test,predgb))"
   ]
  },
  {
   "cell_type": "markdown",
   "id": "be73bb75",
   "metadata": {},
   "source": [
    "- GradientBoosting is also giving us great results only recall for class 1 from the predicted variable is better with RandomForest"
   ]
  },
  {
   "cell_type": "code",
   "execution_count": 121,
   "id": "c913cf75",
   "metadata": {},
   "outputs": [
    {
     "name": "stdout",
     "output_type": "stream",
     "text": [
      "1.4716312056737588\n"
     ]
    }
   ],
   "source": [
    "msegb=mean_squared_error(y_test,predgb)\n",
    "\n",
    "print(msegb)"
   ]
  },
  {
   "cell_type": "code",
   "execution_count": 122,
   "id": "f4eb7ddb",
   "metadata": {},
   "outputs": [
    {
     "name": "stdout",
     "output_type": "stream",
     "text": [
      "At cv= 2\n",
      "Cross Validation Score is: 86.11702127659575\n",
      "Accuracy score is: 88.47517730496453 \n",
      "\n",
      "At cv= 3\n",
      "Cross Validation Score is: 88.29797894872722\n",
      "Accuracy score is: 88.47517730496453 \n",
      "\n",
      "At cv= 4\n",
      "Cross Validation Score is: 87.81914893617021\n",
      "Accuracy score is: 88.47517730496453 \n",
      "\n",
      "At cv= 5\n",
      "Cross Validation Score is: 87.9787234042553\n",
      "Accuracy score is: 88.47517730496453 \n",
      "\n"
     ]
    }
   ],
   "source": [
    "#checking cross validation score for GradientBoosting\n",
    "\n",
    "for j in range(2,6):\n",
    "    gbs=cross_val_score(gb,train_x,train_y,cv=j)\n",
    "    gbc=gbs.mean()\n",
    "    print('At cv=',j)\n",
    "    print('Cross Validation Score is:',gbc*100)\n",
    "    print('Accuracy score is:',accuracy_score(y_test,predgb)*100,'\\n')"
   ]
  },
  {
   "cell_type": "code",
   "execution_count": 124,
   "id": "9665162e",
   "metadata": {},
   "outputs": [
    {
     "data": {
      "text/html": [
       "<div>\n",
       "<style scoped>\n",
       "    .dataframe tbody tr th:only-of-type {\n",
       "        vertical-align: middle;\n",
       "    }\n",
       "\n",
       "    .dataframe tbody tr th {\n",
       "        vertical-align: top;\n",
       "    }\n",
       "\n",
       "    .dataframe thead th {\n",
       "        text-align: right;\n",
       "    }\n",
       "</style>\n",
       "<table border=\"1\" class=\"dataframe\">\n",
       "  <thead>\n",
       "    <tr style=\"text-align: right;\">\n",
       "      <th></th>\n",
       "      <th>Mean Squared Error</th>\n",
       "      <th>Accuracy Score</th>\n",
       "    </tr>\n",
       "  </thead>\n",
       "  <tbody>\n",
       "    <tr>\n",
       "      <th>KNeighborsClassifier</th>\n",
       "      <td>1.911348</td>\n",
       "      <td>0.859929</td>\n",
       "    </tr>\n",
       "    <tr>\n",
       "      <th>DecisionTreeClassifier</th>\n",
       "      <td>1.875887</td>\n",
       "      <td>0.842199</td>\n",
       "    </tr>\n",
       "    <tr>\n",
       "      <th>SVC</th>\n",
       "      <td>5.015957</td>\n",
       "      <td>0.794326</td>\n",
       "    </tr>\n",
       "    <tr>\n",
       "      <th>AdaBoostClassifer</th>\n",
       "      <td>6.856383</td>\n",
       "      <td>0.289007</td>\n",
       "    </tr>\n",
       "    <tr>\n",
       "      <th>GradientBoostingClassifier</th>\n",
       "      <td>1.471631</td>\n",
       "      <td>0.884752</td>\n",
       "    </tr>\n",
       "    <tr>\n",
       "      <th>RandomForestClassifier</th>\n",
       "      <td>1.184397</td>\n",
       "      <td>0.906028</td>\n",
       "    </tr>\n",
       "  </tbody>\n",
       "</table>\n",
       "</div>"
      ],
      "text/plain": [
       "                            Mean Squared Error  Accuracy Score\n",
       "KNeighborsClassifier                  1.911348        0.859929\n",
       "DecisionTreeClassifier                1.875887        0.842199\n",
       "SVC                                   5.015957        0.794326\n",
       "AdaBoostClassifer                     6.856383        0.289007\n",
       "GradientBoostingClassifier            1.471631        0.884752\n",
       "RandomForestClassifier                1.184397        0.906028"
      ]
     },
     "execution_count": 124,
     "metadata": {},
     "output_type": "execute_result"
    }
   ],
   "source": [
    "from sklearn.metrics import accuracy_score as acs\n",
    "\n",
    "algodf=pd.DataFrame({'Mean Squared Error':[mseknn,msedtc,msesvc,mseada,msegb,mserf],'Accuracy Score':[acs(y_test,predknn),acs(y_test,preddtc),acs(y_test,predsvc),acs(y_test,predada),acs(y_test,predgb),acs(y_test,predrf)]},index=['KNeighborsClassifier','DecisionTreeClassifier','SVC','AdaBoostClassifer','GradientBoostingClassifier','RandomForestClassifier'])\n",
    "algodf"
   ]
  },
  {
   "cell_type": "markdown",
   "id": "51e69771",
   "metadata": {},
   "source": [
    "- the erros are lowest , the accuracy score is highest and the recall is great too with RandomForestClassifier as seen above"
   ]
  },
  {
   "cell_type": "code",
   "execution_count": 125,
   "id": "ab74fbaf",
   "metadata": {},
   "outputs": [
    {
     "name": "stdout",
     "output_type": "stream",
     "text": [
      "{'criterion': 'entropy', 'max_depth': 9, 'max_features': 'log2'}\n"
     ]
    }
   ],
   "source": [
    "#doing hyperparametertuning on RandomForest for best results\n",
    "\n",
    "from sklearn.model_selection import GridSearchCV\n",
    "\n",
    "rf=RandomForestClassifier()\n",
    "parameters={'criterion':[\"gini\", \"entropy\"],'max_features':['sqrt','log2','auto'], 'max_depth':[i for i in range(10)]}\n",
    "clf=GridSearchCV(rf,parameters)\n",
    "x_train,x_test,y_train,y_test=train_test_split(train_x,train_y,random_state=33,test_size=.30)\n",
    "clf.fit(x_train,y_train)\n",
    "\n",
    "print(clf.best_params_)"
   ]
  },
  {
   "cell_type": "code",
   "execution_count": 128,
   "id": "813964ca",
   "metadata": {},
   "outputs": [
    {
     "name": "stdout",
     "output_type": "stream",
     "text": [
      "At random state: 0\n",
      "87.58865248226951 \n",
      "\n",
      "At random state: 14\n",
      "87.7659574468085 \n",
      "\n",
      "At random state: 20\n",
      "87.7659574468085 \n",
      "\n",
      "At random state: 23\n",
      "88.47517730496453 \n",
      "\n",
      "At random state: 25\n",
      "87.94326241134752 \n",
      "\n",
      "At random state: 27\n",
      "87.58865248226951 \n",
      "\n",
      "At random state: 30\n",
      "87.7659574468085 \n",
      "\n",
      "At random state: 31\n",
      "87.58865248226951 \n",
      "\n",
      "At random state: 34\n",
      "87.58865248226951 \n",
      "\n",
      "At random state: 44\n",
      "87.58865248226951 \n",
      "\n",
      "At random state: 45\n",
      "87.7659574468085 \n",
      "\n",
      "At random state: 49\n",
      "87.7659574468085 \n",
      "\n",
      "At random state: 52\n",
      "87.94326241134752 \n",
      "\n",
      "At random state: 57\n",
      "88.47517730496453 \n",
      "\n",
      "At random state: 69\n",
      "88.12056737588652 \n",
      "\n",
      "At random state: 72\n",
      "87.94326241134752 \n",
      "\n",
      "At random state: 80\n",
      "88.12056737588652 \n",
      "\n",
      "At random state: 82\n",
      "87.58865248226951 \n",
      "\n",
      "At random state: 83\n",
      "87.94326241134752 \n",
      "\n",
      "At random state: 86\n",
      "87.58865248226951 \n",
      "\n",
      "At random state: 87\n",
      "88.47517730496453 \n",
      "\n",
      "At random state: 88\n",
      "88.12056737588652 \n",
      "\n"
     ]
    }
   ],
   "source": [
    "#finding a good random state\n",
    "\n",
    "for i in range(100):\n",
    "    rf=RandomForestClassifier(criterion='entropy',max_features='log2',max_depth=9)\n",
    "    x_train,x_test,y_train,y_test=train_test_split(train_x,train_y,random_state=i,test_size=.30)\n",
    "    rf.fit(x_train,y_train)\n",
    "    predrf=rf.predict(x_test)\n",
    "    if round(accuracy_score(y_test,predrf)*100)==88:\n",
    "        print('At random state:',i)\n",
    "        print(accuracy_score(y_test,predrf)*100,'\\n')"
   ]
  },
  {
   "cell_type": "code",
   "execution_count": 154,
   "id": "a5459f9b",
   "metadata": {},
   "outputs": [
    {
     "name": "stdout",
     "output_type": "stream",
     "text": [
      "87.7659574468085\n"
     ]
    }
   ],
   "source": [
    "#using the random state as 54\n",
    "\n",
    "rf=RandomForestClassifier(criterion='entropy',max_features='log2',max_depth=9)\n",
    "x_train,x_test,y_train,y_test=train_test_split(train_x,train_y,random_state=54,test_size=.30)\n",
    "rf.fit(x_train,y_train)\n",
    "predtrain=rf.predict(x_train)\n",
    "predrf=rf.predict(x_test)\n",
    "print(accuracy_score(y_test,predrf)*100)"
   ]
  },
  {
   "cell_type": "code",
   "execution_count": 126,
   "id": "b341132d",
   "metadata": {},
   "outputs": [
    {
     "name": "stdout",
     "output_type": "stream",
     "text": [
      "At cv= 2\n",
      "Cross Validation Score is: 86.59574468085107 \n",
      "\n",
      "At cv= 3\n",
      "Cross Validation Score is: 86.75565135124577 \n",
      "\n",
      "At cv= 4\n",
      "Cross Validation Score is: 87.07446808510639 \n",
      "\n",
      "At cv= 5\n",
      "Cross Validation Score is: 87.6063829787234 \n",
      "\n",
      "At cv= 6\n",
      "Cross Validation Score is: 87.34152744144401 \n",
      "\n",
      "At cv= 7\n",
      "Cross Validation Score is: 87.97924873772402 \n",
      "\n",
      "At cv= 8\n",
      "Cross Validation Score is: 87.07446808510639 \n",
      "\n",
      "At cv= 9\n",
      "Cross Validation Score is: 87.81923485870854 \n",
      "\n",
      "At cv= 10\n",
      "Cross Validation Score is: 87.5 \n",
      "\n",
      "At cv= 11\n",
      "Cross Validation Score is: 87.5544922913344 \n",
      "\n",
      "At cv= 12\n",
      "Cross Validation Score is: 87.49965975284448 \n",
      "\n",
      "At cv= 13\n",
      "Cross Validation Score is: 87.87356321839081 \n",
      "\n",
      "At cv= 14\n",
      "Cross Validation Score is: 87.8220011055832 \n",
      "\n",
      "At cv= 15\n",
      "Cross Validation Score is: 88.0325925925926 \n",
      "\n",
      "At cv= 16\n",
      "Cross Validation Score is: 87.49909459655221 \n",
      "\n",
      "At cv= 17\n",
      "Cross Validation Score is: 87.2862166979814 \n",
      "\n",
      "At cv= 18\n",
      "Cross Validation Score is: 87.39265364265366 \n",
      "\n",
      "At cv= 19\n",
      "Cross Validation Score is: 87.3417309507535 \n",
      "\n",
      "At cv= 20\n",
      "Cross Validation Score is: 87.7127659574468 \n",
      "\n"
     ]
    }
   ],
   "source": [
    "#checking for cross validation score\n",
    "\n",
    "rf=RandomForestClassifier(criterion='entropy',max_features='log2',max_depth=9)\n",
    "for j in range(2,21):\n",
    "    rfs=cross_val_score(rf,train_x,train_y,cv=j)\n",
    "    rfc=rfs.mean()\n",
    "    print('At cv=',j)\n",
    "    print('Cross Validation Score is:',rfc*100,'\\n')"
   ]
  },
  {
   "cell_type": "code",
   "execution_count": 161,
   "id": "7fd72eb5",
   "metadata": {},
   "outputs": [
    {
     "name": "stdout",
     "output_type": "stream",
     "text": [
      "Cross Validation Score is: 87.71335647496639 \n",
      "\n"
     ]
    }
   ],
   "source": [
    "#checking for cross validation score at cv=11\n",
    "\n",
    "rf=RandomForestClassifier(criterion='entropy',max_features='log2',max_depth=9)\n",
    "rfs=cross_val_score(rf,train_x,train_y,cv=11)\n",
    "rfc=rfs.mean()\n",
    "print('Cross Validation Score is:',rfc*100,'\\n')"
   ]
  },
  {
   "cell_type": "code",
   "execution_count": 162,
   "id": "be1659be",
   "metadata": {},
   "outputs": [
    {
     "name": "stdout",
     "output_type": "stream",
     "text": [
      "              precision    recall  f1-score   support\n",
      "\n",
      "           0       0.86      0.97      0.92        72\n",
      "           1       0.87      0.58      0.69        78\n",
      "           2       0.79      0.79      0.79        73\n",
      "           3       0.92      0.83      0.87        66\n",
      "           4       0.89      1.00      0.94        74\n",
      "           5       0.86      0.96      0.90        68\n",
      "           6       1.00      1.00      1.00        77\n",
      "           7       0.82      0.91      0.86        56\n",
      "\n",
      "    accuracy                           0.88       564\n",
      "   macro avg       0.88      0.88      0.87       564\n",
      "weighted avg       0.88      0.88      0.87       564\n",
      "\n",
      "[[70  0  0  0  0  0  0  2]\n",
      " [ 6 45  7  4  7  2  0  7]\n",
      " [ 1  3 58  0  2  8  0  1]\n",
      " [ 0  2  7 55  0  1  0  1]\n",
      " [ 0  0  0  0 74  0  0  0]\n",
      " [ 0  1  1  1  0 65  0  0]\n",
      " [ 0  0  0  0  0  0 77  0]\n",
      " [ 4  1  0  0  0  0  0 51]]\n"
     ]
    }
   ],
   "source": [
    "print(classification_report(y_test,predrf))\n",
    "print(confusion_matrix(y_test,predrf))"
   ]
  },
  {
   "cell_type": "code",
   "execution_count": 163,
   "id": "6c493339",
   "metadata": {},
   "outputs": [
    {
     "name": "stdout",
     "output_type": "stream",
     "text": [
      "Mean Squared Error: 1.5638297872340425\n",
      "Root Mean Squared Error: 1.2505318017683686\n"
     ]
    }
   ],
   "source": [
    "print('Mean Squared Error:',mean_squared_error(y_test,predrf))\n",
    "print('Root Mean Squared Error:',np.sqrt(mean_squared_error(y_test,predrf)))"
   ]
  },
  {
   "cell_type": "code",
   "execution_count": 166,
   "id": "afb1b958",
   "metadata": {},
   "outputs": [
    {
     "name": "stdout",
     "output_type": "stream",
     "text": [
      "The model is performing extremely well with RandomForestClassifier because we are getting both accuracy score and cross validation score as 88 \n",
      "\n",
      "Accuracy: 88\n",
      "Cross Validation Score: 88\n"
     ]
    }
   ],
   "source": [
    "print('The model is performing extremely well with RandomForestClassifier because we are getting both accuracy score and cross validation score as 88','\\n')\n",
    "print('Accuracy:',round(accuracy_score(y_test,predrf)*100))\n",
    "print('Cross Validation Score:',round(rfc*100))"
   ]
  },
  {
   "cell_type": "code",
   "execution_count": 167,
   "id": "f84a73ee",
   "metadata": {},
   "outputs": [
    {
     "data": {
      "text/html": [
       "<div>\n",
       "<style scoped>\n",
       "    .dataframe tbody tr th:only-of-type {\n",
       "        vertical-align: middle;\n",
       "    }\n",
       "\n",
       "    .dataframe tbody tr th {\n",
       "        vertical-align: top;\n",
       "    }\n",
       "\n",
       "    .dataframe thead th {\n",
       "        text-align: right;\n",
       "    }\n",
       "</style>\n",
       "<table border=\"1\" class=\"dataframe\">\n",
       "  <thead>\n",
       "    <tr style=\"text-align: right;\">\n",
       "      <th></th>\n",
       "      <th>Fraud Reported</th>\n",
       "      <th>Predicted Fraud Reported</th>\n",
       "    </tr>\n",
       "  </thead>\n",
       "  <tbody>\n",
       "    <tr>\n",
       "      <th>1670</th>\n",
       "      <td>6</td>\n",
       "      <td>6</td>\n",
       "    </tr>\n",
       "    <tr>\n",
       "      <th>512</th>\n",
       "      <td>1</td>\n",
       "      <td>1</td>\n",
       "    </tr>\n",
       "    <tr>\n",
       "      <th>1117</th>\n",
       "      <td>2</td>\n",
       "      <td>7</td>\n",
       "    </tr>\n",
       "    <tr>\n",
       "      <th>874</th>\n",
       "      <td>0</td>\n",
       "      <td>0</td>\n",
       "    </tr>\n",
       "    <tr>\n",
       "      <th>246</th>\n",
       "      <td>0</td>\n",
       "      <td>0</td>\n",
       "    </tr>\n",
       "    <tr>\n",
       "      <th>...</th>\n",
       "      <td>...</td>\n",
       "      <td>...</td>\n",
       "    </tr>\n",
       "    <tr>\n",
       "      <th>185</th>\n",
       "      <td>2</td>\n",
       "      <td>0</td>\n",
       "    </tr>\n",
       "    <tr>\n",
       "      <th>1487</th>\n",
       "      <td>5</td>\n",
       "      <td>5</td>\n",
       "    </tr>\n",
       "    <tr>\n",
       "      <th>495</th>\n",
       "      <td>1</td>\n",
       "      <td>2</td>\n",
       "    </tr>\n",
       "    <tr>\n",
       "      <th>1036</th>\n",
       "      <td>2</td>\n",
       "      <td>2</td>\n",
       "    </tr>\n",
       "    <tr>\n",
       "      <th>976</th>\n",
       "      <td>0</td>\n",
       "      <td>0</td>\n",
       "    </tr>\n",
       "  </tbody>\n",
       "</table>\n",
       "<p>564 rows × 2 columns</p>\n",
       "</div>"
      ],
      "text/plain": [
       "      Fraud Reported  Predicted Fraud Reported\n",
       "1670               6                         6\n",
       "512                1                         1\n",
       "1117               2                         7\n",
       "874                0                         0\n",
       "246                0                         0\n",
       "...              ...                       ...\n",
       "185                2                         0\n",
       "1487               5                         5\n",
       "495                1                         2\n",
       "1036               2                         2\n",
       "976                0                         0\n",
       "\n",
       "[564 rows x 2 columns]"
      ]
     },
     "execution_count": 167,
     "metadata": {},
     "output_type": "execute_result"
    }
   ],
   "source": [
    "preddf=pd.DataFrame({'Fraud Reported':y_test,'Predicted Fraud Reported':predrf})\n",
    "preddf"
   ]
  },
  {
   "cell_type": "code",
   "execution_count": 168,
   "id": "8055be19",
   "metadata": {},
   "outputs": [],
   "source": [
    "#saving the best model\n",
    "\n",
    "import pickle\n",
    "\n",
    "pickle.dump(rf,open('powerplantfuel.pkl','wb'))"
   ]
  },
  {
   "cell_type": "code",
   "execution_count": null,
   "id": "b71364e3",
   "metadata": {},
   "outputs": [],
   "source": [
    "\n"
   ]
  },
  {
   "cell_type": "raw",
   "id": "27e9fc8c",
   "metadata": {},
   "source": [
    "ii. To predict the capacity in mw"
   ]
  },
  {
   "cell_type": "markdown",
   "id": "27bd284a",
   "metadata": {},
   "source": [
    "- as we have already done preprocessing and EDA in previous part we are going to use the same dataset, that is dataset without outliers"
   ]
  },
  {
   "cell_type": "code",
   "execution_count": 169,
   "id": "f8d471a4",
   "metadata": {
    "scrolled": true
   },
   "outputs": [
    {
     "data": {
      "text/html": [
       "<div>\n",
       "<style scoped>\n",
       "    .dataframe tbody tr th:only-of-type {\n",
       "        vertical-align: middle;\n",
       "    }\n",
       "\n",
       "    .dataframe tbody tr th {\n",
       "        vertical-align: top;\n",
       "    }\n",
       "\n",
       "    .dataframe thead th {\n",
       "        text-align: right;\n",
       "    }\n",
       "</style>\n",
       "<table border=\"1\" class=\"dataframe\">\n",
       "  <thead>\n",
       "    <tr style=\"text-align: right;\">\n",
       "      <th></th>\n",
       "      <th>capacity_mw</th>\n",
       "      <th>latitude</th>\n",
       "      <th>longitude</th>\n",
       "      <th>primary_fuel</th>\n",
       "      <th>commissioning_year</th>\n",
       "      <th>geolocation_source</th>\n",
       "      <th>generation_gwh_2014</th>\n",
       "      <th>generation_gwh_2015</th>\n",
       "      <th>generation_gwh_2016</th>\n",
       "      <th>generation_gwh_2017</th>\n",
       "      <th>generation_gwh_2018</th>\n",
       "    </tr>\n",
       "  </thead>\n",
       "  <tbody>\n",
       "    <tr>\n",
       "      <th>0</th>\n",
       "      <td>2.5</td>\n",
       "      <td>28.1839</td>\n",
       "      <td>73.2407</td>\n",
       "      <td>6</td>\n",
       "      <td>2011</td>\n",
       "      <td>1</td>\n",
       "      <td>2431.823590</td>\n",
       "      <td>2428.226946</td>\n",
       "      <td>2467.936859</td>\n",
       "      <td>2547.759305</td>\n",
       "      <td>2600.804099</td>\n",
       "    </tr>\n",
       "    <tr>\n",
       "      <th>1</th>\n",
       "      <td>98.0</td>\n",
       "      <td>24.7663</td>\n",
       "      <td>74.6090</td>\n",
       "      <td>1</td>\n",
       "      <td>1997</td>\n",
       "      <td>2</td>\n",
       "      <td>2431.823590</td>\n",
       "      <td>2428.226946</td>\n",
       "      <td>2467.936859</td>\n",
       "      <td>2547.759305</td>\n",
       "      <td>2600.804099</td>\n",
       "    </tr>\n",
       "    <tr>\n",
       "      <th>2</th>\n",
       "      <td>39.2</td>\n",
       "      <td>21.9038</td>\n",
       "      <td>69.3732</td>\n",
       "      <td>7</td>\n",
       "      <td>1997</td>\n",
       "      <td>2</td>\n",
       "      <td>2431.823590</td>\n",
       "      <td>2428.226946</td>\n",
       "      <td>2467.936859</td>\n",
       "      <td>2547.759305</td>\n",
       "      <td>2600.804099</td>\n",
       "    </tr>\n",
       "    <tr>\n",
       "      <th>3</th>\n",
       "      <td>135.0</td>\n",
       "      <td>23.8712</td>\n",
       "      <td>91.3602</td>\n",
       "      <td>2</td>\n",
       "      <td>2004</td>\n",
       "      <td>2</td>\n",
       "      <td>617.789264</td>\n",
       "      <td>843.747000</td>\n",
       "      <td>886.004428</td>\n",
       "      <td>663.774500</td>\n",
       "      <td>626.239128</td>\n",
       "    </tr>\n",
       "    <tr>\n",
       "      <th>4</th>\n",
       "      <td>1800.0</td>\n",
       "      <td>21.9603</td>\n",
       "      <td>82.4091</td>\n",
       "      <td>1</td>\n",
       "      <td>2015</td>\n",
       "      <td>2</td>\n",
       "      <td>3035.550000</td>\n",
       "      <td>5916.370000</td>\n",
       "      <td>6243.000000</td>\n",
       "      <td>5385.579736</td>\n",
       "      <td>7279.000000</td>\n",
       "    </tr>\n",
       "    <tr>\n",
       "      <th>...</th>\n",
       "      <td>...</td>\n",
       "      <td>...</td>\n",
       "      <td>...</td>\n",
       "      <td>...</td>\n",
       "      <td>...</td>\n",
       "      <td>...</td>\n",
       "      <td>...</td>\n",
       "      <td>...</td>\n",
       "      <td>...</td>\n",
       "      <td>...</td>\n",
       "      <td>...</td>\n",
       "    </tr>\n",
       "    <tr>\n",
       "      <th>902</th>\n",
       "      <td>1600.0</td>\n",
       "      <td>16.2949</td>\n",
       "      <td>77.3568</td>\n",
       "      <td>1</td>\n",
       "      <td>2016</td>\n",
       "      <td>2</td>\n",
       "      <td>2431.823590</td>\n",
       "      <td>0.994875</td>\n",
       "      <td>233.596650</td>\n",
       "      <td>865.400000</td>\n",
       "      <td>686.500000</td>\n",
       "    </tr>\n",
       "    <tr>\n",
       "      <th>903</th>\n",
       "      <td>3.0</td>\n",
       "      <td>12.8932</td>\n",
       "      <td>78.1654</td>\n",
       "      <td>6</td>\n",
       "      <td>1997</td>\n",
       "      <td>0</td>\n",
       "      <td>2431.823590</td>\n",
       "      <td>2428.226946</td>\n",
       "      <td>2467.936859</td>\n",
       "      <td>2547.759305</td>\n",
       "      <td>2600.804099</td>\n",
       "    </tr>\n",
       "    <tr>\n",
       "      <th>904</th>\n",
       "      <td>25.5</td>\n",
       "      <td>15.2758</td>\n",
       "      <td>75.5811</td>\n",
       "      <td>7</td>\n",
       "      <td>1997</td>\n",
       "      <td>2</td>\n",
       "      <td>2431.823590</td>\n",
       "      <td>2428.226946</td>\n",
       "      <td>2467.936859</td>\n",
       "      <td>2547.759305</td>\n",
       "      <td>2600.804099</td>\n",
       "    </tr>\n",
       "    <tr>\n",
       "      <th>905</th>\n",
       "      <td>80.0</td>\n",
       "      <td>24.3500</td>\n",
       "      <td>73.7477</td>\n",
       "      <td>1</td>\n",
       "      <td>1997</td>\n",
       "      <td>2</td>\n",
       "      <td>2431.823590</td>\n",
       "      <td>2428.226946</td>\n",
       "      <td>2467.936859</td>\n",
       "      <td>2547.759305</td>\n",
       "      <td>2600.804099</td>\n",
       "    </tr>\n",
       "    <tr>\n",
       "      <th>906</th>\n",
       "      <td>16.5</td>\n",
       "      <td>9.9344</td>\n",
       "      <td>77.4768</td>\n",
       "      <td>7</td>\n",
       "      <td>1997</td>\n",
       "      <td>2</td>\n",
       "      <td>2431.823590</td>\n",
       "      <td>2428.226946</td>\n",
       "      <td>2467.936859</td>\n",
       "      <td>2547.759305</td>\n",
       "      <td>2600.804099</td>\n",
       "    </tr>\n",
       "  </tbody>\n",
       "</table>\n",
       "<p>849 rows × 11 columns</p>\n",
       "</div>"
      ],
      "text/plain": [
       "     capacity_mw  latitude  longitude  primary_fuel  commissioning_year  \\\n",
       "0            2.5   28.1839    73.2407             6                2011   \n",
       "1           98.0   24.7663    74.6090             1                1997   \n",
       "2           39.2   21.9038    69.3732             7                1997   \n",
       "3          135.0   23.8712    91.3602             2                2004   \n",
       "4         1800.0   21.9603    82.4091             1                2015   \n",
       "..           ...       ...        ...           ...                 ...   \n",
       "902       1600.0   16.2949    77.3568             1                2016   \n",
       "903          3.0   12.8932    78.1654             6                1997   \n",
       "904         25.5   15.2758    75.5811             7                1997   \n",
       "905         80.0   24.3500    73.7477             1                1997   \n",
       "906         16.5    9.9344    77.4768             7                1997   \n",
       "\n",
       "     geolocation_source  generation_gwh_2014  generation_gwh_2015  \\\n",
       "0                     1          2431.823590          2428.226946   \n",
       "1                     2          2431.823590          2428.226946   \n",
       "2                     2          2431.823590          2428.226946   \n",
       "3                     2           617.789264           843.747000   \n",
       "4                     2          3035.550000          5916.370000   \n",
       "..                  ...                  ...                  ...   \n",
       "902                   2          2431.823590             0.994875   \n",
       "903                   0          2431.823590          2428.226946   \n",
       "904                   2          2431.823590          2428.226946   \n",
       "905                   2          2431.823590          2428.226946   \n",
       "906                   2          2431.823590          2428.226946   \n",
       "\n",
       "     generation_gwh_2016  generation_gwh_2017  generation_gwh_2018  \n",
       "0            2467.936859          2547.759305          2600.804099  \n",
       "1            2467.936859          2547.759305          2600.804099  \n",
       "2            2467.936859          2547.759305          2600.804099  \n",
       "3             886.004428           663.774500           626.239128  \n",
       "4            6243.000000          5385.579736          7279.000000  \n",
       "..                   ...                  ...                  ...  \n",
       "902           233.596650           865.400000           686.500000  \n",
       "903          2467.936859          2547.759305          2600.804099  \n",
       "904          2467.936859          2547.759305          2600.804099  \n",
       "905          2467.936859          2547.759305          2600.804099  \n",
       "906          2467.936859          2547.759305          2600.804099  \n",
       "\n",
       "[849 rows x 11 columns]"
      ]
     },
     "execution_count": 169,
     "metadata": {},
     "output_type": "execute_result"
    }
   ],
   "source": [
    "#loading the dataset\n",
    "\n",
    "df_new"
   ]
  },
  {
   "cell_type": "code",
   "execution_count": 171,
   "id": "896afcd8",
   "metadata": {},
   "outputs": [
    {
     "data": {
      "text/plain": [
       "primary_fuel          -0.401192\n",
       "latitude               0.042670\n",
       "geolocation_source     0.239563\n",
       "longitude              0.262424\n",
       "commissioning_year     0.302076\n",
       "generation_gwh_2014    0.416742\n",
       "generation_gwh_2015    0.423619\n",
       "generation_gwh_2016    0.499960\n",
       "generation_gwh_2017    0.516554\n",
       "generation_gwh_2018    0.519444\n",
       "capacity_mw            1.000000\n",
       "Name: capacity_mw, dtype: float64"
      ]
     },
     "execution_count": 171,
     "metadata": {},
     "output_type": "execute_result"
    }
   ],
   "source": [
    "df_new.corr()['capacity_mw'].sort_values()"
   ]
  },
  {
   "cell_type": "markdown",
   "id": "c85fb932",
   "metadata": {},
   "source": [
    "- generation_gwh_2018 , generation_gwh_2017 have the strongest correlation bond\n",
    "- generation_gwh_2016 , generation_gwh_2015 , generation_gwh_2014 , commissioning_year , longitude , geolocation_source have good correlation bond\n",
    "- latitude has weak correlation bond\n",
    "- primary_fuel has negative correlation bond with the target variable"
   ]
  },
  {
   "cell_type": "code",
   "execution_count": 173,
   "id": "58926585",
   "metadata": {},
   "outputs": [
    {
     "data": {
      "text/plain": [
       "<Figure size 432x288 with 0 Axes>"
      ]
     },
     "execution_count": 173,
     "metadata": {},
     "output_type": "execute_result"
    },
    {
     "data": {
      "image/png": "[encoded data removed]",
      "text/plain": [
       "<Figure size 1080x576 with 2 Axes>"
      ]
     },
     "metadata": {
      "needs_background": "light"
     },
     "output_type": "display_data"
    },
    {
     "data": {
      "text/plain": [
       "<Figure size 432x288 with 0 Axes>"
      ]
     },
     "metadata": {},
     "output_type": "display_data"
    }
   ],
   "source": [
    "plt.figure(figsize=(15,8))\n",
    "sns.heatmap(df_new.corr(),annot=True,cmap='YlGnBu',fmt='.2%')\n",
    "plt.figure()"
   ]
  },
  {
   "cell_type": "code",
   "execution_count": 176,
   "id": "f364153e",
   "metadata": {},
   "outputs": [
    {
     "name": "stdout",
     "output_type": "stream",
     "text": [
      "(849, 10)\n",
      "(849,)\n"
     ]
    }
   ],
   "source": [
    "# now selecting our feature and target variable for further process\n",
    "\n",
    "x=df_new.drop('capacity_mw',axis=1)\n",
    "y=df_new['capacity_mw']\n",
    "\n",
    "\n",
    "print(x.shape)\n",
    "print(y.shape)"
   ]
  },
  {
   "cell_type": "code",
   "execution_count": 175,
   "id": "a0635254",
   "metadata": {},
   "outputs": [
    {
     "data": {
      "text/plain": [
       "latitude              -0.109823\n",
       "longitude              0.921980\n",
       "primary_fuel           0.408694\n",
       "commissioning_year    -0.834063\n",
       "geolocation_source    -2.062603\n",
       "generation_gwh_2014    1.526648\n",
       "generation_gwh_2015    1.389889\n",
       "generation_gwh_2016    1.413144\n",
       "generation_gwh_2017    1.278735\n",
       "generation_gwh_2018    1.315481\n",
       "dtype: float64"
      ]
     },
     "execution_count": 175,
     "metadata": {},
     "output_type": "execute_result"
    }
   ],
   "source": [
    "#checking for skewness\n",
    "\n",
    "x.skew()"
   ]
  },
  {
   "cell_type": "markdown",
   "id": "38a07af2",
   "metadata": {},
   "source": [
    "- threshold = +/- 0.50 , except latitude and primary_fuel , all the other feature variables are exceeding the threshold for skewness"
   ]
  },
  {
   "cell_type": "code",
   "execution_count": 177,
   "id": "68389ff3",
   "metadata": {},
   "outputs": [
    {
     "data": {
      "text/plain": [
       "Index(['latitude', 'longitude', 'primary_fuel', 'commissioning_year',\n",
       "       'geolocation_source', 'generation_gwh_2014', 'generation_gwh_2015',\n",
       "       'generation_gwh_2016', 'generation_gwh_2017', 'generation_gwh_2018'],\n",
       "      dtype='object')"
      ]
     },
     "execution_count": 177,
     "metadata": {},
     "output_type": "execute_result"
    }
   ],
   "source": [
    "x.columns"
   ]
  },
  {
   "cell_type": "code",
   "execution_count": 178,
   "id": "87c74e82",
   "metadata": {},
   "outputs": [
    {
     "data": {
      "text/plain": [
       "latitude              -0.069694\n",
       "longitude              0.000035\n",
       "primary_fuel          -0.059648\n",
       "commissioning_year     0.031527\n",
       "geolocation_source    -2.035892\n",
       "generation_gwh_2014   -0.243975\n",
       "generation_gwh_2015   -0.309166\n",
       "generation_gwh_2016   -0.309194\n",
       "generation_gwh_2017   -0.340677\n",
       "generation_gwh_2018   -0.354764\n",
       "dtype: float64"
      ]
     },
     "execution_count": 178,
     "metadata": {},
     "output_type": "execute_result"
    }
   ],
   "source": [
    "#using power_transform method\n",
    "\n",
    "from sklearn.preprocessing import power_transform\n",
    "\n",
    "x=power_transform(x,method='yeo-johnson')\n",
    "x=pd.DataFrame(x,columns=['latitude', 'longitude', 'primary_fuel', 'commissioning_year',\n",
    "       'geolocation_source', 'generation_gwh_2014', 'generation_gwh_2015',\n",
    "       'generation_gwh_2016', 'generation_gwh_2017', 'generation_gwh_2018'])\n",
    "x.skew()"
   ]
  },
  {
   "cell_type": "markdown",
   "id": "5ad64a26",
   "metadata": {},
   "source": [
    "- skewness has been reduced for all the variables except for geolocation_source which is because it has imbalanced data"
   ]
  },
  {
   "cell_type": "code",
   "execution_count": 179,
   "id": "32ef5c14",
   "metadata": {},
   "outputs": [
    {
     "name": "stdout",
     "output_type": "stream",
     "text": [
      "   VIF Factor             features\n",
      "0    1.068802             latitude\n",
      "1    1.241595            longitude\n",
      "2    1.438148         primary_fuel\n",
      "3    1.111802   commissioning_year\n",
      "4    1.410087   geolocation_source\n",
      "5    4.186496  generation_gwh_2014\n",
      "6    8.038324  generation_gwh_2015\n",
      "7   11.895857  generation_gwh_2016\n",
      "8   11.614477  generation_gwh_2017\n",
      "9   12.354751  generation_gwh_2018\n"
     ]
    }
   ],
   "source": [
    "#checking multicollinearity with VIF\n",
    "\n",
    "vif_calc()"
   ]
  },
  {
   "cell_type": "markdown",
   "id": "f1159bed",
   "metadata": {},
   "source": [
    "- 3 variables have VIF more than 10 , so we will drop the least correlated column with high VIF to reduce VIF and thus multicollinearity"
   ]
  },
  {
   "cell_type": "code",
   "execution_count": 180,
   "id": "897baa7c",
   "metadata": {},
   "outputs": [
    {
     "name": "stdout",
     "output_type": "stream",
     "text": [
      "   VIF Factor             features\n",
      "0    1.068159             latitude\n",
      "1    1.237166            longitude\n",
      "2    1.438134         primary_fuel\n",
      "3    1.095451   commissioning_year\n",
      "4    1.409921   geolocation_source\n",
      "5    4.185228  generation_gwh_2014\n",
      "6    5.300439  generation_gwh_2015\n",
      "7   10.823132  generation_gwh_2017\n",
      "8   11.434047  generation_gwh_2018\n"
     ]
    }
   ],
   "source": [
    "x.drop('generation_gwh_2016', axis=1, inplace=True)\n",
    "\n",
    "#again checking for VIF\n",
    "\n",
    "vif_calc()"
   ]
  },
  {
   "cell_type": "code",
   "execution_count": 181,
   "id": "b07684c7",
   "metadata": {},
   "outputs": [
    {
     "name": "stdout",
     "output_type": "stream",
     "text": [
      "   VIF Factor             features\n",
      "0    1.067342             latitude\n",
      "1    1.236158            longitude\n",
      "2    1.437919         primary_fuel\n",
      "3    1.094562   commissioning_year\n",
      "4    1.409905   geolocation_source\n",
      "5    4.184438  generation_gwh_2014\n",
      "6    5.228844  generation_gwh_2015\n",
      "7    3.118257  generation_gwh_2018\n"
     ]
    }
   ],
   "source": [
    "x.drop('generation_gwh_2017',axis=1,inplace=True)\n",
    "\n",
    "#again checking for VIF\n",
    "\n",
    "vif_calc()"
   ]
  },
  {
   "cell_type": "markdown",
   "id": "5a84e527",
   "metadata": {},
   "source": [
    "- okay so VIF has been reduced to below 6 only"
   ]
  },
  {
   "cell_type": "code",
   "execution_count": 182,
   "id": "5b3da656",
   "metadata": {},
   "outputs": [],
   "source": [
    "#scaling the input data\n",
    "\n",
    "from sklearn.preprocessing import StandardScaler\n",
    "sc=StandardScaler()\n",
    "x=sc.fit_transform(x)"
   ]
  },
  {
   "cell_type": "code",
   "execution_count": 184,
   "id": "0fe287d5",
   "metadata": {},
   "outputs": [
    {
     "data": {
      "text/plain": [
       "5.00       37\n",
       "10.00      21\n",
       "600.00     20\n",
       "15.00      20\n",
       "1200.00    19\n",
       "           ..\n",
       "32.50       1\n",
       "119.80      1\n",
       "21.84       1\n",
       "195.00      1\n",
       "106.60      1\n",
       "Name: capacity_mw, Length: 331, dtype: int64"
      ]
     },
     "execution_count": 184,
     "metadata": {},
     "output_type": "execute_result"
    }
   ],
   "source": [
    "y.value_counts()"
   ]
  },
  {
   "cell_type": "code",
   "execution_count": 185,
   "id": "50808d04",
   "metadata": {},
   "outputs": [],
   "source": [
    "#importing the required library\n",
    "\n",
    "from sklearn.model_selection import train_test_split,cross_val_score\n",
    "from sklearn.linear_model import LinearRegression,Ridge,Lasso \n",
    "from sklearn.metrics import r2_score,mean_squared_error,mean_absolute_error"
   ]
  },
  {
   "cell_type": "code",
   "execution_count": 186,
   "id": "93f73a8f",
   "metadata": {},
   "outputs": [],
   "source": [
    "lr=LinearRegression()"
   ]
  },
  {
   "cell_type": "code",
   "execution_count": 187,
   "id": "eff2735a",
   "metadata": {},
   "outputs": [
    {
     "name": "stdout",
     "output_type": "stream",
     "text": [
      "At random state 31 the model performs very well\n",
      "At random state 31 :\n",
      "Training accuracy score is 36.09824337546183\n",
      "Testing accuracy score is 36.31728512853708 \n",
      "\n",
      "At random state 51 the model performs very well\n",
      "At random state 51 :\n",
      "Training accuracy score is 36.2312137735454\n",
      "Testing accuracy score is 36.41811001458555 \n",
      "\n",
      "At random state 54 the model performs very well\n",
      "At random state 54 :\n",
      "Training accuracy score is 36.462630630028116\n",
      "Testing accuracy score is 36.07570636832911 \n",
      "\n",
      "At random state 95 the model performs very well\n",
      "At random state 95 :\n",
      "Training accuracy score is 36.05339859789619\n",
      "Testing accuracy score is 36.062482505833295 \n",
      "\n"
     ]
    }
   ],
   "source": [
    "#checking best random state\n",
    "\n",
    "for i in range(0,100):\n",
    "    x_train,x_test,y_train,y_test=train_test_split(x,y,random_state=i,test_size=.30)\n",
    "    lr.fit(x_train,y_train)\n",
    "    predtrain=lr.predict(x_train)\n",
    "    predlr=lr.predict(x_test)\n",
    "    if round(r2_score(y_test,predlr)*100)==round(r2_score(y_train,predtrain)*100):\n",
    "        print('At random state',i,'the model performs very well')\n",
    "        print('At random state',i,':')\n",
    "        print('Training accuracy score is',r2_score(y_train,predtrain)*100)\n",
    "        print('Testing accuracy score is',r2_score(y_test,predlr)*100,'\\n')"
   ]
  },
  {
   "cell_type": "code",
   "execution_count": 189,
   "id": "d4d50702",
   "metadata": {},
   "outputs": [],
   "source": [
    "#let's take  as the random state\n",
    "\n",
    "x_train,x_test,y_train,y_test=train_test_split(x,y,random_state=51,test_size=.30)\n",
    "lr.fit(x_train,y_train)\n",
    "predtrain=lr.predict(x_train)\n",
    "predlr=lr.predict(x_test)"
   ]
  },
  {
   "cell_type": "code",
   "execution_count": 192,
   "id": "10a4867d",
   "metadata": {},
   "outputs": [
    {
     "name": "stdout",
     "output_type": "stream",
     "text": [
      "At cv= 2\n",
      "Cross Validation Score is: 31.62076292227227\n",
      "Accuracy score is: 36.41811001458555 \n",
      "\n",
      "At cv= 3\n",
      "Cross Validation Score is: 30.547211202478536\n",
      "Accuracy score is: 36.41811001458555 \n",
      "\n",
      "At cv= 4\n",
      "Cross Validation Score is: 31.400360232547126\n",
      "Accuracy score is: 36.41811001458555 \n",
      "\n",
      "At cv= 5\n",
      "Cross Validation Score is: 32.076654399491176\n",
      "Accuracy score is: 36.41811001458555 \n",
      "\n",
      "At cv= 6\n",
      "Cross Validation Score is: 32.48832447431235\n",
      "Accuracy score is: 36.41811001458555 \n",
      "\n",
      "At cv= 7\n",
      "Cross Validation Score is: 29.88830916261356\n",
      "Accuracy score is: 36.41811001458555 \n",
      "\n",
      "At cv= 8\n",
      "Cross Validation Score is: 31.597334740128513\n",
      "Accuracy score is: 36.41811001458555 \n",
      "\n",
      "At cv= 9\n",
      "Cross Validation Score is: 31.233050518003374\n",
      "Accuracy score is: 36.41811001458555 \n",
      "\n"
     ]
    }
   ],
   "source": [
    "#checking cross validation score for LinearRegression\n",
    "\n",
    "for j in range(2,10):\n",
    "    lrs=cross_val_score(lr,x,y,cv=j)\n",
    "    lrc=lrs.mean()\n",
    "    print('At cv=',j)\n",
    "    print('Cross Validation Score is:',lrc*100)\n",
    "    print('Accuracy score is:',r2_score(y_test,predlr)*100,'\\n')"
   ]
  },
  {
   "cell_type": "code",
   "execution_count": 193,
   "id": "2cf8db54",
   "metadata": {},
   "outputs": [
    {
     "name": "stdout",
     "output_type": "stream",
     "text": [
      "119390.19241624502\n",
      "252.13516332088386\n"
     ]
    }
   ],
   "source": [
    "#checking error for LinearRegression\n",
    "\n",
    "mselr=mean_squared_error(y_test,predlr)\n",
    "maelr=mean_absolute_error(y_test,predlr)\n",
    "print(mselr)\n",
    "print(maelr)"
   ]
  },
  {
   "cell_type": "markdown",
   "id": "9a171f44",
   "metadata": {},
   "source": [
    "# Regularization:"
   ]
  },
  {
   "cell_type": "code",
   "execution_count": 194,
   "id": "44252cc0",
   "metadata": {},
   "outputs": [],
   "source": [
    "from sklearn.linear_model import Lasso,Ridge"
   ]
  },
  {
   "cell_type": "code",
   "execution_count": 195,
   "id": "f0e724bb",
   "metadata": {},
   "outputs": [],
   "source": [
    "x_train,x_test,y_train,y_test=train_test_split(x,y,random_state=51,test_size=.30)\n",
    "ls=Lasso()\n",
    "ls.fit(x_train,y_train)\n",
    "predtrain=ls.predict(x_train)\n",
    "predls=ls.predict(x_test)"
   ]
  },
  {
   "cell_type": "code",
   "execution_count": 196,
   "id": "b01be499",
   "metadata": {},
   "outputs": [
    {
     "name": "stdout",
     "output_type": "stream",
     "text": [
      "At cv= 2\n",
      "Cross Validation Score is: 31.898477969312143\n",
      "Accuracy score is: 36.38880466291572 \n",
      "\n",
      "At cv= 3\n",
      "Cross Validation Score is: 30.8952543374892\n",
      "Accuracy score is: 36.38880466291572 \n",
      "\n",
      "At cv= 4\n",
      "Cross Validation Score is: 31.711551188466725\n",
      "Accuracy score is: 36.38880466291572 \n",
      "\n",
      "At cv= 5\n",
      "Cross Validation Score is: 32.29487789353171\n",
      "Accuracy score is: 36.38880466291572 \n",
      "\n",
      "At cv= 6\n",
      "Cross Validation Score is: 32.66308080707599\n",
      "Accuracy score is: 36.38880466291572 \n",
      "\n",
      "At cv= 7\n",
      "Cross Validation Score is: 30.1867743924352\n",
      "Accuracy score is: 36.38880466291572 \n",
      "\n",
      "At cv= 8\n",
      "Cross Validation Score is: 31.75307912160858\n",
      "Accuracy score is: 36.38880466291572 \n",
      "\n",
      "At cv= 9\n",
      "Cross Validation Score is: 31.395678084794277\n",
      "Accuracy score is: 36.38880466291572 \n",
      "\n"
     ]
    }
   ],
   "source": [
    "#checking for cross validation score\n",
    "\n",
    "for j in range(2,10):\n",
    "    lss=cross_val_score(ls,x,y,cv=j)\n",
    "    lsc=lss.mean()\n",
    "    print('At cv=',j)\n",
    "    print('Cross Validation Score is:',lsc*100)\n",
    "    print('Accuracy score is:',r2_score(y_test,predls)*100,'\\n')"
   ]
  },
  {
   "cell_type": "code",
   "execution_count": 197,
   "id": "0a217e32",
   "metadata": {},
   "outputs": [
    {
     "name": "stdout",
     "output_type": "stream",
     "text": [
      "119445.22021701485\n",
      "251.84787408163075\n"
     ]
    }
   ],
   "source": [
    "#checking error for Lasso \n",
    "\n",
    "msels=mean_squared_error(y_test,predls)\n",
    "maels=mean_absolute_error(y_test,predls)\n",
    "print(msels)\n",
    "print(maels)"
   ]
  },
  {
   "cell_type": "code",
   "execution_count": 198,
   "id": "be0820c8",
   "metadata": {},
   "outputs": [
    {
     "name": "stdout",
     "output_type": "stream",
     "text": [
      "36.410121186609956\n"
     ]
    }
   ],
   "source": [
    "lrr=Ridge()\n",
    "lrr.fit(x_train,y_train)\n",
    "predlrr=lrr.predict(x_test)\n",
    "print(r2_score(y_test,predlrr)*100)"
   ]
  },
  {
   "cell_type": "code",
   "execution_count": 199,
   "id": "3f0ecdee",
   "metadata": {},
   "outputs": [
    {
     "name": "stdout",
     "output_type": "stream",
     "text": [
      "At cv= 2\n",
      "Cross Validation Score is: 31.678947270343947\n",
      "Accuracy score is: 36.410121186609956 \n",
      "\n",
      "At cv= 3\n",
      "Cross Validation Score is: 30.600982559894174\n",
      "Accuracy score is: 36.410121186609956 \n",
      "\n",
      "At cv= 4\n",
      "Cross Validation Score is: 31.44469242298823\n",
      "Accuracy score is: 36.410121186609956 \n",
      "\n",
      "At cv= 5\n",
      "Cross Validation Score is: 32.11475348106671\n",
      "Accuracy score is: 36.410121186609956 \n",
      "\n",
      "At cv= 6\n",
      "Cross Validation Score is: 32.509349693533515\n",
      "Accuracy score is: 36.410121186609956 \n",
      "\n",
      "At cv= 7\n",
      "Cross Validation Score is: 29.92025363118031\n",
      "Accuracy score is: 36.410121186609956 \n",
      "\n",
      "At cv= 8\n",
      "Cross Validation Score is: 31.619831441864\n",
      "Accuracy score is: 36.410121186609956 \n",
      "\n",
      "At cv= 9\n",
      "Cross Validation Score is: 31.254680775696354\n",
      "Accuracy score is: 36.410121186609956 \n",
      "\n"
     ]
    }
   ],
   "source": [
    "#checking for cross validation score\n",
    "\n",
    "for j in range(2,10):\n",
    "    lrrs=cross_val_score(lrr,x,y,cv=j)\n",
    "    lrrc=lrrs.mean()\n",
    "    print('At cv=',j)\n",
    "    print('Cross Validation Score is:',lrrc*100)\n",
    "    print('Accuracy score is:',r2_score(y_test,predlrr)*100,'\\n')"
   ]
  },
  {
   "cell_type": "code",
   "execution_count": 200,
   "id": "bfa51c9d",
   "metadata": {},
   "outputs": [
    {
     "name": "stdout",
     "output_type": "stream",
     "text": [
      "119405.19334983484\n",
      "252.09630922267812\n"
     ]
    }
   ],
   "source": [
    "#checking error for Ridge\n",
    "\n",
    "mselrr=mean_squared_error(y_test,predlrr)\n",
    "maelrr=mean_absolute_error(y_test,predlrr)\n",
    "print(mselrr)\n",
    "print(maelrr)"
   ]
  },
  {
   "cell_type": "markdown",
   "id": "40a9d8bb",
   "metadata": {},
   "source": [
    "# Ensemble:"
   ]
  },
  {
   "cell_type": "markdown",
   "id": "7a8311f0",
   "metadata": {},
   "source": [
    "- In this section we will try some ensemble technique to find the best model and we will also try out some other regressors"
   ]
  },
  {
   "cell_type": "code",
   "execution_count": 201,
   "id": "781b8923",
   "metadata": {},
   "outputs": [],
   "source": [
    "from sklearn.neighbors import KNeighborsRegressor\n",
    "from sklearn.tree import DecisionTreeRegressor\n",
    "from sklearn.ensemble import RandomForestRegressor,AdaBoostRegressor,GradientBoostingRegressor"
   ]
  },
  {
   "cell_type": "code",
   "execution_count": 202,
   "id": "49c261e2",
   "metadata": {},
   "outputs": [
    {
     "name": "stdout",
     "output_type": "stream",
     "text": [
      "60.65367194181404\n"
     ]
    }
   ],
   "source": [
    "ada=AdaBoostRegressor()\n",
    "x_train,x_test,y_train,y_test=train_test_split(x,y,random_state=51,test_size=.30)\n",
    "ada.fit(x_train,y_train)\n",
    "predada=ada.predict(x_test)\n",
    "print(r2_score(y_test,predada)*100)"
   ]
  },
  {
   "cell_type": "code",
   "execution_count": 203,
   "id": "aac101a4",
   "metadata": {},
   "outputs": [
    {
     "name": "stdout",
     "output_type": "stream",
     "text": [
      "At cv= 2\n",
      "Cross Validation Score is: 60.64703623964203\n",
      "Accuracy score is: 60.65367194181404 \n",
      "\n",
      "At cv= 3\n",
      "Cross Validation Score is: 66.84832753071113\n",
      "Accuracy score is: 60.65367194181404 \n",
      "\n",
      "At cv= 4\n",
      "Cross Validation Score is: 59.8340569485577\n",
      "Accuracy score is: 60.65367194181404 \n",
      "\n",
      "At cv= 5\n",
      "Cross Validation Score is: 65.73285861206139\n",
      "Accuracy score is: 60.65367194181404 \n",
      "\n"
     ]
    }
   ],
   "source": [
    "\n",
    "#checking for cross validation score\n",
    "\n",
    "for j in range(2,6):\n",
    "    adas=cross_val_score(ada,x,y,cv=j)\n",
    "    adac=adas.mean()\n",
    "    print('At cv=',j)\n",
    "    print('Cross Validation Score is:',adac*100)\n",
    "    print('Accuracy score is:',r2_score(y_test,predada)*100,'\\n')"
   ]
  },
  {
   "cell_type": "markdown",
   "id": "c568f886",
   "metadata": {},
   "source": [
    "- okay so the model's performance has been improved with AdaBoost"
   ]
  },
  {
   "cell_type": "code",
   "execution_count": 204,
   "id": "2c4a4bc5",
   "metadata": {},
   "outputs": [
    {
     "name": "stdout",
     "output_type": "stream",
     "text": [
      "73882.13340020458\n",
      "214.2537179654765\n"
     ]
    }
   ],
   "source": [
    "#checking error for AdaBoost\n",
    "\n",
    "mseada=mean_squared_error(y_test,predada)\n",
    "maeada=mean_absolute_error(y_test,predada)\n",
    "print(mseada)\n",
    "print(maeada)"
   ]
  },
  {
   "cell_type": "code",
   "execution_count": 205,
   "id": "6c4ab6e4",
   "metadata": {},
   "outputs": [
    {
     "name": "stdout",
     "output_type": "stream",
     "text": [
      "72.21328618626568\n"
     ]
    }
   ],
   "source": [
    "gb=GradientBoostingRegressor()\n",
    "x_train,x_test,y_train,y_test=train_test_split(x,y,random_state=51,test_size=.30)\n",
    "gb.fit(x_train,y_train)\n",
    "predgb=gb.predict(x_test)\n",
    "print(r2_score(y_test,predgb)*100)"
   ]
  },
  {
   "cell_type": "code",
   "execution_count": 206,
   "id": "c058fc07",
   "metadata": {},
   "outputs": [
    {
     "name": "stdout",
     "output_type": "stream",
     "text": [
      "At cv= 2\n",
      "Cross Validation Score is: 73.64749040268954\n",
      "Accuracy score is: 72.21328618626568 \n",
      "\n",
      "At cv= 3\n",
      "Cross Validation Score is: 75.33450371180366\n",
      "Accuracy score is: 72.21328618626568 \n",
      "\n",
      "At cv= 4\n",
      "Cross Validation Score is: 73.61555321174953\n",
      "Accuracy score is: 72.21328618626568 \n",
      "\n",
      "At cv= 5\n",
      "Cross Validation Score is: 73.8384542914279\n",
      "Accuracy score is: 72.21328618626568 \n",
      "\n"
     ]
    }
   ],
   "source": [
    "#checking for cross validation score\n",
    "\n",
    "for j in range(2,6):\n",
    "    gbs=cross_val_score(gb,x,y,cv=j)\n",
    "    gbc=gbs.mean()\n",
    "    print('At cv=',j)\n",
    "    print('Cross Validation Score is:',gbc*100)\n",
    "    print('Accuracy score is:',r2_score(y_test,predgb)*100,'\\n')"
   ]
  },
  {
   "cell_type": "code",
   "execution_count": 207,
   "id": "d5a795b6",
   "metadata": {},
   "outputs": [
    {
     "name": "stdout",
     "output_type": "stream",
     "text": [
      "52176.195290795724\n",
      "104.79696005171114\n"
     ]
    }
   ],
   "source": [
    "#checking error for GradientBoosting\n",
    "\n",
    "msegb=mean_squared_error(y_test,predgb)\n",
    "maegb=mean_absolute_error(y_test,predgb)\n",
    "print(msegb)\n",
    "print(maegb)"
   ]
  },
  {
   "cell_type": "code",
   "execution_count": 209,
   "id": "ad5a86b7",
   "metadata": {},
   "outputs": [
    {
     "name": "stdout",
     "output_type": "stream",
     "text": [
      "65.4802639085041\n"
     ]
    }
   ],
   "source": [
    "knn=KNeighborsRegressor()\n",
    "x_train,x_test,y_train,y_test=train_test_split(x,y,random_state=51,test_size=.30)\n",
    "knn.fit(x_train,y_train)\n",
    "predknn=knn.predict(x_test)\n",
    "print(r2_score(y_test,predknn)*100)"
   ]
  },
  {
   "cell_type": "code",
   "execution_count": 210,
   "id": "9852580f",
   "metadata": {},
   "outputs": [
    {
     "name": "stdout",
     "output_type": "stream",
     "text": [
      "At cv= 2\n",
      "Cross Validation Score is: 63.47066365392888\n",
      "Accuracy score is: 65.4802639085041 \n",
      "\n",
      "At cv= 3\n",
      "Cross Validation Score is: 65.97362941380051\n",
      "Accuracy score is: 65.4802639085041 \n",
      "\n",
      "At cv= 4\n",
      "Cross Validation Score is: 65.35294836513387\n",
      "Accuracy score is: 65.4802639085041 \n",
      "\n",
      "At cv= 5\n",
      "Cross Validation Score is: 65.67075029740204\n",
      "Accuracy score is: 65.4802639085041 \n",
      "\n"
     ]
    }
   ],
   "source": [
    "#checking for cross validation score\n",
    "\n",
    "for j in range(2,6):\n",
    "    knns=cross_val_score(knn,x,y,cv=j)\n",
    "    knnc=knns.mean()\n",
    "    print('At cv=',j)\n",
    "    print('Cross Validation Score is:',knnc*100)\n",
    "    print('Accuracy score is:',r2_score(y_test,predknn)*100,'\\n')"
   ]
  },
  {
   "cell_type": "code",
   "execution_count": 211,
   "id": "d2efed8f",
   "metadata": {},
   "outputs": [
    {
     "name": "stdout",
     "output_type": "stream",
     "text": [
      "64819.053586911534\n",
      "114.73833803921569\n"
     ]
    }
   ],
   "source": [
    "#checking error for KNeighbors\n",
    "\n",
    "mseknn=mean_squared_error(y_test,predknn)\n",
    "maeknn=mean_absolute_error(y_test,predknn)\n",
    "print(mseknn)\n",
    "print(maeknn)"
   ]
  },
  {
   "cell_type": "code",
   "execution_count": 212,
   "id": "f4877643",
   "metadata": {},
   "outputs": [
    {
     "name": "stdout",
     "output_type": "stream",
     "text": [
      "62.02250151656602\n"
     ]
    }
   ],
   "source": [
    "dtc=DecisionTreeRegressor()\n",
    "x_train,x_test,y_train,y_test=train_test_split(x,y,random_state=51,test_size=.30)\n",
    "dtc.fit(x_train,y_train)\n",
    "preddtc=dtc.predict(x_test)\n",
    "print(r2_score(y_test,preddtc)*100)"
   ]
  },
  {
   "cell_type": "code",
   "execution_count": 213,
   "id": "d0360e86",
   "metadata": {},
   "outputs": [
    {
     "name": "stdout",
     "output_type": "stream",
     "text": [
      "At cv= 2\n",
      "Cross Validation Score is: 57.475612517456135\n",
      "Accuracy score is: 62.02250151656602 \n",
      "\n",
      "At cv= 3\n",
      "Cross Validation Score is: 61.17915725089055\n",
      "Accuracy score is: 62.02250151656602 \n",
      "\n",
      "At cv= 4\n",
      "Cross Validation Score is: 61.947773066532676\n",
      "Accuracy score is: 62.02250151656602 \n",
      "\n",
      "At cv= 5\n",
      "Cross Validation Score is: 62.303337594245846\n",
      "Accuracy score is: 62.02250151656602 \n",
      "\n"
     ]
    }
   ],
   "source": [
    "#checking for cross validation score\n",
    "\n",
    "for j in range(2,6):\n",
    "    dtcs=cross_val_score(dtc,x,y,cv=j)\n",
    "    dtcc=dtcs.mean()\n",
    "    print('At cv=',j)\n",
    "    print('Cross Validation Score is:',dtcc*100)\n",
    "    print('Accuracy score is:',r2_score(y_test,preddtc)*100,'\\n')"
   ]
  },
  {
   "cell_type": "code",
   "execution_count": 214,
   "id": "176b53d6",
   "metadata": {},
   "outputs": [
    {
     "name": "stdout",
     "output_type": "stream",
     "text": [
      "71311.82876861568\n",
      "116.26837254901962\n"
     ]
    }
   ],
   "source": [
    "#checking error for DecisionTree\n",
    "\n",
    "msedtc=mean_squared_error(y_test,preddtc)\n",
    "maedtc=mean_absolute_error(y_test,preddtc)\n",
    "print(msedtc)\n",
    "print(maedtc)"
   ]
  },
  {
   "cell_type": "code",
   "execution_count": 215,
   "id": "ad25ef64",
   "metadata": {},
   "outputs": [
    {
     "name": "stdout",
     "output_type": "stream",
     "text": [
      "73.79664308551129\n"
     ]
    }
   ],
   "source": [
    "rf=RandomForestRegressor()\n",
    "x_train,x_test,y_train,y_test=train_test_split(x,y,random_state=51,test_size=.30)\n",
    "rf.fit(x_train,y_train)\n",
    "predrf=rf.predict(x_test)\n",
    "print(r2_score(y_test,predrf)*100)"
   ]
  },
  {
   "cell_type": "code",
   "execution_count": 216,
   "id": "8608bdc5",
   "metadata": {},
   "outputs": [
    {
     "name": "stdout",
     "output_type": "stream",
     "text": [
      "At cv= 2\n",
      "Cross Validation Score is: 76.8737266644037\n",
      "Accuracy score is: 73.79664308551129 \n",
      "\n",
      "At cv= 3\n",
      "Cross Validation Score is: 78.25015795253375\n",
      "Accuracy score is: 73.79664308551129 \n",
      "\n",
      "At cv= 4\n",
      "Cross Validation Score is: 76.84953662325084\n",
      "Accuracy score is: 73.79664308551129 \n",
      "\n",
      "At cv= 5\n",
      "Cross Validation Score is: 77.76029680343089\n",
      "Accuracy score is: 73.79664308551129 \n",
      "\n"
     ]
    }
   ],
   "source": [
    "#checking for cross validation score\n",
    "\n",
    "for j in range(2,6):\n",
    "    rfs=cross_val_score(rf,x,y,cv=j)\n",
    "    rfc=rfs.mean()\n",
    "    print('At cv=',j)\n",
    "    print('Cross Validation Score is:',rfc*100)\n",
    "    print('Accuracy score is:',r2_score(y_test,predrf)*100,'\\n')"
   ]
  },
  {
   "cell_type": "code",
   "execution_count": 217,
   "id": "1c3054d0",
   "metadata": {},
   "outputs": [
    {
     "name": "stdout",
     "output_type": "stream",
     "text": [
      "49203.06434253535\n",
      "97.67998616791071\n"
     ]
    }
   ],
   "source": [
    "#checking error for RandomForest\n",
    "\n",
    "mserf=mean_squared_error(y_test,predrf)\n",
    "maerf=mean_absolute_error(y_test,predrf)\n",
    "print(mserf)\n",
    "print(maerf)"
   ]
  },
  {
   "cell_type": "code",
   "execution_count": 218,
   "id": "ca5bf3ff",
   "metadata": {},
   "outputs": [
    {
     "data": {
      "text/html": [
       "<div>\n",
       "<style scoped>\n",
       "    .dataframe tbody tr th:only-of-type {\n",
       "        vertical-align: middle;\n",
       "    }\n",
       "\n",
       "    .dataframe tbody tr th {\n",
       "        vertical-align: top;\n",
       "    }\n",
       "\n",
       "    .dataframe thead th {\n",
       "        text-align: right;\n",
       "    }\n",
       "</style>\n",
       "<table border=\"1\" class=\"dataframe\">\n",
       "  <thead>\n",
       "    <tr style=\"text-align: right;\">\n",
       "      <th></th>\n",
       "      <th>Mean Squared Error</th>\n",
       "      <th>Mean Absolute Error</th>\n",
       "      <th>Accuracy Score</th>\n",
       "    </tr>\n",
       "  </thead>\n",
       "  <tbody>\n",
       "    <tr>\n",
       "      <th>LinearRegression</th>\n",
       "      <td>119390.192416</td>\n",
       "      <td>252.135163</td>\n",
       "      <td>0.364181</td>\n",
       "    </tr>\n",
       "    <tr>\n",
       "      <th>Lasso</th>\n",
       "      <td>119445.220217</td>\n",
       "      <td>251.847874</td>\n",
       "      <td>0.363888</td>\n",
       "    </tr>\n",
       "    <tr>\n",
       "      <th>Ridge</th>\n",
       "      <td>119405.193350</td>\n",
       "      <td>252.096309</td>\n",
       "      <td>0.364101</td>\n",
       "    </tr>\n",
       "    <tr>\n",
       "      <th>KNeighborsRegressor</th>\n",
       "      <td>64819.053587</td>\n",
       "      <td>114.738338</td>\n",
       "      <td>0.654803</td>\n",
       "    </tr>\n",
       "    <tr>\n",
       "      <th>DecisionTreeClassifier</th>\n",
       "      <td>71311.828769</td>\n",
       "      <td>116.268373</td>\n",
       "      <td>0.620225</td>\n",
       "    </tr>\n",
       "    <tr>\n",
       "      <th>AdaBoostRegressor</th>\n",
       "      <td>73882.133400</td>\n",
       "      <td>214.253718</td>\n",
       "      <td>0.606537</td>\n",
       "    </tr>\n",
       "    <tr>\n",
       "      <th>GradientBoostingRegressor</th>\n",
       "      <td>52176.195291</td>\n",
       "      <td>104.796960</td>\n",
       "      <td>0.722133</td>\n",
       "    </tr>\n",
       "    <tr>\n",
       "      <th>RandomForestRegressor</th>\n",
       "      <td>49203.064343</td>\n",
       "      <td>97.679986</td>\n",
       "      <td>0.737966</td>\n",
       "    </tr>\n",
       "  </tbody>\n",
       "</table>\n",
       "</div>"
      ],
      "text/plain": [
       "                           Mean Squared Error  Mean Absolute Error  \\\n",
       "LinearRegression                119390.192416           252.135163   \n",
       "Lasso                           119445.220217           251.847874   \n",
       "Ridge                           119405.193350           252.096309   \n",
       "KNeighborsRegressor              64819.053587           114.738338   \n",
       "DecisionTreeClassifier           71311.828769           116.268373   \n",
       "AdaBoostRegressor                73882.133400           214.253718   \n",
       "GradientBoostingRegressor        52176.195291           104.796960   \n",
       "RandomForestRegressor            49203.064343            97.679986   \n",
       "\n",
       "                           Accuracy Score  \n",
       "LinearRegression                 0.364181  \n",
       "Lasso                            0.363888  \n",
       "Ridge                            0.364101  \n",
       "KNeighborsRegressor              0.654803  \n",
       "DecisionTreeClassifier           0.620225  \n",
       "AdaBoostRegressor                0.606537  \n",
       "GradientBoostingRegressor        0.722133  \n",
       "RandomForestRegressor            0.737966  "
      ]
     },
     "execution_count": 218,
     "metadata": {},
     "output_type": "execute_result"
    }
   ],
   "source": [
    "algodf=pd.DataFrame({'Mean Squared Error':[mselr,msels,mselrr,mseknn,msedtc,mseada,msegb,mserf],'Mean Absolute Error':[maelr,maels,maelrr,maeknn,maedtc,maeada,maegb,maerf],'Accuracy Score':[r2_score(y_test,predlr),r2_score(y_test,predls),r2_score(y_test,predlrr),r2_score(y_test,predknn),r2_score(y_test,preddtc),r2_score(y_test,predada),r2_score(y_test,predgb),r2_score(y_test,predrf)]},index=['LinearRegression','Lasso','Ridge','KNeighborsRegressor','DecisionTreeClassifier','AdaBoostRegressor','GradientBoostingRegressor','RandomForestRegressor'])\n",
    "algodf"
   ]
  },
  {
   "cell_type": "markdown",
   "id": "fba5e829",
   "metadata": {},
   "source": [
    "- the errors are lowest with RandomForest adn the accuracy is highest with it as well"
   ]
  },
  {
   "cell_type": "markdown",
   "id": "91a1ed81",
   "metadata": {},
   "source": [
    "# Hyperparameter Tuning:"
   ]
  },
  {
   "cell_type": "code",
   "execution_count": 219,
   "id": "ed5f7c66",
   "metadata": {},
   "outputs": [],
   "source": [
    "from sklearn.model_selection import GridSearchCV"
   ]
  },
  {
   "cell_type": "code",
   "execution_count": 220,
   "id": "2d7a6559",
   "metadata": {},
   "outputs": [
    {
     "name": "stdout",
     "output_type": "stream",
     "text": [
      "{'criterion': 'absolute_error', 'max_features': 'log2'}\n"
     ]
    }
   ],
   "source": [
    "parameters={'criterion':[\"squared_error\", \"absolute_error\", \"poisson\"],'max_features':['sqrt','log2','auto']}\n",
    "rf=RandomForestRegressor()\n",
    "clf=GridSearchCV(rf,parameters)\n",
    "x_train,x_test,y_train,y_test=train_test_split(x,y,random_state=51,test_size=.30)\n",
    "clf.fit(x_train,y_train)\n",
    "\n",
    "print(clf.best_params_)"
   ]
  },
  {
   "cell_type": "code",
   "execution_count": 223,
   "id": "48ab4028",
   "metadata": {},
   "outputs": [
    {
     "name": "stdout",
     "output_type": "stream",
     "text": [
      "At random state: 11\n",
      "79.55561825037026 \n",
      "\n",
      "At random state: 36\n",
      "79.79269297999396 \n",
      "\n",
      "At random state: 42\n",
      "80.21056961019568 \n",
      "\n",
      "At random state: 47\n",
      "80.03293021146234 \n",
      "\n",
      "At random state: 62\n",
      "80.2959746933826 \n",
      "\n",
      "At random state: 64\n",
      "79.50354520414632 \n",
      "\n",
      "At random state: 95\n",
      "79.90318123352729 \n",
      "\n"
     ]
    }
   ],
   "source": [
    "for i in range(100):\n",
    "    rf=RandomForestRegressor(criterion='absolute_error',max_features='log2')\n",
    "    x_train,x_test,y_train,y_test=train_test_split(x,y,random_state=i,test_size=.30)\n",
    "    rf.fit(x_train,y_train)\n",
    "    predrf=rf.predict(x_test)\n",
    "    if round(r2_score(y_test,predrf)*100)==80:\n",
    "        print('At random state:',i)\n",
    "        print(r2_score(y_test,predrf)*100,'\\n')"
   ]
  },
  {
   "cell_type": "code",
   "execution_count": 225,
   "id": "ce471a22",
   "metadata": {},
   "outputs": [
    {
     "data": {
      "text/plain": [
       "80.06321515681528"
      ]
     },
     "execution_count": 225,
     "metadata": {},
     "output_type": "execute_result"
    }
   ],
   "source": [
    "rf=RandomForestRegressor(criterion='absolute_error',max_features='log2')\n",
    "x_train,x_test,y_train,y_test=train_test_split(x,y,random_state=47,test_size=.30)\n",
    "rf.fit(x_train,y_train)\n",
    "predrf=rf.predict(x_test)\n",
    "r2_score(y_test,predrf)*100"
   ]
  },
  {
   "cell_type": "code",
   "execution_count": 222,
   "id": "8720e67f",
   "metadata": {},
   "outputs": [
    {
     "name": "stdout",
     "output_type": "stream",
     "text": [
      "At cv= 2\n",
      "Cross Validation Score is: 78.26459506465523 \n",
      "\n",
      "At cv= 3\n",
      "Cross Validation Score is: 79.79938362396396 \n",
      "\n",
      "At cv= 4\n",
      "Cross Validation Score is: 78.59434406076683 \n",
      "\n",
      "At cv= 5\n",
      "Cross Validation Score is: 79.36124791658288 \n",
      "\n",
      "At cv= 6\n",
      "Cross Validation Score is: 79.60095208613592 \n",
      "\n",
      "At cv= 7\n",
      "Cross Validation Score is: 78.60689845375171 \n",
      "\n",
      "At cv= 8\n",
      "Cross Validation Score is: 80.00529366102539 \n",
      "\n",
      "At cv= 9\n",
      "Cross Validation Score is: 78.35307606185253 \n",
      "\n",
      "At cv= 10\n",
      "Cross Validation Score is: 78.92366503951284 \n",
      "\n"
     ]
    }
   ],
   "source": [
    "#checking for cross validation score\n",
    "\n",
    "rf=RandomForestRegressor(criterion='absolute_error',max_features='log2')\n",
    "for j in range(2,11):\n",
    "    rfs=cross_val_score(rf,x,y,cv=j)\n",
    "    rfc=rfs.mean()\n",
    "    print('At cv=',j)\n",
    "    print('Cross Validation Score is:',rfc*100,'\\n')"
   ]
  },
  {
   "cell_type": "code",
   "execution_count": 246,
   "id": "b564f0ea",
   "metadata": {},
   "outputs": [
    {
     "data": {
      "text/plain": [
       "80.20271080340608"
      ]
     },
     "execution_count": 246,
     "metadata": {},
     "output_type": "execute_result"
    }
   ],
   "source": [
    "rf=RandomForestRegressor(criterion='absolute_error',max_features='log2')\n",
    "rfs=cross_val_score(rf,x,y,cv=15)\n",
    "rfc=rfs.mean()*100\n",
    "rfc"
   ]
  },
  {
   "cell_type": "code",
   "execution_count": 248,
   "id": "d3ab45b9",
   "metadata": {},
   "outputs": [
    {
     "name": "stdout",
     "output_type": "stream",
     "text": [
      "The model is performing extremely well with RandomForestRegressor as we are getting both cross validation score and accuracy score as 80 \n",
      "\n",
      "Accuracy Score: 80\n",
      "Cross Validation Score: 80\n"
     ]
    }
   ],
   "source": [
    "print('The model is performing extremely well with RandomForestRegressor as we are getting both cross validation score and accuracy score as 80','\\n')\n",
    "print('Accuracy Score:', round(r2_score(y_test,predrf)*100))\n",
    "print('Cross Validation Score:', round(rfc))"
   ]
  },
  {
   "cell_type": "code",
   "execution_count": 249,
   "id": "94540836",
   "metadata": {},
   "outputs": [
    {
     "name": "stdout",
     "output_type": "stream",
     "text": [
      "Mean Squared Error: 36426.21994805433\n",
      "Mean Absolute Error: 88.93049843137254\n"
     ]
    }
   ],
   "source": [
    "print('Mean Squared Error:',mean_squared_error(y_test,predrf))\n",
    "print('Mean Absolute Error:',mean_absolute_error(y_test,predrf))"
   ]
  },
  {
   "cell_type": "code",
   "execution_count": 250,
   "id": "b45efdc9",
   "metadata": {},
   "outputs": [
    {
     "data": {
      "text/html": [
       "<div>\n",
       "<style scoped>\n",
       "    .dataframe tbody tr th:only-of-type {\n",
       "        vertical-align: middle;\n",
       "    }\n",
       "\n",
       "    .dataframe tbody tr th {\n",
       "        vertical-align: top;\n",
       "    }\n",
       "\n",
       "    .dataframe thead th {\n",
       "        text-align: right;\n",
       "    }\n",
       "</style>\n",
       "<table border=\"1\" class=\"dataframe\">\n",
       "  <thead>\n",
       "    <tr style=\"text-align: right;\">\n",
       "      <th></th>\n",
       "      <th>Capacity_mw</th>\n",
       "      <th>Predicted Capacity_mw</th>\n",
       "    </tr>\n",
       "  </thead>\n",
       "  <tbody>\n",
       "    <tr>\n",
       "      <th>876</th>\n",
       "      <td>1260.00</td>\n",
       "      <td>1347.08000</td>\n",
       "    </tr>\n",
       "    <tr>\n",
       "      <th>100</th>\n",
       "      <td>20.00</td>\n",
       "      <td>18.23250</td>\n",
       "    </tr>\n",
       "    <tr>\n",
       "      <th>407</th>\n",
       "      <td>1.00</td>\n",
       "      <td>10.03800</td>\n",
       "    </tr>\n",
       "    <tr>\n",
       "      <th>103</th>\n",
       "      <td>750.00</td>\n",
       "      <td>598.18080</td>\n",
       "    </tr>\n",
       "    <tr>\n",
       "      <th>755</th>\n",
       "      <td>25.00</td>\n",
       "      <td>4.91500</td>\n",
       "    </tr>\n",
       "    <tr>\n",
       "      <th>...</th>\n",
       "      <td>...</td>\n",
       "      <td>...</td>\n",
       "    </tr>\n",
       "    <tr>\n",
       "      <th>705</th>\n",
       "      <td>6.60</td>\n",
       "      <td>23.30945</td>\n",
       "    </tr>\n",
       "    <tr>\n",
       "      <th>543</th>\n",
       "      <td>630.00</td>\n",
       "      <td>913.71500</td>\n",
       "    </tr>\n",
       "    <tr>\n",
       "      <th>500</th>\n",
       "      <td>14.65</td>\n",
       "      <td>32.81750</td>\n",
       "    </tr>\n",
       "    <tr>\n",
       "      <th>166</th>\n",
       "      <td>990.00</td>\n",
       "      <td>999.00300</td>\n",
       "    </tr>\n",
       "    <tr>\n",
       "      <th>553</th>\n",
       "      <td>7.20</td>\n",
       "      <td>29.28650</td>\n",
       "    </tr>\n",
       "  </tbody>\n",
       "</table>\n",
       "<p>255 rows × 2 columns</p>\n",
       "</div>"
      ],
      "text/plain": [
       "     Capacity_mw  Predicted Capacity_mw\n",
       "876      1260.00             1347.08000\n",
       "100        20.00               18.23250\n",
       "407         1.00               10.03800\n",
       "103       750.00              598.18080\n",
       "755        25.00                4.91500\n",
       "..           ...                    ...\n",
       "705         6.60               23.30945\n",
       "543       630.00              913.71500\n",
       "500        14.65               32.81750\n",
       "166       990.00              999.00300\n",
       "553         7.20               29.28650\n",
       "\n",
       "[255 rows x 2 columns]"
      ]
     },
     "execution_count": 250,
     "metadata": {},
     "output_type": "execute_result"
    }
   ],
   "source": [
    "preddf=pd.DataFrame({'Capacity_mw':y_test,'Predicted Capacity_mw':predrf})\n",
    "preddf"
   ]
  },
  {
   "cell_type": "code",
   "execution_count": 251,
   "id": "71fb9e93",
   "metadata": {},
   "outputs": [
    {
     "data": {
      "image/png": "[encoded data removed]",
      "text/plain": [
       "<Figure size 432x288 with 1 Axes>"
      ]
     },
     "metadata": {
      "needs_background": "light"
     },
     "output_type": "display_data"
    }
   ],
   "source": [
    "sns.scatterplot(y_test,predrf)\n",
    "plt.show()"
   ]
  },
  {
   "cell_type": "code",
   "execution_count": 252,
   "id": "7d416558",
   "metadata": {},
   "outputs": [],
   "source": [
    "#saving the best model\n",
    "\n",
    "import pickle\n",
    "pickle.dump(rf,open('powerplantcapacity.pkl','wb'))"
   ]
  },
  {
   "cell_type": "code",
   "execution_count": null,
   "id": "e7de6313",
   "metadata": {},
   "outputs": [],
   "source": []
  }
 ],
 "metadata": {
  "kernelspec": {
   "display_name": "Python 3 (ipykernel)",
   "language": "python",
   "name": "python3"
  },
  "language_info": {
   "codemirror_mode": {
    "name": "ipython",
    "version": 3
   },
   "file_extension": ".py",
   "mimetype": "text/x-python",
   "name": "python",
   "nbconvert_exporter": "python",
   "pygments_lexer": "ipython3",
   "version": "3.9.7"
  }
 },
 "nbformat": 4,
 "nbformat_minor": 5
}
