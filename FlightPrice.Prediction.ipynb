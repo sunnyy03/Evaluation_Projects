{
 "cells": [
  {
   "cell_type": "markdown",
   "id": "e3289a46",
   "metadata": {},
   "source": [
    "Problem statement:\n",
    "-To predict the price of the flight ticket. "
   ]
  },
  {
   "cell_type": "code",
   "execution_count": 1,
   "id": "c8a946b6",
   "metadata": {},
   "outputs": [
    {
     "data": {
      "text/html": [
       "<div>\n",
       "<style scoped>\n",
       "    .dataframe tbody tr th:only-of-type {\n",
       "        vertical-align: middle;\n",
       "    }\n",
       "\n",
       "    .dataframe tbody tr th {\n",
       "        vertical-align: top;\n",
       "    }\n",
       "\n",
       "    .dataframe thead th {\n",
       "        text-align: right;\n",
       "    }\n",
       "</style>\n",
       "<table border=\"1\" class=\"dataframe\">\n",
       "  <thead>\n",
       "    <tr style=\"text-align: right;\">\n",
       "      <th></th>\n",
       "      <th>Airline</th>\n",
       "      <th>Date_of_Journey</th>\n",
       "      <th>Source</th>\n",
       "      <th>Destination</th>\n",
       "      <th>Route</th>\n",
       "      <th>Dep_Time</th>\n",
       "      <th>Arrival_Time</th>\n",
       "      <th>Duration</th>\n",
       "      <th>Total_Stops</th>\n",
       "      <th>Additional_Info</th>\n",
       "      <th>Price</th>\n",
       "    </tr>\n",
       "  </thead>\n",
       "  <tbody>\n",
       "    <tr>\n",
       "      <th>0</th>\n",
       "      <td>IndiGo</td>\n",
       "      <td>24/03/2019</td>\n",
       "      <td>Banglore</td>\n",
       "      <td>New Delhi</td>\n",
       "      <td>BLR → DEL</td>\n",
       "      <td>22:20</td>\n",
       "      <td>01:10 22 Mar</td>\n",
       "      <td>2h 50m</td>\n",
       "      <td>non-stop</td>\n",
       "      <td>No info</td>\n",
       "      <td>3897</td>\n",
       "    </tr>\n",
       "    <tr>\n",
       "      <th>1</th>\n",
       "      <td>Air India</td>\n",
       "      <td>1/05/2019</td>\n",
       "      <td>Kolkata</td>\n",
       "      <td>Banglore</td>\n",
       "      <td>CCU → IXR → BBI → BLR</td>\n",
       "      <td>05:50</td>\n",
       "      <td>13:15</td>\n",
       "      <td>7h 25m</td>\n",
       "      <td>2 stops</td>\n",
       "      <td>No info</td>\n",
       "      <td>7662</td>\n",
       "    </tr>\n",
       "    <tr>\n",
       "      <th>2</th>\n",
       "      <td>Jet Airways</td>\n",
       "      <td>9/06/2019</td>\n",
       "      <td>Delhi</td>\n",
       "      <td>Cochin</td>\n",
       "      <td>DEL → LKO → BOM → COK</td>\n",
       "      <td>09:25</td>\n",
       "      <td>04:25 10 Jun</td>\n",
       "      <td>19h</td>\n",
       "      <td>2 stops</td>\n",
       "      <td>No info</td>\n",
       "      <td>13882</td>\n",
       "    </tr>\n",
       "    <tr>\n",
       "      <th>3</th>\n",
       "      <td>IndiGo</td>\n",
       "      <td>12/05/2019</td>\n",
       "      <td>Kolkata</td>\n",
       "      <td>Banglore</td>\n",
       "      <td>CCU → NAG → BLR</td>\n",
       "      <td>18:05</td>\n",
       "      <td>23:30</td>\n",
       "      <td>5h 25m</td>\n",
       "      <td>1 stop</td>\n",
       "      <td>No info</td>\n",
       "      <td>6218</td>\n",
       "    </tr>\n",
       "    <tr>\n",
       "      <th>4</th>\n",
       "      <td>IndiGo</td>\n",
       "      <td>01/03/2019</td>\n",
       "      <td>Banglore</td>\n",
       "      <td>New Delhi</td>\n",
       "      <td>BLR → NAG → DEL</td>\n",
       "      <td>16:50</td>\n",
       "      <td>21:35</td>\n",
       "      <td>4h 45m</td>\n",
       "      <td>1 stop</td>\n",
       "      <td>No info</td>\n",
       "      <td>13302</td>\n",
       "    </tr>\n",
       "    <tr>\n",
       "      <th>...</th>\n",
       "      <td>...</td>\n",
       "      <td>...</td>\n",
       "      <td>...</td>\n",
       "      <td>...</td>\n",
       "      <td>...</td>\n",
       "      <td>...</td>\n",
       "      <td>...</td>\n",
       "      <td>...</td>\n",
       "      <td>...</td>\n",
       "      <td>...</td>\n",
       "      <td>...</td>\n",
       "    </tr>\n",
       "    <tr>\n",
       "      <th>10678</th>\n",
       "      <td>Air Asia</td>\n",
       "      <td>9/04/2019</td>\n",
       "      <td>Kolkata</td>\n",
       "      <td>Banglore</td>\n",
       "      <td>CCU → BLR</td>\n",
       "      <td>19:55</td>\n",
       "      <td>22:25</td>\n",
       "      <td>2h 30m</td>\n",
       "      <td>non-stop</td>\n",
       "      <td>No info</td>\n",
       "      <td>4107</td>\n",
       "    </tr>\n",
       "    <tr>\n",
       "      <th>10679</th>\n",
       "      <td>Air India</td>\n",
       "      <td>27/04/2019</td>\n",
       "      <td>Kolkata</td>\n",
       "      <td>Banglore</td>\n",
       "      <td>CCU → BLR</td>\n",
       "      <td>20:45</td>\n",
       "      <td>23:20</td>\n",
       "      <td>2h 35m</td>\n",
       "      <td>non-stop</td>\n",
       "      <td>No info</td>\n",
       "      <td>4145</td>\n",
       "    </tr>\n",
       "    <tr>\n",
       "      <th>10680</th>\n",
       "      <td>Jet Airways</td>\n",
       "      <td>27/04/2019</td>\n",
       "      <td>Banglore</td>\n",
       "      <td>Delhi</td>\n",
       "      <td>BLR → DEL</td>\n",
       "      <td>08:20</td>\n",
       "      <td>11:20</td>\n",
       "      <td>3h</td>\n",
       "      <td>non-stop</td>\n",
       "      <td>No info</td>\n",
       "      <td>7229</td>\n",
       "    </tr>\n",
       "    <tr>\n",
       "      <th>10681</th>\n",
       "      <td>Vistara</td>\n",
       "      <td>01/03/2019</td>\n",
       "      <td>Banglore</td>\n",
       "      <td>New Delhi</td>\n",
       "      <td>BLR → DEL</td>\n",
       "      <td>11:30</td>\n",
       "      <td>14:10</td>\n",
       "      <td>2h 40m</td>\n",
       "      <td>non-stop</td>\n",
       "      <td>No info</td>\n",
       "      <td>12648</td>\n",
       "    </tr>\n",
       "    <tr>\n",
       "      <th>10682</th>\n",
       "      <td>Air India</td>\n",
       "      <td>9/05/2019</td>\n",
       "      <td>Delhi</td>\n",
       "      <td>Cochin</td>\n",
       "      <td>DEL → GOI → BOM → COK</td>\n",
       "      <td>10:55</td>\n",
       "      <td>19:15</td>\n",
       "      <td>8h 20m</td>\n",
       "      <td>2 stops</td>\n",
       "      <td>No info</td>\n",
       "      <td>11753</td>\n",
       "    </tr>\n",
       "  </tbody>\n",
       "</table>\n",
       "<p>10683 rows × 11 columns</p>\n",
       "</div>"
      ],
      "text/plain": [
       "           Airline Date_of_Journey    Source Destination  \\\n",
       "0           IndiGo      24/03/2019  Banglore   New Delhi   \n",
       "1        Air India       1/05/2019   Kolkata    Banglore   \n",
       "2      Jet Airways       9/06/2019     Delhi      Cochin   \n",
       "3           IndiGo      12/05/2019   Kolkata    Banglore   \n",
       "4           IndiGo      01/03/2019  Banglore   New Delhi   \n",
       "...            ...             ...       ...         ...   \n",
       "10678     Air Asia       9/04/2019   Kolkata    Banglore   \n",
       "10679    Air India      27/04/2019   Kolkata    Banglore   \n",
       "10680  Jet Airways      27/04/2019  Banglore       Delhi   \n",
       "10681      Vistara      01/03/2019  Banglore   New Delhi   \n",
       "10682    Air India       9/05/2019     Delhi      Cochin   \n",
       "\n",
       "                       Route Dep_Time  Arrival_Time Duration Total_Stops  \\\n",
       "0                  BLR → DEL    22:20  01:10 22 Mar   2h 50m    non-stop   \n",
       "1      CCU → IXR → BBI → BLR    05:50         13:15   7h 25m     2 stops   \n",
       "2      DEL → LKO → BOM → COK    09:25  04:25 10 Jun      19h     2 stops   \n",
       "3            CCU → NAG → BLR    18:05         23:30   5h 25m      1 stop   \n",
       "4            BLR → NAG → DEL    16:50         21:35   4h 45m      1 stop   \n",
       "...                      ...      ...           ...      ...         ...   \n",
       "10678              CCU → BLR    19:55         22:25   2h 30m    non-stop   \n",
       "10679              CCU → BLR    20:45         23:20   2h 35m    non-stop   \n",
       "10680              BLR → DEL    08:20         11:20       3h    non-stop   \n",
       "10681              BLR → DEL    11:30         14:10   2h 40m    non-stop   \n",
       "10682  DEL → GOI → BOM → COK    10:55         19:15   8h 20m     2 stops   \n",
       "\n",
       "      Additional_Info  Price  \n",
       "0             No info   3897  \n",
       "1             No info   7662  \n",
       "2             No info  13882  \n",
       "3             No info   6218  \n",
       "4             No info  13302  \n",
       "...               ...    ...  \n",
       "10678         No info   4107  \n",
       "10679         No info   4145  \n",
       "10680         No info   7229  \n",
       "10681         No info  12648  \n",
       "10682         No info  11753  \n",
       "\n",
       "[10683 rows x 11 columns]"
      ]
     },
     "execution_count": 1,
     "metadata": {},
     "output_type": "execute_result"
    }
   ],
   "source": [
    "#loading the dataset\n",
    "\n",
    "import pandas as pd\n",
    "import numpy as np\n",
    "\n",
    "df=pd.read_excel(r\"C:\\Users\\Yash Bhardwaj\\Downloads\\Flight_Ticket_Participant_Datasets-20190305T100527Z-001\\Flight_Ticket_Participant_Datasets\\Data_Train.xlsx\")\n",
    "df"
   ]
  },
  {
   "cell_type": "code",
   "execution_count": 4,
   "id": "58514e2e",
   "metadata": {},
   "outputs": [
    {
     "data": {
      "text/html": [
       "<div>\n",
       "<style scoped>\n",
       "    .dataframe tbody tr th:only-of-type {\n",
       "        vertical-align: middle;\n",
       "    }\n",
       "\n",
       "    .dataframe tbody tr th {\n",
       "        vertical-align: top;\n",
       "    }\n",
       "\n",
       "    .dataframe thead th {\n",
       "        text-align: right;\n",
       "    }\n",
       "</style>\n",
       "<table border=\"1\" class=\"dataframe\">\n",
       "  <thead>\n",
       "    <tr style=\"text-align: right;\">\n",
       "      <th></th>\n",
       "      <th>Airline</th>\n",
       "      <th>Date_of_Journey</th>\n",
       "      <th>Source</th>\n",
       "      <th>Destination</th>\n",
       "      <th>Route</th>\n",
       "      <th>Dep_Time</th>\n",
       "      <th>Arrival_Time</th>\n",
       "      <th>Duration</th>\n",
       "      <th>Total_Stops</th>\n",
       "      <th>Additional_Info</th>\n",
       "      <th>Price</th>\n",
       "    </tr>\n",
       "  </thead>\n",
       "  <tbody>\n",
       "    <tr>\n",
       "      <th>5342</th>\n",
       "      <td>IndiGo</td>\n",
       "      <td>27/04/2019</td>\n",
       "      <td>Banglore</td>\n",
       "      <td>Delhi</td>\n",
       "      <td>BLR → DEL</td>\n",
       "      <td>13:00</td>\n",
       "      <td>15:50</td>\n",
       "      <td>2h 50m</td>\n",
       "      <td>non-stop</td>\n",
       "      <td>No info</td>\n",
       "      <td>4423</td>\n",
       "    </tr>\n",
       "    <tr>\n",
       "      <th>10421</th>\n",
       "      <td>Jet Airways</td>\n",
       "      <td>12/05/2019</td>\n",
       "      <td>Kolkata</td>\n",
       "      <td>Banglore</td>\n",
       "      <td>CCU → BOM → BLR</td>\n",
       "      <td>16:30</td>\n",
       "      <td>22:35</td>\n",
       "      <td>6h 5m</td>\n",
       "      <td>1 stop</td>\n",
       "      <td>In-flight meal not included</td>\n",
       "      <td>10844</td>\n",
       "    </tr>\n",
       "    <tr>\n",
       "      <th>2456</th>\n",
       "      <td>Jet Airways</td>\n",
       "      <td>6/06/2019</td>\n",
       "      <td>Kolkata</td>\n",
       "      <td>Banglore</td>\n",
       "      <td>CCU → DEL → BLR</td>\n",
       "      <td>20:25</td>\n",
       "      <td>10:55 07 Jun</td>\n",
       "      <td>14h 30m</td>\n",
       "      <td>1 stop</td>\n",
       "      <td>In-flight meal not included</td>\n",
       "      <td>10539</td>\n",
       "    </tr>\n",
       "    <tr>\n",
       "      <th>1312</th>\n",
       "      <td>Jet Airways</td>\n",
       "      <td>9/06/2019</td>\n",
       "      <td>Delhi</td>\n",
       "      <td>Cochin</td>\n",
       "      <td>DEL → NAG → BOM → COK</td>\n",
       "      <td>06:45</td>\n",
       "      <td>12:35 10 Jun</td>\n",
       "      <td>29h 50m</td>\n",
       "      <td>2 stops</td>\n",
       "      <td>No info</td>\n",
       "      <td>13376</td>\n",
       "    </tr>\n",
       "    <tr>\n",
       "      <th>8993</th>\n",
       "      <td>Multiple carriers</td>\n",
       "      <td>12/06/2019</td>\n",
       "      <td>Delhi</td>\n",
       "      <td>Cochin</td>\n",
       "      <td>DEL → BOM → COK</td>\n",
       "      <td>06:00</td>\n",
       "      <td>21:00</td>\n",
       "      <td>15h</td>\n",
       "      <td>1 stop</td>\n",
       "      <td>No info</td>\n",
       "      <td>7005</td>\n",
       "    </tr>\n",
       "    <tr>\n",
       "      <th>3245</th>\n",
       "      <td>Jet Airways</td>\n",
       "      <td>24/06/2019</td>\n",
       "      <td>Delhi</td>\n",
       "      <td>Cochin</td>\n",
       "      <td>DEL → BOM → COK</td>\n",
       "      <td>19:15</td>\n",
       "      <td>04:25 25 Jun</td>\n",
       "      <td>9h 10m</td>\n",
       "      <td>1 stop</td>\n",
       "      <td>In-flight meal not included</td>\n",
       "      <td>10262</td>\n",
       "    </tr>\n",
       "    <tr>\n",
       "      <th>4556</th>\n",
       "      <td>Multiple carriers</td>\n",
       "      <td>6/03/2019</td>\n",
       "      <td>Delhi</td>\n",
       "      <td>Cochin</td>\n",
       "      <td>DEL → HYD → COK</td>\n",
       "      <td>14:35</td>\n",
       "      <td>22:20</td>\n",
       "      <td>7h 45m</td>\n",
       "      <td>1 stop</td>\n",
       "      <td>In-flight meal not included</td>\n",
       "      <td>7563</td>\n",
       "    </tr>\n",
       "    <tr>\n",
       "      <th>10280</th>\n",
       "      <td>Air Asia</td>\n",
       "      <td>24/03/2019</td>\n",
       "      <td>Kolkata</td>\n",
       "      <td>Banglore</td>\n",
       "      <td>CCU → DEL → BLR</td>\n",
       "      <td>07:35</td>\n",
       "      <td>22:55</td>\n",
       "      <td>15h 20m</td>\n",
       "      <td>1 stop</td>\n",
       "      <td>No info</td>\n",
       "      <td>6785</td>\n",
       "    </tr>\n",
       "  </tbody>\n",
       "</table>\n",
       "</div>"
      ],
      "text/plain": [
       "                 Airline Date_of_Journey    Source Destination  \\\n",
       "5342              IndiGo      27/04/2019  Banglore       Delhi   \n",
       "10421        Jet Airways      12/05/2019   Kolkata    Banglore   \n",
       "2456         Jet Airways       6/06/2019   Kolkata    Banglore   \n",
       "1312         Jet Airways       9/06/2019     Delhi      Cochin   \n",
       "8993   Multiple carriers      12/06/2019     Delhi      Cochin   \n",
       "3245         Jet Airways      24/06/2019     Delhi      Cochin   \n",
       "4556   Multiple carriers       6/03/2019     Delhi      Cochin   \n",
       "10280           Air Asia      24/03/2019   Kolkata    Banglore   \n",
       "\n",
       "                       Route Dep_Time  Arrival_Time Duration Total_Stops  \\\n",
       "5342               BLR → DEL    13:00         15:50   2h 50m    non-stop   \n",
       "10421        CCU → BOM → BLR    16:30         22:35    6h 5m      1 stop   \n",
       "2456         CCU → DEL → BLR    20:25  10:55 07 Jun  14h 30m      1 stop   \n",
       "1312   DEL → NAG → BOM → COK    06:45  12:35 10 Jun  29h 50m     2 stops   \n",
       "8993         DEL → BOM → COK    06:00         21:00      15h      1 stop   \n",
       "3245         DEL → BOM → COK    19:15  04:25 25 Jun   9h 10m      1 stop   \n",
       "4556         DEL → HYD → COK    14:35         22:20   7h 45m      1 stop   \n",
       "10280        CCU → DEL → BLR    07:35         22:55  15h 20m      1 stop   \n",
       "\n",
       "                   Additional_Info  Price  \n",
       "5342                       No info   4423  \n",
       "10421  In-flight meal not included  10844  \n",
       "2456   In-flight meal not included  10539  \n",
       "1312                       No info  13376  \n",
       "8993                       No info   7005  \n",
       "3245   In-flight meal not included  10262  \n",
       "4556   In-flight meal not included   7563  \n",
       "10280                      No info   6785  "
      ]
     },
     "execution_count": 4,
     "metadata": {},
     "output_type": "execute_result"
    }
   ],
   "source": [
    "df.sample(8)"
   ]
  },
  {
   "cell_type": "code",
   "execution_count": 5,
   "id": "6dc7fad6",
   "metadata": {},
   "outputs": [
    {
     "data": {
      "text/plain": [
       "Airline            object\n",
       "Date_of_Journey    object\n",
       "Source             object\n",
       "Destination        object\n",
       "Route              object\n",
       "Dep_Time           object\n",
       "Arrival_Time       object\n",
       "Duration           object\n",
       "Total_Stops        object\n",
       "Additional_Info    object\n",
       "Price               int64\n",
       "dtype: object"
      ]
     },
     "execution_count": 5,
     "metadata": {},
     "output_type": "execute_result"
    }
   ],
   "source": [
    "df.dtypes"
   ]
  },
  {
   "cell_type": "code",
   "execution_count": 6,
   "id": "cba4045f",
   "metadata": {},
   "outputs": [
    {
     "data": {
      "text/plain": [
       "Airline            0\n",
       "Date_of_Journey    0\n",
       "Source             0\n",
       "Destination        0\n",
       "Route              1\n",
       "Dep_Time           0\n",
       "Arrival_Time       0\n",
       "Duration           0\n",
       "Total_Stops        1\n",
       "Additional_Info    0\n",
       "Price              0\n",
       "dtype: int64"
      ]
     },
     "execution_count": 6,
     "metadata": {},
     "output_type": "execute_result"
    }
   ],
   "source": [
    "#checking for null values\n",
    "\n",
    "df.isnull().sum()"
   ]
  },
  {
   "cell_type": "markdown",
   "id": "b4caa229",
   "metadata": {},
   "source": [
    "- as there are only two missing values present, we will drop them"
   ]
  },
  {
   "cell_type": "code",
   "execution_count": 10,
   "id": "e4f6de3c",
   "metadata": {},
   "outputs": [],
   "source": [
    "df=df.dropna()"
   ]
  },
  {
   "cell_type": "code",
   "execution_count": 11,
   "id": "75dce33e",
   "metadata": {},
   "outputs": [
    {
     "data": {
      "text/plain": [
       "Airline            0\n",
       "Date_of_Journey    0\n",
       "Source             0\n",
       "Destination        0\n",
       "Route              0\n",
       "Dep_Time           0\n",
       "Arrival_Time       0\n",
       "Duration           0\n",
       "Total_Stops        0\n",
       "Additional_Info    0\n",
       "Price              0\n",
       "dtype: int64"
      ]
     },
     "execution_count": 11,
     "metadata": {},
     "output_type": "execute_result"
    }
   ],
   "source": [
    "#now checking for null values\n",
    "\n",
    "df.isnull().sum()"
   ]
  },
  {
   "cell_type": "markdown",
   "id": "5c33fed9",
   "metadata": {},
   "source": [
    "# EDA and PREPROCESSING"
   ]
  },
  {
   "cell_type": "code",
   "execution_count": 20,
   "id": "c6780b40",
   "metadata": {},
   "outputs": [
    {
     "name": "stdout",
     "output_type": "stream",
     "text": [
      "<class 'pandas.core.frame.DataFrame'>\n",
      "Int64Index: 10682 entries, 0 to 10682\n",
      "Data columns (total 11 columns):\n",
      " #   Column           Non-Null Count  Dtype \n",
      "---  ------           --------------  ----- \n",
      " 0   Airline          10682 non-null  object\n",
      " 1   Date_of_Journey  10682 non-null  object\n",
      " 2   Source           10682 non-null  object\n",
      " 3   Destination      10682 non-null  object\n",
      " 4   Route            10682 non-null  object\n",
      " 5   Dep_Time         10682 non-null  object\n",
      " 6   Arrival_Time     10682 non-null  object\n",
      " 7   Duration         10682 non-null  object\n",
      " 8   Total_Stops      10682 non-null  object\n",
      " 9   Additional_Info  10682 non-null  object\n",
      " 10  Price            10682 non-null  int64 \n",
      "dtypes: int64(1), object(10)\n",
      "memory usage: 1001.4+ KB\n"
     ]
    }
   ],
   "source": [
    "df.info()"
   ]
  },
  {
   "cell_type": "markdown",
   "id": "1c791272",
   "metadata": {},
   "source": [
    "- so as we can see that the columns has categorical datatype\n",
    "- the dataset has Date_of_Journey,Dep_Time,Arrival_Time,Duration as object datatype, so we can use pandas datetime function to get required results "
   ]
  },
  {
   "cell_type": "markdown",
   "id": "020b9d94",
   "metadata": {},
   "source": [
    "-lets first deal with 'Duration' as it has value in both hours and minutes, we will convert it in minutes only for a better understanding"
   ]
  },
  {
   "cell_type": "code",
   "execution_count": 25,
   "id": "6946425b",
   "metadata": {},
   "outputs": [
    {
     "data": {
      "text/plain": [
       "'1h 30m'"
      ]
     },
     "execution_count": 25,
     "metadata": {},
     "output_type": "execute_result"
    }
   ],
   "source": [
    "df['Duration'][67]"
   ]
  },
  {
   "cell_type": "code",
   "execution_count": 2,
   "id": "7b22b7d7",
   "metadata": {},
   "outputs": [],
   "source": [
    "df['Duration_New']=df['Duration'].str.replace(\"h\", '*60').str.replace(' ','+').str.replace('m','*1').apply(eval)"
   ]
  },
  {
   "cell_type": "code",
   "execution_count": 28,
   "id": "aae5bdf9",
   "metadata": {},
   "outputs": [
    {
     "data": {
      "text/plain": [
       "90"
      ]
     },
     "execution_count": 28,
     "metadata": {},
     "output_type": "execute_result"
    }
   ],
   "source": [
    "df['Duration_New'][67]"
   ]
  },
  {
   "cell_type": "markdown",
   "id": "9eaf69b6",
   "metadata": {},
   "source": [
    "- so the 'Duration' feature has been transformed"
   ]
  },
  {
   "cell_type": "code",
   "execution_count": 3,
   "id": "fa201a3c",
   "metadata": {},
   "outputs": [],
   "source": [
    "#now lets deal with 'Date_of_Journey' as  the data is in object datatype we will change it to datetime an then extract day of journey and month of journey\n",
    "\n",
    "import datetime\n",
    "\n",
    "df['Day_of_Journey']=pd.to_datetime(df['Date_of_Journey']).dt.day\n",
    "df['Month_of_Journey']=pd.to_datetime(df['Date_of_Journey']).dt.month"
   ]
  },
  {
   "cell_type": "code",
   "execution_count": 42,
   "id": "2636e02b",
   "metadata": {},
   "outputs": [
    {
     "data": {
      "text/plain": [
       "0        24\n",
       "1         5\n",
       "2         6\n",
       "3         5\n",
       "4         3\n",
       "         ..\n",
       "10678     4\n",
       "10679    27\n",
       "10680    27\n",
       "10681     3\n",
       "10682     5\n",
       "Name: Day_of_Journey, Length: 10683, dtype: int64"
      ]
     },
     "execution_count": 42,
     "metadata": {},
     "output_type": "execute_result"
    }
   ],
   "source": [
    "df['Day_of_Journey']"
   ]
  },
  {
   "cell_type": "code",
   "execution_count": 4,
   "id": "84637be7",
   "metadata": {},
   "outputs": [],
   "source": [
    "#now lets, deal with arrival and departure time\n",
    "\n",
    "df[\"Dep_hour\"] = pd.to_datetime(df[\"Dep_Time\"]).dt.hour\n",
    "df[\"Dep_min\"] = pd.to_datetime(df[\"Dep_Time\"]).dt.minute"
   ]
  },
  {
   "cell_type": "code",
   "execution_count": 44,
   "id": "1789c0eb",
   "metadata": {},
   "outputs": [
    {
     "data": {
      "text/plain": [
       "0        22\n",
       "1         5\n",
       "2         9\n",
       "3        18\n",
       "4        16\n",
       "         ..\n",
       "10678    19\n",
       "10679    20\n",
       "10680     8\n",
       "10681    11\n",
       "10682    10\n",
       "Name: Dep_hour, Length: 10683, dtype: int64"
      ]
     },
     "execution_count": 44,
     "metadata": {},
     "output_type": "execute_result"
    }
   ],
   "source": [
    "df['Dep_hour']"
   ]
  },
  {
   "cell_type": "code",
   "execution_count": 5,
   "id": "59c22368",
   "metadata": {},
   "outputs": [],
   "source": [
    "#same goes for arrival time\n",
    "\n",
    "df[\"Arrival_hour\"] = pd.to_datetime(df[\"Arrival_Time\"]).dt.hour\n",
    "df[\"Arrival_min\"] = pd.to_datetime(df[\"Arrival_Time\"]).dt.minute"
   ]
  },
  {
   "cell_type": "code",
   "execution_count": 46,
   "id": "db5ff836",
   "metadata": {},
   "outputs": [
    {
     "data": {
      "text/plain": [
       "0         1\n",
       "1        13\n",
       "2         4\n",
       "3        23\n",
       "4        21\n",
       "         ..\n",
       "10678    22\n",
       "10679    23\n",
       "10680    11\n",
       "10681    14\n",
       "10682    19\n",
       "Name: Arrival_hour, Length: 10683, dtype: int64"
      ]
     },
     "execution_count": 46,
     "metadata": {},
     "output_type": "execute_result"
    }
   ],
   "source": [
    "df['Arrival_hour']"
   ]
  },
  {
   "cell_type": "code",
   "execution_count": 47,
   "id": "ad1a1065",
   "metadata": {},
   "outputs": [
    {
     "data": {
      "text/html": [
       "<div>\n",
       "<style scoped>\n",
       "    .dataframe tbody tr th:only-of-type {\n",
       "        vertical-align: middle;\n",
       "    }\n",
       "\n",
       "    .dataframe tbody tr th {\n",
       "        vertical-align: top;\n",
       "    }\n",
       "\n",
       "    .dataframe thead th {\n",
       "        text-align: right;\n",
       "    }\n",
       "</style>\n",
       "<table border=\"1\" class=\"dataframe\">\n",
       "  <thead>\n",
       "    <tr style=\"text-align: right;\">\n",
       "      <th></th>\n",
       "      <th>Airline</th>\n",
       "      <th>Date_of_Journey</th>\n",
       "      <th>Source</th>\n",
       "      <th>Destination</th>\n",
       "      <th>Route</th>\n",
       "      <th>Dep_Time</th>\n",
       "      <th>Arrival_Time</th>\n",
       "      <th>Duration</th>\n",
       "      <th>Total_Stops</th>\n",
       "      <th>Additional_Info</th>\n",
       "      <th>Price</th>\n",
       "      <th>Duration_New</th>\n",
       "      <th>Day_of_Journey</th>\n",
       "      <th>Month_of_Journey</th>\n",
       "      <th>Dep_hour</th>\n",
       "      <th>Dep_min</th>\n",
       "      <th>Arrival_hour</th>\n",
       "      <th>Arrival_min</th>\n",
       "    </tr>\n",
       "  </thead>\n",
       "  <tbody>\n",
       "    <tr>\n",
       "      <th>0</th>\n",
       "      <td>IndiGo</td>\n",
       "      <td>24/03/2019</td>\n",
       "      <td>Banglore</td>\n",
       "      <td>New Delhi</td>\n",
       "      <td>BLR → DEL</td>\n",
       "      <td>22:20</td>\n",
       "      <td>01:10 22 Mar</td>\n",
       "      <td>2h 50m</td>\n",
       "      <td>non-stop</td>\n",
       "      <td>No info</td>\n",
       "      <td>3897</td>\n",
       "      <td>170</td>\n",
       "      <td>24</td>\n",
       "      <td>3</td>\n",
       "      <td>22</td>\n",
       "      <td>20</td>\n",
       "      <td>1</td>\n",
       "      <td>10</td>\n",
       "    </tr>\n",
       "    <tr>\n",
       "      <th>1</th>\n",
       "      <td>Air India</td>\n",
       "      <td>1/05/2019</td>\n",
       "      <td>Kolkata</td>\n",
       "      <td>Banglore</td>\n",
       "      <td>CCU → IXR → BBI → BLR</td>\n",
       "      <td>05:50</td>\n",
       "      <td>13:15</td>\n",
       "      <td>7h 25m</td>\n",
       "      <td>2 stops</td>\n",
       "      <td>No info</td>\n",
       "      <td>7662</td>\n",
       "      <td>445</td>\n",
       "      <td>5</td>\n",
       "      <td>1</td>\n",
       "      <td>5</td>\n",
       "      <td>50</td>\n",
       "      <td>13</td>\n",
       "      <td>15</td>\n",
       "    </tr>\n",
       "    <tr>\n",
       "      <th>2</th>\n",
       "      <td>Jet Airways</td>\n",
       "      <td>9/06/2019</td>\n",
       "      <td>Delhi</td>\n",
       "      <td>Cochin</td>\n",
       "      <td>DEL → LKO → BOM → COK</td>\n",
       "      <td>09:25</td>\n",
       "      <td>04:25 10 Jun</td>\n",
       "      <td>19h</td>\n",
       "      <td>2 stops</td>\n",
       "      <td>No info</td>\n",
       "      <td>13882</td>\n",
       "      <td>1140</td>\n",
       "      <td>6</td>\n",
       "      <td>9</td>\n",
       "      <td>9</td>\n",
       "      <td>25</td>\n",
       "      <td>4</td>\n",
       "      <td>25</td>\n",
       "    </tr>\n",
       "    <tr>\n",
       "      <th>3</th>\n",
       "      <td>IndiGo</td>\n",
       "      <td>12/05/2019</td>\n",
       "      <td>Kolkata</td>\n",
       "      <td>Banglore</td>\n",
       "      <td>CCU → NAG → BLR</td>\n",
       "      <td>18:05</td>\n",
       "      <td>23:30</td>\n",
       "      <td>5h 25m</td>\n",
       "      <td>1 stop</td>\n",
       "      <td>No info</td>\n",
       "      <td>6218</td>\n",
       "      <td>325</td>\n",
       "      <td>5</td>\n",
       "      <td>12</td>\n",
       "      <td>18</td>\n",
       "      <td>5</td>\n",
       "      <td>23</td>\n",
       "      <td>30</td>\n",
       "    </tr>\n",
       "    <tr>\n",
       "      <th>4</th>\n",
       "      <td>IndiGo</td>\n",
       "      <td>01/03/2019</td>\n",
       "      <td>Banglore</td>\n",
       "      <td>New Delhi</td>\n",
       "      <td>BLR → NAG → DEL</td>\n",
       "      <td>16:50</td>\n",
       "      <td>21:35</td>\n",
       "      <td>4h 45m</td>\n",
       "      <td>1 stop</td>\n",
       "      <td>No info</td>\n",
       "      <td>13302</td>\n",
       "      <td>285</td>\n",
       "      <td>3</td>\n",
       "      <td>1</td>\n",
       "      <td>16</td>\n",
       "      <td>50</td>\n",
       "      <td>21</td>\n",
       "      <td>35</td>\n",
       "    </tr>\n",
       "  </tbody>\n",
       "</table>\n",
       "</div>"
      ],
      "text/plain": [
       "       Airline Date_of_Journey    Source Destination                  Route  \\\n",
       "0       IndiGo      24/03/2019  Banglore   New Delhi              BLR → DEL   \n",
       "1    Air India       1/05/2019   Kolkata    Banglore  CCU → IXR → BBI → BLR   \n",
       "2  Jet Airways       9/06/2019     Delhi      Cochin  DEL → LKO → BOM → COK   \n",
       "3       IndiGo      12/05/2019   Kolkata    Banglore        CCU → NAG → BLR   \n",
       "4       IndiGo      01/03/2019  Banglore   New Delhi        BLR → NAG → DEL   \n",
       "\n",
       "  Dep_Time  Arrival_Time Duration Total_Stops Additional_Info  Price  \\\n",
       "0    22:20  01:10 22 Mar   2h 50m    non-stop         No info   3897   \n",
       "1    05:50         13:15   7h 25m     2 stops         No info   7662   \n",
       "2    09:25  04:25 10 Jun      19h     2 stops         No info  13882   \n",
       "3    18:05         23:30   5h 25m      1 stop         No info   6218   \n",
       "4    16:50         21:35   4h 45m      1 stop         No info  13302   \n",
       "\n",
       "   Duration_New  Day_of_Journey  Month_of_Journey  Dep_hour  Dep_min  \\\n",
       "0           170              24                 3        22       20   \n",
       "1           445               5                 1         5       50   \n",
       "2          1140               6                 9         9       25   \n",
       "3           325               5                12        18        5   \n",
       "4           285               3                 1        16       50   \n",
       "\n",
       "   Arrival_hour  Arrival_min  \n",
       "0             1           10  \n",
       "1            13           15  \n",
       "2             4           25  \n",
       "3            23           30  \n",
       "4            21           35  "
      ]
     },
     "execution_count": 47,
     "metadata": {},
     "output_type": "execute_result"
    }
   ],
   "source": [
    "df.head()"
   ]
  },
  {
   "cell_type": "code",
   "execution_count": 48,
   "id": "e466948d",
   "metadata": {},
   "outputs": [
    {
     "data": {
      "text/plain": [
       "1 stop      5625\n",
       "non-stop    3491\n",
       "2 stops     1520\n",
       "3 stops       45\n",
       "4 stops        1\n",
       "Name: Total_Stops, dtype: int64"
      ]
     },
     "execution_count": 48,
     "metadata": {},
     "output_type": "execute_result"
    }
   ],
   "source": [
    "#now lets go for 'Total_Stops'\n",
    "\n",
    "df['Total_Stops'].value_counts()"
   ]
  },
  {
   "cell_type": "markdown",
   "id": "8cb6623b",
   "metadata": {},
   "source": [
    "- as this variable has 4 unique class which are may be correlated with our target variable, as flight price are correlated with stops we will encode it later"
   ]
  },
  {
   "cell_type": "code",
   "execution_count": 50,
   "id": "e654b405",
   "metadata": {},
   "outputs": [
    {
     "data": {
      "text/plain": [
       "No info                         8345\n",
       "In-flight meal not included     1982\n",
       "No check-in baggage included     320\n",
       "1 Long layover                    19\n",
       "Change airports                    7\n",
       "Business class                     4\n",
       "No Info                            3\n",
       "1 Short layover                    1\n",
       "Red-eye flight                     1\n",
       "2 Long layover                     1\n",
       "Name: Additional_Info, dtype: int64"
      ]
     },
     "execution_count": 50,
     "metadata": {},
     "output_type": "execute_result"
    }
   ],
   "source": [
    "#now lets deal with 'Additional_Info'\n",
    "\n",
    "df['Additional_Info'].value_counts()"
   ]
  },
  {
   "cell_type": "markdown",
   "id": "513f9d59",
   "metadata": {},
   "source": [
    "- it is also a crucial variable but it has a typo so we will replace it"
   ]
  },
  {
   "cell_type": "code",
   "execution_count": 6,
   "id": "8e0efce6",
   "metadata": {},
   "outputs": [
    {
     "data": {
      "text/plain": [
       "No info                         8348\n",
       "In-flight meal not included     1982\n",
       "No check-in baggage included     320\n",
       "1 Long layover                    19\n",
       "Change airports                    7\n",
       "Business class                     4\n",
       "1 Short layover                    1\n",
       "Red-eye flight                     1\n",
       "2 Long layover                     1\n",
       "Name: Additional_Info, dtype: int64"
      ]
     },
     "execution_count": 6,
     "metadata": {},
     "output_type": "execute_result"
    }
   ],
   "source": [
    "df['Additional_Info'].replace('No Info','No info',inplace=True)\n",
    "df['Additional_Info'].value_counts()"
   ]
  },
  {
   "cell_type": "code",
   "execution_count": 52,
   "id": "d14d7bbb",
   "metadata": {},
   "outputs": [
    {
     "data": {
      "text/html": [
       "<div>\n",
       "<style scoped>\n",
       "    .dataframe tbody tr th:only-of-type {\n",
       "        vertical-align: middle;\n",
       "    }\n",
       "\n",
       "    .dataframe tbody tr th {\n",
       "        vertical-align: top;\n",
       "    }\n",
       "\n",
       "    .dataframe thead th {\n",
       "        text-align: right;\n",
       "    }\n",
       "</style>\n",
       "<table border=\"1\" class=\"dataframe\">\n",
       "  <thead>\n",
       "    <tr style=\"text-align: right;\">\n",
       "      <th></th>\n",
       "      <th>Airline</th>\n",
       "      <th>Date_of_Journey</th>\n",
       "      <th>Source</th>\n",
       "      <th>Destination</th>\n",
       "      <th>Route</th>\n",
       "      <th>Dep_Time</th>\n",
       "      <th>Arrival_Time</th>\n",
       "      <th>Duration</th>\n",
       "      <th>Total_Stops</th>\n",
       "      <th>Additional_Info</th>\n",
       "      <th>Price</th>\n",
       "      <th>Duration_New</th>\n",
       "      <th>Day_of_Journey</th>\n",
       "      <th>Month_of_Journey</th>\n",
       "      <th>Dep_hour</th>\n",
       "      <th>Dep_min</th>\n",
       "      <th>Arrival_hour</th>\n",
       "      <th>Arrival_min</th>\n",
       "    </tr>\n",
       "  </thead>\n",
       "  <tbody>\n",
       "    <tr>\n",
       "      <th>0</th>\n",
       "      <td>IndiGo</td>\n",
       "      <td>24/03/2019</td>\n",
       "      <td>Banglore</td>\n",
       "      <td>New Delhi</td>\n",
       "      <td>BLR → DEL</td>\n",
       "      <td>22:20</td>\n",
       "      <td>01:10 22 Mar</td>\n",
       "      <td>2h 50m</td>\n",
       "      <td>non-stop</td>\n",
       "      <td>No info</td>\n",
       "      <td>3897</td>\n",
       "      <td>170</td>\n",
       "      <td>24</td>\n",
       "      <td>3</td>\n",
       "      <td>22</td>\n",
       "      <td>20</td>\n",
       "      <td>1</td>\n",
       "      <td>10</td>\n",
       "    </tr>\n",
       "    <tr>\n",
       "      <th>1</th>\n",
       "      <td>Air India</td>\n",
       "      <td>1/05/2019</td>\n",
       "      <td>Kolkata</td>\n",
       "      <td>Banglore</td>\n",
       "      <td>CCU → IXR → BBI → BLR</td>\n",
       "      <td>05:50</td>\n",
       "      <td>13:15</td>\n",
       "      <td>7h 25m</td>\n",
       "      <td>2 stops</td>\n",
       "      <td>No info</td>\n",
       "      <td>7662</td>\n",
       "      <td>445</td>\n",
       "      <td>5</td>\n",
       "      <td>1</td>\n",
       "      <td>5</td>\n",
       "      <td>50</td>\n",
       "      <td>13</td>\n",
       "      <td>15</td>\n",
       "    </tr>\n",
       "    <tr>\n",
       "      <th>2</th>\n",
       "      <td>Jet Airways</td>\n",
       "      <td>9/06/2019</td>\n",
       "      <td>Delhi</td>\n",
       "      <td>Cochin</td>\n",
       "      <td>DEL → LKO → BOM → COK</td>\n",
       "      <td>09:25</td>\n",
       "      <td>04:25 10 Jun</td>\n",
       "      <td>19h</td>\n",
       "      <td>2 stops</td>\n",
       "      <td>No info</td>\n",
       "      <td>13882</td>\n",
       "      <td>1140</td>\n",
       "      <td>6</td>\n",
       "      <td>9</td>\n",
       "      <td>9</td>\n",
       "      <td>25</td>\n",
       "      <td>4</td>\n",
       "      <td>25</td>\n",
       "    </tr>\n",
       "    <tr>\n",
       "      <th>3</th>\n",
       "      <td>IndiGo</td>\n",
       "      <td>12/05/2019</td>\n",
       "      <td>Kolkata</td>\n",
       "      <td>Banglore</td>\n",
       "      <td>CCU → NAG → BLR</td>\n",
       "      <td>18:05</td>\n",
       "      <td>23:30</td>\n",
       "      <td>5h 25m</td>\n",
       "      <td>1 stop</td>\n",
       "      <td>No info</td>\n",
       "      <td>6218</td>\n",
       "      <td>325</td>\n",
       "      <td>5</td>\n",
       "      <td>12</td>\n",
       "      <td>18</td>\n",
       "      <td>5</td>\n",
       "      <td>23</td>\n",
       "      <td>30</td>\n",
       "    </tr>\n",
       "    <tr>\n",
       "      <th>4</th>\n",
       "      <td>IndiGo</td>\n",
       "      <td>01/03/2019</td>\n",
       "      <td>Banglore</td>\n",
       "      <td>New Delhi</td>\n",
       "      <td>BLR → NAG → DEL</td>\n",
       "      <td>16:50</td>\n",
       "      <td>21:35</td>\n",
       "      <td>4h 45m</td>\n",
       "      <td>1 stop</td>\n",
       "      <td>No info</td>\n",
       "      <td>13302</td>\n",
       "      <td>285</td>\n",
       "      <td>3</td>\n",
       "      <td>1</td>\n",
       "      <td>16</td>\n",
       "      <td>50</td>\n",
       "      <td>21</td>\n",
       "      <td>35</td>\n",
       "    </tr>\n",
       "  </tbody>\n",
       "</table>\n",
       "</div>"
      ],
      "text/plain": [
       "       Airline Date_of_Journey    Source Destination                  Route  \\\n",
       "0       IndiGo      24/03/2019  Banglore   New Delhi              BLR → DEL   \n",
       "1    Air India       1/05/2019   Kolkata    Banglore  CCU → IXR → BBI → BLR   \n",
       "2  Jet Airways       9/06/2019     Delhi      Cochin  DEL → LKO → BOM → COK   \n",
       "3       IndiGo      12/05/2019   Kolkata    Banglore        CCU → NAG → BLR   \n",
       "4       IndiGo      01/03/2019  Banglore   New Delhi        BLR → NAG → DEL   \n",
       "\n",
       "  Dep_Time  Arrival_Time Duration Total_Stops Additional_Info  Price  \\\n",
       "0    22:20  01:10 22 Mar   2h 50m    non-stop         No info   3897   \n",
       "1    05:50         13:15   7h 25m     2 stops         No info   7662   \n",
       "2    09:25  04:25 10 Jun      19h     2 stops         No info  13882   \n",
       "3    18:05         23:30   5h 25m      1 stop         No info   6218   \n",
       "4    16:50         21:35   4h 45m      1 stop         No info  13302   \n",
       "\n",
       "   Duration_New  Day_of_Journey  Month_of_Journey  Dep_hour  Dep_min  \\\n",
       "0           170              24                 3        22       20   \n",
       "1           445               5                 1         5       50   \n",
       "2          1140               6                 9         9       25   \n",
       "3           325               5                12        18        5   \n",
       "4           285               3                 1        16       50   \n",
       "\n",
       "   Arrival_hour  Arrival_min  \n",
       "0             1           10  \n",
       "1            13           15  \n",
       "2             4           25  \n",
       "3            23           30  \n",
       "4            21           35  "
      ]
     },
     "execution_count": 52,
     "metadata": {},
     "output_type": "execute_result"
    }
   ],
   "source": [
    "df.head()"
   ]
  },
  {
   "cell_type": "code",
   "execution_count": 7,
   "id": "3d17880f",
   "metadata": {},
   "outputs": [],
   "source": [
    "#now lets deal with categorical type data\n",
    "\n",
    "from sklearn.preprocessing import LabelEncoder\n",
    "\n",
    "le=LabelEncoder()\n",
    "df['Airline_New']=le.fit_transform(df['Airline'])\n",
    "df['Source_New']=le.fit_transform(df['Source'])\n",
    "df['Destination_New']=le.fit_transform(df['Destination'])\n",
    "df['Route_New']=le.fit_transform(df['Route'])\n",
    "df['Total_Stops_New']=le.fit_transform(df['Total_Stops'])\n",
    "df['Additional_Info_New']=le.fit_transform(df['Additional_Info'])"
   ]
  },
  {
   "cell_type": "code",
   "execution_count": 11,
   "id": "2b9bd4e8",
   "metadata": {},
   "outputs": [],
   "source": [
    "import matplotlib.pyplot as plt\n",
    "import seaborn as sns\n",
    "import warnings\n",
    "warnings.filterwarnings('ignore')"
   ]
  },
  {
   "cell_type": "code",
   "execution_count": 59,
   "id": "798959ea",
   "metadata": {},
   "outputs": [
    {
     "data": {
      "image/png": "[encoded data removed]",
      "text/plain": [
       "<Figure size 2304x576 with 1 Axes>"
      ]
     },
     "metadata": {
      "needs_background": "light"
     },
     "output_type": "display_data"
    }
   ],
   "source": [
    "plt.figure(figsize=(32,8))\n",
    "sns.barplot('Airline','Price',data=df)\n",
    "plt.show()"
   ]
  },
  {
   "cell_type": "markdown",
   "id": "b726af61",
   "metadata": {},
   "source": [
    "- it can be seen that 'Jet Airways Business' has the highest price following by 'Jet Airways' and 'Multiple carriers' while 'Spicejet' has the cheapest price"
   ]
  },
  {
   "cell_type": "code",
   "execution_count": 60,
   "id": "65849a11",
   "metadata": {},
   "outputs": [
    {
     "data": {
      "image/png": "[encoded data removed]",
      "text/plain": [
       "<Figure size 432x288 with 1 Axes>"
      ]
     },
     "metadata": {
      "needs_background": "light"
     },
     "output_type": "display_data"
    }
   ],
   "source": [
    "sns.barplot('Source','Price',data=df)\n",
    "plt.show()"
   ]
  },
  {
   "cell_type": "markdown",
   "id": "08f0edaa",
   "metadata": {},
   "source": [
    "- Source as 'Delhi' has the highest prices following by 'Kolkata' 'Banglore', with 'Chennai' as the cheapest prices source city"
   ]
  },
  {
   "cell_type": "code",
   "execution_count": 61,
   "id": "354dad61",
   "metadata": {},
   "outputs": [
    {
     "data": {
      "image/png": "[encoded data removed]",
      "text/plain": [
       "<Figure size 432x288 with 1 Axes>"
      ]
     },
     "metadata": {
      "needs_background": "light"
     },
     "output_type": "display_data"
    }
   ],
   "source": [
    "sns.barplot('Destination','Price',data=df)\n",
    "plt.show()"
   ]
  },
  {
   "cell_type": "markdown",
   "id": "2e9dd24b",
   "metadata": {},
   "source": [
    "- while 'New Delhi' has the highest prices 'Kolkata' has cheapest"
   ]
  },
  {
   "cell_type": "code",
   "execution_count": 62,
   "id": "e9a56cb1",
   "metadata": {},
   "outputs": [
    {
     "data": {
      "image/png": "[encoded data removed]",
      "text/plain": [
       "<Figure size 432x288 with 1 Axes>"
      ]
     },
     "metadata": {
      "needs_background": "light"
     },
     "output_type": "display_data"
    }
   ],
   "source": [
    "sns.barplot('Total_Stops','Price',data=df)\n",
    "plt.show()"
   ]
  },
  {
   "cell_type": "markdown",
   "id": "0d22cf84",
   "metadata": {},
   "source": [
    "- 4 stops flight has the highest prices following by 3 stops, 2 stops and 1 stop, Non-stop flights are cheaper"
   ]
  },
  {
   "cell_type": "code",
   "execution_count": 67,
   "id": "736fc649",
   "metadata": {},
   "outputs": [
    {
     "data": {
      "image/png": "[encoded data removed]",
      "text/plain": [
       "<Figure size 1800x576 with 1 Axes>"
      ]
     },
     "metadata": {
      "needs_background": "light"
     },
     "output_type": "display_data"
    }
   ],
   "source": [
    "plt.figure(figsize=(25,8))\n",
    "sns.barplot('Additional_Info','Price',data=df)\n",
    "plt.show()"
   ]
  },
  {
   "cell_type": "markdown",
   "id": "8e5b1a89",
   "metadata": {},
   "source": [
    "- Business class has the highest prices following by layovers, No check-in baggage included are cheaper"
   ]
  },
  {
   "cell_type": "code",
   "execution_count": 68,
   "id": "cd72f447",
   "metadata": {},
   "outputs": [
    {
     "data": {
      "image/png": "[encoded data removed]",
      "text/plain": [
       "<Figure size 432x288 with 1 Axes>"
      ]
     },
     "metadata": {
      "needs_background": "light"
     },
     "output_type": "display_data"
    }
   ],
   "source": [
    "sns.barplot('Day_of_Journey','Price',data=df)\n",
    "plt.show()"
   ]
  },
  {
   "cell_type": "markdown",
   "id": "81af1e61",
   "metadata": {},
   "source": [
    "- Day 3 of the months has the highest price, while 18-21 have similar kind of prices Day 15 has the lowest"
   ]
  },
  {
   "cell_type": "code",
   "execution_count": 69,
   "id": "a37f6ad1",
   "metadata": {},
   "outputs": [
    {
     "data": {
      "image/png": "[encoded data removed]",
      "text/plain": [
       "<Figure size 432x288 with 1 Axes>"
      ]
     },
     "metadata": {
      "needs_background": "light"
     },
     "output_type": "display_data"
    }
   ],
   "source": [
    "sns.barplot('Month_of_Journey','Price',data=df)\n",
    "plt.show()"
   ]
  },
  {
   "cell_type": "markdown",
   "id": "0738bb14",
   "metadata": {},
   "source": [
    "- first month of the year has the highest prices with 4 month as cheapest prices,from month 5 to 12 prices are reasonably great"
   ]
  },
  {
   "cell_type": "code",
   "execution_count": 73,
   "id": "07bb59f8",
   "metadata": {},
   "outputs": [
    {
     "data": {
      "image/png": "[encoded data removed]",
      "text/plain": [
       "<Figure size 432x288 with 1 Axes>"
      ]
     },
     "metadata": {
      "needs_background": "light"
     },
     "output_type": "display_data"
    }
   ],
   "source": [
    "sns.scatterplot('Duration_New','Price',data=df)\n",
    "plt.show()"
   ]
  },
  {
   "cell_type": "markdown",
   "id": "e4974f0e",
   "metadata": {},
   "source": [
    "- it can be seen that price is higher for less duration hours only"
   ]
  },
  {
   "cell_type": "code",
   "execution_count": 79,
   "id": "d44a8bff",
   "metadata": {},
   "outputs": [
    {
     "data": {
      "image/png": "[encoded data removed]",
      "text/plain": [
       "<Figure size 1080x360 with 1 Axes>"
      ]
     },
     "metadata": {
      "needs_background": "light"
     },
     "output_type": "display_data"
    }
   ],
   "source": [
    "plt.figure(figsize=(15,5))\n",
    "sns.barplot('Dep_hour','Price',data=df)\n",
    "plt.show()"
   ]
  },
  {
   "cell_type": "markdown",
   "id": "2cee429d",
   "metadata": {},
   "source": [
    "- 1 am has the cheapest fligt prices, 3 am has the highest prices, but throught a day prices are almost aorund one another"
   ]
  },
  {
   "cell_type": "code",
   "execution_count": 81,
   "id": "a08a4676",
   "metadata": {},
   "outputs": [
    {
     "data": {
      "image/png": "[encoded data removed]",
      "text/plain": [
       "<Figure size 1080x360 with 1 Axes>"
      ]
     },
     "metadata": {
      "needs_background": "light"
     },
     "output_type": "display_data"
    }
   ],
   "source": [
    "plt.figure(figsize=(15,5))\n",
    "sns.barplot('Arrival_hour','Price',data=df)\n",
    "plt.show()"
   ]
  },
  {
   "cell_type": "markdown",
   "id": "3d4f08c0",
   "metadata": {},
   "source": [
    "- early morning arrival has the highest prices "
   ]
  },
  {
   "cell_type": "code",
   "execution_count": 85,
   "id": "6469cbe5",
   "metadata": {},
   "outputs": [
    {
     "data": {
      "image/png": "[encoded data removed]",
      "text/plain": [
       "<Figure size 432x288 with 1 Axes>"
      ]
     },
     "metadata": {
      "needs_background": "light"
     },
     "output_type": "display_data"
    }
   ],
   "source": [
    "sns.scatterplot('Route_New','Price',data=df)\n",
    "plt.show()"
   ]
  },
  {
   "cell_type": "markdown",
   "id": "7968ee27",
   "metadata": {},
   "source": [
    "- the data isn't uniform, Route label 5 has the highest prices while other Routes has almost same prices in most cases"
   ]
  },
  {
   "cell_type": "code",
   "execution_count": 8,
   "id": "da765d3d",
   "metadata": {},
   "outputs": [
    {
     "data": {
      "text/html": [
       "<div>\n",
       "<style scoped>\n",
       "    .dataframe tbody tr th:only-of-type {\n",
       "        vertical-align: middle;\n",
       "    }\n",
       "\n",
       "    .dataframe tbody tr th {\n",
       "        vertical-align: top;\n",
       "    }\n",
       "\n",
       "    .dataframe thead th {\n",
       "        text-align: right;\n",
       "    }\n",
       "</style>\n",
       "<table border=\"1\" class=\"dataframe\">\n",
       "  <thead>\n",
       "    <tr style=\"text-align: right;\">\n",
       "      <th></th>\n",
       "      <th>Price</th>\n",
       "      <th>Duration_New</th>\n",
       "      <th>Day_of_Journey</th>\n",
       "      <th>Month_of_Journey</th>\n",
       "      <th>Dep_hour</th>\n",
       "      <th>Dep_min</th>\n",
       "      <th>Arrival_hour</th>\n",
       "      <th>Arrival_min</th>\n",
       "      <th>Airline_New</th>\n",
       "      <th>Source_New</th>\n",
       "      <th>Destination_New</th>\n",
       "      <th>Route_New</th>\n",
       "      <th>Total_Stops_New</th>\n",
       "      <th>Additional_Info_New</th>\n",
       "    </tr>\n",
       "  </thead>\n",
       "  <tbody>\n",
       "    <tr>\n",
       "      <th>Price</th>\n",
       "      <td>1.000000</td>\n",
       "      <td>0.506371</td>\n",
       "      <td>-0.165412</td>\n",
       "      <td>0.010700</td>\n",
       "      <td>0.006819</td>\n",
       "      <td>-0.024492</td>\n",
       "      <td>0.024264</td>\n",
       "      <td>-0.086155</td>\n",
       "      <td>-0.039520</td>\n",
       "      <td>0.015998</td>\n",
       "      <td>-0.071112</td>\n",
       "      <td>0.164085</td>\n",
       "      <td>-0.571179</td>\n",
       "      <td>-0.063769</td>\n",
       "    </tr>\n",
       "    <tr>\n",
       "      <th>Duration_New</th>\n",
       "      <td>0.506371</td>\n",
       "      <td>1.000000</td>\n",
       "      <td>-0.038480</td>\n",
       "      <td>0.055152</td>\n",
       "      <td>0.002001</td>\n",
       "      <td>-0.018938</td>\n",
       "      <td>0.051434</td>\n",
       "      <td>-0.069653</td>\n",
       "      <td>-0.159803</td>\n",
       "      <td>0.161874</td>\n",
       "      <td>-0.257365</td>\n",
       "      <td>0.288920</td>\n",
       "      <td>-0.601827</td>\n",
       "      <td>-0.152976</td>\n",
       "    </tr>\n",
       "    <tr>\n",
       "      <th>Day_of_Journey</th>\n",
       "      <td>-0.165412</td>\n",
       "      <td>-0.038480</td>\n",
       "      <td>1.000000</td>\n",
       "      <td>-0.264899</td>\n",
       "      <td>-0.002251</td>\n",
       "      <td>-0.016521</td>\n",
       "      <td>-0.002124</td>\n",
       "      <td>-0.021424</td>\n",
       "      <td>0.031218</td>\n",
       "      <td>0.007560</td>\n",
       "      <td>-0.052076</td>\n",
       "      <td>0.096470</td>\n",
       "      <td>0.043674</td>\n",
       "      <td>-0.017937</td>\n",
       "    </tr>\n",
       "    <tr>\n",
       "      <th>Month_of_Journey</th>\n",
       "      <td>0.010700</td>\n",
       "      <td>0.055152</td>\n",
       "      <td>-0.264899</td>\n",
       "      <td>1.000000</td>\n",
       "      <td>0.028180</td>\n",
       "      <td>0.002152</td>\n",
       "      <td>-0.004338</td>\n",
       "      <td>-0.025786</td>\n",
       "      <td>-0.007918</td>\n",
       "      <td>0.063052</td>\n",
       "      <td>-0.105039</td>\n",
       "      <td>0.042211</td>\n",
       "      <td>-0.056475</td>\n",
       "      <td>-0.001300</td>\n",
       "    </tr>\n",
       "    <tr>\n",
       "      <th>Dep_hour</th>\n",
       "      <td>0.006819</td>\n",
       "      <td>0.002001</td>\n",
       "      <td>-0.002251</td>\n",
       "      <td>0.028180</td>\n",
       "      <td>1.000000</td>\n",
       "      <td>-0.024806</td>\n",
       "      <td>0.005215</td>\n",
       "      <td>0.067909</td>\n",
       "      <td>-0.035194</td>\n",
       "      <td>0.059044</td>\n",
       "      <td>-0.072979</td>\n",
       "      <td>-0.075076</td>\n",
       "      <td>0.039105</td>\n",
       "      <td>-0.048103</td>\n",
       "    </tr>\n",
       "    <tr>\n",
       "      <th>Dep_min</th>\n",
       "      <td>-0.024492</td>\n",
       "      <td>-0.018938</td>\n",
       "      <td>-0.016521</td>\n",
       "      <td>0.002152</td>\n",
       "      <td>-0.024806</td>\n",
       "      <td>1.000000</td>\n",
       "      <td>0.043054</td>\n",
       "      <td>-0.017594</td>\n",
       "      <td>-0.060044</td>\n",
       "      <td>-0.056991</td>\n",
       "      <td>0.127892</td>\n",
       "      <td>-0.067912</td>\n",
       "      <td>0.049090</td>\n",
       "      <td>-0.026029</td>\n",
       "    </tr>\n",
       "    <tr>\n",
       "      <th>Arrival_hour</th>\n",
       "      <td>0.024264</td>\n",
       "      <td>0.051434</td>\n",
       "      <td>-0.002124</td>\n",
       "      <td>-0.004338</td>\n",
       "      <td>0.005215</td>\n",
       "      <td>0.043054</td>\n",
       "      <td>1.000000</td>\n",
       "      <td>-0.154362</td>\n",
       "      <td>-0.007491</td>\n",
       "      <td>0.025632</td>\n",
       "      <td>-0.039710</td>\n",
       "      <td>0.013811</td>\n",
       "      <td>-0.095748</td>\n",
       "      <td>0.031137</td>\n",
       "    </tr>\n",
       "    <tr>\n",
       "      <th>Arrival_min</th>\n",
       "      <td>-0.086155</td>\n",
       "      <td>-0.069653</td>\n",
       "      <td>-0.021424</td>\n",
       "      <td>-0.025786</td>\n",
       "      <td>0.067909</td>\n",
       "      <td>-0.017594</td>\n",
       "      <td>-0.154362</td>\n",
       "      <td>1.000000</td>\n",
       "      <td>-0.071089</td>\n",
       "      <td>0.021040</td>\n",
       "      <td>0.017196</td>\n",
       "      <td>-0.173332</td>\n",
       "      <td>0.175952</td>\n",
       "      <td>0.039346</td>\n",
       "    </tr>\n",
       "    <tr>\n",
       "      <th>Airline_New</th>\n",
       "      <td>-0.039520</td>\n",
       "      <td>-0.159803</td>\n",
       "      <td>0.031218</td>\n",
       "      <td>-0.007918</td>\n",
       "      <td>-0.035194</td>\n",
       "      <td>-0.060044</td>\n",
       "      <td>-0.007491</td>\n",
       "      <td>-0.071089</td>\n",
       "      <td>1.000000</td>\n",
       "      <td>-0.013401</td>\n",
       "      <td>0.018479</td>\n",
       "      <td>0.025039</td>\n",
       "      <td>0.035732</td>\n",
       "      <td>-0.077793</td>\n",
       "    </tr>\n",
       "    <tr>\n",
       "      <th>Source_New</th>\n",
       "      <td>0.015998</td>\n",
       "      <td>0.161874</td>\n",
       "      <td>0.007560</td>\n",
       "      <td>0.063052</td>\n",
       "      <td>0.059044</td>\n",
       "      <td>-0.056991</td>\n",
       "      <td>0.025632</td>\n",
       "      <td>0.021040</td>\n",
       "      <td>-0.013401</td>\n",
       "      <td>1.000000</td>\n",
       "      <td>-0.592574</td>\n",
       "      <td>0.403378</td>\n",
       "      <td>-0.225557</td>\n",
       "      <td>-0.015856</td>\n",
       "    </tr>\n",
       "    <tr>\n",
       "      <th>Destination_New</th>\n",
       "      <td>-0.071112</td>\n",
       "      <td>-0.257365</td>\n",
       "      <td>-0.052076</td>\n",
       "      <td>-0.105039</td>\n",
       "      <td>-0.072979</td>\n",
       "      <td>0.127892</td>\n",
       "      <td>-0.039710</td>\n",
       "      <td>0.017196</td>\n",
       "      <td>0.018479</td>\n",
       "      <td>-0.592574</td>\n",
       "      <td>1.000000</td>\n",
       "      <td>-0.461169</td>\n",
       "      <td>0.337756</td>\n",
       "      <td>0.013089</td>\n",
       "    </tr>\n",
       "    <tr>\n",
       "      <th>Route_New</th>\n",
       "      <td>0.164085</td>\n",
       "      <td>0.288920</td>\n",
       "      <td>0.096470</td>\n",
       "      <td>0.042211</td>\n",
       "      <td>-0.075076</td>\n",
       "      <td>-0.067912</td>\n",
       "      <td>0.013811</td>\n",
       "      <td>-0.173332</td>\n",
       "      <td>0.025039</td>\n",
       "      <td>0.403378</td>\n",
       "      <td>-0.461169</td>\n",
       "      <td>1.000000</td>\n",
       "      <td>-0.437362</td>\n",
       "      <td>0.043790</td>\n",
       "    </tr>\n",
       "    <tr>\n",
       "      <th>Total_Stops_New</th>\n",
       "      <td>-0.571179</td>\n",
       "      <td>-0.601827</td>\n",
       "      <td>0.043674</td>\n",
       "      <td>-0.056475</td>\n",
       "      <td>0.039105</td>\n",
       "      <td>0.049090</td>\n",
       "      <td>-0.095748</td>\n",
       "      <td>0.175952</td>\n",
       "      <td>0.035732</td>\n",
       "      <td>-0.225557</td>\n",
       "      <td>0.337756</td>\n",
       "      <td>-0.437362</td>\n",
       "      <td>1.000000</td>\n",
       "      <td>0.145991</td>\n",
       "    </tr>\n",
       "    <tr>\n",
       "      <th>Additional_Info_New</th>\n",
       "      <td>-0.063769</td>\n",
       "      <td>-0.152976</td>\n",
       "      <td>-0.017937</td>\n",
       "      <td>-0.001300</td>\n",
       "      <td>-0.048103</td>\n",
       "      <td>-0.026029</td>\n",
       "      <td>0.031137</td>\n",
       "      <td>0.039346</td>\n",
       "      <td>-0.077793</td>\n",
       "      <td>-0.015856</td>\n",
       "      <td>0.013089</td>\n",
       "      <td>0.043790</td>\n",
       "      <td>0.145991</td>\n",
       "      <td>1.000000</td>\n",
       "    </tr>\n",
       "  </tbody>\n",
       "</table>\n",
       "</div>"
      ],
      "text/plain": [
       "                        Price  Duration_New  Day_of_Journey  Month_of_Journey  \\\n",
       "Price                1.000000      0.506371       -0.165412          0.010700   \n",
       "Duration_New         0.506371      1.000000       -0.038480          0.055152   \n",
       "Day_of_Journey      -0.165412     -0.038480        1.000000         -0.264899   \n",
       "Month_of_Journey     0.010700      0.055152       -0.264899          1.000000   \n",
       "Dep_hour             0.006819      0.002001       -0.002251          0.028180   \n",
       "Dep_min             -0.024492     -0.018938       -0.016521          0.002152   \n",
       "Arrival_hour         0.024264      0.051434       -0.002124         -0.004338   \n",
       "Arrival_min         -0.086155     -0.069653       -0.021424         -0.025786   \n",
       "Airline_New         -0.039520     -0.159803        0.031218         -0.007918   \n",
       "Source_New           0.015998      0.161874        0.007560          0.063052   \n",
       "Destination_New     -0.071112     -0.257365       -0.052076         -0.105039   \n",
       "Route_New            0.164085      0.288920        0.096470          0.042211   \n",
       "Total_Stops_New     -0.571179     -0.601827        0.043674         -0.056475   \n",
       "Additional_Info_New -0.063769     -0.152976       -0.017937         -0.001300   \n",
       "\n",
       "                     Dep_hour   Dep_min  Arrival_hour  Arrival_min  \\\n",
       "Price                0.006819 -0.024492      0.024264    -0.086155   \n",
       "Duration_New         0.002001 -0.018938      0.051434    -0.069653   \n",
       "Day_of_Journey      -0.002251 -0.016521     -0.002124    -0.021424   \n",
       "Month_of_Journey     0.028180  0.002152     -0.004338    -0.025786   \n",
       "Dep_hour             1.000000 -0.024806      0.005215     0.067909   \n",
       "Dep_min             -0.024806  1.000000      0.043054    -0.017594   \n",
       "Arrival_hour         0.005215  0.043054      1.000000    -0.154362   \n",
       "Arrival_min          0.067909 -0.017594     -0.154362     1.000000   \n",
       "Airline_New         -0.035194 -0.060044     -0.007491    -0.071089   \n",
       "Source_New           0.059044 -0.056991      0.025632     0.021040   \n",
       "Destination_New     -0.072979  0.127892     -0.039710     0.017196   \n",
       "Route_New           -0.075076 -0.067912      0.013811    -0.173332   \n",
       "Total_Stops_New      0.039105  0.049090     -0.095748     0.175952   \n",
       "Additional_Info_New -0.048103 -0.026029      0.031137     0.039346   \n",
       "\n",
       "                     Airline_New  Source_New  Destination_New  Route_New  \\\n",
       "Price                  -0.039520    0.015998        -0.071112   0.164085   \n",
       "Duration_New           -0.159803    0.161874        -0.257365   0.288920   \n",
       "Day_of_Journey          0.031218    0.007560        -0.052076   0.096470   \n",
       "Month_of_Journey       -0.007918    0.063052        -0.105039   0.042211   \n",
       "Dep_hour               -0.035194    0.059044        -0.072979  -0.075076   \n",
       "Dep_min                -0.060044   -0.056991         0.127892  -0.067912   \n",
       "Arrival_hour           -0.007491    0.025632        -0.039710   0.013811   \n",
       "Arrival_min            -0.071089    0.021040         0.017196  -0.173332   \n",
       "Airline_New             1.000000   -0.013401         0.018479   0.025039   \n",
       "Source_New             -0.013401    1.000000        -0.592574   0.403378   \n",
       "Destination_New         0.018479   -0.592574         1.000000  -0.461169   \n",
       "Route_New               0.025039    0.403378        -0.461169   1.000000   \n",
       "Total_Stops_New         0.035732   -0.225557         0.337756  -0.437362   \n",
       "Additional_Info_New    -0.077793   -0.015856         0.013089   0.043790   \n",
       "\n",
       "                     Total_Stops_New  Additional_Info_New  \n",
       "Price                      -0.571179            -0.063769  \n",
       "Duration_New               -0.601827            -0.152976  \n",
       "Day_of_Journey              0.043674            -0.017937  \n",
       "Month_of_Journey           -0.056475            -0.001300  \n",
       "Dep_hour                    0.039105            -0.048103  \n",
       "Dep_min                     0.049090            -0.026029  \n",
       "Arrival_hour               -0.095748             0.031137  \n",
       "Arrival_min                 0.175952             0.039346  \n",
       "Airline_New                 0.035732            -0.077793  \n",
       "Source_New                 -0.225557            -0.015856  \n",
       "Destination_New             0.337756             0.013089  \n",
       "Route_New                  -0.437362             0.043790  \n",
       "Total_Stops_New             1.000000             0.145991  \n",
       "Additional_Info_New         0.145991             1.000000  "
      ]
     },
     "execution_count": 8,
     "metadata": {},
     "output_type": "execute_result"
    }
   ],
   "source": [
    "#checking for correlation\n",
    "\n",
    "df.corr()"
   ]
  },
  {
   "cell_type": "code",
   "execution_count": 9,
   "id": "99c1edc5",
   "metadata": {},
   "outputs": [
    {
     "data": {
      "text/plain": [
       "Price                  1.000000\n",
       "Duration_New           0.506371\n",
       "Route_New              0.164085\n",
       "Arrival_hour           0.024264\n",
       "Source_New             0.015998\n",
       "Month_of_Journey       0.010700\n",
       "Dep_hour               0.006819\n",
       "Dep_min               -0.024492\n",
       "Airline_New           -0.039520\n",
       "Additional_Info_New   -0.063769\n",
       "Destination_New       -0.071112\n",
       "Arrival_min           -0.086155\n",
       "Day_of_Journey        -0.165412\n",
       "Total_Stops_New       -0.571179\n",
       "Name: Price, dtype: float64"
      ]
     },
     "execution_count": 9,
     "metadata": {},
     "output_type": "execute_result"
    }
   ],
   "source": [
    "df.corr()['Price'].sort_values(ascending=False)"
   ]
  },
  {
   "cell_type": "markdown",
   "id": "1f91c6f5",
   "metadata": {},
   "source": [
    "conclusion:\n",
    "    \n",
    "- Duration has a strong correlation bond with the target variable\n",
    "- Route has good correlation bond with the target variable\n",
    "- Arrival_hour,Source,Month_of_Journey,Dep_Hour have weak correlation bond with the target variable\n",
    "- Dep_Min,Airline,Additional_Info,Destination,Arrival-Min have very weak negative correlation with the target variable\n",
    "- Day_of_Journey has a good negative correlation bond with the target variable, but Total_Stops has a strong negative correlation bond with target variable"
   ]
  },
  {
   "cell_type": "code",
   "execution_count": 13,
   "id": "78b498ec",
   "metadata": {},
   "outputs": [
    {
     "data": {
      "text/plain": [
       "<Figure size 432x288 with 0 Axes>"
      ]
     },
     "execution_count": 13,
     "metadata": {},
     "output_type": "execute_result"
    },
    {
     "data": {
      "image/png": "[encoded data removed]",
      "text/plain": [
       "<Figure size 1080x576 with 2 Axes>"
      ]
     },
     "metadata": {
      "needs_background": "light"
     },
     "output_type": "display_data"
    },
    {
     "data": {
      "text/plain": [
       "<Figure size 432x288 with 0 Axes>"
      ]
     },
     "metadata": {},
     "output_type": "display_data"
    }
   ],
   "source": [
    "plt.figure(figsize=(15,8))\n",
    "sns.heatmap(df.corr(),annot=True,cmap='YlGnBu',fmt='.2%')\n",
    "plt.figure()"
   ]
  },
  {
   "cell_type": "code",
   "execution_count": 14,
   "id": "30a9531f",
   "metadata": {},
   "outputs": [
    {
     "data": {
      "text/html": [
       "<div>\n",
       "<style scoped>\n",
       "    .dataframe tbody tr th:only-of-type {\n",
       "        vertical-align: middle;\n",
       "    }\n",
       "\n",
       "    .dataframe tbody tr th {\n",
       "        vertical-align: top;\n",
       "    }\n",
       "\n",
       "    .dataframe thead th {\n",
       "        text-align: right;\n",
       "    }\n",
       "</style>\n",
       "<table border=\"1\" class=\"dataframe\">\n",
       "  <thead>\n",
       "    <tr style=\"text-align: right;\">\n",
       "      <th></th>\n",
       "      <th>Price</th>\n",
       "      <th>Duration_New</th>\n",
       "      <th>Day_of_Journey</th>\n",
       "      <th>Month_of_Journey</th>\n",
       "      <th>Dep_hour</th>\n",
       "      <th>Dep_min</th>\n",
       "      <th>Arrival_hour</th>\n",
       "      <th>Arrival_min</th>\n",
       "      <th>Airline_New</th>\n",
       "      <th>Source_New</th>\n",
       "      <th>Destination_New</th>\n",
       "      <th>Route_New</th>\n",
       "      <th>Total_Stops_New</th>\n",
       "      <th>Additional_Info_New</th>\n",
       "    </tr>\n",
       "  </thead>\n",
       "  <tbody>\n",
       "    <tr>\n",
       "      <th>count</th>\n",
       "      <td>10683.000000</td>\n",
       "      <td>10683.000000</td>\n",
       "      <td>10683.000000</td>\n",
       "      <td>10683.000000</td>\n",
       "      <td>10683.000000</td>\n",
       "      <td>10683.000000</td>\n",
       "      <td>10683.000000</td>\n",
       "      <td>10683.000000</td>\n",
       "      <td>10683.000000</td>\n",
       "      <td>10683.000000</td>\n",
       "      <td>10683.000000</td>\n",
       "      <td>10683.000000</td>\n",
       "      <td>10683.000000</td>\n",
       "      <td>10683.000000</td>\n",
       "    </tr>\n",
       "    <tr>\n",
       "      <th>mean</th>\n",
       "      <td>9087.064121</td>\n",
       "      <td>643.093232</td>\n",
       "      <td>12.682205</td>\n",
       "      <td>5.534775</td>\n",
       "      <td>12.490686</td>\n",
       "      <td>24.411214</td>\n",
       "      <td>13.348778</td>\n",
       "      <td>24.690630</td>\n",
       "      <td>3.965927</td>\n",
       "      <td>1.952261</td>\n",
       "      <td>1.436113</td>\n",
       "      <td>74.825143</td>\n",
       "      <td>1.458579</td>\n",
       "      <td>6.582140</td>\n",
       "    </tr>\n",
       "    <tr>\n",
       "      <th>std</th>\n",
       "      <td>4611.359167</td>\n",
       "      <td>507.862001</td>\n",
       "      <td>8.803701</td>\n",
       "      <td>2.987489</td>\n",
       "      <td>5.748650</td>\n",
       "      <td>18.767980</td>\n",
       "      <td>6.859125</td>\n",
       "      <td>16.506036</td>\n",
       "      <td>2.352155</td>\n",
       "      <td>1.177221</td>\n",
       "      <td>1.474782</td>\n",
       "      <td>36.730924</td>\n",
       "      <td>1.806560</td>\n",
       "      <td>0.838073</td>\n",
       "    </tr>\n",
       "    <tr>\n",
       "      <th>min</th>\n",
       "      <td>1759.000000</td>\n",
       "      <td>5.000000</td>\n",
       "      <td>3.000000</td>\n",
       "      <td>1.000000</td>\n",
       "      <td>0.000000</td>\n",
       "      <td>0.000000</td>\n",
       "      <td>0.000000</td>\n",
       "      <td>0.000000</td>\n",
       "      <td>0.000000</td>\n",
       "      <td>0.000000</td>\n",
       "      <td>0.000000</td>\n",
       "      <td>0.000000</td>\n",
       "      <td>0.000000</td>\n",
       "      <td>0.000000</td>\n",
       "    </tr>\n",
       "    <tr>\n",
       "      <th>25%</th>\n",
       "      <td>5277.000000</td>\n",
       "      <td>170.000000</td>\n",
       "      <td>5.000000</td>\n",
       "      <td>3.000000</td>\n",
       "      <td>8.000000</td>\n",
       "      <td>5.000000</td>\n",
       "      <td>8.000000</td>\n",
       "      <td>10.000000</td>\n",
       "      <td>3.000000</td>\n",
       "      <td>2.000000</td>\n",
       "      <td>0.000000</td>\n",
       "      <td>48.000000</td>\n",
       "      <td>0.000000</td>\n",
       "      <td>7.000000</td>\n",
       "    </tr>\n",
       "    <tr>\n",
       "      <th>50%</th>\n",
       "      <td>8372.000000</td>\n",
       "      <td>520.000000</td>\n",
       "      <td>6.000000</td>\n",
       "      <td>5.000000</td>\n",
       "      <td>11.000000</td>\n",
       "      <td>25.000000</td>\n",
       "      <td>14.000000</td>\n",
       "      <td>25.000000</td>\n",
       "      <td>4.000000</td>\n",
       "      <td>2.000000</td>\n",
       "      <td>1.000000</td>\n",
       "      <td>73.000000</td>\n",
       "      <td>0.000000</td>\n",
       "      <td>7.000000</td>\n",
       "    </tr>\n",
       "    <tr>\n",
       "      <th>75%</th>\n",
       "      <td>12373.000000</td>\n",
       "      <td>930.000000</td>\n",
       "      <td>21.000000</td>\n",
       "      <td>6.000000</td>\n",
       "      <td>18.000000</td>\n",
       "      <td>40.000000</td>\n",
       "      <td>19.000000</td>\n",
       "      <td>35.000000</td>\n",
       "      <td>4.000000</td>\n",
       "      <td>3.000000</td>\n",
       "      <td>2.000000</td>\n",
       "      <td>104.000000</td>\n",
       "      <td>4.000000</td>\n",
       "      <td>7.000000</td>\n",
       "    </tr>\n",
       "    <tr>\n",
       "      <th>max</th>\n",
       "      <td>79512.000000</td>\n",
       "      <td>2860.000000</td>\n",
       "      <td>27.000000</td>\n",
       "      <td>12.000000</td>\n",
       "      <td>23.000000</td>\n",
       "      <td>55.000000</td>\n",
       "      <td>23.000000</td>\n",
       "      <td>55.000000</td>\n",
       "      <td>11.000000</td>\n",
       "      <td>4.000000</td>\n",
       "      <td>5.000000</td>\n",
       "      <td>128.000000</td>\n",
       "      <td>5.000000</td>\n",
       "      <td>8.000000</td>\n",
       "    </tr>\n",
       "  </tbody>\n",
       "</table>\n",
       "</div>"
      ],
      "text/plain": [
       "              Price  Duration_New  Day_of_Journey  Month_of_Journey  \\\n",
       "count  10683.000000  10683.000000    10683.000000      10683.000000   \n",
       "mean    9087.064121    643.093232       12.682205          5.534775   \n",
       "std     4611.359167    507.862001        8.803701          2.987489   \n",
       "min     1759.000000      5.000000        3.000000          1.000000   \n",
       "25%     5277.000000    170.000000        5.000000          3.000000   \n",
       "50%     8372.000000    520.000000        6.000000          5.000000   \n",
       "75%    12373.000000    930.000000       21.000000          6.000000   \n",
       "max    79512.000000   2860.000000       27.000000         12.000000   \n",
       "\n",
       "           Dep_hour       Dep_min  Arrival_hour   Arrival_min   Airline_New  \\\n",
       "count  10683.000000  10683.000000  10683.000000  10683.000000  10683.000000   \n",
       "mean      12.490686     24.411214     13.348778     24.690630      3.965927   \n",
       "std        5.748650     18.767980      6.859125     16.506036      2.352155   \n",
       "min        0.000000      0.000000      0.000000      0.000000      0.000000   \n",
       "25%        8.000000      5.000000      8.000000     10.000000      3.000000   \n",
       "50%       11.000000     25.000000     14.000000     25.000000      4.000000   \n",
       "75%       18.000000     40.000000     19.000000     35.000000      4.000000   \n",
       "max       23.000000     55.000000     23.000000     55.000000     11.000000   \n",
       "\n",
       "         Source_New  Destination_New     Route_New  Total_Stops_New  \\\n",
       "count  10683.000000     10683.000000  10683.000000     10683.000000   \n",
       "mean       1.952261         1.436113     74.825143         1.458579   \n",
       "std        1.177221         1.474782     36.730924         1.806560   \n",
       "min        0.000000         0.000000      0.000000         0.000000   \n",
       "25%        2.000000         0.000000     48.000000         0.000000   \n",
       "50%        2.000000         1.000000     73.000000         0.000000   \n",
       "75%        3.000000         2.000000    104.000000         4.000000   \n",
       "max        4.000000         5.000000    128.000000         5.000000   \n",
       "\n",
       "       Additional_Info_New  \n",
       "count         10683.000000  \n",
       "mean              6.582140  \n",
       "std               0.838073  \n",
       "min               0.000000  \n",
       "25%               7.000000  \n",
       "50%               7.000000  \n",
       "75%               7.000000  \n",
       "max               8.000000  "
      ]
     },
     "execution_count": 14,
     "metadata": {},
     "output_type": "execute_result"
    }
   ],
   "source": [
    "# now let's, describe our dataset:\n",
    "\n",
    "df.describe()"
   ]
  },
  {
   "cell_type": "markdown",
   "id": "2a24cb56",
   "metadata": {},
   "source": [
    "observations:\n",
    "- std is high for Price and Duration which means these two features have long range of data\n",
    "- features like Duration,Day_of_Journey etc have mean value as greater than their median, so kewness might be present\n",
    "- outliers might be also present as huge difference is present between 75th percentile and maximum value for almost all feature variables"
   ]
  },
  {
   "cell_type": "code",
   "execution_count": 18,
   "id": "7198f589",
   "metadata": {},
   "outputs": [
    {
     "name": "stdout",
     "output_type": "stream",
     "text": [
      "<class 'pandas.core.frame.DataFrame'>\n",
      "RangeIndex: 10683 entries, 0 to 10682\n",
      "Data columns (total 24 columns):\n",
      " #   Column               Non-Null Count  Dtype \n",
      "---  ------               --------------  ----- \n",
      " 0   Airline              10683 non-null  object\n",
      " 1   Date_of_Journey      10683 non-null  object\n",
      " 2   Source               10683 non-null  object\n",
      " 3   Destination          10683 non-null  object\n",
      " 4   Route                10682 non-null  object\n",
      " 5   Dep_Time             10683 non-null  object\n",
      " 6   Arrival_Time         10683 non-null  object\n",
      " 7   Duration             10683 non-null  object\n",
      " 8   Total_Stops          10682 non-null  object\n",
      " 9   Additional_Info      10683 non-null  object\n",
      " 10  Price                10683 non-null  int64 \n",
      " 11  Duration_New         10683 non-null  int64 \n",
      " 12  Day_of_Journey       10683 non-null  int64 \n",
      " 13  Month_of_Journey     10683 non-null  int64 \n",
      " 14  Dep_hour             10683 non-null  int64 \n",
      " 15  Dep_min              10683 non-null  int64 \n",
      " 16  Arrival_hour         10683 non-null  int64 \n",
      " 17  Arrival_min          10683 non-null  int64 \n",
      " 18  Airline_New          10683 non-null  int32 \n",
      " 19  Source_New           10683 non-null  int32 \n",
      " 20  Destination_New      10683 non-null  int32 \n",
      " 21  Route_New            10683 non-null  int32 \n",
      " 22  Total_Stops_New      10683 non-null  int32 \n",
      " 23  Additional_Info_New  10683 non-null  int32 \n",
      "dtypes: int32(6), int64(8), object(10)\n",
      "memory usage: 1.7+ MB\n"
     ]
    }
   ],
   "source": [
    "df.info()"
   ]
  },
  {
   "cell_type": "code",
   "execution_count": 26,
   "id": "df32d4c2",
   "metadata": {},
   "outputs": [
    {
     "data": {
      "text/plain": [
       "<AxesSubplot:xlabel='Price'>"
      ]
     },
     "execution_count": 26,
     "metadata": {},
     "output_type": "execute_result"
    },
    {
     "data": {
      "image/png": "[encoded data removed]",
      "text/plain": [
       "<Figure size 432x288 with 1 Axes>"
      ]
     },
     "metadata": {
      "needs_background": "light"
     },
     "output_type": "display_data"
    }
   ],
   "source": [
    "#let's check for outliers\n",
    "\n",
    "sns.boxplot(df['Price'])"
   ]
  },
  {
   "cell_type": "markdown",
   "id": "a694f30e",
   "metadata": {},
   "source": [
    "- outliers are present"
   ]
  },
  {
   "cell_type": "code",
   "execution_count": 27,
   "id": "19c7bc3a",
   "metadata": {},
   "outputs": [
    {
     "data": {
      "text/plain": [
       "<AxesSubplot:xlabel='Duration_New'>"
      ]
     },
     "execution_count": 27,
     "metadata": {},
     "output_type": "execute_result"
    },
    {
     "data": {
      "image/png": "[encoded data removed]",
      "text/plain": [
       "<Figure size 432x288 with 1 Axes>"
      ]
     },
     "metadata": {
      "needs_background": "light"
     },
     "output_type": "display_data"
    }
   ],
   "source": [
    "sns.boxplot(df['Duration_New'])"
   ]
  },
  {
   "cell_type": "code",
   "execution_count": 28,
   "id": "9f08542d",
   "metadata": {},
   "outputs": [
    {
     "data": {
      "text/plain": [
       "<AxesSubplot:xlabel='Day_of_Journey'>"
      ]
     },
     "execution_count": 28,
     "metadata": {},
     "output_type": "execute_result"
    },
    {
     "data": {
      "image/png": "[encoded data removed]",
      "text/plain": [
       "<Figure size 432x288 with 1 Axes>"
      ]
     },
     "metadata": {
      "needs_background": "light"
     },
     "output_type": "display_data"
    }
   ],
   "source": [
    "sns.boxplot(df['Day_of_Journey'])"
   ]
  },
  {
   "cell_type": "code",
   "execution_count": 29,
   "id": "b2eac291",
   "metadata": {},
   "outputs": [
    {
     "data": {
      "text/plain": [
       "<AxesSubplot:xlabel='Dep_min'>"
      ]
     },
     "execution_count": 29,
     "metadata": {},
     "output_type": "execute_result"
    },
    {
     "data": {
      "image/png": "[encoded data removed]",
      "text/plain": [
       "<Figure size 432x288 with 1 Axes>"
      ]
     },
     "metadata": {
      "needs_background": "light"
     },
     "output_type": "display_data"
    }
   ],
   "source": [
    "sns.boxplot(df['Dep_min'])"
   ]
  },
  {
   "cell_type": "code",
   "execution_count": 30,
   "id": "d3b906d6",
   "metadata": {},
   "outputs": [
    {
     "data": {
      "text/plain": [
       "<AxesSubplot:xlabel='Route_New'>"
      ]
     },
     "execution_count": 30,
     "metadata": {},
     "output_type": "execute_result"
    },
    {
     "data": {
      "image/png": "[encoded data removed]",
      "text/plain": [
       "<Figure size 432x288 with 1 Axes>"
      ]
     },
     "metadata": {
      "needs_background": "light"
     },
     "output_type": "display_data"
    }
   ],
   "source": [
    "sns.boxplot(df['Route_New'])"
   ]
  },
  {
   "cell_type": "markdown",
   "id": "b7076f29",
   "metadata": {},
   "source": [
    "- okay so the data has outliers "
   ]
  },
  {
   "cell_type": "markdown",
   "id": "b5e44805",
   "metadata": {},
   "source": [
    "Data Cleaning:\n",
    "- here we will deal with outliers,skewness and feature selection"
   ]
  },
  {
   "cell_type": "code",
   "execution_count": 32,
   "id": "4b121cbb",
   "metadata": {},
   "outputs": [],
   "source": [
    "#removing categorical columns\n",
    "\n",
    "for i in df.columns:\n",
    "    if df[i].dtypes=='object':\n",
    "        df.drop(i,axis=1,inplace=True)\n",
    "    else:\n",
    "        pass"
   ]
  },
  {
   "cell_type": "code",
   "execution_count": 33,
   "id": "0f72efc0",
   "metadata": {},
   "outputs": [
    {
     "data": {
      "text/html": [
       "<div>\n",
       "<style scoped>\n",
       "    .dataframe tbody tr th:only-of-type {\n",
       "        vertical-align: middle;\n",
       "    }\n",
       "\n",
       "    .dataframe tbody tr th {\n",
       "        vertical-align: top;\n",
       "    }\n",
       "\n",
       "    .dataframe thead th {\n",
       "        text-align: right;\n",
       "    }\n",
       "</style>\n",
       "<table border=\"1\" class=\"dataframe\">\n",
       "  <thead>\n",
       "    <tr style=\"text-align: right;\">\n",
       "      <th></th>\n",
       "      <th>Price</th>\n",
       "      <th>Duration_New</th>\n",
       "      <th>Day_of_Journey</th>\n",
       "      <th>Month_of_Journey</th>\n",
       "      <th>Dep_hour</th>\n",
       "      <th>Dep_min</th>\n",
       "      <th>Arrival_hour</th>\n",
       "      <th>Arrival_min</th>\n",
       "      <th>Airline_New</th>\n",
       "      <th>Source_New</th>\n",
       "      <th>Destination_New</th>\n",
       "      <th>Route_New</th>\n",
       "      <th>Total_Stops_New</th>\n",
       "      <th>Additional_Info_New</th>\n",
       "    </tr>\n",
       "  </thead>\n",
       "  <tbody>\n",
       "    <tr>\n",
       "      <th>0</th>\n",
       "      <td>3897</td>\n",
       "      <td>170</td>\n",
       "      <td>24</td>\n",
       "      <td>3</td>\n",
       "      <td>22</td>\n",
       "      <td>20</td>\n",
       "      <td>1</td>\n",
       "      <td>10</td>\n",
       "      <td>3</td>\n",
       "      <td>0</td>\n",
       "      <td>5</td>\n",
       "      <td>18</td>\n",
       "      <td>4</td>\n",
       "      <td>7</td>\n",
       "    </tr>\n",
       "    <tr>\n",
       "      <th>1</th>\n",
       "      <td>7662</td>\n",
       "      <td>445</td>\n",
       "      <td>5</td>\n",
       "      <td>1</td>\n",
       "      <td>5</td>\n",
       "      <td>50</td>\n",
       "      <td>13</td>\n",
       "      <td>15</td>\n",
       "      <td>1</td>\n",
       "      <td>3</td>\n",
       "      <td>0</td>\n",
       "      <td>84</td>\n",
       "      <td>1</td>\n",
       "      <td>7</td>\n",
       "    </tr>\n",
       "    <tr>\n",
       "      <th>2</th>\n",
       "      <td>13882</td>\n",
       "      <td>1140</td>\n",
       "      <td>6</td>\n",
       "      <td>9</td>\n",
       "      <td>9</td>\n",
       "      <td>25</td>\n",
       "      <td>4</td>\n",
       "      <td>25</td>\n",
       "      <td>4</td>\n",
       "      <td>2</td>\n",
       "      <td>1</td>\n",
       "      <td>118</td>\n",
       "      <td>1</td>\n",
       "      <td>7</td>\n",
       "    </tr>\n",
       "    <tr>\n",
       "      <th>3</th>\n",
       "      <td>6218</td>\n",
       "      <td>325</td>\n",
       "      <td>5</td>\n",
       "      <td>12</td>\n",
       "      <td>18</td>\n",
       "      <td>5</td>\n",
       "      <td>23</td>\n",
       "      <td>30</td>\n",
       "      <td>3</td>\n",
       "      <td>3</td>\n",
       "      <td>0</td>\n",
       "      <td>91</td>\n",
       "      <td>0</td>\n",
       "      <td>7</td>\n",
       "    </tr>\n",
       "    <tr>\n",
       "      <th>4</th>\n",
       "      <td>13302</td>\n",
       "      <td>285</td>\n",
       "      <td>3</td>\n",
       "      <td>1</td>\n",
       "      <td>16</td>\n",
       "      <td>50</td>\n",
       "      <td>21</td>\n",
       "      <td>35</td>\n",
       "      <td>3</td>\n",
       "      <td>0</td>\n",
       "      <td>5</td>\n",
       "      <td>29</td>\n",
       "      <td>0</td>\n",
       "      <td>7</td>\n",
       "    </tr>\n",
       "    <tr>\n",
       "      <th>...</th>\n",
       "      <td>...</td>\n",
       "      <td>...</td>\n",
       "      <td>...</td>\n",
       "      <td>...</td>\n",
       "      <td>...</td>\n",
       "      <td>...</td>\n",
       "      <td>...</td>\n",
       "      <td>...</td>\n",
       "      <td>...</td>\n",
       "      <td>...</td>\n",
       "      <td>...</td>\n",
       "      <td>...</td>\n",
       "      <td>...</td>\n",
       "      <td>...</td>\n",
       "    </tr>\n",
       "    <tr>\n",
       "      <th>10678</th>\n",
       "      <td>4107</td>\n",
       "      <td>150</td>\n",
       "      <td>4</td>\n",
       "      <td>9</td>\n",
       "      <td>19</td>\n",
       "      <td>55</td>\n",
       "      <td>22</td>\n",
       "      <td>25</td>\n",
       "      <td>0</td>\n",
       "      <td>3</td>\n",
       "      <td>0</td>\n",
       "      <td>64</td>\n",
       "      <td>4</td>\n",
       "      <td>7</td>\n",
       "    </tr>\n",
       "    <tr>\n",
       "      <th>10679</th>\n",
       "      <td>4145</td>\n",
       "      <td>155</td>\n",
       "      <td>27</td>\n",
       "      <td>4</td>\n",
       "      <td>20</td>\n",
       "      <td>45</td>\n",
       "      <td>23</td>\n",
       "      <td>20</td>\n",
       "      <td>1</td>\n",
       "      <td>3</td>\n",
       "      <td>0</td>\n",
       "      <td>64</td>\n",
       "      <td>4</td>\n",
       "      <td>7</td>\n",
       "    </tr>\n",
       "    <tr>\n",
       "      <th>10680</th>\n",
       "      <td>7229</td>\n",
       "      <td>180</td>\n",
       "      <td>27</td>\n",
       "      <td>4</td>\n",
       "      <td>8</td>\n",
       "      <td>20</td>\n",
       "      <td>11</td>\n",
       "      <td>20</td>\n",
       "      <td>4</td>\n",
       "      <td>0</td>\n",
       "      <td>2</td>\n",
       "      <td>18</td>\n",
       "      <td>4</td>\n",
       "      <td>7</td>\n",
       "    </tr>\n",
       "    <tr>\n",
       "      <th>10681</th>\n",
       "      <td>12648</td>\n",
       "      <td>160</td>\n",
       "      <td>3</td>\n",
       "      <td>1</td>\n",
       "      <td>11</td>\n",
       "      <td>30</td>\n",
       "      <td>14</td>\n",
       "      <td>10</td>\n",
       "      <td>10</td>\n",
       "      <td>0</td>\n",
       "      <td>5</td>\n",
       "      <td>18</td>\n",
       "      <td>4</td>\n",
       "      <td>7</td>\n",
       "    </tr>\n",
       "    <tr>\n",
       "      <th>10682</th>\n",
       "      <td>11753</td>\n",
       "      <td>500</td>\n",
       "      <td>5</td>\n",
       "      <td>9</td>\n",
       "      <td>10</td>\n",
       "      <td>55</td>\n",
       "      <td>19</td>\n",
       "      <td>15</td>\n",
       "      <td>1</td>\n",
       "      <td>2</td>\n",
       "      <td>1</td>\n",
       "      <td>108</td>\n",
       "      <td>1</td>\n",
       "      <td>7</td>\n",
       "    </tr>\n",
       "  </tbody>\n",
       "</table>\n",
       "<p>10683 rows × 14 columns</p>\n",
       "</div>"
      ],
      "text/plain": [
       "       Price  Duration_New  Day_of_Journey  Month_of_Journey  Dep_hour  \\\n",
       "0       3897           170              24                 3        22   \n",
       "1       7662           445               5                 1         5   \n",
       "2      13882          1140               6                 9         9   \n",
       "3       6218           325               5                12        18   \n",
       "4      13302           285               3                 1        16   \n",
       "...      ...           ...             ...               ...       ...   \n",
       "10678   4107           150               4                 9        19   \n",
       "10679   4145           155              27                 4        20   \n",
       "10680   7229           180              27                 4         8   \n",
       "10681  12648           160               3                 1        11   \n",
       "10682  11753           500               5                 9        10   \n",
       "\n",
       "       Dep_min  Arrival_hour  Arrival_min  Airline_New  Source_New  \\\n",
       "0           20             1           10            3           0   \n",
       "1           50            13           15            1           3   \n",
       "2           25             4           25            4           2   \n",
       "3            5            23           30            3           3   \n",
       "4           50            21           35            3           0   \n",
       "...        ...           ...          ...          ...         ...   \n",
       "10678       55            22           25            0           3   \n",
       "10679       45            23           20            1           3   \n",
       "10680       20            11           20            4           0   \n",
       "10681       30            14           10           10           0   \n",
       "10682       55            19           15            1           2   \n",
       "\n",
       "       Destination_New  Route_New  Total_Stops_New  Additional_Info_New  \n",
       "0                    5         18                4                    7  \n",
       "1                    0         84                1                    7  \n",
       "2                    1        118                1                    7  \n",
       "3                    0         91                0                    7  \n",
       "4                    5         29                0                    7  \n",
       "...                ...        ...              ...                  ...  \n",
       "10678                0         64                4                    7  \n",
       "10679                0         64                4                    7  \n",
       "10680                2         18                4                    7  \n",
       "10681                5         18                4                    7  \n",
       "10682                1        108                1                    7  \n",
       "\n",
       "[10683 rows x 14 columns]"
      ]
     },
     "execution_count": 33,
     "metadata": {},
     "output_type": "execute_result"
    }
   ],
   "source": [
    "df"
   ]
  },
  {
   "cell_type": "code",
   "execution_count": 34,
   "id": "32859179",
   "metadata": {},
   "outputs": [],
   "source": [
    "#lets check out for outliers using zscore\n",
    "\n",
    "from scipy.stats import zscore\n",
    "\n",
    "z=np.abs(zscore(df))"
   ]
  },
  {
   "cell_type": "code",
   "execution_count": 35,
   "id": "19cb2f21",
   "metadata": {},
   "outputs": [
    {
     "data": {
      "text/plain": [
       "(array([  123,   226,   396,   486,   510,   553,   597,   628,   657,\n",
       "          785,   785,   826,   936,   946,   959,   966,   969,   975,\n",
       "         1043,  1067,  1113,  1196,  1246,  1341,  1346,  1424,  1442,\n",
       "         1466,  1478,  1496,  1551,  1629,  1654,  1657,  1712,  1785,\n",
       "         1791,  1804,  1918,  2055,  2079,  2099,  2108,  2172,  2405,\n",
       "         2481,  2495,  2495,  2553,  2556,  2556,  2618,  2635,  2641,\n",
       "         2654,  2693,  2718,  2883,  2924,  2924,  3032,  3032,  3111,\n",
       "         3111,  3257,  3400,  3457,  3535,  3535,  3700,  3700,  3788,\n",
       "         3790,  3815,  3966,  4012,  4047,  4118,  4463,  4521,  4521,\n",
       "         4655,  4676,  4829,  5013,  5013,  5136,  5372,  5372,  5439,\n",
       "         5516,  5628,  5662,  5701,  5701,  5710,  5711,  5719,  5738,\n",
       "         5745,  5782,  5856,  5933,  5953,  5986,  6024,  6059,  6085,\n",
       "         6314,  6321,  6336,  6407,  6476,  6576,  6576,  6588,  6605,\n",
       "         6884,  6991,  7189,  7232,  7306,  7329,  7351,  7356,  7377,\n",
       "         7537,  7553,  7554,  7611,  7612,  7617,  7713,  7724,  7724,\n",
       "         7756,  7876,  7902,  7906,  8020,  8080,  8127,  8153,  8360,\n",
       "         8409,  8412,  8451,  8470,  8536,  8598,  8601,  8621,  8698,\n",
       "         8729,  8856,  8897,  8940,  8957,  8957,  8990,  9019,  9019,\n",
       "         9182,  9193,  9239,  9247,  9396,  9479,  9484,  9551,  9632,\n",
       "         9657,  9673,  9703,  9715,  9848,  9974, 10020, 10052, 10113,\n",
       "        10149, 10160, 10182, 10189, 10326, 10353, 10364, 10364, 10383,\n",
       "        10439, 10456, 10511, 10511, 10639], dtype=int64),\n",
       " array([ 0,  1,  0,  0,  0,  1,  0,  0,  0,  0, 13,  0,  0,  0,  0,  1,  1,\n",
       "         0, 13,  1,  1,  0,  0,  0,  1,  0,  1,  0,  0,  1,  1,  0,  0,  1,\n",
       "        13,  0,  1,  1,  0,  0, 13,  0,  0,  1, 13, 13,  0, 13,  1,  0, 13,\n",
       "         0,  0,  1,  1,  0,  1, 13,  0, 13,  0, 13,  0, 13,  0,  0,  1,  0,\n",
       "        13,  0, 13, 13,  1,  1,  1,  0,  1,  1,  1,  0, 13,  1,  0,  0,  0,\n",
       "        13,  0,  0, 13,  0,  1, 13,  0,  0,  1,  0,  1,  0,  0,  0,  1,  0,\n",
       "         1,  1,  0, 13,  1,  1,  0,  1, 13,  0,  1,  0, 13,  0,  0,  1,  0,\n",
       "         1,  1,  1,  1,  0,  0,  0,  0,  1,  0,  1,  1,  0,  0,  0, 13,  0,\n",
       "         1,  0,  1,  0,  0,  1,  1,  1,  1,  1,  0,  0,  0,  0,  1,  1,  1,\n",
       "         1,  0, 13,  0,  0, 13,  0,  0, 13, 13,  0,  0,  1,  1, 13,  1,  1,\n",
       "         0, 13,  1,  1,  0,  1,  0,  1,  0,  0, 13,  0,  0,  0,  1,  0,  0,\n",
       "        13,  0,  0,  1,  0, 13,  1], dtype=int64))"
      ]
     },
     "execution_count": 35,
     "metadata": {},
     "output_type": "execute_result"
    }
   ],
   "source": [
    "np.where(z>3)"
   ]
  },
  {
   "cell_type": "code",
   "execution_count": 36,
   "id": "045929de",
   "metadata": {},
   "outputs": [
    {
     "data": {
      "text/plain": [
       "3.9779582952974644"
      ]
     },
     "execution_count": 36,
     "metadata": {},
     "output_type": "execute_result"
    }
   ],
   "source": [
    "z.iloc[123][0]"
   ]
  },
  {
   "cell_type": "code",
   "execution_count": 37,
   "id": "779cf0b2",
   "metadata": {},
   "outputs": [],
   "source": [
    "#so outliers are present, so we will remove them or keep them, it won't affect our model majorily\n",
    "\n",
    "df_new=df[(z<3).all(axis=1)]"
   ]
  },
  {
   "cell_type": "code",
   "execution_count": 38,
   "id": "712f635a",
   "metadata": {},
   "outputs": [
    {
     "data": {
      "text/plain": [
       "(10683, 14)"
      ]
     },
     "execution_count": 38,
     "metadata": {},
     "output_type": "execute_result"
    }
   ],
   "source": [
    "df.shape"
   ]
  },
  {
   "cell_type": "code",
   "execution_count": 39,
   "id": "0f22fe66",
   "metadata": {},
   "outputs": [
    {
     "data": {
      "text/plain": [
       "(10507, 14)"
      ]
     },
     "execution_count": 39,
     "metadata": {},
     "output_type": "execute_result"
    }
   ],
   "source": [
    "df_new.shape"
   ]
  },
  {
   "cell_type": "code",
   "execution_count": 41,
   "id": "2a0c8fe6",
   "metadata": {},
   "outputs": [
    {
     "name": "stdout",
     "output_type": "stream",
     "text": [
      "Data loss is: 0.016474773003837873 %\n"
     ]
    }
   ],
   "source": [
    "print('Data loss is:',(10683-10507)/10683,'%')"
   ]
  },
  {
   "cell_type": "markdown",
   "id": "761f9c81",
   "metadata": {},
   "source": [
    "- as the data loss is below even 1 percent, we will remove these outliers"
   ]
  },
  {
   "cell_type": "code",
   "execution_count": 68,
   "id": "3a18d543",
   "metadata": {},
   "outputs": [],
   "source": [
    "# now selecting our feature and target variable for further process\n",
    "\n",
    "x=df_new.drop('Price',axis=1)\n",
    "y=df_new['Price']"
   ]
  },
  {
   "cell_type": "code",
   "execution_count": 43,
   "id": "9c739b8e",
   "metadata": {},
   "outputs": [
    {
     "data": {
      "text/plain": [
       "(10507, 13)"
      ]
     },
     "execution_count": 43,
     "metadata": {},
     "output_type": "execute_result"
    }
   ],
   "source": [
    "x.shape"
   ]
  },
  {
   "cell_type": "code",
   "execution_count": 44,
   "id": "e1ac1264",
   "metadata": {},
   "outputs": [
    {
     "data": {
      "text/plain": [
       "(10507,)"
      ]
     },
     "execution_count": 44,
     "metadata": {},
     "output_type": "execute_result"
    }
   ],
   "source": [
    "y.shape"
   ]
  },
  {
   "cell_type": "code",
   "execution_count": 45,
   "id": "0561cd06",
   "metadata": {},
   "outputs": [
    {
     "data": {
      "text/plain": [
       "Duration_New           0.778793\n",
       "Day_of_Journey         0.353289\n",
       "Month_of_Journey       0.635315\n",
       "Dep_hour               0.103500\n",
       "Dep_min                0.171520\n",
       "Arrival_hour          -0.361699\n",
       "Arrival_min            0.107406\n",
       "Airline_New            0.729157\n",
       "Source_New            -0.439419\n",
       "Destination_New        1.266002\n",
       "Route_New             -0.506962\n",
       "Total_Stops_New        0.613380\n",
       "Additional_Info_New   -1.473336\n",
       "dtype: float64"
      ]
     },
     "execution_count": 45,
     "metadata": {},
     "output_type": "execute_result"
    }
   ],
   "source": [
    "#checking for skewness\n",
    "\n",
    "x.skew()"
   ]
  },
  {
   "cell_type": "markdown",
   "id": "8eb988b8",
   "metadata": {},
   "source": [
    "threshold= +/- 0.50 , so almost every feature variable skewness is falling inside this range only, but we will apply skewness removal method for the rest one"
   ]
  },
  {
   "cell_type": "code",
   "execution_count": 63,
   "id": "23a79216",
   "metadata": {},
   "outputs": [
    {
     "data": {
      "text/plain": [
       "<AxesSubplot:xlabel='Duration_New', ylabel='Density'>"
      ]
     },
     "execution_count": 63,
     "metadata": {},
     "output_type": "execute_result"
    },
    {
     "data": {
      "image/png": "[encoded data removed]",
      "text/plain": [
       "<Figure size 432x288 with 1 Axes>"
      ]
     },
     "metadata": {
      "needs_background": "light"
     },
     "output_type": "display_data"
    }
   ],
   "source": [
    "sns.distplot(x['Duration_New'])"
   ]
  },
  {
   "cell_type": "code",
   "execution_count": 64,
   "id": "e1af0090",
   "metadata": {},
   "outputs": [
    {
     "data": {
      "text/plain": [
       "<AxesSubplot:xlabel='Additional_Info_New', ylabel='Density'>"
      ]
     },
     "execution_count": 64,
     "metadata": {},
     "output_type": "execute_result"
    },
    {
     "data": {
      "image/png": "[encoded data removed]",
      "text/plain": [
       "<Figure size 432x288 with 1 Axes>"
      ]
     },
     "metadata": {
      "needs_background": "light"
     },
     "output_type": "display_data"
    }
   ],
   "source": [
    "sns.distplot(x['Additional_Info_New'])"
   ]
  },
  {
   "cell_type": "markdown",
   "id": "c0ec49f9",
   "metadata": {},
   "source": [
    "- it can be seen that the values are far away from normal distribution curve"
   ]
  },
  {
   "cell_type": "code",
   "execution_count": 70,
   "id": "84e08263",
   "metadata": {},
   "outputs": [
    {
     "data": {
      "text/plain": [
       "Duration_New          -0.047367\n",
       "Day_of_Journey         0.010563\n",
       "Month_of_Journey      -0.023285\n",
       "Dep_hour              -0.106158\n",
       "Dep_min               -0.358572\n",
       "Arrival_hour          -0.353140\n",
       "Arrival_min           -0.350949\n",
       "Airline_New           -0.014316\n",
       "Source_New            -0.236065\n",
       "Destination_New        0.041290\n",
       "Route_New             -0.434849\n",
       "Total_Stops_New        0.322720\n",
       "Additional_Info_New   -1.136429\n",
       "dtype: float64"
      ]
     },
     "execution_count": 70,
     "metadata": {},
     "output_type": "execute_result"
    }
   ],
   "source": [
    "#using power_transform method\n",
    "\n",
    "from sklearn.preprocessing import power_transform\n",
    "\n",
    "x=power_transform(x,method='yeo-johnson')\n",
    "x=pd.DataFrame(x,columns=['Duration_New', 'Day_of_Journey', 'Month_of_Journey', 'Dep_hour',\n",
    "       'Dep_min', 'Arrival_hour', 'Arrival_min', 'Airline_New', 'Source_New',\n",
    "       'Destination_New', 'Route_New', 'Total_Stops_New',\n",
    "       'Additional_Info_New'])\n",
    "x.skew()"
   ]
  },
  {
   "cell_type": "code",
   "execution_count": 71,
   "id": "2e884dab",
   "metadata": {},
   "outputs": [
    {
     "data": {
      "text/plain": [
       "<AxesSubplot:xlabel='Duration_New', ylabel='Density'>"
      ]
     },
     "execution_count": 71,
     "metadata": {},
     "output_type": "execute_result"
    },
    {
     "data": {
      "image/png": "[encoded data removed]",
      "text/plain": [
       "<Figure size 432x288 with 1 Axes>"
      ]
     },
     "metadata": {
      "needs_background": "light"
     },
     "output_type": "display_data"
    }
   ],
   "source": [
    "sns.distplot(x['Duration_New'])"
   ]
  },
  {
   "cell_type": "markdown",
   "id": "728d1a47",
   "metadata": {},
   "source": [
    "- skewness has been reduced"
   ]
  },
  {
   "cell_type": "code",
   "execution_count": 72,
   "id": "7b19258a",
   "metadata": {},
   "outputs": [
    {
     "data": {
      "text/plain": [
       "<AxesSubplot:xlabel='Additional_Info_New', ylabel='Density'>"
      ]
     },
     "execution_count": 72,
     "metadata": {},
     "output_type": "execute_result"
    },
    {
     "data": {
      "image/png": "[encoded data removed]",
      "text/plain": [
       "<Figure size 432x288 with 1 Axes>"
      ]
     },
     "metadata": {
      "needs_background": "light"
     },
     "output_type": "display_data"
    }
   ],
   "source": [
    "sns.distplot(x['Additional_Info_New'])"
   ]
  },
  {
   "cell_type": "code",
   "execution_count": 73,
   "id": "d1aebe9e",
   "metadata": {},
   "outputs": [],
   "source": [
    "#checking for multicollinearity\n",
    "\n",
    "from statsmodels.stats.outliers_influence import variance_inflation_factor\n",
    "\n",
    "def vif_calc():\n",
    "    vif=pd.DataFrame()\n",
    "    vif['VIF Factor']=[variance_inflation_factor(x.values,i) for i in range(x.shape[1])]\n",
    "    vif['features']=x.columns\n",
    "    print(vif)"
   ]
  },
  {
   "cell_type": "code",
   "execution_count": 74,
   "id": "98c81574",
   "metadata": {},
   "outputs": [
    {
     "name": "stdout",
     "output_type": "stream",
     "text": [
      "    VIF Factor             features\n",
      "0     2.191586         Duration_New\n",
      "1     1.063414       Day_of_Journey\n",
      "2     1.047380     Month_of_Journey\n",
      "3     1.035419             Dep_hour\n",
      "4     1.022757              Dep_min\n",
      "5     1.064383         Arrival_hour\n",
      "6     1.120400          Arrival_min\n",
      "7     1.112456          Airline_New\n",
      "8     1.742938           Source_New\n",
      "9     1.863223      Destination_New\n",
      "10    1.400240            Route_New\n",
      "11    2.116686      Total_Stops_New\n",
      "12    1.090761  Additional_Info_New\n"
     ]
    }
   ],
   "source": [
    "vif_calc()"
   ]
  },
  {
   "cell_type": "markdown",
   "id": "17a3439f",
   "metadata": {},
   "source": [
    "- okay so VIF for all feature variables is low"
   ]
  },
  {
   "cell_type": "code",
   "execution_count": 75,
   "id": "954314f0",
   "metadata": {},
   "outputs": [],
   "source": [
    "#scaling the input data\n",
    "\n",
    "from sklearn.preprocessing import StandardScaler\n",
    "sc=StandardScaler()\n",
    "x=sc.fit_transform(x)"
   ]
  },
  {
   "cell_type": "code",
   "execution_count": 78,
   "id": "141005d5",
   "metadata": {},
   "outputs": [],
   "source": [
    "#importing the required library\n",
    "\n",
    "from sklearn.model_selection import train_test_split,cross_val_score\n",
    "from sklearn.linear_model import LinearRegression,Ridge,Lasso \n",
    "from sklearn.metrics import r2_score,mean_squared_error,mean_absolute_error"
   ]
  },
  {
   "cell_type": "code",
   "execution_count": 79,
   "id": "99534449",
   "metadata": {},
   "outputs": [],
   "source": [
    "lr=LinearRegression()"
   ]
  },
  {
   "cell_type": "code",
   "execution_count": 80,
   "id": "0f62a47b",
   "metadata": {},
   "outputs": [
    {
     "name": "stdout",
     "output_type": "stream",
     "text": [
      "At random state 4 the model performs very well\n",
      "At random state 4 :\n",
      "Training accuracy score is 49.6600703929692\n",
      "Testing accuracy score is 49.88289089229983 \n",
      "\n",
      "At random state 8 the model performs very well\n",
      "At random state 8 :\n",
      "Training accuracy score is 49.69890797380939\n",
      "Testing accuracy score is 49.85257289458881 \n",
      "\n",
      "At random state 21 the model performs very well\n",
      "At random state 21 :\n",
      "Training accuracy score is 49.587943347306094\n",
      "Testing accuracy score is 50.15418212623853 \n",
      "\n",
      "At random state 23 the model performs very well\n",
      "At random state 23 :\n",
      "Training accuracy score is 49.80413023556074\n",
      "Testing accuracy score is 49.55437614683188 \n",
      "\n",
      "At random state 28 the model performs very well\n",
      "At random state 28 :\n",
      "Training accuracy score is 49.57755566454982\n",
      "Testing accuracy score is 50.08059597054142 \n",
      "\n",
      "At random state 31 the model performs very well\n",
      "At random state 31 :\n",
      "Training accuracy score is 49.603041019163854\n",
      "Testing accuracy score is 50.01321046734726 \n",
      "\n",
      "At random state 32 the model performs very well\n",
      "At random state 32 :\n",
      "Training accuracy score is 49.878089662116246\n",
      "Testing accuracy score is 49.503095493682366 \n",
      "\n",
      "At random state 34 the model performs very well\n",
      "At random state 34 :\n",
      "Training accuracy score is 49.60786441719441\n",
      "Testing accuracy score is 50.068963425304894 \n",
      "\n",
      "At random state 43 the model performs very well\n",
      "At random state 43 :\n",
      "Training accuracy score is 49.67638529097418\n",
      "Testing accuracy score is 49.957173118961364 \n",
      "\n",
      "At random state 47 the model performs very well\n",
      "At random state 47 :\n",
      "Training accuracy score is 49.82549310853953\n",
      "Testing accuracy score is 49.5638122157311 \n",
      "\n",
      "At random state 49 the model performs very well\n",
      "At random state 49 :\n",
      "Training accuracy score is 49.69792618768084\n",
      "Testing accuracy score is 49.85842680636423 \n",
      "\n",
      "At random state 51 the model performs very well\n",
      "At random state 51 :\n",
      "Training accuracy score is 49.701085235809416\n",
      "Testing accuracy score is 49.83183250773071 \n",
      "\n",
      "At random state 52 the model performs very well\n",
      "At random state 52 :\n",
      "Training accuracy score is 49.60104787012868\n",
      "Testing accuracy score is 49.99377771212921 \n",
      "\n",
      "At random state 54 the model performs very well\n",
      "At random state 54 :\n",
      "Training accuracy score is 49.60034167833408\n",
      "Testing accuracy score is 50.0796376157937 \n",
      "\n",
      "At random state 56 the model performs very well\n",
      "At random state 56 :\n",
      "Training accuracy score is 49.70063606009465\n",
      "Testing accuracy score is 49.74265540163777 \n",
      "\n",
      "At random state 65 the model performs very well\n",
      "At random state 65 :\n",
      "Training accuracy score is 49.66137230165801\n",
      "Testing accuracy score is 49.95378386899009 \n",
      "\n",
      "At random state 67 the model performs very well\n",
      "At random state 67 :\n",
      "Training accuracy score is 49.88633381714759\n",
      "Testing accuracy score is 49.51856909796734 \n",
      "\n",
      "At random state 70 the model performs very well\n",
      "At random state 70 :\n",
      "Training accuracy score is 49.535168025796395\n",
      "Testing accuracy score is 50.22840440632444 \n",
      "\n",
      "At random state 73 the model performs very well\n",
      "At random state 73 :\n",
      "Training accuracy score is 49.71769270978975\n",
      "Testing accuracy score is 49.82730149230046 \n",
      "\n",
      "At random state 74 the model performs very well\n",
      "At random state 74 :\n",
      "Training accuracy score is 49.834386712709986\n",
      "Testing accuracy score is 49.602154159633 \n",
      "\n",
      "At random state 85 the model performs very well\n",
      "At random state 85 :\n",
      "Training accuracy score is 49.83327843351273\n",
      "Testing accuracy score is 49.52211701621647 \n",
      "\n",
      "At random state 89 the model performs very well\n",
      "At random state 89 :\n",
      "Training accuracy score is 49.76831451649084\n",
      "Testing accuracy score is 49.74771688086685 \n",
      "\n",
      "At random state 92 the model performs very well\n",
      "At random state 92 :\n",
      "Training accuracy score is 49.54234334913692\n",
      "Testing accuracy score is 50.18984572495376 \n",
      "\n",
      "At random state 95 the model performs very well\n",
      "At random state 95 :\n",
      "Training accuracy score is 49.72129692325152\n",
      "Testing accuracy score is 49.77940844743961 \n",
      "\n"
     ]
    }
   ],
   "source": [
    "#checking best random state\n",
    "\n",
    "for i in range(0,100):\n",
    "    x_train,x_test,y_train,y_test=train_test_split(x,y,random_state=i,test_size=.33)\n",
    "    lr.fit(x_train,y_train)\n",
    "    predtrain=lr.predict(x_train)\n",
    "    predlr=lr.predict(x_test)\n",
    "    if round(r2_score(y_test,predlr)*100)==round(r2_score(y_train,predtrain)*100):\n",
    "        print('At random state',i,'the model performs very well')\n",
    "        print('At random state',i,':')\n",
    "        print('Training accuracy score is',r2_score(y_train,predtrain)*100)\n",
    "        print('Testing accuracy score is',r2_score(y_test,predlr)*100,'\\n')"
   ]
  },
  {
   "cell_type": "code",
   "execution_count": 81,
   "id": "b6928308",
   "metadata": {},
   "outputs": [],
   "source": [
    "#let's take 89 as the random state\n",
    "\n",
    "x_train,x_test,y_train,y_test=train_test_split(x,y,random_state=89,test_size=.33)\n",
    "lr.fit(x_train,y_train)\n",
    "predtrain=lr.predict(x_train)\n",
    "predlr=lr.predict(x_test)"
   ]
  },
  {
   "cell_type": "code",
   "execution_count": 82,
   "id": "3d485c42",
   "metadata": {},
   "outputs": [
    {
     "name": "stdout",
     "output_type": "stream",
     "text": [
      "At cv= 2\n",
      "Cross Validation Score is: 49.47235704400422\n",
      "Accuracy score is: -50.18664124376902 \n",
      "\n",
      "At cv= 3\n",
      "Cross Validation Score is: 49.55451226049636\n",
      "Accuracy score is: -50.18664124376902 \n",
      "\n",
      "At cv= 4\n",
      "Cross Validation Score is: 49.607257755381106\n",
      "Accuracy score is: -50.18664124376902 \n",
      "\n",
      "At cv= 5\n",
      "Cross Validation Score is: 49.556077337792416\n",
      "Accuracy score is: -50.18664124376902 \n",
      "\n",
      "At cv= 6\n",
      "Cross Validation Score is: 49.54321555246457\n",
      "Accuracy score is: -50.18664124376902 \n",
      "\n",
      "At cv= 7\n",
      "Cross Validation Score is: 49.564663995454836\n",
      "Accuracy score is: -50.18664124376902 \n",
      "\n",
      "At cv= 8\n",
      "Cross Validation Score is: 49.59662744645576\n",
      "Accuracy score is: -50.18664124376902 \n",
      "\n",
      "At cv= 9\n",
      "Cross Validation Score is: 49.588113748154974\n",
      "Accuracy score is: -50.18664124376902 \n",
      "\n"
     ]
    }
   ],
   "source": [
    "#checking cross validation score for LinearRegression\n",
    "\n",
    "for j in range(2,10):\n",
    "    lrs=cross_val_score(lr,x,y,cv=j)\n",
    "    lrc=lrs.mean()\n",
    "    print('At cv=',j)\n",
    "    print('Cross Validation Score is:',lrc*100)\n",
    "    print('Accuracy score is:',r2_score(y_test,predlr)*100,'\\n')"
   ]
  },
  {
   "cell_type": "markdown",
   "id": "5a956206",
   "metadata": {},
   "source": [
    "- our model is performing very poor with LinearRegression, so let's first try regularization and then ensemble and other regression algorithms"
   ]
  },
  {
   "cell_type": "code",
   "execution_count": 87,
   "id": "595d1e52",
   "metadata": {},
   "outputs": [
    {
     "name": "stdout",
     "output_type": "stream",
     "text": [
      "24993041.98430163\n",
      "4103.900547235836\n"
     ]
    }
   ],
   "source": [
    "#checking error for LinearRegression\n",
    "\n",
    "mselr=mean_squared_error(y_test,predlr)\n",
    "maelr=mean_absolute_error(y_test,predlr)\n",
    "print(mselr)\n",
    "print(maelr)"
   ]
  },
  {
   "cell_type": "code",
   "execution_count": 108,
   "id": "1437253f",
   "metadata": {},
   "outputs": [],
   "source": [
    "from sklearn.model_selection import GridSearchCV\n",
    "from sklearn.neighbors import KNeighborsRegressor\n",
    "from sklearn.tree import DecisionTreeRegressor\n",
    "from sklearn.ensemble import RandomForestRegressor,AdaBoostRegressor,GradientBoostingRegressor"
   ]
  },
  {
   "cell_type": "markdown",
   "id": "93e28748",
   "metadata": {},
   "source": [
    "# Regularization:"
   ]
  },
  {
   "cell_type": "code",
   "execution_count": 119,
   "id": "d3f6169c",
   "metadata": {},
   "outputs": [],
   "source": [
    "from sklearn.linear_model import Lasso,Ridge"
   ]
  },
  {
   "cell_type": "code",
   "execution_count": 120,
   "id": "5fb66ca3",
   "metadata": {},
   "outputs": [],
   "source": [
    "x_train,x_test,y_train,y_test=train_test_split(x,y,random_state=89,test_size=.33)\n",
    "ls=Lasso()\n",
    "ls.fit(x_train,y_train)\n",
    "predtrain=ls.predict(x_train)\n",
    "predls=ls.predict(x_test)"
   ]
  },
  {
   "cell_type": "code",
   "execution_count": 121,
   "id": "b7ae6eab",
   "metadata": {},
   "outputs": [
    {
     "name": "stdout",
     "output_type": "stream",
     "text": [
      "At cv= 2\n",
      "Cross Validation Score is: 49.473252888119426\n",
      "Accuracy score is: 49.74749320839561 \n",
      "\n",
      "At cv= 3\n",
      "Cross Validation Score is: 49.555368441655574\n",
      "Accuracy score is: 49.74749320839561 \n",
      "\n",
      "At cv= 4\n",
      "Cross Validation Score is: 49.60792091309482\n",
      "Accuracy score is: 49.74749320839561 \n",
      "\n",
      "At cv= 5\n",
      "Cross Validation Score is: 49.556729781545826\n",
      "Accuracy score is: 49.74749320839561 \n",
      "\n",
      "At cv= 6\n",
      "Cross Validation Score is: 49.54398843253509\n",
      "Accuracy score is: 49.74749320839561 \n",
      "\n",
      "At cv= 7\n",
      "Cross Validation Score is: 49.56530310360613\n",
      "Accuracy score is: 49.74749320839561 \n",
      "\n",
      "At cv= 8\n",
      "Cross Validation Score is: 49.5973423732305\n",
      "Accuracy score is: 49.74749320839561 \n",
      "\n",
      "At cv= 9\n",
      "Cross Validation Score is: 49.58916451168813\n",
      "Accuracy score is: 49.74749320839561 \n",
      "\n"
     ]
    }
   ],
   "source": [
    "#checking for cross validation score\n",
    "\n",
    "for j in range(2,10):\n",
    "    lss=cross_val_score(ls,x,y,cv=j)\n",
    "    lsc=lss.mean()\n",
    "    print('At cv=',j)\n",
    "    print('Cross Validation Score is:',lsc*100)\n",
    "    print('Accuracy score is:',r2_score(y_test,predls)*100,'\\n')"
   ]
  },
  {
   "cell_type": "markdown",
   "id": "a5dfe165",
   "metadata": {},
   "source": [
    "- Cross validation score has been improved comparing LinearRegression"
   ]
  },
  {
   "cell_type": "code",
   "execution_count": 88,
   "id": "3d653af1",
   "metadata": {},
   "outputs": [
    {
     "name": "stdout",
     "output_type": "stream",
     "text": [
      "8362681.27216727\n",
      "2247.6463081689476\n"
     ]
    }
   ],
   "source": [
    "#checking error for Lasso \n",
    "\n",
    "msels=mean_squared_error(y_test,predls)\n",
    "maels=mean_absolute_error(y_test,predls)\n",
    "print(msels)\n",
    "print(maels)"
   ]
  },
  {
   "cell_type": "code",
   "execution_count": 122,
   "id": "5f7b9ca0",
   "metadata": {},
   "outputs": [
    {
     "name": "stdout",
     "output_type": "stream",
     "text": [
      "49.74765907113755\n"
     ]
    }
   ],
   "source": [
    "lrr=Ridge()\n",
    "lrr.fit(x_train,y_train)\n",
    "predlrr=lrr.predict(x_test)\n",
    "print(r2_score(y_test,predlrr)*100)"
   ]
  },
  {
   "cell_type": "code",
   "execution_count": 123,
   "id": "97fb10c9",
   "metadata": {},
   "outputs": [
    {
     "name": "stdout",
     "output_type": "stream",
     "text": [
      "At cv= 2\n",
      "Cross Validation Score is: 49.472409067765334\n",
      "Accuracy score is: 49.74765907113755 \n",
      "\n",
      "At cv= 3\n",
      "Cross Validation Score is: 49.554569181453395\n",
      "Accuracy score is: 49.74765907113755 \n",
      "\n",
      "At cv= 4\n",
      "Cross Validation Score is: 49.6072943294301\n",
      "Accuracy score is: 49.74765907113755 \n",
      "\n",
      "At cv= 5\n",
      "Cross Validation Score is: 49.55610867803967\n",
      "Accuracy score is: 49.74765907113755 \n",
      "\n",
      "At cv= 6\n",
      "Cross Validation Score is: 49.54325435754737\n",
      "Accuracy score is: 49.74765907113755 \n",
      "\n",
      "At cv= 7\n",
      "Cross Validation Score is: 49.56469673871838\n",
      "Accuracy score is: 49.74765907113755 \n",
      "\n",
      "At cv= 8\n",
      "Cross Validation Score is: 49.59666330138623\n",
      "Accuracy score is: 49.74765907113755 \n",
      "\n",
      "At cv= 9\n",
      "Cross Validation Score is: 49.588146514431116\n",
      "Accuracy score is: 49.74765907113755 \n",
      "\n"
     ]
    }
   ],
   "source": [
    "#checking for cross validation score\n",
    "\n",
    "for j in range(2,10):\n",
    "    lrrs=cross_val_score(lrr,x,y,cv=j)\n",
    "    lrrc=lrrs.mean()\n",
    "    print('At cv=',j)\n",
    "    print('Cross Validation Score is:',lrrc*100)\n",
    "    print('Accuracy score is:',r2_score(y_test,predlrr)*100,'\\n')"
   ]
  },
  {
   "cell_type": "code",
   "execution_count": 124,
   "id": "73a37597",
   "metadata": {},
   "outputs": [
    {
     "name": "stdout",
     "output_type": "stream",
     "text": [
      "8362653.670414953\n",
      "2247.623098377068\n"
     ]
    }
   ],
   "source": [
    "#checking error for Ridge\n",
    "\n",
    "mselrr=mean_squared_error(y_test,predlrr)\n",
    "maelrr=mean_absolute_error(y_test,predlrr)\n",
    "print(mselrr)\n",
    "print(maelrr)"
   ]
  },
  {
   "cell_type": "markdown",
   "id": "1a1a6f77",
   "metadata": {},
   "source": [
    "# Ensemble:"
   ]
  },
  {
   "cell_type": "markdown",
   "id": "06daa1a7",
   "metadata": {},
   "source": [
    "- In this section we will try some ensemble technique to find the best model and we will also try out some other regressors"
   ]
  },
  {
   "cell_type": "code",
   "execution_count": 125,
   "id": "25ca646c",
   "metadata": {},
   "outputs": [],
   "source": [
    "from sklearn.neighbors import KNeighborsRegressor\n",
    "from sklearn.tree import DecisionTreeRegressor\n",
    "from sklearn.ensemble import RandomForestRegressor,AdaBoostRegressor,GradientBoostingRegressor"
   ]
  },
  {
   "cell_type": "code",
   "execution_count": 100,
   "id": "002cef4b",
   "metadata": {},
   "outputs": [
    {
     "name": "stdout",
     "output_type": "stream",
     "text": [
      "62.127228970996626\n"
     ]
    }
   ],
   "source": [
    "ada=AdaBoostRegressor()\n",
    "x_train,x_test,y_train,y_test=train_test_split(x,y,random_state=89,test_size=.33)\n",
    "ada.fit(x_train,y_train)\n",
    "predada=ada.predict(x_test)\n",
    "print(r2_score(y_test,predada)*100)"
   ]
  },
  {
   "cell_type": "code",
   "execution_count": 102,
   "id": "c27630a7",
   "metadata": {},
   "outputs": [
    {
     "name": "stdout",
     "output_type": "stream",
     "text": [
      "At cv= 2\n",
      "Cross Validation Score is: 60.55944245512326\n",
      "Accuracy score is: 62.127228970996626 \n",
      "\n",
      "At cv= 3\n",
      "Cross Validation Score is: 60.90047974330899\n",
      "Accuracy score is: 62.127228970996626 \n",
      "\n",
      "At cv= 4\n",
      "Cross Validation Score is: 61.83666315635492\n",
      "Accuracy score is: 62.127228970996626 \n",
      "\n",
      "At cv= 5\n",
      "Cross Validation Score is: 61.862757668587\n",
      "Accuracy score is: 62.127228970996626 \n",
      "\n"
     ]
    }
   ],
   "source": [
    "#checking for cross validation score\n",
    "\n",
    "for j in range(2,6):\n",
    "    adas=cross_val_score(ada,x,y,cv=j)\n",
    "    adac=adas.mean()\n",
    "    print('At cv=',j)\n",
    "    print('Cross Validation Score is:',adac*100)\n",
    "    print('Accuracy score is:',r2_score(y_test,predada)*100,'\\n')"
   ]
  },
  {
   "cell_type": "markdown",
   "id": "171ee32c",
   "metadata": {},
   "source": [
    "- Both accuracy score and cross validation score have been improved as comapred to LinearRegressiona and regularization"
   ]
  },
  {
   "cell_type": "code",
   "execution_count": 103,
   "id": "c9cbc4cd",
   "metadata": {},
   "outputs": [
    {
     "name": "stdout",
     "output_type": "stream",
     "text": [
      "6302529.629471922\n",
      "2108.865855256317\n"
     ]
    }
   ],
   "source": [
    "#checking error for AdaBoost\n",
    "\n",
    "mseada=mean_squared_error(y_test,predada)\n",
    "maeada=mean_absolute_error(y_test,predada)\n",
    "print(mseada)\n",
    "print(maeada)"
   ]
  },
  {
   "cell_type": "code",
   "execution_count": 104,
   "id": "45c04ec6",
   "metadata": {},
   "outputs": [
    {
     "name": "stdout",
     "output_type": "stream",
     "text": [
      "84.04583062666711\n"
     ]
    }
   ],
   "source": [
    "gb=GradientBoostingRegressor()\n",
    "x_train,x_test,y_train,y_test=train_test_split(x,y,random_state=89,test_size=.33)\n",
    "gb.fit(x_train,y_train)\n",
    "predgb=gb.predict(x_test)\n",
    "print(r2_score(y_test,predgb)*100)"
   ]
  },
  {
   "cell_type": "code",
   "execution_count": 105,
   "id": "99032e86",
   "metadata": {},
   "outputs": [
    {
     "name": "stdout",
     "output_type": "stream",
     "text": [
      "At cv= 2\n",
      "Cross Validation Score is: 83.75888442599427\n",
      "Accuracy score is: 84.04583062666711 \n",
      "\n",
      "At cv= 3\n",
      "Cross Validation Score is: 84.12280091644423\n",
      "Accuracy score is: 84.04583062666711 \n",
      "\n",
      "At cv= 4\n",
      "Cross Validation Score is: 84.26142014647611\n",
      "Accuracy score is: 84.04583062666711 \n",
      "\n",
      "At cv= 5\n",
      "Cross Validation Score is: 84.3327108488649\n",
      "Accuracy score is: 84.04583062666711 \n",
      "\n"
     ]
    }
   ],
   "source": [
    "#checking for cross validation score\n",
    "\n",
    "for j in range(2,6):\n",
    "    gbs=cross_val_score(gb,x,y,cv=j)\n",
    "    gbc=gbs.mean()\n",
    "    print('At cv=',j)\n",
    "    print('Cross Validation Score is:',gbc*100)\n",
    "    print('Accuracy score is:',r2_score(y_test,predgb)*100,'\\n')"
   ]
  },
  {
   "cell_type": "markdown",
   "id": "09b3ec65",
   "metadata": {},
   "source": [
    "- Model is performing very well with GradientBoostingRegressor, both accuracy score and cross validation score have improved"
   ]
  },
  {
   "cell_type": "code",
   "execution_count": 106,
   "id": "2a5fc51c",
   "metadata": {},
   "outputs": [
    {
     "name": "stdout",
     "output_type": "stream",
     "text": [
      "2654984.6355852988\n",
      "1154.8818723303004\n"
     ]
    }
   ],
   "source": [
    "#checking error for GradientBoosting\n",
    "\n",
    "msegb=mean_squared_error(y_test,predgb)\n",
    "maegb=mean_absolute_error(y_test,predgb)\n",
    "print(msegb)\n",
    "print(maegb)"
   ]
  },
  {
   "cell_type": "code",
   "execution_count": 109,
   "id": "0464a81a",
   "metadata": {},
   "outputs": [
    {
     "name": "stdout",
     "output_type": "stream",
     "text": [
      "77.80278521292735\n"
     ]
    }
   ],
   "source": [
    "knn=KNeighborsRegressor()\n",
    "x_train,x_test,y_train,y_test=train_test_split(x,y,random_state=89,test_size=.33)\n",
    "knn.fit(x_train,y_train)\n",
    "predknn=knn.predict(x_test)\n",
    "print(r2_score(y_test,predknn)*100)"
   ]
  },
  {
   "cell_type": "code",
   "execution_count": 110,
   "id": "5f4cccb1",
   "metadata": {},
   "outputs": [
    {
     "name": "stdout",
     "output_type": "stream",
     "text": [
      "At cv= 2\n",
      "Cross Validation Score is: 75.68175352751965\n",
      "Accuracy score is: 77.80278521292735 \n",
      "\n",
      "At cv= 3\n",
      "Cross Validation Score is: 77.90121838797197\n",
      "Accuracy score is: 77.80278521292735 \n",
      "\n",
      "At cv= 4\n",
      "Cross Validation Score is: 78.72414705743273\n",
      "Accuracy score is: 77.80278521292735 \n",
      "\n",
      "At cv= 5\n",
      "Cross Validation Score is: 79.28215562730921\n",
      "Accuracy score is: 77.80278521292735 \n",
      "\n"
     ]
    }
   ],
   "source": [
    "#checking for cross validation score\n",
    "\n",
    "for j in range(2,6):\n",
    "    knns=cross_val_score(knn,x,y,cv=j)\n",
    "    knnc=knns.mean()\n",
    "    print('At cv=',j)\n",
    "    print('Cross Validation Score is:',knnc*100)\n",
    "    print('Accuracy score is:',r2_score(y_test,predknn)*100,'\\n')"
   ]
  },
  {
   "cell_type": "markdown",
   "id": "f9468a45",
   "metadata": {},
   "source": [
    "- The model with Kneighbors algorithm is performing better than LinearRegression, AdaBoost and regularization"
   ]
  },
  {
   "cell_type": "code",
   "execution_count": 111,
   "id": "5450ae52",
   "metadata": {},
   "outputs": [
    {
     "name": "stdout",
     "output_type": "stream",
     "text": [
      "3693909.901130334\n",
      "1226.5185697808536\n"
     ]
    }
   ],
   "source": [
    "#checking error for KNeighbors\n",
    "\n",
    "mseknn=mean_squared_error(y_test,predknn)\n",
    "maeknn=mean_absolute_error(y_test,predknn)\n",
    "print(mseknn)\n",
    "print(maeknn)"
   ]
  },
  {
   "cell_type": "code",
   "execution_count": 112,
   "id": "3bb247c8",
   "metadata": {},
   "outputs": [
    {
     "name": "stdout",
     "output_type": "stream",
     "text": [
      "88.11242057014226\n"
     ]
    }
   ],
   "source": [
    "dtc=DecisionTreeRegressor()\n",
    "x_train,x_test,y_train,y_test=train_test_split(x,y,random_state=89,test_size=.33)\n",
    "dtc.fit(x_train,y_train)\n",
    "preddtc=dtc.predict(x_test)\n",
    "print(r2_score(y_test,preddtc)*100)"
   ]
  },
  {
   "cell_type": "code",
   "execution_count": 115,
   "id": "5331e114",
   "metadata": {},
   "outputs": [
    {
     "name": "stdout",
     "output_type": "stream",
     "text": [
      "At cv= 2\n",
      "Cross Validation Score is: 85.15854820748604\n",
      "Accuracy score is: 88.11242057014226 \n",
      "\n",
      "At cv= 3\n",
      "Cross Validation Score is: 87.43407384704578\n",
      "Accuracy score is: 88.11242057014226 \n",
      "\n",
      "At cv= 4\n",
      "Cross Validation Score is: 87.48392874990209\n",
      "Accuracy score is: 88.11242057014226 \n",
      "\n",
      "At cv= 5\n",
      "Cross Validation Score is: 87.84483981328357\n",
      "Accuracy score is: 88.11242057014226 \n",
      "\n"
     ]
    }
   ],
   "source": [
    "#checking for cross validation score\n",
    "\n",
    "for j in range(2,6):\n",
    "    dtcs=cross_val_score(dtc,x,y,cv=j)\n",
    "    dtcc=dtcs.mean()\n",
    "    print('At cv=',j)\n",
    "    print('Cross Validation Score is:',dtcc*100)\n",
    "    print('Accuracy score is:',r2_score(y_test,preddtc)*100,'\\n')"
   ]
  },
  {
   "cell_type": "markdown",
   "id": "95bf93d5",
   "metadata": {},
   "source": [
    "- The accuracy score is very high with DecisionTreeRegressor but cross validation score is only a little less at purely random states, so very little overfitting might be there"
   ]
  },
  {
   "cell_type": "code",
   "execution_count": 116,
   "id": "a575f80e",
   "metadata": {},
   "outputs": [
    {
     "name": "stdout",
     "output_type": "stream",
     "text": [
      "1978250.3245406414\n",
      "663.0318867743176\n"
     ]
    }
   ],
   "source": [
    "#checking error for DecisionTree\n",
    "\n",
    "msedtc=mean_squared_error(y_test,preddtc)\n",
    "maedtc=mean_absolute_error(y_test,preddtc)\n",
    "print(msedtc)\n",
    "print(maedtc)"
   ]
  },
  {
   "cell_type": "code",
   "execution_count": 114,
   "id": "f2a740cb",
   "metadata": {},
   "outputs": [
    {
     "name": "stdout",
     "output_type": "stream",
     "text": [
      "92.3493081080961\n"
     ]
    }
   ],
   "source": [
    "rf=RandomForestRegressor()\n",
    "x_train,x_test,y_train,y_test=train_test_split(x,y,random_state=89,test_size=.33)\n",
    "rf.fit(x_train,y_train)\n",
    "predrf=rf.predict(x_test)\n",
    "print(r2_score(y_test,predrf)*100)"
   ]
  },
  {
   "cell_type": "code",
   "execution_count": 117,
   "id": "79bd994d",
   "metadata": {},
   "outputs": [
    {
     "name": "stdout",
     "output_type": "stream",
     "text": [
      "At cv= 2\n",
      "Cross Validation Score is: 91.31421392639109\n",
      "Accuracy score is: 92.3493081080961 \n",
      "\n",
      "At cv= 3\n",
      "Cross Validation Score is: 92.16965607496209\n",
      "Accuracy score is: 92.3493081080961 \n",
      "\n",
      "At cv= 4\n",
      "Cross Validation Score is: 92.28635638665651\n",
      "Accuracy score is: 92.3493081080961 \n",
      "\n",
      "At cv= 5\n",
      "Cross Validation Score is: 92.4111079424157\n",
      "Accuracy score is: 92.3493081080961 \n",
      "\n"
     ]
    }
   ],
   "source": [
    "#checking for cross validation score\n",
    "\n",
    "for j in range(2,6):\n",
    "    rfs=cross_val_score(rf,x,y,cv=j)\n",
    "    rfc=rfs.mean()\n",
    "    print('At cv=',j)\n",
    "    print('Cross Validation Score is:',rfc*100)\n",
    "    print('Accuracy score is:',r2_score(y_test,predrf)*100,'\\n')"
   ]
  },
  {
   "cell_type": "markdown",
   "id": "c093accd",
   "metadata": {},
   "source": [
    "- So, by far RandomForestRegressor is giving us exceptional results"
   ]
  },
  {
   "cell_type": "code",
   "execution_count": 118,
   "id": "f385faae",
   "metadata": {},
   "outputs": [
    {
     "name": "stdout",
     "output_type": "stream",
     "text": [
      "1273176.2431050667\n",
      "593.6805052646876\n"
     ]
    }
   ],
   "source": [
    "#checking error for RandomForest\n",
    "\n",
    "mserf=mean_squared_error(y_test,predrf)\n",
    "maerf=mean_absolute_error(y_test,predrf)\n",
    "print(mserf)\n",
    "print(maerf)"
   ]
  },
  {
   "cell_type": "code",
   "execution_count": 127,
   "id": "cccdf9b9",
   "metadata": {},
   "outputs": [
    {
     "data": {
      "text/html": [
       "<div>\n",
       "<style scoped>\n",
       "    .dataframe tbody tr th:only-of-type {\n",
       "        vertical-align: middle;\n",
       "    }\n",
       "\n",
       "    .dataframe tbody tr th {\n",
       "        vertical-align: top;\n",
       "    }\n",
       "\n",
       "    .dataframe thead th {\n",
       "        text-align: right;\n",
       "    }\n",
       "</style>\n",
       "<table border=\"1\" class=\"dataframe\">\n",
       "  <thead>\n",
       "    <tr style=\"text-align: right;\">\n",
       "      <th></th>\n",
       "      <th>Mean Squared Error</th>\n",
       "      <th>Mean Absolute Error</th>\n",
       "      <th>Accuracy Score</th>\n",
       "    </tr>\n",
       "  </thead>\n",
       "  <tbody>\n",
       "    <tr>\n",
       "      <th>LinearRegression</th>\n",
       "      <td>2.499304e+07</td>\n",
       "      <td>4103.900547</td>\n",
       "      <td>-0.501866</td>\n",
       "    </tr>\n",
       "    <tr>\n",
       "      <th>Lasso</th>\n",
       "      <td>8.362681e+06</td>\n",
       "      <td>2247.646308</td>\n",
       "      <td>0.497475</td>\n",
       "    </tr>\n",
       "    <tr>\n",
       "      <th>Ridge</th>\n",
       "      <td>8.362654e+06</td>\n",
       "      <td>2247.623098</td>\n",
       "      <td>0.497477</td>\n",
       "    </tr>\n",
       "    <tr>\n",
       "      <th>KNeighborsRegressor</th>\n",
       "      <td>3.693910e+06</td>\n",
       "      <td>1226.518570</td>\n",
       "      <td>0.778028</td>\n",
       "    </tr>\n",
       "    <tr>\n",
       "      <th>DecisionTreeClassifier</th>\n",
       "      <td>1.978250e+06</td>\n",
       "      <td>663.031887</td>\n",
       "      <td>0.881124</td>\n",
       "    </tr>\n",
       "    <tr>\n",
       "      <th>AdaBoostRegressor</th>\n",
       "      <td>6.302530e+06</td>\n",
       "      <td>2108.865855</td>\n",
       "      <td>0.621272</td>\n",
       "    </tr>\n",
       "    <tr>\n",
       "      <th>GradientBoostingRegressor</th>\n",
       "      <td>2.654985e+06</td>\n",
       "      <td>1154.881872</td>\n",
       "      <td>0.840458</td>\n",
       "    </tr>\n",
       "    <tr>\n",
       "      <th>RandomForestRegressor</th>\n",
       "      <td>1.273176e+06</td>\n",
       "      <td>593.680505</td>\n",
       "      <td>0.923493</td>\n",
       "    </tr>\n",
       "  </tbody>\n",
       "</table>\n",
       "</div>"
      ],
      "text/plain": [
       "                           Mean Squared Error  Mean Absolute Error  \\\n",
       "LinearRegression                 2.499304e+07          4103.900547   \n",
       "Lasso                            8.362681e+06          2247.646308   \n",
       "Ridge                            8.362654e+06          2247.623098   \n",
       "KNeighborsRegressor              3.693910e+06          1226.518570   \n",
       "DecisionTreeClassifier           1.978250e+06           663.031887   \n",
       "AdaBoostRegressor                6.302530e+06          2108.865855   \n",
       "GradientBoostingRegressor        2.654985e+06          1154.881872   \n",
       "RandomForestRegressor            1.273176e+06           593.680505   \n",
       "\n",
       "                           Accuracy Score  \n",
       "LinearRegression                -0.501866  \n",
       "Lasso                            0.497475  \n",
       "Ridge                            0.497477  \n",
       "KNeighborsRegressor              0.778028  \n",
       "DecisionTreeClassifier           0.881124  \n",
       "AdaBoostRegressor                0.621272  \n",
       "GradientBoostingRegressor        0.840458  \n",
       "RandomForestRegressor            0.923493  "
      ]
     },
     "execution_count": 127,
     "metadata": {},
     "output_type": "execute_result"
    }
   ],
   "source": [
    "algodf=pd.DataFrame({'Mean Squared Error':[mselr,msels,mselrr,mseknn,msedtc,mseada,msegb,mserf],'Mean Absolute Error':[maelr,maels,maelrr,maeknn,maedtc,maeada,maegb,maerf],'Accuracy Score':[r2_score(y_test,predlr),r2_score(y_test,predls),r2_score(y_test,predlrr),r2_score(y_test,predknn),r2_score(y_test,preddtc),r2_score(y_test,predada),r2_score(y_test,predgb),r2_score(y_test,predrf)]},index=['LinearRegression','Lasso','Ridge','KNeighborsRegressor','DecisionTreeClassifier','AdaBoostRegressor','GradientBoostingRegressor','RandomForestRegressor'])\n",
    "algodf"
   ]
  },
  {
   "cell_type": "markdown",
   "id": "a4e37887",
   "metadata": {},
   "source": [
    "- so, as RandomForest is giving best results, hyperparameter tuning will be done using GridSearchCV"
   ]
  },
  {
   "cell_type": "markdown",
   "id": "0a85df39",
   "metadata": {},
   "source": [
    "# Hyperparameter Tuning:"
   ]
  },
  {
   "cell_type": "code",
   "execution_count": 128,
   "id": "7b7af3d5",
   "metadata": {},
   "outputs": [],
   "source": [
    "from sklearn.model_selection import GridSearchCV"
   ]
  },
  {
   "cell_type": "code",
   "execution_count": null,
   "id": "f7e1d597",
   "metadata": {},
   "outputs": [],
   "source": [
    "parameters={'criterion':[\"squared_error\", \"absolute_error\", \"poisson\"],'max_features':['sqrt','log2','auto']}\n",
    "rf=RandomForestRegressor()\n",
    "clf=GridSearchCV(rf,parameters)\n",
    "x_train,x_test,y_train,y_test=train_test_split(x,y,random_state=89,test_size=.33)\n",
    "clf.fit(x_train,y_train)\n",
    "\n",
    "print(clf.best_params_)"
   ]
  },
  {
   "cell_type": "code",
   "execution_count": 136,
   "id": "fa05a24f",
   "metadata": {},
   "outputs": [
    {
     "name": "stdout",
     "output_type": "stream",
     "text": [
      "At random state: 0\n",
      "91.56956828936967 \n",
      "\n",
      "At random state: 1\n",
      "92.56458312545819 \n",
      "\n",
      "At random state: 2\n",
      "91.82151865240482 \n",
      "\n",
      "At random state: 3\n",
      "91.31391028026061 \n",
      "\n",
      "At random state: 4\n",
      "91.745699567049 \n",
      "\n",
      "At random state: 5\n",
      "92.5564711596487 \n",
      "\n",
      "At random state: 6\n",
      "92.74459343149667 \n",
      "\n",
      "At random state: 7\n",
      "91.45756472324716 \n",
      "\n",
      "At random state: 8\n",
      "92.47056812972251 \n",
      "\n",
      "At random state: 9\n",
      "91.75110016576518 \n",
      "\n"
     ]
    }
   ],
   "source": [
    "for i in range(10):\n",
    "    rf=RandomForestRegressor(criterion='squared_error',max_features='auto')\n",
    "    x_train,x_test,y_train,y_test=train_test_split(x,y,random_state=i,test_size=.33)\n",
    "    rf.fit(x_train,y_train)\n",
    "    predrf=rf.predict(x_test)\n",
    "    \n",
    "    print('At random state:',i)\n",
    "    print(r2_score(y_test,predrf)*100,'\\n')"
   ]
  },
  {
   "cell_type": "code",
   "execution_count": 137,
   "id": "2e7618eb",
   "metadata": {},
   "outputs": [
    {
     "data": {
      "text/plain": [
       "0.9288921628686461"
      ]
     },
     "execution_count": 137,
     "metadata": {},
     "output_type": "execute_result"
    }
   ],
   "source": [
    "rf=RandomForestRegressor(criterion='squared_error',max_features='auto')\n",
    "x_train,x_test,y_train,y_test=train_test_split(x,y,random_state=6,test_size=.33)\n",
    "rf.fit(x_train,y_train)\n",
    "predrf=rf.predict(x_test)\n",
    "r2_score(y_test,predrf)"
   ]
  },
  {
   "cell_type": "code",
   "execution_count": 133,
   "id": "5eeec5d7",
   "metadata": {},
   "outputs": [
    {
     "name": "stdout",
     "output_type": "stream",
     "text": [
      "At cv= 2\n",
      "Cross Validation Score is: 91.23903779542462 \n",
      "\n",
      "At cv= 3\n",
      "Cross Validation Score is: 92.23698957297252 \n",
      "\n",
      "At cv= 4\n",
      "Cross Validation Score is: 92.33838826114571 \n",
      "\n",
      "At cv= 5\n",
      "Cross Validation Score is: 92.38111603235077 \n",
      "\n",
      "At cv= 6\n",
      "Cross Validation Score is: 92.6290557204832 \n",
      "\n",
      "At cv= 7\n",
      "Cross Validation Score is: 92.74974454286982 \n",
      "\n",
      "At cv= 8\n",
      "Cross Validation Score is: 92.6965150493112 \n",
      "\n",
      "At cv= 9\n",
      "Cross Validation Score is: 92.72862783193209 \n",
      "\n",
      "At cv= 10\n",
      "Cross Validation Score is: 92.86649350750581 \n",
      "\n"
     ]
    }
   ],
   "source": [
    "#checking for cross validation score\n",
    "\n",
    "rf=RandomForestRegressor(criterion='squared_error',max_features='auto')\n",
    "for j in range(2,11):\n",
    "    rfs=cross_val_score(rf,x,y,cv=j)\n",
    "    rfc=rfs.mean()\n",
    "    print('At cv=',j)\n",
    "    print('Cross Validation Score is:',rfc*100,'\\n')"
   ]
  },
  {
   "cell_type": "code",
   "execution_count": 138,
   "id": "908ce2c0",
   "metadata": {},
   "outputs": [],
   "source": [
    "rfs=cross_val_score(rf,x,y,cv=10)\n",
    "rfc=rfs.mean()"
   ]
  },
  {
   "cell_type": "code",
   "execution_count": 141,
   "id": "a97f6070",
   "metadata": {},
   "outputs": [
    {
     "name": "stdout",
     "output_type": "stream",
     "text": [
      "The model is performing extremely well with RandomForestRegressor\n",
      "Accuracy Score: 93\n",
      "Cross Validation Score: 93\n"
     ]
    }
   ],
   "source": [
    "print('The model is performing extremely well with RandomForestRegressor')\n",
    "print('Accuracy Score:', round(r2_score(y_test,predrf)*100))\n",
    "print('Cross Validation Score:', round(rfc*100))"
   ]
  },
  {
   "cell_type": "code",
   "execution_count": 142,
   "id": "0fa98ba3",
   "metadata": {},
   "outputs": [
    {
     "name": "stdout",
     "output_type": "stream",
     "text": [
      "Mean Squared Error: 1203380.0828945825\n",
      "Mean Absolute Error: 574.9227394431629\n"
     ]
    }
   ],
   "source": [
    "print('Mean Squared Error:',mean_squared_error(y_test,predrf))\n",
    "print('Mean Absolute Error:',mean_absolute_error(y_test,predrf))"
   ]
  },
  {
   "cell_type": "code",
   "execution_count": 143,
   "id": "55005fdc",
   "metadata": {},
   "outputs": [
    {
     "data": {
      "text/html": [
       "<div>\n",
       "<style scoped>\n",
       "    .dataframe tbody tr th:only-of-type {\n",
       "        vertical-align: middle;\n",
       "    }\n",
       "\n",
       "    .dataframe tbody tr th {\n",
       "        vertical-align: top;\n",
       "    }\n",
       "\n",
       "    .dataframe thead th {\n",
       "        text-align: right;\n",
       "    }\n",
       "</style>\n",
       "<table border=\"1\" class=\"dataframe\">\n",
       "  <thead>\n",
       "    <tr style=\"text-align: right;\">\n",
       "      <th></th>\n",
       "      <th>Original Price</th>\n",
       "      <th>Predicted Price</th>\n",
       "    </tr>\n",
       "  </thead>\n",
       "  <tbody>\n",
       "    <tr>\n",
       "      <th>2227</th>\n",
       "      <td>10208</td>\n",
       "      <td>10548.70</td>\n",
       "    </tr>\n",
       "    <tr>\n",
       "      <th>2075</th>\n",
       "      <td>9899</td>\n",
       "      <td>10005.34</td>\n",
       "    </tr>\n",
       "    <tr>\n",
       "      <th>10625</th>\n",
       "      <td>19644</td>\n",
       "      <td>13330.19</td>\n",
       "    </tr>\n",
       "    <tr>\n",
       "      <th>7968</th>\n",
       "      <td>8330</td>\n",
       "      <td>8677.48</td>\n",
       "    </tr>\n",
       "    <tr>\n",
       "      <th>8139</th>\n",
       "      <td>6752</td>\n",
       "      <td>8118.63</td>\n",
       "    </tr>\n",
       "    <tr>\n",
       "      <th>...</th>\n",
       "      <td>...</td>\n",
       "      <td>...</td>\n",
       "    </tr>\n",
       "    <tr>\n",
       "      <th>7405</th>\n",
       "      <td>6461</td>\n",
       "      <td>4119.99</td>\n",
       "    </tr>\n",
       "    <tr>\n",
       "      <th>9075</th>\n",
       "      <td>7952</td>\n",
       "      <td>7951.20</td>\n",
       "    </tr>\n",
       "    <tr>\n",
       "      <th>3218</th>\n",
       "      <td>5601</td>\n",
       "      <td>5628.69</td>\n",
       "    </tr>\n",
       "    <tr>\n",
       "      <th>9538</th>\n",
       "      <td>13584</td>\n",
       "      <td>13910.91</td>\n",
       "    </tr>\n",
       "    <tr>\n",
       "      <th>3176</th>\n",
       "      <td>10844</td>\n",
       "      <td>10778.91</td>\n",
       "    </tr>\n",
       "  </tbody>\n",
       "</table>\n",
       "<p>3468 rows × 2 columns</p>\n",
       "</div>"
      ],
      "text/plain": [
       "       Original Price  Predicted Price\n",
       "2227            10208         10548.70\n",
       "2075             9899         10005.34\n",
       "10625           19644         13330.19\n",
       "7968             8330          8677.48\n",
       "8139             6752          8118.63\n",
       "...               ...              ...\n",
       "7405             6461          4119.99\n",
       "9075             7952          7951.20\n",
       "3218             5601          5628.69\n",
       "9538            13584         13910.91\n",
       "3176            10844         10778.91\n",
       "\n",
       "[3468 rows x 2 columns]"
      ]
     },
     "execution_count": 143,
     "metadata": {},
     "output_type": "execute_result"
    }
   ],
   "source": [
    "preddf=pd.DataFrame({'Original Price':y_test,'Predicted Price':predrf})\n",
    "preddf"
   ]
  },
  {
   "cell_type": "code",
   "execution_count": 146,
   "id": "508eb611",
   "metadata": {},
   "outputs": [],
   "source": [
    "#saving the best model\n",
    "\n",
    "import pickle\n",
    "pickle.dump(rf,open('flightprice.pkl','wb'))"
   ]
  },
  {
   "cell_type": "code",
   "execution_count": null,
   "id": "85ba6ea7",
   "metadata": {},
   "outputs": [],
   "source": []
  },
  {
   "cell_type": "code",
   "execution_count": null,
   "id": "869dcdd6",
   "metadata": {},
   "outputs": [],
   "source": []
  }
 ],
 "metadata": {
  "kernelspec": {
   "display_name": "Python 3 (ipykernel)",
   "language": "python",
   "name": "python3"
  },
  "language_info": {
   "codemirror_mode": {
    "name": "ipython",
    "version": 3
   },
   "file_extension": ".py",
   "mimetype": "text/x-python",
   "name": "python",
   "nbconvert_exporter": "python",
   "pygments_lexer": "ipython3",
   "version": "3.9.7"
  }
 },
 "nbformat": 4,
 "nbformat_minor": 5
}
