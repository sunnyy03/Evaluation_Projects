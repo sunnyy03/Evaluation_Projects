{
 "cells": [
  {
   "cell_type": "markdown",
   "id": "b9a8210b",
   "metadata": {},
   "source": [
    "Problem statement:To \n",
    "-To predict the number of wins for a given team from the datatset"
   ]
  },
  {
   "cell_type": "code",
   "execution_count": 1,
   "id": "c066ee3d",
   "metadata": {},
   "outputs": [
    {
     "data": {
      "text/html": [
       "<div>\n",
       "<style scoped>\n",
       "    .dataframe tbody tr th:only-of-type {\n",
       "        vertical-align: middle;\n",
       "    }\n",
       "\n",
       "    .dataframe tbody tr th {\n",
       "        vertical-align: top;\n",
       "    }\n",
       "\n",
       "    .dataframe thead th {\n",
       "        text-align: right;\n",
       "    }\n",
       "</style>\n",
       "<table border=\"1\" class=\"dataframe\">\n",
       "  <thead>\n",
       "    <tr style=\"text-align: right;\">\n",
       "      <th></th>\n",
       "      <th>W</th>\n",
       "      <th>R</th>\n",
       "      <th>AB</th>\n",
       "      <th>H</th>\n",
       "      <th>2B</th>\n",
       "      <th>3B</th>\n",
       "      <th>HR</th>\n",
       "      <th>BB</th>\n",
       "      <th>SO</th>\n",
       "      <th>SB</th>\n",
       "      <th>RA</th>\n",
       "      <th>ER</th>\n",
       "      <th>ERA</th>\n",
       "      <th>CG</th>\n",
       "      <th>SHO</th>\n",
       "      <th>SV</th>\n",
       "      <th>E</th>\n",
       "    </tr>\n",
       "  </thead>\n",
       "  <tbody>\n",
       "    <tr>\n",
       "      <th>0</th>\n",
       "      <td>95</td>\n",
       "      <td>724</td>\n",
       "      <td>5575</td>\n",
       "      <td>1497</td>\n",
       "      <td>300</td>\n",
       "      <td>42</td>\n",
       "      <td>139</td>\n",
       "      <td>383</td>\n",
       "      <td>973</td>\n",
       "      <td>104</td>\n",
       "      <td>641</td>\n",
       "      <td>601</td>\n",
       "      <td>3.73</td>\n",
       "      <td>2</td>\n",
       "      <td>8</td>\n",
       "      <td>56</td>\n",
       "      <td>88</td>\n",
       "    </tr>\n",
       "    <tr>\n",
       "      <th>1</th>\n",
       "      <td>83</td>\n",
       "      <td>696</td>\n",
       "      <td>5467</td>\n",
       "      <td>1349</td>\n",
       "      <td>277</td>\n",
       "      <td>44</td>\n",
       "      <td>156</td>\n",
       "      <td>439</td>\n",
       "      <td>1264</td>\n",
       "      <td>70</td>\n",
       "      <td>700</td>\n",
       "      <td>653</td>\n",
       "      <td>4.07</td>\n",
       "      <td>2</td>\n",
       "      <td>12</td>\n",
       "      <td>45</td>\n",
       "      <td>86</td>\n",
       "    </tr>\n",
       "    <tr>\n",
       "      <th>2</th>\n",
       "      <td>81</td>\n",
       "      <td>669</td>\n",
       "      <td>5439</td>\n",
       "      <td>1395</td>\n",
       "      <td>303</td>\n",
       "      <td>29</td>\n",
       "      <td>141</td>\n",
       "      <td>533</td>\n",
       "      <td>1157</td>\n",
       "      <td>86</td>\n",
       "      <td>640</td>\n",
       "      <td>584</td>\n",
       "      <td>3.67</td>\n",
       "      <td>11</td>\n",
       "      <td>10</td>\n",
       "      <td>38</td>\n",
       "      <td>79</td>\n",
       "    </tr>\n",
       "    <tr>\n",
       "      <th>3</th>\n",
       "      <td>76</td>\n",
       "      <td>622</td>\n",
       "      <td>5533</td>\n",
       "      <td>1381</td>\n",
       "      <td>260</td>\n",
       "      <td>27</td>\n",
       "      <td>136</td>\n",
       "      <td>404</td>\n",
       "      <td>1231</td>\n",
       "      <td>68</td>\n",
       "      <td>701</td>\n",
       "      <td>643</td>\n",
       "      <td>3.98</td>\n",
       "      <td>7</td>\n",
       "      <td>9</td>\n",
       "      <td>37</td>\n",
       "      <td>101</td>\n",
       "    </tr>\n",
       "    <tr>\n",
       "      <th>4</th>\n",
       "      <td>74</td>\n",
       "      <td>689</td>\n",
       "      <td>5605</td>\n",
       "      <td>1515</td>\n",
       "      <td>289</td>\n",
       "      <td>49</td>\n",
       "      <td>151</td>\n",
       "      <td>455</td>\n",
       "      <td>1259</td>\n",
       "      <td>83</td>\n",
       "      <td>803</td>\n",
       "      <td>746</td>\n",
       "      <td>4.64</td>\n",
       "      <td>7</td>\n",
       "      <td>12</td>\n",
       "      <td>35</td>\n",
       "      <td>86</td>\n",
       "    </tr>\n",
       "    <tr>\n",
       "      <th>5</th>\n",
       "      <td>93</td>\n",
       "      <td>891</td>\n",
       "      <td>5509</td>\n",
       "      <td>1480</td>\n",
       "      <td>308</td>\n",
       "      <td>17</td>\n",
       "      <td>232</td>\n",
       "      <td>570</td>\n",
       "      <td>1151</td>\n",
       "      <td>88</td>\n",
       "      <td>670</td>\n",
       "      <td>609</td>\n",
       "      <td>3.80</td>\n",
       "      <td>7</td>\n",
       "      <td>10</td>\n",
       "      <td>34</td>\n",
       "      <td>88</td>\n",
       "    </tr>\n",
       "    <tr>\n",
       "      <th>6</th>\n",
       "      <td>87</td>\n",
       "      <td>764</td>\n",
       "      <td>5567</td>\n",
       "      <td>1397</td>\n",
       "      <td>272</td>\n",
       "      <td>19</td>\n",
       "      <td>212</td>\n",
       "      <td>554</td>\n",
       "      <td>1227</td>\n",
       "      <td>63</td>\n",
       "      <td>698</td>\n",
       "      <td>652</td>\n",
       "      <td>4.03</td>\n",
       "      <td>3</td>\n",
       "      <td>4</td>\n",
       "      <td>48</td>\n",
       "      <td>93</td>\n",
       "    </tr>\n",
       "    <tr>\n",
       "      <th>7</th>\n",
       "      <td>81</td>\n",
       "      <td>713</td>\n",
       "      <td>5485</td>\n",
       "      <td>1370</td>\n",
       "      <td>246</td>\n",
       "      <td>20</td>\n",
       "      <td>217</td>\n",
       "      <td>418</td>\n",
       "      <td>1331</td>\n",
       "      <td>44</td>\n",
       "      <td>693</td>\n",
       "      <td>646</td>\n",
       "      <td>4.05</td>\n",
       "      <td>0</td>\n",
       "      <td>10</td>\n",
       "      <td>43</td>\n",
       "      <td>77</td>\n",
       "    </tr>\n",
       "    <tr>\n",
       "      <th>8</th>\n",
       "      <td>80</td>\n",
       "      <td>644</td>\n",
       "      <td>5485</td>\n",
       "      <td>1383</td>\n",
       "      <td>278</td>\n",
       "      <td>32</td>\n",
       "      <td>167</td>\n",
       "      <td>436</td>\n",
       "      <td>1310</td>\n",
       "      <td>87</td>\n",
       "      <td>642</td>\n",
       "      <td>604</td>\n",
       "      <td>3.74</td>\n",
       "      <td>1</td>\n",
       "      <td>12</td>\n",
       "      <td>60</td>\n",
       "      <td>95</td>\n",
       "    </tr>\n",
       "    <tr>\n",
       "      <th>9</th>\n",
       "      <td>78</td>\n",
       "      <td>748</td>\n",
       "      <td>5640</td>\n",
       "      <td>1495</td>\n",
       "      <td>294</td>\n",
       "      <td>33</td>\n",
       "      <td>161</td>\n",
       "      <td>478</td>\n",
       "      <td>1148</td>\n",
       "      <td>71</td>\n",
       "      <td>753</td>\n",
       "      <td>694</td>\n",
       "      <td>4.31</td>\n",
       "      <td>3</td>\n",
       "      <td>10</td>\n",
       "      <td>40</td>\n",
       "      <td>97</td>\n",
       "    </tr>\n",
       "    <tr>\n",
       "      <th>10</th>\n",
       "      <td>88</td>\n",
       "      <td>751</td>\n",
       "      <td>5511</td>\n",
       "      <td>1419</td>\n",
       "      <td>279</td>\n",
       "      <td>32</td>\n",
       "      <td>172</td>\n",
       "      <td>503</td>\n",
       "      <td>1233</td>\n",
       "      <td>101</td>\n",
       "      <td>733</td>\n",
       "      <td>680</td>\n",
       "      <td>4.24</td>\n",
       "      <td>5</td>\n",
       "      <td>9</td>\n",
       "      <td>45</td>\n",
       "      <td>119</td>\n",
       "    </tr>\n",
       "    <tr>\n",
       "      <th>11</th>\n",
       "      <td>86</td>\n",
       "      <td>729</td>\n",
       "      <td>5459</td>\n",
       "      <td>1363</td>\n",
       "      <td>278</td>\n",
       "      <td>26</td>\n",
       "      <td>230</td>\n",
       "      <td>486</td>\n",
       "      <td>1392</td>\n",
       "      <td>121</td>\n",
       "      <td>618</td>\n",
       "      <td>572</td>\n",
       "      <td>3.57</td>\n",
       "      <td>5</td>\n",
       "      <td>13</td>\n",
       "      <td>39</td>\n",
       "      <td>85</td>\n",
       "    </tr>\n",
       "    <tr>\n",
       "      <th>12</th>\n",
       "      <td>85</td>\n",
       "      <td>661</td>\n",
       "      <td>5417</td>\n",
       "      <td>1331</td>\n",
       "      <td>243</td>\n",
       "      <td>21</td>\n",
       "      <td>176</td>\n",
       "      <td>435</td>\n",
       "      <td>1150</td>\n",
       "      <td>52</td>\n",
       "      <td>675</td>\n",
       "      <td>630</td>\n",
       "      <td>3.94</td>\n",
       "      <td>2</td>\n",
       "      <td>12</td>\n",
       "      <td>46</td>\n",
       "      <td>93</td>\n",
       "    </tr>\n",
       "    <tr>\n",
       "      <th>13</th>\n",
       "      <td>76</td>\n",
       "      <td>656</td>\n",
       "      <td>5544</td>\n",
       "      <td>1379</td>\n",
       "      <td>262</td>\n",
       "      <td>22</td>\n",
       "      <td>198</td>\n",
       "      <td>478</td>\n",
       "      <td>1336</td>\n",
       "      <td>69</td>\n",
       "      <td>726</td>\n",
       "      <td>677</td>\n",
       "      <td>4.16</td>\n",
       "      <td>6</td>\n",
       "      <td>12</td>\n",
       "      <td>45</td>\n",
       "      <td>94</td>\n",
       "    </tr>\n",
       "    <tr>\n",
       "      <th>14</th>\n",
       "      <td>68</td>\n",
       "      <td>694</td>\n",
       "      <td>5600</td>\n",
       "      <td>1405</td>\n",
       "      <td>277</td>\n",
       "      <td>46</td>\n",
       "      <td>146</td>\n",
       "      <td>475</td>\n",
       "      <td>1119</td>\n",
       "      <td>78</td>\n",
       "      <td>729</td>\n",
       "      <td>664</td>\n",
       "      <td>4.14</td>\n",
       "      <td>5</td>\n",
       "      <td>15</td>\n",
       "      <td>28</td>\n",
       "      <td>126</td>\n",
       "    </tr>\n",
       "    <tr>\n",
       "      <th>15</th>\n",
       "      <td>100</td>\n",
       "      <td>647</td>\n",
       "      <td>5484</td>\n",
       "      <td>1386</td>\n",
       "      <td>288</td>\n",
       "      <td>39</td>\n",
       "      <td>137</td>\n",
       "      <td>506</td>\n",
       "      <td>1267</td>\n",
       "      <td>69</td>\n",
       "      <td>525</td>\n",
       "      <td>478</td>\n",
       "      <td>2.94</td>\n",
       "      <td>1</td>\n",
       "      <td>15</td>\n",
       "      <td>62</td>\n",
       "      <td>96</td>\n",
       "    </tr>\n",
       "    <tr>\n",
       "      <th>16</th>\n",
       "      <td>98</td>\n",
       "      <td>697</td>\n",
       "      <td>5631</td>\n",
       "      <td>1462</td>\n",
       "      <td>292</td>\n",
       "      <td>27</td>\n",
       "      <td>140</td>\n",
       "      <td>461</td>\n",
       "      <td>1322</td>\n",
       "      <td>98</td>\n",
       "      <td>596</td>\n",
       "      <td>532</td>\n",
       "      <td>3.21</td>\n",
       "      <td>0</td>\n",
       "      <td>13</td>\n",
       "      <td>54</td>\n",
       "      <td>122</td>\n",
       "    </tr>\n",
       "    <tr>\n",
       "      <th>17</th>\n",
       "      <td>97</td>\n",
       "      <td>689</td>\n",
       "      <td>5491</td>\n",
       "      <td>1341</td>\n",
       "      <td>272</td>\n",
       "      <td>30</td>\n",
       "      <td>171</td>\n",
       "      <td>567</td>\n",
       "      <td>1518</td>\n",
       "      <td>95</td>\n",
       "      <td>608</td>\n",
       "      <td>546</td>\n",
       "      <td>3.36</td>\n",
       "      <td>6</td>\n",
       "      <td>21</td>\n",
       "      <td>48</td>\n",
       "      <td>111</td>\n",
       "    </tr>\n",
       "    <tr>\n",
       "      <th>18</th>\n",
       "      <td>68</td>\n",
       "      <td>655</td>\n",
       "      <td>5480</td>\n",
       "      <td>1378</td>\n",
       "      <td>274</td>\n",
       "      <td>34</td>\n",
       "      <td>145</td>\n",
       "      <td>412</td>\n",
       "      <td>1299</td>\n",
       "      <td>84</td>\n",
       "      <td>737</td>\n",
       "      <td>682</td>\n",
       "      <td>4.28</td>\n",
       "      <td>1</td>\n",
       "      <td>7</td>\n",
       "      <td>40</td>\n",
       "      <td>116</td>\n",
       "    </tr>\n",
       "    <tr>\n",
       "      <th>19</th>\n",
       "      <td>64</td>\n",
       "      <td>640</td>\n",
       "      <td>5571</td>\n",
       "      <td>1382</td>\n",
       "      <td>257</td>\n",
       "      <td>27</td>\n",
       "      <td>167</td>\n",
       "      <td>496</td>\n",
       "      <td>1255</td>\n",
       "      <td>134</td>\n",
       "      <td>754</td>\n",
       "      <td>700</td>\n",
       "      <td>4.33</td>\n",
       "      <td>2</td>\n",
       "      <td>8</td>\n",
       "      <td>35</td>\n",
       "      <td>90</td>\n",
       "    </tr>\n",
       "    <tr>\n",
       "      <th>20</th>\n",
       "      <td>90</td>\n",
       "      <td>683</td>\n",
       "      <td>5527</td>\n",
       "      <td>1351</td>\n",
       "      <td>295</td>\n",
       "      <td>17</td>\n",
       "      <td>177</td>\n",
       "      <td>488</td>\n",
       "      <td>1290</td>\n",
       "      <td>51</td>\n",
       "      <td>613</td>\n",
       "      <td>557</td>\n",
       "      <td>3.43</td>\n",
       "      <td>1</td>\n",
       "      <td>14</td>\n",
       "      <td>50</td>\n",
       "      <td>88</td>\n",
       "    </tr>\n",
       "    <tr>\n",
       "      <th>21</th>\n",
       "      <td>83</td>\n",
       "      <td>703</td>\n",
       "      <td>5428</td>\n",
       "      <td>1363</td>\n",
       "      <td>265</td>\n",
       "      <td>13</td>\n",
       "      <td>177</td>\n",
       "      <td>539</td>\n",
       "      <td>1344</td>\n",
       "      <td>57</td>\n",
       "      <td>635</td>\n",
       "      <td>577</td>\n",
       "      <td>3.62</td>\n",
       "      <td>4</td>\n",
       "      <td>13</td>\n",
       "      <td>41</td>\n",
       "      <td>90</td>\n",
       "    </tr>\n",
       "    <tr>\n",
       "      <th>22</th>\n",
       "      <td>71</td>\n",
       "      <td>613</td>\n",
       "      <td>5463</td>\n",
       "      <td>1420</td>\n",
       "      <td>236</td>\n",
       "      <td>40</td>\n",
       "      <td>120</td>\n",
       "      <td>375</td>\n",
       "      <td>1150</td>\n",
       "      <td>112</td>\n",
       "      <td>678</td>\n",
       "      <td>638</td>\n",
       "      <td>4.02</td>\n",
       "      <td>0</td>\n",
       "      <td>12</td>\n",
       "      <td>35</td>\n",
       "      <td>77</td>\n",
       "    </tr>\n",
       "    <tr>\n",
       "      <th>23</th>\n",
       "      <td>67</td>\n",
       "      <td>573</td>\n",
       "      <td>5420</td>\n",
       "      <td>1361</td>\n",
       "      <td>251</td>\n",
       "      <td>18</td>\n",
       "      <td>100</td>\n",
       "      <td>471</td>\n",
       "      <td>1107</td>\n",
       "      <td>69</td>\n",
       "      <td>760</td>\n",
       "      <td>698</td>\n",
       "      <td>4.41</td>\n",
       "      <td>3</td>\n",
       "      <td>10</td>\n",
       "      <td>44</td>\n",
       "      <td>90</td>\n",
       "    </tr>\n",
       "    <tr>\n",
       "      <th>24</th>\n",
       "      <td>63</td>\n",
       "      <td>626</td>\n",
       "      <td>5529</td>\n",
       "      <td>1374</td>\n",
       "      <td>272</td>\n",
       "      <td>37</td>\n",
       "      <td>130</td>\n",
       "      <td>387</td>\n",
       "      <td>1274</td>\n",
       "      <td>88</td>\n",
       "      <td>809</td>\n",
       "      <td>749</td>\n",
       "      <td>4.69</td>\n",
       "      <td>1</td>\n",
       "      <td>7</td>\n",
       "      <td>35</td>\n",
       "      <td>117</td>\n",
       "    </tr>\n",
       "    <tr>\n",
       "      <th>25</th>\n",
       "      <td>92</td>\n",
       "      <td>667</td>\n",
       "      <td>5385</td>\n",
       "      <td>1346</td>\n",
       "      <td>263</td>\n",
       "      <td>26</td>\n",
       "      <td>187</td>\n",
       "      <td>563</td>\n",
       "      <td>1258</td>\n",
       "      <td>59</td>\n",
       "      <td>595</td>\n",
       "      <td>553</td>\n",
       "      <td>3.44</td>\n",
       "      <td>6</td>\n",
       "      <td>21</td>\n",
       "      <td>47</td>\n",
       "      <td>75</td>\n",
       "    </tr>\n",
       "    <tr>\n",
       "      <th>26</th>\n",
       "      <td>84</td>\n",
       "      <td>696</td>\n",
       "      <td>5565</td>\n",
       "      <td>1486</td>\n",
       "      <td>288</td>\n",
       "      <td>39</td>\n",
       "      <td>136</td>\n",
       "      <td>457</td>\n",
       "      <td>1159</td>\n",
       "      <td>93</td>\n",
       "      <td>627</td>\n",
       "      <td>597</td>\n",
       "      <td>3.72</td>\n",
       "      <td>7</td>\n",
       "      <td>18</td>\n",
       "      <td>41</td>\n",
       "      <td>78</td>\n",
       "    </tr>\n",
       "    <tr>\n",
       "      <th>27</th>\n",
       "      <td>79</td>\n",
       "      <td>720</td>\n",
       "      <td>5649</td>\n",
       "      <td>1494</td>\n",
       "      <td>289</td>\n",
       "      <td>48</td>\n",
       "      <td>154</td>\n",
       "      <td>490</td>\n",
       "      <td>1312</td>\n",
       "      <td>132</td>\n",
       "      <td>713</td>\n",
       "      <td>659</td>\n",
       "      <td>4.04</td>\n",
       "      <td>1</td>\n",
       "      <td>12</td>\n",
       "      <td>44</td>\n",
       "      <td>86</td>\n",
       "    </tr>\n",
       "    <tr>\n",
       "      <th>28</th>\n",
       "      <td>74</td>\n",
       "      <td>650</td>\n",
       "      <td>5457</td>\n",
       "      <td>1324</td>\n",
       "      <td>260</td>\n",
       "      <td>36</td>\n",
       "      <td>148</td>\n",
       "      <td>426</td>\n",
       "      <td>1327</td>\n",
       "      <td>82</td>\n",
       "      <td>731</td>\n",
       "      <td>655</td>\n",
       "      <td>4.09</td>\n",
       "      <td>1</td>\n",
       "      <td>6</td>\n",
       "      <td>41</td>\n",
       "      <td>92</td>\n",
       "    </tr>\n",
       "    <tr>\n",
       "      <th>29</th>\n",
       "      <td>68</td>\n",
       "      <td>737</td>\n",
       "      <td>5572</td>\n",
       "      <td>1479</td>\n",
       "      <td>274</td>\n",
       "      <td>49</td>\n",
       "      <td>186</td>\n",
       "      <td>388</td>\n",
       "      <td>1283</td>\n",
       "      <td>97</td>\n",
       "      <td>844</td>\n",
       "      <td>799</td>\n",
       "      <td>5.04</td>\n",
       "      <td>4</td>\n",
       "      <td>4</td>\n",
       "      <td>36</td>\n",
       "      <td>95</td>\n",
       "    </tr>\n",
       "  </tbody>\n",
       "</table>\n",
       "</div>"
      ],
      "text/plain": [
       "      W    R    AB     H   2B  3B   HR   BB    SO   SB   RA   ER   ERA  CG  \\\n",
       "0    95  724  5575  1497  300  42  139  383   973  104  641  601  3.73   2   \n",
       "1    83  696  5467  1349  277  44  156  439  1264   70  700  653  4.07   2   \n",
       "2    81  669  5439  1395  303  29  141  533  1157   86  640  584  3.67  11   \n",
       "3    76  622  5533  1381  260  27  136  404  1231   68  701  643  3.98   7   \n",
       "4    74  689  5605  1515  289  49  151  455  1259   83  803  746  4.64   7   \n",
       "5    93  891  5509  1480  308  17  232  570  1151   88  670  609  3.80   7   \n",
       "6    87  764  5567  1397  272  19  212  554  1227   63  698  652  4.03   3   \n",
       "7    81  713  5485  1370  246  20  217  418  1331   44  693  646  4.05   0   \n",
       "8    80  644  5485  1383  278  32  167  436  1310   87  642  604  3.74   1   \n",
       "9    78  748  5640  1495  294  33  161  478  1148   71  753  694  4.31   3   \n",
       "10   88  751  5511  1419  279  32  172  503  1233  101  733  680  4.24   5   \n",
       "11   86  729  5459  1363  278  26  230  486  1392  121  618  572  3.57   5   \n",
       "12   85  661  5417  1331  243  21  176  435  1150   52  675  630  3.94   2   \n",
       "13   76  656  5544  1379  262  22  198  478  1336   69  726  677  4.16   6   \n",
       "14   68  694  5600  1405  277  46  146  475  1119   78  729  664  4.14   5   \n",
       "15  100  647  5484  1386  288  39  137  506  1267   69  525  478  2.94   1   \n",
       "16   98  697  5631  1462  292  27  140  461  1322   98  596  532  3.21   0   \n",
       "17   97  689  5491  1341  272  30  171  567  1518   95  608  546  3.36   6   \n",
       "18   68  655  5480  1378  274  34  145  412  1299   84  737  682  4.28   1   \n",
       "19   64  640  5571  1382  257  27  167  496  1255  134  754  700  4.33   2   \n",
       "20   90  683  5527  1351  295  17  177  488  1290   51  613  557  3.43   1   \n",
       "21   83  703  5428  1363  265  13  177  539  1344   57  635  577  3.62   4   \n",
       "22   71  613  5463  1420  236  40  120  375  1150  112  678  638  4.02   0   \n",
       "23   67  573  5420  1361  251  18  100  471  1107   69  760  698  4.41   3   \n",
       "24   63  626  5529  1374  272  37  130  387  1274   88  809  749  4.69   1   \n",
       "25   92  667  5385  1346  263  26  187  563  1258   59  595  553  3.44   6   \n",
       "26   84  696  5565  1486  288  39  136  457  1159   93  627  597  3.72   7   \n",
       "27   79  720  5649  1494  289  48  154  490  1312  132  713  659  4.04   1   \n",
       "28   74  650  5457  1324  260  36  148  426  1327   82  731  655  4.09   1   \n",
       "29   68  737  5572  1479  274  49  186  388  1283   97  844  799  5.04   4   \n",
       "\n",
       "    SHO  SV    E  \n",
       "0     8  56   88  \n",
       "1    12  45   86  \n",
       "2    10  38   79  \n",
       "3     9  37  101  \n",
       "4    12  35   86  \n",
       "5    10  34   88  \n",
       "6     4  48   93  \n",
       "7    10  43   77  \n",
       "8    12  60   95  \n",
       "9    10  40   97  \n",
       "10    9  45  119  \n",
       "11   13  39   85  \n",
       "12   12  46   93  \n",
       "13   12  45   94  \n",
       "14   15  28  126  \n",
       "15   15  62   96  \n",
       "16   13  54  122  \n",
       "17   21  48  111  \n",
       "18    7  40  116  \n",
       "19    8  35   90  \n",
       "20   14  50   88  \n",
       "21   13  41   90  \n",
       "22   12  35   77  \n",
       "23   10  44   90  \n",
       "24    7  35  117  \n",
       "25   21  47   75  \n",
       "26   18  41   78  \n",
       "27   12  44   86  \n",
       "28    6  41   92  \n",
       "29    4  36   95  "
      ]
     },
     "execution_count": 1,
     "metadata": {},
     "output_type": "execute_result"
    }
   ],
   "source": [
    "#loading the dataset\n",
    "\n",
    "import pandas as pd\n",
    "import numpy as np\n",
    "\n",
    "df=pd.read_csv(\"baseballcasestudy.csv\")\n",
    "df"
   ]
  },
  {
   "cell_type": "code",
   "execution_count": 2,
   "id": "99a9b349",
   "metadata": {},
   "outputs": [
    {
     "data": {
      "text/plain": [
       "W      0\n",
       "R      0\n",
       "AB     0\n",
       "H      0\n",
       "2B     0\n",
       "3B     0\n",
       "HR     0\n",
       "BB     0\n",
       "SO     0\n",
       "SB     0\n",
       "RA     0\n",
       "ER     0\n",
       "ERA    0\n",
       "CG     0\n",
       "SHO    0\n",
       "SV     0\n",
       "E      0\n",
       "dtype: int64"
      ]
     },
     "execution_count": 2,
     "metadata": {},
     "output_type": "execute_result"
    }
   ],
   "source": [
    "#checking for null values\n",
    "\n",
    "df.isnull().sum()"
   ]
  },
  {
   "cell_type": "code",
   "execution_count": 3,
   "id": "1cf7d8c3",
   "metadata": {},
   "outputs": [],
   "source": [
    "import seaborn as sns\n",
    "import matplotlib.pyplot as plt\n",
    "import warnings\n",
    "warnings.filterwarnings('ignore')"
   ]
  },
  {
   "cell_type": "code",
   "execution_count": 4,
   "id": "f148141b",
   "metadata": {},
   "outputs": [
    {
     "data": {
      "text/plain": [
       "<AxesSubplot:>"
      ]
     },
     "execution_count": 4,
     "metadata": {},
     "output_type": "execute_result"
    },
    {
     "data": {
      "image/png": "[encoded data removed]",
      "text/plain": [
       "<Figure size 432x288 with 2 Axes>"
      ]
     },
     "metadata": {
      "needs_background": "light"
     },
     "output_type": "display_data"
    }
   ],
   "source": [
    "sns.heatmap(df.isnull())"
   ]
  },
  {
   "cell_type": "code",
   "execution_count": 5,
   "id": "1bd37ec8",
   "metadata": {},
   "outputs": [
    {
     "data": {
      "text/plain": [
       "W        int64\n",
       "R        int64\n",
       "AB       int64\n",
       "H        int64\n",
       "2B       int64\n",
       "3B       int64\n",
       "HR       int64\n",
       "BB       int64\n",
       "SO       int64\n",
       "SB       int64\n",
       "RA       int64\n",
       "ER       int64\n",
       "ERA    float64\n",
       "CG       int64\n",
       "SHO      int64\n",
       "SV       int64\n",
       "E        int64\n",
       "dtype: object"
      ]
     },
     "execution_count": 5,
     "metadata": {},
     "output_type": "execute_result"
    }
   ],
   "source": [
    "#checking for datatypes\n",
    "\n",
    "df.dtypes"
   ]
  },
  {
   "cell_type": "markdown",
   "id": "3c8a955f",
   "metadata": {},
   "source": [
    "- okay, so no null values are present in the dataset\n",
    "- all columns has integer type datatype so we will jump to EDA."
   ]
  },
  {
   "cell_type": "markdown",
   "id": "0766973d",
   "metadata": {},
   "source": [
    "# EDA"
   ]
  },
  {
   "cell_type": "code",
   "execution_count": 6,
   "id": "b7b05bc9",
   "metadata": {},
   "outputs": [
    {
     "data": {
      "text/plain": [
       "Index(['W', 'R', 'AB', 'H', '2B', '3B', 'HR', 'BB', 'SO', 'SB', 'RA', 'ER',\n",
       "       'ERA', 'CG', 'SHO', 'SV', 'E'],\n",
       "      dtype='object')"
      ]
     },
     "execution_count": 6,
     "metadata": {},
     "output_type": "execute_result"
    }
   ],
   "source": [
    "df.columns"
   ]
  },
  {
   "cell_type": "code",
   "execution_count": 12,
   "id": "c8c1600e",
   "metadata": {},
   "outputs": [],
   "source": [
    "def reg(x):\n",
    "    sns.regplot(x,'W',data=df)\n",
    "    plt.show()"
   ]
  },
  {
   "cell_type": "code",
   "execution_count": 13,
   "id": "6259a3fe",
   "metadata": {},
   "outputs": [
    {
     "data": {
      "image/png": "[encoded data removed]",
      "text/plain": [
       "<Figure size 432x288 with 1 Axes>"
      ]
     },
     "metadata": {
      "needs_background": "light"
     },
     "output_type": "display_data"
    }
   ],
   "source": [
    "reg('R')"
   ]
  },
  {
   "cell_type": "markdown",
   "id": "2a6bde8c",
   "metadata": {},
   "source": [
    "- okay so it can be seen that data isn't distributed well for 'R' column with our target variable 'W'"
   ]
  },
  {
   "cell_type": "code",
   "execution_count": 14,
   "id": "db3e820e",
   "metadata": {},
   "outputs": [
    {
     "data": {
      "image/png": "[encoded data removed]",
      "text/plain": [
       "<Figure size 432x288 with 1 Axes>"
      ]
     },
     "metadata": {
      "needs_background": "light"
     },
     "output_type": "display_data"
    }
   ],
   "source": [
    "reg('AB')"
   ]
  },
  {
   "cell_type": "markdown",
   "id": "eb9490b5",
   "metadata": {},
   "source": [
    "- okay so data for 'AB' with respect to 'W' is poorly distributed"
   ]
  },
  {
   "cell_type": "code",
   "execution_count": 15,
   "id": "d61be09e",
   "metadata": {},
   "outputs": [
    {
     "data": {
      "image/png": "[encoded data removed]",
      "text/plain": [
       "<Figure size 432x288 with 1 Axes>"
      ]
     },
     "metadata": {
      "needs_background": "light"
     },
     "output_type": "display_data"
    }
   ],
   "source": [
    "reg('H')"
   ]
  },
  {
   "cell_type": "markdown",
   "id": "ca470a81",
   "metadata": {},
   "source": [
    "- data distribution is poor"
   ]
  },
  {
   "cell_type": "code",
   "execution_count": 16,
   "id": "bc9e838d",
   "metadata": {},
   "outputs": [
    {
     "data": {
      "image/png": "[encoded data removed]",
      "text/plain": [
       "<Figure size 432x288 with 1 Axes>"
      ]
     },
     "metadata": {
      "needs_background": "light"
     },
     "output_type": "display_data"
    }
   ],
   "source": [
    "reg('2B')"
   ]
  },
  {
   "cell_type": "markdown",
   "id": "fbecd92e",
   "metadata": {},
   "source": [
    "- it can be seen that the slope for '2B' w.r.t is positive"
   ]
  },
  {
   "cell_type": "code",
   "execution_count": 17,
   "id": "f267546f",
   "metadata": {},
   "outputs": [
    {
     "data": {
      "image/png": "[encoded data removed]",
      "text/plain": [
       "<Figure size 432x288 with 1 Axes>"
      ]
     },
     "metadata": {
      "needs_background": "light"
     },
     "output_type": "display_data"
    }
   ],
   "source": [
    "reg('3B')"
   ]
  },
  {
   "cell_type": "markdown",
   "id": "675d1ebd",
   "metadata": {},
   "source": [
    "- the '3B' has slightly negative slope w.r.t to the target variable"
   ]
  },
  {
   "cell_type": "code",
   "execution_count": 18,
   "id": "c082bc99",
   "metadata": {},
   "outputs": [
    {
     "data": {
      "image/png": "[encoded data removed]",
      "text/plain": [
       "<Figure size 432x288 with 1 Axes>"
      ]
     },
     "metadata": {
      "needs_background": "light"
     },
     "output_type": "display_data"
    }
   ],
   "source": [
    "reg('HR')"
   ]
  },
  {
   "cell_type": "markdown",
   "id": "d33e06e4",
   "metadata": {},
   "source": [
    "- positive slope skewness might also be present"
   ]
  },
  {
   "cell_type": "code",
   "execution_count": 19,
   "id": "51dbd2d9",
   "metadata": {},
   "outputs": [
    {
     "data": {
      "image/png": "[encoded data removed]",
      "text/plain": [
       "<Figure size 432x288 with 1 Axes>"
      ]
     },
     "metadata": {
      "needs_background": "light"
     },
     "output_type": "display_data"
    }
   ],
   "source": [
    "reg('BB')"
   ]
  },
  {
   "cell_type": "markdown",
   "id": "ef7855fe",
   "metadata": {},
   "source": [
    "- positive slope and the data is distributed well as well"
   ]
  },
  {
   "cell_type": "code",
   "execution_count": 20,
   "id": "c4630df3",
   "metadata": {},
   "outputs": [
    {
     "data": {
      "image/png": "[encoded data removed]",
      "text/plain": [
       "<Figure size 432x288 with 1 Axes>"
      ]
     },
     "metadata": {
      "needs_background": "light"
     },
     "output_type": "display_data"
    }
   ],
   "source": [
    "reg('SO')"
   ]
  },
  {
   "cell_type": "markdown",
   "id": "8d4428cb",
   "metadata": {},
   "source": [
    "- the data is concentarted at middle ranges, so it might has one or two outliers"
   ]
  },
  {
   "cell_type": "code",
   "execution_count": 21,
   "id": "59751bdd",
   "metadata": {},
   "outputs": [
    {
     "data": {
      "image/png": "[encoded data removed]",
      "text/plain": [
       "<Figure size 432x288 with 1 Axes>"
      ]
     },
     "metadata": {
      "needs_background": "light"
     },
     "output_type": "display_data"
    }
   ],
   "source": [
    "reg('SB')"
   ]
  },
  {
   "cell_type": "markdown",
   "id": "3212f532",
   "metadata": {},
   "source": [
    "- negative slope, poor distribution"
   ]
  },
  {
   "cell_type": "code",
   "execution_count": 22,
   "id": "c9764ba9",
   "metadata": {},
   "outputs": [
    {
     "data": {
      "image/png": "[encoded data removed]",
      "text/plain": [
       "<Figure size 432x288 with 1 Axes>"
      ]
     },
     "metadata": {
      "needs_background": "light"
     },
     "output_type": "display_data"
    }
   ],
   "source": [
    "reg('RA')"
   ]
  },
  {
   "cell_type": "markdown",
   "id": "d9825f8e",
   "metadata": {},
   "source": [
    "- highly negative slope, good distribution of data, less chances of skewness"
   ]
  },
  {
   "cell_type": "code",
   "execution_count": 23,
   "id": "b08606d5",
   "metadata": {},
   "outputs": [
    {
     "data": {
      "image/png": "[encoded data removed]",
      "text/plain": [
       "<Figure size 432x288 with 1 Axes>"
      ]
     },
     "metadata": {
      "needs_background": "light"
     },
     "output_type": "display_data"
    }
   ],
   "source": [
    "reg('ER')"
   ]
  },
  {
   "cell_type": "markdown",
   "id": "d560140d",
   "metadata": {},
   "source": [
    "- highly negative slope, good distribution of data, less chances of skewness"
   ]
  },
  {
   "cell_type": "code",
   "execution_count": 24,
   "id": "fb157fbc",
   "metadata": {},
   "outputs": [
    {
     "data": {
      "image/png": "[encoded data removed]",
      "text/plain": [
       "<Figure size 432x288 with 1 Axes>"
      ]
     },
     "metadata": {
      "needs_background": "light"
     },
     "output_type": "display_data"
    }
   ],
   "source": [
    "reg('ERA')"
   ]
  },
  {
   "cell_type": "markdown",
   "id": "70dd3762",
   "metadata": {},
   "source": [
    "- highly negative slope, good distribution of data, less chances of skewness"
   ]
  },
  {
   "cell_type": "code",
   "execution_count": 25,
   "id": "c40204f1",
   "metadata": {},
   "outputs": [
    {
     "data": {
      "image/png": "[encoded data removed]",
      "text/plain": [
       "<Figure size 432x288 with 1 Axes>"
      ]
     },
     "metadata": {
      "needs_background": "light"
     },
     "output_type": "display_data"
    }
   ],
   "source": [
    "reg('CG')"
   ]
  },
  {
   "cell_type": "markdown",
   "id": "fbbc2094",
   "metadata": {},
   "source": [
    "- poor distribution of data"
   ]
  },
  {
   "cell_type": "code",
   "execution_count": 26,
   "id": "338c7447",
   "metadata": {},
   "outputs": [
    {
     "data": {
      "image/png": "[encoded data removed]",
      "text/plain": [
       "<Figure size 432x288 with 1 Axes>"
      ]
     },
     "metadata": {
      "needs_background": "light"
     },
     "output_type": "display_data"
    }
   ],
   "source": [
    "reg('SHO')"
   ]
  },
  {
   "cell_type": "markdown",
   "id": "b97db3ac",
   "metadata": {},
   "source": [
    "- positive slope, data distribution is fine only"
   ]
  },
  {
   "cell_type": "code",
   "execution_count": 27,
   "id": "8e726afd",
   "metadata": {},
   "outputs": [
    {
     "data": {
      "image/png": "[encoded data removed]",
      "text/plain": [
       "<Figure size 432x288 with 1 Axes>"
      ]
     },
     "metadata": {
      "needs_background": "light"
     },
     "output_type": "display_data"
    }
   ],
   "source": [
    "reg('SV')"
   ]
  },
  {
   "cell_type": "markdown",
   "id": "08bacbb2",
   "metadata": {},
   "source": [
    "- range 35-50 has the hughest concentration of data, poitive slope is present"
   ]
  },
  {
   "cell_type": "code",
   "execution_count": 28,
   "id": "d3bbfbb9",
   "metadata": {},
   "outputs": [
    {
     "data": {
      "image/png": "[encoded data removed]",
      "text/plain": [
       "<Figure size 432x288 with 1 Axes>"
      ]
     },
     "metadata": {
      "needs_background": "light"
     },
     "output_type": "display_data"
    }
   ],
   "source": [
    "reg('E')"
   ]
  },
  {
   "cell_type": "markdown",
   "id": "be081a7e",
   "metadata": {},
   "source": [
    "- poor distribution of data"
   ]
  },
  {
   "cell_type": "code",
   "execution_count": 29,
   "id": "8d3e6321",
   "metadata": {},
   "outputs": [
    {
     "data": {
      "text/html": [
       "<div>\n",
       "<style scoped>\n",
       "    .dataframe tbody tr th:only-of-type {\n",
       "        vertical-align: middle;\n",
       "    }\n",
       "\n",
       "    .dataframe tbody tr th {\n",
       "        vertical-align: top;\n",
       "    }\n",
       "\n",
       "    .dataframe thead th {\n",
       "        text-align: right;\n",
       "    }\n",
       "</style>\n",
       "<table border=\"1\" class=\"dataframe\">\n",
       "  <thead>\n",
       "    <tr style=\"text-align: right;\">\n",
       "      <th></th>\n",
       "      <th>W</th>\n",
       "      <th>R</th>\n",
       "      <th>AB</th>\n",
       "      <th>H</th>\n",
       "      <th>2B</th>\n",
       "      <th>3B</th>\n",
       "      <th>HR</th>\n",
       "      <th>BB</th>\n",
       "      <th>SO</th>\n",
       "      <th>SB</th>\n",
       "      <th>RA</th>\n",
       "      <th>ER</th>\n",
       "      <th>ERA</th>\n",
       "      <th>CG</th>\n",
       "      <th>SHO</th>\n",
       "      <th>SV</th>\n",
       "      <th>E</th>\n",
       "    </tr>\n",
       "  </thead>\n",
       "  <tbody>\n",
       "    <tr>\n",
       "      <th>W</th>\n",
       "      <td>1.000000</td>\n",
       "      <td>0.430751</td>\n",
       "      <td>-0.087947</td>\n",
       "      <td>0.037612</td>\n",
       "      <td>0.427797</td>\n",
       "      <td>-0.251118</td>\n",
       "      <td>0.307407</td>\n",
       "      <td>0.484342</td>\n",
       "      <td>0.111850</td>\n",
       "      <td>-0.157234</td>\n",
       "      <td>-0.812952</td>\n",
       "      <td>-0.809435</td>\n",
       "      <td>-0.819600</td>\n",
       "      <td>0.080533</td>\n",
       "      <td>0.471805</td>\n",
       "      <td>0.666530</td>\n",
       "      <td>-0.089485</td>\n",
       "    </tr>\n",
       "    <tr>\n",
       "      <th>R</th>\n",
       "      <td>0.430751</td>\n",
       "      <td>1.000000</td>\n",
       "      <td>0.319464</td>\n",
       "      <td>0.482856</td>\n",
       "      <td>0.560084</td>\n",
       "      <td>-0.070072</td>\n",
       "      <td>0.671283</td>\n",
       "      <td>0.402452</td>\n",
       "      <td>-0.054726</td>\n",
       "      <td>0.081367</td>\n",
       "      <td>-0.041623</td>\n",
       "      <td>-0.041245</td>\n",
       "      <td>-0.049281</td>\n",
       "      <td>0.232042</td>\n",
       "      <td>-0.103274</td>\n",
       "      <td>-0.096380</td>\n",
       "      <td>-0.023262</td>\n",
       "    </tr>\n",
       "    <tr>\n",
       "      <th>AB</th>\n",
       "      <td>-0.087947</td>\n",
       "      <td>0.319464</td>\n",
       "      <td>1.000000</td>\n",
       "      <td>0.739122</td>\n",
       "      <td>0.453370</td>\n",
       "      <td>0.435422</td>\n",
       "      <td>-0.066983</td>\n",
       "      <td>-0.136414</td>\n",
       "      <td>-0.106022</td>\n",
       "      <td>0.372618</td>\n",
       "      <td>0.316010</td>\n",
       "      <td>0.309686</td>\n",
       "      <td>0.255551</td>\n",
       "      <td>-0.080876</td>\n",
       "      <td>-0.197321</td>\n",
       "      <td>-0.106367</td>\n",
       "      <td>0.316743</td>\n",
       "    </tr>\n",
       "    <tr>\n",
       "      <th>H</th>\n",
       "      <td>0.037612</td>\n",
       "      <td>0.482856</td>\n",
       "      <td>0.739122</td>\n",
       "      <td>1.000000</td>\n",
       "      <td>0.566847</td>\n",
       "      <td>0.478694</td>\n",
       "      <td>-0.090855</td>\n",
       "      <td>-0.118281</td>\n",
       "      <td>-0.398830</td>\n",
       "      <td>0.413444</td>\n",
       "      <td>0.224324</td>\n",
       "      <td>0.252489</td>\n",
       "      <td>0.231172</td>\n",
       "      <td>0.147955</td>\n",
       "      <td>-0.145559</td>\n",
       "      <td>-0.130371</td>\n",
       "      <td>-0.033173</td>\n",
       "    </tr>\n",
       "    <tr>\n",
       "      <th>2B</th>\n",
       "      <td>0.427797</td>\n",
       "      <td>0.560084</td>\n",
       "      <td>0.453370</td>\n",
       "      <td>0.566847</td>\n",
       "      <td>1.000000</td>\n",
       "      <td>0.220490</td>\n",
       "      <td>0.056292</td>\n",
       "      <td>0.302700</td>\n",
       "      <td>-0.150752</td>\n",
       "      <td>0.195027</td>\n",
       "      <td>-0.218160</td>\n",
       "      <td>-0.235531</td>\n",
       "      <td>-0.254854</td>\n",
       "      <td>0.306675</td>\n",
       "      <td>0.057998</td>\n",
       "      <td>0.171576</td>\n",
       "      <td>0.105754</td>\n",
       "    </tr>\n",
       "    <tr>\n",
       "      <th>3B</th>\n",
       "      <td>-0.251118</td>\n",
       "      <td>-0.070072</td>\n",
       "      <td>0.435422</td>\n",
       "      <td>0.478694</td>\n",
       "      <td>0.220490</td>\n",
       "      <td>1.000000</td>\n",
       "      <td>-0.430915</td>\n",
       "      <td>-0.454949</td>\n",
       "      <td>-0.141196</td>\n",
       "      <td>0.457437</td>\n",
       "      <td>0.314125</td>\n",
       "      <td>0.340225</td>\n",
       "      <td>0.330951</td>\n",
       "      <td>-0.065898</td>\n",
       "      <td>-0.041396</td>\n",
       "      <td>-0.142370</td>\n",
       "      <td>0.126678</td>\n",
       "    </tr>\n",
       "    <tr>\n",
       "      <th>HR</th>\n",
       "      <td>0.307407</td>\n",
       "      <td>0.671283</td>\n",
       "      <td>-0.066983</td>\n",
       "      <td>-0.090855</td>\n",
       "      <td>0.056292</td>\n",
       "      <td>-0.430915</td>\n",
       "      <td>1.000000</td>\n",
       "      <td>0.425691</td>\n",
       "      <td>0.359923</td>\n",
       "      <td>-0.136567</td>\n",
       "      <td>-0.103903</td>\n",
       "      <td>-0.085922</td>\n",
       "      <td>-0.090917</td>\n",
       "      <td>0.156502</td>\n",
       "      <td>-0.019119</td>\n",
       "      <td>-0.028540</td>\n",
       "      <td>-0.207597</td>\n",
       "    </tr>\n",
       "    <tr>\n",
       "      <th>BB</th>\n",
       "      <td>0.484342</td>\n",
       "      <td>0.402452</td>\n",
       "      <td>-0.136414</td>\n",
       "      <td>-0.118281</td>\n",
       "      <td>0.302700</td>\n",
       "      <td>-0.454949</td>\n",
       "      <td>0.425691</td>\n",
       "      <td>1.000000</td>\n",
       "      <td>0.233652</td>\n",
       "      <td>-0.098347</td>\n",
       "      <td>-0.416445</td>\n",
       "      <td>-0.452663</td>\n",
       "      <td>-0.459832</td>\n",
       "      <td>0.462478</td>\n",
       "      <td>0.426004</td>\n",
       "      <td>0.099445</td>\n",
       "      <td>-0.075685</td>\n",
       "    </tr>\n",
       "    <tr>\n",
       "      <th>SO</th>\n",
       "      <td>0.111850</td>\n",
       "      <td>-0.054726</td>\n",
       "      <td>-0.106022</td>\n",
       "      <td>-0.398830</td>\n",
       "      <td>-0.150752</td>\n",
       "      <td>-0.141196</td>\n",
       "      <td>0.359923</td>\n",
       "      <td>0.233652</td>\n",
       "      <td>1.000000</td>\n",
       "      <td>0.030968</td>\n",
       "      <td>-0.129745</td>\n",
       "      <td>-0.161612</td>\n",
       "      <td>-0.180368</td>\n",
       "      <td>-0.093418</td>\n",
       "      <td>0.237721</td>\n",
       "      <td>0.126297</td>\n",
       "      <td>0.155133</td>\n",
       "    </tr>\n",
       "    <tr>\n",
       "      <th>SB</th>\n",
       "      <td>-0.157234</td>\n",
       "      <td>0.081367</td>\n",
       "      <td>0.372618</td>\n",
       "      <td>0.413444</td>\n",
       "      <td>0.195027</td>\n",
       "      <td>0.457437</td>\n",
       "      <td>-0.136567</td>\n",
       "      <td>-0.098347</td>\n",
       "      <td>0.030968</td>\n",
       "      <td>1.000000</td>\n",
       "      <td>0.132290</td>\n",
       "      <td>0.143068</td>\n",
       "      <td>0.126063</td>\n",
       "      <td>-0.020783</td>\n",
       "      <td>-0.106563</td>\n",
       "      <td>-0.183418</td>\n",
       "      <td>0.079149</td>\n",
       "    </tr>\n",
       "    <tr>\n",
       "      <th>RA</th>\n",
       "      <td>-0.812952</td>\n",
       "      <td>-0.041623</td>\n",
       "      <td>0.316010</td>\n",
       "      <td>0.224324</td>\n",
       "      <td>-0.218160</td>\n",
       "      <td>0.314125</td>\n",
       "      <td>-0.103903</td>\n",
       "      <td>-0.416445</td>\n",
       "      <td>-0.129745</td>\n",
       "      <td>0.132290</td>\n",
       "      <td>1.000000</td>\n",
       "      <td>0.991018</td>\n",
       "      <td>0.986674</td>\n",
       "      <td>-0.016659</td>\n",
       "      <td>-0.636862</td>\n",
       "      <td>-0.616224</td>\n",
       "      <td>0.198996</td>\n",
       "    </tr>\n",
       "    <tr>\n",
       "      <th>ER</th>\n",
       "      <td>-0.809435</td>\n",
       "      <td>-0.041245</td>\n",
       "      <td>0.309686</td>\n",
       "      <td>0.252489</td>\n",
       "      <td>-0.235531</td>\n",
       "      <td>0.340225</td>\n",
       "      <td>-0.085922</td>\n",
       "      <td>-0.452663</td>\n",
       "      <td>-0.161612</td>\n",
       "      <td>0.143068</td>\n",
       "      <td>0.991018</td>\n",
       "      <td>1.000000</td>\n",
       "      <td>0.997248</td>\n",
       "      <td>-0.020221</td>\n",
       "      <td>-0.630192</td>\n",
       "      <td>-0.589663</td>\n",
       "      <td>0.136921</td>\n",
       "    </tr>\n",
       "    <tr>\n",
       "      <th>ERA</th>\n",
       "      <td>-0.819600</td>\n",
       "      <td>-0.049281</td>\n",
       "      <td>0.255551</td>\n",
       "      <td>0.231172</td>\n",
       "      <td>-0.254854</td>\n",
       "      <td>0.330951</td>\n",
       "      <td>-0.090917</td>\n",
       "      <td>-0.459832</td>\n",
       "      <td>-0.180368</td>\n",
       "      <td>0.126063</td>\n",
       "      <td>0.986674</td>\n",
       "      <td>0.997248</td>\n",
       "      <td>1.000000</td>\n",
       "      <td>-0.009856</td>\n",
       "      <td>-0.630833</td>\n",
       "      <td>-0.607005</td>\n",
       "      <td>0.113137</td>\n",
       "    </tr>\n",
       "    <tr>\n",
       "      <th>CG</th>\n",
       "      <td>0.080533</td>\n",
       "      <td>0.232042</td>\n",
       "      <td>-0.080876</td>\n",
       "      <td>0.147955</td>\n",
       "      <td>0.306675</td>\n",
       "      <td>-0.065898</td>\n",
       "      <td>0.156502</td>\n",
       "      <td>0.462478</td>\n",
       "      <td>-0.093418</td>\n",
       "      <td>-0.020783</td>\n",
       "      <td>-0.016659</td>\n",
       "      <td>-0.020221</td>\n",
       "      <td>-0.009856</td>\n",
       "      <td>1.000000</td>\n",
       "      <td>0.241676</td>\n",
       "      <td>-0.367766</td>\n",
       "      <td>-0.140047</td>\n",
       "    </tr>\n",
       "    <tr>\n",
       "      <th>SHO</th>\n",
       "      <td>0.471805</td>\n",
       "      <td>-0.103274</td>\n",
       "      <td>-0.197321</td>\n",
       "      <td>-0.145559</td>\n",
       "      <td>0.057998</td>\n",
       "      <td>-0.041396</td>\n",
       "      <td>-0.019119</td>\n",
       "      <td>0.426004</td>\n",
       "      <td>0.237721</td>\n",
       "      <td>-0.106563</td>\n",
       "      <td>-0.636862</td>\n",
       "      <td>-0.630192</td>\n",
       "      <td>-0.630833</td>\n",
       "      <td>0.241676</td>\n",
       "      <td>1.000000</td>\n",
       "      <td>0.221639</td>\n",
       "      <td>-0.115716</td>\n",
       "    </tr>\n",
       "    <tr>\n",
       "      <th>SV</th>\n",
       "      <td>0.666530</td>\n",
       "      <td>-0.096380</td>\n",
       "      <td>-0.106367</td>\n",
       "      <td>-0.130371</td>\n",
       "      <td>0.171576</td>\n",
       "      <td>-0.142370</td>\n",
       "      <td>-0.028540</td>\n",
       "      <td>0.099445</td>\n",
       "      <td>0.126297</td>\n",
       "      <td>-0.183418</td>\n",
       "      <td>-0.616224</td>\n",
       "      <td>-0.589663</td>\n",
       "      <td>-0.607005</td>\n",
       "      <td>-0.367766</td>\n",
       "      <td>0.221639</td>\n",
       "      <td>1.000000</td>\n",
       "      <td>-0.025636</td>\n",
       "    </tr>\n",
       "    <tr>\n",
       "      <th>E</th>\n",
       "      <td>-0.089485</td>\n",
       "      <td>-0.023262</td>\n",
       "      <td>0.316743</td>\n",
       "      <td>-0.033173</td>\n",
       "      <td>0.105754</td>\n",
       "      <td>0.126678</td>\n",
       "      <td>-0.207597</td>\n",
       "      <td>-0.075685</td>\n",
       "      <td>0.155133</td>\n",
       "      <td>0.079149</td>\n",
       "      <td>0.198996</td>\n",
       "      <td>0.136921</td>\n",
       "      <td>0.113137</td>\n",
       "      <td>-0.140047</td>\n",
       "      <td>-0.115716</td>\n",
       "      <td>-0.025636</td>\n",
       "      <td>1.000000</td>\n",
       "    </tr>\n",
       "  </tbody>\n",
       "</table>\n",
       "</div>"
      ],
      "text/plain": [
       "            W         R        AB         H        2B        3B        HR  \\\n",
       "W    1.000000  0.430751 -0.087947  0.037612  0.427797 -0.251118  0.307407   \n",
       "R    0.430751  1.000000  0.319464  0.482856  0.560084 -0.070072  0.671283   \n",
       "AB  -0.087947  0.319464  1.000000  0.739122  0.453370  0.435422 -0.066983   \n",
       "H    0.037612  0.482856  0.739122  1.000000  0.566847  0.478694 -0.090855   \n",
       "2B   0.427797  0.560084  0.453370  0.566847  1.000000  0.220490  0.056292   \n",
       "3B  -0.251118 -0.070072  0.435422  0.478694  0.220490  1.000000 -0.430915   \n",
       "HR   0.307407  0.671283 -0.066983 -0.090855  0.056292 -0.430915  1.000000   \n",
       "BB   0.484342  0.402452 -0.136414 -0.118281  0.302700 -0.454949  0.425691   \n",
       "SO   0.111850 -0.054726 -0.106022 -0.398830 -0.150752 -0.141196  0.359923   \n",
       "SB  -0.157234  0.081367  0.372618  0.413444  0.195027  0.457437 -0.136567   \n",
       "RA  -0.812952 -0.041623  0.316010  0.224324 -0.218160  0.314125 -0.103903   \n",
       "ER  -0.809435 -0.041245  0.309686  0.252489 -0.235531  0.340225 -0.085922   \n",
       "ERA -0.819600 -0.049281  0.255551  0.231172 -0.254854  0.330951 -0.090917   \n",
       "CG   0.080533  0.232042 -0.080876  0.147955  0.306675 -0.065898  0.156502   \n",
       "SHO  0.471805 -0.103274 -0.197321 -0.145559  0.057998 -0.041396 -0.019119   \n",
       "SV   0.666530 -0.096380 -0.106367 -0.130371  0.171576 -0.142370 -0.028540   \n",
       "E   -0.089485 -0.023262  0.316743 -0.033173  0.105754  0.126678 -0.207597   \n",
       "\n",
       "           BB        SO        SB        RA        ER       ERA        CG  \\\n",
       "W    0.484342  0.111850 -0.157234 -0.812952 -0.809435 -0.819600  0.080533   \n",
       "R    0.402452 -0.054726  0.081367 -0.041623 -0.041245 -0.049281  0.232042   \n",
       "AB  -0.136414 -0.106022  0.372618  0.316010  0.309686  0.255551 -0.080876   \n",
       "H   -0.118281 -0.398830  0.413444  0.224324  0.252489  0.231172  0.147955   \n",
       "2B   0.302700 -0.150752  0.195027 -0.218160 -0.235531 -0.254854  0.306675   \n",
       "3B  -0.454949 -0.141196  0.457437  0.314125  0.340225  0.330951 -0.065898   \n",
       "HR   0.425691  0.359923 -0.136567 -0.103903 -0.085922 -0.090917  0.156502   \n",
       "BB   1.000000  0.233652 -0.098347 -0.416445 -0.452663 -0.459832  0.462478   \n",
       "SO   0.233652  1.000000  0.030968 -0.129745 -0.161612 -0.180368 -0.093418   \n",
       "SB  -0.098347  0.030968  1.000000  0.132290  0.143068  0.126063 -0.020783   \n",
       "RA  -0.416445 -0.129745  0.132290  1.000000  0.991018  0.986674 -0.016659   \n",
       "ER  -0.452663 -0.161612  0.143068  0.991018  1.000000  0.997248 -0.020221   \n",
       "ERA -0.459832 -0.180368  0.126063  0.986674  0.997248  1.000000 -0.009856   \n",
       "CG   0.462478 -0.093418 -0.020783 -0.016659 -0.020221 -0.009856  1.000000   \n",
       "SHO  0.426004  0.237721 -0.106563 -0.636862 -0.630192 -0.630833  0.241676   \n",
       "SV   0.099445  0.126297 -0.183418 -0.616224 -0.589663 -0.607005 -0.367766   \n",
       "E   -0.075685  0.155133  0.079149  0.198996  0.136921  0.113137 -0.140047   \n",
       "\n",
       "          SHO        SV         E  \n",
       "W    0.471805  0.666530 -0.089485  \n",
       "R   -0.103274 -0.096380 -0.023262  \n",
       "AB  -0.197321 -0.106367  0.316743  \n",
       "H   -0.145559 -0.130371 -0.033173  \n",
       "2B   0.057998  0.171576  0.105754  \n",
       "3B  -0.041396 -0.142370  0.126678  \n",
       "HR  -0.019119 -0.028540 -0.207597  \n",
       "BB   0.426004  0.099445 -0.075685  \n",
       "SO   0.237721  0.126297  0.155133  \n",
       "SB  -0.106563 -0.183418  0.079149  \n",
       "RA  -0.636862 -0.616224  0.198996  \n",
       "ER  -0.630192 -0.589663  0.136921  \n",
       "ERA -0.630833 -0.607005  0.113137  \n",
       "CG   0.241676 -0.367766 -0.140047  \n",
       "SHO  1.000000  0.221639 -0.115716  \n",
       "SV   0.221639  1.000000 -0.025636  \n",
       "E   -0.115716 -0.025636  1.000000  "
      ]
     },
     "execution_count": 29,
     "metadata": {},
     "output_type": "execute_result"
    }
   ],
   "source": [
    "#checking for correlation\n",
    "\n",
    "df.corr()"
   ]
  },
  {
   "cell_type": "code",
   "execution_count": 31,
   "id": "8f1a63db",
   "metadata": {},
   "outputs": [
    {
     "data": {
      "text/plain": [
       "W      1.000000\n",
       "SV     0.666530\n",
       "BB     0.484342\n",
       "SHO    0.471805\n",
       "R      0.430751\n",
       "2B     0.427797\n",
       "HR     0.307407\n",
       "SO     0.111850\n",
       "CG     0.080533\n",
       "H      0.037612\n",
       "AB    -0.087947\n",
       "E     -0.089485\n",
       "SB    -0.157234\n",
       "3B    -0.251118\n",
       "ER    -0.809435\n",
       "RA    -0.812952\n",
       "ERA   -0.819600\n",
       "Name: W, dtype: float64"
      ]
     },
     "execution_count": 31,
     "metadata": {},
     "output_type": "execute_result"
    }
   ],
   "source": [
    "df.corr()['W'].sort_values(ascending=False)"
   ]
  },
  {
   "cell_type": "markdown",
   "id": "a9813dd4",
   "metadata": {},
   "source": [
    "conclusion:\n",
    "- 'SV' has the strongest positive correlation bond while 'BB','SHO','R','2B','HR','SO' have good correlation bond 'CG','H' have poor correlation bond\n",
    "- 'ERA','ER','RA' have the strongest negative correlation bond with our target variable\n",
    "- '3B','SB' have good negative correlation bond, 'AB','E' have poor correlation bond"
   ]
  },
  {
   "cell_type": "code",
   "execution_count": 34,
   "id": "312e439f",
   "metadata": {},
   "outputs": [
    {
     "data": {
      "text/plain": [
       "<AxesSubplot:>"
      ]
     },
     "execution_count": 34,
     "metadata": {},
     "output_type": "execute_result"
    },
    {
     "data": {
      "image/png": "[encoded data removed]",
      "text/plain": [
       "<Figure size 1440x720 with 2 Axes>"
      ]
     },
     "metadata": {
      "needs_background": "light"
     },
     "output_type": "display_data"
    }
   ],
   "source": [
    "plt.figure(figsize=(20,10))\n",
    "sns.heatmap(df.corr(),annot=True,cmap='YlGnBu',fmt='.2%')"
   ]
  },
  {
   "cell_type": "code",
   "execution_count": 35,
   "id": "c11bcf09",
   "metadata": {},
   "outputs": [
    {
     "data": {
      "text/html": [
       "<div>\n",
       "<style scoped>\n",
       "    .dataframe tbody tr th:only-of-type {\n",
       "        vertical-align: middle;\n",
       "    }\n",
       "\n",
       "    .dataframe tbody tr th {\n",
       "        vertical-align: top;\n",
       "    }\n",
       "\n",
       "    .dataframe thead th {\n",
       "        text-align: right;\n",
       "    }\n",
       "</style>\n",
       "<table border=\"1\" class=\"dataframe\">\n",
       "  <thead>\n",
       "    <tr style=\"text-align: right;\">\n",
       "      <th></th>\n",
       "      <th>W</th>\n",
       "      <th>R</th>\n",
       "      <th>AB</th>\n",
       "      <th>H</th>\n",
       "      <th>2B</th>\n",
       "      <th>3B</th>\n",
       "      <th>HR</th>\n",
       "      <th>BB</th>\n",
       "      <th>SO</th>\n",
       "      <th>SB</th>\n",
       "      <th>RA</th>\n",
       "      <th>ER</th>\n",
       "      <th>ERA</th>\n",
       "      <th>CG</th>\n",
       "      <th>SHO</th>\n",
       "      <th>SV</th>\n",
       "      <th>E</th>\n",
       "    </tr>\n",
       "  </thead>\n",
       "  <tbody>\n",
       "    <tr>\n",
       "      <th>count</th>\n",
       "      <td>30.000000</td>\n",
       "      <td>30.000000</td>\n",
       "      <td>30.000000</td>\n",
       "      <td>30.000000</td>\n",
       "      <td>30.000000</td>\n",
       "      <td>30.000000</td>\n",
       "      <td>30.000000</td>\n",
       "      <td>30.000000</td>\n",
       "      <td>30.00000</td>\n",
       "      <td>30.000000</td>\n",
       "      <td>30.000000</td>\n",
       "      <td>30.000000</td>\n",
       "      <td>30.000000</td>\n",
       "      <td>30.000000</td>\n",
       "      <td>30.000000</td>\n",
       "      <td>30.000000</td>\n",
       "      <td>30.000000</td>\n",
       "    </tr>\n",
       "    <tr>\n",
       "      <th>mean</th>\n",
       "      <td>80.966667</td>\n",
       "      <td>688.233333</td>\n",
       "      <td>5516.266667</td>\n",
       "      <td>1403.533333</td>\n",
       "      <td>274.733333</td>\n",
       "      <td>31.300000</td>\n",
       "      <td>163.633333</td>\n",
       "      <td>469.100000</td>\n",
       "      <td>1248.20000</td>\n",
       "      <td>83.500000</td>\n",
       "      <td>688.233333</td>\n",
       "      <td>635.833333</td>\n",
       "      <td>3.956333</td>\n",
       "      <td>3.466667</td>\n",
       "      <td>11.300000</td>\n",
       "      <td>43.066667</td>\n",
       "      <td>94.333333</td>\n",
       "    </tr>\n",
       "    <tr>\n",
       "      <th>std</th>\n",
       "      <td>10.453455</td>\n",
       "      <td>58.761754</td>\n",
       "      <td>70.467372</td>\n",
       "      <td>57.140923</td>\n",
       "      <td>18.095405</td>\n",
       "      <td>10.452355</td>\n",
       "      <td>31.823309</td>\n",
       "      <td>57.053725</td>\n",
       "      <td>103.75947</td>\n",
       "      <td>22.815225</td>\n",
       "      <td>72.108005</td>\n",
       "      <td>70.140786</td>\n",
       "      <td>0.454089</td>\n",
       "      <td>2.763473</td>\n",
       "      <td>4.120177</td>\n",
       "      <td>7.869335</td>\n",
       "      <td>13.958889</td>\n",
       "    </tr>\n",
       "    <tr>\n",
       "      <th>min</th>\n",
       "      <td>63.000000</td>\n",
       "      <td>573.000000</td>\n",
       "      <td>5385.000000</td>\n",
       "      <td>1324.000000</td>\n",
       "      <td>236.000000</td>\n",
       "      <td>13.000000</td>\n",
       "      <td>100.000000</td>\n",
       "      <td>375.000000</td>\n",
       "      <td>973.00000</td>\n",
       "      <td>44.000000</td>\n",
       "      <td>525.000000</td>\n",
       "      <td>478.000000</td>\n",
       "      <td>2.940000</td>\n",
       "      <td>0.000000</td>\n",
       "      <td>4.000000</td>\n",
       "      <td>28.000000</td>\n",
       "      <td>75.000000</td>\n",
       "    </tr>\n",
       "    <tr>\n",
       "      <th>25%</th>\n",
       "      <td>74.000000</td>\n",
       "      <td>651.250000</td>\n",
       "      <td>5464.000000</td>\n",
       "      <td>1363.000000</td>\n",
       "      <td>262.250000</td>\n",
       "      <td>23.000000</td>\n",
       "      <td>140.250000</td>\n",
       "      <td>428.250000</td>\n",
       "      <td>1157.50000</td>\n",
       "      <td>69.000000</td>\n",
       "      <td>636.250000</td>\n",
       "      <td>587.250000</td>\n",
       "      <td>3.682500</td>\n",
       "      <td>1.000000</td>\n",
       "      <td>9.000000</td>\n",
       "      <td>37.250000</td>\n",
       "      <td>86.000000</td>\n",
       "    </tr>\n",
       "    <tr>\n",
       "      <th>50%</th>\n",
       "      <td>81.000000</td>\n",
       "      <td>689.000000</td>\n",
       "      <td>5510.000000</td>\n",
       "      <td>1382.500000</td>\n",
       "      <td>275.500000</td>\n",
       "      <td>31.000000</td>\n",
       "      <td>158.500000</td>\n",
       "      <td>473.000000</td>\n",
       "      <td>1261.50000</td>\n",
       "      <td>83.500000</td>\n",
       "      <td>695.500000</td>\n",
       "      <td>644.500000</td>\n",
       "      <td>4.025000</td>\n",
       "      <td>3.000000</td>\n",
       "      <td>12.000000</td>\n",
       "      <td>42.000000</td>\n",
       "      <td>91.000000</td>\n",
       "    </tr>\n",
       "    <tr>\n",
       "      <th>75%</th>\n",
       "      <td>87.750000</td>\n",
       "      <td>718.250000</td>\n",
       "      <td>5570.000000</td>\n",
       "      <td>1451.500000</td>\n",
       "      <td>288.750000</td>\n",
       "      <td>39.000000</td>\n",
       "      <td>177.000000</td>\n",
       "      <td>501.250000</td>\n",
       "      <td>1311.50000</td>\n",
       "      <td>96.500000</td>\n",
       "      <td>732.500000</td>\n",
       "      <td>679.250000</td>\n",
       "      <td>4.220000</td>\n",
       "      <td>5.750000</td>\n",
       "      <td>13.000000</td>\n",
       "      <td>46.750000</td>\n",
       "      <td>96.750000</td>\n",
       "    </tr>\n",
       "    <tr>\n",
       "      <th>max</th>\n",
       "      <td>100.000000</td>\n",
       "      <td>891.000000</td>\n",
       "      <td>5649.000000</td>\n",
       "      <td>1515.000000</td>\n",
       "      <td>308.000000</td>\n",
       "      <td>49.000000</td>\n",
       "      <td>232.000000</td>\n",
       "      <td>570.000000</td>\n",
       "      <td>1518.00000</td>\n",
       "      <td>134.000000</td>\n",
       "      <td>844.000000</td>\n",
       "      <td>799.000000</td>\n",
       "      <td>5.040000</td>\n",
       "      <td>11.000000</td>\n",
       "      <td>21.000000</td>\n",
       "      <td>62.000000</td>\n",
       "      <td>126.000000</td>\n",
       "    </tr>\n",
       "  </tbody>\n",
       "</table>\n",
       "</div>"
      ],
      "text/plain": [
       "                W           R           AB            H          2B  \\\n",
       "count   30.000000   30.000000    30.000000    30.000000   30.000000   \n",
       "mean    80.966667  688.233333  5516.266667  1403.533333  274.733333   \n",
       "std     10.453455   58.761754    70.467372    57.140923   18.095405   \n",
       "min     63.000000  573.000000  5385.000000  1324.000000  236.000000   \n",
       "25%     74.000000  651.250000  5464.000000  1363.000000  262.250000   \n",
       "50%     81.000000  689.000000  5510.000000  1382.500000  275.500000   \n",
       "75%     87.750000  718.250000  5570.000000  1451.500000  288.750000   \n",
       "max    100.000000  891.000000  5649.000000  1515.000000  308.000000   \n",
       "\n",
       "              3B          HR          BB          SO          SB          RA  \\\n",
       "count  30.000000   30.000000   30.000000    30.00000   30.000000   30.000000   \n",
       "mean   31.300000  163.633333  469.100000  1248.20000   83.500000  688.233333   \n",
       "std    10.452355   31.823309   57.053725   103.75947   22.815225   72.108005   \n",
       "min    13.000000  100.000000  375.000000   973.00000   44.000000  525.000000   \n",
       "25%    23.000000  140.250000  428.250000  1157.50000   69.000000  636.250000   \n",
       "50%    31.000000  158.500000  473.000000  1261.50000   83.500000  695.500000   \n",
       "75%    39.000000  177.000000  501.250000  1311.50000   96.500000  732.500000   \n",
       "max    49.000000  232.000000  570.000000  1518.00000  134.000000  844.000000   \n",
       "\n",
       "               ER        ERA         CG        SHO         SV           E  \n",
       "count   30.000000  30.000000  30.000000  30.000000  30.000000   30.000000  \n",
       "mean   635.833333   3.956333   3.466667  11.300000  43.066667   94.333333  \n",
       "std     70.140786   0.454089   2.763473   4.120177   7.869335   13.958889  \n",
       "min    478.000000   2.940000   0.000000   4.000000  28.000000   75.000000  \n",
       "25%    587.250000   3.682500   1.000000   9.000000  37.250000   86.000000  \n",
       "50%    644.500000   4.025000   3.000000  12.000000  42.000000   91.000000  \n",
       "75%    679.250000   4.220000   5.750000  13.000000  46.750000   96.750000  \n",
       "max    799.000000   5.040000  11.000000  21.000000  62.000000  126.000000  "
      ]
     },
     "execution_count": 35,
     "metadata": {},
     "output_type": "execute_result"
    }
   ],
   "source": [
    "# now let's, describe our dataset:\n",
    "\n",
    "df.describe()"
   ]
  },
  {
   "cell_type": "markdown",
   "id": "528ac20e",
   "metadata": {},
   "source": [
    "observations:\n",
    "- for 'AB','H','HR','BB' mean is greater than their median value it means that the data might be right skewed for these features\n",
    "- for 'SO','RA','ER' etc. median is higher than their mean value it means that the data might be left skewed for these features\n",
    "- features like 'SO' etc. has a wide range of data\n",
    "- huge difference between maximum and 75 percentile for most features so outliers might be present"
   ]
  },
  {
   "cell_type": "code",
   "execution_count": 39,
   "id": "360002eb",
   "metadata": {},
   "outputs": [
    {
     "data": {
      "image/png": "[encoded data removed]",
      "text/plain": [
       "<Figure size 432x288 with 1 Axes>"
      ]
     },
     "metadata": {
      "needs_background": "light"
     },
     "output_type": "display_data"
    },
    {
     "data": {
      "image/png": "[encoded data removed]",
      "text/plain": [
       "<Figure size 432x288 with 1 Axes>"
      ]
     },
     "metadata": {
      "needs_background": "light"
     },
     "output_type": "display_data"
    },
    {
     "data": {
      "image/png": "[encoded data removed]",
      "text/plain": [
       "<Figure size 432x288 with 1 Axes>"
      ]
     },
     "metadata": {
      "needs_background": "light"
     },
     "output_type": "display_data"
    },
    {
     "data": {
      "image/png": "[encoded data removed]",
      "text/plain": [
       "<Figure size 432x288 with 1 Axes>"
      ]
     },
     "metadata": {
      "needs_background": "light"
     },
     "output_type": "display_data"
    },
    {
     "data": {
      "image/png": "[encoded data removed]",
      "text/plain": [
       "<Figure size 432x288 with 1 Axes>"
      ]
     },
     "metadata": {
      "needs_background": "light"
     },
     "output_type": "display_data"
    },
    {
     "data": {
      "image/png": "[encoded data removed]",
      "text/plain": [
       "<Figure size 432x288 with 1 Axes>"
      ]
     },
     "metadata": {
      "needs_background": "light"
     },
     "output_type": "display_data"
    },
    {
     "data": {
      "image/png": "[encoded data removed]",
      "text/plain": [
       "<Figure size 432x288 with 1 Axes>"
      ]
     },
     "metadata": {
      "needs_background": "light"
     },
     "output_type": "display_data"
    },
    {
     "data": {
      "image/png": "[encoded data removed]",
      "text/plain": [
       "<Figure size 432x288 with 1 Axes>"
      ]
     },
     "metadata": {
      "needs_background": "light"
     },
     "output_type": "display_data"
    },
    {
     "data": {
      "image/png": "[encoded data removed]",
      "text/plain": [
       "<Figure size 432x288 with 1 Axes>"
      ]
     },
     "metadata": {
      "needs_background": "light"
     },
     "output_type": "display_data"
    },
    {
     "data": {
      "image/png": "[encoded data removed]",
      "text/plain": [
       "<Figure size 432x288 with 1 Axes>"
      ]
     },
     "metadata": {
      "needs_background": "light"
     },
     "output_type": "display_data"
    },
    {
     "data": {
      "image/png": "[encoded data removed]",
      "text/plain": [
       "<Figure size 432x288 with 1 Axes>"
      ]
     },
     "metadata": {
      "needs_background": "light"
     },
     "output_type": "display_data"
    },
    {
     "data": {
      "image/png": "[encoded data removed]",
      "text/plain": [
       "<Figure size 432x288 with 1 Axes>"
      ]
     },
     "metadata": {
      "needs_background": "light"
     },
     "output_type": "display_data"
    },
    {
     "data": {
      "image/png": "[encoded data removed]",
      "text/plain": [
       "<Figure size 432x288 with 1 Axes>"
      ]
     },
     "metadata": {
      "needs_background": "light"
     },
     "output_type": "display_data"
    },
    {
     "data": {
      "image/png": "[encoded data removed]",
      "text/plain": [
       "<Figure size 432x288 with 1 Axes>"
      ]
     },
     "metadata": {
      "needs_background": "light"
     },
     "output_type": "display_data"
    },
    {
     "data": {
      "image/png": "[encoded data removed]",
      "text/plain": [
       "<Figure size 432x288 with 1 Axes>"
      ]
     },
     "metadata": {
      "needs_background": "light"
     },
     "output_type": "display_data"
    },
    {
     "data": {
      "image/png": "[encoded data removed]",
      "text/plain": [
       "<Figure size 432x288 with 1 Axes>"
      ]
     },
     "metadata": {
      "needs_background": "light"
     },
     "output_type": "display_data"
    },
    {
     "data": {
      "image/png": "[encoded data removed]",
      "text/plain": [
       "<Figure size 432x288 with 1 Axes>"
      ]
     },
     "metadata": {
      "needs_background": "light"
     },
     "output_type": "display_data"
    }
   ],
   "source": [
    "#let's check for outliers\n",
    "\n",
    "for i in df.columns:\n",
    "    sns.boxplot(df[i])\n",
    "    plt.show()"
   ]
  },
  {
   "cell_type": "markdown",
   "id": "b4ba049b",
   "metadata": {},
   "source": [
    "- only a few outliers are present"
   ]
  },
  {
   "cell_type": "markdown",
   "id": "b6b2aee0",
   "metadata": {},
   "source": [
    "# Data cleaning:\n",
    "- we will deal with outliers, skewness etc. int this part"
   ]
  },
  {
   "cell_type": "code",
   "execution_count": 182,
   "id": "4952b346",
   "metadata": {},
   "outputs": [
    {
     "data": {
      "text/plain": [
       "ERA   -0.819600\n",
       "RA    -0.812952\n",
       "ER    -0.809435\n",
       "3B    -0.251118\n",
       "SB    -0.157234\n",
       "E     -0.089485\n",
       "AB    -0.087947\n",
       "H      0.037612\n",
       "CG     0.080533\n",
       "SO     0.111850\n",
       "HR     0.307407\n",
       "2B     0.427797\n",
       "R      0.430751\n",
       "SHO    0.471805\n",
       "BB     0.484342\n",
       "SV     0.666530\n",
       "W      1.000000\n",
       "Name: W, dtype: float64"
      ]
     },
     "execution_count": 182,
     "metadata": {},
     "output_type": "execute_result"
    }
   ],
   "source": [
    "df.corr()['W'].sort_values()"
   ]
  },
  {
   "cell_type": "code",
   "execution_count": 183,
   "id": "1fe84bf3",
   "metadata": {},
   "outputs": [],
   "source": [
    "#dropping weakly correlated feaatures\n",
    "\n",
    "df.drop(['E','AB','H','CG'],axis=1,inplace=True)"
   ]
  },
  {
   "cell_type": "code",
   "execution_count": 184,
   "id": "fb50a359",
   "metadata": {},
   "outputs": [],
   "source": [
    "#let's try zscore method for outliers removal\n",
    "\n",
    "from scipy.stats import zscore\n",
    "\n",
    "z=np.abs(zscore(df))"
   ]
  },
  {
   "cell_type": "code",
   "execution_count": 185,
   "id": "445dfe66",
   "metadata": {},
   "outputs": [
    {
     "data": {
      "text/plain": [
       "(array([5], dtype=int64), array([1], dtype=int64))"
      ]
     },
     "execution_count": 185,
     "metadata": {},
     "output_type": "execute_result"
    }
   ],
   "source": [
    "np.where(z>3)"
   ]
  },
  {
   "cell_type": "code",
   "execution_count": 186,
   "id": "545c750a",
   "metadata": {},
   "outputs": [],
   "source": [
    "#so only one outliers are present, so we will remove them or keep them, it won't affect our model majorily\n",
    "\n",
    "df_new=df[(z<3).all(axis=1)]"
   ]
  },
  {
   "cell_type": "code",
   "execution_count": 187,
   "id": "c26b615f",
   "metadata": {},
   "outputs": [
    {
     "data": {
      "text/plain": [
       "(30, 13)"
      ]
     },
     "execution_count": 187,
     "metadata": {},
     "output_type": "execute_result"
    }
   ],
   "source": [
    "df.shape"
   ]
  },
  {
   "cell_type": "code",
   "execution_count": 188,
   "id": "d3bbc8e6",
   "metadata": {},
   "outputs": [
    {
     "data": {
      "text/plain": [
       "(29, 13)"
      ]
     },
     "execution_count": 188,
     "metadata": {},
     "output_type": "execute_result"
    }
   ],
   "source": [
    "df_new.shape"
   ]
  },
  {
   "cell_type": "code",
   "execution_count": 189,
   "id": "f0999f64",
   "metadata": {},
   "outputs": [
    {
     "name": "stdout",
     "output_type": "stream",
     "text": [
      "Data loss is: 3.3333333333333335 %\n"
     ]
    }
   ],
   "source": [
    "print('Data loss is:',(30-29)/30*100,'%')"
   ]
  },
  {
   "cell_type": "code",
   "execution_count": 7,
   "id": "a157f674",
   "metadata": {},
   "outputs": [],
   "source": [
    "# now selecting our feature and target variable for further process\n",
    "\n",
    "x=df.drop('W',axis=1)\n",
    "y=df['W']"
   ]
  },
  {
   "cell_type": "code",
   "execution_count": 8,
   "id": "74f4219d",
   "metadata": {},
   "outputs": [
    {
     "data": {
      "text/plain": [
       "(30, 16)"
      ]
     },
     "execution_count": 8,
     "metadata": {},
     "output_type": "execute_result"
    }
   ],
   "source": [
    "x.shape"
   ]
  },
  {
   "cell_type": "code",
   "execution_count": 9,
   "id": "5d952e43",
   "metadata": {},
   "outputs": [
    {
     "data": {
      "text/plain": [
       "(30,)"
      ]
     },
     "execution_count": 9,
     "metadata": {},
     "output_type": "execute_result"
    }
   ],
   "source": [
    "y.shape"
   ]
  },
  {
   "cell_type": "code",
   "execution_count": 10,
   "id": "e37d955f",
   "metadata": {},
   "outputs": [
    {
     "data": {
      "text/plain": [
       "R      1.200786\n",
       "AB     0.183437\n",
       "H      0.670254\n",
       "2B    -0.230650\n",
       "3B     0.129502\n",
       "HR     0.516441\n",
       "BB     0.158498\n",
       "SO    -0.156065\n",
       "SB     0.479893\n",
       "RA     0.045734\n",
       "ER     0.058710\n",
       "ERA    0.053331\n",
       "CG     0.736845\n",
       "SHO    0.565790\n",
       "SV     0.657524\n",
       "E      0.890132\n",
       "dtype: float64"
      ]
     },
     "execution_count": 10,
     "metadata": {},
     "output_type": "execute_result"
    }
   ],
   "source": [
    "#checking for skewness\n",
    "\n",
    "x.skew()"
   ]
  },
  {
   "cell_type": "markdown",
   "id": "eb668328",
   "metadata": {},
   "source": [
    "threshold= +/- 0.50\n",
    "- so most of the feature variables are falling in the threshold range only\n",
    "- we are going to apply power transform method for skewness removal"
   ]
  },
  {
   "cell_type": "code",
   "execution_count": 98,
   "id": "cf93a2fa",
   "metadata": {},
   "outputs": [
    {
     "data": {
      "text/plain": [
       "<AxesSubplot:xlabel='R', ylabel='Density'>"
      ]
     },
     "execution_count": 98,
     "metadata": {},
     "output_type": "execute_result"
    },
    {
     "data": {
      "image/png": "[encoded data removed]",
      "text/plain": [
       "<Figure size 432x288 with 1 Axes>"
      ]
     },
     "metadata": {
      "needs_background": "light"
     },
     "output_type": "display_data"
    }
   ],
   "source": [
    "sns.distplot(x['R'])"
   ]
  },
  {
   "cell_type": "markdown",
   "id": "89d9edb6",
   "metadata": {},
   "source": [
    "- okay only a little skewness is present"
   ]
  },
  {
   "cell_type": "code",
   "execution_count": 99,
   "id": "954c1a94",
   "metadata": {},
   "outputs": [
    {
     "data": {
      "text/plain": [
       "<AxesSubplot:xlabel='SV', ylabel='Density'>"
      ]
     },
     "execution_count": 99,
     "metadata": {},
     "output_type": "execute_result"
    },
    {
     "data": {
      "image/png": "[encoded data removed]",
      "text/plain": [
       "<Figure size 432x288 with 1 Axes>"
      ]
     },
     "metadata": {
      "needs_background": "light"
     },
     "output_type": "display_data"
    }
   ],
   "source": [
    "sns.distplot(x['SV'])"
   ]
  },
  {
   "cell_type": "markdown",
   "id": "6424e47f",
   "metadata": {},
   "source": [
    "- okay skewness is present"
   ]
  },
  {
   "cell_type": "code",
   "execution_count": 14,
   "id": "acbb0718",
   "metadata": {},
   "outputs": [
    {
     "data": {
      "text/plain": [
       "R      0.000000\n",
       "AB     0.000000\n",
       "H      0.000000\n",
       "2B    -0.006692\n",
       "3B    -0.006873\n",
       "HR    -0.061467\n",
       "BB     0.012683\n",
       "SO     0.091050\n",
       "SB     0.016670\n",
       "RA     0.003691\n",
       "ER     0.031508\n",
       "ERA    0.038117\n",
       "CG     0.001456\n",
       "SHO    0.024870\n",
       "SV    -0.026221\n",
       "E     -0.020501\n",
       "dtype: float64"
      ]
     },
     "execution_count": 14,
     "metadata": {},
     "output_type": "execute_result"
    }
   ],
   "source": [
    "#applying skewness removal transformation\n",
    "\n",
    "from sklearn.preprocessing import power_transform\n",
    "\n",
    "x=power_transform(x,method='yeo-johnson')\n",
    "x=pd.DataFrame(x,columns=df.columns[1:])\n",
    "x.skew()"
   ]
  },
  {
   "cell_type": "markdown",
   "id": "408def6e",
   "metadata": {},
   "source": [
    "- skewness has been reduced"
   ]
  },
  {
   "cell_type": "code",
   "execution_count": 15,
   "id": "20245260",
   "metadata": {},
   "outputs": [
    {
     "data": {
      "text/plain": [
       "<AxesSubplot:xlabel='R', ylabel='Density'>"
      ]
     },
     "execution_count": 15,
     "metadata": {},
     "output_type": "execute_result"
    },
    {
     "data": {
      "image/png": "[encoded data removed]",
      "text/plain": [
       "<Figure size 432x288 with 1 Axes>"
      ]
     },
     "metadata": {
      "needs_background": "light"
     },
     "output_type": "display_data"
    }
   ],
   "source": [
    "sns.distplot(x['R'])"
   ]
  },
  {
   "cell_type": "code",
   "execution_count": 16,
   "id": "e2e336c3",
   "metadata": {},
   "outputs": [
    {
     "data": {
      "text/plain": [
       "<AxesSubplot:xlabel='SV', ylabel='Density'>"
      ]
     },
     "execution_count": 16,
     "metadata": {},
     "output_type": "execute_result"
    },
    {
     "data": {
      "image/png": "[encoded data removed]",
      "text/plain": [
       "<Figure size 432x288 with 1 Axes>"
      ]
     },
     "metadata": {
      "needs_background": "light"
     },
     "output_type": "display_data"
    }
   ],
   "source": [
    "sns.distplot(x['SV'])"
   ]
  },
  {
   "cell_type": "code",
   "execution_count": 17,
   "id": "2db301fd",
   "metadata": {},
   "outputs": [],
   "source": [
    "#checking for multicollinearity\n",
    "\n",
    "from statsmodels.stats.outliers_influence import variance_inflation_factor\n",
    "\n",
    "def vif_calc():\n",
    "    vif=pd.DataFrame()\n",
    "    vif['VIF Factor']=[variance_inflation_factor(x.values,i) for i in range(x.shape[1])]\n",
    "    vif['features']=x.columns\n",
    "    print(vif)"
   ]
  },
  {
   "cell_type": "code",
   "execution_count": 18,
   "id": "f2fc2608",
   "metadata": {},
   "outputs": [
    {
     "name": "stdout",
     "output_type": "stream",
     "text": [
      "    VIF Factor features\n",
      "0          NaN        R\n",
      "1          NaN       AB\n",
      "2          NaN        H\n",
      "3     2.219936       2B\n",
      "4     2.685929       3B\n",
      "5     2.849715       HR\n",
      "6     3.284946       BB\n",
      "7     2.313579       SO\n",
      "8     1.877768       SB\n",
      "9   176.374407       RA\n",
      "10  547.839199       ER\n",
      "11  313.896528      ERA\n",
      "12    2.155122       CG\n",
      "13    3.207897      SHO\n",
      "14    3.545882       SV\n",
      "15    1.704692        E\n"
     ]
    }
   ],
   "source": [
    "vif_calc()"
   ]
  },
  {
   "cell_type": "markdown",
   "id": "e717d8e6",
   "metadata": {},
   "source": [
    "- for feature variables 'RA','ER','ERA' variance inflation factor is very high, so we will drop it"
   ]
  },
  {
   "cell_type": "code",
   "execution_count": 19,
   "id": "caa8547a",
   "metadata": {},
   "outputs": [],
   "source": [
    "x.drop('ER',axis=1,inplace=True)"
   ]
  },
  {
   "cell_type": "code",
   "execution_count": 20,
   "id": "55bf33e2",
   "metadata": {},
   "outputs": [
    {
     "name": "stdout",
     "output_type": "stream",
     "text": [
      "    VIF Factor features\n",
      "0          NaN        R\n",
      "1          NaN       AB\n",
      "2          NaN        H\n",
      "3     2.203447       2B\n",
      "4     2.617003       3B\n",
      "5     2.104258       HR\n",
      "6     3.167699       BB\n",
      "7     2.097225       SO\n",
      "8     1.599576       SB\n",
      "9    90.304984       RA\n",
      "10   92.007571      ERA\n",
      "11    2.149027       CG\n",
      "12    2.797982      SHO\n",
      "13    2.305683       SV\n",
      "14    1.702068        E\n"
     ]
    }
   ],
   "source": [
    "vif_calc()"
   ]
  },
  {
   "cell_type": "markdown",
   "id": "1d782c3c",
   "metadata": {},
   "source": [
    "- VIF has been reduced, but we will drop 'RA' as the VIF is still high for 'RA','ERA',as 'ERA' would be better at predicting"
   ]
  },
  {
   "cell_type": "code",
   "execution_count": 21,
   "id": "599f482e",
   "metadata": {},
   "outputs": [],
   "source": [
    "x.drop('RA',axis=1,inplace=True)"
   ]
  },
  {
   "cell_type": "code",
   "execution_count": 22,
   "id": "e1721d85",
   "metadata": {},
   "outputs": [
    {
     "name": "stdout",
     "output_type": "stream",
     "text": [
      "    VIF Factor features\n",
      "0          NaN        R\n",
      "1          NaN       AB\n",
      "2          NaN        H\n",
      "3     1.979778       2B\n",
      "4     2.571648       3B\n",
      "5     1.826425       HR\n",
      "6     2.783554       BB\n",
      "7     1.786033       SO\n",
      "8     1.574226       SB\n",
      "9     3.862337      ERA\n",
      "10    1.953333       CG\n",
      "11    2.750817      SHO\n",
      "12    1.982073       SV\n",
      "13    1.286036        E\n"
     ]
    }
   ],
   "source": [
    "vif_calc()"
   ]
  },
  {
   "cell_type": "markdown",
   "id": "5cc0764f",
   "metadata": {},
   "source": [
    "- VIF for all the variables is less than the range 4-10, so we would process further"
   ]
  },
  {
   "cell_type": "code",
   "execution_count": 24,
   "id": "18abb496",
   "metadata": {},
   "outputs": [],
   "source": [
    "#scaling the input data\n",
    "\n",
    "from sklearn.preprocessing import StandardScaler\n",
    "sc=StandardScaler()\n",
    "x=sc.fit_transform(x)"
   ]
  },
  {
   "cell_type": "markdown",
   "id": "447b9150",
   "metadata": {},
   "source": [
    "- First we will try out regression and than classifiers as well for best results"
   ]
  },
  {
   "cell_type": "code",
   "execution_count": 25,
   "id": "85805164",
   "metadata": {},
   "outputs": [],
   "source": [
    "from sklearn.model_selection import train_test_split,cross_val_score\n",
    "from sklearn.linear_model import LinearRegression \n",
    "from sklearn.metrics import r2_score,mean_squared_error,mean_absolute_error"
   ]
  },
  {
   "cell_type": "code",
   "execution_count": 26,
   "id": "870012c3",
   "metadata": {},
   "outputs": [],
   "source": [
    "lr=LinearRegression()"
   ]
  },
  {
   "cell_type": "code",
   "execution_count": 27,
   "id": "73abfa12",
   "metadata": {},
   "outputs": [
    {
     "data": {
      "text/plain": [
       "(30, 14)"
      ]
     },
     "execution_count": 27,
     "metadata": {},
     "output_type": "execute_result"
    }
   ],
   "source": [
    "x.shape"
   ]
  },
  {
   "cell_type": "code",
   "execution_count": 35,
   "id": "7dbe6df7",
   "metadata": {},
   "outputs": [
    {
     "name": "stdout",
     "output_type": "stream",
     "text": [
      "At random state 6 the model performs very well\n",
      "At random state 6 :\n",
      "Training accuracy score is 86.02390576811622\n",
      "Testing accuracy score is 87.86927863314169 \n",
      "\n",
      "At random state 22 the model performs very well\n",
      "At random state 22 :\n",
      "Training accuracy score is 85.19217240710559\n",
      "Testing accuracy score is 98.2116617808119 \n",
      "\n",
      "At random state 27 the model performs very well\n",
      "At random state 27 :\n",
      "Training accuracy score is 84.45560109761094\n",
      "Testing accuracy score is 95.10040586486569 \n",
      "\n",
      "At random state 29 the model performs very well\n",
      "At random state 29 :\n",
      "Training accuracy score is 86.29115808208758\n",
      "Testing accuracy score is 84.75094634764267 \n",
      "\n",
      "At random state 30 the model performs very well\n",
      "At random state 30 :\n",
      "Training accuracy score is 84.79103268561012\n",
      "Testing accuracy score is 97.80219823437011 \n",
      "\n",
      "At random state 42 the model performs very well\n",
      "At random state 42 :\n",
      "Training accuracy score is 84.2406668161562\n",
      "Testing accuracy score is 95.19272429671393 \n",
      "\n",
      "At random state 47 the model performs very well\n",
      "At random state 47 :\n",
      "Training accuracy score is 84.79097166593672\n",
      "Testing accuracy score is 97.64584125453226 \n",
      "\n",
      "At random state 63 the model performs very well\n",
      "At random state 63 :\n",
      "Training accuracy score is 85.66945232145858\n",
      "Testing accuracy score is 87.84122665309734 \n",
      "\n",
      "At random state 64 the model performs very well\n",
      "At random state 64 :\n",
      "Training accuracy score is 86.13481290166305\n",
      "Testing accuracy score is 89.67616271999722 \n",
      "\n",
      "At random state 73 the model performs very well\n",
      "At random state 73 :\n",
      "Training accuracy score is 84.30383744779343\n",
      "Testing accuracy score is 93.66376958299753 \n",
      "\n",
      "At random state 75 the model performs very well\n",
      "At random state 75 :\n",
      "Training accuracy score is 85.09920600877795\n",
      "Testing accuracy score is 96.41574777793946 \n",
      "\n",
      "At random state 99 the model performs very well\n",
      "At random state 99 :\n",
      "Training accuracy score is 84.3822367596488\n",
      "Testing accuracy score is 85.31329257329847 \n",
      "\n"
     ]
    }
   ],
   "source": [
    "#checking for best random state\n",
    "\n",
    "for i in range(0,100):\n",
    "    x_train,x_test,y_train,y_test=train_test_split(x,y,random_state=i,test_size=.10)\n",
    "    lr.fit(x_train,y_train)\n",
    "    predtrain=lr.predict(x_train)\n",
    "    predtest=lr.predict(x_test)\n",
    "    if round(r2_score(y_test,predtest)*100)>83:\n",
    "        print('At random state',i,'the model performs very well')\n",
    "        print('At random state',i,':')\n",
    "    \n",
    "        print('Training accuracy score is',r2_score(y_train,predtrain)*100)\n",
    "        print('Testing accuracy score is',r2_score(y_test,predtest)*100,'\\n')"
   ]
  },
  {
   "cell_type": "code",
   "execution_count": 36,
   "id": "c464cd34",
   "metadata": {},
   "outputs": [],
   "source": [
    "#let's take 6 as the random state\n",
    "\n",
    "x_train,x_test,y_train,y_test=train_test_split(x,y,random_state=6,test_size=.10)\n",
    "lr.fit(x_train,y_train)\n",
    "predtrain=lr.predict(x_train)\n",
    "predlr=lr.predict(x_test)"
   ]
  },
  {
   "cell_type": "code",
   "execution_count": 37,
   "id": "253b06ea",
   "metadata": {},
   "outputs": [
    {
     "name": "stdout",
     "output_type": "stream",
     "text": [
      "0.8786927863314169\n",
      "Mean squred error: 9.731534252079665 Mean absolute error: 2.3705620014839703\n"
     ]
    }
   ],
   "source": [
    "print(r2_score(y_test,predlr))\n",
    "mselr=mean_squared_error(y_test,predlr)\n",
    "maelr=mean_absolute_error(y_test,predlr)\n",
    "print('Mean squred error:',mselr,'Mean absolute error:',maelr)"
   ]
  },
  {
   "cell_type": "code",
   "execution_count": 39,
   "id": "080f2c37",
   "metadata": {},
   "outputs": [
    {
     "name": "stdout",
     "output_type": "stream",
     "text": [
      "At cv= 2\n",
      "Cross Validation Score is: -147.34426164772364\n",
      "Accuracy score is: 87.86927863314169 \n",
      "\n",
      "At cv= 3\n",
      "Cross Validation Score is: 27.692803626895206\n",
      "Accuracy score is: 87.86927863314169 \n",
      "\n",
      "At cv= 4\n",
      "Cross Validation Score is: 55.369097707273916\n",
      "Accuracy score is: 87.86927863314169 \n",
      "\n",
      "At cv= 5\n",
      "Cross Validation Score is: 4.562620398002084\n",
      "Accuracy score is: 87.86927863314169 \n",
      "\n",
      "At cv= 6\n",
      "Cross Validation Score is: 1.866842222238609\n",
      "Accuracy score is: 87.86927863314169 \n",
      "\n",
      "At cv= 7\n",
      "Cross Validation Score is: 4.392178434136053\n",
      "Accuracy score is: 87.86927863314169 \n",
      "\n",
      "At cv= 8\n",
      "Cross Validation Score is: 11.7685234967738\n",
      "Accuracy score is: 87.86927863314169 \n",
      "\n",
      "At cv= 9\n",
      "Cross Validation Score is: -1219.8662851230827\n",
      "Accuracy score is: 87.86927863314169 \n",
      "\n",
      "At cv= 10\n",
      "Cross Validation Score is: -1137.1885044385338\n",
      "Accuracy score is: 87.86927863314169 \n",
      "\n",
      "At cv= 11\n",
      "Cross Validation Score is: -1031.7668870392952\n",
      "Accuracy score is: 87.86927863314169 \n",
      "\n",
      "At cv= 12\n",
      "Cross Validation Score is: -1176.7240756548615\n",
      "Accuracy score is: 87.86927863314169 \n",
      "\n",
      "At cv= 13\n",
      "Cross Validation Score is: -5965.33554186044\n",
      "Accuracy score is: 87.86927863314169 \n",
      "\n",
      "At cv= 14\n",
      "Cross Validation Score is: -6426.748634181745\n",
      "Accuracy score is: 87.86927863314169 \n",
      "\n",
      "At cv= 15\n",
      "Cross Validation Score is: -6023.904519984162\n",
      "Accuracy score is: 87.86927863314169 \n",
      "\n",
      "At cv= 16\n",
      "Cross Validation Score is: nan\n",
      "Accuracy score is: 87.86927863314169 \n",
      "\n",
      "At cv= 17\n",
      "Cross Validation Score is: nan\n",
      "Accuracy score is: 87.86927863314169 \n",
      "\n",
      "At cv= 18\n",
      "Cross Validation Score is: nan\n",
      "Accuracy score is: 87.86927863314169 \n",
      "\n",
      "At cv= 19\n",
      "Cross Validation Score is: nan\n",
      "Accuracy score is: 87.86927863314169 \n",
      "\n"
     ]
    }
   ],
   "source": [
    "#checking for cross validation score\n",
    "\n",
    "for j in range(2,20):\n",
    "    lrs=cross_val_score(lr,x,y,cv=j)\n",
    "    lrc=lrs.mean()\n",
    "    print('At cv=',j)\n",
    "    print('Cross Validation Score is:',lrc*100)\n",
    "    print('Accuracy score is:',r2_score(y_test,predlr)*100,'\\n')"
   ]
  },
  {
   "cell_type": "markdown",
   "id": "64312823",
   "metadata": {},
   "source": [
    "# Regularization"
   ]
  },
  {
   "cell_type": "code",
   "execution_count": 40,
   "id": "fdc89652",
   "metadata": {},
   "outputs": [],
   "source": [
    "from sklearn.model_selection import GridSearchCV"
   ]
  },
  {
   "cell_type": "code",
   "execution_count": 42,
   "id": "7c88a384",
   "metadata": {},
   "outputs": [
    {
     "name": "stdout",
     "output_type": "stream",
     "text": [
      "{'alpha': 1, 'random_state': 0}\n"
     ]
    }
   ],
   "source": [
    "from sklearn.linear_model import Lasso,Ridge\n",
    "\n",
    "ls=Lasso()\n",
    "\n",
    "para={'alpha':[.0001,.001,.01,.1,1,10],'random_state':[i for i in range(11)]}\n",
    "clf=GridSearchCV(ls,para)\n",
    "x_train,x_test,y_train,y_test=train_test_split(x,y,random_state=6,test_size=.10)\n",
    "clf.fit(x_train,y_train)\n",
    "\n",
    "print(clf.best_params_)"
   ]
  },
  {
   "cell_type": "code",
   "execution_count": 44,
   "id": "687164c2",
   "metadata": {},
   "outputs": [
    {
     "name": "stdout",
     "output_type": "stream",
     "text": [
      "0.6033803827086279\n"
     ]
    }
   ],
   "source": [
    "x_train,x_test,y_train,y_test=train_test_split(x,y,random_state=6,test_size=.10)\n",
    "ls=Lasso(alpha=1,random_state=0)\n",
    "ls.fit(x_train,y_train)\n",
    "predtrain=ls.predict(x_train)\n",
    "predls=ls.predict(x_test)\n",
    "print(r2_score(y_test,predls))"
   ]
  },
  {
   "cell_type": "code",
   "execution_count": 52,
   "id": "f9714c5c",
   "metadata": {},
   "outputs": [
    {
     "name": "stdout",
     "output_type": "stream",
     "text": [
      "31.817707076041184\n",
      "4.668375855294291\n"
     ]
    }
   ],
   "source": [
    "#checking error for Lasso \n",
    "\n",
    "msels=mean_squared_error(y_test,predls)\n",
    "maels=mean_absolute_error(y_test,predls)\n",
    "print(msels)\n",
    "print(maels)"
   ]
  },
  {
   "cell_type": "code",
   "execution_count": 45,
   "id": "1692f635",
   "metadata": {},
   "outputs": [
    {
     "name": "stdout",
     "output_type": "stream",
     "text": [
      "At cv= 2\n",
      "Cross Validation Score is: 13.897109144068304\n",
      "Accuracy score is: 60.338038270862796 \n",
      "\n",
      "At cv= 3\n",
      "Cross Validation Score is: 49.27410807544803\n",
      "Accuracy score is: 60.338038270862796 \n",
      "\n",
      "At cv= 4\n",
      "Cross Validation Score is: 63.336202219025104\n",
      "Accuracy score is: 60.338038270862796 \n",
      "\n",
      "At cv= 5\n",
      "Cross Validation Score is: 20.564882085579157\n",
      "Accuracy score is: 60.338038270862796 \n",
      "\n",
      "At cv= 6\n",
      "Cross Validation Score is: 34.69392471484223\n",
      "Accuracy score is: 60.338038270862796 \n",
      "\n",
      "At cv= 7\n",
      "Cross Validation Score is: 20.845527808096282\n",
      "Accuracy score is: 60.338038270862796 \n",
      "\n",
      "At cv= 8\n",
      "Cross Validation Score is: 35.21324697350838\n",
      "Accuracy score is: 60.338038270862796 \n",
      "\n",
      "At cv= 9\n",
      "Cross Validation Score is: -675.4168740331833\n",
      "Accuracy score is: 60.338038270862796 \n",
      "\n",
      "At cv= 10\n",
      "Cross Validation Score is: -632.6100349459998\n",
      "Accuracy score is: 60.338038270862796 \n",
      "\n",
      "At cv= 11\n",
      "Cross Validation Score is: -575.0848462333829\n",
      "Accuracy score is: 60.338038270862796 \n",
      "\n",
      "At cv= 12\n",
      "Cross Validation Score is: -722.27924722687\n",
      "Accuracy score is: 60.338038270862796 \n",
      "\n",
      "At cv= 13\n",
      "Cross Validation Score is: -2497.1324140907304\n",
      "Accuracy score is: 60.338038270862796 \n",
      "\n",
      "At cv= 14\n",
      "Cross Validation Score is: -3030.8671469431824\n",
      "Accuracy score is: 60.338038270862796 \n",
      "\n",
      "At cv= 15\n",
      "Cross Validation Score is: -2841.2179007329746\n",
      "Accuracy score is: 60.338038270862796 \n",
      "\n"
     ]
    }
   ],
   "source": [
    "#checking for cross validation score\n",
    "\n",
    "for j in range(2,16):\n",
    "    lss=cross_val_score(ls,x,y,cv=j)\n",
    "    lsc=lss.mean()\n",
    "    print('At cv=',j)\n",
    "    print('Cross Validation Score is:',lsc*100)\n",
    "    print('Accuracy score is:',r2_score(y_test,predls)*100,'\\n')"
   ]
  },
  {
   "cell_type": "markdown",
   "id": "04fd3763",
   "metadata": {},
   "source": [
    "- The accuracy has been decreased with Lasso regularization but cross validation has imoroved with cv=4"
   ]
  },
  {
   "cell_type": "code",
   "execution_count": 47,
   "id": "d2f2fdf9",
   "metadata": {},
   "outputs": [
    {
     "name": "stdout",
     "output_type": "stream",
     "text": [
      "{'alpha': 10, 'random_state': 0}\n"
     ]
    }
   ],
   "source": [
    "lrr=Ridge()\n",
    "\n",
    "para={'alpha':[.0001,.001,.01,.1,1,10],'random_state':[i for i in range(11)]}\n",
    "clf=GridSearchCV(lrr,para)\n",
    "x_train,x_test,y_train,y_test=train_test_split(x,y,random_state=6,test_size=.10)\n",
    "clf.fit(x_train,y_train)\n",
    "\n",
    "print(clf.best_params_)"
   ]
  },
  {
   "cell_type": "code",
   "execution_count": 48,
   "id": "c0195840",
   "metadata": {},
   "outputs": [
    {
     "name": "stdout",
     "output_type": "stream",
     "text": [
      "0.42214912132445526\n"
     ]
    }
   ],
   "source": [
    "x_train,x_test,y_train,y_test=train_test_split(x,y,random_state=6,test_size=.10)\n",
    "lrr=Ridge(alpha=10,random_state=0)\n",
    "lrr.fit(x_train,y_train)\n",
    "predtrain=lrr.predict(x_train)\n",
    "predlrr=lrr.predict(x_test)\n",
    "print(r2_score(y_test,predlrr))"
   ]
  },
  {
   "cell_type": "code",
   "execution_count": 53,
   "id": "27ff9f79",
   "metadata": {},
   "outputs": [
    {
     "name": "stdout",
     "output_type": "stream",
     "text": [
      "46.356481600415925\n",
      "4.8747589991072715\n"
     ]
    }
   ],
   "source": [
    "#checking error for Ridge\n",
    "\n",
    "mselrr=mean_squared_error(y_test,predlrr)\n",
    "maelrr=mean_absolute_error(y_test,predlrr)\n",
    "print(mselrr)\n",
    "print(maelrr)"
   ]
  },
  {
   "cell_type": "code",
   "execution_count": 49,
   "id": "b650ccac",
   "metadata": {},
   "outputs": [
    {
     "name": "stdout",
     "output_type": "stream",
     "text": [
      "At cv= 2\n",
      "Cross Validation Score is: 6.763084370919831\n",
      "Accuracy score is: 42.21491213244553 \n",
      "\n",
      "At cv= 3\n",
      "Cross Validation Score is: 45.79369511081149\n",
      "Accuracy score is: 42.21491213244553 \n",
      "\n",
      "At cv= 4\n",
      "Cross Validation Score is: 56.678110808973805\n",
      "Accuracy score is: 42.21491213244553 \n",
      "\n",
      "At cv= 5\n",
      "Cross Validation Score is: 16.955550855247896\n",
      "Accuracy score is: 42.21491213244553 \n",
      "\n",
      "At cv= 6\n",
      "Cross Validation Score is: 36.919174310399825\n",
      "Accuracy score is: 42.21491213244553 \n",
      "\n",
      "At cv= 7\n",
      "Cross Validation Score is: 24.332545666251523\n",
      "Accuracy score is: 42.21491213244553 \n",
      "\n",
      "At cv= 8\n",
      "Cross Validation Score is: 36.641358752131126\n",
      "Accuracy score is: 42.21491213244553 \n",
      "\n",
      "At cv= 9\n",
      "Cross Validation Score is: -1248.177056716259\n",
      "Accuracy score is: 42.21491213244553 \n",
      "\n",
      "At cv= 10\n",
      "Cross Validation Score is: -1147.0732134345656\n",
      "Accuracy score is: 42.21491213244553 \n",
      "\n",
      "At cv= 11\n",
      "Cross Validation Score is: -1041.828017833437\n",
      "Accuracy score is: 42.21491213244553 \n",
      "\n",
      "At cv= 12\n",
      "Cross Validation Score is: -1174.3428952559013\n",
      "Accuracy score is: 42.21491213244553 \n",
      "\n",
      "At cv= 13\n",
      "Cross Validation Score is: -4801.055831726471\n",
      "Accuracy score is: 42.21491213244553 \n",
      "\n",
      "At cv= 14\n",
      "Cross Validation Score is: -5075.317182692582\n",
      "Accuracy score is: 42.21491213244553 \n",
      "\n",
      "At cv= 15\n",
      "Cross Validation Score is: -4752.263738082944\n",
      "Accuracy score is: 42.21491213244553 \n",
      "\n"
     ]
    }
   ],
   "source": [
    "#checking for cross validation score\n",
    "lrr=Ridge(alpha=10,random_state=0)\n",
    "for j in range(2,16):\n",
    "    lss=cross_val_score(lrr,x,y,cv=j)\n",
    "    lsc=lss.mean()\n",
    "    print('At cv=',j)\n",
    "    print('Cross Validation Score is:',lsc*100)\n",
    "    print('Accuracy score is:',r2_score(y_test,predlrr)*100,'\\n')"
   ]
  },
  {
   "cell_type": "markdown",
   "id": "17a8d32e",
   "metadata": {},
   "source": [
    "- with Ridge model is performing poor than with Lasso and LinearRegression"
   ]
  },
  {
   "cell_type": "markdown",
   "id": "a70dda63",
   "metadata": {},
   "source": [
    "# Ensemble:"
   ]
  },
  {
   "cell_type": "code",
   "execution_count": 55,
   "id": "bd5801a8",
   "metadata": {},
   "outputs": [],
   "source": [
    "from sklearn.ensemble import RandomForestRegressor,GradientBoostingRegressor"
   ]
  },
  {
   "cell_type": "code",
   "execution_count": 56,
   "id": "fd1f1a7f",
   "metadata": {},
   "outputs": [
    {
     "name": "stdout",
     "output_type": "stream",
     "text": [
      "{'criterion': 'absolute_error', 'max_features': 'sqrt'}\n"
     ]
    }
   ],
   "source": [
    "parameters={'criterion':[\"squared_error\", \"absolute_error\", \"poisson\"],'max_features':['sqrt','log2','auto']}\n",
    "rf=RandomForestRegressor()\n",
    "clf=GridSearchCV(rf,parameters)\n",
    "x_train,x_test,y_train,y_test=train_test_split(x,y,random_state=6,test_size=.10)\n",
    "clf.fit(x_train,y_train)\n",
    "\n",
    "print(clf.best_params_)"
   ]
  },
  {
   "cell_type": "code",
   "execution_count": 57,
   "id": "e7088618",
   "metadata": {},
   "outputs": [
    {
     "name": "stdout",
     "output_type": "stream",
     "text": [
      "Accuracy score for Random Forest is: 7.511163434903045\n"
     ]
    }
   ],
   "source": [
    "rf=RandomForestRegressor(criterion='absolute_error',max_features='sqrt')\n",
    "x_train,x_test,y_train,y_test=train_test_split(x,y,random_state=6,test_size=.10)\n",
    "rf.fit(x_train,y_train)\n",
    "predrf=rf.predict(x_test)\n",
    "\n",
    "rfscore=r2_score(y_test,predrf)\n",
    "\n",
    "print('Accuracy score for Random Forest is:',rfscore*100)"
   ]
  },
  {
   "cell_type": "code",
   "execution_count": 58,
   "id": "bda0d5cf",
   "metadata": {},
   "outputs": [
    {
     "name": "stdout",
     "output_type": "stream",
     "text": [
      "At cv= 2\n",
      "Cross Validation Score is: -8.997009281122754\n",
      "Accuracy score is: 7.511163434903045 \n",
      "\n",
      "At cv= 3\n",
      "Cross Validation Score is: 26.531301508411804\n",
      "Accuracy score is: 7.511163434903045 \n",
      "\n",
      "At cv= 4\n",
      "Cross Validation Score is: 27.63413712019322\n",
      "Accuracy score is: 7.511163434903045 \n",
      "\n",
      "At cv= 5\n",
      "Cross Validation Score is: -22.881501189689086\n",
      "Accuracy score is: 7.511163434903045 \n",
      "\n",
      "At cv= 6\n",
      "Cross Validation Score is: 19.86301788285635\n",
      "Accuracy score is: 7.511163434903045 \n",
      "\n",
      "At cv= 7\n",
      "Cross Validation Score is: 9.740022726306364\n",
      "Accuracy score is: 7.511163434903045 \n",
      "\n",
      "At cv= 8\n",
      "Cross Validation Score is: -14.279782852112033\n",
      "Accuracy score is: 7.511163434903045 \n",
      "\n",
      "At cv= 9\n",
      "Cross Validation Score is: -1623.2872437627507\n",
      "Accuracy score is: 7.511163434903045 \n",
      "\n",
      "At cv= 10\n",
      "Cross Validation Score is: -1480.347454539425\n",
      "Accuracy score is: 7.511163434903045 \n",
      "\n",
      "At cv= 11\n",
      "Cross Validation Score is: -1436.2088033827176\n",
      "Accuracy score is: 7.511163434903045 \n",
      "\n",
      "At cv= 12\n",
      "Cross Validation Score is: -1715.465071102812\n",
      "Accuracy score is: 7.511163434903045 \n",
      "\n",
      "At cv= 13\n",
      "Cross Validation Score is: -4737.669651143334\n",
      "Accuracy score is: 7.511163434903045 \n",
      "\n",
      "At cv= 14\n",
      "Cross Validation Score is: -4609.962784763265\n",
      "Accuracy score is: 7.511163434903045 \n",
      "\n",
      "At cv= 15\n",
      "Cross Validation Score is: -5143.557643975342\n",
      "Accuracy score is: 7.511163434903045 \n",
      "\n"
     ]
    }
   ],
   "source": [
    "#checking for cross validation score\n",
    "\n",
    "for j in range(2,16):\n",
    "    rfs=cross_val_score(rf,x,y,cv=j)\n",
    "    rfc=rfs.mean()\n",
    "    print('At cv=',j)\n",
    "    print('Cross Validation Score is:',rfc*100)\n",
    "    print('Accuracy score is:',r2_score(y_test,predrf)*100,'\\n')"
   ]
  },
  {
   "cell_type": "code",
   "execution_count": 59,
   "id": "fa0228dc",
   "metadata": {},
   "outputs": [
    {
     "name": "stdout",
     "output_type": "stream",
     "text": [
      "74.1966\n",
      "6.386666666666666\n"
     ]
    }
   ],
   "source": [
    "#checking error for RandomForest\n",
    "\n",
    "mserf=mean_squared_error(y_test,predrf)\n",
    "maerf=mean_absolute_error(y_test,predrf)\n",
    "print(mserf)\n",
    "print(maerf)"
   ]
  },
  {
   "cell_type": "code",
   "execution_count": 60,
   "id": "4dd659eb",
   "metadata": {},
   "outputs": [
    {
     "name": "stdout",
     "output_type": "stream",
     "text": [
      "28.754276515895462\n"
     ]
    }
   ],
   "source": [
    "gb=GradientBoostingRegressor()\n",
    "x_train,x_test,y_train,y_test=train_test_split(x,y,random_state=6,test_size=.10)\n",
    "gb.fit(x_train,y_train)\n",
    "predgb=gb.predict(x_test)\n",
    "print(r2_score(y_test,predgb)*100)"
   ]
  },
  {
   "cell_type": "code",
   "execution_count": 61,
   "id": "d7869514",
   "metadata": {},
   "outputs": [
    {
     "name": "stdout",
     "output_type": "stream",
     "text": [
      "At cv= 2\n",
      "Cross Validation Score is: -104.33071409709606\n",
      "Accuracy score is: 28.754276515895462 \n",
      "\n",
      "At cv= 3\n",
      "Cross Validation Score is: 23.714876264185502\n",
      "Accuracy score is: 28.754276515895462 \n",
      "\n",
      "At cv= 4\n",
      "Cross Validation Score is: 20.259946866395783\n",
      "Accuracy score is: 28.754276515895462 \n",
      "\n",
      "At cv= 5\n",
      "Cross Validation Score is: -110.43361520867765\n",
      "Accuracy score is: 28.754276515895462 \n",
      "\n"
     ]
    }
   ],
   "source": [
    "#checking for cross validation score\n",
    "\n",
    "for j in range(2,6):\n",
    "    gbs=cross_val_score(gb,x,y,cv=j)\n",
    "    gbc=gbs.mean()\n",
    "    print('At cv=',j)\n",
    "    print('Cross Validation Score is:',gbc*100)\n",
    "    print('Accuracy score is:',r2_score(y_test,predgb)*100,'\\n')"
   ]
  },
  {
   "cell_type": "code",
   "execution_count": 62,
   "id": "f4c68dcd",
   "metadata": {},
   "outputs": [
    {
     "name": "stdout",
     "output_type": "stream",
     "text": [
      "57.15490261724832\n",
      "5.780905435452017\n"
     ]
    }
   ],
   "source": [
    "#checking error for GradientBoosting\n",
    "\n",
    "msegb=mean_squared_error(y_test,predgb)\n",
    "maegb=mean_absolute_error(y_test,predgb)\n",
    "print(msegb)\n",
    "print(maegb)"
   ]
  },
  {
   "cell_type": "code",
   "execution_count": 63,
   "id": "3d248063",
   "metadata": {},
   "outputs": [],
   "source": [
    "#Now lets try out some more regressors"
   ]
  },
  {
   "cell_type": "code",
   "execution_count": 64,
   "id": "7f031e27",
   "metadata": {},
   "outputs": [],
   "source": [
    "from sklearn.neighbors import KNeighborsRegressor"
   ]
  },
  {
   "cell_type": "code",
   "execution_count": 65,
   "id": "0f133f89",
   "metadata": {},
   "outputs": [
    {
     "name": "stdout",
     "output_type": "stream",
     "text": [
      "-16.60941828254856\n"
     ]
    }
   ],
   "source": [
    "knn=KNeighborsRegressor()\n",
    "x_train,x_test,y_train,y_test=train_test_split(x,y,random_state=6,test_size=.10)\n",
    "knn.fit(x_train,y_train)\n",
    "predknn=knn.predict(x_test)\n",
    "print(r2_score(y_test,predknn)*100)"
   ]
  },
  {
   "cell_type": "code",
   "execution_count": 67,
   "id": "3ed44a44",
   "metadata": {},
   "outputs": [
    {
     "name": "stdout",
     "output_type": "stream",
     "text": [
      "At cv= 2\n",
      "Cross Validation Score is: -25.087074663920305 \n",
      "\n",
      "At cv= 3\n",
      "Cross Validation Score is: 27.072832141507035 \n",
      "\n",
      "At cv= 4\n",
      "Cross Validation Score is: 13.5321458703768 \n",
      "\n",
      "At cv= 5\n",
      "Cross Validation Score is: -61.35637174804226 \n",
      "\n",
      "At cv= 6\n",
      "Cross Validation Score is: 9.142553515342367 \n",
      "\n"
     ]
    }
   ],
   "source": [
    "#checking for cross validation score\n",
    "\n",
    "knn=KNeighborsRegressor()\n",
    "for j in range(2,7):\n",
    "    knns=cross_val_score(knn,x,y,cv=j)\n",
    "    knnc=knns.mean()\n",
    "    print('At cv=',j)\n",
    "    print('Cross Validation Score is:',knnc*100,'\\n')"
   ]
  },
  {
   "cell_type": "code",
   "execution_count": 68,
   "id": "278e3723",
   "metadata": {},
   "outputs": [
    {
     "name": "stdout",
     "output_type": "stream",
     "text": [
      "93.54666666666674\n",
      "6.933333333333337\n"
     ]
    }
   ],
   "source": [
    "#checking error for KNeighbors\n",
    "\n",
    "mseknn=mean_squared_error(y_test,predknn)\n",
    "maeknn=mean_absolute_error(y_test,predknn)\n",
    "print(mseknn)\n",
    "print(maeknn)"
   ]
  },
  {
   "cell_type": "markdown",
   "id": "73d646f2",
   "metadata": {},
   "source": [
    "- The model is performing extremely poor with KNeighborsRegressor"
   ]
  },
  {
   "cell_type": "code",
   "execution_count": 69,
   "id": "5cc7f91c",
   "metadata": {},
   "outputs": [
    {
     "name": "stdout",
     "output_type": "stream",
     "text": [
      "-32.13296398891965\n"
     ]
    }
   ],
   "source": [
    "from sklearn.tree import DecisionTreeRegressor\n",
    "\n",
    "dtc=DecisionTreeRegressor()\n",
    "\n",
    "x_train,x_test,y_train,y_test=train_test_split(x,y,random_state=6,test_size=.10)\n",
    "dtc.fit(x_train,y_train)\n",
    "preddtc=dtc.predict(x_test)\n",
    "print(r2_score(y_test,preddtc)*100)"
   ]
  },
  {
   "cell_type": "code",
   "execution_count": 70,
   "id": "18a863f1",
   "metadata": {},
   "outputs": [
    {
     "name": "stdout",
     "output_type": "stream",
     "text": [
      "At cv= 2\n",
      "Cross Validation Score is: -96.83262800410087 \n",
      "\n",
      "At cv= 3\n",
      "Cross Validation Score is: -38.19527760981035 \n",
      "\n",
      "At cv= 4\n",
      "Cross Validation Score is: -30.235152148955475 \n",
      "\n",
      "At cv= 5\n",
      "Cross Validation Score is: -228.2353576129327 \n",
      "\n",
      "At cv= 6\n",
      "Cross Validation Score is: -60.39892154541017 \n",
      "\n",
      "At cv= 7\n",
      "Cross Validation Score is: -139.74561819366707 \n",
      "\n"
     ]
    }
   ],
   "source": [
    "#checking cross validation\n",
    "\n",
    "for j in range(2,8):\n",
    "    dtcs=cross_val_score(dtc,x,y,cv=j)\n",
    "    dtcc=dtcs.mean()\n",
    "    print('At cv=',j)\n",
    "    print('Cross Validation Score is:',dtcc*100,'\\n')"
   ]
  },
  {
   "cell_type": "code",
   "execution_count": 72,
   "id": "dc33f3d9",
   "metadata": {},
   "outputs": [
    {
     "name": "stdout",
     "output_type": "stream",
     "text": [
      "106.0\n",
      "8.666666666666666\n"
     ]
    }
   ],
   "source": [
    "#checking error for DecisionTree\n",
    "\n",
    "msedtc=mean_squared_error(y_test,preddtc)\n",
    "maedtc=mean_absolute_error(y_test,preddtc)\n",
    "print(msedtc)\n",
    "print(maedtc)"
   ]
  },
  {
   "cell_type": "code",
   "execution_count": 73,
   "id": "8026dddf",
   "metadata": {},
   "outputs": [
    {
     "data": {
      "text/html": [
       "<div>\n",
       "<style scoped>\n",
       "    .dataframe tbody tr th:only-of-type {\n",
       "        vertical-align: middle;\n",
       "    }\n",
       "\n",
       "    .dataframe tbody tr th {\n",
       "        vertical-align: top;\n",
       "    }\n",
       "\n",
       "    .dataframe thead th {\n",
       "        text-align: right;\n",
       "    }\n",
       "</style>\n",
       "<table border=\"1\" class=\"dataframe\">\n",
       "  <thead>\n",
       "    <tr style=\"text-align: right;\">\n",
       "      <th></th>\n",
       "      <th>Mean Squared Error</th>\n",
       "      <th>Mean Absolute Error</th>\n",
       "      <th>Accuracy Score</th>\n",
       "    </tr>\n",
       "  </thead>\n",
       "  <tbody>\n",
       "    <tr>\n",
       "      <th>LinearRegression</th>\n",
       "      <td>9.731534</td>\n",
       "      <td>2.370562</td>\n",
       "      <td>0.878693</td>\n",
       "    </tr>\n",
       "    <tr>\n",
       "      <th>Lasso</th>\n",
       "      <td>31.817707</td>\n",
       "      <td>4.668376</td>\n",
       "      <td>0.603380</td>\n",
       "    </tr>\n",
       "    <tr>\n",
       "      <th>Ridge</th>\n",
       "      <td>46.356482</td>\n",
       "      <td>4.874759</td>\n",
       "      <td>0.422149</td>\n",
       "    </tr>\n",
       "    <tr>\n",
       "      <th>KNeighborsRegressor</th>\n",
       "      <td>93.546667</td>\n",
       "      <td>6.933333</td>\n",
       "      <td>-0.166094</td>\n",
       "    </tr>\n",
       "    <tr>\n",
       "      <th>DecisionTreeClassifier</th>\n",
       "      <td>106.000000</td>\n",
       "      <td>8.666667</td>\n",
       "      <td>-0.321330</td>\n",
       "    </tr>\n",
       "    <tr>\n",
       "      <th>GradientBoostingRegressor</th>\n",
       "      <td>57.154903</td>\n",
       "      <td>5.780905</td>\n",
       "      <td>0.287543</td>\n",
       "    </tr>\n",
       "    <tr>\n",
       "      <th>RandomForestRegressor</th>\n",
       "      <td>74.196600</td>\n",
       "      <td>6.386667</td>\n",
       "      <td>0.075112</td>\n",
       "    </tr>\n",
       "  </tbody>\n",
       "</table>\n",
       "</div>"
      ],
      "text/plain": [
       "                           Mean Squared Error  Mean Absolute Error  \\\n",
       "LinearRegression                     9.731534             2.370562   \n",
       "Lasso                               31.817707             4.668376   \n",
       "Ridge                               46.356482             4.874759   \n",
       "KNeighborsRegressor                 93.546667             6.933333   \n",
       "DecisionTreeClassifier             106.000000             8.666667   \n",
       "GradientBoostingRegressor           57.154903             5.780905   \n",
       "RandomForestRegressor               74.196600             6.386667   \n",
       "\n",
       "                           Accuracy Score  \n",
       "LinearRegression                 0.878693  \n",
       "Lasso                            0.603380  \n",
       "Ridge                            0.422149  \n",
       "KNeighborsRegressor             -0.166094  \n",
       "DecisionTreeClassifier          -0.321330  \n",
       "GradientBoostingRegressor        0.287543  \n",
       "RandomForestRegressor            0.075112  "
      ]
     },
     "execution_count": 73,
     "metadata": {},
     "output_type": "execute_result"
    }
   ],
   "source": [
    "algodf=pd.DataFrame({'Mean Squared Error':[mselr,msels,mselrr,mseknn,msedtc,msegb,mserf],'Mean Absolute Error':[maelr,maels,maelrr,maeknn,maedtc,maegb,maerf],'Accuracy Score':[r2_score(y_test,predlr),r2_score(y_test,predls),r2_score(y_test,predlrr),r2_score(y_test,predknn),r2_score(y_test,preddtc),r2_score(y_test,predgb),r2_score(y_test,predrf)]},index=['LinearRegression','Lasso','Ridge','KNeighborsRegressor','DecisionTreeClassifier','GradientBoostingRegressor','RandomForestRegressor'])\n",
    "algodf"
   ]
  },
  {
   "cell_type": "raw",
   "id": "c5d0a5d7",
   "metadata": {},
   "source": [
    "-So, far Lasso and Linear Regression has given us the best results, But now lets try out some classification algorithms"
   ]
  },
  {
   "cell_type": "code",
   "execution_count": 76,
   "id": "30e7a774",
   "metadata": {},
   "outputs": [],
   "source": [
    "#importing libraries\n",
    "\n",
    "from sklearn.tree import DecisionTreeClassifier\n",
    "from sklearn.neighbors import KNeighborsClassifier\n",
    "from sklearn.svm import SVC\n",
    "from sklearn.metrics import accuracy_score,confusion_matrix,classification_report,roc_curve,auc"
   ]
  },
  {
   "cell_type": "code",
   "execution_count": 82,
   "id": "9682126c",
   "metadata": {},
   "outputs": [
    {
     "name": "stdout",
     "output_type": "stream",
     "text": [
      "At random state 0 the model performs very well\n",
      "At random state 0 :\n",
      "Training accuracy score is 22.22222222222222\n",
      "Testing accuracy score is 33.33333333333333 \n",
      "\n",
      "At random state 20 the model performs very well\n",
      "At random state 20 :\n",
      "Training accuracy score is 14.814814814814813\n",
      "Testing accuracy score is 33.33333333333333 \n",
      "\n",
      "At random state 32 the model performs very well\n",
      "At random state 32 :\n",
      "Training accuracy score is 18.51851851851852\n",
      "Testing accuracy score is 33.33333333333333 \n",
      "\n",
      "At random state 43 the model performs very well\n",
      "At random state 43 :\n",
      "Training accuracy score is 14.814814814814813\n",
      "Testing accuracy score is 33.33333333333333 \n",
      "\n",
      "At random state 56 the model performs very well\n",
      "At random state 56 :\n",
      "Training accuracy score is 18.51851851851852\n",
      "Testing accuracy score is 33.33333333333333 \n",
      "\n",
      "At random state 65 the model performs very well\n",
      "At random state 65 :\n",
      "Training accuracy score is 14.814814814814813\n",
      "Testing accuracy score is 33.33333333333333 \n",
      "\n",
      "At random state 69 the model performs very well\n",
      "At random state 69 :\n",
      "Training accuracy score is 22.22222222222222\n",
      "Testing accuracy score is 33.33333333333333 \n",
      "\n",
      "At random state 76 the model performs very well\n",
      "At random state 76 :\n",
      "Training accuracy score is 14.814814814814813\n",
      "Testing accuracy score is 33.33333333333333 \n",
      "\n",
      "At random state 80 the model performs very well\n",
      "At random state 80 :\n",
      "Training accuracy score is 14.814814814814813\n",
      "Testing accuracy score is 33.33333333333333 \n",
      "\n",
      "At random state 94 the model performs very well\n",
      "At random state 94 :\n",
      "Training accuracy score is 11.11111111111111\n",
      "Testing accuracy score is 33.33333333333333 \n",
      "\n",
      "At random state 98 the model performs very well\n",
      "At random state 98 :\n",
      "Training accuracy score is 18.51851851851852\n",
      "Testing accuracy score is 33.33333333333333 \n",
      "\n"
     ]
    }
   ],
   "source": [
    "for i in range(100):\n",
    "    knn=KNeighborsClassifier()\n",
    "    x_train,x_test,y_train,y_test=train_test_split(x,y,random_state=i,test_size=.10)\n",
    "    knn.fit(x_train,y_train)\n",
    "    predtrain=knn.predict(x_train)\n",
    "    predknn=knn.predict(x_test)\n",
    "    if round(accuracy_score(y_test,predknn)*100)>30:\n",
    "        print('At random state',i,'the model performs very well')\n",
    "        print('At random state',i,':')\n",
    "        print('Training accuracy score is',accuracy_score(y_train,predtrain)*100)\n",
    "        print('Testing accuracy score is',accuracy_score(y_test,predknn)*100,'\\n')"
   ]
  },
  {
   "cell_type": "code",
   "execution_count": 102,
   "id": "d054f855",
   "metadata": {},
   "outputs": [],
   "source": [
    "#so we will use random state as 32 for further process\n",
    "\n",
    "x_train,x_test,y_train,y_test=train_test_split(x,y,random_state=32,test_size=.22)\n",
    "knn.fit(x_train,y_train)\n",
    "predtrain=knn.predict(x_train)\n",
    "predknn=knn.predict(x_test)"
   ]
  },
  {
   "cell_type": "code",
   "execution_count": 103,
   "id": "cd62ecf8",
   "metadata": {},
   "outputs": [
    {
     "name": "stdout",
     "output_type": "stream",
     "text": [
      "0.17391304347826086\n",
      "14.285714285714285\n",
      "[[0 0 0 0 0 0 0 0 0 0 0]\n",
      " [0 0 1 0 0 0 0 0 0 0 0]\n",
      " [0 0 0 0 0 0 0 0 0 0 0]\n",
      " [0 0 0 1 0 0 0 0 0 0 0]\n",
      " [0 0 0 0 0 0 0 0 0 0 0]\n",
      " [0 0 0 0 0 0 0 0 0 0 0]\n",
      " [0 0 0 1 0 0 0 0 0 0 0]\n",
      " [1 0 0 0 0 0 0 0 0 0 0]\n",
      " [0 0 1 0 0 0 0 0 0 0 0]\n",
      " [0 0 0 0 1 0 0 0 0 0 0]\n",
      " [0 0 0 0 0 1 0 0 0 0 0]]\n",
      "              precision    recall  f1-score   support\n",
      "\n",
      "          67       0.00      0.00      0.00         0\n",
      "          68       0.00      0.00      0.00         1\n",
      "          74       0.00      0.00      0.00         0\n",
      "          76       0.50      1.00      0.67         1\n",
      "          78       0.00      0.00      0.00         0\n",
      "          79       0.00      0.00      0.00         0\n",
      "          83       0.00      0.00      0.00         1\n",
      "          85       0.00      0.00      0.00         1\n",
      "          87       0.00      0.00      0.00         1\n",
      "          95       0.00      0.00      0.00         1\n",
      "         100       0.00      0.00      0.00         1\n",
      "\n",
      "    accuracy                           0.14         7\n",
      "   macro avg       0.05      0.09      0.06         7\n",
      "weighted avg       0.07      0.14      0.10         7\n",
      "\n"
     ]
    }
   ],
   "source": [
    "print(accuracy_score(y_train,predtrain))\n",
    "print(accuracy_score(y_test,predknn)*100)\n",
    "print(confusion_matrix(y_test,predknn))\n",
    "print(classification_report(y_test,predknn))"
   ]
  },
  {
   "cell_type": "code",
   "execution_count": 106,
   "id": "6958a6f9",
   "metadata": {},
   "outputs": [
    {
     "name": "stdout",
     "output_type": "stream",
     "text": [
      "186.85714285714286\n"
     ]
    }
   ],
   "source": [
    "from sklearn.metrics import mean_squared_error\n",
    "\n",
    "mseknn=mean_squared_error(y_test,predknn)\n",
    "\n",
    "print(mseknn)"
   ]
  },
  {
   "cell_type": "code",
   "execution_count": 110,
   "id": "2e17dbd9",
   "metadata": {},
   "outputs": [
    {
     "name": "stdout",
     "output_type": "stream",
     "text": [
      "At cv= 2\n",
      "Cross Validation Score is: 10.0\n",
      "Accuracy score is: 14.285714285714285 \n",
      "\n",
      "At cv= 3\n",
      "Cross Validation Score is: 3.3333333333333335\n",
      "Accuracy score is: 14.285714285714285 \n",
      "\n"
     ]
    }
   ],
   "source": [
    "#checking cross validation score\n",
    "\n",
    "for j in range(2,4):\n",
    "    knns=cross_val_score(knn,x,y,cv=j)\n",
    "    knnc=knns.mean()\n",
    "    print('At cv=',j)\n",
    "    print('Cross Validation Score is:',knnc*100)\n",
    "    print('Accuracy score is:',accuracy_score(y_test,predknn)*100,'\\n')"
   ]
  },
  {
   "cell_type": "code",
   "execution_count": 113,
   "id": "2eeb0ec3",
   "metadata": {},
   "outputs": [
    {
     "name": "stdout",
     "output_type": "stream",
     "text": [
      "0.0\n"
     ]
    }
   ],
   "source": [
    "#decisonTree\n",
    "\n",
    "dtc=DecisionTreeClassifier()\n",
    "x_train,x_test,y_train,y_test=train_test_split(x,y,random_state=32,test_size=.22)\n",
    "dtc.fit(x_train,y_train)\n",
    "predtrain=dtc.predict(x_train)\n",
    "preddtc=dtc.predict(x_test)\n",
    "\n",
    "print(accuracy_score(y_test,preddtc)*100)"
   ]
  },
  {
   "cell_type": "markdown",
   "id": "dc94b111",
   "metadata": {},
   "source": [
    "- the accuracy is 0 with DecisionTreeClassifier"
   ]
  },
  {
   "cell_type": "code",
   "execution_count": 114,
   "id": "51f352b5",
   "metadata": {},
   "outputs": [
    {
     "name": "stdout",
     "output_type": "stream",
     "text": [
      "0.0\n",
      "[[0 0 0 0 0 0 0 0 0 0 0 0]\n",
      " [0 0 1 0 0 0 0 0 0 0 0 0]\n",
      " [0 0 0 0 0 0 0 0 0 0 0 0]\n",
      " [1 0 0 0 0 0 0 0 0 0 0 0]\n",
      " [0 0 0 0 0 0 0 0 0 0 0 0]\n",
      " [0 0 0 0 0 0 0 0 0 0 0 0]\n",
      " [0 0 0 0 0 0 0 0 0 1 0 0]\n",
      " [0 0 0 0 1 0 0 0 0 0 0 0]\n",
      " [0 0 0 1 0 0 0 0 0 0 0 0]\n",
      " [0 0 0 0 0 0 0 0 0 0 0 0]\n",
      " [0 0 0 0 0 0 1 0 0 0 0 0]\n",
      " [0 0 0 0 0 1 0 0 0 0 0 0]]\n",
      "              precision    recall  f1-score   support\n",
      "\n",
      "          64       0.00      0.00      0.00       0.0\n",
      "          68       0.00      0.00      0.00       1.0\n",
      "          74       0.00      0.00      0.00       0.0\n",
      "          76       0.00      0.00      0.00       1.0\n",
      "          78       0.00      0.00      0.00       0.0\n",
      "          79       0.00      0.00      0.00       0.0\n",
      "          83       0.00      0.00      0.00       1.0\n",
      "          85       0.00      0.00      0.00       1.0\n",
      "          87       0.00      0.00      0.00       1.0\n",
      "          93       0.00      0.00      0.00       0.0\n",
      "          95       0.00      0.00      0.00       1.0\n",
      "         100       0.00      0.00      0.00       1.0\n",
      "\n",
      "    accuracy                           0.00       7.0\n",
      "   macro avg       0.00      0.00      0.00       7.0\n",
      "weighted avg       0.00      0.00      0.00       7.0\n",
      "\n"
     ]
    }
   ],
   "source": [
    "print(accuracy_score(y_test,preddtc)*100)\n",
    "print(confusion_matrix(y_test,preddtc))\n",
    "print(classification_report(y_test,preddtc))"
   ]
  },
  {
   "cell_type": "code",
   "execution_count": 115,
   "id": "1c12d394",
   "metadata": {},
   "outputs": [
    {
     "name": "stdout",
     "output_type": "stream",
     "text": [
      "147.85714285714286\n"
     ]
    }
   ],
   "source": [
    "msedtc=mean_squared_error(y_test,preddtc)\n",
    "\n",
    "print(msedtc)"
   ]
  },
  {
   "cell_type": "code",
   "execution_count": 116,
   "id": "2dc5482d",
   "metadata": {},
   "outputs": [
    {
     "name": "stdout",
     "output_type": "stream",
     "text": [
      "0.0\n"
     ]
    }
   ],
   "source": [
    "#SVC\n",
    "\n",
    "svc=SVC()\n",
    "x_train,x_test,y_train,y_test=train_test_split(x,y,random_state=32,test_size=.22)\n",
    "svc.fit(x_train,y_train)\n",
    "predtrain=svc.predict(x_train)\n",
    "predsvc=svc.predict(x_test)\n",
    "\n",
    "print(accuracy_score(y_test,predsvc)*100)"
   ]
  },
  {
   "cell_type": "code",
   "execution_count": 117,
   "id": "ccaa7379",
   "metadata": {},
   "outputs": [
    {
     "name": "stdout",
     "output_type": "stream",
     "text": [
      "0.0\n",
      "[[0 1 0 0 0 0 0 0 0]\n",
      " [0 0 0 0 0 0 0 0 0]\n",
      " [0 1 0 0 0 0 0 0 0]\n",
      " [0 0 0 0 0 0 0 0 0]\n",
      " [0 0 0 1 0 0 0 0 0]\n",
      " [0 0 0 1 0 0 0 0 0]\n",
      " [0 0 0 1 0 0 0 0 0]\n",
      " [0 1 0 0 0 0 0 0 0]\n",
      " [0 0 0 1 0 0 0 0 0]]\n",
      "              precision    recall  f1-score   support\n",
      "\n",
      "          68       0.00      0.00      0.00       1.0\n",
      "          74       0.00      0.00      0.00       0.0\n",
      "          76       0.00      0.00      0.00       1.0\n",
      "          81       0.00      0.00      0.00       0.0\n",
      "          83       0.00      0.00      0.00       1.0\n",
      "          85       0.00      0.00      0.00       1.0\n",
      "          87       0.00      0.00      0.00       1.0\n",
      "          95       0.00      0.00      0.00       1.0\n",
      "         100       0.00      0.00      0.00       1.0\n",
      "\n",
      "    accuracy                           0.00       7.0\n",
      "   macro avg       0.00      0.00      0.00       7.0\n",
      "weighted avg       0.00      0.00      0.00       7.0\n",
      "\n"
     ]
    }
   ],
   "source": [
    "print(accuracy_score(y_test,predsvc)*100)\n",
    "print(confusion_matrix(y_test,predsvc))\n",
    "print(classification_report(y_test,predsvc))"
   ]
  },
  {
   "cell_type": "code",
   "execution_count": 118,
   "id": "57b15534",
   "metadata": {},
   "outputs": [
    {
     "name": "stdout",
     "output_type": "stream",
     "text": [
      "128.28571428571428\n"
     ]
    }
   ],
   "source": [
    "msesvc=mean_squared_error(y_test,predsvc)\n",
    "\n",
    "print(msesvc)"
   ]
  },
  {
   "cell_type": "code",
   "execution_count": 119,
   "id": "2e84f611",
   "metadata": {},
   "outputs": [],
   "source": [
    "#now, let's try ensemble technique:\n",
    "\n",
    "from sklearn.ensemble import RandomForestClassifier,GradientBoostingClassifier"
   ]
  },
  {
   "cell_type": "code",
   "execution_count": 120,
   "id": "f14569a0",
   "metadata": {},
   "outputs": [
    {
     "name": "stdout",
     "output_type": "stream",
     "text": [
      "0.0\n"
     ]
    }
   ],
   "source": [
    "#RandomForestClassifier\n",
    "\n",
    "rf=RandomForestClassifier()\n",
    "x_train,x_test,y_train,y_test=train_test_split(x,y,random_state=32,test_size=.22)\n",
    "rf.fit(x_train,y_train)\n",
    "predtrain=rf.predict(x_train)\n",
    "predrf=rf.predict(x_test)\n",
    "\n",
    "print(accuracy_score(y_test,predrf)*100)"
   ]
  },
  {
   "cell_type": "code",
   "execution_count": 121,
   "id": "c44f1090",
   "metadata": {},
   "outputs": [
    {
     "name": "stdout",
     "output_type": "stream",
     "text": [
      "92.14285714285714\n"
     ]
    }
   ],
   "source": [
    "mserf=mean_squared_error(y_test,predrf)\n",
    "\n",
    "print(mserf)"
   ]
  },
  {
   "cell_type": "code",
   "execution_count": 122,
   "id": "c49f8622",
   "metadata": {},
   "outputs": [
    {
     "name": "stdout",
     "output_type": "stream",
     "text": [
      "0.0\n"
     ]
    }
   ],
   "source": [
    "gb=GradientBoostingClassifier()\n",
    "x_train,x_test,y_train,y_test=train_test_split(x,y,random_state=32,test_size=.22)\n",
    "gb.fit(x_train,y_train)\n",
    "predtrain=gb.predict(x_train)\n",
    "predgb=gb.predict(x_test)\n",
    "\n",
    "print(accuracy_score(y_test,predgb)*100)"
   ]
  },
  {
   "cell_type": "code",
   "execution_count": 123,
   "id": "667fa1dd",
   "metadata": {},
   "outputs": [
    {
     "name": "stdout",
     "output_type": "stream",
     "text": [
      "63.285714285714285\n"
     ]
    }
   ],
   "source": [
    "msegb=mean_squared_error(y_test,predgb)\n",
    "\n",
    "print(msegb)"
   ]
  },
  {
   "cell_type": "code",
   "execution_count": 127,
   "id": "78577db1",
   "metadata": {},
   "outputs": [
    {
     "data": {
      "text/html": [
       "<div>\n",
       "<style scoped>\n",
       "    .dataframe tbody tr th:only-of-type {\n",
       "        vertical-align: middle;\n",
       "    }\n",
       "\n",
       "    .dataframe tbody tr th {\n",
       "        vertical-align: top;\n",
       "    }\n",
       "\n",
       "    .dataframe thead th {\n",
       "        text-align: right;\n",
       "    }\n",
       "</style>\n",
       "<table border=\"1\" class=\"dataframe\">\n",
       "  <thead>\n",
       "    <tr style=\"text-align: right;\">\n",
       "      <th></th>\n",
       "      <th>Mean Squared Error</th>\n",
       "      <th>Accuracy Score</th>\n",
       "    </tr>\n",
       "  </thead>\n",
       "  <tbody>\n",
       "    <tr>\n",
       "      <th>0</th>\n",
       "      <td>186.857143</td>\n",
       "      <td>0.142857</td>\n",
       "    </tr>\n",
       "    <tr>\n",
       "      <th>1</th>\n",
       "      <td>147.857143</td>\n",
       "      <td>0.000000</td>\n",
       "    </tr>\n",
       "    <tr>\n",
       "      <th>2</th>\n",
       "      <td>128.285714</td>\n",
       "      <td>0.000000</td>\n",
       "    </tr>\n",
       "    <tr>\n",
       "      <th>3</th>\n",
       "      <td>92.142857</td>\n",
       "      <td>0.000000</td>\n",
       "    </tr>\n",
       "    <tr>\n",
       "      <th>4</th>\n",
       "      <td>63.285714</td>\n",
       "      <td>0.000000</td>\n",
       "    </tr>\n",
       "  </tbody>\n",
       "</table>\n",
       "</div>"
      ],
      "text/plain": [
       "   Mean Squared Error  Accuracy Score\n",
       "0          186.857143        0.142857\n",
       "1          147.857143        0.000000\n",
       "2          128.285714        0.000000\n",
       "3           92.142857        0.000000\n",
       "4           63.285714        0.000000"
      ]
     },
     "execution_count": 127,
     "metadata": {},
     "output_type": "execute_result"
    }
   ],
   "source": [
    "from sklearn.metrics import accuracy_score as acs\n",
    "\n",
    "algodf=pd.DataFrame({'Mean Squared Error':[mseknn,msedtc,msesvc,mserf,msegb],'Accuracy Score':[acs(y_test,predknn),acs(y_test,preddtc),acs(y_test,predsvc),acs(y_test,predrf),acs(y_test,predgb)]})\n",
    "algodf"
   ]
  },
  {
   "cell_type": "markdown",
   "id": "197f3847",
   "metadata": {},
   "source": [
    "- the classifiers are giving very poor results as the target variable has each and every value as unique, so we will go on with regrssion only"
   ]
  },
  {
   "cell_type": "code",
   "execution_count": 130,
   "id": "132fb866",
   "metadata": {},
   "outputs": [
    {
     "name": "stdout",
     "output_type": "stream",
     "text": [
      "{'alpha': 1, 'max_iter': 1000, 'random_state': 2, 'selection': 'random', 'warm_start': 'True'}\n"
     ]
    }
   ],
   "source": [
    "from sklearn.linear_model import Lasso\n",
    "\n",
    "ls=Lasso()\n",
    "\n",
    "para={'alpha':[.0001,.001,.01,.1,1,10],'random_state':[i for i in range(11)],'max_iter':[i for i in range(1000,10000,1000)],'selection':['cyclic','random'],'warm_start':['True','False']}\n",
    "clf=GridSearchCV(ls,para)\n",
    "x_train,x_test,y_train,y_test=train_test_split(x,y,random_state=6,test_size=.22)\n",
    "clf.fit(x_train,y_train)\n",
    "\n",
    "print(clf.best_params_)"
   ]
  },
  {
   "cell_type": "code",
   "execution_count": 134,
   "id": "919af291",
   "metadata": {},
   "outputs": [
    {
     "name": "stdout",
     "output_type": "stream",
     "text": [
      "At random state 33 the model performs very well\n",
      "At random state 33 :\n",
      "Training accuracy score is 84.05795168786192\n",
      "Testing accuracy score is 62.763685008505576 \n",
      "\n",
      "At random state 76 the model performs very well\n",
      "At random state 76 :\n",
      "Training accuracy score is 83.23610863433998\n",
      "Testing accuracy score is 63.25721789100377 \n",
      "\n",
      "At random state 93 the model performs very well\n",
      "At random state 93 :\n",
      "Training accuracy score is 84.97592332980247\n",
      "Testing accuracy score is 62.99074741243664 \n",
      "\n"
     ]
    }
   ],
   "source": [
    "#checking best random state\n",
    "\n",
    "for i in range(0,100):\n",
    "    x_train,x_test,y_train,y_test=train_test_split(x,y,random_state=i,test_size=.30)\n",
    "    ls=Lasso(alpha=1,max_iter=1000,random_state=2,selection='random',warm_start=True)\n",
    "    ls.fit(x_train,y_train)\n",
    "    predtrain=ls.predict(x_train)\n",
    "    predls=ls.predict(x_test)\n",
    "    if round(r2_score(y_test,predls)*100)==63:\n",
    "        print('At random state',i,'the model performs very well')\n",
    "        print('At random state',i,':')\n",
    "        print('Training accuracy score is',r2_score(y_train,predtrain)*100)\n",
    "        print('Testing accuracy score is',r2_score(y_test,predls)*100,'\\n')"
   ]
  },
  {
   "cell_type": "code",
   "execution_count": 147,
   "id": "ffc9c628",
   "metadata": {},
   "outputs": [
    {
     "name": "stdout",
     "output_type": "stream",
     "text": [
      "0.6325721789100377\n"
     ]
    }
   ],
   "source": [
    "x_train,x_test,y_train,y_test=train_test_split(x,y,random_state=76,test_size=.30)\n",
    "ls=Lasso(alpha=1,max_iter=1000,random_state=2,selection='random',warm_start=True)\n",
    "ls.fit(x_train,y_train)\n",
    "predtrain=ls.predict(x_train)\n",
    "predls=ls.predict(x_test)\n",
    "a=(r2_score(y_test,predls))\n",
    "print(a)"
   ]
  },
  {
   "cell_type": "code",
   "execution_count": 138,
   "id": "d819e1e6",
   "metadata": {},
   "outputs": [
    {
     "name": "stdout",
     "output_type": "stream",
     "text": [
      "At cv= 2\n",
      "Cross Validation Score is: 13.897036745296198\n",
      "Accuracy score is: 63.25721789100377 \n",
      "\n",
      "At cv= 3\n",
      "Cross Validation Score is: 49.25756761559164\n",
      "Accuracy score is: 63.25721789100377 \n",
      "\n",
      "At cv= 4\n",
      "Cross Validation Score is: 63.32751391366699\n",
      "Accuracy score is: 63.25721789100377 \n",
      "\n",
      "At cv= 5\n",
      "Cross Validation Score is: 20.539118283718157\n",
      "Accuracy score is: 63.25721789100377 \n",
      "\n",
      "At cv= 6\n",
      "Cross Validation Score is: 34.67576462788598\n",
      "Accuracy score is: 63.25721789100377 \n",
      "\n",
      "At cv= 7\n",
      "Cross Validation Score is: 20.816216181526517\n",
      "Accuracy score is: 63.25721789100377 \n",
      "\n",
      "At cv= 8\n",
      "Cross Validation Score is: 35.18077733817041\n",
      "Accuracy score is: 63.25721789100377 \n",
      "\n",
      "At cv= 9\n",
      "Cross Validation Score is: -675.5920434444655\n",
      "Accuracy score is: 63.25721789100377 \n",
      "\n",
      "At cv= 10\n",
      "Cross Validation Score is: -632.7665741006235\n",
      "Accuracy score is: 63.25721789100377 \n",
      "\n"
     ]
    }
   ],
   "source": [
    "#checking for cross validation score\n",
    "\n",
    "for j in range(2,11):\n",
    "    ls=Lasso(alpha=1,max_iter=1000,random_state=2,selection='random',warm_start=True)\n",
    "    lss=cross_val_score(ls,x,y,cv=j)\n",
    "    lsc=lss.mean()\n",
    "    print('At cv=',j)\n",
    "    print('Cross Validation Score is:',lsc*100)\n",
    "    print('Accuracy score is:',r2_score(y_test,predls)*100,'\\n')"
   ]
  },
  {
   "cell_type": "code",
   "execution_count": 139,
   "id": "8ddcabe9",
   "metadata": {},
   "outputs": [],
   "source": [
    "#lasso is giving us both accuracy score and cross validation score as 63"
   ]
  },
  {
   "cell_type": "code",
   "execution_count": 156,
   "id": "57e37e45",
   "metadata": {},
   "outputs": [
    {
     "data": {
      "text/plain": [
       "63.32751391366699"
      ]
     },
     "execution_count": 156,
     "metadata": {},
     "output_type": "execute_result"
    }
   ],
   "source": [
    "ls=Lasso(alpha=1,max_iter=1000,random_state=2,selection='random',warm_start=True)\n",
    "lss=cross_val_score(ls,x,y,cv=4)\n",
    "lsc=lss.mean()*100\n",
    "lsc"
   ]
  },
  {
   "cell_type": "code",
   "execution_count": 150,
   "id": "c5fecc51",
   "metadata": {},
   "outputs": [
    {
     "name": "stdout",
     "output_type": "stream",
     "text": [
      "WITH LASSO REGULARIZATION MODEL IS PERFORMING FINE \n",
      "\n",
      "Accuracy Score is: 63.25721789100377\n",
      "Cross Validation Score: 63.32751391366699\n"
     ]
    }
   ],
   "source": [
    "print('WITH LASSO REGULARIZATION MODEL IS PERFORMING FINE','\\n')\n",
    "print('Accuracy Score is:',a*100)\n",
    "print('Cross Validation Score:',lsc)"
   ]
  },
  {
   "cell_type": "code",
   "execution_count": 157,
   "id": "676d93b9",
   "metadata": {},
   "outputs": [
    {
     "name": "stdout",
     "output_type": "stream",
     "text": [
      "Mean Squared Error: 52.80981102628816\n",
      "Mean Absolute Error: 6.1585216557107\n",
      "Root Mean Squared Error: 7.2670359175036525\n"
     ]
    }
   ],
   "source": [
    "print('Mean Squared Error:',mean_squared_error(y_test,predls))\n",
    "print('Mean Absolute Error:',mean_absolute_error(y_test,predls))\n",
    "print('Root Mean Squared Error:',np.sqrt(mean_squared_error(y_test,predls)))"
   ]
  },
  {
   "cell_type": "code",
   "execution_count": 159,
   "id": "f16e8fb0",
   "metadata": {},
   "outputs": [
    {
     "data": {
      "image/png": "[encoded data removed]",
      "text/plain": [
       "<Figure size 216x216 with 1 Axes>"
      ]
     },
     "metadata": {
      "needs_background": "light"
     },
     "output_type": "display_data"
    }
   ],
   "source": [
    "plt.figure(figsize=(3,3))\n",
    "sns.scatterplot(y_test,predls)\n",
    "plt.show()"
   ]
  },
  {
   "cell_type": "code",
   "execution_count": 160,
   "id": "c619079c",
   "metadata": {},
   "outputs": [
    {
     "data": {
      "text/html": [
       "<div>\n",
       "<style scoped>\n",
       "    .dataframe tbody tr th:only-of-type {\n",
       "        vertical-align: middle;\n",
       "    }\n",
       "\n",
       "    .dataframe tbody tr th {\n",
       "        vertical-align: top;\n",
       "    }\n",
       "\n",
       "    .dataframe thead th {\n",
       "        text-align: right;\n",
       "    }\n",
       "</style>\n",
       "<table border=\"1\" class=\"dataframe\">\n",
       "  <thead>\n",
       "    <tr style=\"text-align: right;\">\n",
       "      <th></th>\n",
       "      <th>Original Price</th>\n",
       "      <th>Predicted Price</th>\n",
       "    </tr>\n",
       "  </thead>\n",
       "  <tbody>\n",
       "    <tr>\n",
       "      <th>9</th>\n",
       "      <td>78</td>\n",
       "      <td>79.440086</td>\n",
       "    </tr>\n",
       "    <tr>\n",
       "      <th>25</th>\n",
       "      <td>92</td>\n",
       "      <td>88.806561</td>\n",
       "    </tr>\n",
       "    <tr>\n",
       "      <th>13</th>\n",
       "      <td>76</td>\n",
       "      <td>79.402944</td>\n",
       "    </tr>\n",
       "    <tr>\n",
       "      <th>14</th>\n",
       "      <td>68</td>\n",
       "      <td>77.083856</td>\n",
       "    </tr>\n",
       "    <tr>\n",
       "      <th>19</th>\n",
       "      <td>64</td>\n",
       "      <td>74.806037</td>\n",
       "    </tr>\n",
       "    <tr>\n",
       "      <th>17</th>\n",
       "      <td>97</td>\n",
       "      <td>84.511130</td>\n",
       "    </tr>\n",
       "    <tr>\n",
       "      <th>6</th>\n",
       "      <td>87</td>\n",
       "      <td>84.611681</td>\n",
       "    </tr>\n",
       "    <tr>\n",
       "      <th>16</th>\n",
       "      <td>98</td>\n",
       "      <td>89.364457</td>\n",
       "    </tr>\n",
       "    <tr>\n",
       "      <th>22</th>\n",
       "      <td>71</td>\n",
       "      <td>74.987600</td>\n",
       "    </tr>\n",
       "  </tbody>\n",
       "</table>\n",
       "</div>"
      ],
      "text/plain": [
       "    Original Price  Predicted Price\n",
       "9               78        79.440086\n",
       "25              92        88.806561\n",
       "13              76        79.402944\n",
       "14              68        77.083856\n",
       "19              64        74.806037\n",
       "17              97        84.511130\n",
       "6               87        84.611681\n",
       "16              98        89.364457\n",
       "22              71        74.987600"
      ]
     },
     "execution_count": 160,
     "metadata": {},
     "output_type": "execute_result"
    }
   ],
   "source": [
    "preddf=pd.DataFrame({'Original Price':y_test,'Predicted Price':predls})\n",
    "preddf"
   ]
  },
  {
   "cell_type": "code",
   "execution_count": 162,
   "id": "59b8a673",
   "metadata": {},
   "outputs": [],
   "source": [
    "#saving the model\n",
    "\n",
    "import pickle\n",
    "pickle.dump(ls,open('baseballwin.pkl','wb'))"
   ]
  },
  {
   "cell_type": "code",
   "execution_count": null,
   "id": "778c40ea",
   "metadata": {},
   "outputs": [],
   "source": [
    "\n"
   ]
  }
 ],
 "metadata": {
  "kernelspec": {
   "display_name": "Python 3 (ipykernel)",
   "language": "python",
   "name": "python3"
  },
  "language_info": {
   "codemirror_mode": {
    "name": "ipython",
    "version": 3
   },
   "file_extension": ".py",
   "mimetype": "text/x-python",
   "name": "python",
   "nbconvert_exporter": "python",
   "pygments_lexer": "ipython3",
   "version": "3.9.7"
  }
 },
 "nbformat": 4,
 "nbformat_minor": 5
}
