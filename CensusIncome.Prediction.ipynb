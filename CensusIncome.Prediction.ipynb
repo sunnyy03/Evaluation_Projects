{
 "cells": [
  {
   "cell_type": "markdown",
   "id": "f5ed5579",
   "metadata": {},
   "source": [
    "Problem statement:\n",
    "\n",
    "-To determine whether a person makes over $50K a year"
   ]
  },
  {
   "cell_type": "code",
   "execution_count": 22,
   "id": "beb210e8",
   "metadata": {},
   "outputs": [
    {
     "data": {
      "text/html": [
       "<div>\n",
       "<style scoped>\n",
       "    .dataframe tbody tr th:only-of-type {\n",
       "        vertical-align: middle;\n",
       "    }\n",
       "\n",
       "    .dataframe tbody tr th {\n",
       "        vertical-align: top;\n",
       "    }\n",
       "\n",
       "    .dataframe thead th {\n",
       "        text-align: right;\n",
       "    }\n",
       "</style>\n",
       "<table border=\"1\" class=\"dataframe\">\n",
       "  <thead>\n",
       "    <tr style=\"text-align: right;\">\n",
       "      <th></th>\n",
       "      <th>Age</th>\n",
       "      <th>Workclass</th>\n",
       "      <th>Fnlwgt</th>\n",
       "      <th>Education</th>\n",
       "      <th>Education_num</th>\n",
       "      <th>Marital_status</th>\n",
       "      <th>Occupation</th>\n",
       "      <th>Relationship</th>\n",
       "      <th>Race</th>\n",
       "      <th>Sex</th>\n",
       "      <th>Capital_gain</th>\n",
       "      <th>Capital_loss</th>\n",
       "      <th>Hours_per_week</th>\n",
       "      <th>Native_country</th>\n",
       "      <th>Income</th>\n",
       "    </tr>\n",
       "  </thead>\n",
       "  <tbody>\n",
       "    <tr>\n",
       "      <th>0</th>\n",
       "      <td>50</td>\n",
       "      <td>Self-emp-not-inc</td>\n",
       "      <td>83311</td>\n",
       "      <td>Bachelors</td>\n",
       "      <td>13</td>\n",
       "      <td>Married-civ-spouse</td>\n",
       "      <td>Exec-managerial</td>\n",
       "      <td>Husband</td>\n",
       "      <td>White</td>\n",
       "      <td>Male</td>\n",
       "      <td>0</td>\n",
       "      <td>0</td>\n",
       "      <td>13</td>\n",
       "      <td>United-States</td>\n",
       "      <td>&lt;=50K</td>\n",
       "    </tr>\n",
       "    <tr>\n",
       "      <th>1</th>\n",
       "      <td>38</td>\n",
       "      <td>Private</td>\n",
       "      <td>215646</td>\n",
       "      <td>HS-grad</td>\n",
       "      <td>9</td>\n",
       "      <td>Divorced</td>\n",
       "      <td>Handlers-cleaners</td>\n",
       "      <td>Not-in-family</td>\n",
       "      <td>White</td>\n",
       "      <td>Male</td>\n",
       "      <td>0</td>\n",
       "      <td>0</td>\n",
       "      <td>40</td>\n",
       "      <td>United-States</td>\n",
       "      <td>&lt;=50K</td>\n",
       "    </tr>\n",
       "    <tr>\n",
       "      <th>2</th>\n",
       "      <td>53</td>\n",
       "      <td>Private</td>\n",
       "      <td>234721</td>\n",
       "      <td>11th</td>\n",
       "      <td>7</td>\n",
       "      <td>Married-civ-spouse</td>\n",
       "      <td>Handlers-cleaners</td>\n",
       "      <td>Husband</td>\n",
       "      <td>Black</td>\n",
       "      <td>Male</td>\n",
       "      <td>0</td>\n",
       "      <td>0</td>\n",
       "      <td>40</td>\n",
       "      <td>United-States</td>\n",
       "      <td>&lt;=50K</td>\n",
       "    </tr>\n",
       "    <tr>\n",
       "      <th>3</th>\n",
       "      <td>28</td>\n",
       "      <td>Private</td>\n",
       "      <td>338409</td>\n",
       "      <td>Bachelors</td>\n",
       "      <td>13</td>\n",
       "      <td>Married-civ-spouse</td>\n",
       "      <td>Prof-specialty</td>\n",
       "      <td>Wife</td>\n",
       "      <td>Black</td>\n",
       "      <td>Female</td>\n",
       "      <td>0</td>\n",
       "      <td>0</td>\n",
       "      <td>40</td>\n",
       "      <td>Cuba</td>\n",
       "      <td>&lt;=50K</td>\n",
       "    </tr>\n",
       "    <tr>\n",
       "      <th>4</th>\n",
       "      <td>37</td>\n",
       "      <td>Private</td>\n",
       "      <td>284582</td>\n",
       "      <td>Masters</td>\n",
       "      <td>14</td>\n",
       "      <td>Married-civ-spouse</td>\n",
       "      <td>Exec-managerial</td>\n",
       "      <td>Wife</td>\n",
       "      <td>White</td>\n",
       "      <td>Female</td>\n",
       "      <td>0</td>\n",
       "      <td>0</td>\n",
       "      <td>40</td>\n",
       "      <td>United-States</td>\n",
       "      <td>&lt;=50K</td>\n",
       "    </tr>\n",
       "    <tr>\n",
       "      <th>...</th>\n",
       "      <td>...</td>\n",
       "      <td>...</td>\n",
       "      <td>...</td>\n",
       "      <td>...</td>\n",
       "      <td>...</td>\n",
       "      <td>...</td>\n",
       "      <td>...</td>\n",
       "      <td>...</td>\n",
       "      <td>...</td>\n",
       "      <td>...</td>\n",
       "      <td>...</td>\n",
       "      <td>...</td>\n",
       "      <td>...</td>\n",
       "      <td>...</td>\n",
       "      <td>...</td>\n",
       "    </tr>\n",
       "    <tr>\n",
       "      <th>32555</th>\n",
       "      <td>27</td>\n",
       "      <td>Private</td>\n",
       "      <td>257302</td>\n",
       "      <td>Assoc-acdm</td>\n",
       "      <td>12</td>\n",
       "      <td>Married-civ-spouse</td>\n",
       "      <td>Tech-support</td>\n",
       "      <td>Wife</td>\n",
       "      <td>White</td>\n",
       "      <td>Female</td>\n",
       "      <td>0</td>\n",
       "      <td>0</td>\n",
       "      <td>38</td>\n",
       "      <td>United-States</td>\n",
       "      <td>&lt;=50K</td>\n",
       "    </tr>\n",
       "    <tr>\n",
       "      <th>32556</th>\n",
       "      <td>40</td>\n",
       "      <td>Private</td>\n",
       "      <td>154374</td>\n",
       "      <td>HS-grad</td>\n",
       "      <td>9</td>\n",
       "      <td>Married-civ-spouse</td>\n",
       "      <td>Machine-op-inspct</td>\n",
       "      <td>Husband</td>\n",
       "      <td>White</td>\n",
       "      <td>Male</td>\n",
       "      <td>0</td>\n",
       "      <td>0</td>\n",
       "      <td>40</td>\n",
       "      <td>United-States</td>\n",
       "      <td>&gt;50K</td>\n",
       "    </tr>\n",
       "    <tr>\n",
       "      <th>32557</th>\n",
       "      <td>58</td>\n",
       "      <td>Private</td>\n",
       "      <td>151910</td>\n",
       "      <td>HS-grad</td>\n",
       "      <td>9</td>\n",
       "      <td>Widowed</td>\n",
       "      <td>Adm-clerical</td>\n",
       "      <td>Unmarried</td>\n",
       "      <td>White</td>\n",
       "      <td>Female</td>\n",
       "      <td>0</td>\n",
       "      <td>0</td>\n",
       "      <td>40</td>\n",
       "      <td>United-States</td>\n",
       "      <td>&lt;=50K</td>\n",
       "    </tr>\n",
       "    <tr>\n",
       "      <th>32558</th>\n",
       "      <td>22</td>\n",
       "      <td>Private</td>\n",
       "      <td>201490</td>\n",
       "      <td>HS-grad</td>\n",
       "      <td>9</td>\n",
       "      <td>Never-married</td>\n",
       "      <td>Adm-clerical</td>\n",
       "      <td>Own-child</td>\n",
       "      <td>White</td>\n",
       "      <td>Male</td>\n",
       "      <td>0</td>\n",
       "      <td>0</td>\n",
       "      <td>20</td>\n",
       "      <td>United-States</td>\n",
       "      <td>&lt;=50K</td>\n",
       "    </tr>\n",
       "    <tr>\n",
       "      <th>32559</th>\n",
       "      <td>52</td>\n",
       "      <td>Self-emp-inc</td>\n",
       "      <td>287927</td>\n",
       "      <td>HS-grad</td>\n",
       "      <td>9</td>\n",
       "      <td>Married-civ-spouse</td>\n",
       "      <td>Exec-managerial</td>\n",
       "      <td>Wife</td>\n",
       "      <td>White</td>\n",
       "      <td>Female</td>\n",
       "      <td>15024</td>\n",
       "      <td>0</td>\n",
       "      <td>40</td>\n",
       "      <td>United-States</td>\n",
       "      <td>&gt;50K</td>\n",
       "    </tr>\n",
       "  </tbody>\n",
       "</table>\n",
       "<p>32560 rows × 15 columns</p>\n",
       "</div>"
      ],
      "text/plain": [
       "       Age          Workclass  Fnlwgt    Education  Education_num  \\\n",
       "0       50   Self-emp-not-inc   83311    Bachelors             13   \n",
       "1       38            Private  215646      HS-grad              9   \n",
       "2       53            Private  234721         11th              7   \n",
       "3       28            Private  338409    Bachelors             13   \n",
       "4       37            Private  284582      Masters             14   \n",
       "...    ...                ...     ...          ...            ...   \n",
       "32555   27            Private  257302   Assoc-acdm             12   \n",
       "32556   40            Private  154374      HS-grad              9   \n",
       "32557   58            Private  151910      HS-grad              9   \n",
       "32558   22            Private  201490      HS-grad              9   \n",
       "32559   52       Self-emp-inc  287927      HS-grad              9   \n",
       "\n",
       "            Marital_status          Occupation    Relationship    Race  \\\n",
       "0       Married-civ-spouse     Exec-managerial         Husband   White   \n",
       "1                 Divorced   Handlers-cleaners   Not-in-family   White   \n",
       "2       Married-civ-spouse   Handlers-cleaners         Husband   Black   \n",
       "3       Married-civ-spouse      Prof-specialty            Wife   Black   \n",
       "4       Married-civ-spouse     Exec-managerial            Wife   White   \n",
       "...                    ...                 ...             ...     ...   \n",
       "32555   Married-civ-spouse        Tech-support            Wife   White   \n",
       "32556   Married-civ-spouse   Machine-op-inspct         Husband   White   \n",
       "32557              Widowed        Adm-clerical       Unmarried   White   \n",
       "32558        Never-married        Adm-clerical       Own-child   White   \n",
       "32559   Married-civ-spouse     Exec-managerial            Wife   White   \n",
       "\n",
       "           Sex  Capital_gain  Capital_loss  Hours_per_week  Native_country  \\\n",
       "0         Male             0             0              13   United-States   \n",
       "1         Male             0             0              40   United-States   \n",
       "2         Male             0             0              40   United-States   \n",
       "3       Female             0             0              40            Cuba   \n",
       "4       Female             0             0              40   United-States   \n",
       "...        ...           ...           ...             ...             ...   \n",
       "32555   Female             0             0              38   United-States   \n",
       "32556     Male             0             0              40   United-States   \n",
       "32557   Female             0             0              40   United-States   \n",
       "32558     Male             0             0              20   United-States   \n",
       "32559   Female         15024             0              40   United-States   \n",
       "\n",
       "       Income  \n",
       "0       <=50K  \n",
       "1       <=50K  \n",
       "2       <=50K  \n",
       "3       <=50K  \n",
       "4       <=50K  \n",
       "...       ...  \n",
       "32555   <=50K  \n",
       "32556    >50K  \n",
       "32557   <=50K  \n",
       "32558   <=50K  \n",
       "32559    >50K  \n",
       "\n",
       "[32560 rows x 15 columns]"
      ]
     },
     "execution_count": 22,
     "metadata": {},
     "output_type": "execute_result"
    }
   ],
   "source": [
    "#loading the dataset\n",
    "\n",
    "import pandas as pd\n",
    "import numpy as np\n",
    "\n",
    "df=pd.read_csv(\"censusincome.csv\")\n",
    "df"
   ]
  },
  {
   "cell_type": "markdown",
   "id": "8e2f3b18",
   "metadata": {},
   "source": [
    "# Preprocessing:"
   ]
  },
  {
   "cell_type": "code",
   "execution_count": 2,
   "id": "18f160df",
   "metadata": {},
   "outputs": [
    {
     "data": {
      "text/html": [
       "<div>\n",
       "<style scoped>\n",
       "    .dataframe tbody tr th:only-of-type {\n",
       "        vertical-align: middle;\n",
       "    }\n",
       "\n",
       "    .dataframe tbody tr th {\n",
       "        vertical-align: top;\n",
       "    }\n",
       "\n",
       "    .dataframe thead th {\n",
       "        text-align: right;\n",
       "    }\n",
       "</style>\n",
       "<table border=\"1\" class=\"dataframe\">\n",
       "  <thead>\n",
       "    <tr style=\"text-align: right;\">\n",
       "      <th></th>\n",
       "      <th>Age</th>\n",
       "      <th>Workclass</th>\n",
       "      <th>Fnlwgt</th>\n",
       "      <th>Education</th>\n",
       "      <th>Education_num</th>\n",
       "      <th>Marital_status</th>\n",
       "      <th>Occupation</th>\n",
       "      <th>Relationship</th>\n",
       "      <th>Race</th>\n",
       "      <th>Sex</th>\n",
       "      <th>Capital_gain</th>\n",
       "      <th>Capital_loss</th>\n",
       "      <th>Hours_per_week</th>\n",
       "      <th>Native_country</th>\n",
       "      <th>Income</th>\n",
       "    </tr>\n",
       "  </thead>\n",
       "  <tbody>\n",
       "    <tr>\n",
       "      <th>6251</th>\n",
       "      <td>26</td>\n",
       "      <td>Private</td>\n",
       "      <td>133373</td>\n",
       "      <td>Some-college</td>\n",
       "      <td>10</td>\n",
       "      <td>Never-married</td>\n",
       "      <td>Sales</td>\n",
       "      <td>Own-child</td>\n",
       "      <td>White</td>\n",
       "      <td>Male</td>\n",
       "      <td>0</td>\n",
       "      <td>0</td>\n",
       "      <td>42</td>\n",
       "      <td>United-States</td>\n",
       "      <td>&lt;=50K</td>\n",
       "    </tr>\n",
       "    <tr>\n",
       "      <th>4768</th>\n",
       "      <td>26</td>\n",
       "      <td>State-gov</td>\n",
       "      <td>109193</td>\n",
       "      <td>Some-college</td>\n",
       "      <td>10</td>\n",
       "      <td>Never-married</td>\n",
       "      <td>Craft-repair</td>\n",
       "      <td>Not-in-family</td>\n",
       "      <td>White</td>\n",
       "      <td>Female</td>\n",
       "      <td>0</td>\n",
       "      <td>0</td>\n",
       "      <td>40</td>\n",
       "      <td>United-States</td>\n",
       "      <td>&lt;=50K</td>\n",
       "    </tr>\n",
       "    <tr>\n",
       "      <th>3494</th>\n",
       "      <td>21</td>\n",
       "      <td>Private</td>\n",
       "      <td>182606</td>\n",
       "      <td>Some-college</td>\n",
       "      <td>10</td>\n",
       "      <td>Never-married</td>\n",
       "      <td>Other-service</td>\n",
       "      <td>Own-child</td>\n",
       "      <td>Black</td>\n",
       "      <td>Male</td>\n",
       "      <td>0</td>\n",
       "      <td>0</td>\n",
       "      <td>40</td>\n",
       "      <td>?</td>\n",
       "      <td>&lt;=50K</td>\n",
       "    </tr>\n",
       "    <tr>\n",
       "      <th>7983</th>\n",
       "      <td>40</td>\n",
       "      <td>Private</td>\n",
       "      <td>209547</td>\n",
       "      <td>Bachelors</td>\n",
       "      <td>13</td>\n",
       "      <td>Married-civ-spouse</td>\n",
       "      <td>Sales</td>\n",
       "      <td>Husband</td>\n",
       "      <td>White</td>\n",
       "      <td>Male</td>\n",
       "      <td>0</td>\n",
       "      <td>1977</td>\n",
       "      <td>60</td>\n",
       "      <td>United-States</td>\n",
       "      <td>&gt;50K</td>\n",
       "    </tr>\n",
       "    <tr>\n",
       "      <th>1739</th>\n",
       "      <td>30</td>\n",
       "      <td>Private</td>\n",
       "      <td>117963</td>\n",
       "      <td>Bachelors</td>\n",
       "      <td>13</td>\n",
       "      <td>Married-civ-spouse</td>\n",
       "      <td>Adm-clerical</td>\n",
       "      <td>Husband</td>\n",
       "      <td>White</td>\n",
       "      <td>Male</td>\n",
       "      <td>0</td>\n",
       "      <td>0</td>\n",
       "      <td>40</td>\n",
       "      <td>United-States</td>\n",
       "      <td>&gt;50K</td>\n",
       "    </tr>\n",
       "    <tr>\n",
       "      <th>3902</th>\n",
       "      <td>23</td>\n",
       "      <td>Private</td>\n",
       "      <td>495888</td>\n",
       "      <td>HS-grad</td>\n",
       "      <td>9</td>\n",
       "      <td>Never-married</td>\n",
       "      <td>Other-service</td>\n",
       "      <td>Not-in-family</td>\n",
       "      <td>White</td>\n",
       "      <td>Male</td>\n",
       "      <td>0</td>\n",
       "      <td>0</td>\n",
       "      <td>40</td>\n",
       "      <td>El-Salvador</td>\n",
       "      <td>&lt;=50K</td>\n",
       "    </tr>\n",
       "    <tr>\n",
       "      <th>6700</th>\n",
       "      <td>56</td>\n",
       "      <td>Private</td>\n",
       "      <td>413373</td>\n",
       "      <td>7th-8th</td>\n",
       "      <td>4</td>\n",
       "      <td>Married-civ-spouse</td>\n",
       "      <td>Transport-moving</td>\n",
       "      <td>Husband</td>\n",
       "      <td>White</td>\n",
       "      <td>Male</td>\n",
       "      <td>0</td>\n",
       "      <td>0</td>\n",
       "      <td>36</td>\n",
       "      <td>United-States</td>\n",
       "      <td>&lt;=50K</td>\n",
       "    </tr>\n",
       "    <tr>\n",
       "      <th>4268</th>\n",
       "      <td>22</td>\n",
       "      <td>Private</td>\n",
       "      <td>275385</td>\n",
       "      <td>Some-college</td>\n",
       "      <td>10</td>\n",
       "      <td>Never-married</td>\n",
       "      <td>Other-service</td>\n",
       "      <td>Other-relative</td>\n",
       "      <td>White</td>\n",
       "      <td>Male</td>\n",
       "      <td>0</td>\n",
       "      <td>0</td>\n",
       "      <td>25</td>\n",
       "      <td>United-States</td>\n",
       "      <td>&lt;=50K</td>\n",
       "    </tr>\n",
       "    <tr>\n",
       "      <th>2877</th>\n",
       "      <td>31</td>\n",
       "      <td>Private</td>\n",
       "      <td>407930</td>\n",
       "      <td>7th-8th</td>\n",
       "      <td>4</td>\n",
       "      <td>Married-civ-spouse</td>\n",
       "      <td>Handlers-cleaners</td>\n",
       "      <td>Husband</td>\n",
       "      <td>White</td>\n",
       "      <td>Male</td>\n",
       "      <td>0</td>\n",
       "      <td>0</td>\n",
       "      <td>40</td>\n",
       "      <td>United-States</td>\n",
       "      <td>&lt;=50K</td>\n",
       "    </tr>\n",
       "    <tr>\n",
       "      <th>8142</th>\n",
       "      <td>19</td>\n",
       "      <td>Private</td>\n",
       "      <td>389755</td>\n",
       "      <td>HS-grad</td>\n",
       "      <td>9</td>\n",
       "      <td>Never-married</td>\n",
       "      <td>Handlers-cleaners</td>\n",
       "      <td>Own-child</td>\n",
       "      <td>White</td>\n",
       "      <td>Male</td>\n",
       "      <td>0</td>\n",
       "      <td>0</td>\n",
       "      <td>16</td>\n",
       "      <td>United-States</td>\n",
       "      <td>&lt;=50K</td>\n",
       "    </tr>\n",
       "  </tbody>\n",
       "</table>\n",
       "</div>"
      ],
      "text/plain": [
       "      Age   Workclass  Fnlwgt      Education  Education_num  \\\n",
       "6251   26     Private  133373   Some-college             10   \n",
       "4768   26   State-gov  109193   Some-college             10   \n",
       "3494   21     Private  182606   Some-college             10   \n",
       "7983   40     Private  209547      Bachelors             13   \n",
       "1739   30     Private  117963      Bachelors             13   \n",
       "3902   23     Private  495888        HS-grad              9   \n",
       "6700   56     Private  413373        7th-8th              4   \n",
       "4268   22     Private  275385   Some-college             10   \n",
       "2877   31     Private  407930        7th-8th              4   \n",
       "8142   19     Private  389755        HS-grad              9   \n",
       "\n",
       "           Marital_status          Occupation     Relationship    Race  \\\n",
       "6251        Never-married               Sales        Own-child   White   \n",
       "4768        Never-married        Craft-repair    Not-in-family   White   \n",
       "3494        Never-married       Other-service        Own-child   Black   \n",
       "7983   Married-civ-spouse               Sales          Husband   White   \n",
       "1739   Married-civ-spouse        Adm-clerical          Husband   White   \n",
       "3902        Never-married       Other-service    Not-in-family   White   \n",
       "6700   Married-civ-spouse    Transport-moving          Husband   White   \n",
       "4268        Never-married       Other-service   Other-relative   White   \n",
       "2877   Married-civ-spouse   Handlers-cleaners          Husband   White   \n",
       "8142        Never-married   Handlers-cleaners        Own-child   White   \n",
       "\n",
       "          Sex  Capital_gain  Capital_loss  Hours_per_week  Native_country  \\\n",
       "6251     Male             0             0              42   United-States   \n",
       "4768   Female             0             0              40   United-States   \n",
       "3494     Male             0             0              40               ?   \n",
       "7983     Male             0          1977              60   United-States   \n",
       "1739     Male             0             0              40   United-States   \n",
       "3902     Male             0             0              40     El-Salvador   \n",
       "6700     Male             0             0              36   United-States   \n",
       "4268     Male             0             0              25   United-States   \n",
       "2877     Male             0             0              40   United-States   \n",
       "8142     Male             0             0              16   United-States   \n",
       "\n",
       "      Income  \n",
       "6251   <=50K  \n",
       "4768   <=50K  \n",
       "3494   <=50K  \n",
       "7983    >50K  \n",
       "1739    >50K  \n",
       "3902   <=50K  \n",
       "6700   <=50K  \n",
       "4268   <=50K  \n",
       "2877   <=50K  \n",
       "8142   <=50K  "
      ]
     },
     "execution_count": 2,
     "metadata": {},
     "output_type": "execute_result"
    }
   ],
   "source": [
    "df.sample(10)"
   ]
  },
  {
   "cell_type": "markdown",
   "id": "d1e40890",
   "metadata": {},
   "source": [
    "- Education variable has already been encoded as Education_num\n",
    "- Capital_gain and captial_loss is 0 for most \n",
    "- Native-country has '?' as a value"
   ]
  },
  {
   "cell_type": "code",
   "execution_count": 3,
   "id": "46bc263c",
   "metadata": {},
   "outputs": [
    {
     "data": {
      "text/plain": [
       "Age                int64\n",
       "Workclass         object\n",
       "Fnlwgt             int64\n",
       "Education         object\n",
       "Education_num      int64\n",
       "Marital_status    object\n",
       "Occupation        object\n",
       "Relationship      object\n",
       "Race              object\n",
       "Sex               object\n",
       "Capital_gain       int64\n",
       "Capital_loss       int64\n",
       "Hours_per_week     int64\n",
       "Native_country    object\n",
       "Income            object\n",
       "dtype: object"
      ]
     },
     "execution_count": 3,
     "metadata": {},
     "output_type": "execute_result"
    }
   ],
   "source": [
    "#checking for datatype\n",
    "\n",
    "df.dtypes"
   ]
  },
  {
   "cell_type": "code",
   "execution_count": 23,
   "id": "8a0a92f5",
   "metadata": {},
   "outputs": [
    {
     "data": {
      "text/plain": [
       "Age               0\n",
       "Workclass         0\n",
       "Fnlwgt            0\n",
       "Education         0\n",
       "Education_num     0\n",
       "Marital_status    0\n",
       "Occupation        0\n",
       "Relationship      0\n",
       "Race              0\n",
       "Sex               0\n",
       "Capital_gain      0\n",
       "Capital_loss      0\n",
       "Hours_per_week    0\n",
       "Native_country    0\n",
       "Income            0\n",
       "dtype: int64"
      ]
     },
     "execution_count": 23,
     "metadata": {},
     "output_type": "execute_result"
    }
   ],
   "source": [
    "#checking for null values\n",
    "\n",
    "df.isnull().sum()"
   ]
  },
  {
   "cell_type": "markdown",
   "id": "d5ddda04",
   "metadata": {},
   "source": [
    "- the dataset has no null values\n",
    "- but let's check out for ' ?' values"
   ]
  },
  {
   "cell_type": "code",
   "execution_count": 24,
   "id": "392d5bd3",
   "metadata": {},
   "outputs": [
    {
     "data": {
      "text/plain": [
       "Age                  0\n",
       "Workclass         1836\n",
       "Fnlwgt               0\n",
       "Education            0\n",
       "Education_num        0\n",
       "Marital_status       0\n",
       "Occupation        1843\n",
       "Relationship         0\n",
       "Race                 0\n",
       "Sex                  0\n",
       "Capital_gain         0\n",
       "Capital_loss         0\n",
       "Hours_per_week       0\n",
       "Native_country     583\n",
       "Income               0\n",
       "dtype: int64"
      ]
     },
     "execution_count": 24,
     "metadata": {},
     "output_type": "execute_result"
    }
   ],
   "source": [
    "#checking for ' ?' values\n",
    "\n",
    "(df==' ?').sum()"
   ]
  },
  {
   "cell_type": "markdown",
   "id": "908dc71f",
   "metadata": {},
   "source": [
    "- okay so these are kind of null values only\n",
    "- Since the variables that contain these is of object type so first we will replace these values by NaN and then by their mode"
   ]
  },
  {
   "cell_type": "code",
   "execution_count": 25,
   "id": "ce0ac9cf",
   "metadata": {},
   "outputs": [],
   "source": [
    "#replacing ' ?' values with NaN\n",
    "\n",
    "df['Workclass'].replace(' ?',np.nan,inplace=True)\n",
    "df['Occupation'].replace(' ?',np.nan,inplace=True)\n",
    "df['Native_country'].replace(' ?',np.nan,inplace=True)"
   ]
  },
  {
   "cell_type": "code",
   "execution_count": 26,
   "id": "b3995065",
   "metadata": {},
   "outputs": [
    {
     "data": {
      "text/plain": [
       "Age                  0\n",
       "Workclass         1836\n",
       "Fnlwgt               0\n",
       "Education            0\n",
       "Education_num        0\n",
       "Marital_status       0\n",
       "Occupation        1843\n",
       "Relationship         0\n",
       "Race                 0\n",
       "Sex                  0\n",
       "Capital_gain         0\n",
       "Capital_loss         0\n",
       "Hours_per_week       0\n",
       "Native_country     583\n",
       "Income               0\n",
       "dtype: int64"
      ]
     },
     "execution_count": 26,
     "metadata": {},
     "output_type": "execute_result"
    }
   ],
   "source": [
    "#checking for null values\n",
    "\n",
    "df.isnull().sum()"
   ]
  },
  {
   "cell_type": "code",
   "execution_count": 27,
   "id": "8f9eb38a",
   "metadata": {},
   "outputs": [],
   "source": [
    "import seaborn as sns\n",
    "import matplotlib.pyplot as plt\n",
    "import warnings\n",
    "warnings.filterwarnings('ignore')"
   ]
  },
  {
   "cell_type": "code",
   "execution_count": 28,
   "id": "9ecb50f8",
   "metadata": {},
   "outputs": [
    {
     "data": {
      "text/plain": [
       "<AxesSubplot:>"
      ]
     },
     "execution_count": 28,
     "metadata": {},
     "output_type": "execute_result"
    },
    {
     "data": {
      "image/png": "[encoded data removed]",
      "text/plain": [
       "<Figure size 432x288 with 2 Axes>"
      ]
     },
     "metadata": {
      "needs_background": "light"
     },
     "output_type": "display_data"
    }
   ],
   "source": [
    "sns.heatmap(df.isnull())"
   ]
  },
  {
   "cell_type": "code",
   "execution_count": 29,
   "id": "c6d11088",
   "metadata": {},
   "outputs": [
    {
     "data": {
      "text/plain": [
       "Age               0\n",
       "Workclass         0\n",
       "Fnlwgt            0\n",
       "Education         0\n",
       "Education_num     0\n",
       "Marital_status    0\n",
       "Occupation        0\n",
       "Relationship      0\n",
       "Race              0\n",
       "Sex               0\n",
       "Capital_gain      0\n",
       "Capital_loss      0\n",
       "Hours_per_week    0\n",
       "Native_country    0\n",
       "Income            0\n",
       "dtype: int64"
      ]
     },
     "execution_count": 29,
     "metadata": {},
     "output_type": "execute_result"
    }
   ],
   "source": [
    "impute=['Workclass','Occupation','Native_country']    #creating list for variables with null values\n",
    "\n",
    "from sklearn.impute import SimpleImputer\n",
    "\n",
    "for i in impute:\n",
    "    df[i]=SimpleImputer(strategy='most_frequent').fit_transform(df[i].values.reshape(-1,1))\n",
    "\n",
    "df.isnull().sum()"
   ]
  },
  {
   "cell_type": "code",
   "execution_count": 30,
   "id": "22dd7b72",
   "metadata": {},
   "outputs": [
    {
     "data": {
      "text/plain": [
       "<AxesSubplot:>"
      ]
     },
     "execution_count": 30,
     "metadata": {},
     "output_type": "execute_result"
    },
    {
     "data": {
      "image/png": "[encoded data removed]",
      "text/plain": [
       "<Figure size 432x288 with 2 Axes>"
      ]
     },
     "metadata": {
      "needs_background": "light"
     },
     "output_type": "display_data"
    }
   ],
   "source": [
    "sns.heatmap(df.isnull())"
   ]
  },
  {
   "cell_type": "code",
   "execution_count": 31,
   "id": "9dbbe71e",
   "metadata": {},
   "outputs": [
    {
     "name": "stdout",
     "output_type": "stream",
     "text": [
      "36    898\n",
      "31    888\n",
      "34    886\n",
      "23    877\n",
      "35    876\n",
      "     ... \n",
      "83      6\n",
      "88      3\n",
      "85      3\n",
      "86      1\n",
      "87      1\n",
      "Name: Age, Length: 73, dtype: int64 \n",
      " \n",
      "\n",
      " Private             24532\n",
      " Self-emp-not-inc     2541\n",
      " Local-gov            2093\n",
      " State-gov            1297\n",
      " Self-emp-inc         1116\n",
      " Federal-gov           960\n",
      " Without-pay            14\n",
      " Never-worked            7\n",
      "Name: Workclass, dtype: int64 \n",
      " \n",
      "\n",
      "164190    13\n",
      "203488    13\n",
      "123011    13\n",
      "148995    12\n",
      "126675    12\n",
      "          ..\n",
      "325573     1\n",
      "140176     1\n",
      "318264     1\n",
      "329205     1\n",
      "257302     1\n",
      "Name: Fnlwgt, Length: 21647, dtype: int64 \n",
      " \n",
      "\n",
      " HS-grad         10501\n",
      " Some-college     7291\n",
      " Bachelors        5354\n",
      " Masters          1723\n",
      " Assoc-voc        1382\n",
      " 11th             1175\n",
      " Assoc-acdm       1067\n",
      " 10th              933\n",
      " 7th-8th           646\n",
      " Prof-school       576\n",
      " 9th               514\n",
      " 12th              433\n",
      " Doctorate         413\n",
      " 5th-6th           333\n",
      " 1st-4th           168\n",
      " Preschool          51\n",
      "Name: Education, dtype: int64 \n",
      " \n",
      "\n",
      "9     10501\n",
      "10     7291\n",
      "13     5354\n",
      "14     1723\n",
      "11     1382\n",
      "7      1175\n",
      "12     1067\n",
      "6       933\n",
      "4       646\n",
      "15      576\n",
      "5       514\n",
      "8       433\n",
      "16      413\n",
      "3       333\n",
      "2       168\n",
      "1        51\n",
      "Name: Education_num, dtype: int64 \n",
      " \n",
      "\n",
      " Married-civ-spouse       14976\n",
      " Never-married            10682\n",
      " Divorced                  4443\n",
      " Separated                 1025\n",
      " Widowed                    993\n",
      " Married-spouse-absent      418\n",
      " Married-AF-spouse           23\n",
      "Name: Marital_status, dtype: int64 \n",
      " \n",
      "\n",
      " Prof-specialty       5983\n",
      " Craft-repair         4099\n",
      " Exec-managerial      4066\n",
      " Adm-clerical         3769\n",
      " Sales                3650\n",
      " Other-service        3295\n",
      " Machine-op-inspct    2002\n",
      " Transport-moving     1597\n",
      " Handlers-cleaners    1370\n",
      " Farming-fishing       994\n",
      " Tech-support          928\n",
      " Protective-serv       649\n",
      " Priv-house-serv       149\n",
      " Armed-Forces            9\n",
      "Name: Occupation, dtype: int64 \n",
      " \n",
      "\n",
      " Husband           13193\n",
      " Not-in-family      8304\n",
      " Own-child          5068\n",
      " Unmarried          3446\n",
      " Wife               1568\n",
      " Other-relative      981\n",
      "Name: Relationship, dtype: int64 \n",
      " \n",
      "\n",
      " White                 27815\n",
      " Black                  3124\n",
      " Asian-Pac-Islander     1039\n",
      " Amer-Indian-Eskimo      311\n",
      " Other                   271\n",
      "Name: Race, dtype: int64 \n",
      " \n",
      "\n",
      " Male      21789\n",
      " Female    10771\n",
      "Name: Sex, dtype: int64 \n",
      " \n",
      "\n",
      "0        29849\n",
      "15024      347\n",
      "7688       284\n",
      "7298       246\n",
      "99999      159\n",
      "         ...  \n",
      "1111         1\n",
      "2538         1\n",
      "22040        1\n",
      "4931         1\n",
      "5060         1\n",
      "Name: Capital_gain, Length: 119, dtype: int64 \n",
      " \n",
      "\n",
      "0       31041\n",
      "1902      202\n",
      "1977      168\n",
      "1887      159\n",
      "1848       51\n",
      "        ...  \n",
      "2080        1\n",
      "1539        1\n",
      "1844        1\n",
      "2489        1\n",
      "1411        1\n",
      "Name: Capital_loss, Length: 92, dtype: int64 \n",
      " \n",
      "\n",
      "40    15216\n",
      "50     2819\n",
      "45     1824\n",
      "60     1475\n",
      "35     1297\n",
      "      ...  \n",
      "82        1\n",
      "94        1\n",
      "92        1\n",
      "74        1\n",
      "87        1\n",
      "Name: Hours_per_week, Length: 94, dtype: int64 \n",
      " \n",
      "\n",
      " United-States                 29752\n",
      " Mexico                          643\n",
      " Philippines                     198\n",
      " Germany                         137\n",
      " Canada                          121\n",
      " Puerto-Rico                     114\n",
      " El-Salvador                     106\n",
      " India                           100\n",
      " Cuba                             95\n",
      " England                          90\n",
      " Jamaica                          81\n",
      " South                            80\n",
      " China                            75\n",
      " Italy                            73\n",
      " Dominican-Republic               70\n",
      " Vietnam                          67\n",
      " Guatemala                        64\n",
      " Japan                            62\n",
      " Poland                           60\n",
      " Columbia                         59\n",
      " Taiwan                           51\n",
      " Haiti                            44\n",
      " Iran                             43\n",
      " Portugal                         37\n",
      " Nicaragua                        34\n",
      " Peru                             31\n",
      " France                           29\n",
      " Greece                           29\n",
      " Ecuador                          28\n",
      " Ireland                          24\n",
      " Hong                             20\n",
      " Cambodia                         19\n",
      " Trinadad&Tobago                  19\n",
      " Laos                             18\n",
      " Thailand                         18\n",
      " Yugoslavia                       16\n",
      " Outlying-US(Guam-USVI-etc)       14\n",
      " Honduras                         13\n",
      " Hungary                          13\n",
      " Scotland                         12\n",
      " Holand-Netherlands                1\n",
      "Name: Native_country, dtype: int64 \n",
      " \n",
      "\n",
      " <=50K    24719\n",
      " >50K      7841\n",
      "Name: Income, dtype: int64 \n",
      " \n",
      "\n"
     ]
    }
   ],
   "source": [
    "#checking for unique value counts\n",
    "\n",
    "for i in df.columns:\n",
    "    print(df[i].value_counts(),'\\n','\\n')"
   ]
  },
  {
   "cell_type": "markdown",
   "id": "e409d203",
   "metadata": {},
   "source": [
    "- capital loss and captial gain have more than 90% values as 0 , so we will remove these two later from the features list\n",
    "- around 92% of the Native_country values is United-States , so we will see if it has a good correlation with the target variable\n",
    "- dataset isn't balanced\n",
    "- First we will perform EDA, after that we will encode the object dtype variables to int"
   ]
  },
  {
   "cell_type": "markdown",
   "id": "15fc408d",
   "metadata": {},
   "source": [
    "# EDA:"
   ]
  },
  {
   "cell_type": "code",
   "execution_count": 32,
   "id": "564ffc70",
   "metadata": {},
   "outputs": [
    {
     "name": "stdout",
     "output_type": "stream",
     "text": [
      "<class 'pandas.core.frame.DataFrame'>\n",
      "RangeIndex: 32560 entries, 0 to 32559\n",
      "Data columns (total 15 columns):\n",
      " #   Column          Non-Null Count  Dtype \n",
      "---  ------          --------------  ----- \n",
      " 0   Age             32560 non-null  int64 \n",
      " 1   Workclass       32560 non-null  object\n",
      " 2   Fnlwgt          32560 non-null  int64 \n",
      " 3   Education       32560 non-null  object\n",
      " 4   Education_num   32560 non-null  int64 \n",
      " 5   Marital_status  32560 non-null  object\n",
      " 6   Occupation      32560 non-null  object\n",
      " 7   Relationship    32560 non-null  object\n",
      " 8   Race            32560 non-null  object\n",
      " 9   Sex             32560 non-null  object\n",
      " 10  Capital_gain    32560 non-null  int64 \n",
      " 11  Capital_loss    32560 non-null  int64 \n",
      " 12  Hours_per_week  32560 non-null  int64 \n",
      " 13  Native_country  32560 non-null  object\n",
      " 14  Income          32560 non-null  object\n",
      "dtypes: int64(6), object(9)\n",
      "memory usage: 3.7+ MB\n"
     ]
    }
   ],
   "source": [
    "df.info()"
   ]
  },
  {
   "cell_type": "code",
   "execution_count": 34,
   "id": "d6234bcc",
   "metadata": {},
   "outputs": [
    {
     "data": {
      "image/png": "[encoded data removed]",
      "text/plain": [
       "<Figure size 432x288 with 1 Axes>"
      ]
     },
     "metadata": {
      "needs_background": "light"
     },
     "output_type": "display_data"
    }
   ],
   "source": [
    "sns.countplot(df['Income'])\n",
    "plt.show()"
   ]
  },
  {
   "cell_type": "markdown",
   "id": "a0477dd3",
   "metadata": {},
   "source": [
    "- The data is highly imbalanced"
   ]
  },
  {
   "cell_type": "code",
   "execution_count": 35,
   "id": "0dab4cba",
   "metadata": {},
   "outputs": [
    {
     "data": {
      "image/png": "[encoded data removed]",
      "text/plain": [
       "<Figure size 360x360 with 1 Axes>"
      ]
     },
     "metadata": {
      "needs_background": "light"
     },
     "output_type": "display_data"
    }
   ],
   "source": [
    "sns.catplot('Income','Age',data=df)\n",
    "plt.show()"
   ]
  },
  {
   "cell_type": "markdown",
   "id": "1b2a47d1",
   "metadata": {},
   "source": [
    "- people aged below 22-23 and above 72-73 have less chances of earning more than 50K a year"
   ]
  },
  {
   "cell_type": "code",
   "execution_count": 36,
   "id": "3f2683d2",
   "metadata": {},
   "outputs": [
    {
     "data": {
      "image/png": "[encoded data removed]",
      "text/plain": [
       "<Figure size 432x288 with 1 Axes>"
      ]
     },
     "metadata": {
      "needs_background": "light"
     },
     "output_type": "display_data"
    }
   ],
   "source": [
    "sns.countplot(df['Workclass'],hue=df['Income'])\n",
    "plt.xticks(rotation=90)\n",
    "plt.show()"
   ]
  },
  {
   "cell_type": "markdown",
   "id": "7f3e0bc3",
   "metadata": {},
   "source": [
    "- Private workclass has the highest count\n",
    "- Self-emp-inc have very high chances of earning more than 50K a year"
   ]
  },
  {
   "cell_type": "code",
   "execution_count": 39,
   "id": "f56296d9",
   "metadata": {},
   "outputs": [
    {
     "data": {
      "image/png": "[encoded data removed]",
      "text/plain": [
       "<Figure size 432x288 with 1 Axes>"
      ]
     },
     "metadata": {
      "needs_background": "light"
     },
     "output_type": "display_data"
    }
   ],
   "source": [
    "sns.scatterplot('Age','Fnlwgt',data=df)\n",
    "plt.show()"
   ]
  },
  {
   "cell_type": "markdown",
   "id": "ec09878a",
   "metadata": {},
   "source": [
    "- age group 22-45 have the highest fnlwgt count in the dataset, so it basically means that there are more people of this age group in USA"
   ]
  },
  {
   "cell_type": "code",
   "execution_count": 40,
   "id": "dbbca6f8",
   "metadata": {},
   "outputs": [
    {
     "data": {
      "image/png": "[encoded data removed]",
      "text/plain": [
       "<Figure size 432x288 with 1 Axes>"
      ]
     },
     "metadata": {
      "needs_background": "light"
     },
     "output_type": "display_data"
    }
   ],
   "source": [
    "sns.countplot(df['Education'],hue=df['Income'])\n",
    "plt.xticks(rotation=90)\n",
    "plt.show()"
   ]
  },
  {
   "cell_type": "markdown",
   "id": "c9a5321a",
   "metadata": {},
   "source": [
    "- Bachelors have higher rate of earning more than 50K per year\n",
    "- HS-grad and Some-college have very low chances of earning more than 50K a year\n",
    "- 10th , Preschool , 5th-6th , 12th , 1st-4th have almost no chances of earning more than 50K"
   ]
  },
  {
   "cell_type": "code",
   "execution_count": 41,
   "id": "84c02efe",
   "metadata": {},
   "outputs": [
    {
     "data": {
      "image/png": "[encoded data removed]",
      "text/plain": [
       "<Figure size 432x288 with 1 Axes>"
      ]
     },
     "metadata": {
      "needs_background": "light"
     },
     "output_type": "display_data"
    }
   ],
   "source": [
    "sns.countplot(df['Marital_status'],hue=df['Income'])\n",
    "plt.xticks(rotation=90)\n",
    "plt.show()"
   ]
  },
  {
   "cell_type": "markdown",
   "id": "ac1e6264",
   "metadata": {},
   "source": [
    "- Married-civ-spouse has a very good rate of earning more than 50K a year , Married-spouse-absent , Separated , Married-AF-spouse have very low chances of earning more than 50K"
   ]
  },
  {
   "cell_type": "code",
   "execution_count": 42,
   "id": "2c958e2b",
   "metadata": {},
   "outputs": [
    {
     "data": {
      "image/png": "[encoded data removed]",
      "text/plain": [
       "<Figure size 432x288 with 1 Axes>"
      ]
     },
     "metadata": {
      "needs_background": "light"
     },
     "output_type": "display_data"
    }
   ],
   "source": [
    "sns.countplot(df['Occupation'],hue=df['Income'])\n",
    "plt.xticks(rotation=90)\n",
    "plt.show()"
   ]
  },
  {
   "cell_type": "markdown",
   "id": "c88906d7",
   "metadata": {},
   "source": [
    "- Exec-managerial have a very fine rate of earning more than 50K a year\n",
    "- other-services have very low chances of earning more than 50K a year"
   ]
  },
  {
   "cell_type": "code",
   "execution_count": 43,
   "id": "3bb0b8ff",
   "metadata": {},
   "outputs": [
    {
     "data": {
      "image/png": "[encoded data removed]",
      "text/plain": [
       "<Figure size 432x288 with 1 Axes>"
      ]
     },
     "metadata": {
      "needs_background": "light"
     },
     "output_type": "display_data"
    }
   ],
   "source": [
    "sns.countplot(df['Relationship'],hue=df['Income'])\n",
    "plt.xticks(rotation=90)\n",
    "plt.show()"
   ]
  },
  {
   "cell_type": "markdown",
   "id": "b29d7dbc",
   "metadata": {},
   "source": [
    "- Husband and Wife relationship have more counts for more than 50K per year than other relationship"
   ]
  },
  {
   "cell_type": "code",
   "execution_count": 44,
   "id": "0da4c563",
   "metadata": {},
   "outputs": [
    {
     "data": {
      "image/png": "[encoded data removed]",
      "text/plain": [
       "<Figure size 432x288 with 1 Axes>"
      ]
     },
     "metadata": {
      "needs_background": "light"
     },
     "output_type": "display_data"
    }
   ],
   "source": [
    "sns.countplot(df['Race'],hue=df['Income'])\n",
    "plt.xticks(rotation=90)\n",
    "plt.show()"
   ]
  },
  {
   "cell_type": "markdown",
   "id": "ef74ead1",
   "metadata": {},
   "source": [
    "- all the other races than White have very low counts for earning more than 50K a year"
   ]
  },
  {
   "cell_type": "code",
   "execution_count": 45,
   "id": "0aceb9a6",
   "metadata": {},
   "outputs": [
    {
     "data": {
      "image/png": "[encoded data removed]",
      "text/plain": [
       "<Figure size 432x288 with 1 Axes>"
      ]
     },
     "metadata": {
      "needs_background": "light"
     },
     "output_type": "display_data"
    }
   ],
   "source": [
    "sns.countplot(df['Sex'],hue=df['Income'])\n",
    "plt.xticks(rotation=90)\n",
    "plt.show()"
   ]
  },
  {
   "cell_type": "markdown",
   "id": "d9238514",
   "metadata": {},
   "source": [
    "- Females have low count for earning more than 50K a year"
   ]
  },
  {
   "cell_type": "code",
   "execution_count": 48,
   "id": "70325c3e",
   "metadata": {},
   "outputs": [
    {
     "data": {
      "image/png": "[encoded data removed]",
      "text/plain": [
       "<Figure size 360x360 with 1 Axes>"
      ]
     },
     "metadata": {
      "needs_background": "light"
     },
     "output_type": "display_data"
    }
   ],
   "source": [
    "sns.catplot('Income','Capital_gain',data=df)\n",
    "plt.show()"
   ]
  },
  {
   "cell_type": "code",
   "execution_count": 49,
   "id": "8d4a53ba",
   "metadata": {},
   "outputs": [
    {
     "data": {
      "image/png": "[encoded data removed]",
      "text/plain": [
       "<Figure size 360x360 with 1 Axes>"
      ]
     },
     "metadata": {
      "needs_background": "light"
     },
     "output_type": "display_data"
    }
   ],
   "source": [
    "sns.catplot('Income','Capital_loss',data=df)\n",
    "plt.show()"
   ]
  },
  {
   "cell_type": "markdown",
   "id": "c2dc1ef3",
   "metadata": {},
   "source": [
    "- Captial_gain and Capital_loss have most values at zero only\n",
    "- Higher the capital_gain higher the chances of earning more than 50K a year\n",
    "- Lower the capital_loss , more chances of earning more than 50K a year"
   ]
  },
  {
   "cell_type": "code",
   "execution_count": 50,
   "id": "0d1c7c94",
   "metadata": {},
   "outputs": [
    {
     "data": {
      "image/png": "[encoded data removed]",
      "text/plain": [
       "<Figure size 360x360 with 1 Axes>"
      ]
     },
     "metadata": {
      "needs_background": "light"
     },
     "output_type": "display_data"
    }
   ],
   "source": [
    "sns.catplot('Income','Hours_per_week',data=df)\n",
    "plt.show()"
   ]
  },
  {
   "cell_type": "markdown",
   "id": "80d36f3a",
   "metadata": {},
   "source": [
    "- Higher the hours per week more chances of earning more than 50K a year"
   ]
  },
  {
   "cell_type": "code",
   "execution_count": 51,
   "id": "ecc83c0d",
   "metadata": {},
   "outputs": [
    {
     "data": {
      "text/html": [
       "<div>\n",
       "<style scoped>\n",
       "    .dataframe tbody tr th:only-of-type {\n",
       "        vertical-align: middle;\n",
       "    }\n",
       "\n",
       "    .dataframe tbody tr th {\n",
       "        vertical-align: top;\n",
       "    }\n",
       "\n",
       "    .dataframe thead th {\n",
       "        text-align: right;\n",
       "    }\n",
       "</style>\n",
       "<table border=\"1\" class=\"dataframe\">\n",
       "  <thead>\n",
       "    <tr style=\"text-align: right;\">\n",
       "      <th></th>\n",
       "      <th>Age</th>\n",
       "      <th>Workclass</th>\n",
       "      <th>Fnlwgt</th>\n",
       "      <th>Education</th>\n",
       "      <th>Education_num</th>\n",
       "      <th>Marital_status</th>\n",
       "      <th>Occupation</th>\n",
       "      <th>Relationship</th>\n",
       "      <th>Race</th>\n",
       "      <th>Sex</th>\n",
       "      <th>Capital_gain</th>\n",
       "      <th>Capital_loss</th>\n",
       "      <th>Hours_per_week</th>\n",
       "      <th>Native_country</th>\n",
       "      <th>Income</th>\n",
       "    </tr>\n",
       "  </thead>\n",
       "  <tbody>\n",
       "    <tr>\n",
       "      <th>11919</th>\n",
       "      <td>44</td>\n",
       "      <td>6</td>\n",
       "      <td>136546</td>\n",
       "      <td>Doctorate</td>\n",
       "      <td>16</td>\n",
       "      <td>2</td>\n",
       "      <td>9</td>\n",
       "      <td>0</td>\n",
       "      <td>4</td>\n",
       "      <td>1</td>\n",
       "      <td>0</td>\n",
       "      <td>1902</td>\n",
       "      <td>40</td>\n",
       "      <td>38</td>\n",
       "      <td>1</td>\n",
       "    </tr>\n",
       "  </tbody>\n",
       "</table>\n",
       "</div>"
      ],
      "text/plain": [
       "       Age  Workclass  Fnlwgt   Education  Education_num  Marital_status  \\\n",
       "11919   44          6  136546   Doctorate             16               2   \n",
       "\n",
       "       Occupation  Relationship  Race  Sex  Capital_gain  Capital_loss  \\\n",
       "11919           9             0     4    1             0          1902   \n",
       "\n",
       "       Hours_per_week  Native_country  Income  \n",
       "11919              40              38       1  "
      ]
     },
     "execution_count": 51,
     "metadata": {},
     "output_type": "execute_result"
    }
   ],
   "source": [
    "#now lets LabelEncode the object datatype variables\n",
    "\n",
    "cat=[]  #creating an empty list for categorical variables\n",
    "for i in df.columns:\n",
    "    if df[i].dtypes=='object':\n",
    "        cat.append(i)\n",
    "    else:\n",
    "        pass\n",
    "    \n",
    "\n",
    "# now removing Education, as it has already been encoded\n",
    "\n",
    "cat.remove('Education')\n",
    "\n",
    "from sklearn.preprocessing import LabelEncoder\n",
    "\n",
    "le=LabelEncoder()\n",
    "\n",
    "for i in cat:\n",
    "    df[i]=le.fit_transform(df[i])\n",
    "    \n",
    "df.sample()"
   ]
  },
  {
   "cell_type": "code",
   "execution_count": 53,
   "id": "c9e05878",
   "metadata": {},
   "outputs": [
    {
     "data": {
      "text/plain": [
       "Age                int64\n",
       "Workclass          int32\n",
       "Fnlwgt             int64\n",
       "Education         object\n",
       "Education_num      int64\n",
       "Marital_status     int32\n",
       "Occupation         int32\n",
       "Relationship       int32\n",
       "Race               int32\n",
       "Sex                int32\n",
       "Capital_gain       int64\n",
       "Capital_loss       int64\n",
       "Hours_per_week     int64\n",
       "Native_country     int32\n",
       "Income             int32\n",
       "dtype: object"
      ]
     },
     "execution_count": 53,
     "metadata": {},
     "output_type": "execute_result"
    }
   ],
   "source": [
    "#now checking for dtypes\n",
    "\n",
    "df.dtypes"
   ]
  },
  {
   "cell_type": "code",
   "execution_count": 54,
   "id": "dd77cb7b",
   "metadata": {},
   "outputs": [],
   "source": [
    "#dropping Education\n",
    "\n",
    "df.drop('Education',axis=1,inplace=True)"
   ]
  },
  {
   "cell_type": "code",
   "execution_count": 55,
   "id": "6f10a850",
   "metadata": {},
   "outputs": [
    {
     "data": {
      "text/html": [
       "<div>\n",
       "<style scoped>\n",
       "    .dataframe tbody tr th:only-of-type {\n",
       "        vertical-align: middle;\n",
       "    }\n",
       "\n",
       "    .dataframe tbody tr th {\n",
       "        vertical-align: top;\n",
       "    }\n",
       "\n",
       "    .dataframe thead th {\n",
       "        text-align: right;\n",
       "    }\n",
       "</style>\n",
       "<table border=\"1\" class=\"dataframe\">\n",
       "  <thead>\n",
       "    <tr style=\"text-align: right;\">\n",
       "      <th></th>\n",
       "      <th>Age</th>\n",
       "      <th>Workclass</th>\n",
       "      <th>Fnlwgt</th>\n",
       "      <th>Education_num</th>\n",
       "      <th>Marital_status</th>\n",
       "      <th>Occupation</th>\n",
       "      <th>Relationship</th>\n",
       "      <th>Race</th>\n",
       "      <th>Sex</th>\n",
       "      <th>Capital_gain</th>\n",
       "      <th>Capital_loss</th>\n",
       "      <th>Hours_per_week</th>\n",
       "      <th>Native_country</th>\n",
       "      <th>Income</th>\n",
       "    </tr>\n",
       "  </thead>\n",
       "  <tbody>\n",
       "    <tr>\n",
       "      <th>Age</th>\n",
       "      <td>1.000000</td>\n",
       "      <td>0.040506</td>\n",
       "      <td>-0.076646</td>\n",
       "      <td>0.036527</td>\n",
       "      <td>-0.266292</td>\n",
       "      <td>0.001740</td>\n",
       "      <td>-0.263698</td>\n",
       "      <td>0.028718</td>\n",
       "      <td>0.088832</td>\n",
       "      <td>0.077674</td>\n",
       "      <td>0.057775</td>\n",
       "      <td>0.068756</td>\n",
       "      <td>-0.000271</td>\n",
       "      <td>0.234039</td>\n",
       "    </tr>\n",
       "    <tr>\n",
       "      <th>Workclass</th>\n",
       "      <td>0.040506</td>\n",
       "      <td>1.000000</td>\n",
       "      <td>-0.024255</td>\n",
       "      <td>0.003445</td>\n",
       "      <td>-0.020545</td>\n",
       "      <td>0.007236</td>\n",
       "      <td>-0.057931</td>\n",
       "      <td>0.048323</td>\n",
       "      <td>0.071535</td>\n",
       "      <td>0.031496</td>\n",
       "      <td>0.002662</td>\n",
       "      <td>0.042206</td>\n",
       "      <td>-0.001646</td>\n",
       "      <td>0.002739</td>\n",
       "    </tr>\n",
       "    <tr>\n",
       "      <th>Fnlwgt</th>\n",
       "      <td>-0.076646</td>\n",
       "      <td>-0.024255</td>\n",
       "      <td>1.000000</td>\n",
       "      <td>-0.043159</td>\n",
       "      <td>0.028184</td>\n",
       "      <td>0.000138</td>\n",
       "      <td>0.008922</td>\n",
       "      <td>-0.021278</td>\n",
       "      <td>0.026882</td>\n",
       "      <td>0.000437</td>\n",
       "      <td>-0.010259</td>\n",
       "      <td>-0.018770</td>\n",
       "      <td>-0.063279</td>\n",
       "      <td>-0.009481</td>\n",
       "    </tr>\n",
       "    <tr>\n",
       "      <th>Education_num</th>\n",
       "      <td>0.036527</td>\n",
       "      <td>0.003445</td>\n",
       "      <td>-0.043159</td>\n",
       "      <td>1.000000</td>\n",
       "      <td>-0.069338</td>\n",
       "      <td>0.071012</td>\n",
       "      <td>-0.094145</td>\n",
       "      <td>0.031825</td>\n",
       "      <td>0.012256</td>\n",
       "      <td>0.122627</td>\n",
       "      <td>0.079932</td>\n",
       "      <td>0.148127</td>\n",
       "      <td>0.088887</td>\n",
       "      <td>0.335182</td>\n",
       "    </tr>\n",
       "    <tr>\n",
       "      <th>Marital_status</th>\n",
       "      <td>-0.266292</td>\n",
       "      <td>-0.020545</td>\n",
       "      <td>0.028184</td>\n",
       "      <td>-0.069338</td>\n",
       "      <td>1.000000</td>\n",
       "      <td>0.035008</td>\n",
       "      <td>0.185461</td>\n",
       "      <td>-0.068025</td>\n",
       "      <td>-0.129337</td>\n",
       "      <td>-0.043398</td>\n",
       "      <td>-0.034182</td>\n",
       "      <td>-0.190521</td>\n",
       "      <td>-0.021285</td>\n",
       "      <td>-0.199295</td>\n",
       "    </tr>\n",
       "    <tr>\n",
       "      <th>Occupation</th>\n",
       "      <td>0.001740</td>\n",
       "      <td>0.007236</td>\n",
       "      <td>0.000138</td>\n",
       "      <td>0.071012</td>\n",
       "      <td>0.035008</td>\n",
       "      <td>1.000000</td>\n",
       "      <td>-0.037465</td>\n",
       "      <td>-0.004821</td>\n",
       "      <td>0.047497</td>\n",
       "      <td>0.018028</td>\n",
       "      <td>0.009670</td>\n",
       "      <td>-0.012881</td>\n",
       "      <td>-0.002205</td>\n",
       "      <td>0.034599</td>\n",
       "    </tr>\n",
       "    <tr>\n",
       "      <th>Relationship</th>\n",
       "      <td>-0.263698</td>\n",
       "      <td>-0.057931</td>\n",
       "      <td>0.008922</td>\n",
       "      <td>-0.094145</td>\n",
       "      <td>0.185461</td>\n",
       "      <td>-0.037465</td>\n",
       "      <td>1.000000</td>\n",
       "      <td>-0.116052</td>\n",
       "      <td>-0.582453</td>\n",
       "      <td>-0.057918</td>\n",
       "      <td>-0.061064</td>\n",
       "      <td>-0.248975</td>\n",
       "      <td>-0.010710</td>\n",
       "      <td>-0.250924</td>\n",
       "    </tr>\n",
       "    <tr>\n",
       "      <th>Race</th>\n",
       "      <td>0.028718</td>\n",
       "      <td>0.048323</td>\n",
       "      <td>-0.021278</td>\n",
       "      <td>0.031825</td>\n",
       "      <td>-0.068025</td>\n",
       "      <td>-0.004821</td>\n",
       "      <td>-0.116052</td>\n",
       "      <td>1.000000</td>\n",
       "      <td>0.087197</td>\n",
       "      <td>0.011143</td>\n",
       "      <td>0.018902</td>\n",
       "      <td>0.041910</td>\n",
       "      <td>0.116526</td>\n",
       "      <td>0.071853</td>\n",
       "    </tr>\n",
       "    <tr>\n",
       "      <th>Sex</th>\n",
       "      <td>0.088832</td>\n",
       "      <td>0.071535</td>\n",
       "      <td>0.026882</td>\n",
       "      <td>0.012256</td>\n",
       "      <td>-0.129337</td>\n",
       "      <td>0.047497</td>\n",
       "      <td>-0.582453</td>\n",
       "      <td>0.087197</td>\n",
       "      <td>1.000000</td>\n",
       "      <td>0.048477</td>\n",
       "      <td>0.045572</td>\n",
       "      <td>0.229312</td>\n",
       "      <td>0.002055</td>\n",
       "      <td>0.215995</td>\n",
       "    </tr>\n",
       "    <tr>\n",
       "      <th>Capital_gain</th>\n",
       "      <td>0.077674</td>\n",
       "      <td>0.031496</td>\n",
       "      <td>0.000437</td>\n",
       "      <td>0.122627</td>\n",
       "      <td>-0.043398</td>\n",
       "      <td>0.018028</td>\n",
       "      <td>-0.057918</td>\n",
       "      <td>0.011143</td>\n",
       "      <td>0.048477</td>\n",
       "      <td>1.000000</td>\n",
       "      <td>-0.031614</td>\n",
       "      <td>0.078409</td>\n",
       "      <td>0.008818</td>\n",
       "      <td>0.223333</td>\n",
       "    </tr>\n",
       "    <tr>\n",
       "      <th>Capital_loss</th>\n",
       "      <td>0.057775</td>\n",
       "      <td>0.002662</td>\n",
       "      <td>-0.010259</td>\n",
       "      <td>0.079932</td>\n",
       "      <td>-0.034182</td>\n",
       "      <td>0.009670</td>\n",
       "      <td>-0.061064</td>\n",
       "      <td>0.018902</td>\n",
       "      <td>0.045572</td>\n",
       "      <td>-0.031614</td>\n",
       "      <td>1.000000</td>\n",
       "      <td>0.054256</td>\n",
       "      <td>0.009402</td>\n",
       "      <td>0.150523</td>\n",
       "    </tr>\n",
       "    <tr>\n",
       "      <th>Hours_per_week</th>\n",
       "      <td>0.068756</td>\n",
       "      <td>0.042206</td>\n",
       "      <td>-0.018770</td>\n",
       "      <td>0.148127</td>\n",
       "      <td>-0.190521</td>\n",
       "      <td>-0.012881</td>\n",
       "      <td>-0.248975</td>\n",
       "      <td>0.041910</td>\n",
       "      <td>0.229312</td>\n",
       "      <td>0.078409</td>\n",
       "      <td>0.054256</td>\n",
       "      <td>1.000000</td>\n",
       "      <td>0.006592</td>\n",
       "      <td>0.229690</td>\n",
       "    </tr>\n",
       "    <tr>\n",
       "      <th>Native_country</th>\n",
       "      <td>-0.000271</td>\n",
       "      <td>-0.001646</td>\n",
       "      <td>-0.063279</td>\n",
       "      <td>0.088887</td>\n",
       "      <td>-0.021285</td>\n",
       "      <td>-0.002205</td>\n",
       "      <td>-0.010710</td>\n",
       "      <td>0.116526</td>\n",
       "      <td>0.002055</td>\n",
       "      <td>0.008818</td>\n",
       "      <td>0.009402</td>\n",
       "      <td>0.006592</td>\n",
       "      <td>1.000000</td>\n",
       "      <td>0.023063</td>\n",
       "    </tr>\n",
       "    <tr>\n",
       "      <th>Income</th>\n",
       "      <td>0.234039</td>\n",
       "      <td>0.002739</td>\n",
       "      <td>-0.009481</td>\n",
       "      <td>0.335182</td>\n",
       "      <td>-0.199295</td>\n",
       "      <td>0.034599</td>\n",
       "      <td>-0.250924</td>\n",
       "      <td>0.071853</td>\n",
       "      <td>0.215995</td>\n",
       "      <td>0.223333</td>\n",
       "      <td>0.150523</td>\n",
       "      <td>0.229690</td>\n",
       "      <td>0.023063</td>\n",
       "      <td>1.000000</td>\n",
       "    </tr>\n",
       "  </tbody>\n",
       "</table>\n",
       "</div>"
      ],
      "text/plain": [
       "                     Age  Workclass    Fnlwgt  Education_num  Marital_status  \\\n",
       "Age             1.000000   0.040506 -0.076646       0.036527       -0.266292   \n",
       "Workclass       0.040506   1.000000 -0.024255       0.003445       -0.020545   \n",
       "Fnlwgt         -0.076646  -0.024255  1.000000      -0.043159        0.028184   \n",
       "Education_num   0.036527   0.003445 -0.043159       1.000000       -0.069338   \n",
       "Marital_status -0.266292  -0.020545  0.028184      -0.069338        1.000000   \n",
       "Occupation      0.001740   0.007236  0.000138       0.071012        0.035008   \n",
       "Relationship   -0.263698  -0.057931  0.008922      -0.094145        0.185461   \n",
       "Race            0.028718   0.048323 -0.021278       0.031825       -0.068025   \n",
       "Sex             0.088832   0.071535  0.026882       0.012256       -0.129337   \n",
       "Capital_gain    0.077674   0.031496  0.000437       0.122627       -0.043398   \n",
       "Capital_loss    0.057775   0.002662 -0.010259       0.079932       -0.034182   \n",
       "Hours_per_week  0.068756   0.042206 -0.018770       0.148127       -0.190521   \n",
       "Native_country -0.000271  -0.001646 -0.063279       0.088887       -0.021285   \n",
       "Income          0.234039   0.002739 -0.009481       0.335182       -0.199295   \n",
       "\n",
       "                Occupation  Relationship      Race       Sex  Capital_gain  \\\n",
       "Age               0.001740     -0.263698  0.028718  0.088832      0.077674   \n",
       "Workclass         0.007236     -0.057931  0.048323  0.071535      0.031496   \n",
       "Fnlwgt            0.000138      0.008922 -0.021278  0.026882      0.000437   \n",
       "Education_num     0.071012     -0.094145  0.031825  0.012256      0.122627   \n",
       "Marital_status    0.035008      0.185461 -0.068025 -0.129337     -0.043398   \n",
       "Occupation        1.000000     -0.037465 -0.004821  0.047497      0.018028   \n",
       "Relationship     -0.037465      1.000000 -0.116052 -0.582453     -0.057918   \n",
       "Race             -0.004821     -0.116052  1.000000  0.087197      0.011143   \n",
       "Sex               0.047497     -0.582453  0.087197  1.000000      0.048477   \n",
       "Capital_gain      0.018028     -0.057918  0.011143  0.048477      1.000000   \n",
       "Capital_loss      0.009670     -0.061064  0.018902  0.045572     -0.031614   \n",
       "Hours_per_week   -0.012881     -0.248975  0.041910  0.229312      0.078409   \n",
       "Native_country   -0.002205     -0.010710  0.116526  0.002055      0.008818   \n",
       "Income            0.034599     -0.250924  0.071853  0.215995      0.223333   \n",
       "\n",
       "                Capital_loss  Hours_per_week  Native_country    Income  \n",
       "Age                 0.057775        0.068756       -0.000271  0.234039  \n",
       "Workclass           0.002662        0.042206       -0.001646  0.002739  \n",
       "Fnlwgt             -0.010259       -0.018770       -0.063279 -0.009481  \n",
       "Education_num       0.079932        0.148127        0.088887  0.335182  \n",
       "Marital_status     -0.034182       -0.190521       -0.021285 -0.199295  \n",
       "Occupation          0.009670       -0.012881       -0.002205  0.034599  \n",
       "Relationship       -0.061064       -0.248975       -0.010710 -0.250924  \n",
       "Race                0.018902        0.041910        0.116526  0.071853  \n",
       "Sex                 0.045572        0.229312        0.002055  0.215995  \n",
       "Capital_gain       -0.031614        0.078409        0.008818  0.223333  \n",
       "Capital_loss        1.000000        0.054256        0.009402  0.150523  \n",
       "Hours_per_week      0.054256        1.000000        0.006592  0.229690  \n",
       "Native_country      0.009402        0.006592        1.000000  0.023063  \n",
       "Income              0.150523        0.229690        0.023063  1.000000  "
      ]
     },
     "execution_count": 55,
     "metadata": {},
     "output_type": "execute_result"
    }
   ],
   "source": [
    "#checking for correlation\n",
    "\n",
    "df.corr()"
   ]
  },
  {
   "cell_type": "code",
   "execution_count": 56,
   "id": "8b0dcbaf",
   "metadata": {},
   "outputs": [
    {
     "data": {
      "text/plain": [
       "Income            1.000000\n",
       "Education_num     0.335182\n",
       "Age               0.234039\n",
       "Hours_per_week    0.229690\n",
       "Capital_gain      0.223333\n",
       "Sex               0.215995\n",
       "Capital_loss      0.150523\n",
       "Race              0.071853\n",
       "Occupation        0.034599\n",
       "Native_country    0.023063\n",
       "Workclass         0.002739\n",
       "Fnlwgt           -0.009481\n",
       "Marital_status   -0.199295\n",
       "Relationship     -0.250924\n",
       "Name: Income, dtype: float64"
      ]
     },
     "execution_count": 56,
     "metadata": {},
     "output_type": "execute_result"
    }
   ],
   "source": [
    "df.corr()['Income'].sort_values(ascending=False)"
   ]
  },
  {
   "cell_type": "markdown",
   "id": "fadcec72",
   "metadata": {},
   "source": [
    "- Education_num has the highest correlation with the target variable\n",
    "- Age , Hours_per_week , Capital_gain , Sex , capital_loss have fine correlation bond with the target variable\n",
    "- Race , Occupation , Native_Country , Wrokclass have weak correlation bond\n",
    "- Marital_status , Relationship have negative correlation bond"
   ]
  },
  {
   "cell_type": "code",
   "execution_count": 58,
   "id": "c2e6b4a5",
   "metadata": {},
   "outputs": [
    {
     "data": {
      "text/plain": [
       "<Figure size 432x288 with 0 Axes>"
      ]
     },
     "execution_count": 58,
     "metadata": {},
     "output_type": "execute_result"
    },
    {
     "data": {
      "image/png": "[encoded data removed]",
      "text/plain": [
       "<Figure size 1080x504 with 2 Axes>"
      ]
     },
     "metadata": {
      "needs_background": "light"
     },
     "output_type": "display_data"
    },
    {
     "data": {
      "text/plain": [
       "<Figure size 432x288 with 0 Axes>"
      ]
     },
     "metadata": {},
     "output_type": "display_data"
    }
   ],
   "source": [
    "plt.figure(figsize=(15,7))\n",
    "sns.heatmap(df.corr(),annot=True,cmap='YlGnBu',fmt='.2%')\n",
    "plt.figure()"
   ]
  },
  {
   "cell_type": "code",
   "execution_count": 59,
   "id": "0d44f073",
   "metadata": {},
   "outputs": [
    {
     "data": {
      "text/html": [
       "<div>\n",
       "<style scoped>\n",
       "    .dataframe tbody tr th:only-of-type {\n",
       "        vertical-align: middle;\n",
       "    }\n",
       "\n",
       "    .dataframe tbody tr th {\n",
       "        vertical-align: top;\n",
       "    }\n",
       "\n",
       "    .dataframe thead th {\n",
       "        text-align: right;\n",
       "    }\n",
       "</style>\n",
       "<table border=\"1\" class=\"dataframe\">\n",
       "  <thead>\n",
       "    <tr style=\"text-align: right;\">\n",
       "      <th></th>\n",
       "      <th>Age</th>\n",
       "      <th>Workclass</th>\n",
       "      <th>Fnlwgt</th>\n",
       "      <th>Education_num</th>\n",
       "      <th>Marital_status</th>\n",
       "      <th>Occupation</th>\n",
       "      <th>Relationship</th>\n",
       "      <th>Race</th>\n",
       "      <th>Sex</th>\n",
       "      <th>Capital_gain</th>\n",
       "      <th>Capital_loss</th>\n",
       "      <th>Hours_per_week</th>\n",
       "      <th>Native_country</th>\n",
       "      <th>Income</th>\n",
       "    </tr>\n",
       "  </thead>\n",
       "  <tbody>\n",
       "    <tr>\n",
       "      <th>count</th>\n",
       "      <td>32560.000000</td>\n",
       "      <td>32560.000000</td>\n",
       "      <td>3.256000e+04</td>\n",
       "      <td>32560.000000</td>\n",
       "      <td>32560.000000</td>\n",
       "      <td>32560.000000</td>\n",
       "      <td>32560.000000</td>\n",
       "      <td>32560.000000</td>\n",
       "      <td>32560.000000</td>\n",
       "      <td>32560.000000</td>\n",
       "      <td>32560.000000</td>\n",
       "      <td>32560.000000</td>\n",
       "      <td>32560.000000</td>\n",
       "      <td>32560.000000</td>\n",
       "    </tr>\n",
       "    <tr>\n",
       "      <th>mean</th>\n",
       "      <td>38.581634</td>\n",
       "      <td>3.094349</td>\n",
       "      <td>1.897818e+05</td>\n",
       "      <td>10.080590</td>\n",
       "      <td>2.611794</td>\n",
       "      <td>6.138943</td>\n",
       "      <td>1.446376</td>\n",
       "      <td>3.665848</td>\n",
       "      <td>0.669195</td>\n",
       "      <td>1077.615172</td>\n",
       "      <td>87.306511</td>\n",
       "      <td>40.437469</td>\n",
       "      <td>36.417107</td>\n",
       "      <td>0.240817</td>\n",
       "    </tr>\n",
       "    <tr>\n",
       "      <th>std</th>\n",
       "      <td>13.640642</td>\n",
       "      <td>1.107094</td>\n",
       "      <td>1.055498e+05</td>\n",
       "      <td>2.572709</td>\n",
       "      <td>1.506225</td>\n",
       "      <td>3.972623</td>\n",
       "      <td>1.606794</td>\n",
       "      <td>0.848817</td>\n",
       "      <td>0.470510</td>\n",
       "      <td>7385.402999</td>\n",
       "      <td>402.966116</td>\n",
       "      <td>12.347618</td>\n",
       "      <td>6.056133</td>\n",
       "      <td>0.427586</td>\n",
       "    </tr>\n",
       "    <tr>\n",
       "      <th>min</th>\n",
       "      <td>17.000000</td>\n",
       "      <td>0.000000</td>\n",
       "      <td>1.228500e+04</td>\n",
       "      <td>1.000000</td>\n",
       "      <td>0.000000</td>\n",
       "      <td>0.000000</td>\n",
       "      <td>0.000000</td>\n",
       "      <td>0.000000</td>\n",
       "      <td>0.000000</td>\n",
       "      <td>0.000000</td>\n",
       "      <td>0.000000</td>\n",
       "      <td>1.000000</td>\n",
       "      <td>0.000000</td>\n",
       "      <td>0.000000</td>\n",
       "    </tr>\n",
       "    <tr>\n",
       "      <th>25%</th>\n",
       "      <td>28.000000</td>\n",
       "      <td>3.000000</td>\n",
       "      <td>1.178315e+05</td>\n",
       "      <td>9.000000</td>\n",
       "      <td>2.000000</td>\n",
       "      <td>3.000000</td>\n",
       "      <td>0.000000</td>\n",
       "      <td>4.000000</td>\n",
       "      <td>0.000000</td>\n",
       "      <td>0.000000</td>\n",
       "      <td>0.000000</td>\n",
       "      <td>40.000000</td>\n",
       "      <td>38.000000</td>\n",
       "      <td>0.000000</td>\n",
       "    </tr>\n",
       "    <tr>\n",
       "      <th>50%</th>\n",
       "      <td>37.000000</td>\n",
       "      <td>3.000000</td>\n",
       "      <td>1.783630e+05</td>\n",
       "      <td>10.000000</td>\n",
       "      <td>2.000000</td>\n",
       "      <td>6.000000</td>\n",
       "      <td>1.000000</td>\n",
       "      <td>4.000000</td>\n",
       "      <td>1.000000</td>\n",
       "      <td>0.000000</td>\n",
       "      <td>0.000000</td>\n",
       "      <td>40.000000</td>\n",
       "      <td>38.000000</td>\n",
       "      <td>0.000000</td>\n",
       "    </tr>\n",
       "    <tr>\n",
       "      <th>75%</th>\n",
       "      <td>48.000000</td>\n",
       "      <td>3.000000</td>\n",
       "      <td>2.370545e+05</td>\n",
       "      <td>12.000000</td>\n",
       "      <td>4.000000</td>\n",
       "      <td>9.000000</td>\n",
       "      <td>3.000000</td>\n",
       "      <td>4.000000</td>\n",
       "      <td>1.000000</td>\n",
       "      <td>0.000000</td>\n",
       "      <td>0.000000</td>\n",
       "      <td>45.000000</td>\n",
       "      <td>38.000000</td>\n",
       "      <td>0.000000</td>\n",
       "    </tr>\n",
       "    <tr>\n",
       "      <th>max</th>\n",
       "      <td>90.000000</td>\n",
       "      <td>7.000000</td>\n",
       "      <td>1.484705e+06</td>\n",
       "      <td>16.000000</td>\n",
       "      <td>6.000000</td>\n",
       "      <td>13.000000</td>\n",
       "      <td>5.000000</td>\n",
       "      <td>4.000000</td>\n",
       "      <td>1.000000</td>\n",
       "      <td>99999.000000</td>\n",
       "      <td>4356.000000</td>\n",
       "      <td>99.000000</td>\n",
       "      <td>40.000000</td>\n",
       "      <td>1.000000</td>\n",
       "    </tr>\n",
       "  </tbody>\n",
       "</table>\n",
       "</div>"
      ],
      "text/plain": [
       "                Age     Workclass        Fnlwgt  Education_num  \\\n",
       "count  32560.000000  32560.000000  3.256000e+04   32560.000000   \n",
       "mean      38.581634      3.094349  1.897818e+05      10.080590   \n",
       "std       13.640642      1.107094  1.055498e+05       2.572709   \n",
       "min       17.000000      0.000000  1.228500e+04       1.000000   \n",
       "25%       28.000000      3.000000  1.178315e+05       9.000000   \n",
       "50%       37.000000      3.000000  1.783630e+05      10.000000   \n",
       "75%       48.000000      3.000000  2.370545e+05      12.000000   \n",
       "max       90.000000      7.000000  1.484705e+06      16.000000   \n",
       "\n",
       "       Marital_status    Occupation  Relationship          Race           Sex  \\\n",
       "count    32560.000000  32560.000000  32560.000000  32560.000000  32560.000000   \n",
       "mean         2.611794      6.138943      1.446376      3.665848      0.669195   \n",
       "std          1.506225      3.972623      1.606794      0.848817      0.470510   \n",
       "min          0.000000      0.000000      0.000000      0.000000      0.000000   \n",
       "25%          2.000000      3.000000      0.000000      4.000000      0.000000   \n",
       "50%          2.000000      6.000000      1.000000      4.000000      1.000000   \n",
       "75%          4.000000      9.000000      3.000000      4.000000      1.000000   \n",
       "max          6.000000     13.000000      5.000000      4.000000      1.000000   \n",
       "\n",
       "       Capital_gain  Capital_loss  Hours_per_week  Native_country  \\\n",
       "count  32560.000000  32560.000000    32560.000000    32560.000000   \n",
       "mean    1077.615172     87.306511       40.437469       36.417107   \n",
       "std     7385.402999    402.966116       12.347618        6.056133   \n",
       "min        0.000000      0.000000        1.000000        0.000000   \n",
       "25%        0.000000      0.000000       40.000000       38.000000   \n",
       "50%        0.000000      0.000000       40.000000       38.000000   \n",
       "75%        0.000000      0.000000       45.000000       38.000000   \n",
       "max    99999.000000   4356.000000       99.000000       40.000000   \n",
       "\n",
       "             Income  \n",
       "count  32560.000000  \n",
       "mean       0.240817  \n",
       "std        0.427586  \n",
       "min        0.000000  \n",
       "25%        0.000000  \n",
       "50%        0.000000  \n",
       "75%        0.000000  \n",
       "max        1.000000  "
      ]
     },
     "execution_count": 59,
     "metadata": {},
     "output_type": "execute_result"
    }
   ],
   "source": [
    "# now let's, describe our dataset:\n",
    "\n",
    "df.describe()"
   ]
  },
  {
   "cell_type": "markdown",
   "id": "b4ef1050",
   "metadata": {},
   "source": [
    "- skewness is present as some varaibles's mean is higher or lower than their median value\n",
    "- Outliers might also be there"
   ]
  },
  {
   "cell_type": "code",
   "execution_count": 60,
   "id": "480cc586",
   "metadata": {},
   "outputs": [
    {
     "data": {
      "image/png": "[encoded data removed]",
      "text/plain": [
       "<Figure size 432x288 with 1 Axes>"
      ]
     },
     "metadata": {
      "needs_background": "light"
     },
     "output_type": "display_data"
    }
   ],
   "source": [
    "#let's check for outliers\n",
    "\n",
    "sns.boxplot(df['Fnlwgt'])\n",
    "plt.show()"
   ]
  },
  {
   "cell_type": "code",
   "execution_count": 62,
   "id": "29f976fc",
   "metadata": {},
   "outputs": [
    {
     "data": {
      "image/png": "[encoded data removed]",
      "text/plain": [
       "<Figure size 432x288 with 1 Axes>"
      ]
     },
     "metadata": {
      "needs_background": "light"
     },
     "output_type": "display_data"
    }
   ],
   "source": [
    "sns.boxplot(df['Capital_loss'])\n",
    "plt.show()"
   ]
  },
  {
   "cell_type": "markdown",
   "id": "7d5b4408",
   "metadata": {},
   "source": [
    "- so outliers are present"
   ]
  },
  {
   "cell_type": "markdown",
   "id": "b383f385",
   "metadata": {},
   "source": [
    "# Data Cleaning:"
   ]
  },
  {
   "cell_type": "code",
   "execution_count": 154,
   "id": "b999421c",
   "metadata": {},
   "outputs": [
    {
     "data": {
      "text/plain": [
       "(array([    3,     9,    10, ..., 32532, 32550, 32552], dtype=int64),\n",
       " array([12, 11,  7, ...,  7,  7,  7], dtype=int64))"
      ]
     },
     "execution_count": 154,
     "metadata": {},
     "output_type": "execute_result"
    }
   ],
   "source": [
    "#lets check out for outliers using zscore\n",
    "\n",
    "from scipy.stats import zscore\n",
    "\n",
    "z=np.abs(zscore(df))\n",
    "\n",
    "#threhold=3\n",
    "np.where(z>3)"
   ]
  },
  {
   "cell_type": "code",
   "execution_count": 155,
   "id": "a15cdc2f",
   "metadata": {},
   "outputs": [],
   "source": [
    "#so outliers are present, so we are going to see how much data is being lost\n",
    "\n",
    "df_new=df[(z<3).all(axis=1)]"
   ]
  },
  {
   "cell_type": "code",
   "execution_count": 156,
   "id": "e963bf97",
   "metadata": {},
   "outputs": [
    {
     "data": {
      "text/plain": [
       "(32560, 14)"
      ]
     },
     "execution_count": 156,
     "metadata": {},
     "output_type": "execute_result"
    }
   ],
   "source": [
    "df.shape"
   ]
  },
  {
   "cell_type": "code",
   "execution_count": 157,
   "id": "39af763a",
   "metadata": {},
   "outputs": [
    {
     "data": {
      "text/plain": [
       "(27770, 14)"
      ]
     },
     "execution_count": 157,
     "metadata": {},
     "output_type": "execute_result"
    }
   ],
   "source": [
    "df_new.shape"
   ]
  },
  {
   "cell_type": "code",
   "execution_count": 158,
   "id": "b8b194f9",
   "metadata": {},
   "outputs": [
    {
     "name": "stdout",
     "output_type": "stream",
     "text": [
      "Data loss is: 14.71130221130221 %\n"
     ]
    }
   ],
   "source": [
    "print('Data loss is:',(32560-27770)/32560*100,'%')"
   ]
  },
  {
   "cell_type": "markdown",
   "id": "5f9bb675",
   "metadata": {},
   "source": [
    "- Since data loss is more than 10% , we wont use the dataset without outliers as it might end up increasing skewness"
   ]
  },
  {
   "cell_type": "code",
   "execution_count": 179,
   "id": "eb4696da",
   "metadata": {},
   "outputs": [
    {
     "name": "stdout",
     "output_type": "stream",
     "text": [
      "(32560, 13)\n",
      "(32560,)\n"
     ]
    }
   ],
   "source": [
    "# now selecting our feature and target variable for further process\n",
    "\n",
    "x=df.drop('Income',axis=1)\n",
    "y=df['Income']\n",
    "\n",
    "print(x.shape)\n",
    "print(y.shape)"
   ]
  },
  {
   "cell_type": "code",
   "execution_count": 180,
   "id": "06cce401",
   "metadata": {},
   "outputs": [
    {
     "data": {
      "text/plain": [
       "Age                0.558738\n",
       "Workclass          0.076178\n",
       "Fnlwgt             1.446972\n",
       "Education_num     -0.311630\n",
       "Marital_status    -0.013448\n",
       "Occupation         0.000536\n",
       "Relationship       0.786784\n",
       "Race              -2.435332\n",
       "Sex               -0.719244\n",
       "Capital_gain      11.953690\n",
       "Capital_loss       4.594549\n",
       "Hours_per_week     0.227636\n",
       "Native_country    -4.243083\n",
       "dtype: float64"
      ]
     },
     "execution_count": 180,
     "metadata": {},
     "output_type": "execute_result"
    }
   ],
   "source": [
    "#checking for skewness\n",
    "\n",
    "x.skew()"
   ]
  },
  {
   "cell_type": "markdown",
   "id": "89fa9422",
   "metadata": {},
   "source": [
    "- threshold= -/+ 0.50 , so Capital_gain , Capital_loss , Native_country , Fnlwgt , Relationship are exceeding the threshold for skewness"
   ]
  },
  {
   "cell_type": "code",
   "execution_count": 181,
   "id": "219b5a38",
   "metadata": {},
   "outputs": [
    {
     "data": {
      "image/png": "[encoded data removed]",
      "text/plain": [
       "<Figure size 432x288 with 1 Axes>"
      ]
     },
     "metadata": {
      "needs_background": "light"
     },
     "output_type": "display_data"
    }
   ],
   "source": [
    "sns.distplot(x['Capital_gain'])\n",
    "plt.show()"
   ]
  },
  {
   "cell_type": "code",
   "execution_count": 182,
   "id": "015415a1",
   "metadata": {},
   "outputs": [
    {
     "data": {
      "image/png": "[encoded data removed]",
      "text/plain": [
       "<Figure size 432x288 with 1 Axes>"
      ]
     },
     "metadata": {
      "needs_background": "light"
     },
     "output_type": "display_data"
    }
   ],
   "source": [
    "sns.distplot(x['Native_country'])\n",
    "plt.show()"
   ]
  },
  {
   "cell_type": "code",
   "execution_count": 183,
   "id": "e267ba3a",
   "metadata": {},
   "outputs": [
    {
     "data": {
      "image/png": "[encoded data removed]",
      "text/plain": [
       "<Figure size 432x288 with 1 Axes>"
      ]
     },
     "metadata": {
      "needs_background": "light"
     },
     "output_type": "display_data"
    }
   ],
   "source": [
    "sns.distplot(x['Fnlwgt'])\n",
    "plt.show()"
   ]
  },
  {
   "cell_type": "markdown",
   "id": "3a503030",
   "metadata": {},
   "source": [
    "- little skewness is present"
   ]
  },
  {
   "cell_type": "code",
   "execution_count": 184,
   "id": "239cf137",
   "metadata": {},
   "outputs": [
    {
     "data": {
      "text/plain": [
       "Index(['Age', 'Workclass', 'Fnlwgt', 'Education_num', 'Marital_status',\n",
       "       'Occupation', 'Relationship', 'Race', 'Sex', 'Capital_gain',\n",
       "       'Capital_loss', 'Hours_per_week', 'Native_country'],\n",
       "      dtype='object')"
      ]
     },
     "execution_count": 184,
     "metadata": {},
     "output_type": "execute_result"
    }
   ],
   "source": [
    "x.columns"
   ]
  },
  {
   "cell_type": "code",
   "execution_count": 185,
   "id": "161d8465",
   "metadata": {},
   "outputs": [
    {
     "data": {
      "text/plain": [
       "Age              -0.013897\n",
       "Workclass         0.216967\n",
       "Fnlwgt            0.016914\n",
       "Education_num     0.023885\n",
       "Marital_status   -0.114201\n",
       "Occupation       -0.237163\n",
       "Relationship      0.122917\n",
       "Race             -2.010817\n",
       "Sex              -0.719244\n",
       "Capital_gain      3.016951\n",
       "Capital_loss      4.299511\n",
       "Hours_per_week    0.229556\n",
       "Native_country   -2.981838\n",
       "dtype: float64"
      ]
     },
     "execution_count": 185,
     "metadata": {},
     "output_type": "execute_result"
    }
   ],
   "source": [
    "#using power_transform method\n",
    "\n",
    "from sklearn.preprocessing import power_transform\n",
    "\n",
    "x=power_transform(x,method='yeo-johnson')\n",
    "x=pd.DataFrame(x,columns=['Age', 'Workclass', 'Fnlwgt', 'Education_num', 'Marital_status',\n",
    "       'Occupation', 'Relationship', 'Race', 'Sex', 'Capital_gain',\n",
    "       'Capital_loss', 'Hours_per_week', 'Native_country'])\n",
    "x.skew()"
   ]
  },
  {
   "cell_type": "markdown",
   "id": "95124912",
   "metadata": {},
   "source": [
    "- 'Race' , 'capital_loss' still have some skewness left but we won't further reduce it as it might result in NaN values"
   ]
  },
  {
   "cell_type": "code",
   "execution_count": 186,
   "id": "3e74552b",
   "metadata": {},
   "outputs": [
    {
     "data": {
      "image/png": "[encoded data removed]",
      "text/plain": [
       "<Figure size 432x288 with 1 Axes>"
      ]
     },
     "metadata": {
      "needs_background": "light"
     },
     "output_type": "display_data"
    }
   ],
   "source": [
    "sns.distplot(x['Capital_gain'])\n",
    "plt.show()"
   ]
  },
  {
   "cell_type": "code",
   "execution_count": 187,
   "id": "0daba1c5",
   "metadata": {},
   "outputs": [
    {
     "data": {
      "image/png": "[encoded data removed]",
      "text/plain": [
       "<Figure size 432x288 with 1 Axes>"
      ]
     },
     "metadata": {
      "needs_background": "light"
     },
     "output_type": "display_data"
    }
   ],
   "source": [
    "sns.distplot(x['Relationship'])\n",
    "plt.show()"
   ]
  },
  {
   "cell_type": "code",
   "execution_count": 188,
   "id": "ebeb7f04",
   "metadata": {},
   "outputs": [
    {
     "data": {
      "image/png": "[encoded data removed]",
      "text/plain": [
       "<Figure size 432x288 with 1 Axes>"
      ]
     },
     "metadata": {
      "needs_background": "light"
     },
     "output_type": "display_data"
    }
   ],
   "source": [
    "sns.distplot(x['Fnlwgt'])\n",
    "plt.show()"
   ]
  },
  {
   "cell_type": "code",
   "execution_count": null,
   "id": "2d4bdcbd",
   "metadata": {},
   "outputs": [],
   "source": []
  },
  {
   "cell_type": "code",
   "execution_count": 189,
   "id": "24133803",
   "metadata": {},
   "outputs": [],
   "source": [
    "#checking for multicollinearity\n",
    "\n",
    "from statsmodels.stats.outliers_influence import variance_inflation_factor\n",
    "\n",
    "def vif_calc():\n",
    "    vif=pd.DataFrame()\n",
    "    vif['VIF Factor']=[variance_inflation_factor(x.values,i) for i in range(x.shape[1])]\n",
    "    vif['features']=x.columns\n",
    "    print(vif)"
   ]
  },
  {
   "cell_type": "code",
   "execution_count": 190,
   "id": "c52054dc",
   "metadata": {},
   "outputs": [
    {
     "name": "stdout",
     "output_type": "stream",
     "text": [
      "    VIF Factor        features\n",
      "0     1.261635             Age\n",
      "1     1.010145       Workclass\n",
      "2     1.016604          Fnlwgt\n",
      "3     1.072289   Education_num\n",
      "4     1.168943  Marital_status\n",
      "5     1.013056      Occupation\n",
      "6     1.932693    Relationship\n",
      "7     1.049736            Race\n",
      "8     1.651924             Sex\n",
      "9     1.041100    Capital_gain\n",
      "10    1.019587    Capital_loss\n",
      "11    1.129705  Hours_per_week\n",
      "12    1.040175  Native_country\n"
     ]
    }
   ],
   "source": [
    "vif_calc()"
   ]
  },
  {
   "cell_type": "markdown",
   "id": "233d8bfb",
   "metadata": {},
   "source": [
    "- Multicollinearity  isnt present as VIF is very low for feature variables"
   ]
  },
  {
   "cell_type": "code",
   "execution_count": 191,
   "id": "d3e512b1",
   "metadata": {},
   "outputs": [],
   "source": [
    "#scaling the input data\n",
    "\n",
    "from sklearn.preprocessing import StandardScaler\n",
    "sc=StandardScaler()\n",
    "x=sc.fit_transform(x)"
   ]
  },
  {
   "cell_type": "code",
   "execution_count": 192,
   "id": "76319b00",
   "metadata": {},
   "outputs": [
    {
     "data": {
      "text/plain": [
       "0    24719\n",
       "1     7841\n",
       "Name: Income, dtype: int64"
      ]
     },
     "execution_count": 192,
     "metadata": {},
     "output_type": "execute_result"
    }
   ],
   "source": [
    "#now checking if the dataset is imbalanced or not\n",
    "\n",
    "y.value_counts()"
   ]
  },
  {
   "cell_type": "code",
   "execution_count": 193,
   "id": "07f0d6e1",
   "metadata": {},
   "outputs": [
    {
     "data": {
      "image/png": "[encoded data removed]",
      "text/plain": [
       "<Figure size 432x288 with 1 Axes>"
      ]
     },
     "metadata": {
      "needs_background": "light"
     },
     "output_type": "display_data"
    }
   ],
   "source": [
    "sns.countplot(y)\n",
    "plt.show()"
   ]
  },
  {
   "cell_type": "code",
   "execution_count": 194,
   "id": "4fddebe6",
   "metadata": {},
   "outputs": [
    {
     "name": "stdout",
     "output_type": "stream",
     "text": [
      "(49438, 13)\n",
      "(49438,)\n"
     ]
    }
   ],
   "source": [
    "from imblearn.over_sampling import SMOTE   #over_sampling\n",
    "\n",
    "train_x,train_y=SMOTE().fit_resample(x,y)\n",
    "\n",
    "print(train_x.shape)\n",
    "print(train_y.shape)"
   ]
  },
  {
   "cell_type": "code",
   "execution_count": 195,
   "id": "3c6c9d3f",
   "metadata": {},
   "outputs": [],
   "source": [
    "#since this is binary classification problem first we will use LogisticRegression then we will try out some other algos too"
   ]
  },
  {
   "cell_type": "code",
   "execution_count": 196,
   "id": "322af2b3",
   "metadata": {},
   "outputs": [],
   "source": [
    "#importing libraries\n",
    "\n",
    "from sklearn.model_selection import train_test_split,cross_val_score\n",
    "from sklearn.linear_model import LogisticRegression\n",
    "from sklearn.metrics import accuracy_score,confusion_matrix,classification_report"
   ]
  },
  {
   "cell_type": "code",
   "execution_count": 197,
   "id": "782b34a5",
   "metadata": {},
   "outputs": [],
   "source": [
    "lr=LogisticRegression()"
   ]
  },
  {
   "cell_type": "code",
   "execution_count": 199,
   "id": "a7b6da81",
   "metadata": {},
   "outputs": [
    {
     "name": "stdout",
     "output_type": "stream",
     "text": [
      "At random state 6 the model performs very well\n",
      "At random state 6 :\n",
      "Training accuracy score is 77.91134485349362\n",
      "Testing accuracy score is 77.91936353829557 \n",
      "\n",
      "At random state 10 the model performs very well\n",
      "At random state 10 :\n",
      "Training accuracy score is 77.81020632260301\n",
      "Testing accuracy score is 77.75080906148867 \n",
      "\n",
      "At random state 11 the model performs very well\n",
      "At random state 11 :\n",
      "Training accuracy score is 77.85933075189273\n",
      "Testing accuracy score is 77.90587918015103 \n",
      "\n",
      "At random state 13 the model performs very well\n",
      "At random state 13 :\n",
      "Training accuracy score is 77.81598566722533\n",
      "Testing accuracy score is 77.77777777777779 \n",
      "\n",
      "At random state 17 the model performs very well\n",
      "At random state 17 :\n",
      "Training accuracy score is 77.78130959949142\n",
      "Testing accuracy score is 77.81823085221143 \n",
      "\n",
      "At random state 27 the model performs very well\n",
      "At random state 27 :\n",
      "Training accuracy score is 77.85355140727042\n",
      "Testing accuracy score is 77.87216828478964 \n",
      "\n",
      "At random state 29 the model performs very well\n",
      "At random state 29 :\n",
      "Training accuracy score is 77.78997861642489\n",
      "Testing accuracy score is 77.79126213592234 \n",
      "\n",
      "At random state 41 the model performs very well\n",
      "At random state 41 :\n",
      "Training accuracy score is 77.91712419811594\n",
      "Testing accuracy score is 77.90587918015103 \n",
      "\n",
      "At random state 59 the model performs very well\n",
      "At random state 59 :\n",
      "Training accuracy score is 77.88244813038202\n",
      "Testing accuracy score is 77.9126213592233 \n",
      "\n",
      "At random state 71 the model performs very well\n",
      "At random state 71 :\n",
      "Training accuracy score is 77.9055655088713\n",
      "Testing accuracy score is 77.90587918015103 \n",
      "\n",
      "At random state 76 the model performs very well\n",
      "At random state 76 :\n",
      "Training accuracy score is 77.78419927180258\n",
      "Testing accuracy score is 77.81823085221143 \n",
      "\n",
      "At random state 79 the model performs very well\n",
      "At random state 79 :\n",
      "Training accuracy score is 77.78997861642489\n",
      "Testing accuracy score is 77.81823085221143 \n",
      "\n",
      "At random state 91 the model performs very well\n",
      "At random state 91 :\n",
      "Training accuracy score is 77.78997861642489\n",
      "Testing accuracy score is 77.78451995685005 \n",
      "\n"
     ]
    }
   ],
   "source": [
    "for i in range(0,100):\n",
    "    x_train,x_test,y_train,y_test=train_test_split(train_x,train_y,random_state=i,test_size=.30)\n",
    "    lr.fit(x_train,y_train)\n",
    "    predtrain=lr.predict(x_train)\n",
    "    predlr=lr.predict(x_test)\n",
    "    if round(accuracy_score(y_test,predlr)*100,1)==round(accuracy_score(y_train,predtrain)*100,1):\n",
    "        print('At random state',i,'the model performs very well')\n",
    "        print('At random state',i,':')\n",
    "        print('Training accuracy score is',accuracy_score(y_train,predtrain)*100)\n",
    "        print('Testing accuracy score is',accuracy_score(y_test,predlr)*100,'\\n')"
   ]
  },
  {
   "cell_type": "code",
   "execution_count": 200,
   "id": "cf4091b2",
   "metadata": {},
   "outputs": [
    {
     "name": "stdout",
     "output_type": "stream",
     "text": [
      "0.7790587918015103\n"
     ]
    }
   ],
   "source": [
    "#using 71 as the random state for further process\n",
    "\n",
    "x_train,x_test,y_train,y_test=train_test_split(train_x,train_y,random_state=71,test_size=.30)\n",
    "lr.fit(x_train,y_train)\n",
    "predtrain=lr.predict(x_train)\n",
    "predlr=lr.predict(x_test)\n",
    "print(accuracy_score(y_test,predlr))"
   ]
  },
  {
   "cell_type": "code",
   "execution_count": 201,
   "id": "714d27d7",
   "metadata": {},
   "outputs": [
    {
     "name": "stdout",
     "output_type": "stream",
     "text": [
      "77.90587918015103\n",
      "[[5609 1813]\n",
      " [1464 5946]]\n",
      "              precision    recall  f1-score   support\n",
      "\n",
      "           0       0.79      0.76      0.77      7422\n",
      "           1       0.77      0.80      0.78      7410\n",
      "\n",
      "    accuracy                           0.78     14832\n",
      "   macro avg       0.78      0.78      0.78     14832\n",
      "weighted avg       0.78      0.78      0.78     14832\n",
      "\n"
     ]
    }
   ],
   "source": [
    "print(accuracy_score(y_test,predlr)*100)\n",
    "print(confusion_matrix(y_test,predlr))\n",
    "print(classification_report(y_test,predlr))"
   ]
  },
  {
   "cell_type": "markdown",
   "id": "eb022648",
   "metadata": {},
   "source": [
    "- the recall is good"
   ]
  },
  {
   "cell_type": "code",
   "execution_count": 202,
   "id": "216cc471",
   "metadata": {},
   "outputs": [
    {
     "name": "stdout",
     "output_type": "stream",
     "text": [
      "0.22094120819848975\n"
     ]
    }
   ],
   "source": [
    "#importing metrics\n",
    "\n",
    "from sklearn.metrics import mean_squared_error\n",
    "\n",
    "#checking error for LogiosticRegression\n",
    "mselr=mean_squared_error(y_test,predlr)\n",
    "\n",
    "print(mselr)"
   ]
  },
  {
   "cell_type": "code",
   "execution_count": 203,
   "id": "0ced9486",
   "metadata": {},
   "outputs": [
    {
     "name": "stdout",
     "output_type": "stream",
     "text": [
      "At cv= 2\n",
      "Cross Validation Score is: 77.79238642339901\n",
      "Accuracy score is: 77.90587918015103 \n",
      "\n",
      "At cv= 3\n",
      "Cross Validation Score is: 77.81666896929326\n",
      "Accuracy score is: 77.90587918015103 \n",
      "\n",
      "At cv= 4\n",
      "Cross Validation Score is: 77.78430550984031\n",
      "Accuracy score is: 77.90587918015103 \n",
      "\n",
      "At cv= 5\n",
      "Cross Validation Score is: 77.79644223250236\n",
      "Accuracy score is: 77.90587918015103 \n",
      "\n",
      "At cv= 6\n",
      "Cross Validation Score is: 77.76407844567495\n",
      "Accuracy score is: 77.90587918015103 \n",
      "\n",
      "At cv= 7\n",
      "Cross Validation Score is: 77.76004234850585\n",
      "Accuracy score is: 77.90587918015103 \n",
      "\n",
      "At cv= 8\n",
      "Cross Validation Score is: 77.7802611125165\n",
      "Accuracy score is: 77.90587918015103 \n",
      "\n",
      "At cv= 9\n",
      "Cross Validation Score is: 77.77623105700584\n",
      "Accuracy score is: 77.90587918015103 \n",
      "\n"
     ]
    }
   ],
   "source": [
    "#checking cross validation score for logistic regression\n",
    "\n",
    "for j in range(2,10):\n",
    "    lrs=cross_val_score(lr,train_x,train_y,cv=j)\n",
    "    lrc=lrs.mean()\n",
    "    print('At cv=',j)\n",
    "    print('Cross Validation Score is:',lrc*100)\n",
    "    print('Accuracy score is:',accuracy_score(y_test,predlr)*100,'\\n')"
   ]
  },
  {
   "cell_type": "markdown",
   "id": "9d01930c",
   "metadata": {},
   "source": [
    "- The model is working well as both cross validation score and accuracy score are coming out to be 77"
   ]
  },
  {
   "cell_type": "code",
   "execution_count": 204,
   "id": "4c05ec5f",
   "metadata": {},
   "outputs": [
    {
     "data": {
      "image/png": "[encoded data removed]",
      "text/plain": [
       "<Figure size 432x288 with 1 Axes>"
      ]
     },
     "metadata": {
      "needs_background": "light"
     },
     "output_type": "display_data"
    }
   ],
   "source": [
    "#roc auc plotting for logisticRegression\n",
    "\n",
    "from sklearn.metrics import roc_curve,auc\n",
    "\n",
    "fpr,tpr,thresholds=roc_curve(y_test,predlr)\n",
    "\n",
    "roc_auc=auc(fpr,tpr)\n",
    "\n",
    "plt.figure()\n",
    "plt.plot(fpr,tpr,color='darkorange',lw=10,label='ROC curve (area=%.2f)'%roc_auc)\n",
    "plt.plot([0,1],[0,1],color='navy',lw=10,linestyle='--')\n",
    "plt.xlim([0.0,1.0])\n",
    "plt.ylim([0.0,1.05])\n",
    "plt.xlabel('False Positive rate')\n",
    "plt.ylabel('True Positive rate')\n",
    "plt.title('Receiver Operating Characteristics')\n",
    "plt.legend(loc='lower right')\n",
    "plt.show()"
   ]
  },
  {
   "cell_type": "code",
   "execution_count": 205,
   "id": "686c30ac",
   "metadata": {},
   "outputs": [
    {
     "name": "stdout",
     "output_type": "stream",
     "text": [
      "84.79638619201725\n"
     ]
    }
   ],
   "source": [
    "#now lets try some more classifcation algorithms \n",
    "\n",
    "from sklearn.neighbors import KNeighborsClassifier\n",
    "from sklearn.tree import DecisionTreeClassifier\n",
    "\n",
    "\n",
    "#KNeighbors\n",
    "\n",
    "knn=KNeighborsClassifier()\n",
    "\n",
    "x_train,x_test,y_train,y_test=train_test_split(train_x,train_y,random_state=71,test_size=.30)\n",
    "knn.fit(x_train,y_train)\n",
    "predtrain=knn.predict(x_train)\n",
    "predknn=knn.predict(x_test)\n",
    "\n",
    "print(accuracy_score(y_test,predknn)*100)"
   ]
  },
  {
   "cell_type": "code",
   "execution_count": 206,
   "id": "b47cf6f8",
   "metadata": {},
   "outputs": [
    {
     "name": "stdout",
     "output_type": "stream",
     "text": [
      "84.79638619201725\n",
      "[[5650 1772]\n",
      " [ 483 6927]]\n",
      "              precision    recall  f1-score   support\n",
      "\n",
      "           0       0.92      0.76      0.83      7422\n",
      "           1       0.80      0.93      0.86      7410\n",
      "\n",
      "    accuracy                           0.85     14832\n",
      "   macro avg       0.86      0.85      0.85     14832\n",
      "weighted avg       0.86      0.85      0.85     14832\n",
      "\n"
     ]
    }
   ],
   "source": [
    "print(accuracy_score(y_test,predknn)*100)\n",
    "print(confusion_matrix(y_test,predknn))\n",
    "print(classification_report(y_test,predknn))"
   ]
  },
  {
   "cell_type": "markdown",
   "id": "6853b9e5",
   "metadata": {},
   "source": [
    "- the accuracy is great with KNeighbors but recall is poor"
   ]
  },
  {
   "cell_type": "code",
   "execution_count": 207,
   "id": "f0ee2f0f",
   "metadata": {},
   "outputs": [
    {
     "name": "stdout",
     "output_type": "stream",
     "text": [
      "0.1520361380798274\n"
     ]
    }
   ],
   "source": [
    "#checking erro for KNeighbors\n",
    "\n",
    "mseknn=mean_squared_error(y_test,predknn)\n",
    "\n",
    "print(mseknn)"
   ]
  },
  {
   "cell_type": "code",
   "execution_count": 209,
   "id": "b5b9d50a",
   "metadata": {},
   "outputs": [
    {
     "name": "stdout",
     "output_type": "stream",
     "text": [
      "At cv= 2\n",
      "Cross Validation Score is: 84.29143573769166\n",
      "Accuracy score is: 84.79638619201725 \n",
      "\n",
      "At cv= 3\n",
      "Cross Validation Score is: 85.12886620335266\n",
      "Accuracy score is: 84.79638619201725 \n",
      "\n",
      "At cv= 4\n",
      "Cross Validation Score is: 85.39993063503897\n",
      "Accuracy score is: 84.79638619201725 \n",
      "\n",
      "At cv= 5\n",
      "Cross Validation Score is: 85.56175192294285\n",
      "Accuracy score is: 84.79638619201725 \n",
      "\n"
     ]
    }
   ],
   "source": [
    "#checking cross validation score for KNeighbors\n",
    "\n",
    "for j in range(2,6):\n",
    "    knns=cross_val_score(knn,train_x,train_y,cv=j)\n",
    "    knnc=knns.mean()\n",
    "    print('At cv=',j)\n",
    "    print('Cross Validation Score is:',knnc*100)\n",
    "    print('Accuracy score is:',accuracy_score(y_test,predknn)*100,'\\n')"
   ]
  },
  {
   "cell_type": "code",
   "execution_count": 210,
   "id": "c4b93eb3",
   "metadata": {},
   "outputs": [
    {
     "name": "stdout",
     "output_type": "stream",
     "text": [
      "84.71548004314995\n"
     ]
    }
   ],
   "source": [
    "#decisonTree\n",
    "\n",
    "dtc=DecisionTreeClassifier()\n",
    "x_train,x_test,y_train,y_test=train_test_split(train_x,train_y,random_state=71,test_size=.30)\n",
    "dtc.fit(x_train,y_train)\n",
    "predtrain=dtc.predict(x_train)\n",
    "preddtc=dtc.predict(x_test)\n",
    "\n",
    "print(accuracy_score(y_test,preddtc)*100)"
   ]
  },
  {
   "cell_type": "code",
   "execution_count": 211,
   "id": "524ad41e",
   "metadata": {},
   "outputs": [
    {
     "name": "stdout",
     "output_type": "stream",
     "text": [
      "84.71548004314995\n",
      "[[6281 1141]\n",
      " [1126 6284]]\n",
      "              precision    recall  f1-score   support\n",
      "\n",
      "           0       0.85      0.85      0.85      7422\n",
      "           1       0.85      0.85      0.85      7410\n",
      "\n",
      "    accuracy                           0.85     14832\n",
      "   macro avg       0.85      0.85      0.85     14832\n",
      "weighted avg       0.85      0.85      0.85     14832\n",
      "\n"
     ]
    }
   ],
   "source": [
    "print(accuracy_score(y_test,preddtc)*100)\n",
    "print(confusion_matrix(y_test,preddtc))\n",
    "print(classification_report(y_test,preddtc))"
   ]
  },
  {
   "cell_type": "markdown",
   "id": "67dd19ea",
   "metadata": {},
   "source": [
    "- Recall is excellent with DecisionTree\n",
    "- accuracy is great too"
   ]
  },
  {
   "cell_type": "code",
   "execution_count": 212,
   "id": "4895c7c4",
   "metadata": {},
   "outputs": [
    {
     "name": "stdout",
     "output_type": "stream",
     "text": [
      "0.15284519956850054\n"
     ]
    }
   ],
   "source": [
    "#checking error for DecisionTree\n",
    "\n",
    "msedtc=mean_squared_error(y_test,preddtc)\n",
    "\n",
    "print(msedtc)"
   ]
  },
  {
   "cell_type": "code",
   "execution_count": 213,
   "id": "57746f84",
   "metadata": {},
   "outputs": [
    {
     "name": "stdout",
     "output_type": "stream",
     "text": [
      "At cv= 2\n",
      "Cross Validation Score is: 83.81204741292123\n",
      "Accuracy score is: 84.71548004314995 \n",
      "\n",
      "At cv= 3\n",
      "Cross Validation Score is: 84.41900901235289\n",
      "Accuracy score is: 84.71548004314995 \n",
      "\n",
      "At cv= 4\n",
      "Cross Validation Score is: 84.9651518972194\n",
      "Accuracy score is: 84.71548004314995 \n",
      "\n",
      "At cv= 5\n",
      "Cross Validation Score is: 85.23014166063574\n",
      "Accuracy score is: 84.71548004314995 \n",
      "\n"
     ]
    }
   ],
   "source": [
    "#checking cross validation score for DecsionTree\n",
    "\n",
    "for j in range(2,6):\n",
    "    dtcs=cross_val_score(dtc,train_x,train_y,cv=j)\n",
    "    dtcc=dtcs.mean()\n",
    "    print('At cv=',j)\n",
    "    print('Cross Validation Score is:',dtcc*100)\n",
    "    print('Accuracy score is:',accuracy_score(y_test,preddtc)*100,'\\n')"
   ]
  },
  {
   "cell_type": "markdown",
   "id": "27be17f4",
   "metadata": {},
   "source": [
    "# Ensemble:"
   ]
  },
  {
   "cell_type": "code",
   "execution_count": 214,
   "id": "0df09751",
   "metadata": {},
   "outputs": [],
   "source": [
    "#now, let's try some ensemble techniques:\n",
    "\n",
    "from sklearn.ensemble import RandomForestClassifier,AdaBoostClassifier,GradientBoostingClassifier"
   ]
  },
  {
   "cell_type": "code",
   "execution_count": 215,
   "id": "a3e22559",
   "metadata": {},
   "outputs": [
    {
     "name": "stdout",
     "output_type": "stream",
     "text": [
      "89.62378640776699\n"
     ]
    }
   ],
   "source": [
    "#RandomForestClassifier\n",
    "\n",
    "rf=RandomForestClassifier()\n",
    "x_train,x_test,y_train,y_test=train_test_split(train_x,train_y,random_state=71,test_size=.30)\n",
    "rf.fit(x_train,y_train)\n",
    "predtrain=rf.predict(x_train)\n",
    "predrf=rf.predict(x_test)\n",
    "\n",
    "print(accuracy_score(y_test,predrf)*100)"
   ]
  },
  {
   "cell_type": "code",
   "execution_count": 216,
   "id": "22a145b7",
   "metadata": {},
   "outputs": [
    {
     "name": "stdout",
     "output_type": "stream",
     "text": [
      "89.62378640776699\n",
      "[[6561  861]\n",
      " [ 678 6732]]\n",
      "              precision    recall  f1-score   support\n",
      "\n",
      "           0       0.91      0.88      0.90      7422\n",
      "           1       0.89      0.91      0.90      7410\n",
      "\n",
      "    accuracy                           0.90     14832\n",
      "   macro avg       0.90      0.90      0.90     14832\n",
      "weighted avg       0.90      0.90      0.90     14832\n",
      "\n"
     ]
    }
   ],
   "source": [
    "print(accuracy_score(y_test,predrf)*100)\n",
    "print(confusion_matrix(y_test,predrf))\n",
    "print(classification_report(y_test,predrf))"
   ]
  },
  {
   "cell_type": "markdown",
   "id": "3f0d8039",
   "metadata": {},
   "source": [
    "- Recall and Accuracy both are better with RandomForest than DecisionTree"
   ]
  },
  {
   "cell_type": "code",
   "execution_count": 217,
   "id": "5bb19e66",
   "metadata": {},
   "outputs": [
    {
     "name": "stdout",
     "output_type": "stream",
     "text": [
      "0.10376213592233009\n"
     ]
    }
   ],
   "source": [
    "#checking error for RandomForest\n",
    "\n",
    "mserf=mean_squared_error(y_test,predrf)\n",
    "\n",
    "print(mserf)"
   ]
  },
  {
   "cell_type": "code",
   "execution_count": 218,
   "id": "b5cd1587",
   "metadata": {},
   "outputs": [
    {
     "name": "stdout",
     "output_type": "stream",
     "text": [
      "At cv= 2\n",
      "Cross Validation Score is: 88.46231643674906\n",
      "Accuracy score is: 89.62378640776699 \n",
      "\n",
      "At cv= 3\n",
      "Cross Validation Score is: 89.11376075189153\n",
      "Accuracy score is: 89.62378640776699 \n",
      "\n",
      "At cv= 4\n",
      "Cross Validation Score is: 89.56888099051802\n",
      "Accuracy score is: 89.62378640776699 \n",
      "\n",
      "At cv= 5\n",
      "Cross Validation Score is: 89.77722925203668\n",
      "Accuracy score is: 89.62378640776699 \n",
      "\n"
     ]
    }
   ],
   "source": [
    "#checking cross validation score for RandomForest\n",
    "\n",
    "for j in range(2,6):\n",
    "    rfs=cross_val_score(rf,train_x,train_y,cv=j)\n",
    "    rfc=rfs.mean()\n",
    "    print('At cv=',j)\n",
    "    print('Cross Validation Score is:',rfc*100)\n",
    "    print('Accuracy score is:',accuracy_score(y_test,predrf)*100,'\\n')"
   ]
  },
  {
   "cell_type": "markdown",
   "id": "52c56592",
   "metadata": {},
   "source": [
    "- The model is working excellent with RandomForestClassifier"
   ]
  },
  {
   "cell_type": "code",
   "execution_count": 219,
   "id": "ada3cb5d",
   "metadata": {},
   "outputs": [
    {
     "name": "stdout",
     "output_type": "stream",
     "text": [
      "85.57173678532902\n"
     ]
    }
   ],
   "source": [
    "#AdaBoostClassifier\n",
    "\n",
    "ada=AdaBoostClassifier()\n",
    "x_train,x_test,y_train,y_test=train_test_split(train_x,train_y,random_state=71,test_size=.30)\n",
    "ada.fit(x_train,y_train)\n",
    "predtrain=ada.predict(x_train)\n",
    "predada=ada.predict(x_test)\n",
    "\n",
    "print(accuracy_score(y_test,predada)*100)"
   ]
  },
  {
   "cell_type": "code",
   "execution_count": 220,
   "id": "f87fd40c",
   "metadata": {},
   "outputs": [
    {
     "name": "stdout",
     "output_type": "stream",
     "text": [
      "85.57173678532902\n",
      "[[6131 1291]\n",
      " [ 849 6561]]\n",
      "              precision    recall  f1-score   support\n",
      "\n",
      "           0       0.88      0.83      0.85      7422\n",
      "           1       0.84      0.89      0.86      7410\n",
      "\n",
      "    accuracy                           0.86     14832\n",
      "   macro avg       0.86      0.86      0.86     14832\n",
      "weighted avg       0.86      0.86      0.86     14832\n",
      "\n"
     ]
    }
   ],
   "source": [
    "print(accuracy_score(y_test,predada)*100)\n",
    "print(confusion_matrix(y_test,predada))\n",
    "print(classification_report(y_test,predada))"
   ]
  },
  {
   "cell_type": "code",
   "execution_count": 221,
   "id": "33350081",
   "metadata": {},
   "outputs": [
    {
     "name": "stdout",
     "output_type": "stream",
     "text": [
      "0.1442826321467098\n"
     ]
    }
   ],
   "source": [
    "#checking error for AdaBoost\n",
    "\n",
    "mseada=mean_squared_error(y_test,predada)\n",
    "\n",
    "print(mseada)"
   ]
  },
  {
   "cell_type": "code",
   "execution_count": 222,
   "id": "e38f8174",
   "metadata": {},
   "outputs": [
    {
     "name": "stdout",
     "output_type": "stream",
     "text": [
      "At cv= 2\n",
      "Cross Validation Score is: 84.77486953355718\n",
      "Accuracy score is: 85.57173678532902 \n",
      "\n",
      "At cv= 3\n",
      "Cross Validation Score is: 85.07430819081107\n",
      "Accuracy score is: 85.57173678532902 \n",
      "\n",
      "At cv= 4\n",
      "Cross Validation Score is: 85.3049022422767\n",
      "Accuracy score is: 85.57173678532902 \n",
      "\n"
     ]
    }
   ],
   "source": [
    "#checking cross validation score for AdaBoost\n",
    "\n",
    "for j in range(2,5):\n",
    "    adas=cross_val_score(ada,train_x,train_y,cv=j)\n",
    "    adac=adas.mean()\n",
    "    print('At cv=',j)\n",
    "    print('Cross Validation Score is:',adac*100)\n",
    "    print('Accuracy score is:',accuracy_score(y_test,predada)*100,'\\n')"
   ]
  },
  {
   "cell_type": "code",
   "execution_count": 223,
   "id": "aaaed410",
   "metadata": {},
   "outputs": [
    {
     "name": "stdout",
     "output_type": "stream",
     "text": [
      "86.58980582524272\n"
     ]
    }
   ],
   "source": [
    "#GradientBoostingClassifier\n",
    "\n",
    "gb=GradientBoostingClassifier()\n",
    "x_train,x_test,y_train,y_test=train_test_split(train_x,train_y,random_state=71,test_size=.30)\n",
    "gb.fit(x_train,y_train)\n",
    "predtrain=gb.predict(x_train)\n",
    "predgb=gb.predict(x_test)\n",
    "\n",
    "print(accuracy_score(y_test,predgb)*100)"
   ]
  },
  {
   "cell_type": "code",
   "execution_count": 224,
   "id": "12e89f43",
   "metadata": {},
   "outputs": [
    {
     "name": "stdout",
     "output_type": "stream",
     "text": [
      "86.58980582524272\n",
      "[[6202 1220]\n",
      " [ 769 6641]]\n",
      "              precision    recall  f1-score   support\n",
      "\n",
      "           0       0.89      0.84      0.86      7422\n",
      "           1       0.84      0.90      0.87      7410\n",
      "\n",
      "    accuracy                           0.87     14832\n",
      "   macro avg       0.87      0.87      0.87     14832\n",
      "weighted avg       0.87      0.87      0.87     14832\n",
      "\n"
     ]
    }
   ],
   "source": [
    "print(accuracy_score(y_test,predgb)*100)\n",
    "print(confusion_matrix(y_test,predgb))\n",
    "print(classification_report(y_test,predgb))"
   ]
  },
  {
   "cell_type": "code",
   "execution_count": 225,
   "id": "1e99e23f",
   "metadata": {},
   "outputs": [
    {
     "name": "stdout",
     "output_type": "stream",
     "text": [
      "0.1341019417475728\n"
     ]
    }
   ],
   "source": [
    "msegb=mean_squared_error(y_test,predgb)\n",
    "\n",
    "print(msegb)"
   ]
  },
  {
   "cell_type": "code",
   "execution_count": 226,
   "id": "3368e17d",
   "metadata": {},
   "outputs": [
    {
     "name": "stdout",
     "output_type": "stream",
     "text": [
      "At cv= 2\n",
      "Cross Validation Score is: 85.57991828148388\n",
      "Accuracy score is: 86.58980582524272 \n",
      "\n",
      "At cv= 3\n",
      "Cross Validation Score is: 85.57799303163328\n",
      "Accuracy score is: 86.58980582524272 \n",
      "\n",
      "At cv= 4\n",
      "Cross Validation Score is: 86.1484000692864\n",
      "Accuracy score is: 86.58980582524272 \n",
      "\n"
     ]
    }
   ],
   "source": [
    "#checking cross validation score for GradientBoosting\n",
    "\n",
    "for j in range(2,5):\n",
    "    gbs=cross_val_score(gb,train_x,train_y,cv=j)\n",
    "    gbc=gbs.mean()\n",
    "    print('At cv=',j)\n",
    "    print('Cross Validation Score is:',gbc*100)\n",
    "    print('Accuracy score is:',accuracy_score(y_test,predgb)*100,'\\n')"
   ]
  },
  {
   "cell_type": "code",
   "execution_count": 227,
   "id": "e44ff72b",
   "metadata": {},
   "outputs": [
    {
     "data": {
      "text/html": [
       "<div>\n",
       "<style scoped>\n",
       "    .dataframe tbody tr th:only-of-type {\n",
       "        vertical-align: middle;\n",
       "    }\n",
       "\n",
       "    .dataframe tbody tr th {\n",
       "        vertical-align: top;\n",
       "    }\n",
       "\n",
       "    .dataframe thead th {\n",
       "        text-align: right;\n",
       "    }\n",
       "</style>\n",
       "<table border=\"1\" class=\"dataframe\">\n",
       "  <thead>\n",
       "    <tr style=\"text-align: right;\">\n",
       "      <th></th>\n",
       "      <th>Mean Squared Error</th>\n",
       "      <th>Accuracy Score</th>\n",
       "    </tr>\n",
       "  </thead>\n",
       "  <tbody>\n",
       "    <tr>\n",
       "      <th>LogisticRegression</th>\n",
       "      <td>0.220941</td>\n",
       "      <td>0.779059</td>\n",
       "    </tr>\n",
       "    <tr>\n",
       "      <th>KNeighborsClassifier</th>\n",
       "      <td>0.152036</td>\n",
       "      <td>0.847964</td>\n",
       "    </tr>\n",
       "    <tr>\n",
       "      <th>DecisionTreeClassifier</th>\n",
       "      <td>0.152845</td>\n",
       "      <td>0.847155</td>\n",
       "    </tr>\n",
       "    <tr>\n",
       "      <th>AdaBoostClassifer</th>\n",
       "      <td>0.144283</td>\n",
       "      <td>0.855717</td>\n",
       "    </tr>\n",
       "    <tr>\n",
       "      <th>GradientBoostingClassifier</th>\n",
       "      <td>0.134102</td>\n",
       "      <td>0.865898</td>\n",
       "    </tr>\n",
       "    <tr>\n",
       "      <th>RandomForestClassifier</th>\n",
       "      <td>0.103762</td>\n",
       "      <td>0.896238</td>\n",
       "    </tr>\n",
       "  </tbody>\n",
       "</table>\n",
       "</div>"
      ],
      "text/plain": [
       "                            Mean Squared Error  Accuracy Score\n",
       "LogisticRegression                    0.220941        0.779059\n",
       "KNeighborsClassifier                  0.152036        0.847964\n",
       "DecisionTreeClassifier                0.152845        0.847155\n",
       "AdaBoostClassifer                     0.144283        0.855717\n",
       "GradientBoostingClassifier            0.134102        0.865898\n",
       "RandomForestClassifier                0.103762        0.896238"
      ]
     },
     "execution_count": 227,
     "metadata": {},
     "output_type": "execute_result"
    }
   ],
   "source": [
    "from sklearn.metrics import accuracy_score as acs\n",
    "\n",
    "algodf=pd.DataFrame({'Mean Squared Error':[mselr,mseknn,msedtc,mseada,msegb,mserf],'Accuracy Score':[acs(y_test,predlr),acs(y_test,predknn),acs(y_test,preddtc),acs(y_test,predada),acs(y_test,predgb),acs(y_test,predrf)]},index=['LogisticRegression','KNeighborsClassifier','DecisionTreeClassifier','AdaBoostClassifer','GradientBoostingClassifier','RandomForestClassifier'])\n",
    "algodf"
   ]
  },
  {
   "cell_type": "markdown",
   "id": "ecf25bc1",
   "metadata": {},
   "source": [
    "- With RandomForestClassifier the model has Better accuracy score , cross validation score and recall than other algorithms\n",
    "- The erros are closer to zero with RandomForestClassifier"
   ]
  },
  {
   "cell_type": "code",
   "execution_count": 228,
   "id": "fb8bc5c6",
   "metadata": {},
   "outputs": [
    {
     "name": "stdout",
     "output_type": "stream",
     "text": [
      "{'criterion': 'entropy', 'max_features': 'sqrt'}\n"
     ]
    }
   ],
   "source": [
    "#doing hyperparametertuning on RandomForest for best results\n",
    "\n",
    "from sklearn.model_selection import GridSearchCV\n",
    "\n",
    "rf=RandomForestClassifier()\n",
    "parameters={'criterion':[\"gini\", \"entropy\"],'max_features':['sqrt','log2','auto']}\n",
    "clf=GridSearchCV(rf,parameters)\n",
    "x_train,x_test,y_train,y_test=train_test_split(train_x,train_y,random_state=33,test_size=.30)\n",
    "clf.fit(x_train,y_train)\n",
    "\n",
    "print(clf.best_params_)"
   ]
  },
  {
   "cell_type": "code",
   "execution_count": 231,
   "id": "25fa65e0",
   "metadata": {},
   "outputs": [
    {
     "name": "stdout",
     "output_type": "stream",
     "text": [
      "At random state: 0\n",
      "89.61030204962243 \n",
      "\n",
      "At random state: 1\n",
      "89.86650485436894 \n",
      "\n",
      "At random state: 2\n",
      "89.88673139158576 \n",
      "\n",
      "At random state: 3\n",
      "90.02831715210357 \n",
      "\n",
      "At random state: 4\n",
      "89.51591154261057 \n",
      "\n",
      "At random state: 5\n",
      "89.42826321467098 \n",
      "\n",
      "At random state: 6\n",
      "89.5361380798274 \n",
      "\n",
      "At random state: 7\n",
      "89.54962243797195 \n",
      "\n",
      "At random state: 8\n",
      "89.4484897518878 \n",
      "\n",
      "At random state: 9\n",
      "89.52265372168284 \n",
      "\n"
     ]
    }
   ],
   "source": [
    "#finding a good random state\n",
    "\n",
    "for i in range(10):\n",
    "    rf=RandomForestClassifier(criterion='entropy',max_features='sqrt')\n",
    "    x_train,x_test,y_train,y_test=train_test_split(train_x,train_y,random_state=i,test_size=.30)\n",
    "    rf.fit(x_train,y_train)\n",
    "    predrf=rf.predict(x_test)\n",
    "    \n",
    "    print('At random state:',i)\n",
    "    print(accuracy_score(y_test,predrf)*100,'\\n')"
   ]
  },
  {
   "cell_type": "code",
   "execution_count": 233,
   "id": "2a4ee82b",
   "metadata": {},
   "outputs": [
    {
     "name": "stdout",
     "output_type": "stream",
     "text": [
      "90.02831715210357\n"
     ]
    }
   ],
   "source": [
    "#using the random state as 3\n",
    "\n",
    "rf=RandomForestClassifier(criterion='gini', max_features= 'auto')\n",
    "x_train,x_test,y_train,y_test=train_test_split(train_x,train_y,random_state=3,test_size=.30)\n",
    "rf.fit(x_train,y_train)\n",
    "predtrain=rf.predict(x_train)\n",
    "predrf=rf.predict(x_test)\n",
    "print(accuracy_score(y_test,predrf)*100)"
   ]
  },
  {
   "cell_type": "code",
   "execution_count": 229,
   "id": "46246c9a",
   "metadata": {},
   "outputs": [
    {
     "name": "stdout",
     "output_type": "stream",
     "text": [
      "At cv= 2\n",
      "Cross Validation Score is: 88.46838464339173 \n",
      "\n",
      "At cv= 3\n",
      "Cross Validation Score is: 89.13399158505354 \n",
      "\n",
      "At cv= 4\n",
      "Cross Validation Score is: 89.60731632098093 \n",
      "\n",
      "At cv= 5\n",
      "Cross Validation Score is: 89.78734190691382 \n",
      "\n",
      "At cv= 6\n",
      "Cross Validation Score is: 89.89253028751486 \n",
      "\n",
      "At cv= 7\n",
      "Cross Validation Score is: 90.00790434337112 \n",
      "\n",
      "At cv= 8\n",
      "Cross Validation Score is: 90.03815872584403 \n",
      "\n",
      "At cv= 9\n",
      "Cross Validation Score is: 90.09279249548314 \n",
      "\n"
     ]
    }
   ],
   "source": [
    "#checking for cross validation score\n",
    "\n",
    "rf=RandomForestClassifier(criterion='entropy',max_features='sqrt')\n",
    "for j in range(2,10):\n",
    "    rfs=cross_val_score(rf,train_x,train_y,cv=j)\n",
    "    rfc=rfs.mean()\n",
    "    print('At cv=',j)\n",
    "    print('Cross Validation Score is:',rfc*100,'\\n')"
   ]
  },
  {
   "cell_type": "code",
   "execution_count": 236,
   "id": "1ac72ba0",
   "metadata": {},
   "outputs": [
    {
     "name": "stdout",
     "output_type": "stream",
     "text": [
      "Cross Validation Score is: 90.02408467304511 \n",
      "\n"
     ]
    }
   ],
   "source": [
    "#checking for cross validation score at cv=13\n",
    "\n",
    "rf=RandomForestClassifier(criterion='entropy', max_features= 'sqrt')\n",
    "rfs=cross_val_score(rf,train_x,train_y,cv=7)\n",
    "rfc=rfs.mean()\n",
    "print('Cross Validation Score is:',rfc*100,'\\n')"
   ]
  },
  {
   "cell_type": "code",
   "execution_count": 237,
   "id": "6453b195",
   "metadata": {},
   "outputs": [
    {
     "name": "stdout",
     "output_type": "stream",
     "text": [
      "              precision    recall  f1-score   support\n",
      "\n",
      "           0       0.91      0.89      0.90      7456\n",
      "           1       0.89      0.91      0.90      7376\n",
      "\n",
      "    accuracy                           0.90     14832\n",
      "   macro avg       0.90      0.90      0.90     14832\n",
      "weighted avg       0.90      0.90      0.90     14832\n",
      "\n",
      "[[6630  826]\n",
      " [ 653 6723]]\n"
     ]
    }
   ],
   "source": [
    "print(classification_report(y_test,predrf))\n",
    "print(confusion_matrix(y_test,predrf))"
   ]
  },
  {
   "cell_type": "markdown",
   "id": "d4b46469",
   "metadata": {},
   "source": [
    "- Recall is excellent"
   ]
  },
  {
   "cell_type": "code",
   "execution_count": 238,
   "id": "e856d01a",
   "metadata": {},
   "outputs": [
    {
     "name": "stdout",
     "output_type": "stream",
     "text": [
      "Mean Squared Error: 0.0997168284789644\n",
      "Root Mean Squared Error: 0.31577971511635194\n"
     ]
    }
   ],
   "source": [
    "print('Mean Squared Error:',mean_squared_error(y_test,predrf))\n",
    "print('Root Mean Squared Error:',np.sqrt(mean_squared_error(y_test,predrf)))"
   ]
  },
  {
   "cell_type": "markdown",
   "id": "610aa05c",
   "metadata": {},
   "source": [
    "- the errors are close to 0, so the model is working well with great accuracy too"
   ]
  },
  {
   "cell_type": "code",
   "execution_count": 239,
   "id": "a173d920",
   "metadata": {},
   "outputs": [
    {
     "data": {
      "image/png": "[encoded data removed]",
      "text/plain": [
       "<Figure size 432x288 with 1 Axes>"
      ]
     },
     "metadata": {
      "needs_background": "light"
     },
     "output_type": "display_data"
    }
   ],
   "source": [
    "#roc auc plotting\n",
    "\n",
    "\n",
    "fpr,tpr,thresholds=roc_curve(y_test,predrf)\n",
    "\n",
    "roc_auc=auc(fpr,tpr)\n",
    "\n",
    "plt.figure()\n",
    "plt.plot(fpr,tpr,color='purple',lw=10,label='ROC curve (area=%.2f)'%roc_auc)\n",
    "plt.plot([0,1],[0,1],color='yellow',lw=10,linestyle='--')\n",
    "plt.xlim([0.0,1.0])\n",
    "plt.ylim([0.0,1.05])\n",
    "plt.xlabel('False Positive rate')\n",
    "plt.ylabel('True Positive rate')\n",
    "plt.title('Receiver Operating Characteristics')\n",
    "plt.legend(loc='lower right')\n",
    "plt.show()"
   ]
  },
  {
   "cell_type": "code",
   "execution_count": 243,
   "id": "b9bb5d9d",
   "metadata": {},
   "outputs": [
    {
     "name": "stdout",
     "output_type": "stream",
     "text": [
      "The model is performing extremely well with RandomForestClassifier because we are getting both accuracy score and cross validation score as 90.0 \n",
      "\n",
      "Accuracy: 90.0\n",
      "Cross Validation Score: 90.0\n",
      "Area Under Curve: 0.90034\n"
     ]
    }
   ],
   "source": [
    "print('The model is performing extremely well with RandomForestClassifier because we are getting both accuracy score and cross validation score as 90.0','\\n')\n",
    "print('Accuracy:',round(accuracy_score(y_test,predrf)*100,1))\n",
    "print('Cross Validation Score:',round(rfc*100,1))\n",
    "print('Area Under Curve:',round(auc(fpr,tpr),5))"
   ]
  },
  {
   "cell_type": "code",
   "execution_count": 244,
   "id": "14d5f531",
   "metadata": {},
   "outputs": [
    {
     "data": {
      "text/html": [
       "<div>\n",
       "<style scoped>\n",
       "    .dataframe tbody tr th:only-of-type {\n",
       "        vertical-align: middle;\n",
       "    }\n",
       "\n",
       "    .dataframe tbody tr th {\n",
       "        vertical-align: top;\n",
       "    }\n",
       "\n",
       "    .dataframe thead th {\n",
       "        text-align: right;\n",
       "    }\n",
       "</style>\n",
       "<table border=\"1\" class=\"dataframe\">\n",
       "  <thead>\n",
       "    <tr style=\"text-align: right;\">\n",
       "      <th></th>\n",
       "      <th>Income</th>\n",
       "      <th>Predicted Income</th>\n",
       "    </tr>\n",
       "  </thead>\n",
       "  <tbody>\n",
       "    <tr>\n",
       "      <th>34557</th>\n",
       "      <td>1</td>\n",
       "      <td>1</td>\n",
       "    </tr>\n",
       "    <tr>\n",
       "      <th>27864</th>\n",
       "      <td>1</td>\n",
       "      <td>1</td>\n",
       "    </tr>\n",
       "    <tr>\n",
       "      <th>8750</th>\n",
       "      <td>1</td>\n",
       "      <td>0</td>\n",
       "    </tr>\n",
       "    <tr>\n",
       "      <th>29276</th>\n",
       "      <td>0</td>\n",
       "      <td>0</td>\n",
       "    </tr>\n",
       "    <tr>\n",
       "      <th>40325</th>\n",
       "      <td>1</td>\n",
       "      <td>1</td>\n",
       "    </tr>\n",
       "    <tr>\n",
       "      <th>...</th>\n",
       "      <td>...</td>\n",
       "      <td>...</td>\n",
       "    </tr>\n",
       "    <tr>\n",
       "      <th>39270</th>\n",
       "      <td>1</td>\n",
       "      <td>1</td>\n",
       "    </tr>\n",
       "    <tr>\n",
       "      <th>2111</th>\n",
       "      <td>1</td>\n",
       "      <td>1</td>\n",
       "    </tr>\n",
       "    <tr>\n",
       "      <th>12335</th>\n",
       "      <td>0</td>\n",
       "      <td>0</td>\n",
       "    </tr>\n",
       "    <tr>\n",
       "      <th>9530</th>\n",
       "      <td>0</td>\n",
       "      <td>0</td>\n",
       "    </tr>\n",
       "    <tr>\n",
       "      <th>22950</th>\n",
       "      <td>0</td>\n",
       "      <td>0</td>\n",
       "    </tr>\n",
       "  </tbody>\n",
       "</table>\n",
       "<p>14832 rows × 2 columns</p>\n",
       "</div>"
      ],
      "text/plain": [
       "       Income  Predicted Income\n",
       "34557       1                 1\n",
       "27864       1                 1\n",
       "8750        1                 0\n",
       "29276       0                 0\n",
       "40325       1                 1\n",
       "...       ...               ...\n",
       "39270       1                 1\n",
       "2111        1                 1\n",
       "12335       0                 0\n",
       "9530        0                 0\n",
       "22950       0                 0\n",
       "\n",
       "[14832 rows x 2 columns]"
      ]
     },
     "execution_count": 244,
     "metadata": {},
     "output_type": "execute_result"
    }
   ],
   "source": [
    "preddf=pd.DataFrame({'Income':y_test,'Predicted Income':predrf})\n",
    "preddf"
   ]
  },
  {
   "cell_type": "code",
   "execution_count": 246,
   "id": "43ca54e9",
   "metadata": {},
   "outputs": [
    {
     "name": "stdout",
     "output_type": "stream",
     "text": [
      "People earning more than 50K a year: 7376\n"
     ]
    }
   ],
   "source": [
    "print('People earning more than 50K a year:',(preddf['Income']==1).sum())"
   ]
  },
  {
   "cell_type": "code",
   "execution_count": 248,
   "id": "60991957",
   "metadata": {},
   "outputs": [
    {
     "name": "stdout",
     "output_type": "stream",
     "text": [
      "People earning more than 50K a year(Predicted): 7549\n"
     ]
    }
   ],
   "source": [
    "print('People earning more than 50K a year(Predicted):',(preddf['Predicted Income']==1).sum())"
   ]
  },
  {
   "cell_type": "code",
   "execution_count": 249,
   "id": "8cedbf37",
   "metadata": {},
   "outputs": [],
   "source": [
    "#saving the best model\n",
    "\n",
    "import pickle\n",
    "\n",
    "pickle.dump(rf,open('censusincome.pkl','wb'))"
   ]
  },
  {
   "cell_type": "code",
   "execution_count": null,
   "id": "fe5ada1c",
   "metadata": {},
   "outputs": [],
   "source": [
    "\n"
   ]
  }
 ],
 "metadata": {
  "kernelspec": {
   "display_name": "Python 3 (ipykernel)",
   "language": "python",
   "name": "python3"
  },
  "language_info": {
   "codemirror_mode": {
    "name": "ipython",
    "version": 3
   },
   "file_extension": ".py",
   "mimetype": "text/x-python",
   "name": "python",
   "nbconvert_exporter": "python",
   "pygments_lexer": "ipython3",
   "version": "3.9.7"
  }
 },
 "nbformat": 4,
 "nbformat_minor": 5
}
