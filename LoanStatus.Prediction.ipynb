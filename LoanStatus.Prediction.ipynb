{
 "cells": [
  {
   "cell_type": "markdown",
   "id": "4bd26c60",
   "metadata": {},
   "source": [
    "Problem statement:\n",
    "\n",
    "-To predict whether the loan of the applicant will be approved or not on the basis of the details provided in the dataset. "
   ]
  },
  {
   "cell_type": "code",
   "execution_count": 1,
   "id": "af204369",
   "metadata": {},
   "outputs": [
    {
     "data": {
      "text/html": [
       "<div>\n",
       "<style scoped>\n",
       "    .dataframe tbody tr th:only-of-type {\n",
       "        vertical-align: middle;\n",
       "    }\n",
       "\n",
       "    .dataframe tbody tr th {\n",
       "        vertical-align: top;\n",
       "    }\n",
       "\n",
       "    .dataframe thead th {\n",
       "        text-align: right;\n",
       "    }\n",
       "</style>\n",
       "<table border=\"1\" class=\"dataframe\">\n",
       "  <thead>\n",
       "    <tr style=\"text-align: right;\">\n",
       "      <th></th>\n",
       "      <th>Loan_ID</th>\n",
       "      <th>Gender</th>\n",
       "      <th>Married</th>\n",
       "      <th>Dependents</th>\n",
       "      <th>Education</th>\n",
       "      <th>Self_Employed</th>\n",
       "      <th>ApplicantIncome</th>\n",
       "      <th>CoapplicantIncome</th>\n",
       "      <th>LoanAmount</th>\n",
       "      <th>Loan_Amount_Term</th>\n",
       "      <th>Credit_History</th>\n",
       "      <th>Property_Area</th>\n",
       "      <th>Loan_Status</th>\n",
       "    </tr>\n",
       "  </thead>\n",
       "  <tbody>\n",
       "    <tr>\n",
       "      <th>0</th>\n",
       "      <td>LP001002</td>\n",
       "      <td>Male</td>\n",
       "      <td>No</td>\n",
       "      <td>0</td>\n",
       "      <td>Graduate</td>\n",
       "      <td>No</td>\n",
       "      <td>5849</td>\n",
       "      <td>0.0</td>\n",
       "      <td>NaN</td>\n",
       "      <td>360.0</td>\n",
       "      <td>1.0</td>\n",
       "      <td>Urban</td>\n",
       "      <td>Y</td>\n",
       "    </tr>\n",
       "    <tr>\n",
       "      <th>1</th>\n",
       "      <td>LP001003</td>\n",
       "      <td>Male</td>\n",
       "      <td>Yes</td>\n",
       "      <td>1</td>\n",
       "      <td>Graduate</td>\n",
       "      <td>No</td>\n",
       "      <td>4583</td>\n",
       "      <td>1508.0</td>\n",
       "      <td>128.0</td>\n",
       "      <td>360.0</td>\n",
       "      <td>1.0</td>\n",
       "      <td>Rural</td>\n",
       "      <td>N</td>\n",
       "    </tr>\n",
       "    <tr>\n",
       "      <th>2</th>\n",
       "      <td>LP001005</td>\n",
       "      <td>Male</td>\n",
       "      <td>Yes</td>\n",
       "      <td>0</td>\n",
       "      <td>Graduate</td>\n",
       "      <td>Yes</td>\n",
       "      <td>3000</td>\n",
       "      <td>0.0</td>\n",
       "      <td>66.0</td>\n",
       "      <td>360.0</td>\n",
       "      <td>1.0</td>\n",
       "      <td>Urban</td>\n",
       "      <td>Y</td>\n",
       "    </tr>\n",
       "    <tr>\n",
       "      <th>3</th>\n",
       "      <td>LP001006</td>\n",
       "      <td>Male</td>\n",
       "      <td>Yes</td>\n",
       "      <td>0</td>\n",
       "      <td>Not Graduate</td>\n",
       "      <td>No</td>\n",
       "      <td>2583</td>\n",
       "      <td>2358.0</td>\n",
       "      <td>120.0</td>\n",
       "      <td>360.0</td>\n",
       "      <td>1.0</td>\n",
       "      <td>Urban</td>\n",
       "      <td>Y</td>\n",
       "    </tr>\n",
       "    <tr>\n",
       "      <th>4</th>\n",
       "      <td>LP001008</td>\n",
       "      <td>Male</td>\n",
       "      <td>No</td>\n",
       "      <td>0</td>\n",
       "      <td>Graduate</td>\n",
       "      <td>No</td>\n",
       "      <td>6000</td>\n",
       "      <td>0.0</td>\n",
       "      <td>141.0</td>\n",
       "      <td>360.0</td>\n",
       "      <td>1.0</td>\n",
       "      <td>Urban</td>\n",
       "      <td>Y</td>\n",
       "    </tr>\n",
       "    <tr>\n",
       "      <th>...</th>\n",
       "      <td>...</td>\n",
       "      <td>...</td>\n",
       "      <td>...</td>\n",
       "      <td>...</td>\n",
       "      <td>...</td>\n",
       "      <td>...</td>\n",
       "      <td>...</td>\n",
       "      <td>...</td>\n",
       "      <td>...</td>\n",
       "      <td>...</td>\n",
       "      <td>...</td>\n",
       "      <td>...</td>\n",
       "      <td>...</td>\n",
       "    </tr>\n",
       "    <tr>\n",
       "      <th>609</th>\n",
       "      <td>LP002978</td>\n",
       "      <td>Female</td>\n",
       "      <td>No</td>\n",
       "      <td>0</td>\n",
       "      <td>Graduate</td>\n",
       "      <td>No</td>\n",
       "      <td>2900</td>\n",
       "      <td>0.0</td>\n",
       "      <td>71.0</td>\n",
       "      <td>360.0</td>\n",
       "      <td>1.0</td>\n",
       "      <td>Rural</td>\n",
       "      <td>Y</td>\n",
       "    </tr>\n",
       "    <tr>\n",
       "      <th>610</th>\n",
       "      <td>LP002979</td>\n",
       "      <td>Male</td>\n",
       "      <td>Yes</td>\n",
       "      <td>3+</td>\n",
       "      <td>Graduate</td>\n",
       "      <td>No</td>\n",
       "      <td>4106</td>\n",
       "      <td>0.0</td>\n",
       "      <td>40.0</td>\n",
       "      <td>180.0</td>\n",
       "      <td>1.0</td>\n",
       "      <td>Rural</td>\n",
       "      <td>Y</td>\n",
       "    </tr>\n",
       "    <tr>\n",
       "      <th>611</th>\n",
       "      <td>LP002983</td>\n",
       "      <td>Male</td>\n",
       "      <td>Yes</td>\n",
       "      <td>1</td>\n",
       "      <td>Graduate</td>\n",
       "      <td>No</td>\n",
       "      <td>8072</td>\n",
       "      <td>240.0</td>\n",
       "      <td>253.0</td>\n",
       "      <td>360.0</td>\n",
       "      <td>1.0</td>\n",
       "      <td>Urban</td>\n",
       "      <td>Y</td>\n",
       "    </tr>\n",
       "    <tr>\n",
       "      <th>612</th>\n",
       "      <td>LP002984</td>\n",
       "      <td>Male</td>\n",
       "      <td>Yes</td>\n",
       "      <td>2</td>\n",
       "      <td>Graduate</td>\n",
       "      <td>No</td>\n",
       "      <td>7583</td>\n",
       "      <td>0.0</td>\n",
       "      <td>187.0</td>\n",
       "      <td>360.0</td>\n",
       "      <td>1.0</td>\n",
       "      <td>Urban</td>\n",
       "      <td>Y</td>\n",
       "    </tr>\n",
       "    <tr>\n",
       "      <th>613</th>\n",
       "      <td>LP002990</td>\n",
       "      <td>Female</td>\n",
       "      <td>No</td>\n",
       "      <td>0</td>\n",
       "      <td>Graduate</td>\n",
       "      <td>Yes</td>\n",
       "      <td>4583</td>\n",
       "      <td>0.0</td>\n",
       "      <td>133.0</td>\n",
       "      <td>360.0</td>\n",
       "      <td>0.0</td>\n",
       "      <td>Semiurban</td>\n",
       "      <td>N</td>\n",
       "    </tr>\n",
       "  </tbody>\n",
       "</table>\n",
       "<p>614 rows × 13 columns</p>\n",
       "</div>"
      ],
      "text/plain": [
       "      Loan_ID  Gender Married Dependents     Education Self_Employed  \\\n",
       "0    LP001002    Male      No          0      Graduate            No   \n",
       "1    LP001003    Male     Yes          1      Graduate            No   \n",
       "2    LP001005    Male     Yes          0      Graduate           Yes   \n",
       "3    LP001006    Male     Yes          0  Not Graduate            No   \n",
       "4    LP001008    Male      No          0      Graduate            No   \n",
       "..        ...     ...     ...        ...           ...           ...   \n",
       "609  LP002978  Female      No          0      Graduate            No   \n",
       "610  LP002979    Male     Yes         3+      Graduate            No   \n",
       "611  LP002983    Male     Yes          1      Graduate            No   \n",
       "612  LP002984    Male     Yes          2      Graduate            No   \n",
       "613  LP002990  Female      No          0      Graduate           Yes   \n",
       "\n",
       "     ApplicantIncome  CoapplicantIncome  LoanAmount  Loan_Amount_Term  \\\n",
       "0               5849                0.0         NaN             360.0   \n",
       "1               4583             1508.0       128.0             360.0   \n",
       "2               3000                0.0        66.0             360.0   \n",
       "3               2583             2358.0       120.0             360.0   \n",
       "4               6000                0.0       141.0             360.0   \n",
       "..               ...                ...         ...               ...   \n",
       "609             2900                0.0        71.0             360.0   \n",
       "610             4106                0.0        40.0             180.0   \n",
       "611             8072              240.0       253.0             360.0   \n",
       "612             7583                0.0       187.0             360.0   \n",
       "613             4583                0.0       133.0             360.0   \n",
       "\n",
       "     Credit_History Property_Area Loan_Status  \n",
       "0               1.0         Urban           Y  \n",
       "1               1.0         Rural           N  \n",
       "2               1.0         Urban           Y  \n",
       "3               1.0         Urban           Y  \n",
       "4               1.0         Urban           Y  \n",
       "..              ...           ...         ...  \n",
       "609             1.0         Rural           Y  \n",
       "610             1.0         Rural           Y  \n",
       "611             1.0         Urban           Y  \n",
       "612             1.0         Urban           Y  \n",
       "613             0.0     Semiurban           N  \n",
       "\n",
       "[614 rows x 13 columns]"
      ]
     },
     "execution_count": 1,
     "metadata": {},
     "output_type": "execute_result"
    }
   ],
   "source": [
    "#loading the dataset\n",
    "\n",
    "import pandas as pd\n",
    "import numpy as np\n",
    "\n",
    "df=pd.read_csv(\"loan.csv\")\n",
    "df"
   ]
  },
  {
   "cell_type": "markdown",
   "id": "158218ac",
   "metadata": {},
   "source": [
    "# Preprocessing:"
   ]
  },
  {
   "cell_type": "code",
   "execution_count": 2,
   "id": "22de0fb8",
   "metadata": {},
   "outputs": [
    {
     "data": {
      "text/html": [
       "<div>\n",
       "<style scoped>\n",
       "    .dataframe tbody tr th:only-of-type {\n",
       "        vertical-align: middle;\n",
       "    }\n",
       "\n",
       "    .dataframe tbody tr th {\n",
       "        vertical-align: top;\n",
       "    }\n",
       "\n",
       "    .dataframe thead th {\n",
       "        text-align: right;\n",
       "    }\n",
       "</style>\n",
       "<table border=\"1\" class=\"dataframe\">\n",
       "  <thead>\n",
       "    <tr style=\"text-align: right;\">\n",
       "      <th></th>\n",
       "      <th>Loan_ID</th>\n",
       "      <th>Gender</th>\n",
       "      <th>Married</th>\n",
       "      <th>Dependents</th>\n",
       "      <th>Education</th>\n",
       "      <th>Self_Employed</th>\n",
       "      <th>ApplicantIncome</th>\n",
       "      <th>CoapplicantIncome</th>\n",
       "      <th>LoanAmount</th>\n",
       "      <th>Loan_Amount_Term</th>\n",
       "      <th>Credit_History</th>\n",
       "      <th>Property_Area</th>\n",
       "      <th>Loan_Status</th>\n",
       "    </tr>\n",
       "  </thead>\n",
       "  <tbody>\n",
       "    <tr>\n",
       "      <th>83</th>\n",
       "      <td>LP001273</td>\n",
       "      <td>Male</td>\n",
       "      <td>Yes</td>\n",
       "      <td>0</td>\n",
       "      <td>Graduate</td>\n",
       "      <td>No</td>\n",
       "      <td>6000</td>\n",
       "      <td>2250.0</td>\n",
       "      <td>265.0</td>\n",
       "      <td>360.0</td>\n",
       "      <td>NaN</td>\n",
       "      <td>Semiurban</td>\n",
       "      <td>N</td>\n",
       "    </tr>\n",
       "    <tr>\n",
       "      <th>242</th>\n",
       "      <td>LP001806</td>\n",
       "      <td>Male</td>\n",
       "      <td>No</td>\n",
       "      <td>0</td>\n",
       "      <td>Graduate</td>\n",
       "      <td>No</td>\n",
       "      <td>2965</td>\n",
       "      <td>5701.0</td>\n",
       "      <td>155.0</td>\n",
       "      <td>60.0</td>\n",
       "      <td>1.0</td>\n",
       "      <td>Urban</td>\n",
       "      <td>Y</td>\n",
       "    </tr>\n",
       "    <tr>\n",
       "      <th>312</th>\n",
       "      <td>LP002006</td>\n",
       "      <td>Female</td>\n",
       "      <td>No</td>\n",
       "      <td>0</td>\n",
       "      <td>Graduate</td>\n",
       "      <td>No</td>\n",
       "      <td>2507</td>\n",
       "      <td>0.0</td>\n",
       "      <td>56.0</td>\n",
       "      <td>360.0</td>\n",
       "      <td>1.0</td>\n",
       "      <td>Rural</td>\n",
       "      <td>Y</td>\n",
       "    </tr>\n",
       "    <tr>\n",
       "      <th>9</th>\n",
       "      <td>LP001020</td>\n",
       "      <td>Male</td>\n",
       "      <td>Yes</td>\n",
       "      <td>1</td>\n",
       "      <td>Graduate</td>\n",
       "      <td>No</td>\n",
       "      <td>12841</td>\n",
       "      <td>10968.0</td>\n",
       "      <td>349.0</td>\n",
       "      <td>360.0</td>\n",
       "      <td>1.0</td>\n",
       "      <td>Semiurban</td>\n",
       "      <td>N</td>\n",
       "    </tr>\n",
       "    <tr>\n",
       "      <th>126</th>\n",
       "      <td>LP001448</td>\n",
       "      <td>NaN</td>\n",
       "      <td>Yes</td>\n",
       "      <td>3+</td>\n",
       "      <td>Graduate</td>\n",
       "      <td>No</td>\n",
       "      <td>23803</td>\n",
       "      <td>0.0</td>\n",
       "      <td>370.0</td>\n",
       "      <td>360.0</td>\n",
       "      <td>1.0</td>\n",
       "      <td>Rural</td>\n",
       "      <td>Y</td>\n",
       "    </tr>\n",
       "    <tr>\n",
       "      <th>461</th>\n",
       "      <td>LP002484</td>\n",
       "      <td>Male</td>\n",
       "      <td>Yes</td>\n",
       "      <td>3+</td>\n",
       "      <td>Graduate</td>\n",
       "      <td>No</td>\n",
       "      <td>7740</td>\n",
       "      <td>0.0</td>\n",
       "      <td>128.0</td>\n",
       "      <td>180.0</td>\n",
       "      <td>1.0</td>\n",
       "      <td>Urban</td>\n",
       "      <td>Y</td>\n",
       "    </tr>\n",
       "    <tr>\n",
       "      <th>165</th>\n",
       "      <td>LP001574</td>\n",
       "      <td>Male</td>\n",
       "      <td>Yes</td>\n",
       "      <td>0</td>\n",
       "      <td>Graduate</td>\n",
       "      <td>No</td>\n",
       "      <td>3707</td>\n",
       "      <td>3166.0</td>\n",
       "      <td>182.0</td>\n",
       "      <td>NaN</td>\n",
       "      <td>1.0</td>\n",
       "      <td>Rural</td>\n",
       "      <td>Y</td>\n",
       "    </tr>\n",
       "    <tr>\n",
       "      <th>316</th>\n",
       "      <td>LP002035</td>\n",
       "      <td>Male</td>\n",
       "      <td>Yes</td>\n",
       "      <td>2</td>\n",
       "      <td>Graduate</td>\n",
       "      <td>No</td>\n",
       "      <td>3717</td>\n",
       "      <td>0.0</td>\n",
       "      <td>120.0</td>\n",
       "      <td>360.0</td>\n",
       "      <td>1.0</td>\n",
       "      <td>Semiurban</td>\n",
       "      <td>Y</td>\n",
       "    </tr>\n",
       "    <tr>\n",
       "      <th>230</th>\n",
       "      <td>LP001765</td>\n",
       "      <td>Male</td>\n",
       "      <td>Yes</td>\n",
       "      <td>1</td>\n",
       "      <td>Graduate</td>\n",
       "      <td>No</td>\n",
       "      <td>2491</td>\n",
       "      <td>2054.0</td>\n",
       "      <td>104.0</td>\n",
       "      <td>360.0</td>\n",
       "      <td>1.0</td>\n",
       "      <td>Semiurban</td>\n",
       "      <td>Y</td>\n",
       "    </tr>\n",
       "    <tr>\n",
       "      <th>162</th>\n",
       "      <td>LP001565</td>\n",
       "      <td>Male</td>\n",
       "      <td>Yes</td>\n",
       "      <td>1</td>\n",
       "      <td>Graduate</td>\n",
       "      <td>No</td>\n",
       "      <td>3089</td>\n",
       "      <td>1280.0</td>\n",
       "      <td>121.0</td>\n",
       "      <td>360.0</td>\n",
       "      <td>0.0</td>\n",
       "      <td>Semiurban</td>\n",
       "      <td>N</td>\n",
       "    </tr>\n",
       "  </tbody>\n",
       "</table>\n",
       "</div>"
      ],
      "text/plain": [
       "      Loan_ID  Gender Married Dependents Education Self_Employed  \\\n",
       "83   LP001273    Male     Yes          0  Graduate            No   \n",
       "242  LP001806    Male      No          0  Graduate            No   \n",
       "312  LP002006  Female      No          0  Graduate            No   \n",
       "9    LP001020    Male     Yes          1  Graduate            No   \n",
       "126  LP001448     NaN     Yes         3+  Graduate            No   \n",
       "461  LP002484    Male     Yes         3+  Graduate            No   \n",
       "165  LP001574    Male     Yes          0  Graduate            No   \n",
       "316  LP002035    Male     Yes          2  Graduate            No   \n",
       "230  LP001765    Male     Yes          1  Graduate            No   \n",
       "162  LP001565    Male     Yes          1  Graduate            No   \n",
       "\n",
       "     ApplicantIncome  CoapplicantIncome  LoanAmount  Loan_Amount_Term  \\\n",
       "83              6000             2250.0       265.0             360.0   \n",
       "242             2965             5701.0       155.0              60.0   \n",
       "312             2507                0.0        56.0             360.0   \n",
       "9              12841            10968.0       349.0             360.0   \n",
       "126            23803                0.0       370.0             360.0   \n",
       "461             7740                0.0       128.0             180.0   \n",
       "165             3707             3166.0       182.0               NaN   \n",
       "316             3717                0.0       120.0             360.0   \n",
       "230             2491             2054.0       104.0             360.0   \n",
       "162             3089             1280.0       121.0             360.0   \n",
       "\n",
       "     Credit_History Property_Area Loan_Status  \n",
       "83              NaN     Semiurban           N  \n",
       "242             1.0         Urban           Y  \n",
       "312             1.0         Rural           Y  \n",
       "9               1.0     Semiurban           N  \n",
       "126             1.0         Rural           Y  \n",
       "461             1.0         Urban           Y  \n",
       "165             1.0         Rural           Y  \n",
       "316             1.0     Semiurban           Y  \n",
       "230             1.0     Semiurban           Y  \n",
       "162             0.0     Semiurban           N  "
      ]
     },
     "execution_count": 2,
     "metadata": {},
     "output_type": "execute_result"
    }
   ],
   "source": [
    "df.sample(10)"
   ]
  },
  {
   "cell_type": "code",
   "execution_count": 3,
   "id": "9ef2846b",
   "metadata": {},
   "outputs": [
    {
     "data": {
      "text/plain": [
       "Loan_ID               object\n",
       "Gender                object\n",
       "Married               object\n",
       "Dependents            object\n",
       "Education             object\n",
       "Self_Employed         object\n",
       "ApplicantIncome        int64\n",
       "CoapplicantIncome    float64\n",
       "LoanAmount           float64\n",
       "Loan_Amount_Term     float64\n",
       "Credit_History       float64\n",
       "Property_Area         object\n",
       "Loan_Status           object\n",
       "dtype: object"
      ]
     },
     "execution_count": 3,
     "metadata": {},
     "output_type": "execute_result"
    }
   ],
   "source": [
    "#checking for datatype\n",
    "\n",
    "df.dtypes"
   ]
  },
  {
   "cell_type": "code",
   "execution_count": 4,
   "id": "611286b8",
   "metadata": {},
   "outputs": [
    {
     "data": {
      "text/plain": [
       "Loan_ID               0\n",
       "Gender               13\n",
       "Married               3\n",
       "Dependents           15\n",
       "Education             0\n",
       "Self_Employed        32\n",
       "ApplicantIncome       0\n",
       "CoapplicantIncome     0\n",
       "LoanAmount           22\n",
       "Loan_Amount_Term     14\n",
       "Credit_History       50\n",
       "Property_Area         0\n",
       "Loan_Status           0\n",
       "dtype: int64"
      ]
     },
     "execution_count": 4,
     "metadata": {},
     "output_type": "execute_result"
    }
   ],
   "source": [
    "#checking for null values\n",
    "\n",
    "df.isnull().sum()"
   ]
  },
  {
   "cell_type": "markdown",
   "id": "65172f56",
   "metadata": {},
   "source": [
    "- Loan_ID , Education , ApplicantIncome , CoapplicantIncome , Property_Area , Loan_Status have zero null values"
   ]
  },
  {
   "cell_type": "markdown",
   "id": "8cc094ae",
   "metadata": {},
   "source": [
    "- okay so the datasets have missing values, so we will perform imputation using SimpleImputer to fill the null values"
   ]
  },
  {
   "cell_type": "code",
   "execution_count": 5,
   "id": "f5ffa04f",
   "metadata": {},
   "outputs": [],
   "source": [
    "import seaborn as sns\n",
    "import matplotlib.pyplot as plt\n",
    "import warnings\n",
    "warnings.filterwarnings('ignore')"
   ]
  },
  {
   "cell_type": "code",
   "execution_count": 6,
   "id": "d9f4b147",
   "metadata": {},
   "outputs": [
    {
     "data": {
      "text/plain": [
       "<AxesSubplot:>"
      ]
     },
     "execution_count": 6,
     "metadata": {},
     "output_type": "execute_result"
    },
    {
     "data": {
      "image/png": "[encoded data removed]",
      "text/plain": [
       "<Figure size 432x288 with 2 Axes>"
      ]
     },
     "metadata": {
      "needs_background": "light"
     },
     "output_type": "display_data"
    }
   ],
   "source": [
    "sns.heatmap(df.isnull())"
   ]
  },
  {
   "cell_type": "code",
   "execution_count": 20,
   "id": "b4544f5a",
   "metadata": {},
   "outputs": [
    {
     "name": "stdout",
     "output_type": "stream",
     "text": [
      "['Gender', 'Married', 'Dependents', 'Self_Employed'] \n",
      "\n",
      "['LoanAmount', 'Loan_Amount_Term', 'Credit_History']\n"
     ]
    }
   ],
   "source": [
    "#creating empty list for categorical and continuous variables which have null values\n",
    "\n",
    "cat=[]\n",
    "intt=[]\n",
    "\n",
    "for i in df.columns:\n",
    "    if df[i].isnull().sum()>0 and df[i].dtypes=='object':\n",
    "        cat.append(i)\n",
    "    elif df[i].isnull().sum()>0 and df[i].dtypes=='float64':\n",
    "        intt.append(i)\n",
    "    else:\n",
    "        pass\n",
    "\n",
    "print(cat,'\\n')\n",
    "print(intt)"
   ]
  },
  {
   "cell_type": "code",
   "execution_count": 21,
   "id": "075112c6",
   "metadata": {},
   "outputs": [
    {
     "data": {
      "text/plain": [
       "Loan_ID              0\n",
       "Gender               0\n",
       "Married              0\n",
       "Dependents           0\n",
       "Education            0\n",
       "Self_Employed        0\n",
       "ApplicantIncome      0\n",
       "CoapplicantIncome    0\n",
       "LoanAmount           0\n",
       "Loan_Amount_Term     0\n",
       "Credit_History       0\n",
       "Property_Area        0\n",
       "Loan_Status          0\n",
       "dtype: int64"
      ]
     },
     "execution_count": 21,
     "metadata": {},
     "output_type": "execute_result"
    }
   ],
   "source": [
    "#now using imputation technique to fill the missing values\n",
    "\n",
    "from sklearn.impute import SimpleImputer\n",
    "\n",
    "for i in cat:\n",
    "    df[i]=SimpleImputer(strategy='most_frequent').fit_transform(df[i].values.reshape(-1,1))\n",
    "\n",
    "for j in intt:\n",
    "    df[j]=SimpleImputer(strategy='mean').fit_transform(df[j].values.reshape(-1,1))\n",
    "    \n",
    "df.isnull().sum()"
   ]
  },
  {
   "cell_type": "code",
   "execution_count": 22,
   "id": "15203bdf",
   "metadata": {},
   "outputs": [
    {
     "data": {
      "text/plain": [
       "<AxesSubplot:>"
      ]
     },
     "execution_count": 22,
     "metadata": {},
     "output_type": "execute_result"
    },
    {
     "data": {
      "image/png": "[encoded data removed]",
      "text/plain": [
       "<Figure size 432x288 with 2 Axes>"
      ]
     },
     "metadata": {
      "needs_background": "light"
     },
     "output_type": "display_data"
    }
   ],
   "source": [
    "sns.heatmap(df.isnull())"
   ]
  },
  {
   "cell_type": "markdown",
   "id": "7acf014e",
   "metadata": {},
   "source": [
    "- null values have been replaced"
   ]
  },
  {
   "cell_type": "code",
   "execution_count": 23,
   "id": "65b33e40",
   "metadata": {},
   "outputs": [
    {
     "data": {
      "text/plain": [
       "Loan_ID               object\n",
       "Gender                object\n",
       "Married               object\n",
       "Dependents            object\n",
       "Education             object\n",
       "Self_Employed         object\n",
       "ApplicantIncome        int64\n",
       "CoapplicantIncome    float64\n",
       "LoanAmount           float64\n",
       "Loan_Amount_Term     float64\n",
       "Credit_History       float64\n",
       "Property_Area         object\n",
       "Loan_Status           object\n",
       "dtype: object"
      ]
     },
     "execution_count": 23,
     "metadata": {},
     "output_type": "execute_result"
    }
   ],
   "source": [
    "df.dtypes"
   ]
  },
  {
   "cell_type": "code",
   "execution_count": 24,
   "id": "6150d32a",
   "metadata": {},
   "outputs": [
    {
     "name": "stdout",
     "output_type": "stream",
     "text": [
      "LP001002    1\n",
      "LP002328    1\n",
      "LP002305    1\n",
      "LP002308    1\n",
      "LP002314    1\n",
      "           ..\n",
      "LP001692    1\n",
      "LP001693    1\n",
      "LP001698    1\n",
      "LP001699    1\n",
      "LP002990    1\n",
      "Name: Loan_ID, Length: 614, dtype: int64 \n",
      " \n",
      "\n",
      "Male      502\n",
      "Female    112\n",
      "Name: Gender, dtype: int64 \n",
      " \n",
      "\n",
      "Yes    401\n",
      "No     213\n",
      "Name: Married, dtype: int64 \n",
      " \n",
      "\n",
      "0     360\n",
      "1     102\n",
      "2     101\n",
      "3+     51\n",
      "Name: Dependents, dtype: int64 \n",
      " \n",
      "\n",
      "Graduate        480\n",
      "Not Graduate    134\n",
      "Name: Education, dtype: int64 \n",
      " \n",
      "\n",
      "No     532\n",
      "Yes     82\n",
      "Name: Self_Employed, dtype: int64 \n",
      " \n",
      "\n",
      "2500    9\n",
      "4583    6\n",
      "6000    6\n",
      "2600    6\n",
      "3333    5\n",
      "       ..\n",
      "3244    1\n",
      "4408    1\n",
      "3917    1\n",
      "3992    1\n",
      "7583    1\n",
      "Name: ApplicantIncome, Length: 505, dtype: int64 \n",
      " \n",
      "\n",
      "0.0       273\n",
      "2500.0      5\n",
      "2083.0      5\n",
      "1666.0      5\n",
      "2250.0      3\n",
      "         ... \n",
      "2791.0      1\n",
      "1010.0      1\n",
      "1695.0      1\n",
      "2598.0      1\n",
      "240.0       1\n",
      "Name: CoapplicantIncome, Length: 287, dtype: int64 \n",
      " \n",
      "\n",
      "146.412162    22\n",
      "120.000000    20\n",
      "110.000000    17\n",
      "100.000000    15\n",
      "160.000000    12\n",
      "              ..\n",
      "240.000000     1\n",
      "214.000000     1\n",
      "59.000000      1\n",
      "166.000000     1\n",
      "253.000000     1\n",
      "Name: LoanAmount, Length: 204, dtype: int64 \n",
      " \n",
      "\n",
      "360.0    512\n",
      "180.0     44\n",
      "480.0     15\n",
      "342.0     14\n",
      "300.0     13\n",
      "240.0      4\n",
      "84.0       4\n",
      "120.0      3\n",
      "60.0       2\n",
      "36.0       2\n",
      "12.0       1\n",
      "Name: Loan_Amount_Term, dtype: int64 \n",
      " \n",
      "\n",
      "1.000000    475\n",
      "0.000000     89\n",
      "0.842199     50\n",
      "Name: Credit_History, dtype: int64 \n",
      " \n",
      "\n",
      "Semiurban    233\n",
      "Urban        202\n",
      "Rural        179\n",
      "Name: Property_Area, dtype: int64 \n",
      " \n",
      "\n",
      "Y    422\n",
      "N    192\n",
      "Name: Loan_Status, dtype: int64 \n",
      " \n",
      "\n"
     ]
    }
   ],
   "source": [
    "#checking for unique value counts\n",
    "\n",
    "for i in df.columns:\n",
    "    print(df[i].value_counts(),'\\n','\\n')"
   ]
  },
  {
   "cell_type": "markdown",
   "id": "40a12dcc",
   "metadata": {},
   "source": [
    "- all object datatype variables have 2-4 unique classes\n",
    "- the data is imbalanced\n",
    "- first we will perform EDA and after that we will encode object dtype variables"
   ]
  },
  {
   "cell_type": "markdown",
   "id": "5c64b6de",
   "metadata": {},
   "source": [
    "# EDA:"
   ]
  },
  {
   "cell_type": "code",
   "execution_count": 25,
   "id": "a75e9699",
   "metadata": {},
   "outputs": [
    {
     "name": "stdout",
     "output_type": "stream",
     "text": [
      "<class 'pandas.core.frame.DataFrame'>\n",
      "RangeIndex: 614 entries, 0 to 613\n",
      "Data columns (total 13 columns):\n",
      " #   Column             Non-Null Count  Dtype  \n",
      "---  ------             --------------  -----  \n",
      " 0   Loan_ID            614 non-null    object \n",
      " 1   Gender             614 non-null    object \n",
      " 2   Married            614 non-null    object \n",
      " 3   Dependents         614 non-null    object \n",
      " 4   Education          614 non-null    object \n",
      " 5   Self_Employed      614 non-null    object \n",
      " 6   ApplicantIncome    614 non-null    int64  \n",
      " 7   CoapplicantIncome  614 non-null    float64\n",
      " 8   LoanAmount         614 non-null    float64\n",
      " 9   Loan_Amount_Term   614 non-null    float64\n",
      " 10  Credit_History     614 non-null    float64\n",
      " 11  Property_Area      614 non-null    object \n",
      " 12  Loan_Status        614 non-null    object \n",
      "dtypes: float64(4), int64(1), object(8)\n",
      "memory usage: 62.5+ KB\n"
     ]
    }
   ],
   "source": [
    "df.info()"
   ]
  },
  {
   "cell_type": "markdown",
   "id": "1957a4b6",
   "metadata": {},
   "source": [
    "- as the dataset have object and integer dataype only, and the target variable is of object dtype, we will use catplot for numerical independent variable and countplot for object dtype variables"
   ]
  },
  {
   "cell_type": "code",
   "execution_count": 26,
   "id": "89cc6ab5",
   "metadata": {},
   "outputs": [],
   "source": [
    "#so lets build a function for this\n",
    "\n",
    "def cat(i):                                 #for categorical data\n",
    "    sns.catplot('Loan_Status',i,data=df)\n",
    "    plt.show()\n",
    "    \n",
    "def count(i):\n",
    "    sns.countplot(df[i],hue=df['Loan_Status'])\n",
    "    plt.show()"
   ]
  },
  {
   "cell_type": "code",
   "execution_count": 27,
   "id": "4bd0276f",
   "metadata": {},
   "outputs": [
    {
     "data": {
      "image/png": "[encoded data removed]",
      "text/plain": [
       "<Figure size 432x288 with 1 Axes>"
      ]
     },
     "metadata": {
      "needs_background": "light"
     },
     "output_type": "display_data"
    }
   ],
   "source": [
    "count('Gender')"
   ]
  },
  {
   "cell_type": "markdown",
   "id": "83ff8227",
   "metadata": {},
   "source": [
    "- this variable is imbalanced\n",
    "- male applicants have a higher count than female ones"
   ]
  },
  {
   "cell_type": "code",
   "execution_count": 28,
   "id": "608f28fd",
   "metadata": {},
   "outputs": [
    {
     "data": {
      "image/png": "[encoded data removed]",
      "text/plain": [
       "<Figure size 432x288 with 1 Axes>"
      ]
     },
     "metadata": {
      "needs_background": "light"
     },
     "output_type": "display_data"
    }
   ],
   "source": [
    "count('Married')"
   ]
  },
  {
   "cell_type": "markdown",
   "id": "4154481a",
   "metadata": {},
   "source": [
    "- most applicants are Married\n",
    "- the data is imbalanced"
   ]
  },
  {
   "cell_type": "code",
   "execution_count": 29,
   "id": "e14f36a8",
   "metadata": {},
   "outputs": [
    {
     "data": {
      "image/png": "[encoded data removed]",
      "text/plain": [
       "<Figure size 432x288 with 1 Axes>"
      ]
     },
     "metadata": {
      "needs_background": "light"
     },
     "output_type": "display_data"
    }
   ],
   "source": [
    "count('Dependents')"
   ]
  },
  {
   "cell_type": "markdown",
   "id": "93ec3d4d",
   "metadata": {},
   "source": [
    "- O Dependents have the highest count"
   ]
  },
  {
   "cell_type": "code",
   "execution_count": 30,
   "id": "b7d81244",
   "metadata": {},
   "outputs": [
    {
     "data": {
      "image/png": "[encoded data removed]",
      "text/plain": [
       "<Figure size 432x288 with 1 Axes>"
      ]
     },
     "metadata": {
      "needs_background": "light"
     },
     "output_type": "display_data"
    }
   ],
   "source": [
    "count('Education')"
   ]
  },
  {
   "cell_type": "markdown",
   "id": "00828247",
   "metadata": {},
   "source": [
    "- though the data is imbalanced chances of passing a loan is higher for Graduated applicants"
   ]
  },
  {
   "cell_type": "code",
   "execution_count": 31,
   "id": "ed3971f6",
   "metadata": {},
   "outputs": [
    {
     "data": {
      "image/png": "[encoded data removed]",
      "text/plain": [
       "<Figure size 432x288 with 1 Axes>"
      ]
     },
     "metadata": {
      "needs_background": "light"
     },
     "output_type": "display_data"
    }
   ],
   "source": [
    "count('Self_Employed')"
   ]
  },
  {
   "cell_type": "markdown",
   "id": "8989148b",
   "metadata": {},
   "source": [
    "- for self employed applicants loan passing rates are low"
   ]
  },
  {
   "cell_type": "code",
   "execution_count": 32,
   "id": "e0b3c24d",
   "metadata": {},
   "outputs": [
    {
     "data": {
      "image/png": "[encoded data removed]",
      "text/plain": [
       "<Figure size 360x360 with 1 Axes>"
      ]
     },
     "metadata": {
      "needs_background": "light"
     },
     "output_type": "display_data"
    }
   ],
   "source": [
    "cat('ApplicantIncome')"
   ]
  },
  {
   "cell_type": "markdown",
   "id": "9c162e7a",
   "metadata": {},
   "source": [
    "- at income more than 80000 not passing of loan chances are higher\n",
    "- for income range 38000-65000 loan passing chances are certainly higher\n",
    "- for low income range data is distributed nicely for both the classes of target variable"
   ]
  },
  {
   "cell_type": "code",
   "execution_count": 33,
   "id": "f22cd477",
   "metadata": {},
   "outputs": [
    {
     "data": {
      "image/png": "[encoded data removed]",
      "text/plain": [
       "<Figure size 360x360 with 1 Axes>"
      ]
     },
     "metadata": {
      "needs_background": "light"
     },
     "output_type": "display_data"
    }
   ],
   "source": [
    "cat('CoapplicantIncome')"
   ]
  },
  {
   "cell_type": "markdown",
   "id": "65ae19de",
   "metadata": {},
   "source": [
    "- higher coapplicant income ranges have almost null chances of passing a loan"
   ]
  },
  {
   "cell_type": "code",
   "execution_count": 35,
   "id": "c8ae884f",
   "metadata": {},
   "outputs": [
    {
     "data": {
      "image/png": "[encoded data removed]",
      "text/plain": [
       "<Figure size 360x360 with 1 Axes>"
      ]
     },
     "metadata": {
      "needs_background": "light"
     },
     "output_type": "display_data"
    }
   ],
   "source": [
    "cat('LoanAmount')"
   ]
  },
  {
   "cell_type": "markdown",
   "id": "54e4007c",
   "metadata": {},
   "source": [
    "- higher LoanAmount have higher chances of passing a loan"
   ]
  },
  {
   "cell_type": "code",
   "execution_count": 38,
   "id": "51b67bf0",
   "metadata": {},
   "outputs": [
    {
     "data": {
      "image/png": "[encoded data removed]",
      "text/plain": [
       "<Figure size 720x360 with 1 Axes>"
      ]
     },
     "metadata": {
      "needs_background": "light"
     },
     "output_type": "display_data"
    }
   ],
   "source": [
    "plt.figure(figsize=(10,5))\n",
    "sns.countplot('Loan_Amount_Term',data=df,hue=df['Loan_Status'])\n",
    "plt.show()"
   ]
  },
  {
   "cell_type": "markdown",
   "id": "5f44d194",
   "metadata": {},
   "source": [
    "- the  data is highly imabalanced"
   ]
  },
  {
   "cell_type": "code",
   "execution_count": 40,
   "id": "aa476a76",
   "metadata": {},
   "outputs": [
    {
     "data": {
      "image/png": "[encoded data removed]",
      "text/plain": [
       "<Figure size 432x288 with 1 Axes>"
      ]
     },
     "metadata": {
      "needs_background": "light"
     },
     "output_type": "display_data"
    }
   ],
   "source": [
    "count('Credit_History')"
   ]
  },
  {
   "cell_type": "markdown",
   "id": "f9c50c8f",
   "metadata": {},
   "source": [
    "- credit history zero have more chances of not passing a loan"
   ]
  },
  {
   "cell_type": "code",
   "execution_count": 41,
   "id": "36dcff2d",
   "metadata": {},
   "outputs": [
    {
     "data": {
      "image/png": "[encoded data removed]",
      "text/plain": [
       "<Figure size 432x288 with 1 Axes>"
      ]
     },
     "metadata": {
      "needs_background": "light"
     },
     "output_type": "display_data"
    }
   ],
   "source": [
    "count('Property_Area')"
   ]
  },
  {
   "cell_type": "markdown",
   "id": "df6536b2",
   "metadata": {},
   "source": [
    "- SemiUrban PropertyArea have the highest loan passing chances, For Rural Areas both classes are reasonable"
   ]
  },
  {
   "cell_type": "code",
   "execution_count": 42,
   "id": "70e1a565",
   "metadata": {},
   "outputs": [
    {
     "data": {
      "text/html": [
       "<div>\n",
       "<style scoped>\n",
       "    .dataframe tbody tr th:only-of-type {\n",
       "        vertical-align: middle;\n",
       "    }\n",
       "\n",
       "    .dataframe tbody tr th {\n",
       "        vertical-align: top;\n",
       "    }\n",
       "\n",
       "    .dataframe thead th {\n",
       "        text-align: right;\n",
       "    }\n",
       "</style>\n",
       "<table border=\"1\" class=\"dataframe\">\n",
       "  <thead>\n",
       "    <tr style=\"text-align: right;\">\n",
       "      <th></th>\n",
       "      <th>Loan_ID</th>\n",
       "      <th>Gender</th>\n",
       "      <th>Married</th>\n",
       "      <th>Dependents</th>\n",
       "      <th>Education</th>\n",
       "      <th>Self_Employed</th>\n",
       "      <th>ApplicantIncome</th>\n",
       "      <th>CoapplicantIncome</th>\n",
       "      <th>LoanAmount</th>\n",
       "      <th>Loan_Amount_Term</th>\n",
       "      <th>Credit_History</th>\n",
       "      <th>Property_Area</th>\n",
       "      <th>Loan_Status</th>\n",
       "    </tr>\n",
       "  </thead>\n",
       "  <tbody>\n",
       "    <tr>\n",
       "      <th>41</th>\n",
       "      <td>LP001120</td>\n",
       "      <td>1</td>\n",
       "      <td>0</td>\n",
       "      <td>0</td>\n",
       "      <td>0</td>\n",
       "      <td>0</td>\n",
       "      <td>1800</td>\n",
       "      <td>1213.0</td>\n",
       "      <td>47.0</td>\n",
       "      <td>360.0</td>\n",
       "      <td>1.0</td>\n",
       "      <td>2</td>\n",
       "      <td>1</td>\n",
       "    </tr>\n",
       "  </tbody>\n",
       "</table>\n",
       "</div>"
      ],
      "text/plain": [
       "     Loan_ID  Gender  Married  Dependents  Education  Self_Employed  \\\n",
       "41  LP001120       1        0           0          0              0   \n",
       "\n",
       "    ApplicantIncome  CoapplicantIncome  LoanAmount  Loan_Amount_Term  \\\n",
       "41             1800             1213.0        47.0             360.0   \n",
       "\n",
       "    Credit_History  Property_Area  Loan_Status  \n",
       "41             1.0              2            1  "
      ]
     },
     "execution_count": 42,
     "metadata": {},
     "output_type": "execute_result"
    }
   ],
   "source": [
    "#now lets LabelEncode the object datatype variables\n",
    "\n",
    "cat=[]  #creating an empty list for categorical variables\n",
    "for i in df.columns:\n",
    "    if df[i].dtypes=='object':\n",
    "        cat.append(i)\n",
    "    else:\n",
    "        pass\n",
    "    \n",
    "\n",
    "# now removing Loan_ID, as this variable has all unique values so it would be tricky to encode it\n",
    "\n",
    "cat.remove('Loan_ID')\n",
    "\n",
    "from sklearn.preprocessing import LabelEncoder\n",
    "\n",
    "le=LabelEncoder()\n",
    "\n",
    "for i in cat:\n",
    "    df[i]=le.fit_transform(df[i])\n",
    "    \n",
    "df.sample()"
   ]
  },
  {
   "cell_type": "code",
   "execution_count": 43,
   "id": "119af55c",
   "metadata": {},
   "outputs": [
    {
     "data": {
      "text/plain": [
       "Loan_ID               object\n",
       "Gender                 int32\n",
       "Married                int32\n",
       "Dependents             int32\n",
       "Education              int32\n",
       "Self_Employed          int32\n",
       "ApplicantIncome        int64\n",
       "CoapplicantIncome    float64\n",
       "LoanAmount           float64\n",
       "Loan_Amount_Term     float64\n",
       "Credit_History       float64\n",
       "Property_Area          int32\n",
       "Loan_Status            int32\n",
       "dtype: object"
      ]
     },
     "execution_count": 43,
     "metadata": {},
     "output_type": "execute_result"
    }
   ],
   "source": [
    "#now checking for dtypes\n",
    "\n",
    "df.dtypes"
   ]
  },
  {
   "cell_type": "code",
   "execution_count": 44,
   "id": "64260c03",
   "metadata": {},
   "outputs": [],
   "source": [
    "#dropping Loan_ID\n",
    "\n",
    "df.drop('Loan_ID',axis=1,inplace=True)"
   ]
  },
  {
   "cell_type": "code",
   "execution_count": 45,
   "id": "7f3af6e6",
   "metadata": {},
   "outputs": [
    {
     "data": {
      "text/html": [
       "<div>\n",
       "<style scoped>\n",
       "    .dataframe tbody tr th:only-of-type {\n",
       "        vertical-align: middle;\n",
       "    }\n",
       "\n",
       "    .dataframe tbody tr th {\n",
       "        vertical-align: top;\n",
       "    }\n",
       "\n",
       "    .dataframe thead th {\n",
       "        text-align: right;\n",
       "    }\n",
       "</style>\n",
       "<table border=\"1\" class=\"dataframe\">\n",
       "  <thead>\n",
       "    <tr style=\"text-align: right;\">\n",
       "      <th></th>\n",
       "      <th>Gender</th>\n",
       "      <th>Married</th>\n",
       "      <th>Dependents</th>\n",
       "      <th>Education</th>\n",
       "      <th>Self_Employed</th>\n",
       "      <th>ApplicantIncome</th>\n",
       "      <th>CoapplicantIncome</th>\n",
       "      <th>LoanAmount</th>\n",
       "      <th>Loan_Amount_Term</th>\n",
       "      <th>Credit_History</th>\n",
       "      <th>Property_Area</th>\n",
       "      <th>Loan_Status</th>\n",
       "    </tr>\n",
       "  </thead>\n",
       "  <tbody>\n",
       "    <tr>\n",
       "      <th>Gender</th>\n",
       "      <td>1.000000</td>\n",
       "      <td>0.364569</td>\n",
       "      <td>0.172914</td>\n",
       "      <td>0.045364</td>\n",
       "      <td>-0.000525</td>\n",
       "      <td>0.058809</td>\n",
       "      <td>0.082912</td>\n",
       "      <td>0.107930</td>\n",
       "      <td>-0.073567</td>\n",
       "      <td>0.012819</td>\n",
       "      <td>-0.025752</td>\n",
       "      <td>0.017987</td>\n",
       "    </tr>\n",
       "    <tr>\n",
       "      <th>Married</th>\n",
       "      <td>0.364569</td>\n",
       "      <td>1.000000</td>\n",
       "      <td>0.334216</td>\n",
       "      <td>0.012304</td>\n",
       "      <td>0.004489</td>\n",
       "      <td>0.051708</td>\n",
       "      <td>0.075948</td>\n",
       "      <td>0.147141</td>\n",
       "      <td>-0.100863</td>\n",
       "      <td>0.005852</td>\n",
       "      <td>0.004257</td>\n",
       "      <td>0.091478</td>\n",
       "    </tr>\n",
       "    <tr>\n",
       "      <th>Dependents</th>\n",
       "      <td>0.172914</td>\n",
       "      <td>0.334216</td>\n",
       "      <td>1.000000</td>\n",
       "      <td>0.055752</td>\n",
       "      <td>0.056798</td>\n",
       "      <td>0.118202</td>\n",
       "      <td>0.030430</td>\n",
       "      <td>0.163106</td>\n",
       "      <td>-0.101054</td>\n",
       "      <td>-0.037392</td>\n",
       "      <td>-0.000244</td>\n",
       "      <td>0.010118</td>\n",
       "    </tr>\n",
       "    <tr>\n",
       "      <th>Education</th>\n",
       "      <td>0.045364</td>\n",
       "      <td>0.012304</td>\n",
       "      <td>0.055752</td>\n",
       "      <td>1.000000</td>\n",
       "      <td>-0.010383</td>\n",
       "      <td>-0.140760</td>\n",
       "      <td>-0.062290</td>\n",
       "      <td>-0.166998</td>\n",
       "      <td>-0.077242</td>\n",
       "      <td>-0.077936</td>\n",
       "      <td>-0.065243</td>\n",
       "      <td>-0.085884</td>\n",
       "    </tr>\n",
       "    <tr>\n",
       "      <th>Self_Employed</th>\n",
       "      <td>-0.000525</td>\n",
       "      <td>0.004489</td>\n",
       "      <td>0.056798</td>\n",
       "      <td>-0.010383</td>\n",
       "      <td>1.000000</td>\n",
       "      <td>0.127180</td>\n",
       "      <td>-0.016100</td>\n",
       "      <td>0.115260</td>\n",
       "      <td>-0.033943</td>\n",
       "      <td>-0.002260</td>\n",
       "      <td>-0.030860</td>\n",
       "      <td>-0.003700</td>\n",
       "    </tr>\n",
       "    <tr>\n",
       "      <th>ApplicantIncome</th>\n",
       "      <td>0.058809</td>\n",
       "      <td>0.051708</td>\n",
       "      <td>0.118202</td>\n",
       "      <td>-0.140760</td>\n",
       "      <td>0.127180</td>\n",
       "      <td>1.000000</td>\n",
       "      <td>-0.116605</td>\n",
       "      <td>0.565620</td>\n",
       "      <td>-0.045242</td>\n",
       "      <td>-0.014477</td>\n",
       "      <td>-0.009500</td>\n",
       "      <td>-0.004710</td>\n",
       "    </tr>\n",
       "    <tr>\n",
       "      <th>CoapplicantIncome</th>\n",
       "      <td>0.082912</td>\n",
       "      <td>0.075948</td>\n",
       "      <td>0.030430</td>\n",
       "      <td>-0.062290</td>\n",
       "      <td>-0.016100</td>\n",
       "      <td>-0.116605</td>\n",
       "      <td>1.000000</td>\n",
       "      <td>0.187828</td>\n",
       "      <td>-0.059675</td>\n",
       "      <td>-0.001665</td>\n",
       "      <td>0.010522</td>\n",
       "      <td>-0.059187</td>\n",
       "    </tr>\n",
       "    <tr>\n",
       "      <th>LoanAmount</th>\n",
       "      <td>0.107930</td>\n",
       "      <td>0.147141</td>\n",
       "      <td>0.163106</td>\n",
       "      <td>-0.166998</td>\n",
       "      <td>0.115260</td>\n",
       "      <td>0.565620</td>\n",
       "      <td>0.187828</td>\n",
       "      <td>1.000000</td>\n",
       "      <td>0.038801</td>\n",
       "      <td>-0.007738</td>\n",
       "      <td>-0.044776</td>\n",
       "      <td>-0.036416</td>\n",
       "    </tr>\n",
       "    <tr>\n",
       "      <th>Loan_Amount_Term</th>\n",
       "      <td>-0.073567</td>\n",
       "      <td>-0.100863</td>\n",
       "      <td>-0.101054</td>\n",
       "      <td>-0.077242</td>\n",
       "      <td>-0.033943</td>\n",
       "      <td>-0.045242</td>\n",
       "      <td>-0.059675</td>\n",
       "      <td>0.038801</td>\n",
       "      <td>1.000000</td>\n",
       "      <td>0.001395</td>\n",
       "      <td>-0.077620</td>\n",
       "      <td>-0.020974</td>\n",
       "    </tr>\n",
       "    <tr>\n",
       "      <th>Credit_History</th>\n",
       "      <td>0.012819</td>\n",
       "      <td>0.005852</td>\n",
       "      <td>-0.037392</td>\n",
       "      <td>-0.077936</td>\n",
       "      <td>-0.002260</td>\n",
       "      <td>-0.014477</td>\n",
       "      <td>-0.001665</td>\n",
       "      <td>-0.007738</td>\n",
       "      <td>0.001395</td>\n",
       "      <td>1.000000</td>\n",
       "      <td>-0.001880</td>\n",
       "      <td>0.540483</td>\n",
       "    </tr>\n",
       "    <tr>\n",
       "      <th>Property_Area</th>\n",
       "      <td>-0.025752</td>\n",
       "      <td>0.004257</td>\n",
       "      <td>-0.000244</td>\n",
       "      <td>-0.065243</td>\n",
       "      <td>-0.030860</td>\n",
       "      <td>-0.009500</td>\n",
       "      <td>0.010522</td>\n",
       "      <td>-0.044776</td>\n",
       "      <td>-0.077620</td>\n",
       "      <td>-0.001880</td>\n",
       "      <td>1.000000</td>\n",
       "      <td>0.032112</td>\n",
       "    </tr>\n",
       "    <tr>\n",
       "      <th>Loan_Status</th>\n",
       "      <td>0.017987</td>\n",
       "      <td>0.091478</td>\n",
       "      <td>0.010118</td>\n",
       "      <td>-0.085884</td>\n",
       "      <td>-0.003700</td>\n",
       "      <td>-0.004710</td>\n",
       "      <td>-0.059187</td>\n",
       "      <td>-0.036416</td>\n",
       "      <td>-0.020974</td>\n",
       "      <td>0.540483</td>\n",
       "      <td>0.032112</td>\n",
       "      <td>1.000000</td>\n",
       "    </tr>\n",
       "  </tbody>\n",
       "</table>\n",
       "</div>"
      ],
      "text/plain": [
       "                     Gender   Married  Dependents  Education  Self_Employed  \\\n",
       "Gender             1.000000  0.364569    0.172914   0.045364      -0.000525   \n",
       "Married            0.364569  1.000000    0.334216   0.012304       0.004489   \n",
       "Dependents         0.172914  0.334216    1.000000   0.055752       0.056798   \n",
       "Education          0.045364  0.012304    0.055752   1.000000      -0.010383   \n",
       "Self_Employed     -0.000525  0.004489    0.056798  -0.010383       1.000000   \n",
       "ApplicantIncome    0.058809  0.051708    0.118202  -0.140760       0.127180   \n",
       "CoapplicantIncome  0.082912  0.075948    0.030430  -0.062290      -0.016100   \n",
       "LoanAmount         0.107930  0.147141    0.163106  -0.166998       0.115260   \n",
       "Loan_Amount_Term  -0.073567 -0.100863   -0.101054  -0.077242      -0.033943   \n",
       "Credit_History     0.012819  0.005852   -0.037392  -0.077936      -0.002260   \n",
       "Property_Area     -0.025752  0.004257   -0.000244  -0.065243      -0.030860   \n",
       "Loan_Status        0.017987  0.091478    0.010118  -0.085884      -0.003700   \n",
       "\n",
       "                   ApplicantIncome  CoapplicantIncome  LoanAmount  \\\n",
       "Gender                    0.058809           0.082912    0.107930   \n",
       "Married                   0.051708           0.075948    0.147141   \n",
       "Dependents                0.118202           0.030430    0.163106   \n",
       "Education                -0.140760          -0.062290   -0.166998   \n",
       "Self_Employed             0.127180          -0.016100    0.115260   \n",
       "ApplicantIncome           1.000000          -0.116605    0.565620   \n",
       "CoapplicantIncome        -0.116605           1.000000    0.187828   \n",
       "LoanAmount                0.565620           0.187828    1.000000   \n",
       "Loan_Amount_Term         -0.045242          -0.059675    0.038801   \n",
       "Credit_History           -0.014477          -0.001665   -0.007738   \n",
       "Property_Area            -0.009500           0.010522   -0.044776   \n",
       "Loan_Status              -0.004710          -0.059187   -0.036416   \n",
       "\n",
       "                   Loan_Amount_Term  Credit_History  Property_Area  \\\n",
       "Gender                    -0.073567        0.012819      -0.025752   \n",
       "Married                   -0.100863        0.005852       0.004257   \n",
       "Dependents                -0.101054       -0.037392      -0.000244   \n",
       "Education                 -0.077242       -0.077936      -0.065243   \n",
       "Self_Employed             -0.033943       -0.002260      -0.030860   \n",
       "ApplicantIncome           -0.045242       -0.014477      -0.009500   \n",
       "CoapplicantIncome         -0.059675       -0.001665       0.010522   \n",
       "LoanAmount                 0.038801       -0.007738      -0.044776   \n",
       "Loan_Amount_Term           1.000000        0.001395      -0.077620   \n",
       "Credit_History             0.001395        1.000000      -0.001880   \n",
       "Property_Area             -0.077620       -0.001880       1.000000   \n",
       "Loan_Status               -0.020974        0.540483       0.032112   \n",
       "\n",
       "                   Loan_Status  \n",
       "Gender                0.017987  \n",
       "Married               0.091478  \n",
       "Dependents            0.010118  \n",
       "Education            -0.085884  \n",
       "Self_Employed        -0.003700  \n",
       "ApplicantIncome      -0.004710  \n",
       "CoapplicantIncome    -0.059187  \n",
       "LoanAmount           -0.036416  \n",
       "Loan_Amount_Term     -0.020974  \n",
       "Credit_History        0.540483  \n",
       "Property_Area         0.032112  \n",
       "Loan_Status           1.000000  "
      ]
     },
     "execution_count": 45,
     "metadata": {},
     "output_type": "execute_result"
    }
   ],
   "source": [
    "#checking for correlation\n",
    "\n",
    "df.corr()"
   ]
  },
  {
   "cell_type": "code",
   "execution_count": 46,
   "id": "bfc5a2d1",
   "metadata": {},
   "outputs": [
    {
     "data": {
      "text/plain": [
       "Loan_Status          1.000000\n",
       "Credit_History       0.540483\n",
       "Married              0.091478\n",
       "Property_Area        0.032112\n",
       "Gender               0.017987\n",
       "Dependents           0.010118\n",
       "Self_Employed       -0.003700\n",
       "ApplicantIncome     -0.004710\n",
       "Loan_Amount_Term    -0.020974\n",
       "LoanAmount          -0.036416\n",
       "CoapplicantIncome   -0.059187\n",
       "Education           -0.085884\n",
       "Name: Loan_Status, dtype: float64"
      ]
     },
     "execution_count": 46,
     "metadata": {},
     "output_type": "execute_result"
    }
   ],
   "source": [
    "df.corr()['Loan_Status'].sort_values(ascending=False)"
   ]
  },
  {
   "cell_type": "markdown",
   "id": "5381fa88",
   "metadata": {},
   "source": [
    "- Credit History has a strong correlation bond with the target variable\n",
    "- Married , Property_Area , Gender , Dependents have weak correlation bond with target variable\n",
    "- all the left variables have negative correlation Bond with Loan_Status"
   ]
  },
  {
   "cell_type": "code",
   "execution_count": 47,
   "id": "ad6a3566",
   "metadata": {},
   "outputs": [
    {
     "data": {
      "text/plain": [
       "<Figure size 432x288 with 0 Axes>"
      ]
     },
     "execution_count": 47,
     "metadata": {},
     "output_type": "execute_result"
    },
    {
     "data": {
      "image/png": "[encoded data removed]",
      "text/plain": [
       "<Figure size 792x360 with 2 Axes>"
      ]
     },
     "metadata": {
      "needs_background": "light"
     },
     "output_type": "display_data"
    },
    {
     "data": {
      "text/plain": [
       "<Figure size 432x288 with 0 Axes>"
      ]
     },
     "metadata": {},
     "output_type": "display_data"
    }
   ],
   "source": [
    "plt.figure(figsize=(11,5))\n",
    "sns.heatmap(df.corr(),annot=True,cmap='YlGnBu',fmt='.2%')\n",
    "plt.figure()"
   ]
  },
  {
   "cell_type": "code",
   "execution_count": 48,
   "id": "e9d0d542",
   "metadata": {},
   "outputs": [
    {
     "data": {
      "text/html": [
       "<div>\n",
       "<style scoped>\n",
       "    .dataframe tbody tr th:only-of-type {\n",
       "        vertical-align: middle;\n",
       "    }\n",
       "\n",
       "    .dataframe tbody tr th {\n",
       "        vertical-align: top;\n",
       "    }\n",
       "\n",
       "    .dataframe thead th {\n",
       "        text-align: right;\n",
       "    }\n",
       "</style>\n",
       "<table border=\"1\" class=\"dataframe\">\n",
       "  <thead>\n",
       "    <tr style=\"text-align: right;\">\n",
       "      <th></th>\n",
       "      <th>Gender</th>\n",
       "      <th>Married</th>\n",
       "      <th>Dependents</th>\n",
       "      <th>Education</th>\n",
       "      <th>Self_Employed</th>\n",
       "      <th>ApplicantIncome</th>\n",
       "      <th>CoapplicantIncome</th>\n",
       "      <th>LoanAmount</th>\n",
       "      <th>Loan_Amount_Term</th>\n",
       "      <th>Credit_History</th>\n",
       "      <th>Property_Area</th>\n",
       "      <th>Loan_Status</th>\n",
       "    </tr>\n",
       "  </thead>\n",
       "  <tbody>\n",
       "    <tr>\n",
       "      <th>count</th>\n",
       "      <td>614.000000</td>\n",
       "      <td>614.000000</td>\n",
       "      <td>614.000000</td>\n",
       "      <td>614.000000</td>\n",
       "      <td>614.000000</td>\n",
       "      <td>614.000000</td>\n",
       "      <td>614.000000</td>\n",
       "      <td>614.000000</td>\n",
       "      <td>614.000000</td>\n",
       "      <td>614.000000</td>\n",
       "      <td>614.000000</td>\n",
       "      <td>614.000000</td>\n",
       "    </tr>\n",
       "    <tr>\n",
       "      <th>mean</th>\n",
       "      <td>0.817590</td>\n",
       "      <td>0.653094</td>\n",
       "      <td>0.744300</td>\n",
       "      <td>0.218241</td>\n",
       "      <td>0.133550</td>\n",
       "      <td>5403.459283</td>\n",
       "      <td>1621.245798</td>\n",
       "      <td>146.412162</td>\n",
       "      <td>342.000000</td>\n",
       "      <td>0.842199</td>\n",
       "      <td>1.037459</td>\n",
       "      <td>0.687296</td>\n",
       "    </tr>\n",
       "    <tr>\n",
       "      <th>std</th>\n",
       "      <td>0.386497</td>\n",
       "      <td>0.476373</td>\n",
       "      <td>1.009623</td>\n",
       "      <td>0.413389</td>\n",
       "      <td>0.340446</td>\n",
       "      <td>6109.041673</td>\n",
       "      <td>2926.248369</td>\n",
       "      <td>84.037468</td>\n",
       "      <td>64.372489</td>\n",
       "      <td>0.349681</td>\n",
       "      <td>0.787482</td>\n",
       "      <td>0.463973</td>\n",
       "    </tr>\n",
       "    <tr>\n",
       "      <th>min</th>\n",
       "      <td>0.000000</td>\n",
       "      <td>0.000000</td>\n",
       "      <td>0.000000</td>\n",
       "      <td>0.000000</td>\n",
       "      <td>0.000000</td>\n",
       "      <td>150.000000</td>\n",
       "      <td>0.000000</td>\n",
       "      <td>9.000000</td>\n",
       "      <td>12.000000</td>\n",
       "      <td>0.000000</td>\n",
       "      <td>0.000000</td>\n",
       "      <td>0.000000</td>\n",
       "    </tr>\n",
       "    <tr>\n",
       "      <th>25%</th>\n",
       "      <td>1.000000</td>\n",
       "      <td>0.000000</td>\n",
       "      <td>0.000000</td>\n",
       "      <td>0.000000</td>\n",
       "      <td>0.000000</td>\n",
       "      <td>2877.500000</td>\n",
       "      <td>0.000000</td>\n",
       "      <td>100.250000</td>\n",
       "      <td>360.000000</td>\n",
       "      <td>1.000000</td>\n",
       "      <td>0.000000</td>\n",
       "      <td>0.000000</td>\n",
       "    </tr>\n",
       "    <tr>\n",
       "      <th>50%</th>\n",
       "      <td>1.000000</td>\n",
       "      <td>1.000000</td>\n",
       "      <td>0.000000</td>\n",
       "      <td>0.000000</td>\n",
       "      <td>0.000000</td>\n",
       "      <td>3812.500000</td>\n",
       "      <td>1188.500000</td>\n",
       "      <td>129.000000</td>\n",
       "      <td>360.000000</td>\n",
       "      <td>1.000000</td>\n",
       "      <td>1.000000</td>\n",
       "      <td>1.000000</td>\n",
       "    </tr>\n",
       "    <tr>\n",
       "      <th>75%</th>\n",
       "      <td>1.000000</td>\n",
       "      <td>1.000000</td>\n",
       "      <td>1.000000</td>\n",
       "      <td>0.000000</td>\n",
       "      <td>0.000000</td>\n",
       "      <td>5795.000000</td>\n",
       "      <td>2297.250000</td>\n",
       "      <td>164.750000</td>\n",
       "      <td>360.000000</td>\n",
       "      <td>1.000000</td>\n",
       "      <td>2.000000</td>\n",
       "      <td>1.000000</td>\n",
       "    </tr>\n",
       "    <tr>\n",
       "      <th>max</th>\n",
       "      <td>1.000000</td>\n",
       "      <td>1.000000</td>\n",
       "      <td>3.000000</td>\n",
       "      <td>1.000000</td>\n",
       "      <td>1.000000</td>\n",
       "      <td>81000.000000</td>\n",
       "      <td>41667.000000</td>\n",
       "      <td>700.000000</td>\n",
       "      <td>480.000000</td>\n",
       "      <td>1.000000</td>\n",
       "      <td>2.000000</td>\n",
       "      <td>1.000000</td>\n",
       "    </tr>\n",
       "  </tbody>\n",
       "</table>\n",
       "</div>"
      ],
      "text/plain": [
       "           Gender     Married  Dependents   Education  Self_Employed  \\\n",
       "count  614.000000  614.000000  614.000000  614.000000     614.000000   \n",
       "mean     0.817590    0.653094    0.744300    0.218241       0.133550   \n",
       "std      0.386497    0.476373    1.009623    0.413389       0.340446   \n",
       "min      0.000000    0.000000    0.000000    0.000000       0.000000   \n",
       "25%      1.000000    0.000000    0.000000    0.000000       0.000000   \n",
       "50%      1.000000    1.000000    0.000000    0.000000       0.000000   \n",
       "75%      1.000000    1.000000    1.000000    0.000000       0.000000   \n",
       "max      1.000000    1.000000    3.000000    1.000000       1.000000   \n",
       "\n",
       "       ApplicantIncome  CoapplicantIncome  LoanAmount  Loan_Amount_Term  \\\n",
       "count       614.000000         614.000000  614.000000        614.000000   \n",
       "mean       5403.459283        1621.245798  146.412162        342.000000   \n",
       "std        6109.041673        2926.248369   84.037468         64.372489   \n",
       "min         150.000000           0.000000    9.000000         12.000000   \n",
       "25%        2877.500000           0.000000  100.250000        360.000000   \n",
       "50%        3812.500000        1188.500000  129.000000        360.000000   \n",
       "75%        5795.000000        2297.250000  164.750000        360.000000   \n",
       "max       81000.000000       41667.000000  700.000000        480.000000   \n",
       "\n",
       "       Credit_History  Property_Area  Loan_Status  \n",
       "count      614.000000     614.000000   614.000000  \n",
       "mean         0.842199       1.037459     0.687296  \n",
       "std          0.349681       0.787482     0.463973  \n",
       "min          0.000000       0.000000     0.000000  \n",
       "25%          1.000000       0.000000     0.000000  \n",
       "50%          1.000000       1.000000     1.000000  \n",
       "75%          1.000000       2.000000     1.000000  \n",
       "max          1.000000       2.000000     1.000000  "
      ]
     },
     "execution_count": 48,
     "metadata": {},
     "output_type": "execute_result"
    }
   ],
   "source": [
    "# now let's, describe our dataset:\n",
    "\n",
    "df.describe()"
   ]
  },
  {
   "cell_type": "markdown",
   "id": "647d94ab",
   "metadata": {},
   "source": [
    "obseravtions:\n",
    "- mean for some variables is higher or lower than their median values, so skewness might be there\n",
    "- ApplicantIncome , CoapplicantIncome have a wide range of data\n",
    "- because of imbalanced distribution outliers might be also there"
   ]
  },
  {
   "cell_type": "code",
   "execution_count": 49,
   "id": "d58d5c2d",
   "metadata": {},
   "outputs": [
    {
     "data": {
      "image/png": "[encoded data removed]",
      "text/plain": [
       "<Figure size 432x288 with 1 Axes>"
      ]
     },
     "metadata": {
      "needs_background": "light"
     },
     "output_type": "display_data"
    }
   ],
   "source": [
    "#let's check for outliers\n",
    "\n",
    "sns.boxplot(df['ApplicantIncome'])\n",
    "plt.show()"
   ]
  },
  {
   "cell_type": "code",
   "execution_count": 50,
   "id": "657a5375",
   "metadata": {},
   "outputs": [
    {
     "data": {
      "image/png": "[encoded data removed]",
      "text/plain": [
       "<Figure size 432x288 with 1 Axes>"
      ]
     },
     "metadata": {
      "needs_background": "light"
     },
     "output_type": "display_data"
    }
   ],
   "source": [
    "#let's check for outliers\n",
    "\n",
    "sns.boxplot(df['CoapplicantIncome'])\n",
    "plt.show()"
   ]
  },
  {
   "cell_type": "code",
   "execution_count": 51,
   "id": "e2f8a416",
   "metadata": {},
   "outputs": [
    {
     "data": {
      "image/png": "[encoded data removed]",
      "text/plain": [
       "<Figure size 432x288 with 1 Axes>"
      ]
     },
     "metadata": {
      "needs_background": "light"
     },
     "output_type": "display_data"
    }
   ],
   "source": [
    "#let's check for outliers\n",
    "\n",
    "sns.boxplot(df['LoanAmount'])\n",
    "plt.show()"
   ]
  },
  {
   "cell_type": "markdown",
   "id": "01402b94",
   "metadata": {},
   "source": [
    "- so outliers are present in the dataset"
   ]
  },
  {
   "cell_type": "markdown",
   "id": "304447c4",
   "metadata": {},
   "source": [
    "# Data Cleaning:"
   ]
  },
  {
   "cell_type": "code",
   "execution_count": 52,
   "id": "78f9b995",
   "metadata": {},
   "outputs": [
    {
     "data": {
      "text/plain": [
       "(array([  9,  14,  68,  94, 126, 130, 133, 155, 155, 171, 171, 177, 177,\n",
       "        183, 185, 242, 262, 278, 308, 313, 333, 333, 369, 402, 409, 417,\n",
       "        432, 443, 487, 495, 497, 506, 523, 525, 546, 561, 575, 581, 585,\n",
       "        600, 604], dtype=int64),\n",
       " array([6, 8, 8, 8, 5, 7, 8, 5, 7, 5, 7, 6, 7, 5, 5, 8, 8, 7, 7, 8, 5, 7,\n",
       "        7, 6, 5, 6, 7, 5, 7, 8, 8, 7, 7, 7, 8, 7, 8, 6, 8, 6, 7],\n",
       "       dtype=int64))"
      ]
     },
     "execution_count": 52,
     "metadata": {},
     "output_type": "execute_result"
    }
   ],
   "source": [
    "#lets check out for outliers using zscore\n",
    "\n",
    "from scipy.stats import zscore\n",
    "\n",
    "z=np.abs(zscore(df))\n",
    "\n",
    "#threhold=3\n",
    "np.where(z>3)"
   ]
  },
  {
   "cell_type": "code",
   "execution_count": 53,
   "id": "b38bc0f0",
   "metadata": {},
   "outputs": [],
   "source": [
    "#so outliers are present, so we are going to see how much data is being lost\n",
    "\n",
    "df_new=df[(z<3).all(axis=1)]"
   ]
  },
  {
   "cell_type": "code",
   "execution_count": 54,
   "id": "d551143a",
   "metadata": {},
   "outputs": [
    {
     "data": {
      "text/plain": [
       "(614, 12)"
      ]
     },
     "execution_count": 54,
     "metadata": {},
     "output_type": "execute_result"
    }
   ],
   "source": [
    "df.shape"
   ]
  },
  {
   "cell_type": "code",
   "execution_count": 55,
   "id": "efc00082",
   "metadata": {},
   "outputs": [
    {
     "data": {
      "text/plain": [
       "(577, 12)"
      ]
     },
     "execution_count": 55,
     "metadata": {},
     "output_type": "execute_result"
    }
   ],
   "source": [
    "df_new.shape"
   ]
  },
  {
   "cell_type": "code",
   "execution_count": 56,
   "id": "c2dcd097",
   "metadata": {},
   "outputs": [
    {
     "name": "stdout",
     "output_type": "stream",
     "text": [
      "Data Loss is: 6.026058631921824 %\n"
     ]
    }
   ],
   "source": [
    "print('Data Loss is:',(614-577)/614*100,'%')"
   ]
  },
  {
   "cell_type": "markdown",
   "id": "38b45805",
   "metadata": {},
   "source": [
    "- so data loss is less than 10%, so we will use dataset with no outliers, as due to imbalance data we are going to do over sampling later"
   ]
  },
  {
   "cell_type": "code",
   "execution_count": 132,
   "id": "39d3dc78",
   "metadata": {},
   "outputs": [
    {
     "name": "stdout",
     "output_type": "stream",
     "text": [
      "(577, 11)\n",
      "(577,)\n"
     ]
    }
   ],
   "source": [
    "# now selecting our feature and target variable for further process\n",
    "\n",
    "x=df_new.drop('Loan_Status',axis=1)\n",
    "y=df_new['Loan_Status']\n",
    "\n",
    "print(x.shape)\n",
    "print(y.shape)"
   ]
  },
  {
   "cell_type": "code",
   "execution_count": 133,
   "id": "bd13fcae",
   "metadata": {},
   "outputs": [
    {
     "data": {
      "text/plain": [
       "Gender              -1.622920\n",
       "Married             -0.630211\n",
       "Dependents           1.052106\n",
       "Education            1.306588\n",
       "Self_Employed        2.252848\n",
       "ApplicantIncome      2.148522\n",
       "CoapplicantIncome    1.350517\n",
       "LoanAmount           1.113132\n",
       "Loan_Amount_Term    -2.077031\n",
       "Credit_History      -1.921860\n",
       "Property_Area       -0.055332\n",
       "dtype: float64"
      ]
     },
     "execution_count": 133,
     "metadata": {},
     "output_type": "execute_result"
    }
   ],
   "source": [
    "#checking for skewness\n",
    "\n",
    "x.skew()"
   ]
  },
  {
   "cell_type": "markdown",
   "id": "9ca6cd2b",
   "metadata": {},
   "source": [
    "- threshold = +/- 0.50 , so all the variables except Property_Area are exceeding the threshold, we will try to reduce the skewness"
   ]
  },
  {
   "cell_type": "code",
   "execution_count": 60,
   "id": "06762379",
   "metadata": {},
   "outputs": [
    {
     "data": {
      "image/png": "[encoded data removed]",
      "text/plain": [
       "<Figure size 432x288 with 1 Axes>"
      ]
     },
     "metadata": {
      "needs_background": "light"
     },
     "output_type": "display_data"
    }
   ],
   "source": [
    "sns.distplot(df_new['Gender'])\n",
    "plt.show()"
   ]
  },
  {
   "cell_type": "code",
   "execution_count": 61,
   "id": "94f5fe08",
   "metadata": {},
   "outputs": [
    {
     "data": {
      "image/png": "[encoded data removed]",
      "text/plain": [
       "<Figure size 432x288 with 1 Axes>"
      ]
     },
     "metadata": {
      "needs_background": "light"
     },
     "output_type": "display_data"
    }
   ],
   "source": [
    "sns.distplot(df_new['Self_Employed'])\n",
    "plt.show()"
   ]
  },
  {
   "cell_type": "code",
   "execution_count": 62,
   "id": "341a686f",
   "metadata": {},
   "outputs": [
    {
     "data": {
      "image/png": "[encoded data removed]",
      "text/plain": [
       "<Figure size 432x288 with 1 Axes>"
      ]
     },
     "metadata": {
      "needs_background": "light"
     },
     "output_type": "display_data"
    }
   ],
   "source": [
    "sns.distplot(df_new['ApplicantIncome'])\n",
    "plt.show()"
   ]
  },
  {
   "cell_type": "markdown",
   "id": "e96b30ee",
   "metadata": {},
   "source": [
    "- so it can be seen that skewness is there"
   ]
  },
  {
   "cell_type": "code",
   "execution_count": 63,
   "id": "21a119e9",
   "metadata": {},
   "outputs": [
    {
     "data": {
      "text/plain": [
       "Index(['Gender', 'Married', 'Dependents', 'Education', 'Self_Employed',\n",
       "       'ApplicantIncome', 'CoapplicantIncome', 'LoanAmount',\n",
       "       'Loan_Amount_Term', 'Credit_History', 'Property_Area'],\n",
       "      dtype='object')"
      ]
     },
     "execution_count": 63,
     "metadata": {},
     "output_type": "execute_result"
    }
   ],
   "source": [
    "x.columns"
   ]
  },
  {
   "cell_type": "code",
   "execution_count": 139,
   "id": "155776c7",
   "metadata": {},
   "outputs": [
    {
     "data": {
      "text/plain": [
       "Gender              -1.622920\n",
       "Married             -0.630211\n",
       "Dependents           0.478360\n",
       "Education            1.306588\n",
       "Self_Employed        2.252848\n",
       "ApplicantIncome      0.027981\n",
       "CoapplicantIncome   -0.191876\n",
       "LoanAmount           0.047692\n",
       "Loan_Amount_Term     0.718470\n",
       "Credit_History      -1.588827\n",
       "Property_Area       -0.155094\n",
       "dtype: float64"
      ]
     },
     "execution_count": 139,
     "metadata": {},
     "output_type": "execute_result"
    }
   ],
   "source": [
    "#using power_transform method\n",
    "\n",
    "from sklearn.preprocessing import power_transform\n",
    "\n",
    "x=power_transform(x,method='yeo-johnson')\n",
    "x=pd.DataFrame(x,columns=['Gender', 'Married', 'Dependents', 'Education', 'Self_Employed',\n",
    "       'ApplicantIncome', 'CoapplicantIncome', 'LoanAmount',\n",
    "       'Loan_Amount_Term', 'Credit_History', 'Property_Area'])\n",
    "x.skew()"
   ]
  },
  {
   "cell_type": "code",
   "execution_count": 66,
   "id": "161e77fe",
   "metadata": {},
   "outputs": [
    {
     "data": {
      "image/png": "[encoded data removed]",
      "text/plain": [
       "<Figure size 432x288 with 1 Axes>"
      ]
     },
     "metadata": {
      "needs_background": "light"
     },
     "output_type": "display_data"
    }
   ],
   "source": [
    "sns.distplot(x['ApplicantIncome'])\n",
    "plt.show()"
   ]
  },
  {
   "cell_type": "markdown",
   "id": "a093ba54",
   "metadata": {},
   "source": [
    "- skewness has been reduced for some variables"
   ]
  },
  {
   "cell_type": "code",
   "execution_count": 67,
   "id": "2b0c2e04",
   "metadata": {},
   "outputs": [],
   "source": [
    "#checking for multicollinearity\n",
    "\n",
    "from statsmodels.stats.outliers_influence import variance_inflation_factor\n",
    "\n",
    "def vif_calc():\n",
    "    vif=pd.DataFrame()\n",
    "    vif['VIF Factor']=[variance_inflation_factor(x.values,i) for i in range(x.shape[1])]\n",
    "    vif['features']=x.columns\n",
    "    print(vif)"
   ]
  },
  {
   "cell_type": "code",
   "execution_count": 68,
   "id": "1b0d0c35",
   "metadata": {},
   "outputs": [
    {
     "name": "stdout",
     "output_type": "stream",
     "text": [
      "    VIF Factor           features\n",
      "0     1.220099             Gender\n",
      "1     1.432799            Married\n",
      "2     1.183858         Dependents\n",
      "3     1.067987          Education\n",
      "4     1.055620      Self_Employed\n",
      "5     1.767052    ApplicantIncome\n",
      "6     1.577425  CoapplicantIncome\n",
      "7     1.548431         LoanAmount\n",
      "8     1.048591   Loan_Amount_Term\n",
      "9     1.012913     Credit_History\n",
      "10    1.025710      Property_Area\n"
     ]
    }
   ],
   "source": [
    "vif_calc()"
   ]
  },
  {
   "cell_type": "markdown",
   "id": "363abcd1",
   "metadata": {},
   "source": [
    "- the VIf is low for all feature variables, multicollinearity isn't present"
   ]
  },
  {
   "cell_type": "code",
   "execution_count": 140,
   "id": "b761f767",
   "metadata": {},
   "outputs": [],
   "source": [
    "#scaling the input data\n",
    "\n",
    "from sklearn.preprocessing import StandardScaler\n",
    "sc=StandardScaler()\n",
    "x=sc.fit_transform(x)"
   ]
  },
  {
   "cell_type": "code",
   "execution_count": 141,
   "id": "c9aedbbc",
   "metadata": {},
   "outputs": [
    {
     "data": {
      "text/plain": [
       "1    398\n",
       "0    179\n",
       "Name: Loan_Status, dtype: int64"
      ]
     },
     "execution_count": 141,
     "metadata": {},
     "output_type": "execute_result"
    }
   ],
   "source": [
    "#now checking if the dataset is imbalanced or not\n",
    "\n",
    "y.value_counts()"
   ]
  },
  {
   "cell_type": "code",
   "execution_count": 142,
   "id": "2f2ae51f",
   "metadata": {},
   "outputs": [
    {
     "data": {
      "image/png": "[encoded data removed]",
      "text/plain": [
       "<Figure size 432x288 with 1 Axes>"
      ]
     },
     "metadata": {
      "needs_background": "light"
     },
     "output_type": "display_data"
    }
   ],
   "source": [
    "sns.countplot(y)\n",
    "plt.show()"
   ]
  },
  {
   "cell_type": "code",
   "execution_count": 143,
   "id": "125c558d",
   "metadata": {},
   "outputs": [
    {
     "name": "stdout",
     "output_type": "stream",
     "text": [
      "(796, 11)\n",
      "(796,)\n"
     ]
    }
   ],
   "source": [
    "from imblearn.over_sampling import SMOTE\n",
    "\n",
    "train_x,train_y=SMOTE().fit_resample(x,y)\n",
    "\n",
    "print(train_x.shape)\n",
    "print(train_y.shape)"
   ]
  },
  {
   "cell_type": "code",
   "execution_count": 144,
   "id": "7519bea7",
   "metadata": {},
   "outputs": [],
   "source": [
    "#since this is binary classification problem first we will use LogisticRegression then we will try out some other algos too"
   ]
  },
  {
   "cell_type": "code",
   "execution_count": 74,
   "id": "952a2f01",
   "metadata": {},
   "outputs": [],
   "source": [
    "#importing libraries\n",
    "\n",
    "from sklearn.model_selection import train_test_split,cross_val_score\n",
    "from sklearn.linear_model import LogisticRegression\n",
    "from sklearn.metrics import accuracy_score,confusion_matrix,classification_report"
   ]
  },
  {
   "cell_type": "code",
   "execution_count": 75,
   "id": "722eb882",
   "metadata": {},
   "outputs": [],
   "source": [
    "lr=LogisticRegression()"
   ]
  },
  {
   "cell_type": "code",
   "execution_count": 77,
   "id": "cfc4f4d7",
   "metadata": {},
   "outputs": [
    {
     "name": "stdout",
     "output_type": "stream",
     "text": [
      "At random state 11 the model performs very well\n",
      "At random state 11 :\n",
      "Training accuracy score is 73.4290843806104\n",
      "Testing accuracy score is 72.80334728033473 \n",
      "\n",
      "At random state 16 the model performs very well\n",
      "At random state 16 :\n",
      "Training accuracy score is 71.27468581687613\n",
      "Testing accuracy score is 71.1297071129707 \n",
      "\n",
      "At random state 28 the model performs very well\n",
      "At random state 28 :\n",
      "Training accuracy score is 71.45421903052065\n",
      "Testing accuracy score is 70.7112970711297 \n",
      "\n",
      "At random state 33 the model performs very well\n",
      "At random state 33 :\n",
      "Training accuracy score is 72.89048473967684\n",
      "Testing accuracy score is 72.80334728033473 \n",
      "\n",
      "At random state 48 the model performs very well\n",
      "At random state 48 :\n",
      "Training accuracy score is 71.45421903052065\n",
      "Testing accuracy score is 70.7112970711297 \n",
      "\n",
      "At random state 61 the model performs very well\n",
      "At random state 61 :\n",
      "Training accuracy score is 71.99281867145422\n",
      "Testing accuracy score is 71.54811715481172 \n",
      "\n",
      "At random state 67 the model performs very well\n",
      "At random state 67 :\n",
      "Training accuracy score is 71.8132854578097\n",
      "Testing accuracy score is 71.54811715481172 \n",
      "\n",
      "At random state 79 the model performs very well\n",
      "At random state 79 :\n",
      "Training accuracy score is 71.0951526032316\n",
      "Testing accuracy score is 70.7112970711297 \n",
      "\n",
      "At random state 86 the model performs very well\n",
      "At random state 86 :\n",
      "Training accuracy score is 73.07001795332137\n",
      "Testing accuracy score is 72.80334728033473 \n",
      "\n",
      "At random state 98 the model performs very well\n",
      "At random state 98 :\n",
      "Training accuracy score is 70.73608617594255\n",
      "Testing accuracy score is 71.1297071129707 \n",
      "\n"
     ]
    }
   ],
   "source": [
    "for i in range(0,100):\n",
    "    x_train,x_test,y_train,y_test=train_test_split(train_x,train_y,random_state=i,test_size=.30)\n",
    "    lr.fit(x_train,y_train)\n",
    "    predtrain=lr.predict(x_train)\n",
    "    predlr=lr.predict(x_test)\n",
    "    if round(accuracy_score(y_test,predlr)*100)==round(accuracy_score(y_train,predtrain)*100):\n",
    "        print('At random state',i,'the model performs very well')\n",
    "        print('At random state',i,':')\n",
    "        print('Training accuracy score is',accuracy_score(y_train,predtrain)*100)\n",
    "        print('Testing accuracy score is',accuracy_score(y_test,predlr)*100,'\\n')"
   ]
  },
  {
   "cell_type": "code",
   "execution_count": 78,
   "id": "c45a428f",
   "metadata": {},
   "outputs": [
    {
     "name": "stdout",
     "output_type": "stream",
     "text": [
      "0.7280334728033473\n"
     ]
    }
   ],
   "source": [
    "#using 33 as the random state for further process\n",
    "\n",
    "x_train,x_test,y_train,y_test=train_test_split(train_x,train_y,random_state=33,test_size=.30)\n",
    "lr.fit(x_train,y_train)\n",
    "predtrain=lr.predict(x_train)\n",
    "predlr=lr.predict(x_test)\n",
    "print(accuracy_score(y_test,predlr))"
   ]
  },
  {
   "cell_type": "code",
   "execution_count": 79,
   "id": "bec8bb91",
   "metadata": {},
   "outputs": [
    {
     "name": "stdout",
     "output_type": "stream",
     "text": [
      "72.80334728033473\n",
      "[[ 60  48]\n",
      " [ 17 114]]\n",
      "              precision    recall  f1-score   support\n",
      "\n",
      "           0       0.78      0.56      0.65       108\n",
      "           1       0.70      0.87      0.78       131\n",
      "\n",
      "    accuracy                           0.73       239\n",
      "   macro avg       0.74      0.71      0.71       239\n",
      "weighted avg       0.74      0.73      0.72       239\n",
      "\n"
     ]
    }
   ],
   "source": [
    "print(accuracy_score(y_test,predlr)*100)\n",
    "print(confusion_matrix(y_test,predlr))\n",
    "print(classification_report(y_test,predlr))"
   ]
  },
  {
   "cell_type": "code",
   "execution_count": 80,
   "id": "fa192580",
   "metadata": {},
   "outputs": [
    {
     "name": "stdout",
     "output_type": "stream",
     "text": [
      "0.2719665271966527\n"
     ]
    }
   ],
   "source": [
    "#importing metrics\n",
    "\n",
    "from sklearn.metrics import mean_squared_error\n",
    "\n",
    "#checking error for LogiosticRegression\n",
    "mselr=mean_squared_error(y_test,predlr)\n",
    "\n",
    "print(mselr)"
   ]
  },
  {
   "cell_type": "code",
   "execution_count": 81,
   "id": "b2f269f8",
   "metadata": {},
   "outputs": [
    {
     "name": "stdout",
     "output_type": "stream",
     "text": [
      "At cv= 2\n",
      "Cross Validation Score is: 71.73366834170854\n",
      "Accuracy score is: 72.80334728033473 \n",
      "\n",
      "At cv= 3\n",
      "Cross Validation Score is: 70.59913935782852\n",
      "Accuracy score is: 72.80334728033473 \n",
      "\n",
      "At cv= 4\n",
      "Cross Validation Score is: 70.72864321608041\n",
      "Accuracy score is: 72.80334728033473 \n",
      "\n",
      "At cv= 5\n",
      "Cross Validation Score is: 70.60220125786164\n",
      "Accuracy score is: 72.80334728033473 \n",
      "\n",
      "At cv= 6\n",
      "Cross Validation Score is: 71.1029467608415\n",
      "Accuracy score is: 72.80334728033473 \n",
      "\n",
      "At cv= 7\n",
      "Cross Validation Score is: 70.72770421629293\n",
      "Accuracy score is: 72.80334728033473 \n",
      "\n",
      "At cv= 8\n",
      "Cross Validation Score is: 70.97727272727272\n",
      "Accuracy score is: 72.80334728033473 \n",
      "\n",
      "At cv= 9\n",
      "Cross Validation Score is: 71.10004539779821\n",
      "Accuracy score is: 72.80334728033473 \n",
      "\n"
     ]
    }
   ],
   "source": [
    "#checking cross validation score for logistic regression\n",
    "\n",
    "for j in range(2,10):\n",
    "    lrs=cross_val_score(lr,train_x,train_y,cv=j)\n",
    "    lrc=lrs.mean()\n",
    "    print('At cv=',j)\n",
    "    print('Cross Validation Score is:',lrc*100)\n",
    "    print('Accuracy score is:',accuracy_score(y_test,predlr)*100,'\\n')"
   ]
  },
  {
   "cell_type": "markdown",
   "id": "30264be5",
   "metadata": {},
   "source": [
    "- the accuracy score is coming around cross validation score only, the model is working well"
   ]
  },
  {
   "cell_type": "code",
   "execution_count": 82,
   "id": "d90a487a",
   "metadata": {},
   "outputs": [
    {
     "data": {
      "image/png": "[encoded data removed]",
      "text/plain": [
       "<Figure size 432x288 with 1 Axes>"
      ]
     },
     "metadata": {
      "needs_background": "light"
     },
     "output_type": "display_data"
    }
   ],
   "source": [
    "#roc auc plotting for logisticRegression\n",
    "\n",
    "from sklearn.metrics import roc_curve,auc\n",
    "\n",
    "fpr,tpr,thresholds=roc_curve(y_test,predlr)\n",
    "\n",
    "roc_auc=auc(fpr,tpr)\n",
    "\n",
    "plt.figure()\n",
    "plt.plot(fpr,tpr,color='darkorange',lw=10,label='ROC curve (area=%.2f)'%roc_auc)\n",
    "plt.plot([0,1],[0,1],color='navy',lw=10,linestyle='--')\n",
    "plt.xlim([0.0,1.0])\n",
    "plt.ylim([0.0,1.05])\n",
    "plt.xlabel('False Positive rate')\n",
    "plt.ylabel('True Positive rate')\n",
    "plt.title('Receiver Operating Characteristics')\n",
    "plt.legend(loc='lower right')\n",
    "plt.show()"
   ]
  },
  {
   "cell_type": "code",
   "execution_count": 83,
   "id": "76a8bfbc",
   "metadata": {},
   "outputs": [
    {
     "name": "stdout",
     "output_type": "stream",
     "text": [
      "70.29288702928869\n"
     ]
    }
   ],
   "source": [
    "#now lets try some more classifcation algorithms \n",
    "\n",
    "from sklearn.neighbors import KNeighborsClassifier\n",
    "from sklearn.tree import DecisionTreeClassifier\n",
    "from sklearn.svm import SVC\n",
    "\n",
    "\n",
    "#KNeighbors\n",
    "\n",
    "knn=KNeighborsClassifier()\n",
    "\n",
    "x_train,x_test,y_train,y_test=train_test_split(train_x,train_y,random_state=33,test_size=.30)\n",
    "knn.fit(x_train,y_train)\n",
    "predtrain=knn.predict(x_train)\n",
    "predknn=knn.predict(x_test)\n",
    "\n",
    "print(accuracy_score(y_test,predknn)*100)"
   ]
  },
  {
   "cell_type": "code",
   "execution_count": 84,
   "id": "0f13ed4d",
   "metadata": {},
   "outputs": [
    {
     "name": "stdout",
     "output_type": "stream",
     "text": [
      "70.29288702928869\n",
      "[[77 31]\n",
      " [40 91]]\n",
      "              precision    recall  f1-score   support\n",
      "\n",
      "           0       0.66      0.71      0.68       108\n",
      "           1       0.75      0.69      0.72       131\n",
      "\n",
      "    accuracy                           0.70       239\n",
      "   macro avg       0.70      0.70      0.70       239\n",
      "weighted avg       0.71      0.70      0.70       239\n",
      "\n"
     ]
    }
   ],
   "source": [
    "print(accuracy_score(y_test,predknn)*100)\n",
    "print(confusion_matrix(y_test,predknn))\n",
    "print(classification_report(y_test,predknn))"
   ]
  },
  {
   "cell_type": "markdown",
   "id": "400cb286",
   "metadata": {},
   "source": [
    "- the recall is much better with KNeighbors than LogisticRegression"
   ]
  },
  {
   "cell_type": "code",
   "execution_count": 85,
   "id": "1840bc94",
   "metadata": {},
   "outputs": [
    {
     "name": "stdout",
     "output_type": "stream",
     "text": [
      "0.29707112970711297\n"
     ]
    }
   ],
   "source": [
    "#checking erro for KNeighbors\n",
    "\n",
    "mseknn=mean_squared_error(y_test,predknn)\n",
    "\n",
    "print(mseknn)"
   ]
  },
  {
   "cell_type": "code",
   "execution_count": 86,
   "id": "3fd6c1d2",
   "metadata": {},
   "outputs": [
    {
     "name": "stdout",
     "output_type": "stream",
     "text": [
      "At cv= 2\n",
      "Cross Validation Score is: 73.61809045226131\n",
      "Accuracy score is: 70.29288702928869 \n",
      "\n",
      "At cv= 3\n",
      "Cross Validation Score is: 74.49614602544095\n",
      "Accuracy score is: 70.29288702928869 \n",
      "\n",
      "At cv= 4\n",
      "Cross Validation Score is: 74.62311557788945\n",
      "Accuracy score is: 70.29288702928869 \n",
      "\n",
      "At cv= 5\n",
      "Cross Validation Score is: 73.8687106918239\n",
      "Accuracy score is: 70.29288702928869 \n",
      "\n",
      "At cv= 6\n",
      "Cross Validation Score is: 74.24527227158806\n",
      "Accuracy score is: 70.29288702928869 \n",
      "\n",
      "At cv= 7\n",
      "Cross Validation Score is: 74.74770998292189\n",
      "Accuracy score is: 70.29288702928869 \n",
      "\n",
      "At cv= 8\n",
      "Cross Validation Score is: 75.625\n",
      "Accuracy score is: 70.29288702928869 \n",
      "\n",
      "At cv= 9\n",
      "Cross Validation Score is: 75.374531835206\n",
      "Accuracy score is: 70.29288702928869 \n",
      "\n"
     ]
    }
   ],
   "source": [
    "#checking cross validation score for KNeighbors\n",
    "\n",
    "for j in range(2,10):\n",
    "    knns=cross_val_score(knn,train_x,train_y,cv=j)\n",
    "    knnc=knns.mean()\n",
    "    print('At cv=',j)\n",
    "    print('Cross Validation Score is:',knnc*100)\n",
    "    print('Accuracy score is:',accuracy_score(y_test,predknn)*100,'\\n')"
   ]
  },
  {
   "cell_type": "code",
   "execution_count": 87,
   "id": "2b3a38d4",
   "metadata": {},
   "outputs": [
    {
     "name": "stdout",
     "output_type": "stream",
     "text": [
      "76.98744769874477\n"
     ]
    }
   ],
   "source": [
    "#decisonTree\n",
    "\n",
    "dtc=DecisionTreeClassifier()\n",
    "x_train,x_test,y_train,y_test=train_test_split(train_x,train_y,random_state=33,test_size=.30)\n",
    "dtc.fit(x_train,y_train)\n",
    "predtrain=dtc.predict(x_train)\n",
    "preddtc=dtc.predict(x_test)\n",
    "\n",
    "print(accuracy_score(y_test,preddtc)*100)"
   ]
  },
  {
   "cell_type": "code",
   "execution_count": 88,
   "id": "f9f21502",
   "metadata": {},
   "outputs": [
    {
     "name": "stdout",
     "output_type": "stream",
     "text": [
      "76.98744769874477\n",
      "[[86 22]\n",
      " [33 98]]\n",
      "              precision    recall  f1-score   support\n",
      "\n",
      "           0       0.72      0.80      0.76       108\n",
      "           1       0.82      0.75      0.78       131\n",
      "\n",
      "    accuracy                           0.77       239\n",
      "   macro avg       0.77      0.77      0.77       239\n",
      "weighted avg       0.77      0.77      0.77       239\n",
      "\n"
     ]
    }
   ],
   "source": [
    "print(accuracy_score(y_test,preddtc)*100)\n",
    "print(confusion_matrix(y_test,preddtc))\n",
    "print(classification_report(y_test,preddtc))"
   ]
  },
  {
   "cell_type": "code",
   "execution_count": 89,
   "id": "0f44fdcb",
   "metadata": {},
   "outputs": [
    {
     "name": "stdout",
     "output_type": "stream",
     "text": [
      "0.2301255230125523\n"
     ]
    }
   ],
   "source": [
    "#checking error for DecisionTree\n",
    "\n",
    "msedtc=mean_squared_error(y_test,preddtc)\n",
    "\n",
    "print(msedtc)"
   ]
  },
  {
   "cell_type": "code",
   "execution_count": 90,
   "id": "a9181a67",
   "metadata": {},
   "outputs": [
    {
     "name": "stdout",
     "output_type": "stream",
     "text": [
      "At cv= 2\n",
      "Cross Validation Score is: 75.7537688442211\n",
      "Accuracy score is: 76.98744769874477 \n",
      "\n",
      "At cv= 3\n",
      "Cross Validation Score is: 76.89033905518514\n",
      "Accuracy score is: 76.98744769874477 \n",
      "\n",
      "At cv= 4\n",
      "Cross Validation Score is: 78.14070351758792\n",
      "Accuracy score is: 76.98744769874477 \n",
      "\n",
      "At cv= 5\n",
      "Cross Validation Score is: 76.38915094339623\n",
      "Accuracy score is: 76.98744769874477 \n",
      "\n",
      "At cv= 6\n",
      "Cross Validation Score is: 77.52715121136174\n",
      "Accuracy score is: 76.98744769874477 \n",
      "\n",
      "At cv= 7\n",
      "Cross Validation Score is: 78.40841040654735\n",
      "Accuracy score is: 76.98744769874477 \n",
      "\n",
      "At cv= 8\n",
      "Cross Validation Score is: 77.54419191919192\n",
      "Accuracy score is: 76.98744769874477 \n",
      "\n",
      "At cv= 9\n",
      "Cross Validation Score is: 79.05317217114968\n",
      "Accuracy score is: 76.98744769874477 \n",
      "\n"
     ]
    }
   ],
   "source": [
    "#checking cross validation score for DecsionTree\n",
    "\n",
    "for j in range(2,10):\n",
    "    dtcs=cross_val_score(dtc,train_x,train_y,cv=j)\n",
    "    dtcc=dtcs.mean()\n",
    "    print('At cv=',j)\n",
    "    print('Cross Validation Score is:',dtcc*100)\n",
    "    print('Accuracy score is:',accuracy_score(y_test,preddtc)*100,'\\n')"
   ]
  },
  {
   "cell_type": "code",
   "execution_count": 91,
   "id": "cb86bc56",
   "metadata": {},
   "outputs": [
    {
     "name": "stdout",
     "output_type": "stream",
     "text": [
      "71.1297071129707\n"
     ]
    }
   ],
   "source": [
    "#SVC\n",
    "\n",
    "svc=SVC()\n",
    "x_train,x_test,y_train,y_test=train_test_split(train_x,train_y,random_state=33,test_size=.30)\n",
    "svc.fit(x_train,y_train)\n",
    "predtrain=svc.predict(x_train)\n",
    "predsvc=svc.predict(x_test)\n",
    "\n",
    "print(accuracy_score(y_test,predsvc)*100)"
   ]
  },
  {
   "cell_type": "code",
   "execution_count": 92,
   "id": "e599efa0",
   "metadata": {},
   "outputs": [
    {
     "name": "stdout",
     "output_type": "stream",
     "text": [
      "71.1297071129707\n",
      "[[ 67  41]\n",
      " [ 28 103]]\n",
      "              precision    recall  f1-score   support\n",
      "\n",
      "           0       0.71      0.62      0.66       108\n",
      "           1       0.72      0.79      0.75       131\n",
      "\n",
      "    accuracy                           0.71       239\n",
      "   macro avg       0.71      0.70      0.70       239\n",
      "weighted avg       0.71      0.71      0.71       239\n",
      "\n"
     ]
    }
   ],
   "source": [
    "print(accuracy_score(y_test,predsvc)*100)\n",
    "print(confusion_matrix(y_test,predsvc))\n",
    "print(classification_report(y_test,predsvc))"
   ]
  },
  {
   "cell_type": "code",
   "execution_count": 93,
   "id": "60949267",
   "metadata": {},
   "outputs": [
    {
     "name": "stdout",
     "output_type": "stream",
     "text": [
      "0.28870292887029286\n"
     ]
    }
   ],
   "source": [
    "#checking error for SVC\n",
    "\n",
    "msesvc=mean_squared_error(y_test,predsvc)\n",
    "\n",
    "print(msesvc)"
   ]
  },
  {
   "cell_type": "code",
   "execution_count": 94,
   "id": "fbaf3298",
   "metadata": {},
   "outputs": [
    {
     "name": "stdout",
     "output_type": "stream",
     "text": [
      "At cv= 2\n",
      "Cross Validation Score is: 79.05317217114968\n",
      "Accuracy score is: 71.1297071129707 \n",
      "\n",
      "At cv= 3\n",
      "Cross Validation Score is: 79.05317217114968\n",
      "Accuracy score is: 71.1297071129707 \n",
      "\n",
      "At cv= 4\n",
      "Cross Validation Score is: 79.05317217114968\n",
      "Accuracy score is: 71.1297071129707 \n",
      "\n",
      "At cv= 5\n",
      "Cross Validation Score is: 79.05317217114968\n",
      "Accuracy score is: 71.1297071129707 \n",
      "\n"
     ]
    }
   ],
   "source": [
    "#checking cross validation score for SVC\n",
    "\n",
    "for j in range(2,6):\n",
    "    svcs=cross_val_score(svc,train_x,train_y,cv=j)\n",
    "    svcc=dtcs.mean()\n",
    "    print('At cv=',j)\n",
    "    print('Cross Validation Score is:',svcc*100)\n",
    "    print('Accuracy score is:',accuracy_score(y_test,predsvc)*100,'\\n')"
   ]
  },
  {
   "cell_type": "markdown",
   "id": "e526d7cc",
   "metadata": {},
   "source": [
    "- the model is underfitting with SVC"
   ]
  },
  {
   "cell_type": "markdown",
   "id": "e65ffd31",
   "metadata": {},
   "source": [
    "# Ensemble:"
   ]
  },
  {
   "cell_type": "code",
   "execution_count": 95,
   "id": "2d4595d4",
   "metadata": {},
   "outputs": [],
   "source": [
    "#now, let's try some ensemble techniques:\n",
    "\n",
    "from sklearn.ensemble import RandomForestClassifier,AdaBoostClassifier,GradientBoostingClassifier"
   ]
  },
  {
   "cell_type": "code",
   "execution_count": 96,
   "id": "e66237d6",
   "metadata": {},
   "outputs": [
    {
     "name": "stdout",
     "output_type": "stream",
     "text": [
      "80.75313807531381\n"
     ]
    }
   ],
   "source": [
    "#RandomForestClassifier\n",
    "\n",
    "rf=RandomForestClassifier()\n",
    "x_train,x_test,y_train,y_test=train_test_split(train_x,train_y,random_state=33,test_size=.30)\n",
    "rf.fit(x_train,y_train)\n",
    "predtrain=rf.predict(x_train)\n",
    "predrf=rf.predict(x_test)\n",
    "\n",
    "print(accuracy_score(y_test,predrf)*100)"
   ]
  },
  {
   "cell_type": "code",
   "execution_count": 97,
   "id": "70b8a331",
   "metadata": {},
   "outputs": [
    {
     "name": "stdout",
     "output_type": "stream",
     "text": [
      "80.75313807531381\n",
      "[[ 83  25]\n",
      " [ 21 110]]\n",
      "              precision    recall  f1-score   support\n",
      "\n",
      "           0       0.80      0.77      0.78       108\n",
      "           1       0.81      0.84      0.83       131\n",
      "\n",
      "    accuracy                           0.81       239\n",
      "   macro avg       0.81      0.80      0.81       239\n",
      "weighted avg       0.81      0.81      0.81       239\n",
      "\n"
     ]
    }
   ],
   "source": [
    "print(accuracy_score(y_test,predrf)*100)\n",
    "print(confusion_matrix(y_test,predrf))\n",
    "print(classification_report(y_test,predrf))"
   ]
  },
  {
   "cell_type": "markdown",
   "id": "c9b653a9",
   "metadata": {},
   "source": [
    "- recall is poor with RandomForest though accuracy is great"
   ]
  },
  {
   "cell_type": "code",
   "execution_count": 98,
   "id": "252d94d7",
   "metadata": {},
   "outputs": [
    {
     "name": "stdout",
     "output_type": "stream",
     "text": [
      "0.19246861924686193\n"
     ]
    }
   ],
   "source": [
    "#checking error for RandomForest\n",
    "\n",
    "mserf=mean_squared_error(y_test,predrf)\n",
    "\n",
    "print(mserf)"
   ]
  },
  {
   "cell_type": "code",
   "execution_count": 99,
   "id": "f4fb9fb3",
   "metadata": {},
   "outputs": [
    {
     "name": "stdout",
     "output_type": "stream",
     "text": [
      "At cv= 2\n",
      "Cross Validation Score is: 78.64321608040201\n",
      "Accuracy score is: 80.75313807531381 \n",
      "\n",
      "At cv= 3\n",
      "Cross Validation Score is: 81.91374663072777\n",
      "Accuracy score is: 80.75313807531381 \n",
      "\n",
      "At cv= 4\n",
      "Cross Validation Score is: 83.04020100502512\n",
      "Accuracy score is: 80.75313807531381 \n",
      "\n",
      "At cv= 5\n",
      "Cross Validation Score is: 83.7995283018868\n",
      "Accuracy score is: 80.75313807531381 \n",
      "\n",
      "At cv= 6\n",
      "Cross Validation Score is: 83.18143844459634\n",
      "Accuracy score is: 80.75313807531381 \n",
      "\n"
     ]
    }
   ],
   "source": [
    "#checking cross validation score for RandomForest\n",
    "\n",
    "for j in range(2,7):\n",
    "    rfs=cross_val_score(rf,train_x,train_y,cv=j)\n",
    "    rfc=rfs.mean()\n",
    "    print('At cv=',j)\n",
    "    print('Cross Validation Score is:',rfc*100)\n",
    "    print('Accuracy score is:',accuracy_score(y_test,predrf)*100,'\\n')"
   ]
  },
  {
   "cell_type": "code",
   "execution_count": 100,
   "id": "e2c2285f",
   "metadata": {},
   "outputs": [
    {
     "name": "stdout",
     "output_type": "stream",
     "text": [
      "75.73221757322176\n"
     ]
    }
   ],
   "source": [
    "#AdaBoostClassifier\n",
    "\n",
    "ada=AdaBoostClassifier()\n",
    "x_train,x_test,y_train,y_test=train_test_split(train_x,train_y,random_state=33,test_size=.30)\n",
    "ada.fit(x_train,y_train)\n",
    "predtrain=ada.predict(x_train)\n",
    "predada=ada.predict(x_test)\n",
    "\n",
    "print(accuracy_score(y_test,predada)*100)"
   ]
  },
  {
   "cell_type": "code",
   "execution_count": 101,
   "id": "72815cc8",
   "metadata": {},
   "outputs": [
    {
     "name": "stdout",
     "output_type": "stream",
     "text": [
      "75.73221757322176\n",
      "[[ 76  32]\n",
      " [ 26 105]]\n",
      "              precision    recall  f1-score   support\n",
      "\n",
      "           0       0.75      0.70      0.72       108\n",
      "           1       0.77      0.80      0.78       131\n",
      "\n",
      "    accuracy                           0.76       239\n",
      "   macro avg       0.76      0.75      0.75       239\n",
      "weighted avg       0.76      0.76      0.76       239\n",
      "\n"
     ]
    }
   ],
   "source": [
    "print(accuracy_score(y_test,predada)*100)\n",
    "print(confusion_matrix(y_test,predada))\n",
    "print(classification_report(y_test,predada))"
   ]
  },
  {
   "cell_type": "code",
   "execution_count": 102,
   "id": "e9fb814d",
   "metadata": {},
   "outputs": [
    {
     "name": "stdout",
     "output_type": "stream",
     "text": [
      "0.24267782426778242\n"
     ]
    }
   ],
   "source": [
    "#checking error for AdaBoost\n",
    "\n",
    "mseada=mean_squared_error(y_test,predada)\n",
    "\n",
    "print(mseada)"
   ]
  },
  {
   "cell_type": "code",
   "execution_count": 103,
   "id": "dc39e229",
   "metadata": {},
   "outputs": [
    {
     "name": "stdout",
     "output_type": "stream",
     "text": [
      "At cv= 2\n",
      "Cross Validation Score is: 71.73366834170854\n",
      "Accuracy score is: 75.73221757322176 \n",
      "\n",
      "At cv= 3\n",
      "Cross Validation Score is: 73.24254031304676\n",
      "Accuracy score is: 75.73221757322176 \n",
      "\n",
      "At cv= 4\n",
      "Cross Validation Score is: 73.36683417085426\n",
      "Accuracy score is: 75.73221757322176 \n",
      "\n",
      "At cv= 5\n",
      "Cross Validation Score is: 75.51179245283019\n",
      "Accuracy score is: 75.73221757322176 \n",
      "\n"
     ]
    }
   ],
   "source": [
    "#checking cross validation score for AdaBoost\n",
    "\n",
    "for j in range(2,6):\n",
    "    adas=cross_val_score(ada,train_x,train_y,cv=j)\n",
    "    adac=adas.mean()\n",
    "    print('At cv=',j)\n",
    "    print('Cross Validation Score is:',adac*100)\n",
    "    print('Accuracy score is:',accuracy_score(y_test,predada)*100,'\\n')"
   ]
  },
  {
   "cell_type": "code",
   "execution_count": 104,
   "id": "654b907b",
   "metadata": {},
   "outputs": [
    {
     "name": "stdout",
     "output_type": "stream",
     "text": [
      "79.49790794979079\n"
     ]
    }
   ],
   "source": [
    "#GradientBoostingClassifier\n",
    "\n",
    "gb=GradientBoostingClassifier()\n",
    "x_train,x_test,y_train,y_test=train_test_split(train_x,train_y,random_state=33,test_size=.30)\n",
    "gb.fit(x_train,y_train)\n",
    "predtrain=gb.predict(x_train)\n",
    "predgb=gb.predict(x_test)\n",
    "\n",
    "print(accuracy_score(y_test,predgb)*100)"
   ]
  },
  {
   "cell_type": "code",
   "execution_count": 105,
   "id": "3f39c0db",
   "metadata": {},
   "outputs": [
    {
     "name": "stdout",
     "output_type": "stream",
     "text": [
      "79.49790794979079\n",
      "[[ 77  31]\n",
      " [ 18 113]]\n",
      "              precision    recall  f1-score   support\n",
      "\n",
      "           0       0.81      0.71      0.76       108\n",
      "           1       0.78      0.86      0.82       131\n",
      "\n",
      "    accuracy                           0.79       239\n",
      "   macro avg       0.80      0.79      0.79       239\n",
      "weighted avg       0.80      0.79      0.79       239\n",
      "\n"
     ]
    }
   ],
   "source": [
    "print(accuracy_score(y_test,predgb)*100)\n",
    "print(confusion_matrix(y_test,predgb))\n",
    "print(classification_report(y_test,predgb))"
   ]
  },
  {
   "cell_type": "code",
   "execution_count": 106,
   "id": "dfd86f6c",
   "metadata": {},
   "outputs": [
    {
     "name": "stdout",
     "output_type": "stream",
     "text": [
      "0.20502092050209206\n"
     ]
    }
   ],
   "source": [
    "msegb=mean_squared_error(y_test,predgb)\n",
    "\n",
    "print(msegb)"
   ]
  },
  {
   "cell_type": "code",
   "execution_count": 107,
   "id": "4c69c614",
   "metadata": {},
   "outputs": [
    {
     "name": "stdout",
     "output_type": "stream",
     "text": [
      "At cv= 2\n",
      "Cross Validation Score is: 74.74874371859298\n",
      "Accuracy score is: 79.49790794979079 \n",
      "\n",
      "At cv= 3\n",
      "Cross Validation Score is: 76.76644441291907\n",
      "Accuracy score is: 79.49790794979079 \n",
      "\n",
      "At cv= 4\n",
      "Cross Validation Score is: 79.52261306532664\n",
      "Accuracy score is: 79.49790794979079 \n",
      "\n",
      "At cv= 5\n",
      "Cross Validation Score is: 79.28694968553458\n",
      "Accuracy score is: 79.49790794979079 \n",
      "\n"
     ]
    }
   ],
   "source": [
    "#checking cross validation score for GradientBoosting\n",
    "\n",
    "for j in range(2,6):\n",
    "    gbs=cross_val_score(gb,train_x,train_y,cv=j)\n",
    "    gbc=gbs.mean()\n",
    "    print('At cv=',j)\n",
    "    print('Cross Validation Score is:',gbc*100)\n",
    "    print('Accuracy score is:',accuracy_score(y_test,predgb)*100,'\\n')"
   ]
  },
  {
   "cell_type": "code",
   "execution_count": 108,
   "id": "e5381fe3",
   "metadata": {},
   "outputs": [
    {
     "data": {
      "text/html": [
       "<div>\n",
       "<style scoped>\n",
       "    .dataframe tbody tr th:only-of-type {\n",
       "        vertical-align: middle;\n",
       "    }\n",
       "\n",
       "    .dataframe tbody tr th {\n",
       "        vertical-align: top;\n",
       "    }\n",
       "\n",
       "    .dataframe thead th {\n",
       "        text-align: right;\n",
       "    }\n",
       "</style>\n",
       "<table border=\"1\" class=\"dataframe\">\n",
       "  <thead>\n",
       "    <tr style=\"text-align: right;\">\n",
       "      <th></th>\n",
       "      <th>Mean Squared Error</th>\n",
       "      <th>Accuracy Score</th>\n",
       "    </tr>\n",
       "  </thead>\n",
       "  <tbody>\n",
       "    <tr>\n",
       "      <th>LogisticRegression</th>\n",
       "      <td>0.271967</td>\n",
       "      <td>0.728033</td>\n",
       "    </tr>\n",
       "    <tr>\n",
       "      <th>KNeighborsClassifier</th>\n",
       "      <td>0.297071</td>\n",
       "      <td>0.702929</td>\n",
       "    </tr>\n",
       "    <tr>\n",
       "      <th>DecisionTreeClassifier</th>\n",
       "      <td>0.230126</td>\n",
       "      <td>0.769874</td>\n",
       "    </tr>\n",
       "    <tr>\n",
       "      <th>SVC</th>\n",
       "      <td>0.288703</td>\n",
       "      <td>0.711297</td>\n",
       "    </tr>\n",
       "    <tr>\n",
       "      <th>AdaBoostClassifer</th>\n",
       "      <td>0.242678</td>\n",
       "      <td>0.757322</td>\n",
       "    </tr>\n",
       "    <tr>\n",
       "      <th>GradientBoostingClassifier</th>\n",
       "      <td>0.205021</td>\n",
       "      <td>0.794979</td>\n",
       "    </tr>\n",
       "    <tr>\n",
       "      <th>RabdomForestClassifier</th>\n",
       "      <td>0.192469</td>\n",
       "      <td>0.807531</td>\n",
       "    </tr>\n",
       "  </tbody>\n",
       "</table>\n",
       "</div>"
      ],
      "text/plain": [
       "                            Mean Squared Error  Accuracy Score\n",
       "LogisticRegression                    0.271967        0.728033\n",
       "KNeighborsClassifier                  0.297071        0.702929\n",
       "DecisionTreeClassifier                0.230126        0.769874\n",
       "SVC                                   0.288703        0.711297\n",
       "AdaBoostClassifer                     0.242678        0.757322\n",
       "GradientBoostingClassifier            0.205021        0.794979\n",
       "RabdomForestClassifier                0.192469        0.807531"
      ]
     },
     "execution_count": 108,
     "metadata": {},
     "output_type": "execute_result"
    }
   ],
   "source": [
    "from sklearn.metrics import accuracy_score as acs\n",
    "\n",
    "algodf=pd.DataFrame({'Mean Squared Error':[mselr,mseknn,msedtc,msesvc,mseada,msegb,mserf],'Accuracy Score':[acs(y_test,predlr),acs(y_test,predknn),acs(y_test,preddtc),acs(y_test,predsvc),acs(y_test,predada),acs(y_test,predgb),acs(y_test,predrf)]},index=['LogisticRegression','KNeighborsClassifier','DecisionTreeClassifier','SVC','AdaBoostClassifer','GradientBoostingClassifier','RabdomForestClassifier'])\n",
    "algodf"
   ]
  },
  {
   "cell_type": "markdown",
   "id": "0b3f5f2e",
   "metadata": {},
   "source": [
    "- the model is performing best with RandomForestClassifier"
   ]
  },
  {
   "cell_type": "code",
   "execution_count": 145,
   "id": "5bfaa7fe",
   "metadata": {},
   "outputs": [
    {
     "name": "stdout",
     "output_type": "stream",
     "text": [
      "{'criterion': 'gini', 'max_features': 'auto'}\n"
     ]
    }
   ],
   "source": [
    "#doing hyperparametertuning on RandomForest for best results\n",
    "\n",
    "from sklearn.model_selection import GridSearchCV\n",
    "\n",
    "rf=RandomForestClassifier()\n",
    "parameters={'criterion':[\"gini\", \"entropy\"],'max_features':['sqrt','log2','auto']}\n",
    "clf=GridSearchCV(rf,parameters)\n",
    "x_train,x_test,y_train,y_test=train_test_split(train_x,train_y,random_state=33,test_size=.30)\n",
    "clf.fit(x_train,y_train)\n",
    "\n",
    "print(clf.best_params_)"
   ]
  },
  {
   "cell_type": "code",
   "execution_count": 189,
   "id": "8e344097",
   "metadata": {},
   "outputs": [
    {
     "name": "stdout",
     "output_type": "stream",
     "text": [
      "At random state: 95\n",
      "86.19246861924687 \n",
      "\n"
     ]
    }
   ],
   "source": [
    "#finding a good random state\n",
    "\n",
    "for i in range(100):\n",
    "    rf=RandomForestClassifier(criterion='gini',max_features='auto')\n",
    "    x_train,x_test,y_train,y_test=train_test_split(train_x,train_y,random_state=i,test_size=.30)\n",
    "    rf.fit(x_train,y_train)\n",
    "    predrf=rf.predict(x_test)\n",
    "    if round(accuracy_score(y_test,predrf)*100)==86:\n",
    "        print('At random state:',i)\n",
    "        print(accuracy_score(y_test,predrf)*100,'\\n')"
   ]
  },
  {
   "cell_type": "code",
   "execution_count": 214,
   "id": "cd762f3d",
   "metadata": {},
   "outputs": [
    {
     "name": "stdout",
     "output_type": "stream",
     "text": [
      "86.19246861924687\n"
     ]
    }
   ],
   "source": [
    "#using the random state as 1\n",
    "\n",
    "rf=RandomForestClassifier(criterion='gini', max_features= 'auto')\n",
    "x_train,x_test,y_train,y_test=train_test_split(train_x,train_y,random_state=95,test_size=.30)\n",
    "rf.fit(x_train,y_train)\n",
    "predtrain=rf.predict(x_train)\n",
    "predrf=rf.predict(x_test)\n",
    "print(accuracy_score(y_test,predrf)*100)"
   ]
  },
  {
   "cell_type": "code",
   "execution_count": 146,
   "id": "f97f0560",
   "metadata": {},
   "outputs": [
    {
     "name": "stdout",
     "output_type": "stream",
     "text": [
      "At cv= 2\n",
      "Cross Validation Score is: 79.52261306532662 \n",
      "\n",
      "At cv= 3\n",
      "Cross Validation Score is: 82.04237007613374 \n",
      "\n",
      "At cv= 4\n",
      "Cross Validation Score is: 83.91959798994975 \n",
      "\n",
      "At cv= 5\n",
      "Cross Validation Score is: 83.67138364779876 \n",
      "\n",
      "At cv= 6\n",
      "Cross Validation Score is: 84.80766309713678 \n",
      "\n",
      "At cv= 7\n",
      "Cross Validation Score is: 84.18723800652073 \n",
      "\n",
      "At cv= 8\n",
      "Cross Validation Score is: 84.94318181818181 \n",
      "\n",
      "At cv= 9\n",
      "Cross Validation Score is: 85.07972988310067 \n",
      "\n",
      "At cv= 10\n",
      "Cross Validation Score is: 83.80696202531645 \n",
      "\n",
      "At cv= 11\n",
      "Cross Validation Score is: 84.70319634703198 \n",
      "\n",
      "At cv= 12\n",
      "Cross Validation Score is: 85.0821649329112 \n",
      "\n",
      "At cv= 13\n",
      "Cross Validation Score is: 85.57743155839401 \n",
      "\n",
      "At cv= 14\n",
      "Cross Validation Score is: 85.06534192624419 \n",
      "\n",
      "At cv= 15\n",
      "Cross Validation Score is: 85.05474027486606 \n",
      "\n",
      "At cv= 16\n",
      "Cross Validation Score is: 85.46173469387755 \n",
      "\n",
      "At cv= 17\n",
      "Cross Validation Score is: 85.46008597703653 \n",
      "\n",
      "At cv= 18\n",
      "Cross Validation Score is: 85.21885521885521 \n",
      "\n",
      "At cv= 19\n",
      "Cross Validation Score is: 85.200806895287 \n",
      "\n",
      "At cv= 20\n",
      "Cross Validation Score is: 85.21153846153847 \n",
      "\n"
     ]
    }
   ],
   "source": [
    "#checking for cross validation score\n",
    "\n",
    "rf=RandomForestClassifier(criterion='gini',max_features='auto')\n",
    "for j in range(2,21):\n",
    "    rfs=cross_val_score(rf,train_x,train_y,cv=j)\n",
    "    rfc=rfs.mean()\n",
    "    print('At cv=',j)\n",
    "    print('Cross Validation Score is:',rfc*100,'\\n')"
   ]
  },
  {
   "cell_type": "code",
   "execution_count": 161,
   "id": "cf509433",
   "metadata": {},
   "outputs": [
    {
     "name": "stdout",
     "output_type": "stream",
     "text": [
      "Cross Validation Score is: 86.0859130293292 \n",
      "\n"
     ]
    }
   ],
   "source": [
    "#checking for cross validation score at cv=13\n",
    "\n",
    "rf=RandomForestClassifier(criterion='entropy', max_features= 'sqrt')\n",
    "rfs=cross_val_score(rf,train_x,train_y,cv=13)\n",
    "rfc=rfs.mean()\n",
    "print('Cross Validation Score is:',rfc*100,'\\n')"
   ]
  },
  {
   "cell_type": "code",
   "execution_count": 162,
   "id": "b9f508c8",
   "metadata": {},
   "outputs": [
    {
     "name": "stdout",
     "output_type": "stream",
     "text": [
      "              precision    recall  f1-score   support\n",
      "\n",
      "           0       0.86      0.85      0.85       114\n",
      "           1       0.87      0.87      0.87       125\n",
      "\n",
      "    accuracy                           0.86       239\n",
      "   macro avg       0.86      0.86      0.86       239\n",
      "weighted avg       0.86      0.86      0.86       239\n",
      "\n",
      "[[ 97  17]\n",
      " [ 16 109]]\n"
     ]
    }
   ],
   "source": [
    "print(classification_report(y_test,predrf))\n",
    "print(confusion_matrix(y_test,predrf))"
   ]
  },
  {
   "cell_type": "markdown",
   "id": "997c792a",
   "metadata": {},
   "source": [
    "- the recall has been improved after Hyperparameter Tuning\n",
    "- Precision is also great"
   ]
  },
  {
   "cell_type": "code",
   "execution_count": 215,
   "id": "8ba0a62d",
   "metadata": {},
   "outputs": [
    {
     "name": "stdout",
     "output_type": "stream",
     "text": [
      "Mean Squared Error: 0.13807531380753138\n",
      "Root Mean Squared Error: 0.3715848675706956\n"
     ]
    }
   ],
   "source": [
    "print('Mean Squared Error:',mean_squared_error(y_test,predrf))\n",
    "print('Root Mean Squared Error:',np.sqrt(mean_squared_error(y_test,predrf)))"
   ]
  },
  {
   "cell_type": "markdown",
   "id": "c3a93227",
   "metadata": {},
   "source": [
    "- the errors are close to 0, so the model is working well with great accuracy too"
   ]
  },
  {
   "cell_type": "code",
   "execution_count": 164,
   "id": "f5599f3e",
   "metadata": {},
   "outputs": [
    {
     "data": {
      "image/png": "[encoded data removed]",
      "text/plain": [
       "<Figure size 432x288 with 1 Axes>"
      ]
     },
     "metadata": {
      "needs_background": "light"
     },
     "output_type": "display_data"
    }
   ],
   "source": [
    "#roc auc plotting\n",
    "\n",
    "\n",
    "fpr,tpr,thresholds=roc_curve(y_test,predrf)\n",
    "\n",
    "roc_auc=auc(fpr,tpr)\n",
    "\n",
    "plt.figure()\n",
    "plt.plot(fpr,tpr,color='purple',lw=10,label='ROC curve (area=%.2f)'%roc_auc)\n",
    "plt.plot([0,1],[0,1],color='yellow',lw=10,linestyle='--')\n",
    "plt.xlim([0.0,1.0])\n",
    "plt.ylim([0.0,1.05])\n",
    "plt.xlabel('False Positive rate')\n",
    "plt.ylabel('True Positive rate')\n",
    "plt.title('Receiver Operating Characteristics')\n",
    "plt.legend(loc='lower right')\n",
    "plt.show()"
   ]
  },
  {
   "cell_type": "code",
   "execution_count": 217,
   "id": "f6325a70",
   "metadata": {},
   "outputs": [
    {
     "name": "stdout",
     "output_type": "stream",
     "text": [
      "The model is performing extremely well with RandomForestClassifier because we are getting both accuracy score and cross validation score as 86 \n",
      "\n",
      "Accuracy: 86\n",
      "Cross Validation Score: 86\n",
      "Area Under Curve: 0.861\n"
     ]
    }
   ],
   "source": [
    "print('The model is performing extremely well with RandomForestClassifier because we are getting both accuracy score and cross validation score as 86','\\n')\n",
    "print('Accuracy:',round(accuracy_score(y_test,predrf)*100))\n",
    "print('Cross Validation Score:',round(rfc*100))\n",
    "print('Area Under Curve:',round(auc(fpr,tpr),3))"
   ]
  },
  {
   "cell_type": "code",
   "execution_count": 218,
   "id": "82d88b0b",
   "metadata": {},
   "outputs": [
    {
     "data": {
      "text/html": [
       "<div>\n",
       "<style scoped>\n",
       "    .dataframe tbody tr th:only-of-type {\n",
       "        vertical-align: middle;\n",
       "    }\n",
       "\n",
       "    .dataframe tbody tr th {\n",
       "        vertical-align: top;\n",
       "    }\n",
       "\n",
       "    .dataframe thead th {\n",
       "        text-align: right;\n",
       "    }\n",
       "</style>\n",
       "<table border=\"1\" class=\"dataframe\">\n",
       "  <thead>\n",
       "    <tr style=\"text-align: right;\">\n",
       "      <th></th>\n",
       "      <th>Fraud Reported</th>\n",
       "      <th>Predicted Fraud Reported</th>\n",
       "    </tr>\n",
       "  </thead>\n",
       "  <tbody>\n",
       "    <tr>\n",
       "      <th>299</th>\n",
       "      <td>1</td>\n",
       "      <td>1</td>\n",
       "    </tr>\n",
       "    <tr>\n",
       "      <th>454</th>\n",
       "      <td>1</td>\n",
       "      <td>1</td>\n",
       "    </tr>\n",
       "    <tr>\n",
       "      <th>185</th>\n",
       "      <td>1</td>\n",
       "      <td>1</td>\n",
       "    </tr>\n",
       "    <tr>\n",
       "      <th>256</th>\n",
       "      <td>1</td>\n",
       "      <td>1</td>\n",
       "    </tr>\n",
       "    <tr>\n",
       "      <th>100</th>\n",
       "      <td>1</td>\n",
       "      <td>1</td>\n",
       "    </tr>\n",
       "    <tr>\n",
       "      <th>...</th>\n",
       "      <td>...</td>\n",
       "      <td>...</td>\n",
       "    </tr>\n",
       "    <tr>\n",
       "      <th>720</th>\n",
       "      <td>0</td>\n",
       "      <td>0</td>\n",
       "    </tr>\n",
       "    <tr>\n",
       "      <th>694</th>\n",
       "      <td>0</td>\n",
       "      <td>0</td>\n",
       "    </tr>\n",
       "    <tr>\n",
       "      <th>658</th>\n",
       "      <td>0</td>\n",
       "      <td>0</td>\n",
       "    </tr>\n",
       "    <tr>\n",
       "      <th>426</th>\n",
       "      <td>0</td>\n",
       "      <td>0</td>\n",
       "    </tr>\n",
       "    <tr>\n",
       "      <th>667</th>\n",
       "      <td>0</td>\n",
       "      <td>0</td>\n",
       "    </tr>\n",
       "  </tbody>\n",
       "</table>\n",
       "<p>239 rows × 2 columns</p>\n",
       "</div>"
      ],
      "text/plain": [
       "     Fraud Reported  Predicted Fraud Reported\n",
       "299               1                         1\n",
       "454               1                         1\n",
       "185               1                         1\n",
       "256               1                         1\n",
       "100               1                         1\n",
       "..              ...                       ...\n",
       "720               0                         0\n",
       "694               0                         0\n",
       "658               0                         0\n",
       "426               0                         0\n",
       "667               0                         0\n",
       "\n",
       "[239 rows x 2 columns]"
      ]
     },
     "execution_count": 218,
     "metadata": {},
     "output_type": "execute_result"
    }
   ],
   "source": [
    "preddf=pd.DataFrame({'Fraud Reported':y_test,'Predicted Fraud Reported':predrf})\n",
    "preddf"
   ]
  },
  {
   "cell_type": "code",
   "execution_count": 219,
   "id": "38f4e0e1",
   "metadata": {},
   "outputs": [],
   "source": [
    "#saving the best model\n",
    "\n",
    "import pickle\n",
    "\n",
    "pickle.dump(rf,open('loan.pkl','wb'))"
   ]
  },
  {
   "cell_type": "code",
   "execution_count": null,
   "id": "324836b3",
   "metadata": {},
   "outputs": [],
   "source": [
    "\n"
   ]
  }
 ],
 "metadata": {
  "kernelspec": {
   "display_name": "Python 3 (ipykernel)",
   "language": "python",
   "name": "python3"
  },
  "language_info": {
   "codemirror_mode": {
    "name": "ipython",
    "version": 3
   },
   "file_extension": ".py",
   "mimetype": "text/x-python",
   "name": "python",
   "nbconvert_exporter": "python",
   "pygments_lexer": "ipython3",
   "version": "3.9.7"
  }
 },
 "nbformat": 4,
 "nbformat_minor": 5
}
